{
 "cells": [
  {
   "cell_type": "markdown",
   "metadata": {},
   "source": [
    "### Imports"
   ]
  },
  {
   "cell_type": "code",
   "execution_count": 1,
   "metadata": {},
   "outputs": [
    {
     "name": "stdout",
     "output_type": "stream",
     "text": [
      "Requirement already satisfied: js2py in /home/rahul/.bin/miniconda3/envs/blockchain-stats/lib/python3.7/site-packages (0.66)\r\n",
      "Requirement already satisfied: tzlocal>=1.2 in /home/rahul/.bin/miniconda3/envs/blockchain-stats/lib/python3.7/site-packages (from js2py) (2.0.0)\r\n",
      "Requirement already satisfied: pyjsparser>=2.5.1 in /home/rahul/.bin/miniconda3/envs/blockchain-stats/lib/python3.7/site-packages (from js2py) (2.7.1)\r\n",
      "Requirement already satisfied: six>=1.10 in /home/rahul/.bin/miniconda3/envs/blockchain-stats/lib/python3.7/site-packages (from js2py) (1.12.0)\r\n",
      "Requirement already satisfied: pytz in /home/rahul/.bin/miniconda3/envs/blockchain-stats/lib/python3.7/site-packages (from tzlocal>=1.2->js2py) (2019.1)\r\n"
     ]
    },
    {
     "data": {
      "text/html": [
       "\n",
       "    <div class=\"bk-root\">\n",
       "        <a href=\"https://bokeh.pydata.org\" target=\"_blank\" class=\"bk-logo bk-logo-small bk-logo-notebook\"></a>\n",
       "        <span id=\"1001\">Loading BokehJS ...</span>\n",
       "    </div>"
      ]
     },
     "metadata": {},
     "output_type": "display_data"
    },
    {
     "data": {
      "application/javascript": [
       "\n",
       "(function(root) {\n",
       "  function now() {\n",
       "    return new Date();\n",
       "  }\n",
       "\n",
       "  var force = true;\n",
       "\n",
       "  if (typeof root._bokeh_onload_callbacks === \"undefined\" || force === true) {\n",
       "    root._bokeh_onload_callbacks = [];\n",
       "    root._bokeh_is_loading = undefined;\n",
       "  }\n",
       "\n",
       "  var JS_MIME_TYPE = 'application/javascript';\n",
       "  var HTML_MIME_TYPE = 'text/html';\n",
       "  var EXEC_MIME_TYPE = 'application/vnd.bokehjs_exec.v0+json';\n",
       "  var CLASS_NAME = 'output_bokeh rendered_html';\n",
       "\n",
       "  /**\n",
       "   * Render data to the DOM node\n",
       "   */\n",
       "  function render(props, node) {\n",
       "    var script = document.createElement(\"script\");\n",
       "    node.appendChild(script);\n",
       "  }\n",
       "\n",
       "  /**\n",
       "   * Handle when an output is cleared or removed\n",
       "   */\n",
       "  function handleClearOutput(event, handle) {\n",
       "    var cell = handle.cell;\n",
       "\n",
       "    var id = cell.output_area._bokeh_element_id;\n",
       "    var server_id = cell.output_area._bokeh_server_id;\n",
       "    // Clean up Bokeh references\n",
       "    if (id != null && id in Bokeh.index) {\n",
       "      Bokeh.index[id].model.document.clear();\n",
       "      delete Bokeh.index[id];\n",
       "    }\n",
       "\n",
       "    if (server_id !== undefined) {\n",
       "      // Clean up Bokeh references\n",
       "      var cmd = \"from bokeh.io.state import curstate; print(curstate().uuid_to_server['\" + server_id + \"'].get_sessions()[0].document.roots[0]._id)\";\n",
       "      cell.notebook.kernel.execute(cmd, {\n",
       "        iopub: {\n",
       "          output: function(msg) {\n",
       "            var id = msg.content.text.trim();\n",
       "            if (id in Bokeh.index) {\n",
       "              Bokeh.index[id].model.document.clear();\n",
       "              delete Bokeh.index[id];\n",
       "            }\n",
       "          }\n",
       "        }\n",
       "      });\n",
       "      // Destroy server and session\n",
       "      var cmd = \"import bokeh.io.notebook as ion; ion.destroy_server('\" + server_id + \"')\";\n",
       "      cell.notebook.kernel.execute(cmd);\n",
       "    }\n",
       "  }\n",
       "\n",
       "  /**\n",
       "   * Handle when a new output is added\n",
       "   */\n",
       "  function handleAddOutput(event, handle) {\n",
       "    var output_area = handle.output_area;\n",
       "    var output = handle.output;\n",
       "\n",
       "    // limit handleAddOutput to display_data with EXEC_MIME_TYPE content only\n",
       "    if ((output.output_type != \"display_data\") || (!output.data.hasOwnProperty(EXEC_MIME_TYPE))) {\n",
       "      return\n",
       "    }\n",
       "\n",
       "    var toinsert = output_area.element.find(\".\" + CLASS_NAME.split(' ')[0]);\n",
       "\n",
       "    if (output.metadata[EXEC_MIME_TYPE][\"id\"] !== undefined) {\n",
       "      toinsert[toinsert.length - 1].firstChild.textContent = output.data[JS_MIME_TYPE];\n",
       "      // store reference to embed id on output_area\n",
       "      output_area._bokeh_element_id = output.metadata[EXEC_MIME_TYPE][\"id\"];\n",
       "    }\n",
       "    if (output.metadata[EXEC_MIME_TYPE][\"server_id\"] !== undefined) {\n",
       "      var bk_div = document.createElement(\"div\");\n",
       "      bk_div.innerHTML = output.data[HTML_MIME_TYPE];\n",
       "      var script_attrs = bk_div.children[0].attributes;\n",
       "      for (var i = 0; i < script_attrs.length; i++) {\n",
       "        toinsert[toinsert.length - 1].firstChild.setAttribute(script_attrs[i].name, script_attrs[i].value);\n",
       "      }\n",
       "      // store reference to server id on output_area\n",
       "      output_area._bokeh_server_id = output.metadata[EXEC_MIME_TYPE][\"server_id\"];\n",
       "    }\n",
       "  }\n",
       "\n",
       "  function register_renderer(events, OutputArea) {\n",
       "\n",
       "    function append_mime(data, metadata, element) {\n",
       "      // create a DOM node to render to\n",
       "      var toinsert = this.create_output_subarea(\n",
       "        metadata,\n",
       "        CLASS_NAME,\n",
       "        EXEC_MIME_TYPE\n",
       "      );\n",
       "      this.keyboard_manager.register_events(toinsert);\n",
       "      // Render to node\n",
       "      var props = {data: data, metadata: metadata[EXEC_MIME_TYPE]};\n",
       "      render(props, toinsert[toinsert.length - 1]);\n",
       "      element.append(toinsert);\n",
       "      return toinsert\n",
       "    }\n",
       "\n",
       "    /* Handle when an output is cleared or removed */\n",
       "    events.on('clear_output.CodeCell', handleClearOutput);\n",
       "    events.on('delete.Cell', handleClearOutput);\n",
       "\n",
       "    /* Handle when a new output is added */\n",
       "    events.on('output_added.OutputArea', handleAddOutput);\n",
       "\n",
       "    /**\n",
       "     * Register the mime type and append_mime function with output_area\n",
       "     */\n",
       "    OutputArea.prototype.register_mime_type(EXEC_MIME_TYPE, append_mime, {\n",
       "      /* Is output safe? */\n",
       "      safe: true,\n",
       "      /* Index of renderer in `output_area.display_order` */\n",
       "      index: 0\n",
       "    });\n",
       "  }\n",
       "\n",
       "  // register the mime type if in Jupyter Notebook environment and previously unregistered\n",
       "  if (root.Jupyter !== undefined) {\n",
       "    var events = require('base/js/events');\n",
       "    var OutputArea = require('notebook/js/outputarea').OutputArea;\n",
       "\n",
       "    if (OutputArea.prototype.mime_types().indexOf(EXEC_MIME_TYPE) == -1) {\n",
       "      register_renderer(events, OutputArea);\n",
       "    }\n",
       "  }\n",
       "\n",
       "  \n",
       "  if (typeof (root._bokeh_timeout) === \"undefined\" || force === true) {\n",
       "    root._bokeh_timeout = Date.now() + 5000;\n",
       "    root._bokeh_failed_load = false;\n",
       "  }\n",
       "\n",
       "  var NB_LOAD_WARNING = {'data': {'text/html':\n",
       "     \"<div style='background-color: #fdd'>\\n\"+\n",
       "     \"<p>\\n\"+\n",
       "     \"BokehJS does not appear to have successfully loaded. If loading BokehJS from CDN, this \\n\"+\n",
       "     \"may be due to a slow or bad network connection. Possible fixes:\\n\"+\n",
       "     \"</p>\\n\"+\n",
       "     \"<ul>\\n\"+\n",
       "     \"<li>re-rerun `output_notebook()` to attempt to load from CDN again, or</li>\\n\"+\n",
       "     \"<li>use INLINE resources instead, as so:</li>\\n\"+\n",
       "     \"</ul>\\n\"+\n",
       "     \"<code>\\n\"+\n",
       "     \"from bokeh.resources import INLINE\\n\"+\n",
       "     \"output_notebook(resources=INLINE)\\n\"+\n",
       "     \"</code>\\n\"+\n",
       "     \"</div>\"}};\n",
       "\n",
       "  function display_loaded() {\n",
       "    var el = document.getElementById(\"1001\");\n",
       "    if (el != null) {\n",
       "      el.textContent = \"BokehJS is loading...\";\n",
       "    }\n",
       "    if (root.Bokeh !== undefined) {\n",
       "      if (el != null) {\n",
       "        el.textContent = \"BokehJS \" + root.Bokeh.version + \" successfully loaded.\";\n",
       "      }\n",
       "    } else if (Date.now() < root._bokeh_timeout) {\n",
       "      setTimeout(display_loaded, 100)\n",
       "    }\n",
       "  }\n",
       "\n",
       "\n",
       "  function run_callbacks() {\n",
       "    try {\n",
       "      root._bokeh_onload_callbacks.forEach(function(callback) {\n",
       "        if (callback != null)\n",
       "          callback();\n",
       "      });\n",
       "    } finally {\n",
       "      delete root._bokeh_onload_callbacks\n",
       "    }\n",
       "    console.debug(\"Bokeh: all callbacks have finished\");\n",
       "  }\n",
       "\n",
       "  function load_libs(css_urls, js_urls, callback) {\n",
       "    if (css_urls == null) css_urls = [];\n",
       "    if (js_urls == null) js_urls = [];\n",
       "\n",
       "    root._bokeh_onload_callbacks.push(callback);\n",
       "    if (root._bokeh_is_loading > 0) {\n",
       "      console.debug(\"Bokeh: BokehJS is being loaded, scheduling callback at\", now());\n",
       "      return null;\n",
       "    }\n",
       "    if (js_urls == null || js_urls.length === 0) {\n",
       "      run_callbacks();\n",
       "      return null;\n",
       "    }\n",
       "    console.debug(\"Bokeh: BokehJS not loaded, scheduling load and callback at\", now());\n",
       "    root._bokeh_is_loading = css_urls.length + js_urls.length;\n",
       "\n",
       "    function on_load() {\n",
       "      root._bokeh_is_loading--;\n",
       "      if (root._bokeh_is_loading === 0) {\n",
       "        console.debug(\"Bokeh: all BokehJS libraries/stylesheets loaded\");\n",
       "        run_callbacks()\n",
       "      }\n",
       "    }\n",
       "\n",
       "    function on_error() {\n",
       "      console.error(\"failed to load \" + url);\n",
       "    }\n",
       "\n",
       "    for (var i = 0; i < css_urls.length; i++) {\n",
       "      var url = css_urls[i];\n",
       "      const element = document.createElement(\"link\");\n",
       "      element.onload = on_load;\n",
       "      element.onerror = on_error;\n",
       "      element.rel = \"stylesheet\";\n",
       "      element.type = \"text/css\";\n",
       "      element.href = url;\n",
       "      console.debug(\"Bokeh: injecting link tag for BokehJS stylesheet: \", url);\n",
       "      document.body.appendChild(element);\n",
       "    }\n",
       "\n",
       "    for (var i = 0; i < js_urls.length; i++) {\n",
       "      var url = js_urls[i];\n",
       "      var element = document.createElement('script');\n",
       "      element.onload = on_load;\n",
       "      element.onerror = on_error;\n",
       "      element.async = false;\n",
       "      element.src = url;\n",
       "      console.debug(\"Bokeh: injecting script tag for BokehJS library: \", url);\n",
       "      document.head.appendChild(element);\n",
       "    }\n",
       "  };var element = document.getElementById(\"1001\");\n",
       "  if (element == null) {\n",
       "    console.error(\"Bokeh: ERROR: autoload.js configured with elementid '1001' but no matching script tag was found. \")\n",
       "    return false;\n",
       "  }\n",
       "\n",
       "  function inject_raw_css(css) {\n",
       "    const element = document.createElement(\"style\");\n",
       "    element.appendChild(document.createTextNode(css));\n",
       "    document.body.appendChild(element);\n",
       "  }\n",
       "\n",
       "  var js_urls = [\"https://cdn.pydata.org/bokeh/release/bokeh-1.3.4.min.js\", \"https://cdn.pydata.org/bokeh/release/bokeh-widgets-1.3.4.min.js\", \"https://cdn.pydata.org/bokeh/release/bokeh-tables-1.3.4.min.js\", \"https://cdn.pydata.org/bokeh/release/bokeh-gl-1.3.4.min.js\"];\n",
       "  var css_urls = [];\n",
       "\n",
       "  var inline_js = [\n",
       "    function(Bokeh) {\n",
       "      Bokeh.set_log_level(\"info\");\n",
       "    },\n",
       "    \n",
       "    function(Bokeh) {\n",
       "      \n",
       "    },\n",
       "    function(Bokeh) {} // ensure no trailing comma for IE\n",
       "  ];\n",
       "\n",
       "  function run_inline_js() {\n",
       "    \n",
       "    if ((root.Bokeh !== undefined) || (force === true)) {\n",
       "      for (var i = 0; i < inline_js.length; i++) {\n",
       "        inline_js[i].call(root, root.Bokeh);\n",
       "      }if (force === true) {\n",
       "        display_loaded();\n",
       "      }} else if (Date.now() < root._bokeh_timeout) {\n",
       "      setTimeout(run_inline_js, 100);\n",
       "    } else if (!root._bokeh_failed_load) {\n",
       "      console.log(\"Bokeh: BokehJS failed to load within specified timeout.\");\n",
       "      root._bokeh_failed_load = true;\n",
       "    } else if (force !== true) {\n",
       "      var cell = $(document.getElementById(\"1001\")).parents('.cell').data().cell;\n",
       "      cell.output_area.append_execute_result(NB_LOAD_WARNING)\n",
       "    }\n",
       "\n",
       "  }\n",
       "\n",
       "  if (root._bokeh_is_loading === 0) {\n",
       "    console.debug(\"Bokeh: BokehJS loaded, going straight to plotting\");\n",
       "    run_inline_js();\n",
       "  } else {\n",
       "    load_libs(css_urls, js_urls, function() {\n",
       "      console.debug(\"Bokeh: BokehJS plotting callback run at\", now());\n",
       "      run_inline_js();\n",
       "    });\n",
       "  }\n",
       "}(window));"
      ],
      "application/vnd.bokehjs_load.v0+json": "\n(function(root) {\n  function now() {\n    return new Date();\n  }\n\n  var force = true;\n\n  if (typeof root._bokeh_onload_callbacks === \"undefined\" || force === true) {\n    root._bokeh_onload_callbacks = [];\n    root._bokeh_is_loading = undefined;\n  }\n\n  \n\n  \n  if (typeof (root._bokeh_timeout) === \"undefined\" || force === true) {\n    root._bokeh_timeout = Date.now() + 5000;\n    root._bokeh_failed_load = false;\n  }\n\n  var NB_LOAD_WARNING = {'data': {'text/html':\n     \"<div style='background-color: #fdd'>\\n\"+\n     \"<p>\\n\"+\n     \"BokehJS does not appear to have successfully loaded. If loading BokehJS from CDN, this \\n\"+\n     \"may be due to a slow or bad network connection. Possible fixes:\\n\"+\n     \"</p>\\n\"+\n     \"<ul>\\n\"+\n     \"<li>re-rerun `output_notebook()` to attempt to load from CDN again, or</li>\\n\"+\n     \"<li>use INLINE resources instead, as so:</li>\\n\"+\n     \"</ul>\\n\"+\n     \"<code>\\n\"+\n     \"from bokeh.resources import INLINE\\n\"+\n     \"output_notebook(resources=INLINE)\\n\"+\n     \"</code>\\n\"+\n     \"</div>\"}};\n\n  function display_loaded() {\n    var el = document.getElementById(\"1001\");\n    if (el != null) {\n      el.textContent = \"BokehJS is loading...\";\n    }\n    if (root.Bokeh !== undefined) {\n      if (el != null) {\n        el.textContent = \"BokehJS \" + root.Bokeh.version + \" successfully loaded.\";\n      }\n    } else if (Date.now() < root._bokeh_timeout) {\n      setTimeout(display_loaded, 100)\n    }\n  }\n\n\n  function run_callbacks() {\n    try {\n      root._bokeh_onload_callbacks.forEach(function(callback) {\n        if (callback != null)\n          callback();\n      });\n    } finally {\n      delete root._bokeh_onload_callbacks\n    }\n    console.debug(\"Bokeh: all callbacks have finished\");\n  }\n\n  function load_libs(css_urls, js_urls, callback) {\n    if (css_urls == null) css_urls = [];\n    if (js_urls == null) js_urls = [];\n\n    root._bokeh_onload_callbacks.push(callback);\n    if (root._bokeh_is_loading > 0) {\n      console.debug(\"Bokeh: BokehJS is being loaded, scheduling callback at\", now());\n      return null;\n    }\n    if (js_urls == null || js_urls.length === 0) {\n      run_callbacks();\n      return null;\n    }\n    console.debug(\"Bokeh: BokehJS not loaded, scheduling load and callback at\", now());\n    root._bokeh_is_loading = css_urls.length + js_urls.length;\n\n    function on_load() {\n      root._bokeh_is_loading--;\n      if (root._bokeh_is_loading === 0) {\n        console.debug(\"Bokeh: all BokehJS libraries/stylesheets loaded\");\n        run_callbacks()\n      }\n    }\n\n    function on_error() {\n      console.error(\"failed to load \" + url);\n    }\n\n    for (var i = 0; i < css_urls.length; i++) {\n      var url = css_urls[i];\n      const element = document.createElement(\"link\");\n      element.onload = on_load;\n      element.onerror = on_error;\n      element.rel = \"stylesheet\";\n      element.type = \"text/css\";\n      element.href = url;\n      console.debug(\"Bokeh: injecting link tag for BokehJS stylesheet: \", url);\n      document.body.appendChild(element);\n    }\n\n    for (var i = 0; i < js_urls.length; i++) {\n      var url = js_urls[i];\n      var element = document.createElement('script');\n      element.onload = on_load;\n      element.onerror = on_error;\n      element.async = false;\n      element.src = url;\n      console.debug(\"Bokeh: injecting script tag for BokehJS library: \", url);\n      document.head.appendChild(element);\n    }\n  };var element = document.getElementById(\"1001\");\n  if (element == null) {\n    console.error(\"Bokeh: ERROR: autoload.js configured with elementid '1001' but no matching script tag was found. \")\n    return false;\n  }\n\n  function inject_raw_css(css) {\n    const element = document.createElement(\"style\");\n    element.appendChild(document.createTextNode(css));\n    document.body.appendChild(element);\n  }\n\n  var js_urls = [\"https://cdn.pydata.org/bokeh/release/bokeh-1.3.4.min.js\", \"https://cdn.pydata.org/bokeh/release/bokeh-widgets-1.3.4.min.js\", \"https://cdn.pydata.org/bokeh/release/bokeh-tables-1.3.4.min.js\", \"https://cdn.pydata.org/bokeh/release/bokeh-gl-1.3.4.min.js\"];\n  var css_urls = [];\n\n  var inline_js = [\n    function(Bokeh) {\n      Bokeh.set_log_level(\"info\");\n    },\n    \n    function(Bokeh) {\n      \n    },\n    function(Bokeh) {} // ensure no trailing comma for IE\n  ];\n\n  function run_inline_js() {\n    \n    if ((root.Bokeh !== undefined) || (force === true)) {\n      for (var i = 0; i < inline_js.length; i++) {\n        inline_js[i].call(root, root.Bokeh);\n      }if (force === true) {\n        display_loaded();\n      }} else if (Date.now() < root._bokeh_timeout) {\n      setTimeout(run_inline_js, 100);\n    } else if (!root._bokeh_failed_load) {\n      console.log(\"Bokeh: BokehJS failed to load within specified timeout.\");\n      root._bokeh_failed_load = true;\n    } else if (force !== true) {\n      var cell = $(document.getElementById(\"1001\")).parents('.cell').data().cell;\n      cell.output_area.append_execute_result(NB_LOAD_WARNING)\n    }\n\n  }\n\n  if (root._bokeh_is_loading === 0) {\n    console.debug(\"Bokeh: BokehJS loaded, going straight to plotting\");\n    run_inline_js();\n  } else {\n    load_libs(css_urls, js_urls, function() {\n      console.debug(\"Bokeh: BokehJS plotting callback run at\", now());\n      run_inline_js();\n    });\n  }\n}(window));"
     },
     "metadata": {},
     "output_type": "display_data"
    }
   ],
   "source": [
    "!pip install js2py\n",
    "import pandas as pd\n",
    "import numpy as np\n",
    "from bokeh.plotting import figure, output_notebook, show\n",
    "from bokeh.models import ColumnDataSource, HoverTool\n",
    "from datetime import datetime\n",
    "from bokeh.palettes import Spectral3\n",
    "from tabulate import tabulate\n",
    "from bokeh.transform import factor_cmap\n",
    "import js2py\n",
    "import math\n",
    "from concurrent.futures import ProcessPoolExecutor as PoolExecutor\n",
    "import requests\n",
    "\n",
    "# convenience\n",
    "output_notebook()\n",
    "pd.set_option('display.max_colwidth', -1)"
   ]
  },
  {
   "cell_type": "markdown",
   "metadata": {},
   "source": [
    "### Globals"
   ]
  },
  {
   "cell_type": "code",
   "execution_count": 2,
   "metadata": {},
   "outputs": [],
   "source": [
    "API = 'http://52.53.163.242/api/'\n",
    "NUM_CHALLENGES = 100\n",
    "NUM_BLOCKS = 100\n",
    "TOP = 10\n",
    "animalhash = js2py.require('angry-purple-tiger')\n",
    "MAX_WORKERS = 8\n",
    "REWARD_LIMIT = 500"
   ]
  },
  {
   "cell_type": "markdown",
   "metadata": {},
   "source": [
    "### Functions"
   ]
  },
  {
   "cell_type": "code",
   "execution_count": 3,
   "metadata": {},
   "outputs": [],
   "source": [
    "def latest_height(api):\n",
    "    '''\n",
    "    Get latest block height\n",
    "    '''\n",
    "    r = requests.get(f'{api}/blocks?limit=1')\n",
    "    if r.status_code == 200:\n",
    "        data = r.json().get('data')\n",
    "        return data[0]['height']\n",
    "    raise Exception('Unable to get latest height')\n",
    "\n",
    "def get_blocks(api, num_blocks=100):\n",
    "    '''\n",
    "    Get past `NUM_BLOCKS` number of num_blocks\n",
    "    '''\n",
    "    r = requests.get(f'{api}/blocks?limit={num_blocks}')\n",
    "    if r.status_code == 200:\n",
    "        data = r.json().get('data')\n",
    "        assert len(data) == num_blocks\n",
    "        return data\n",
    "    raise Exception('Unable to get blocks')\n",
    "\n",
    "def get_challenges(api, num_challenges=100):\n",
    "    '''\n",
    "    Get past `LIMIT` number of challenges\n",
    "    '''\n",
    "    r = requests.get(f'{api}/challenges?limit={num_challenges}')\n",
    "    if r.status_code == 200:\n",
    "        data = r.json().get('data')\n",
    "        assert len(data) == num_challenges\n",
    "        return accumulate_results(data)\n",
    "    raise Exception('Unable to get challenges')\n",
    "\n",
    "def get_hotspots(api):\n",
    "    '''\n",
    "    Get hotspots from the api\n",
    "    '''\n",
    "    r = requests.get(f'{api}/hotspots')\n",
    "    if r.status_code == 200:\n",
    "        data = r.json().get('data')\n",
    "        return data\n",
    "    raise Exception('Unable to get hotspots')\n",
    "\n",
    "def get_accounts(api):\n",
    "    '''\n",
    "    Get accounts from the api\n",
    "    '''\n",
    "    r = requests.get(f'{api}/accounts')\n",
    "    if r.status_code == 200:\n",
    "        data = r.json().get('data')\n",
    "        return data\n",
    "    raise Exception('Unable to get accounts')\n",
    "\n",
    "def accumulate_results(challenges):\n",
    "    '''\n",
    "    Return a dict list of challenge_id, num_successes, num_failures and num_untested\n",
    "    '''\n",
    "    results = []\n",
    "    for challenge in challenges:\n",
    "        path = challenge['pathElements']\n",
    "\n",
    "        result = [element['result'] for element in path]\n",
    "        length = len(result)\n",
    "        num_untested = result.count('untested')\n",
    "\n",
    "        gray = True if num_untested == length else False\n",
    "\n",
    "        if gray:\n",
    "            num_successes = 0\n",
    "            num_failures = 0\n",
    "            num_untested = 0\n",
    "            dud = 1\n",
    "            success = 0\n",
    "        else:\n",
    "            num_successes = result.count('success')\n",
    "            num_failures = result.count('failure')\n",
    "            num_untested = num_untested\n",
    "            dud = 0\n",
    "            success = 1 if num_successes == length else 0\n",
    "        results.append({'id': challenge['id'],\n",
    "                        'num_successes': num_successes,\n",
    "                        'num_failures': num_failures,\n",
    "                        'num_untested': num_untested,\n",
    "                        'dud': dud,\n",
    "                        'success': success})\n",
    "    return results\n",
    "\n",
    "\n",
    "def get_reward(reward_url):\n",
    "    '''\n",
    "    Get hotspot reward\n",
    "    '''\n",
    "    r = requests.get(reward_url)\n",
    "    if r.status_code == 200:\n",
    "        data = r.json().get('data')\n",
    "        return data\n",
    "    raise Exception(f'Unable to get rewards for {hotspot}')\n",
    "    \n",
    "def get_rewards(api, hotspots, limit=REWARD_LIMIT):\n",
    "    '''\n",
    "    Get rewards for all hotspots\n",
    "    '''\n",
    "    reward_urls = [f'{api}/hotspots/{hotspot}/rewards?limit={limit}' for hotspot in hotspots]\n",
    "    with PoolExecutor(max_workers=MAX_WORKERS) as executor:\n",
    "        rewards = []\n",
    "        for hotspot, i in zip(hotspots, executor.map(get_reward, reward_urls)):\n",
    "            rewards.extend(i)\n",
    "    return rewards"
   ]
  },
  {
   "cell_type": "markdown",
   "metadata": {},
   "source": [
    "### Block Stats"
   ]
  },
  {
   "cell_type": "code",
   "execution_count": 4,
   "metadata": {},
   "outputs": [],
   "source": [
    "blocks = get_blocks(API, NUM_BLOCKS)"
   ]
  },
  {
   "cell_type": "code",
   "execution_count": 5,
   "metadata": {},
   "outputs": [],
   "source": [
    "df = pd.DataFrame(blocks)"
   ]
  },
  {
   "cell_type": "code",
   "execution_count": 6,
   "metadata": {},
   "outputs": [
    {
     "name": "stdout",
     "output_type": "stream",
     "text": [
      "Average txns past 100 blocks: 4.66\n"
     ]
    }
   ],
   "source": [
    "print(f'Average txns past {NUM_BLOCKS} blocks: {df[\"txns\"].mean()}')"
   ]
  },
  {
   "cell_type": "code",
   "execution_count": 7,
   "metadata": {},
   "outputs": [
    {
     "name": "stdout",
     "output_type": "stream",
     "text": [
      "Average block time past 100 blocks: 1565643385.16\n"
     ]
    }
   ],
   "source": [
    "print(f'Average block time past {NUM_BLOCKS} blocks: {df[\"time\"].mean()}')"
   ]
  },
  {
   "cell_type": "code",
   "execution_count": 8,
   "metadata": {},
   "outputs": [
    {
     "name": "stdout",
     "output_type": "stream",
     "text": [
      "Block with max txns for past 100 blocks: \n",
      "+--------+----------------------------------------------------+\n",
      "| hash   | 1z96KEE8y9srrcfVbVs3gU8MLWKosuPu31EqKztswmKVrhadcv |\n",
      "| height | 14444                                              |\n",
      "| round  | 14444                                              |\n",
      "| time   | 1565649527                                         |\n",
      "| txns   | 13                                                 |\n",
      "+--------+----------------------------------------------------+\n"
     ]
    }
   ],
   "source": [
    "max_txns = tabulate(df.max().reset_index(),tablefmt='psql', showindex='never')\n",
    "print(f\"Block with max txns for past {NUM_BLOCKS} blocks: \\n{max_txns}\")"
   ]
  },
  {
   "cell_type": "code",
   "execution_count": 9,
   "metadata": {},
   "outputs": [
    {
     "data": {
      "text/html": [
       "\n",
       "\n",
       "\n",
       "\n",
       "\n",
       "\n",
       "  <div class=\"bk-root\" id=\"76c4a64a-2483-4120-ba6b-4275533736b6\" data-root-id=\"1003\"></div>\n"
      ]
     },
     "metadata": {},
     "output_type": "display_data"
    },
    {
     "data": {
      "application/javascript": [
       "(function(root) {\n",
       "  function embed_document(root) {\n",
       "    \n",
       "  var docs_json = {\"2b53a889-60fa-4d39-beb7-73ea980097d5\":{\"roots\":{\"references\":[{\"attributes\":{\"below\":[{\"id\":\"1012\",\"type\":\"LinearAxis\"}],\"center\":[{\"id\":\"1016\",\"type\":\"Grid\"},{\"id\":\"1021\",\"type\":\"Grid\"}],\"left\":[{\"id\":\"1017\",\"type\":\"LinearAxis\"}],\"renderers\":[{\"id\":\"1038\",\"type\":\"GlyphRenderer\"}],\"title\":{\"id\":\"1043\",\"type\":\"Title\"},\"toolbar\":{\"id\":\"1028\",\"type\":\"Toolbar\"},\"x_range\":{\"id\":\"1004\",\"type\":\"DataRange1d\"},\"x_scale\":{\"id\":\"1008\",\"type\":\"LinearScale\"},\"y_range\":{\"id\":\"1006\",\"type\":\"DataRange1d\"},\"y_scale\":{\"id\":\"1010\",\"type\":\"LinearScale\"}},\"id\":\"1003\",\"subtype\":\"Figure\",\"type\":\"Plot\"},{\"attributes\":{\"axis_label\":\"Txns/Block\",\"formatter\":{\"id\":\"1047\",\"type\":\"BasicTickFormatter\"},\"ticker\":{\"id\":\"1013\",\"type\":\"BasicTicker\"}},\"id\":\"1012\",\"type\":\"LinearAxis\"},{\"attributes\":{},\"id\":\"1013\",\"type\":\"BasicTicker\"},{\"attributes\":{\"bottom_units\":\"screen\",\"fill_alpha\":{\"value\":0.5},\"fill_color\":{\"value\":\"lightgrey\"},\"left_units\":\"screen\",\"level\":\"overlay\",\"line_alpha\":{\"value\":1.0},\"line_color\":{\"value\":\"black\"},\"line_dash\":[4,4],\"line_width\":{\"value\":2},\"render_mode\":\"css\",\"right_units\":\"screen\",\"top_units\":\"screen\"},\"id\":\"1048\",\"type\":\"BoxAnnotation\"},{\"attributes\":{},\"id\":\"1010\",\"type\":\"LinearScale\"},{\"attributes\":{\"ticker\":{\"id\":\"1013\",\"type\":\"BasicTicker\"}},\"id\":\"1016\",\"type\":\"Grid\"},{\"attributes\":{\"active_drag\":\"auto\",\"active_inspect\":\"auto\",\"active_multi\":null,\"active_scroll\":\"auto\",\"active_tap\":\"auto\",\"tools\":[{\"id\":\"1022\",\"type\":\"PanTool\"},{\"id\":\"1023\",\"type\":\"WheelZoomTool\"},{\"id\":\"1024\",\"type\":\"BoxZoomTool\"},{\"id\":\"1025\",\"type\":\"SaveTool\"},{\"id\":\"1026\",\"type\":\"ResetTool\"},{\"id\":\"1027\",\"type\":\"HelpTool\"},{\"id\":\"1040\",\"type\":\"HoverTool\"}]},\"id\":\"1028\",\"type\":\"Toolbar\"},{\"attributes\":{},\"id\":\"1045\",\"type\":\"BasicTickFormatter\"},{\"attributes\":{},\"id\":\"1049\",\"type\":\"Selection\"},{\"attributes\":{\"callback\":null,\"tooltips\":[[\"height\",\"@height\"],[\"txns\",\"@txns\"]]},\"id\":\"1040\",\"type\":\"HoverTool\"},{\"attributes\":{},\"id\":\"1050\",\"type\":\"UnionRenderers\"},{\"attributes\":{\"data_source\":{\"id\":\"1002\",\"type\":\"ColumnDataSource\"},\"glyph\":{\"id\":\"1036\",\"type\":\"VBar\"},\"hover_glyph\":null,\"muted_glyph\":null,\"nonselection_glyph\":{\"id\":\"1037\",\"type\":\"VBar\"},\"selection_glyph\":null,\"view\":{\"id\":\"1039\",\"type\":\"CDSView\"}},\"id\":\"1038\",\"type\":\"GlyphRenderer\"},{\"attributes\":{},\"id\":\"1022\",\"type\":\"PanTool\"},{\"attributes\":{},\"id\":\"1023\",\"type\":\"WheelZoomTool\"},{\"attributes\":{\"fill_alpha\":{\"value\":0.1},\"fill_color\":{\"value\":\"#1f77b4\"},\"line_alpha\":{\"value\":0.1},\"line_color\":{\"value\":\"#1f77b4\"},\"top\":{\"field\":\"txns\"},\"width\":{\"value\":0.8},\"x\":{\"field\":\"height\"}},\"id\":\"1037\",\"type\":\"VBar\"},{\"attributes\":{\"overlay\":{\"id\":\"1048\",\"type\":\"BoxAnnotation\"}},\"id\":\"1024\",\"type\":\"BoxZoomTool\"},{\"attributes\":{},\"id\":\"1025\",\"type\":\"SaveTool\"},{\"attributes\":{},\"id\":\"1026\",\"type\":\"ResetTool\"},{\"attributes\":{},\"id\":\"1047\",\"type\":\"BasicTickFormatter\"},{\"attributes\":{\"source\":{\"id\":\"1002\",\"type\":\"ColumnDataSource\"}},\"id\":\"1039\",\"type\":\"CDSView\"},{\"attributes\":{},\"id\":\"1027\",\"type\":\"HelpTool\"},{\"attributes\":{\"callback\":null,\"data\":{\"hash\":[\"12MNedhwZSYfgNUpnvXzE3CBPFnKK9TXLmHXc4cRsnDmWFPt2Gu\",\"1D6dySgfMSFczub1aR8yg6QBbYfrHMoYRoHGvUm2D9RLw5WGX6\",\"1inggdFJAzafBJ6Keq8dgjR37QreninWdoQW3vHFkoyyDrthmD\",\"1Dd8gQ7rD6mTaEmRoDjSifASXdSXqFUYcFzXmxkmHQPg3WpuUs\",\"12FGiyBN52vSLQhvhsDc6U6fRY1ut6gt3mVhuqNWihQLQ87mSow\",\"1Vx8iWnGQ7q7iTAChfQ9xPYYNVqgXP4UPEWDzt1R8LuAg7pYK6\",\"17Kxxrit2YvssgECeZ4ghgm2D59ThyQhg7r6YPBYMYEphsNSgs\",\"1KQddQSz1FD8TV5sbsgSPYXtrQceMtcyB1GfLTsP7vbE1LzWLk\",\"12gyrPXoocwnL2894V2NzqvFbGhtCvu4ukMpy5LtpkhHTecYNFe\",\"1eg6KJioubAGTgi8x61xT8bWVVGkxSgacsmozbSvASfe5fGN6Y\",\"1Hi2j7r3Gpiw9yN5C7XPvEp24vjKePbLoj2z3C34xUmthWd4cc\",\"12rMtMxEtpvyojfsA6ZdTcaHDPx3UWksLNmr8chSifFPNyMg6DB\",\"1r6M6yYoQ3iMMCEH7TRaWijaE3uYMpi9pAbRNqhENKCQSrUkBu\",\"128c1sUcg8FwsouSK7BR46ebrLzGfzCrZZehVvdvia9esRWiw12\",\"1a3FRCV8AZGXaBokvguF7yvbgdATc2K47ETDs69FWU9QeB7tQR\",\"1pCJ5XpyGfhmff5jFnEcTD2C2tt9CznnZvjPj86UPW19viWrnt\",\"15EMrZ6C6BEPkZxjom6zhUxWWnRpq13NEr4pWzALBLkz212vGF\",\"12XYkQmTLwrTNv5RkEFkDpVBe5sYx5saTQrxiYfYEbb2EdJA9CQ\",\"1z96KEE8y9srrcfVbVs3gU8MLWKosuPu31EqKztswmKVrhadcv\",\"14nt6NTnzYXrkY3hZnCzpUc8AvhiDQvzYDEADb45HyZn9M7Zyx\",\"1jmM3KYyuDtXQWWyj2eDUDZUAJqNb1KaiTUAfzvyHqJTsarBru\",\"12fZAWtFfwo9V8F3BkcrHUzS77a9WbB6Ykp6dUZNdwMNmkQy9BK\",\"121ttNm8N4sZhNS2GQeEMnyvnAitEKBFLJCPVfv3TDCiZ9GxmBy\",\"12Px9DqfgKAw53v6yYDjLTAdsd59tvimZJqBXYeK5ZdzuxJKjh6\",\"1W48kpxEcJf5q7PBu3qCDwokr7DrbucvxLFiLRbL4ANjNiQB4r\",\"12AQhvkJcy5vudqtRQcRfch8zuWo2fRZ8EHZgPKR8NsphTEfAmo\",\"12iKLHrhQpcvjxZ7E6rj9NTmeFoGBTa69zyKqHsUMKVC7wdHjBp\",\"12rJb9U3LogvS8av7UBohQCNmhdi4YDm4yvvwCumNQ54o4arkbx\",\"12uBz8yY2RvtoWLWEuDgg9RADibxo2av93un6rbczt4Wm4VDN6P\",\"1NzakR9hcy4b4eeo7b5BUGCuUnLsMpBwJYiiEDgMAzVcyL2Jj5\",\"1i5P4dWVcZHFLNNGMMXsN5Qpv5PMxak4s7oix33JhtewAJ9JM\",\"19nh5BPQ2GrN4yvH3S4g6QuS5xBmzvsHQmqhsbqHKkuLMMkH1Z\",\"12euHXWHpfr6mDJKQxSt3oVLd8fDjqcfnhbwMXjs4ZyqpCyLvgR\",\"12DX5Xybw2yjExDeJUQJa8JgvULQntxANxQkJBapNeR2ZrveM4L\",\"1S4ZsGth2JKzUAxtB6d2HPDMHpfaCWunXpvpRxdAwcAghRPnfB\",\"12b49HH8thndLyyvFdBDnKMNpRyscdQg6qs6vqXhe9sdq2qhono\",\"12fTmAqY1QXq43tSBBLJdG2SyGpNBsrwxqjM3YBvrFns9zDwX5L\",\"1iNxDkDM7vWrjFakB6fPeyADgaJM1DoVscjBnmTEim2Spm7cdA\",\"1Jjd3LuzaFnQhD7w1R5k1PXfA4kaUdYnF3w4NqUtMJAm5wurHe\",\"129xwZ3qCWtcmW4FGUQMVTtaEmzQStrvyd15kHVF82f3Djpn1zS\",\"1qweYybFCji5LMFjHHjJKhZkMpQAA57UZeizvWVoaYdkKXZq54\",\"12E1kdfBCyorhkNRMKM94Z7oeTgo1eikYRcE9AenEfQGyaAcjAM\",\"127sgm8yM6v3TchrgQvDkjEJ1mzGh6tiW8yro25NCTdHZZUw8R7\",\"1g2Q6S3K91ZJPwW8Hpxj43UbtXNtEN2kFN13ucQbtZc2HQVhgj\",\"12Z2PokMeyxUE5wAPDoRv24SFmg6NjuLmeica28YoZDqakhoFzm\",\"19jexpbfphWTssDenNa5V6WX2G5S72fkYA973khAJCHUWkWmhT\",\"1cP4nmEkuh25VbW8GuEAN6Uefn3egritZaiEZwV5x1tzT4veHM\",\"1ZoAiGkzD9gkwkcNCrSS5fqA49dg9YrszSEYMmCXL8sGoBDyN8\",\"14Bu4ZHUnXo91wW6GAGmKF1axxEie9HxPHjAaS9nGzcopfDiSN\",\"121hPykcVzeVtwYJPYtCSFBpmBL6FwwN2ZjZuEQX4NmC1Pomjzg\",\"12jzTJpYkivYHkMGrBPccMY4WCoZAoQtU2iUH4r2ZyETz4R7gbp\",\"1jhyupZJzpUcAWdfx8949vWLXEf4HwFsBgSRMeRsNLAZqfLoub\",\"12beC8PptVpaGRctF7GMfTQiUbQEsHVtguegTFoVdqhGcvEsNn7\",\"1aPuFdU2gssK4zR2WHeHjcSxu8vMt25CpS1UfKdkxrCcd2h5Zx\",\"12mTW3Z2HrXHMSKF2YdubFaWtR6suRh6q2TQeheDMuaQ46cd1Gr\",\"1vBxB7BRMrNzWhTC3sWbM3DrgX6VjEaYVtwWaBhGRBcrrBN1mm\",\"12NLyER6Vo34LNL1k9aeghJGqr5hmYod36PTWrH8mpUdei2Rxn6\",\"1V91KjAyEZNHbGxixdkVKcMwcAz5NkTXQY7C8Riv6F7DZ9mjnG\",\"1Qexwa6awxQxiH9etmZyG61adkUURxhUQKVTpeeZJjPmcQYCDh\",\"122wfVQ3pt57qjR3UH98KJF3K9JHH6PNwsdp8DdHZzKXsToKh5Q\",\"12d6vmxs72z6y9hErtGesTotccH1oKNjuvRxHqtW1TmBxKS9rwA\",\"12RvmvyaNzRDdpc7xZddBuwsDr97v6QDaASr14CmbJnAC1bZVct\",\"12wAVVkBwKqMY91XBdbJaRm2KMtxrUF7JCGcv8EvKDqz7mdwCGq\",\"12bVF8h4GhBzAXWxxarw8UZu67HjLj9YeYnyYjzBH2VwDgHJvfa\",\"12R81XkKjYGQuZz7nD1D6bw8tCiDryQzrxv1RFor77Wv93KgMye\",\"12dWY2vctYceBNihDRUkRTM7aerc4k6EdrmYMrVN6ybPr5UJ4dm\",\"12mMFq2tCy7o3V1ST3DphXe9q9J7qSa6L9dARyiwujmthZcLx5G\",\"12qypYEfkn4WLc8E77CbjbFabUoqDTxei6bXcXjGCyBGZFBNp9e\",\"1jb5rSHBs7vJD8MjDbKQWEhEkgMTxqtnv1ZpHQDupXWrpuWxCD\",\"1z5k9iamiiMTLabWAFqmmDSrgbzii2Ge48QbbPcdt8nUWkwm2Y\",\"12SF7oWnebw6y8QFXQdFwQNk1GAvN42Sy1gQinwXkDop5RdvdNb\",\"1ymnx1Ni9Peo5TFbf4uY1ngBGRvzp3vP4QpJ6LgugWSdCqqBxj\",\"1ayG5RxyrD4py2G3gNgqKXAHnDmWHXc4Js5YN16FHXYz8RZdB8\",\"1FQAHMtQNmVaRSKb9iCV2gEDUHvfYF3S6WQXWEESe2uJBA6Eiw\",\"118F4XrwkuDqfqzbssHypq6iQuq2duApVjsY8wPdf3kPH7JaDa\",\"12Km7z6Kx8u8kh1ysMhNRVn8A4SkJqcEkSCreV3JrS69ikP2vMd\",\"1cCPejKd6JipucysLfkw5TX7Ght2J1X6Y4y2wyt1H6DHoVfoM4\",\"1t1mVBtD3PZmfertd4P3ZQJpzAf1ibittRQNWpduob1qKsM55e\",\"128GTQ9rTEWR2fKknwdr4mQREquXoJzXPgepSUbJckcKWcbpPVD\",\"1xmn4hZPdctpwkaqakUYJwt8U4WpLEiHtxY84rndfeGLvtjjcA\",\"1b6PoompA9d4q9CbkuNxsigoFrRvVAbodAANofX1cGvXUESzhs\",\"12CGkRvTGjrAnRyVXkxYsF8uyBxAi1yPrD8kQQxuydAEQB6mXXz\",\"12ohDh5jvtrHwdwxrWrnWGZwiwhjjwP4JNbCvjHc2uVyRsS1sjF\",\"1vBB6EarcTNJpKNG7sQ1wmuzFZwJgvkovoRJ9PrxZBkDPDifcp\",\"1u5VfVQKMSpQNs1JmCqMCh9thyPmcJqMGAfbgoQXjHMWnW9CJP\",\"1RH92cfBwJneYTgHsQ4CwrQsWFWNoXh5adfGaxV1xV28K41Gq1\",\"1pKwPpsiKviz9tzYq7joGBtSkCNmF2nRA3hVLtSVNKAFquZ1cZ\",\"1uZVy5AvvK8WrCPHb2QQm6XQU1MBd3kApHyQs33jMZfq5776va\",\"12EU8DVtKCQe6TE9UepmheVoJtmxGLDYeySo53pFUbAWfnUhz9r\",\"1wV3RBmunvzrJvu6MCQnF9LFyYLEb75RedNCCankgGNBqVFgVM\",\"1U1b8BGVe4BdbNKhBDV9DkPsMzvoLDJgVtdrrqYQwD3q7srrNz\",\"1yMMsPXatZXKqAc57wfBE2oNhyjjB5UKFM3ikm7Gqoj4JyDqLh\",\"12d5rN3JSYctxyANK7Yp6VHARkUSrKXpisTVQWpBEvwya3t1fFp\",\"12oMPiYnPq2c8JMiZjx1D3jbqRBoQcQTTMLheJ1CYwxng3ubYuj\",\"12oaxj3jt58UW45oekNvkcmsU36qpnwZs352MdETEpWfkyjZqBJ\",\"12Zbbjq7caMo1EdTbL3baxf6aSSo1o6AKw69LauhoWAN3bdETAQ\",\"1LfjZFjuusA46zTysaByudBNKshup5KG1JVkrDv676C7mNHo7D\",\"123Hi8uySRAyx7Fa6S29Ah3ueDoww3MdZBsZRNTKTkoynY1vdcB\",\"1cz1ezbGE8mNozRoASnFtL8Gorq8TKJPXxZUmu1sAgFypATjFq\",\"12AGS1bQMNCgjA1MwZ7bxh13Epeo1nn5uniJgSFcue3quNgRYgS\"],\"height\":[14444,14443,14442,14441,14440,14439,14438,14437,14436,14435,14434,14433,14432,14431,14430,14429,14428,14427,14426,14425,14424,14423,14422,14421,14420,14419,14418,14417,14416,14415,14414,14413,14412,14411,14410,14409,14408,14407,14406,14405,14404,14403,14402,14401,14400,14399,14398,14397,14396,14395,14394,14393,14392,14391,14390,14389,14388,14387,14386,14385,14384,14383,14382,14381,14380,14379,14378,14377,14376,14375,14374,14373,14372,14371,14370,14369,14368,14367,14366,14365,14364,14363,14362,14361,14360,14359,14358,14357,14356,14355,14354,14353,14352,14351,14350,14349,14348,14347,14346,14345],\"index\":[0,1,2,3,4,5,6,7,8,9,10,11,12,13,14,15,16,17,18,19,20,21,22,23,24,25,26,27,28,29,30,31,32,33,34,35,36,37,38,39,40,41,42,43,44,45,46,47,48,49,50,51,52,53,54,55,56,57,58,59,60,61,62,63,64,65,66,67,68,69,70,71,72,73,74,75,76,77,78,79,80,81,82,83,84,85,86,87,88,89,90,91,92,93,94,95,96,97,98,99],\"round\":[14444,14443,14442,14441,14440,14439,14438,14437,14436,14435,14434,14433,14432,14431,14430,14429,14428,14427,14426,14425,14424,14423,14422,14421,14420,14419,14418,14417,14416,14415,14414,14413,14412,14411,14410,14409,14408,14407,14406,14405,14404,14403,14402,14401,14400,14399,14398,14397,14396,14395,14394,14393,14392,14391,14390,14389,14388,14387,14386,14385,14384,14383,14382,14381,14380,14379,14378,14377,14376,14375,14374,14373,14372,14371,14370,14369,14368,14367,14366,14365,14364,14363,14362,14361,14360,14359,14358,14357,14356,14355,14354,14353,14352,14351,14350,14349,14348,14347,14346,14345],\"time\":[1565649527,1565649467,1565649407,1565649347,1565649287,1565649082,1565649008,1565648899,1565648839,1565648667,1565648594,1565648472,1565648341,1565647590,1565647222,1565646918,1565646762,1565646525,1565646332,1565646128,1565645982,1565645839,1565645769,1565645676,1565645581,1565645521,1565645461,1565645366,1565645306,1565645246,1565645157,1565645057,1565644971,1565644889,1565644795,1565644720,1565644644,1565644572,1565644497,1565644414,1565644354,1565644240,1565644157,1565644097,1565644037,1565643977,1565643917,1565643832,1565643725,1565643643,1565643500,1565643244,1565643017,1565642742,1565642596,1565642493,1565642349,1565642176,1565642116,1565642056,1565641923,1565641854,1565641794,1565641734,1565641633,1565641559,1565641499,1565641391,1565641214,1565641122,1565640987,1565640908,1565640805,1565640745,1565640682,1565640582,1565640488,1565640376,1565640287,1565640153,1565640059,1565639950,1565639835,1565639702,1565639537,1565639397,1565639328,1565639256,1565639196,1565639107,1565639038,1565638978,1565638908,1565638848,1565638786,1565638684,1565638624,1565638564,1565638449,1565638389],\"txns\":[9,6,1,7,3,2,1,3,2,0,2,5,0,1,6,8,2,10,5,9,6,6,3,6,10,2,3,4,4,3,8,7,8,5,9,5,6,3,1,4,4,4,2,3,2,2,0,7,5,2,13,3,5,4,9,3,6,8,4,2,4,2,5,4,6,9,3,9,3,8,6,2,3,2,5,3,2,5,5,2,4,5,8,8,11,3,3,8,4,2,7,4,1,3,2,10,3,3,12,4]},\"selected\":{\"id\":\"1049\",\"type\":\"Selection\"},\"selection_policy\":{\"id\":\"1050\",\"type\":\"UnionRenderers\"}},\"id\":\"1002\",\"type\":\"ColumnDataSource\"},{\"attributes\":{},\"id\":\"1018\",\"type\":\"BasicTicker\"},{\"attributes\":{\"axis_label\":\"NumTxns\",\"formatter\":{\"id\":\"1045\",\"type\":\"BasicTickFormatter\"},\"ticker\":{\"id\":\"1018\",\"type\":\"BasicTicker\"}},\"id\":\"1017\",\"type\":\"LinearAxis\"},{\"attributes\":{\"text\":\"\"},\"id\":\"1043\",\"type\":\"Title\"},{\"attributes\":{},\"id\":\"1008\",\"type\":\"LinearScale\"},{\"attributes\":{\"fill_color\":{\"value\":\"#1f77b4\"},\"line_color\":{\"value\":\"#1f77b4\"},\"top\":{\"field\":\"txns\"},\"width\":{\"value\":0.8},\"x\":{\"field\":\"height\"}},\"id\":\"1036\",\"type\":\"VBar\"},{\"attributes\":{\"callback\":null},\"id\":\"1006\",\"type\":\"DataRange1d\"},{\"attributes\":{\"dimension\":1,\"ticker\":{\"id\":\"1018\",\"type\":\"BasicTicker\"}},\"id\":\"1021\",\"type\":\"Grid\"},{\"attributes\":{\"callback\":null},\"id\":\"1004\",\"type\":\"DataRange1d\"}],\"root_ids\":[\"1003\"]},\"title\":\"Bokeh Application\",\"version\":\"1.3.4\"}};\n",
       "  var render_items = [{\"docid\":\"2b53a889-60fa-4d39-beb7-73ea980097d5\",\"roots\":{\"1003\":\"76c4a64a-2483-4120-ba6b-4275533736b6\"}}];\n",
       "  root.Bokeh.embed.embed_items_notebook(docs_json, render_items);\n",
       "\n",
       "  }\n",
       "  if (root.Bokeh !== undefined) {\n",
       "    embed_document(root);\n",
       "  } else {\n",
       "    var attempts = 0;\n",
       "    var timer = setInterval(function(root) {\n",
       "      if (root.Bokeh !== undefined) {\n",
       "        embed_document(root);\n",
       "        clearInterval(timer);\n",
       "      }\n",
       "      attempts++;\n",
       "      if (attempts > 100) {\n",
       "        console.log(\"Bokeh: ERROR: Unable to run BokehJS code because BokehJS library is missing\");\n",
       "        clearInterval(timer);\n",
       "      }\n",
       "    }, 10, root)\n",
       "  }\n",
       "})(window);"
      ],
      "application/vnd.bokehjs_exec.v0+json": ""
     },
     "metadata": {
      "application/vnd.bokehjs_exec.v0+json": {
       "id": "1003"
      }
     },
     "output_type": "display_data"
    }
   ],
   "source": [
    "source = ColumnDataSource(df)\n",
    "p = figure()\n",
    "\n",
    "p.vbar(x='height', top='txns', width=0.8, source=source)\n",
    "hover = HoverTool(tooltips=[('height', '@height'), ('txns', '@txns')])\n",
    "p.add_tools(hover)\n",
    "p.xaxis.axis_label = \"Txns/Block\"\n",
    "p.yaxis.axis_label = \"NumTxns\"\n",
    "\n",
    "show(p)"
   ]
  },
  {
   "cell_type": "markdown",
   "metadata": {},
   "source": [
    "### Hotspot Stats"
   ]
  },
  {
   "cell_type": "code",
   "execution_count": 10,
   "metadata": {},
   "outputs": [],
   "source": [
    "hotspots = get_hotspots(API)"
   ]
  },
  {
   "cell_type": "code",
   "execution_count": 11,
   "metadata": {},
   "outputs": [],
   "source": [
    "hdf = pd.DataFrame(hotspots)\n",
    "hdf['name'] = hdf.apply(lambda row: '-'.join(animalhash(row.address).lower().split()), axis=1)"
   ]
  },
  {
   "cell_type": "code",
   "execution_count": 12,
   "metadata": {},
   "outputs": [
    {
     "name": "stdout",
     "output_type": "stream",
     "text": [
      "Top 10 scoring hotspots:\n"
     ]
    },
    {
     "data": {
      "text/html": [
       "<div>\n",
       "<style scoped>\n",
       "    .dataframe tbody tr th:only-of-type {\n",
       "        vertical-align: middle;\n",
       "    }\n",
       "\n",
       "    .dataframe tbody tr th {\n",
       "        vertical-align: top;\n",
       "    }\n",
       "\n",
       "    .dataframe thead th {\n",
       "        text-align: right;\n",
       "    }\n",
       "</style>\n",
       "<table border=\"1\" class=\"dataframe\">\n",
       "  <thead>\n",
       "    <tr style=\"text-align: right;\">\n",
       "      <th></th>\n",
       "      <th>name</th>\n",
       "      <th>score</th>\n",
       "    </tr>\n",
       "  </thead>\n",
       "  <tbody>\n",
       "    <tr>\n",
       "      <th>112</th>\n",
       "      <td>magic-carob-quail</td>\n",
       "      <td>0.9901</td>\n",
       "    </tr>\n",
       "    <tr>\n",
       "      <th>9</th>\n",
       "      <td>beautiful-onyx-platypus</td>\n",
       "      <td>0.9404</td>\n",
       "    </tr>\n",
       "    <tr>\n",
       "      <th>129</th>\n",
       "      <td>mean-alabaster-piranha</td>\n",
       "      <td>0.9389</td>\n",
       "    </tr>\n",
       "    <tr>\n",
       "      <th>99</th>\n",
       "      <td>delightful-stone-beetle</td>\n",
       "      <td>0.9342</td>\n",
       "    </tr>\n",
       "    <tr>\n",
       "      <th>126</th>\n",
       "      <td>mini-currant-lizard</td>\n",
       "      <td>0.9126</td>\n",
       "    </tr>\n",
       "    <tr>\n",
       "      <th>128</th>\n",
       "      <td>mythical-tin-hawk</td>\n",
       "      <td>0.9064</td>\n",
       "    </tr>\n",
       "    <tr>\n",
       "      <th>56</th>\n",
       "      <td>shambolic-rusty-cyborg</td>\n",
       "      <td>0.9010</td>\n",
       "    </tr>\n",
       "    <tr>\n",
       "      <th>122</th>\n",
       "      <td>joyous-burgundy-chicken</td>\n",
       "      <td>0.8942</td>\n",
       "    </tr>\n",
       "    <tr>\n",
       "      <th>40</th>\n",
       "      <td>bubbly-mandarin-panther</td>\n",
       "      <td>0.8779</td>\n",
       "    </tr>\n",
       "    <tr>\n",
       "      <th>68</th>\n",
       "      <td>teeny-cider-troll</td>\n",
       "      <td>0.8307</td>\n",
       "    </tr>\n",
       "  </tbody>\n",
       "</table>\n",
       "</div>"
      ],
      "text/plain": [
       "                        name   score\n",
       "112  magic-carob-quail        0.9901\n",
       "9    beautiful-onyx-platypus  0.9404\n",
       "129  mean-alabaster-piranha   0.9389\n",
       "99   delightful-stone-beetle  0.9342\n",
       "126  mini-currant-lizard      0.9126\n",
       "128  mythical-tin-hawk        0.9064\n",
       "56   shambolic-rusty-cyborg   0.9010\n",
       "122  joyous-burgundy-chicken  0.8942\n",
       "40   bubbly-mandarin-panther  0.8779\n",
       "68   teeny-cider-troll        0.8307"
      ]
     },
     "execution_count": 12,
     "metadata": {},
     "output_type": "execute_result"
    }
   ],
   "source": [
    "print(f'Top {TOP} scoring hotspots:')\n",
    "hdf.sort_values('score', ascending=False)[['name', 'score']].head(TOP)"
   ]
  },
  {
   "cell_type": "code",
   "execution_count": 13,
   "metadata": {},
   "outputs": [
    {
     "data": {
      "text/html": [
       "\n",
       "\n",
       "\n",
       "\n",
       "\n",
       "\n",
       "  <div class=\"bk-root\" id=\"b99562c7-3029-4473-a338-af600dd549a0\" data-root-id=\"1106\"></div>\n"
      ]
     },
     "metadata": {},
     "output_type": "display_data"
    },
    {
     "data": {
      "application/javascript": [
       "(function(root) {\n",
       "  function embed_document(root) {\n",
       "    \n",
       "  var docs_json = {\"8c18f554-b5d9-41d0-8ca6-05dd0d976ff1\":{\"roots\":{\"references\":[{\"attributes\":{\"below\":[{\"id\":\"1117\",\"type\":\"CategoricalAxis\"}],\"center\":[{\"id\":\"1120\",\"type\":\"Grid\"},{\"id\":\"1125\",\"type\":\"Grid\"}],\"left\":[{\"id\":\"1121\",\"type\":\"LinearAxis\"}],\"renderers\":[{\"id\":\"1142\",\"type\":\"GlyphRenderer\"}],\"title\":{\"id\":\"1107\",\"type\":\"Title\"},\"toolbar\":{\"id\":\"1132\",\"type\":\"Toolbar\"},\"width\":900,\"x_range\":{\"id\":\"1109\",\"type\":\"FactorRange\"},\"x_scale\":{\"id\":\"1113\",\"type\":\"CategoricalScale\"},\"y_range\":{\"id\":\"1111\",\"type\":\"Range1d\"},\"y_scale\":{\"id\":\"1115\",\"type\":\"LinearScale\"}},\"id\":\"1106\",\"subtype\":\"Figure\",\"type\":\"Plot\"},{\"attributes\":{\"active_drag\":\"auto\",\"active_inspect\":\"auto\",\"active_multi\":null,\"active_scroll\":\"auto\",\"active_tap\":\"auto\",\"tools\":[{\"id\":\"1126\",\"type\":\"PanTool\"},{\"id\":\"1127\",\"type\":\"WheelZoomTool\"},{\"id\":\"1128\",\"type\":\"BoxZoomTool\"},{\"id\":\"1129\",\"type\":\"SaveTool\"},{\"id\":\"1130\",\"type\":\"ResetTool\"},{\"id\":\"1131\",\"type\":\"HelpTool\"},{\"id\":\"1144\",\"type\":\"HoverTool\"}]},\"id\":\"1132\",\"type\":\"Toolbar\"},{\"attributes\":{},\"id\":\"1129\",\"type\":\"SaveTool\"},{\"attributes\":{\"callback\":null,\"factors\":[\"proper-orchid-bee\",\"strong-tortilla-marmot\",\"savory-juniper-whale\",\"future-punch-ant\",\"clever-basil-moose\",\"tall-watermelon-dog\",\"cool-mossy-horse\",\"obedient-mustard-sheep\",\"flat-lilac-shrimp\",\"beautiful-onyx-platypus\",\"daring-amethyst-frog\",\"bitter-bronze-okapi\",\"tame-wooden-anteater\",\"spicy-seafoam-tadpole\",\"howling-gauze-guppy\",\"brave-lemon-ant\",\"acidic-red-mouse\",\"cheesy-fuzzy-shrimp\",\"recumbent-goldenrod-griffin\",\"howling-violet-millipede\",\"radiant-sable-swallow\",\"sneaky-champagne-pig\",\"damaged-concrete-walrus\",\"long-rosewood-boar\",\"itchy-flint-puma\",\"dazzling-bone-zebra\",\"genuine-powder-halibut\",\"bent-honey-starfish\",\"itchy-plastic-parakeet\",\"soaring-iris-beetle\",\"ripe-goldenrod-cheetah\",\"melodic-amber-hawk\",\"dizzy-strawberry-cricket\",\"savory-chili-terrier\",\"noisy-laurel-starling\",\"flat-magenta-chipmunk\",\"dandy-cobalt-lemur\",\"thankful-chili-millipede\",\"basic-ginger-oyster\",\"melodic-pearl-chameleon\",\"bubbly-mandarin-panther\",\"tiny-vermilion-platypus\",\"teeny-cotton-hawk\",\"stale-black-opossum\",\"happy-strawberry-lion\",\"orbiting-mint-carp\",\"sparkly-sable-sparrow\",\"scrawny-obsidian-halibut\",\"refined-bubblegum-poodle\",\"noisy-onyx-peacock\",\"young-sage-rook\",\"muscular-lavender-owl\",\"zany-chambray-camel\",\"dizzy-opaque-wolf\",\"clean-nylon-okapi\",\"dry-pebble-moose\",\"shambolic-rusty-cyborg\",\"proud-bubblegum-opossum\",\"agreeable-umber-python\",\"elegant-hazel-starling\",\"loud-juniper-boar\",\"bumpy-boysenberry-manatee\",\"blurry-seafoam-ape\",\"atomic-fuzzy-dove\",\"orbiting-cream-starfish\",\"thankful-seafoam-ant\",\"sneaky-mulberry-parrot\",\"merry-lemon-orca\",\"teeny-cider-troll\",\"stale-menthol-piranha\",\"polished-pearl-anteater\",\"round-white-sidewinder\",\"micro-clear-griffin\",\"creamy-linen-octopus\",\"spare-turquoise-otter\",\"delightful-aqua-blackbird\",\"cheesy-wooden-bird\",\"clever-pickle-sparrow\",\"spare-porcelain-penguin\",\"fierce-onyx-spider\",\"sour-honey-llama\",\"agreeable-walnut-weasel\",\"magic-rainbow-wasp\",\"fit-iron-monkey\",\"micro-tiger-tuna\",\"tall-blonde-condor\",\"generous-mossy-goat\",\"melted-sable-turkey\",\"joyful-golden-chameleon\",\"cuddly-sapphire-narwhal\",\"special-graphite-cat\",\"main-mahogany-crane\",\"beautiful-burgundy-rat\",\"rare-burlap-python\",\"joyous-beige-moose\",\"high-frost-blackbird\",\"acidic-lime-haddock\",\"precise-tangerine-rat\",\"fancy-glossy-rat\",\"delightful-stone-beetle\",\"boxy-holographic-rook\",\"decent-tortilla-bee\",\"custom-walnut-monkey\",\"immense-eggplant-stallion\",\"rapid-corduroy-halibut\",\"curly-berry-coyote\",\"precise-orange-peacock\",\"mythical-jade-tarantula\",\"rhythmic-shadow-spider\",\"fierce-turquoise-anteater\",\"main-pistachio-pangolin\",\"slow-burgundy-mandrill\",\"magic-carob-quail\",\"harsh-concrete-lizard\",\"dandy-champagne-pike\",\"skinny-fuchsia-mink\",\"sweet-pebble-aphid\",\"funny-jade-bull\",\"breezy-coal-deer\",\"clever-tan-panther\",\"dandy-sangria-okapi\",\"fresh-golden-wasp\",\"joyous-burgundy-chicken\",\"melted-iron-seal\",\"immense-mercurial-crocodile\",\"sparkly-aqua-wren\",\"mini-currant-lizard\",\"prehistoric-mossy-snail\",\"mythical-tin-hawk\",\"mean-alabaster-piranha\"]},\"id\":\"1109\",\"type\":\"FactorRange\"},{\"attributes\":{},\"id\":\"1115\",\"type\":\"LinearScale\"},{\"attributes\":{\"ticker\":{\"id\":\"1118\",\"type\":\"CategoricalTicker\"}},\"id\":\"1120\",\"type\":\"Grid\"},{\"attributes\":{},\"id\":\"1113\",\"type\":\"CategoricalScale\"},{\"attributes\":{\"callback\":null},\"id\":\"1111\",\"type\":\"Range1d\"},{\"attributes\":{\"bottom_units\":\"screen\",\"fill_alpha\":{\"value\":0.5},\"fill_color\":{\"value\":\"lightgrey\"},\"left_units\":\"screen\",\"level\":\"overlay\",\"line_alpha\":{\"value\":1.0},\"line_color\":{\"value\":\"black\"},\"line_dash\":[4,4],\"line_width\":{\"value\":2},\"render_mode\":\"css\",\"right_units\":\"screen\",\"top_units\":\"screen\"},\"id\":\"1160\",\"type\":\"BoxAnnotation\"},{\"attributes\":{\"callback\":null,\"data\":{\"address\":[\"112NLD4d8nRnNyqPv8smRVi8kRVkKNVBadCFNnz6XYbz8LGWKBb3\",\"11LVy67AcSy9iwtvDFr19yjThPY5EXaBBbPA4sThgNaDugh6xub\",\"11wuUYRFfbkjHTsqC6HhhvAV1jJUR2mC2MHxSigWnoyiGZuRgrJ\",\"11qXzvWwBX49LPHXZVKtT7aM2tKDUaHamHaPo2ajMvXxGs42s2y\",\"112vHYHXQNm7aVFAtjCVyqnHYTRPCKEib8uMUX71XFHPjDgwq4MV\",\"11DeGngCtZsML4EhRgPiJVp7feAN4XYwEiZhCKLy2SeQp8QWP7D\",\"112gt6GzN2wkKDXnzqwFJ4yshernCP1KpZEhdgYJ9yv7D6K3kyjT\",\"112P4UBvvAwDM11o6eHE6w44hGWq7ukNo4skTLSTsWYZx3wxPMqu\",\"112euXBKmLzUAfyi7FaYRxRpcH5RmfPKprV3qEyHCTt8nqwyVFYo\",\"112uFMbu9bTXe9tJzuaL1MoM7UksPK4F928VmBf9Hxzc6BjRK9Pp\",\"11nbEwo5k75mdE4nN9f9m6L5Q79dkbTukf48u2233ij6MQYEz3c\",\"11CAwto42LXquADz1asH4gWU6yUbSi1hATDijYm8ZM4Z7RtzeQK\",\"112YjHE6vZ72o2nypeBbsUTs6V5Z6CBXakKjQJKKCXHsAPPJrmvA\",\"112rDaPoAGdzXELF7t1iLj7BM8cCtezYoNAkwFECSLqGxR4iVMaj\",\"112kFNJoxBYn7UWwZqUABrTXjhn7mkP8ePrbi6w9Hj1NXJfodwP3\",\"11XC5VxSHnB2v9B8Kx3guqwTRLmY3hfar3EALunYsJMoT6TKJxV\",\"11yXFNu9Je9gvVfyuA8jS8z6faNcZW7kPwPApWYThTk416LGmU\",\"112dcfpxdtNKPTrKvzKmXHqLAq7R1Npq35Ehjepe9n2p7WA4mSXp\",\"1158boTwaXLng68TD1UauDnZeB1oCGRPqG7nQ2bL2yovkA2ntV3\",\"11uoSXSsPuuTv1cprZEqNuw5r8giCsAoqDXgsdFMR2G11tLKjkr\",\"112eFfqt75oqXa62iE8tsfLhgH3vSNAcnGLzEwGdUYun1zCAYKTR\",\"11jihKNVbs5Sd85ekMAiLHvq5oDEWCEs7rbSdJ2WtQbLXETbMe9\",\"112NxxWUZzAPDoJmrpnHH7nPn7hAFYVjTibYSS2p7vfXWhz8BuQF\",\"11vsUeTb8g4KcELPctghGLSDWhUDGAEAkiAhERU3euC69HSNvca\",\"115j9cnpxSmkYEdzjvFuMycz4VAea4zC9DicMKHZUHwc6aQVTTE\",\"1125mBeoEZ2e1TSiKtxUbeUS2jhPcb6X6ELyxUZeEKxgpAXL2QXC\",\"112PW6ZvGNWssGPX6k769dzercrmdRyBUwrsY5xfCgQiSWPWrxHF\",\"112TN1Cdqbi7LXaKBQKprjY7LVmVyePNACmB1ewk27M8raEVGmCz\",\"112cN1U82HCb2BN8E7XgmoniPTurcKg97WnJi2oXDupSMHpgiDid\",\"118EwwvzarVrtvaCfnRhCP1BBcdLaQRLBDKZ3coW17JHhKaj6p1\",\"112MCMqvkbdfbQ4BLopnGpMdnSeNUBEchHCbHsU2CMAZjRJKD3aB\",\"11sJGePtegp3KSmX2VSHSJy2kvkhNUHcLh1Xprs3m7FHwnEonfo\",\"112uVWq45n18AQnCASMpTiAsMcQvE7oqmtYji9FHab2yxfWsbmhX\",\"11iur9BrnJY2FunsLyH9FwLfqHa8C4Cue3R5WGFJmbYh2FrpbBh\",\"112Mki5uohp3EYjEwAKzrQStUf9FPZBKuzwnpRAiMboE6K6pTEhc\",\"112TW3Cp2GWLPs9veKMYFtw7DVaDHU6dsEE8GAggBVjEuf2TWttr\",\"11278GCrhcGcZorQmQgXefjPZWApFD9vHco9EzYytkkgepSx4cnW\",\"112HrGmRZ1iUFPNRzbMoAAiHHgHzrmkFLwdzwmUww457JsHN2VDm\",\"11jngF85QQc4JUvkK4uJ79vY7zLY6SrgKw911wpmiBvgMHsUJma\",\"11ubZi6poph2dLTc9jvJwNtjkJxF8WaneDSdMcDoA1tcyb47rFo\",\"11xKKZwHYZpWcEamiZmyCA1v6YmfcfagQMGf9BJfMnDDiXkhRgV\",\"11WPxVmJ83FKQkU83zbREvV2MtvkSaKeQenbJHdXWNESDu4c2bk\",\"11z6NPpfsdWZgGb5zSNz2VqHioyoVYmAGjANTPGwBKo26fBxb2U\",\"1124eHFSCjQTouUNkC23dhN8BUUYQHnwdobZGHZwJvTq1PN72xsb\",\"11sguEykEnHMXbw14nqo7mCwn18FsKFegaS3tcRqd2fgSKeaKcA\",\"11xWTUFRswoQM82EWQqDCRCixmX57UjzXLKdeKaXhGpsp66tho\",\"11EEx27SnCWb8qB87AX5XptnHNhpJx9y8YtQYHME1XNLTzTUxWD\",\"11bgTZaeRTiGuH11dE25H2D1FFM5tvtrHTNJnhAK6TwwrH57t88\",\"112NhNhURvqksxppa8bxjMku5e51h8rqub36rFA5Kgo8nPdM5KHS\",\"114VvEadECxmrrF4ccY3ai2XQzGdikovfJwBJEAsMuX8Wg9iWAR\",\"112jsPCWDbhYb1u1brqYGHkxdnpt8JSE91gRYCH5HKyFcsW16Tkx\",\"1123zdwvvayz9Nqxx4UtkGZecWhgDUmcdMJmG5qXccB1iW51dJgA\",\"112p1sK1ip8ZAAXC2txtJthSKUxgHxSCvhZCv9Mt6wmVqTGu6uyK\",\"112G1KhXpvMnPYw9ze7VsiLizG7SpVU81zFXyt2bcZBQwPS3Uh4L\",\"11aS1fM9HHVHzRgjVtcP55559X8pMnkCUdSttfZUohqH84sNQpM\",\"11BL252rVXxYyNe6P6kJ8udk4VHix7NVV4ASQTP2prr8KJB2YPi\",\"11qd6UNmuQsR5FUNc1LAKJM1r7kfx37WGc1csYbvkmUGUTx992K\",\"112MDVNM62dXFzXmPzNySnsXV58WyWJhDEH4zU1Xipb9F519Dy9q\",\"112c7xWEsNLTnPhWmmETrZ8P6BxqNnTZtBymmjifBgjKariw8YXw\",\"112D36ZCcFouGU5X5wVCXsikGEsEkpcLYFyrrKHcRowzENXq6yso\",\"112d7fa4ymaWLu1AVVgMtyRA3DbhvRCeNcTYK8oc64Xxq3PaQmLw\",\"112Sgw2sZf1BKAPqVH677a2HeE9TKYkgjGkPj7L5iLPvjrPA39hg\",\"112DFZH7yJwntcPMscyL91zb1LayjGpizEuMViAZvDQftiaPSiB9\",\"11Z4vYLzvwkuDegD95bDmDURYb5Q2BV69yCpeaf81372SkfktxC\",\"11ckxdQsReXpqwCrbbREZj6urEuNEGf2Zk5d4UnsuPMsJDSihwy\",\"112X5u9nq4v5RDcUSfGJXBG8dgCzvRTW7bfS4oZ9qnQU17vcQ5y2\",\"11uEMMjzw2bpuWW1cQHJLKPUiqzm3B8HHPtqsuiXZEhX4VxB4rB\",\"11BaVHGtAa5K1sb2xosiF3LepjrgK5iT7ZUjqkM6KDLS5Xd9VKh\",\"11t2h6ERRn2kbgjFF2hdQLZwvHcMS5NqykN3FEFRzvdf9K9QE1y\",\"11xkVWtJgF4xrRxhSy1mxYZvWc6anKA3QtrNJWdqP7J3wNkJ8tC\",\"112JHZsfc2sPfx1N9fjJ1HzhJou3o5LWgaWZYvnXAkcQktX9YLS7\",\"112sYD4tioU5RXg6t4aw74mP4NDxqrWptCqRFEeK5cauGqGYKaL4\",\"11J8sVCSMqmPQsS7vz5LEoKEYEARUWSt1iooWd7pp1vwYUqDoJg\",\"112u3Zr3oTs6TSBewf649PSiM1fCGg58gmhoAxvTZwtCeViB8XG1\",\"11Hh17C2pg8ig1ftU6H1UpSRQDVxZZtQNuJ56qryHMuD5w958Tr\",\"118Wc9tJaNA6xNbDjVenT52ueyfvXAcrzH4Lwppd5dG2QLDQ34C\",\"11hju5Kc94T9xbgA8Ri88LpX7sb79kMq7ET5A4xUF7AKsfvu9HM\",\"1127q7QEWN68TxVZ5wjPKBVGtjN51HGoiSiA6WJvR9ZzX9soHFBe\",\"11ECEKeyCjknk2Z7AG7gxVcVnWjmksJE1Wzq6C7BBZE239HjuFD\",\"11T5peiN6VsfEqTXzctRwQzSqkbaxx8HGeyjR6fyoAgAn1Y4sA9\",\"112dqJt9WfNqGPBbbz9Au42DZ1RUkpZAUWgnSmZ9R8nhDxQeNLCW\",\"11tWRj2Qhnn177iVYm3KUmbPdMyhRfeqHqk9kCyiR7y57hdG9JA\",\"112aeWRZdyz61Y7EQeMbXwqERNMPnciDvsxyFmhz1UfA9hte4R4W\",\"112UuTZGP8Vd4p4x7LX3MrQQkimrQVGsgDCq5EvQLvRYGUNZhH2T\",\"11dj5k2dwSUE7fqFnwAHK9stLd3St9MJiJuaRnvvRgJjbRMZgKJ\",\"11kzHgDkiGfCiX96fWz6riNGxjCCXy6bVvyn4SDwzjzwMXNhndU\",\"11o9ve9x4siBxXWSBZnXL6gmSJJ6dJKEGDGNoZTC1QpVDdGKeaN\",\"112s1E6JsKmjNrZp2s28Tk4VFuB49cZUjZ41qho7Uq9yYJyvyH1R\",\"112E3xyWmdj6N9CzN6KNPDPEzz8yxrY8C49SFSiN1zpARzizVY6z\",\"112opbmPimyyAT1Y5GxeEJSDXM2ZfTHAZRUMLGcADTyGXAe8Hr4\",\"112kQbfzXkyxTSTxUpztvPLMJLB2koLro9LJesumSGpdNUBhWzBN\",\"11YDCwbL1dkC7gToXTcEn5CQHTnjittZ7ZqTUsPjD6ba8hASZNe\",\"11rWkkY2rjp1hfZ2noxtwRALArbf12hMzdytHVQrY1c1PzBX4iR\",\"113kQU96zqePySTahB7PEde9ZpoWK76DYK1f57wyhjhXCBoAu88\",\"11oCfnQtekNbhEZLF2YA87jJr9mk9dogSEGoXCBboFR3CR7rR6v\",\"11MFNwMS56vpKvK4iBvMfp3dipCpQA623XaFDvoCu2AACKvwcSX\",\"11Csdm4xr7W3j1vJsZKQ5o5qnGQiwcjBqrW3qRiVDxqad395dKD\",\"112rNX8mnZBZWf6ixnksygsrahNYyHz7S9BExjqPCxhEqSPcxF38\",\"112MtP4Um2UXo8FtDHeme1U5A91M6Jj3TZ3i2XTJ9vNUMawqoPVW\",\"11idAPnBHP3AM3SjkpFRGy7XLVv12oecTFLHGBMfmBSvzNY9CW8\",\"112jpXUSkDJuykaNzrnTVGBWTrr5tukBSXUdZRKUsKAEMru6uucu\",\"11k4Gn6Qhs6JDet1w1fKxUe647zw4KRiZCYhNBtqYCL16BNmjRo\",\"11uvA9ZLXGUY5onTtAvMhSxjs4zMuGMganv1xSbipCxRCurUHuH\",\"11VKaN7fEvDm6NaGhcZtNSU1KAQQmTSwuuJsYYEqzh8mSWkoEUd\",\"112rGFR4TPSbrdTAPgP556n9ffst7tE5Xooua9QURbV4XeVoQgiD\",\"112Z6fYnkQa8VAyMWHoaZJVzrxbWPoJV2NCfdZmaNoG1pYxWdGwD\",\"112wh3mYwP6N8XbYgeU5JPp2L9rNJD5Qv8SGHxRjboybiAxJtRVt\",\"11YZSQ1DfKg5YwvoqKJRtKMBQnuRL6ofxyQPrMcsPPGEZdHVf2q\",\"1126WubKPpmEW6uCgcuXMfn4tHEp2rPr9sCrR9YXj2Vvg4gL3QC2\",\"11qTZbaXb3ZxWD3fW4PmVJryWXyY5dCPaSTKmvDhgEBk8bxTSvS\",\"112XLTxP3R8fXdmFsX6EYBpz4yQkJWZVNBuNjk8n2nw7dU14Fmcy\",\"11Kj6LV5M51PzPjBVbtgESL625SsrzdPoi59PDPQ2xdeozNuRuq\",\"11DMUS9sEDngNh5RF1k4pb23Ucbb9fN9RwPDd1ZMAJJiCjvo3Xx\",\"114FX56Ua6joFNmHAugjKR1wfopRyYEzbtgn6bodvSHXdKSwZPg\",\"115pxxv1H6xuq5NykL2PjzQqZqKv1bJdig2sxyN79ukBVGWXbPn\",\"11AUHAqBatgrs2v6j3j75UQ73NyEYZoH41CdJ56P1SzeqqYjZ4o\",\"11sAaGTavNJjGgpcoRL5GQACTbWQq4zvftgrZwjabMqJRNfyZn4\",\"112dFRPoWZmWehmiU1cdU2jbE213RB772urDC1HxUSZfQ7KVJaN5\",\"112aVmnM3bJsA1gM9fjNPSvAeY4LkrMzNJdHRfTdtZ9nTgWZgncs\",\"112VYECRxdyUixsN3KyTMdJaNdGGNF6UARwS5Pkyi86xoiBkSyLU\",\"112LfWf61hKR2mCKbuyqt3w2UCtytbFCmo2QJ4xdACR6c768LtiR\",\"11KeUR4Ure4DBFJE1TGg2nr4E7k2T8keAiBqmB9PEgMdWGB7eJh\",\"112rS6gCz9FQmcw2hrdnEJRLLAeWpSmtHYeC6nAuDrDutPWm2RYz\",\"11cEr5Um2a7Zbqw7Pozrc3DjEXvQptTtdVo5y132Kwo94ax11DD\",\"11TUDQEnZa8KXwuCNPVjLWboFGnVskfua1dRkEvmaNgriMWBwAf\",\"1127scjX1wymbXwV5eToMTV7cy8xghMddGb6QtiNhqSwLfSYksdQ\",\"115JucmPFDKUwvE4fkHR6GyQsttSUMi11KYme6pRcRTVXTqE7ww\",\"11TBjxKGcjG6wocUxWMccv8FU8LaPf72YiPXooPw4XuFLgHNAAi\",\"112D3iyBgtLeh5SPhshjZXQDV2XX2FdSMVSoC1fryANqdKPc3gLY\",\"112stmZdJDjyvuGEJLCkUa5kPnmra5Svz72G3GdcyQQ9h3i55D48\"],\"id\":[130,129,128,127,126,125,124,123,122,121,120,119,118,117,116,115,114,113,112,111,110,109,108,107,106,105,104,103,102,101,100,99,98,97,96,95,94,93,92,91,90,89,88,87,86,85,84,83,82,81,80,79,78,77,76,75,74,73,72,71,70,69,68,67,66,65,64,63,62,61,60,59,58,57,56,55,54,53,52,51,50,49,48,47,46,45,44,43,42,41,40,39,38,37,36,35,34,33,32,31,30,29,28,27,26,25,24,23,22,21,20,19,18,17,16,15,14,13,12,11,10,9,8,7,6,5,4,3,2,1],\"index\":[0,1,2,3,4,5,6,7,8,9,10,11,12,13,14,15,16,17,18,19,20,21,22,23,24,25,26,27,28,29,30,31,32,33,34,35,36,37,38,39,40,41,42,43,44,45,46,47,48,49,50,51,52,53,54,55,56,57,58,59,60,61,62,63,64,65,66,67,68,69,70,71,72,73,74,75,76,77,78,79,80,81,82,83,84,85,86,87,88,89,90,91,92,93,94,95,96,97,98,99,100,101,102,103,104,105,106,107,108,109,110,111,112,113,114,115,116,117,118,119,120,121,122,123,124,125,126,127,128,129],\"lat\":{\"__ndarray__\":\"OnbsJQdEPkBh+C41YUI+QKqR4UQeLz5AkFhvIwN0PkAjJe2FNkk+QBze//Ms3EJARnXT/aoERkCHOQgKFkQ+QMCGTvIbpEJAV6mbbCQ+PkBGYoUjaeBCQOUdos8X4kJAS8s42GtHPkBnEPJeWOJCQANErNdH7EJAR2mTBtBCPkCKxEtyS+RCQB9fbtkvSj5AmzqD50NwPkARW/F1lXY+QNqYeBazsz5AdPEnvMFBPkAsLHcCLE4+QLmC0KY8WT5AI6CYoNJ+PkCYa+DGF0c+QB2aKG91RD5Ax8IrNXxEPkAJVYB2xis+QMFR1z1yTz5AgMwNq6tQPkCNna1O4VI+QAnTsEq+Sj5AjsAExLQnPkBbP7FiCkE+QMIYvnSgPT5AcLoahj1VPkACe7NuripCQPjQNotieD5Ar6BYd9A9PkDHwAeMkz0+QC9g1tLVRD5A8pQ5BFNbPkAXzHBaskQ+QEOikRNNQT5A3MZOScBTPkDjZ8/psypCQNCrtZO7Wj5AyIzcZHc9PkDDZIvXRzk+QP6h2aunPz5AL7yzr6lPPkAXIOVMezo+QHWJiwHSRD5AZ+C7c21BPkDw8MUJOUQ+QEEliPIaQT5AreJuhJNDPkC/9usCiEM+QO4eFx2dQz5Am+Ev3XNDPkD3ZIn9Zko+QE7Ch6gANT5AreJuhJNDPkDquhgLACw+QBHfWveIQz5AajhnV3RDPkCRRziCZC8+QP2MHAaiRD5AWK4HXj5DPkDKoq7lcj8+QFv5dF6IQj5AabowQAFPPkD8nYy5Szg+QHvqkXeWjT1Aou7OdZJFPkC3jJBWcz0+QIeaOJSFRD5AA1IoIOFOPkAtdMeBx+RCQJ5KTdSe40JAPcUqBtoPQ0C/7pJWZONCQKBCU3rb7EJA2uz9+w3tQkCifVWVAAJDQMG9Z9q+4kJAx8IrNXxEPkD8WkE2feNCQDUJApCSQz5AYa0241DmQkAhkiJghTo+QHAxiERqQz5AcrAgrnXiQkC7Qk+U5alCQGm3Z2PhQT5A8zm36lsjQ0Cc1slip8hCQGwWSYRdI0NAWBLRio3mQkCkVyUTy+JCQJn5djeTSENAq+NhAputQkAE16eThg9DQEoHmL1K5EJABNenk4YPQ0Bsqe0GrOJCQHj+pOyi4UJAEFmB9XdIQ0CFZJbYaElDQFg+QZLAqEJAYs2wvH7kQkA4GTu4duRCQH4Fux115EJA+1vsHTAfRUB495foErtCQI0o8zuDqEJAXMg9ioGmQkBeSxpkxKdCQJSzoGPUpkJAQXopfiDlQkDU0+B4/dxCQDp4GTjU5kJAK0zDdxDhQkA66KAhhuFCQARQzmEb8EJATKtU+6/kQkBjrBmCJ+1CQKxNdRop7UJAij+XRhbtQkA=\",\"dtype\":\"float64\",\"shape\":[130]},\"lng\":{\"__ndarray__\":\"9E84Nc9vWMBI0FlnUG5YwDAkwiGWfljAVN1wcmprWMAcPZ6zp21YwKwQjmzQXV7AEHck3KU3UcAwAcB5+G9YwCAe+L/QgF7AhNmH+QlyWMAYVb5gUKBewBB+pNNlnV7ATO2SDF9wWMBSui5ArpxewLahj8Wqj17AiJj3+GRuWMB0bnRkF5lewHwagqNgcVjADMDY/JBsWMBAe+0yH3NYwDw02XP/bVjAwDlwQE5vWMBMGnYmdnFYwKyag7PYeFjA0ANYxgZxWMAwqI9ni29YwCBkdK+db1jAiFPq8gBwWMB4wHM2ZnNYwLzcJpowa1jArBsCzVh2WMDABzrJi29YwBDqFxIncVjAxHza3mp2WMDojO5IO3VYwMD1gfpBcljANI3q2chsWMAscTdwvI9XwAhu/4w0aVjA4K8G4hJyWMDQdeEQC3JYwIh4U5WFb1jAnHwpqZxuWMDknml/pW9YwEx0OJzPbljArO+lcyB1WMAAGQB6049XwAQQrxW0cVjALMYJSohwWMC0y8dz23NYwAxa7FR5cFjApDwdSOFuWMD8eJykoG1YwBx/C+Cgb1jAkOcGHMpwWMD40w75229YwBiKgcnIcFjAsPQxPJNvWMDA3j6Zm29YwFhdXISYb1jABOyF25dvWMDE5XJW/nBYwNgQIushcljAsPQxPJNvWMA4zUVsY3JYwMSBo8aUb1jAaPc4cpRvWMAYSCpCX3RYwExF+HaGb1jA2Mv983xuWMDsIcuHN3BYwCDeRL8dcljAkBrCFyBwWMCINCdtzGxYwEho8SlBp1jAQJ+HJZpwWMDovyibXHJYwLgTpzDgbljAMDccIShwWMD6Y3sa3pxewPSQKxcenV7AjK5GxPKhXsDkLOebK5lewAIquP35kV7AbsU4ukaSXsDQWq/rpaNewLw4Z5HUml7AiFPq8gBwWMBI7/DcDZtewGC7zQ6ab1jAaPupRj6bXsCMuBWDom1YwCB/XZOSb1jAmJPCk9OZXsCEAt3pLIFewERsIKFJb1jA0hz7gOOSXsAcZMc86pBewBa46wHgkl7AbPF6f3+bXsAkudSkqptewL5lVFXzcF7A8EzNjm98XsCiidCw2KFewGzBfvkNmV7AoonQsNihXsAIDc2p0ZpewK60tJPVmF7A0LjTrd1fXsBmdxVCgl9ewFYCJIVBgF7AskLtG8KcXsBwThF805xewDaIsPXWnF7AJJQjZ4+5UcBYt7vmRolewFYL7kk4gV7AUNFT89mBXsBmRB8IFIJewEzJz2O0gV7AKjlmt7iZXsAIBFYwCZxewGDGvj1/m17AdFelq3ybXsAI/iVM5ptewMaMOqWokl7AhlUsABiZXsBqYHICD5JewHiE8YYLkl7A/IdJoQiSXsA=\",\"dtype\":\"float64\",\"shape\":[130]},\"location\":[\"8c489e3463b45ff\",\"8c489e3559129ff\",\"8c4898da3aa03ff\",\"8c489e2502591ff\",\"8c489e351c2dbff\",\"8c2836af5aee3ff\",\"8c2b1a26c7343ff\",\"8c489e3463167ff\",\"8c28347257965ff\",\"8c489e3635863ff\",\"8c2830958b5d9ff\",\"8c283095acf1dff\",\"8c489e3404f51ff\",\"8c283082d2f69ff\",\"8c28308ac46b9ff\",\"8c489e35591b3ff\",\"8c283082a1165ff\",\"8c489e3439621ff\",\"8c489e255394bff\",\"8c489e26b4e21ff\",\"8c48984a0d525ff\",\"8c489e346cf1bff\",\"8c489e343363dff\",\"8c4898cb3b419ff\",\"8c489e24849bdff\",\"8c489e3428a27ff\",\"8c489e3467757ff\",\"8c489e3463a9bff\",\"8c489eacac5b3ff\",\"8c489e22ca165ff\",\"8c4898cb644edff\",\"8c489e35894adff\",\"8c489e343800bff\",\"8c489eacd5647ff\",\"8c489e36c4c59ff\",\"8c489e363531dff\",\"8c489e35acb0bff\",\"8c26ed42c2355ff\",\"8c489e2ec12d9ff\",\"8c489e3635a61ff\",\"8c489e362258dff\",\"8c489e3467523ff\",\"8c489e35b08c9ff\",\"8c489e3467409ff\",\"8c489e3732297ff\",\"8c489e34d7409ff\",\"8c26ed42c38ddff\",\"8c489e2648963ff\",\"8c489e371af5dff\",\"8c489e360aec1ff\",\"8c489e3712435ff\",\"8c489e35c46b9ff\",\"8c489e372b061ff\",\"8c489e346743dff\",\"8c489e3444551ff\",\"8c489e3463b1bff\",\"8c489e344476bff\",\"8c489e34608dbff\",\"8c489e3460f6bff\",\"8c489e3460f29ff\",\"8c489e3460a97ff\",\"8c489e34398c7ff\",\"8c489e366ab37ff\",\"8c489e34608dbff\",\"8c489ead992e7ff\",\"8c489e3460f65ff\",\"8c489e3460abbff\",\"8c489eacb5263ff\",\"8c489e3467569ff\",\"8c489e3558287ff\",\"8c489e3712f41ff\",\"8c489e345d993ff\",\"8c489e35ca645ff\",\"8c489e3766d4bff\",\"8c489c02b8211ff\",\"8c489e340cd49ff\",\"8c489e363c8b7ff\",\"8c489e355b0d1ff\",\"8c489e35cb4abff\",\"8c2830829220dff\",\"8c2830829b095ff\",\"8c2830aa255d5ff\",\"8c283082a9b17ff\",\"8c28308adab2bff\",\"8c28308adac45ff\",\"8c2830b81125bff\",\"8c283082810b9ff\",\"8c489e3463a9bff\",\"8c28308283a3bff\",\"8c489e3460f63ff\",\"8c283082b31edff\",\"8c489e372b063ff\",\"8c489e3460ab9ff\",\"8c283082e3589ff\",\"8c283472e78c7ff\",\"8c489e346cc61ff\",\"8c28300500b35ff\",\"8c28346692107ff\",\"8c28300500949ff\",\"8c283082b35abff\",\"8c2830828a449ff\",\"8c283079278d5ff\",\"8c2834702cd57ff\",\"8c2830aa2529dff\",\"8c283082a1a4bff\",\"8c2830aa2529dff\",\"8c283082810c7ff\",\"8c283082e1941ff\",\"8c2832b020259ff\",\"8c2832b02713bff\",\"8c283472328c9ff\",\"8c28308293335ff\",\"8c2830829304dff\",\"8c28308293049ff\",\"8c2a302d6c569ff\",\"8c283475d4eedff\",\"8c283472ecedbff\",\"8c28347213117ff\",\"8c283472c4b27ff\",\"8c28347213991ff\",\"8c283082a31dbff\",\"8c28309506ec1ff\",\"8c283082b2519ff\",\"8c283082c26b9ff\",\"8c283082d5485ff\",\"8c28308f4daadff\",\"8c283082a18b3ff\",\"8c28308ad326dff\",\"8c28308ada9b3ff\",\"8c28308ada981ff\"],\"long_city\":[\"Austin\",\"Austin\",\"Austin\",\"Austin\",\"Austin\",\"Tracy\",\"Vinalhaven\",\"Austin\",\"Saratoga\",\"Austin\",\"San Francisco\",\"San Francisco\",\"Austin\",\"San Francisco\",\"Oakland\",\"Austin\",\"San Francisco\",\"Austin\",\"Austin\",\"Austin\",\"Georgetown\",\"Austin\",\"Austin\",\"Austin\",\"Austin\",\"Austin\",\"Austin\",\"Austin\",\"Austin\",\"Austin\",\"Austin\",\"Austin\",\"Austin\",\"Austin\",\"Austin\",\"Austin\",\"Austin\",\"Bentonville\",\"Round Rock\",\"Austin\",\"Austin\",\"Austin\",\"Austin\",\"Austin\",\"Austin\",\"Austin\",\"Bentonville\",\"Austin\",\"Austin\",\"Sunset Valley\",\"Austin\",\"Austin\",\"Austin\",\"Austin\",\"Austin\",\"Austin\",\"Austin\",\"Austin\",\"Austin\",\"Austin\",\"Austin\",\"Austin\",\"Austin\",\"Austin\",\"Austin\",\"Austin\",\"Austin\",\"Austin\",\"Austin\",\"Austin\",\"Austin\",\"Austin\",\"Austin\",\"Austin\",\"San Antonio\",\"Austin\",\"Austin\",\"Austin\",\"Austin\",\"San Francisco\",\"San Francisco\",\"Novato\",\"San Francisco\",\"Berkeley\",\"Berkeley\",\"San Rafael\",\"San Francisco\",\"Austin\",\"San Francisco\",\"Austin\",\"San Francisco\",\"Austin\",\"Austin\",\"San Francisco\",\"Cupertino\",\"Austin\",\"Napa\",\"Foster City\",\"Napa\",\"San Francisco\",\"San Francisco\",\"Davis\",\"Santa Clara\",\"Novato\",\"San Francisco\",\"Novato\",\"San Francisco\",\"San Francisco\",\"Sacramento\",\"Sacramento\",\"Cupertino\",\"San Francisco\",\"San Francisco\",\"San Francisco\",\"Hingham\",\"East Palo Alto\",\"Cupertino\",\"San Jose\",\"San Jose\",\"San Jose\",\"San Francisco\",\"San Francisco\",\"San Francisco\",\"San Francisco\",\"San Francisco\",\"Berkeley\",\"San Francisco\",\"Berkeley\",\"Berkeley\",\"Berkeley\"],\"long_country\":[\"United States\",\"United States\",\"United States\",\"United States\",\"United States\",\"United States\",\"United States\",\"United States\",\"United States\",\"United States\",\"United States\",\"United States\",\"United States\",\"United States\",\"United States\",\"United States\",\"United States\",\"United States\",\"United States\",\"United States\",\"United States\",\"United States\",\"United States\",\"United States\",\"United States\",\"United States\",\"United States\",\"United States\",\"United States\",\"United States\",\"United States\",\"United States\",\"United States\",\"United States\",\"United States\",\"United States\",\"United States\",\"United States\",\"United States\",\"United States\",\"United States\",\"United States\",\"United States\",\"United States\",\"United States\",\"United States\",\"United States\",\"United States\",\"United States\",\"United States\",\"United States\",\"United States\",\"United States\",\"United States\",\"United States\",\"United States\",\"United States\",\"United States\",\"United States\",\"United States\",\"United States\",\"United States\",\"United States\",\"United States\",\"United States\",\"United States\",\"United States\",\"United States\",\"United States\",\"United States\",\"United States\",\"United States\",\"United States\",\"United States\",\"United States\",\"United States\",\"United States\",\"United States\",\"United States\",\"United States\",\"United States\",\"United States\",\"United States\",\"United States\",\"United States\",\"United States\",\"United States\",\"United States\",\"United States\",\"United States\",\"United States\",\"United States\",\"United States\",\"United States\",\"United States\",\"United States\",\"United States\",\"United States\",\"United States\",\"United States\",\"United States\",\"United States\",\"United States\",\"United States\",\"United States\",\"United States\",\"United States\",\"United States\",\"United States\",\"United States\",\"United States\",\"United States\",\"United States\",\"United States\",\"United States\",\"United States\",\"United States\",\"United States\",\"United States\",\"United States\",\"United States\",\"United States\",\"United States\",\"United States\",\"United States\",\"United States\",\"United States\",\"United States\",\"United States\",\"United States\"],\"long_state\":[\"Texas\",\"Texas\",\"Texas\",\"Texas\",\"Texas\",\"California\",\"Maine\",\"Texas\",\"California\",\"Texas\",\"California\",\"California\",\"Texas\",\"California\",\"California\",\"Texas\",\"California\",\"Texas\",\"Texas\",\"Texas\",\"Texas\",\"Texas\",\"Texas\",\"Texas\",\"Texas\",\"Texas\",\"Texas\",\"Texas\",\"Texas\",\"Texas\",\"Texas\",\"Texas\",\"Texas\",\"Texas\",\"Texas\",\"Texas\",\"Texas\",\"Arkansas\",\"Texas\",\"Texas\",\"Texas\",\"Texas\",\"Texas\",\"Texas\",\"Texas\",\"Texas\",\"Arkansas\",\"Texas\",\"Texas\",\"Texas\",\"Texas\",\"Texas\",\"Texas\",\"Texas\",\"Texas\",\"Texas\",\"Texas\",\"Texas\",\"Texas\",\"Texas\",\"Texas\",\"Texas\",\"Texas\",\"Texas\",\"Texas\",\"Texas\",\"Texas\",\"Texas\",\"Texas\",\"Texas\",\"Texas\",\"Texas\",\"Texas\",\"Texas\",\"Texas\",\"Texas\",\"Texas\",\"Texas\",\"Texas\",\"California\",\"California\",\"California\",\"California\",\"California\",\"California\",\"California\",\"California\",\"Texas\",\"California\",\"Texas\",\"California\",\"Texas\",\"Texas\",\"California\",\"California\",\"Texas\",\"California\",\"California\",\"California\",\"California\",\"California\",\"California\",\"California\",\"California\",\"California\",\"California\",\"California\",\"California\",\"California\",\"California\",\"California\",\"California\",\"California\",\"California\",\"Massachusetts\",\"California\",\"California\",\"California\",\"California\",\"California\",\"California\",\"California\",\"California\",\"California\",\"California\",\"California\",\"California\",\"California\",\"California\",\"California\"],\"long_street\":[\"West 2nd Street\",\"Chicon Street\",\"Mesa Verde Drive\",\"Emmett Parkway\",\"Larry Lane\",\"Remington Way\",\"Unknown\",\"West 2nd Street\",\"De Havilland Court\",\"Manchaca Road\",\"Noriega Street\",\"Lincoln Way\",\"Lorrain Street\",\"Clayton Street\",\"Ocean View Drive\",\"East 4th Street\",\"Bryant Street\",\"Norwalk Lane\",\"Wells Branch Parkway\",\"Patricia Court\",\"Winecup Way\",\"Rainey Street\",\"Velasquez Drive\",\"Lakecliff Hills Lane\",\"Belfin Drive\",\"West 15th Street\",\"West 5th Street\",\"Nueces Street\",\"Unnamed Road\",\"Betty Cook Drive\",\"Lowell Lane North\",\"Shoalwood Avenue\",\"Forest Trail\",\"Yandall Drive\",\"Crystal Water Drive\",\"South Lamar Boulevard\",\"Bennett Avenue\",\"Southwest Boulder Street\",\"Manjack Cay Drive\",\"Manchaca Road\",\"Manchaca Road\",\"Congress Avenue\",\"Sales Street\",\"West 6th Street\",\"Holly Street\",\"Manana Street\",\"Southwest Boulder Street\",\"Williams Ridge Way\",\"Durwood Street\",\"Pillow Road\",\"West Milton Street\",\"Guadalupe Street\",\"East Riverside Drive\",\"Unknown\",\"South Lamar Boulevard\",\"West 4th Street\",\"South Lamar Boulevard\",\"Congress Avenue\",\"Congress Avenue\",\"East 2nd Street\",\"Congress Avenue\",\"Woodmont Avenue\",\"South 1st Street\",\"Congress Avenue\",\"South Congress Avenue\",\"Congress Avenue\",\"Congress Avenue\",\"Davis Lane\",\"East 6th Street\",\"East 6th Street\",\"West Milton Street\",\"Graywood Cove\",\"Lawton Avenue\",\"Maxwell Lane\",\"Gallant Forest\",\"West 5th Street\",\"Texas 343 Loop\",\"East 8th Street\",\"West 35th Street\",\"Sacramento Street\",\"Stanyan Street\",\"Malobar Drive\",\"King Street\",\"Acton Street\",\"Ashby Avenue\",\"Las Colindas Road\",\"Mission Street\",\"Nueces Street\",\"Gough Street\",\"Congress Avenue\",\"Filbert Street\",\"Faro Drive\",\"Congress Avenue\",\"Division Street\",\"Colby Avenue\",\"Rainey Street\",\"Tade Court\",\"Widgeon Street\",\"Agile Street\",\"Octavia Street\",\"Haight Street\",\"Quail Street\",\"Alviso Street\",\"Andale Avenue\",\"Federal Street\",\"Andale Avenue\",\"Mission Street\",\"3rd Street\",\"11th Street\",\"O Street\",\"Bret Avenue\",\"Laurel Street\",\"Collins Street\",\"Manzanita Avenue\",\"Thaxter Street\",\"East Okeefe Street\",\"Pineville Avenue\",\"Rainbow Drive\",\"Unknown\",\"Arlington Lane\",\"Montgomery Street\",\"Capistrano Avenue\",\"Octavia Street\",\"20th Street\",\"Collingwood Street\",\"Cornell Avenue\",\"Harrison Street\",\"Ashby Avenue\",\"Ashby Avenue\",\"Carrison Street\"],\"name\":[\"proper-orchid-bee\",\"strong-tortilla-marmot\",\"savory-juniper-whale\",\"future-punch-ant\",\"clever-basil-moose\",\"tall-watermelon-dog\",\"cool-mossy-horse\",\"obedient-mustard-sheep\",\"flat-lilac-shrimp\",\"beautiful-onyx-platypus\",\"daring-amethyst-frog\",\"bitter-bronze-okapi\",\"tame-wooden-anteater\",\"spicy-seafoam-tadpole\",\"howling-gauze-guppy\",\"brave-lemon-ant\",\"acidic-red-mouse\",\"cheesy-fuzzy-shrimp\",\"recumbent-goldenrod-griffin\",\"howling-violet-millipede\",\"radiant-sable-swallow\",\"sneaky-champagne-pig\",\"damaged-concrete-walrus\",\"long-rosewood-boar\",\"itchy-flint-puma\",\"dazzling-bone-zebra\",\"genuine-powder-halibut\",\"bent-honey-starfish\",\"itchy-plastic-parakeet\",\"soaring-iris-beetle\",\"ripe-goldenrod-cheetah\",\"melodic-amber-hawk\",\"dizzy-strawberry-cricket\",\"savory-chili-terrier\",\"noisy-laurel-starling\",\"flat-magenta-chipmunk\",\"dandy-cobalt-lemur\",\"thankful-chili-millipede\",\"basic-ginger-oyster\",\"melodic-pearl-chameleon\",\"bubbly-mandarin-panther\",\"tiny-vermilion-platypus\",\"teeny-cotton-hawk\",\"stale-black-opossum\",\"happy-strawberry-lion\",\"orbiting-mint-carp\",\"sparkly-sable-sparrow\",\"scrawny-obsidian-halibut\",\"refined-bubblegum-poodle\",\"noisy-onyx-peacock\",\"young-sage-rook\",\"muscular-lavender-owl\",\"zany-chambray-camel\",\"dizzy-opaque-wolf\",\"clean-nylon-okapi\",\"dry-pebble-moose\",\"shambolic-rusty-cyborg\",\"proud-bubblegum-opossum\",\"agreeable-umber-python\",\"elegant-hazel-starling\",\"loud-juniper-boar\",\"bumpy-boysenberry-manatee\",\"blurry-seafoam-ape\",\"atomic-fuzzy-dove\",\"orbiting-cream-starfish\",\"thankful-seafoam-ant\",\"sneaky-mulberry-parrot\",\"merry-lemon-orca\",\"teeny-cider-troll\",\"stale-menthol-piranha\",\"polished-pearl-anteater\",\"round-white-sidewinder\",\"micro-clear-griffin\",\"creamy-linen-octopus\",\"spare-turquoise-otter\",\"delightful-aqua-blackbird\",\"cheesy-wooden-bird\",\"clever-pickle-sparrow\",\"spare-porcelain-penguin\",\"fierce-onyx-spider\",\"sour-honey-llama\",\"agreeable-walnut-weasel\",\"magic-rainbow-wasp\",\"fit-iron-monkey\",\"micro-tiger-tuna\",\"tall-blonde-condor\",\"generous-mossy-goat\",\"melted-sable-turkey\",\"joyful-golden-chameleon\",\"cuddly-sapphire-narwhal\",\"special-graphite-cat\",\"main-mahogany-crane\",\"beautiful-burgundy-rat\",\"rare-burlap-python\",\"joyous-beige-moose\",\"high-frost-blackbird\",\"acidic-lime-haddock\",\"precise-tangerine-rat\",\"fancy-glossy-rat\",\"delightful-stone-beetle\",\"boxy-holographic-rook\",\"decent-tortilla-bee\",\"custom-walnut-monkey\",\"immense-eggplant-stallion\",\"rapid-corduroy-halibut\",\"curly-berry-coyote\",\"precise-orange-peacock\",\"mythical-jade-tarantula\",\"rhythmic-shadow-spider\",\"fierce-turquoise-anteater\",\"main-pistachio-pangolin\",\"slow-burgundy-mandrill\",\"magic-carob-quail\",\"harsh-concrete-lizard\",\"dandy-champagne-pike\",\"skinny-fuchsia-mink\",\"sweet-pebble-aphid\",\"funny-jade-bull\",\"breezy-coal-deer\",\"clever-tan-panther\",\"dandy-sangria-okapi\",\"fresh-golden-wasp\",\"joyous-burgundy-chicken\",\"melted-iron-seal\",\"immense-mercurial-crocodile\",\"sparkly-aqua-wren\",\"mini-currant-lizard\",\"prehistoric-mossy-snail\",\"mythical-tin-hawk\",\"mean-alabaster-piranha\"],\"owner\":[\"14CryK8VwHBvWZvU4hEdbYBeUxrW7ZkWbfWGs2QefJzKxQbbxm8\",\"14CryK8VwHBvWZvU4hEdbYBeUxrW7ZkWbfWGs2QefJzKxQbbxm8\",\"14CryK8VwHBvWZvU4hEdbYBeUxrW7ZkWbfWGs2QefJzKxQbbxm8\",\"13jL4pTLq4JQBwDoH1ZBX3VPchmeTZxQSGi4cnyXXuzPPoKxcd5\",\"149ojHmuDHk7hhJbww5xUpv68jgR1GFTFttcBV87eBvHkRMestS\",\"13b75UVnSQAxRiyxc1T2q8hgwcrYg6qTVj48PRyEL69os7x2aXN\",\"13ZoK5nhUY1bLMTPr81LL2pG4gxN4pmtCNCJSmLh7BVhk8EEmLv\",\"13q8L4fQHYFPBENYugVJuwtG1yrvmr4dvhxJtQzxWEbfNhF9Gny\",\"13jFJ9LmooHjv6TnFWNryLDrDU3bEBf3FpCWfcdUN6NEDatm8o1\",\"14p1ECNRHUpxazwib3VijrNsmsAAsuMfMa84uCsXxp6JqZ29eaY\",\"12z4nUiayZnbW46azcegBBB9yGkchFb1Zm7EPuh6eV1r2HT1NgC\",\"14aEqJhfWwvynhHSzP4cLuZuW7yuENkdD3nu3yFZBQmZNpaYMa5\",\"13jL4pTLq4JQBwDoH1ZBX3VPchmeTZxQSGi4cnyXXuzPPoKxcd5\",\"13PqfSmY66odJDdEUYVuUewaNqe43zenTdvjvTfvMwBtBRh4ZMn\",\"1383ziQFpmSiW4Q6Nw73eaR6f5oTP4PsjzaECbf3mGVd2TrqKqq\",\"13jL4pTLq4JQBwDoH1ZBX3VPchmeTZxQSGi4cnyXXuzPPoKxcd5\",\"142MT8yuvepnVCwkVxgBPddotHcXKJXtw1yCXVhobawMv3w8L99\",\"13jL4pTLq4JQBwDoH1ZBX3VPchmeTZxQSGi4cnyXXuzPPoKxcd5\",\"13jL4pTLq4JQBwDoH1ZBX3VPchmeTZxQSGi4cnyXXuzPPoKxcd5\",\"13jL4pTLq4JQBwDoH1ZBX3VPchmeTZxQSGi4cnyXXuzPPoKxcd5\",\"13jL4pTLq4JQBwDoH1ZBX3VPchmeTZxQSGi4cnyXXuzPPoKxcd5\",\"13jL4pTLq4JQBwDoH1ZBX3VPchmeTZxQSGi4cnyXXuzPPoKxcd5\",\"13ZoK5nhUY1bLMTPr81LL2pG4gxN4pmtCNCJSmLh7BVhk8EEmLv\",\"13jL4pTLq4JQBwDoH1ZBX3VPchmeTZxQSGi4cnyXXuzPPoKxcd5\",\"13jL4pTLq4JQBwDoH1ZBX3VPchmeTZxQSGi4cnyXXuzPPoKxcd5\",\"13jL4pTLq4JQBwDoH1ZBX3VPchmeTZxQSGi4cnyXXuzPPoKxcd5\",\"13o9KUMcmEdhtjXRaJ5AANHLZWBoGcTmF4MFw3MjQbubjR57jXW\",\"13jL4pTLq4JQBwDoH1ZBX3VPchmeTZxQSGi4cnyXXuzPPoKxcd5\",\"13jL4pTLq4JQBwDoH1ZBX3VPchmeTZxQSGi4cnyXXuzPPoKxcd5\",\"13jL4pTLq4JQBwDoH1ZBX3VPchmeTZxQSGi4cnyXXuzPPoKxcd5\",\"13jL4pTLq4JQBwDoH1ZBX3VPchmeTZxQSGi4cnyXXuzPPoKxcd5\",\"13jL4pTLq4JQBwDoH1ZBX3VPchmeTZxQSGi4cnyXXuzPPoKxcd5\",\"13o9KUMcmEdhtjXRaJ5AANHLZWBoGcTmF4MFw3MjQbubjR57jXW\",\"13jL4pTLq4JQBwDoH1ZBX3VPchmeTZxQSGi4cnyXXuzPPoKxcd5\",\"13jL4pTLq4JQBwDoH1ZBX3VPchmeTZxQSGi4cnyXXuzPPoKxcd5\",\"13zwMXQwFBNxKGKJvurjGhVjTfkunwsC3GghtE9SyeUYDJei3t3\",\"13zuBf3QXx95aSpR3AgXiR6hjLzbqHqnwHGErXTxb49UrSngKU3\",\"13ickN56yPe38a3Vga161gp4nkSLckWvy7JChvnFr9osfP4AHGE\",\"13N2Q7qaxvtxiG3WRaR4bT1PAHS72t1AAfSvazcfut8FceQ7yXC\",\"13jL4pTLq4JQBwDoH1ZBX3VPchmeTZxQSGi4cnyXXuzPPoKxcd5\",\"13jL4pTLq4JQBwDoH1ZBX3VPchmeTZxQSGi4cnyXXuzPPoKxcd5\",\"13o9KUMcmEdhtjXRaJ5AANHLZWBoGcTmF4MFw3MjQbubjR57jXW\",\"13x6xCFEw1mq8spGP3xPWJnKuepb4wZJPUMbpk1g4HBCV6jpxMV\",\"13o9KUMcmEdhtjXRaJ5AANHLZWBoGcTmF4MFw3MjQbubjR57jXW\",\"14E4ihsukiU3Zdkqi2RNs6EWKuuQEK38rgmPTuSD2wSsSHfx7ry\",\"1328ZwD3SHEjnNwo4f4AoNppMZBg2NkSRjgUb2FSH6dbRsTWPN6\",\"13ickN56yPe38a3Vga161gp4nkSLckWvy7JChvnFr9osfP4AHGE\",\"13sKwLL85zvYvnCm8cvZrYCEmRWkpmNaY9eCShoDota6VCuFRBx\",\"12x4r5XkM65BH6TDMz1a7X4FrYWWZLArJMg6EL3pv3ytKfLA99d\",\"1418RhwsMfqEbFDJxSopAXird8qRHqw1FTYvMCRdDPHERes4Kea\",\"13jL4pTLq4JQBwDoH1ZBX3VPchmeTZxQSGi4cnyXXuzPPoKxcd5\",\"13Yz557GVBUvcTQkXCsx8AKFAh3TmsXbWNWXMNTaM4SEAVoevvB\",\"13jL4pTLq4JQBwDoH1ZBX3VPchmeTZxQSGi4cnyXXuzPPoKxcd5\",\"13o9KUMcmEdhtjXRaJ5AANHLZWBoGcTmF4MFw3MjQbubjR57jXW\",\"13jL4pTLq4JQBwDoH1ZBX3VPchmeTZxQSGi4cnyXXuzPPoKxcd5\",\"13MrkJ2L6LBfCmsnaHJvxjBxEE1HrgToCEjnBoL8dqeyvTdHj92\",\"13jL4pTLq4JQBwDoH1ZBX3VPchmeTZxQSGi4cnyXXuzPPoKxcd5\",\"13jL4pTLq4JQBwDoH1ZBX3VPchmeTZxQSGi4cnyXXuzPPoKxcd5\",\"13jL4pTLq4JQBwDoH1ZBX3VPchmeTZxQSGi4cnyXXuzPPoKxcd5\",\"13jL4pTLq4JQBwDoH1ZBX3VPchmeTZxQSGi4cnyXXuzPPoKxcd5\",\"13jL4pTLq4JQBwDoH1ZBX3VPchmeTZxQSGi4cnyXXuzPPoKxcd5\",\"13o9KUMcmEdhtjXRaJ5AANHLZWBoGcTmF4MFw3MjQbubjR57jXW\",\"14JPT1gUGHPkfpTEMEAYtdhnBGmJm95XNXK3DhBxcZm3z5kPtwn\",\"13jL4pTLq4JQBwDoH1ZBX3VPchmeTZxQSGi4cnyXXuzPPoKxcd5\",\"14ZKktN1fYq74ZfR19ix8rZnA3EiXzFcsrwN4MtExnVAPH6JPPP\",\"13jL4pTLq4JQBwDoH1ZBX3VPchmeTZxQSGi4cnyXXuzPPoKxcd5\",\"13jL4pTLq4JQBwDoH1ZBX3VPchmeTZxQSGi4cnyXXuzPPoKxcd5\",\"139i97spJpNYJoQr5ik2zFq5L77U1SfXTkTh1gbxVgSMrfvTc6s\",\"13o9KUMcmEdhtjXRaJ5AANHLZWBoGcTmF4MFw3MjQbubjR57jXW\",\"14hCqYFCtetS6RMQNfi9abKUqVyZnJqcSkbWxewhiL97dZuPwMi\",\"12yS1GsggJLDaM43fpJn9NZLLHFAFztUYc4EaxuHT8LXK7afKh6\",\"14ZKktN1fYq74ZfR19ix8rZnA3EiXzFcsrwN4MtExnVAPH6JPPP\",\"14PMavd2wcQ6GiqZQFkx8PQhHNGwaW7XZgwX3kcHkDZWauZXs5a\",\"13hDQpbcSe9jZX5giU2sNeynLpHQoLKF8mWkUrpuqVyFgu9ycSq\",\"13vNfrpCAyd19Je8dsqpJh2oDbk57mVhZto5XFcL5zwDk1asuGX\",\"13Ty4sVxzX7hMACPGnYHGiGTUHsZwUPKjQYnXCWSpqe3ZTxeV8m\",\"136Q6at4MoCEqaih29WQTZSabepvpSgcqBUW3etyNiERjs6jKCb\",\"13MeciKTq52Jjyu1K5cCvYAjjcRh3McM45KLrKvuyZpqBeTjUv7\",\"13o9KUMcmEdhtjXRaJ5AANHLZWBoGcTmF4MFw3MjQbubjR57jXW\",\"13s2mVc16F2dubZWPLNDyTvLbQbJJcndJ7o27vdj4nnpEqRkmkW\",\"12z4nUiayZnbW46azcegBBB9yGkchFb1Zm7EPuh6eV1r2HT1NgC\",\"13buBykFQf5VaQtv7mWj2PBY9Lq4i1DeXhg7C4Vbu3ppzqqNkTH\",\"13buBykFQf5VaQtv7mWj2PBY9Lq4i1DeXhg7C4Vbu3ppzqqNkTH\",\"14a5sytsEVKBVhGsVz2rJDkxf1cs1L89zvtFjmPtmPzrQHXPVjF\",\"14a5sytsEVKBVhGsVz2rJDkxf1cs1L89zvtFjmPtmPzrQHXPVjF\",\"14X1W4KJr9QyHuqu6myDBpAdd6ouQbPYL3B4rmJvJjd2GKkUdBj\",\"14cLFi9kcteykbXX4fHNkLPhp3pyS8LpPancCJ6QFoMzS9pQcqG\",\"13mRJKFBgWWe1k83MKmpiRinkb6GDcX1piwWoH7S8RA8MuMDE4b\",\"14gBAk2RW8jARJoNY39CvLJyXjDQLx4Uj7VdJM47ep3SbixsugY\",\"14i6nM1RbWbjQFg5NFbZS3aZJgpUGZUx5toarz6jZLPpNAb95Tq\",\"14i3sMETM5PNazzcCvRUCjH6c9juCtWB2Z6UW8VFTAy1dDLzLdc\",\"14i6nM1RbWbjQFg5NFbZS3aZJgpUGZUx5toarz6jZLPpNAb95Tq\",\"14i6nM1RbWbjQFg5NFbZS3aZJgpUGZUx5toarz6jZLPpNAb95Tq\",\"12xUoMKwf12ABjNx4VCvYcNkX79gW1kzz2JnBLxkFbjswRczRvM\",\"13XZMwqMhZnjCK7JddxYBxpYf9cCLqEZGp4wHHTNSPvwRJ1gjPs\",\"13zzVQKvYM7QBYYpcEdz46Eprjj1ai2BhRdYZhFZfV6KKDgtsjn\",\"12ymxmzj2PHBdPv8pJZreUfa6twLWwcS3Y3ZdnP8UuDgaeGmK7p\",\"14Vh42vnNws4wBStivM6gPevb7sNAbWMHqsWKb617TSxr7mReL4\",\"12ymxmzj2PHBdPv8pJZreUfa6twLWwcS3Y3ZdnP8UuDgaeGmK7p\",\"14eVPPhEPT3WwdRMqNEfbv6Pm6BADS8dCzT1auf5bKX74oTipbD\",\"1373AqVQ2ZoMnzC5eHmzuRfMkmeFumdarza2GcLxbA9SrkoN8LK\",\"13hFYvVmD2US31aVSKCkvkUoDf8uAtS8UUWnGDjvDoCewDafBXj\",\"14Y2o9cMKEhTJ87G19Sp4occBrQxVdE3mJM3xMiJEj1auLF3Qga\",\"13buBykFQf5VaQtv7mWj2PBY9Lq4i1DeXhg7C4Vbu3ppzqqNkTH\",\"13buBykFQf5VaQtv7mWj2PBY9Lq4i1DeXhg7C4Vbu3ppzqqNkTH\",\"13buBykFQf5VaQtv7mWj2PBY9Lq4i1DeXhg7C4Vbu3ppzqqNkTH\",\"13buBykFQf5VaQtv7mWj2PBY9Lq4i1DeXhg7C4Vbu3ppzqqNkTH\",\"14e35CChhsnuHJxjjzYAxsHKBKDgjUop4GuD8esB7gE2VDoyPXT\",\"13EEVvbnpmjgwmEUDnYBLbQxbbAj9kiYWTU853QYX3uNC4xw4Le\",\"13EEVvbnpmjgwmEUDnYBLbQxbbAj9kiYWTU853QYX3uNC4xw4Le\",\"13zCZhFapZHTgsDDba76Ts9yATNAhULH2Dm1df6AxbrMuZqySP5\",\"12z4nUiayZnbW46azcegBBB9yGkchFb1Zm7EPuh6eV1r2HT1NgC\",\"12z4nUiayZnbW46azcegBBB9yGkchFb1Zm7EPuh6eV1r2HT1NgC\",\"12z4nUiayZnbW46azcegBBB9yGkchFb1Zm7EPuh6eV1r2HT1NgC\",\"14cKr7Qs93gdyLguKXf6Pg2SdryopG7dWSgiC6JWKHozuRQjmK8\",\"13q8hu17nMuZTDoXBXCLiiG59qasZXvrbme9WnLhahW1VAkR3rN\",\"14Ak9NAUHN9SHdbTq5te988yStzRaCqSGtcnQ3N2d3vA1YsUzuK\",\"141yoNX5qmd313Rx1a1zvWD3T2PVUm6EdzZcFpssH3HJBF3ucvg\",\"13zjsrN7BAom45N7DXornx7htbMgJwa6azn4G6UcesgASrsTomv\",\"13zjsrN7BAom45N7DXornx7htbMgJwa6azn4G6UcesgASrsTomv\",\"13zjsrN7BAom45N7DXornx7htbMgJwa6azn4G6UcesgASrsTomv\",\"142MT8yuvepnVCwkVxgBPddotHcXKJXtw1yCXVhobawMv3w8L99\",\"14mhFy8dVhy7eCzyNQWgCQRk9miduSW4raZdbjr1iRquXGmLt24\",\"148sAphN7RmmiGEYXz1dghgZTLz8kUphBrToPUgWQqNZXWuHbJE\",\"148sAphN7RmmiGEYXz1dghgZTLz8kUphBrToPUgWQqNZXWuHbJE\",\"146ZSvFEnjARrnGEZSKavQ7YmvXoweKKk6ib4Az2e4rx37PscXY\",\"13E4Z24HzqqvaXFhXgLsK3zPxyMF88C1M246TFNHnAJqg6KCtnT\",\"14a5sytsEVKBVhGsVz2rJDkxf1cs1L89zvtFjmPtmPzrQHXPVjF\",\"14a5sytsEVKBVhGsVz2rJDkxf1cs1L89zvtFjmPtmPzrQHXPVjF\",\"14a5sytsEVKBVhGsVz2rJDkxf1cs1L89zvtFjmPtmPzrQHXPVjF\"],\"score\":{\"__ndarray__\":\"AAAAAAAA0D/c14FzRpTePwAAAAAAANA/AAAAAAAA0D8AAAAAAADQPwAAAAAAANA/AAAAAAAA0D85tMh2vp96PwAAAAAAANA/nRGlvcEX7j8AAAAAAADQP86I0t7gC8M/pSxDHOvipj/4wmSqYFTCPwAAAAAAANA/ETY8vVKWwT+5/If029fhPwAAAAAAANA/AAAAAAAA0D8AAAAAAADQPwAAAAAAANA/swxxrIvbuD9MN4lBYOXAPwAAAAAAANA/AAAAAAAA0D+NKO0NvjDBP7U3+MJkqtQ/+n5qvHSTWD8AAAAAAADQPwAAAAAAANA/AAAAAAAA0D8vbqMBvAXCPzy9UpYhjrU/AAAAAAAA0D8AAAAAAADQP/rt68A5I+Q/AAAAAAAA0D8AAAAAAADQPwAAAAAAANA/w/UoXI/C6T+dEaW9wRfsPwBvgQTFj90/AAAAAAAA0D+IY13cRgPAP1InoImw4cE/AAAAAAAA0D8AAAAAAADQPwAAAAAAANA/mG4Sg8DKwT8AAAAAAADQP5MYBFYOLcI/Dwu1pnnHuT8AAAAAAADQP0+vlGWIY+c/KcsQx7q46T990LNZ9bmaP6JFtvP91Ow/IEHxY8xdwz+srdhfdk9+P/cGX5hMFbw/P8bctYR8kD9hMlUwKqnDPwAAAAAAANA/WDm0yHa+nz8AAAAAAADQP/5l9+RhodI/1edqK/aXxT8AAAAAAADQP74wmSoYleo/ApoIG55ewT9+jLlrCfnAP8ZtNIC3QMI/cM6I0t7g0z+qYFRSJ6C5PwAAAAAAANA/B/AWSFD8mD8GEhQ/xtylPzGZKhiV1ME/AAAAAAAA0D+ASL99HTjbP4ts5/up8cI/AAAAAAAA0D/7y+7Jw0LFPxSuR+F6FOY/UPwYc9cS4j8AAAAAAADQP2HD0ytlGcI/L26jAbwFwj9EaW/whcnEPyfChqdXyug/7FG4HoXr4T8AAAAAAADQP/wYc9cS8uM/uK8D54wovT8AAAAAAADQP42XbhKDwMI/AAAAAAAA0D8AAAAAAADQPwAAAAAAANA/24r9Zffk7T8EVg4tsp2/PwAAAAAAANA/AAAAAAAA0D/pJjEIrBzCPy9uowG8BVI/AAAAAAAA0D8LtaZ5xynCPwAAAAAAANA/AAAAAAAA0D8AAAAAAADQPwAAAAAAANA/2/l+arx0wz+QoPgx5q7vP4iFWtO84+A/AAAAAAAA0D8AAAAAAADQP/LSTWIQWLk/AAAAAAAA0D/BqKROQBPBPwAAAAAAANA/vjCZKhiV5D8AAAAAAADQP5OpglFJnew/BTQRNjy9wj+1pnnHKTrKPwAAAAAAANA/FYxK6gQ07T8ofoy5awnBP1MFo5I6Ae0/XdxGA3gL7j8=\",\"dtype\":\"float64\",\"shape\":[130]},\"score_update_height\":[14444,14444,14444,14444,14444,14444,14444,14444,14444,14444,14444,14444,14444,14444,14444,14444,14444,14444,14444,14444,14444,14444,14444,14444,14444,14444,14444,14444,14444,14444,14444,14444,14444,14444,14444,14444,14444,14444,14444,14444,14444,14444,14444,14444,14444,14444,14444,14444,14444,14444,14444,14444,14444,14444,14444,14444,14444,14444,14444,14444,14444,14444,14444,14444,14444,14444,14444,14444,14444,14444,14444,14444,14444,14444,14444,14444,14444,14444,14444,14444,14444,14444,14444,14444,14444,14444,14444,14444,14444,14444,14444,14444,14444,14444,14444,14444,14444,14444,14444,14444,14444,14444,14444,14444,14444,14444,14444,14444,14444,14444,14444,14444,14444,14444,14444,14444,14444,14444,14444,14444,14444,14444,14444,14444,14444,14444,14444,14444,14444,14444],\"short_city\":[\"Austin\",\"Austin\",\"Austin\",\"Austin\",\"Austin\",\"Tracy\",\"Vinalhaven\",\"Austin\",\"Saratoga\",\"Austin\",\"SF\",\"SF\",\"Austin\",\"SF\",\"Oakland\",\"Austin\",\"SF\",\"Austin\",\"Austin\",\"Austin\",\"Georgetown\",\"Austin\",\"Austin\",\"Austin\",\"Austin\",\"Austin\",\"Austin\",\"Austin\",\"Austin\",\"Austin\",\"Austin\",\"Austin\",\"Austin\",\"Austin\",\"Austin\",\"Austin\",\"Austin\",\"Bentonville\",\"Round Rock\",\"Austin\",\"Austin\",\"Austin\",\"Austin\",\"Austin\",\"Austin\",\"Austin\",\"Bentonville\",\"Austin\",\"Austin\",\"Sunset Valley\",\"Austin\",\"Austin\",\"Austin\",\"Austin\",\"Austin\",\"Austin\",\"Austin\",\"Austin\",\"Austin\",\"Austin\",\"Austin\",\"Austin\",\"Austin\",\"Austin\",\"Austin\",\"Austin\",\"Austin\",\"Austin\",\"Austin\",\"Austin\",\"Austin\",\"Austin\",\"Austin\",\"Austin\",\"San Antonio\",\"Austin\",\"Austin\",\"Austin\",\"Austin\",\"SF\",\"SF\",\"Novato\",\"SF\",\"Berkeley\",\"Berkeley\",\"San Rafael\",\"SF\",\"Austin\",\"SF\",\"Austin\",\"SF\",\"Austin\",\"Austin\",\"SF\",\"Cupertino\",\"Austin\",\"Napa\",\"Foster City\",\"Napa\",\"SF\",\"SF\",\"Davis\",\"Santa Clara\",\"Novato\",\"SF\",\"Novato\",\"SF\",\"SF\",\"Sacramento\",\"Sacramento\",\"Cupertino\",\"SF\",\"SF\",\"SF\",\"Hingham\",\"East Palo Alto\",\"Cupertino\",\"San Jose\",\"San Jose\",\"San Jose\",\"SF\",\"SF\",\"SF\",\"SF\",\"SF\",\"Berkeley\",\"SF\",\"Berkeley\",\"Berkeley\",\"Berkeley\"],\"short_country\":[\"US\",\"US\",\"US\",\"US\",\"US\",\"US\",\"US\",\"US\",\"US\",\"US\",\"US\",\"US\",\"US\",\"US\",\"US\",\"US\",\"US\",\"US\",\"US\",\"US\",\"US\",\"US\",\"US\",\"US\",\"US\",\"US\",\"US\",\"US\",\"US\",\"US\",\"US\",\"US\",\"US\",\"US\",\"US\",\"US\",\"US\",\"US\",\"US\",\"US\",\"US\",\"US\",\"US\",\"US\",\"US\",\"US\",\"US\",\"US\",\"US\",\"US\",\"US\",\"US\",\"US\",\"US\",\"US\",\"US\",\"US\",\"US\",\"US\",\"US\",\"US\",\"US\",\"US\",\"US\",\"US\",\"US\",\"US\",\"US\",\"US\",\"US\",\"US\",\"US\",\"US\",\"US\",\"US\",\"US\",\"US\",\"US\",\"US\",\"US\",\"US\",\"US\",\"US\",\"US\",\"US\",\"US\",\"US\",\"US\",\"US\",\"US\",\"US\",\"US\",\"US\",\"US\",\"US\",\"US\",\"US\",\"US\",\"US\",\"US\",\"US\",\"US\",\"US\",\"US\",\"US\",\"US\",\"US\",\"US\",\"US\",\"US\",\"US\",\"US\",\"US\",\"US\",\"US\",\"US\",\"US\",\"US\",\"US\",\"US\",\"US\",\"US\",\"US\",\"US\",\"US\",\"US\",\"US\",\"US\",\"US\",\"US\"],\"short_state\":[\"TX\",\"TX\",\"TX\",\"TX\",\"TX\",\"CA\",\"ME\",\"TX\",\"CA\",\"TX\",\"CA\",\"CA\",\"TX\",\"CA\",\"CA\",\"TX\",\"CA\",\"TX\",\"TX\",\"TX\",\"TX\",\"TX\",\"TX\",\"TX\",\"TX\",\"TX\",\"TX\",\"TX\",\"TX\",\"TX\",\"TX\",\"TX\",\"TX\",\"TX\",\"TX\",\"TX\",\"TX\",\"AR\",\"TX\",\"TX\",\"TX\",\"TX\",\"TX\",\"TX\",\"TX\",\"TX\",\"AR\",\"TX\",\"TX\",\"TX\",\"TX\",\"TX\",\"TX\",\"TX\",\"TX\",\"TX\",\"TX\",\"TX\",\"TX\",\"TX\",\"TX\",\"TX\",\"TX\",\"TX\",\"TX\",\"TX\",\"TX\",\"TX\",\"TX\",\"TX\",\"TX\",\"TX\",\"TX\",\"TX\",\"TX\",\"TX\",\"TX\",\"TX\",\"TX\",\"CA\",\"CA\",\"CA\",\"CA\",\"CA\",\"CA\",\"CA\",\"CA\",\"TX\",\"CA\",\"TX\",\"CA\",\"TX\",\"TX\",\"CA\",\"CA\",\"TX\",\"CA\",\"CA\",\"CA\",\"CA\",\"CA\",\"CA\",\"CA\",\"CA\",\"CA\",\"CA\",\"CA\",\"CA\",\"CA\",\"CA\",\"CA\",\"CA\",\"CA\",\"CA\",\"MA\",\"CA\",\"CA\",\"CA\",\"CA\",\"CA\",\"CA\",\"CA\",\"CA\",\"CA\",\"CA\",\"CA\",\"CA\",\"CA\",\"CA\",\"CA\"],\"short_street\":[\"W 2nd St\",\"Chicon St\",\"Mesa Verde Dr\",\"Emmett Pkwy\",\"Larry Ln\",\"Remington Way\",\"Unknown\",\"W 2nd St\",\"De Havilland Ct\",\"Manchaca Rd\",\"Noriega St\",\"Lincoln Way\",\"Lorrain St\",\"Clayton St\",\"Ocean View Dr\",\"E 4th St\",\"Bryant St\",\"Norwalk Ln\",\"Wells Branch Pkwy\",\"Patricia Ct\",\"Winecup Way\",\"Rainey St\",\"Velasquez Dr\",\"Lakecliff Hills Ln\",\"Belfin Dr\",\"W 15th St\",\"W 5th St\",\"Nueces St\",\"Unnamed Road\",\"Betty Cook Dr\",\"Lowell Ln N\",\"Shoalwood Ave\",\"Forest Trail\",\"Yandall Dr\",\"Crystal Water Dr\",\"S Lamar Blvd\",\"Bennett Ave\",\"SW Boulder St\",\"Manjack Cay Dr\",\"Manchaca Rd\",\"Manchaca Rd\",\"Congress Ave\",\"Sales St\",\"W 6th St\",\"Holly St\",\"Manana St\",\"SW Boulder St\",\"Williams Ridge Way\",\"Durwood St\",\"Pillow Rd\",\"W Milton St\",\"Guadalupe St\",\"E Riverside Dr\",\"Unknown\",\"S Lamar Blvd\",\"W 4th St\",\"S Lamar Blvd\",\"Congress Ave\",\"Congress Ave\",\"E 2nd St\",\"Congress Ave\",\"Woodmont Ave\",\"S 1st St\",\"Congress Ave\",\"S Congress Ave\",\"Congress Ave\",\"Congress Ave\",\"Davis Ln\",\"E 6th St\",\"E 6th St\",\"W Milton St\",\"Graywood Cove\",\"Lawton Ave\",\"Maxwell Ln\",\"Gallant Forest\",\"W 5th St\",\"TX-343 Loop\",\"E 8th St\",\"W 35th St\",\"Sacramento St\",\"Stanyan St\",\"Malobar Dr\",\"King St\",\"Acton St\",\"Ashby Ave\",\"Las Colindas Rd\",\"Mission St\",\"Nueces St\",\"Gough St\",\"Congress Ave\",\"Filbert St\",\"Faro Dr\",\"Congress Ave\",\"Division St\",\"Colby Ave\",\"Rainey St\",\"Tade Ct\",\"Widgeon St\",\"Agile Street\",\"Octavia St\",\"Haight St\",\"Quail St\",\"Alviso St\",\"Andale Ave\",\"Federal St\",\"Andale Ave\",\"Mission St\",\"3rd St\",\"11th St\",\"O St\",\"Bret Ave\",\"Laurel St\",\"Collins St\",\"Manzanita Ave\",\"Thaxter St\",\"E Okeefe St\",\"Pineville Ave\",\"Rainbow Dr\",\"Unknown\",\"Arlington Ln\",\"Montgomery St\",\"Capistrano Ave\",\"Octavia St\",\"20th St\",\"Collingwood St\",\"Cornell Ave\",\"Harrison St\",\"Ashby Ave\",\"Ashby Ave\",\"Carrison St\"]},\"selected\":{\"id\":\"1161\",\"type\":\"Selection\"},\"selection_policy\":{\"id\":\"1162\",\"type\":\"UnionRenderers\"}},\"id\":\"1105\",\"type\":\"ColumnDataSource\"},{\"attributes\":{},\"id\":\"1131\",\"type\":\"HelpTool\"},{\"attributes\":{},\"id\":\"1126\",\"type\":\"PanTool\"},{\"attributes\":{},\"id\":\"1159\",\"type\":\"CategoricalTickFormatter\"},{\"attributes\":{},\"id\":\"1161\",\"type\":\"Selection\"},{\"attributes\":{\"fill_alpha\":{\"value\":0.1},\"fill_color\":{\"value\":\"#1f77b4\"},\"line_alpha\":{\"value\":0.1},\"line_color\":{\"value\":\"#1f77b4\"},\"top\":{\"field\":\"score\"},\"width\":{\"value\":0.8},\"x\":{\"field\":\"name\"}},\"id\":\"1141\",\"type\":\"VBar\"},{\"attributes\":{},\"id\":\"1118\",\"type\":\"CategoricalTicker\"},{\"attributes\":{\"axis_label\":\"Score\",\"formatter\":{\"id\":\"1157\",\"type\":\"BasicTickFormatter\"},\"ticker\":{\"id\":\"1122\",\"type\":\"BasicTicker\"}},\"id\":\"1121\",\"type\":\"LinearAxis\"},{\"attributes\":{\"callback\":null,\"tooltips\":[[\"name\",\"@name\"],[\"score\",\"@score\"]]},\"id\":\"1144\",\"type\":\"HoverTool\"},{\"attributes\":{},\"id\":\"1122\",\"type\":\"BasicTicker\"},{\"attributes\":{\"data_source\":{\"id\":\"1105\",\"type\":\"ColumnDataSource\"},\"glyph\":{\"id\":\"1140\",\"type\":\"VBar\"},\"hover_glyph\":null,\"muted_glyph\":null,\"nonselection_glyph\":{\"id\":\"1141\",\"type\":\"VBar\"},\"selection_glyph\":null,\"view\":{\"id\":\"1143\",\"type\":\"CDSView\"}},\"id\":\"1142\",\"type\":\"GlyphRenderer\"},{\"attributes\":{},\"id\":\"1157\",\"type\":\"BasicTickFormatter\"},{\"attributes\":{\"axis_label\":\"Name\",\"formatter\":{\"id\":\"1159\",\"type\":\"CategoricalTickFormatter\"},\"major_label_orientation\":0.7853981633974483,\"major_label_text_font_size\":{\"value\":\"4pt\"},\"ticker\":{\"id\":\"1118\",\"type\":\"CategoricalTicker\"}},\"id\":\"1117\",\"type\":\"CategoricalAxis\"},{\"attributes\":{\"overlay\":{\"id\":\"1160\",\"type\":\"BoxAnnotation\"}},\"id\":\"1128\",\"type\":\"BoxZoomTool\"},{\"attributes\":{},\"id\":\"1127\",\"type\":\"WheelZoomTool\"},{\"attributes\":{},\"id\":\"1130\",\"type\":\"ResetTool\"},{\"attributes\":{\"source\":{\"id\":\"1105\",\"type\":\"ColumnDataSource\"}},\"id\":\"1143\",\"type\":\"CDSView\"},{\"attributes\":{},\"id\":\"1162\",\"type\":\"UnionRenderers\"},{\"attributes\":{\"fill_color\":{\"value\":\"#1f77b4\"},\"line_color\":{\"value\":\"#1f77b4\"},\"top\":{\"field\":\"score\"},\"width\":{\"value\":0.8},\"x\":{\"field\":\"name\"}},\"id\":\"1140\",\"type\":\"VBar\"},{\"attributes\":{\"dimension\":1,\"ticker\":{\"id\":\"1122\",\"type\":\"BasicTicker\"}},\"id\":\"1125\",\"type\":\"Grid\"},{\"attributes\":{\"text\":\"Hotspot Scores\"},\"id\":\"1107\",\"type\":\"Title\"}],\"root_ids\":[\"1106\"]},\"title\":\"Bokeh Application\",\"version\":\"1.3.4\"}};\n",
       "  var render_items = [{\"docid\":\"8c18f554-b5d9-41d0-8ca6-05dd0d976ff1\",\"roots\":{\"1106\":\"b99562c7-3029-4473-a338-af600dd549a0\"}}];\n",
       "  root.Bokeh.embed.embed_items_notebook(docs_json, render_items);\n",
       "\n",
       "  }\n",
       "  if (root.Bokeh !== undefined) {\n",
       "    embed_document(root);\n",
       "  } else {\n",
       "    var attempts = 0;\n",
       "    var timer = setInterval(function(root) {\n",
       "      if (root.Bokeh !== undefined) {\n",
       "        embed_document(root);\n",
       "        clearInterval(timer);\n",
       "      }\n",
       "      attempts++;\n",
       "      if (attempts > 100) {\n",
       "        console.log(\"Bokeh: ERROR: Unable to run BokehJS code because BokehJS library is missing\");\n",
       "        clearInterval(timer);\n",
       "      }\n",
       "    }, 10, root)\n",
       "  }\n",
       "})(window);"
      ],
      "application/vnd.bokehjs_exec.v0+json": ""
     },
     "metadata": {
      "application/vnd.bokehjs_exec.v0+json": {
       "id": "1106"
      }
     },
     "output_type": "display_data"
    }
   ],
   "source": [
    "source = ColumnDataSource(hdf)\n",
    "# p = figure()\n",
    "p = figure(x_range=hdf['name'], y_range=[0,1], title=\"Hotspot Scores\")\n",
    "\n",
    "p.vbar(x='name', top='score', width=0.8, source=source)\n",
    "hover = HoverTool(tooltips=[('name', '@name'), ('score', '@score')])\n",
    "p.width = 900\n",
    "p.add_tools(hover)\n",
    "p.xaxis.axis_label = \"Name\"\n",
    "p.yaxis.axis_label = \"Score\"\n",
    "p.xaxis.major_label_text_font_size = \"4pt\"\n",
    "p.xaxis.major_label_orientation = math.pi/4\n",
    "\n",
    "show(p)"
   ]
  },
  {
   "cell_type": "markdown",
   "metadata": {},
   "source": [
    "### Account stats"
   ]
  },
  {
   "cell_type": "code",
   "execution_count": 14,
   "metadata": {},
   "outputs": [],
   "source": [
    "accounts = get_accounts(API)"
   ]
  },
  {
   "cell_type": "code",
   "execution_count": 15,
   "metadata": {},
   "outputs": [],
   "source": [
    "df = pd.DataFrame(accounts)"
   ]
  },
  {
   "cell_type": "code",
   "execution_count": 16,
   "metadata": {},
   "outputs": [
    {
     "name": "stdout",
     "output_type": "stream",
     "text": [
      "Top 10 account balances:\n"
     ]
    },
    {
     "data": {
      "text/html": [
       "<div>\n",
       "<style scoped>\n",
       "    .dataframe tbody tr th:only-of-type {\n",
       "        vertical-align: middle;\n",
       "    }\n",
       "\n",
       "    .dataframe tbody tr th {\n",
       "        vertical-align: top;\n",
       "    }\n",
       "\n",
       "    .dataframe thead th {\n",
       "        text-align: right;\n",
       "    }\n",
       "</style>\n",
       "<table border=\"1\" class=\"dataframe\">\n",
       "  <thead>\n",
       "    <tr style=\"text-align: right;\">\n",
       "      <th></th>\n",
       "      <th>address</th>\n",
       "      <th>balance</th>\n",
       "    </tr>\n",
       "  </thead>\n",
       "  <tbody>\n",
       "    <tr>\n",
       "      <th>39</th>\n",
       "      <td>13jL4pTLq4JQBwDoH1ZBX3VPchmeTZxQSGi4cnyXXuzPPoKxcd5</td>\n",
       "      <td>4528288338848</td>\n",
       "    </tr>\n",
       "    <tr>\n",
       "      <th>66</th>\n",
       "      <td>1398hLeHESZHE5jVtaLAV5fdg2vrUeZEs2B92t7TzeQTtugr8dL</td>\n",
       "      <td>3148556649711</td>\n",
       "    </tr>\n",
       "    <tr>\n",
       "      <th>94</th>\n",
       "      <td>14a5sytsEVKBVhGsVz2rJDkxf1cs1L89zvtFjmPtmPzrQHXPVjF</td>\n",
       "      <td>2589935030203</td>\n",
       "    </tr>\n",
       "    <tr>\n",
       "      <th>79</th>\n",
       "      <td>14GWyFj9FjLHzoN3aX7Tq7PL6fEg4dfWPY8CrK8b9S5ZrcKDz6S</td>\n",
       "      <td>1490327444446</td>\n",
       "    </tr>\n",
       "    <tr>\n",
       "      <th>82</th>\n",
       "      <td>12yyntxFfPhqXDKuEvmAWABNTRnXtYmcgS33WN4tk5YtyaBLDXo</td>\n",
       "      <td>1488478189484</td>\n",
       "    </tr>\n",
       "    <tr>\n",
       "      <th>46</th>\n",
       "      <td>13o9KUMcmEdhtjXRaJ5AANHLZWBoGcTmF4MFw3MjQbubjR57jXW</td>\n",
       "      <td>1346536530761</td>\n",
       "    </tr>\n",
       "    <tr>\n",
       "      <th>78</th>\n",
       "      <td>12z4nUiayZnbW46azcegBBB9yGkchFb1Zm7EPuh6eV1r2HT1NgC</td>\n",
       "      <td>906696666770</td>\n",
       "    </tr>\n",
       "    <tr>\n",
       "      <th>72</th>\n",
       "      <td>14i6nM1RbWbjQFg5NFbZS3aZJgpUGZUx5toarz6jZLPpNAb95Tq</td>\n",
       "      <td>854254505662</td>\n",
       "    </tr>\n",
       "    <tr>\n",
       "      <th>86</th>\n",
       "      <td>14UgUhAPq53iR8vfde6sU4vLPWRe6kZ3ioV7xaVb8hr3oafaok6</td>\n",
       "      <td>851615595904</td>\n",
       "    </tr>\n",
       "    <tr>\n",
       "      <th>75</th>\n",
       "      <td>135bB6B7gGrsdPNcFwvcn12KPjTktSNZvmVbvSBKubCtEgxkpPJ</td>\n",
       "      <td>827031020581</td>\n",
       "    </tr>\n",
       "  </tbody>\n",
       "</table>\n",
       "</div>"
      ],
      "text/plain": [
       "                                                address        balance\n",
       "39  13jL4pTLq4JQBwDoH1ZBX3VPchmeTZxQSGi4cnyXXuzPPoKxcd5  4528288338848\n",
       "66  1398hLeHESZHE5jVtaLAV5fdg2vrUeZEs2B92t7TzeQTtugr8dL  3148556649711\n",
       "94  14a5sytsEVKBVhGsVz2rJDkxf1cs1L89zvtFjmPtmPzrQHXPVjF  2589935030203\n",
       "79  14GWyFj9FjLHzoN3aX7Tq7PL6fEg4dfWPY8CrK8b9S5ZrcKDz6S  1490327444446\n",
       "82  12yyntxFfPhqXDKuEvmAWABNTRnXtYmcgS33WN4tk5YtyaBLDXo  1488478189484\n",
       "46  13o9KUMcmEdhtjXRaJ5AANHLZWBoGcTmF4MFw3MjQbubjR57jXW  1346536530761\n",
       "78  12z4nUiayZnbW46azcegBBB9yGkchFb1Zm7EPuh6eV1r2HT1NgC  906696666770 \n",
       "72  14i6nM1RbWbjQFg5NFbZS3aZJgpUGZUx5toarz6jZLPpNAb95Tq  854254505662 \n",
       "86  14UgUhAPq53iR8vfde6sU4vLPWRe6kZ3ioV7xaVb8hr3oafaok6  851615595904 \n",
       "75  135bB6B7gGrsdPNcFwvcn12KPjTktSNZvmVbvSBKubCtEgxkpPJ  827031020581 "
      ]
     },
     "execution_count": 16,
     "metadata": {},
     "output_type": "execute_result"
    }
   ],
   "source": [
    "print(f'Top {TOP} account balances:')\n",
    "df.sort_values('balance', ascending=False)[['address', 'balance']].head(TOP)"
   ]
  },
  {
   "cell_type": "markdown",
   "metadata": {},
   "source": [
    "### Challenge Stats"
   ]
  },
  {
   "cell_type": "code",
   "execution_count": 17,
   "metadata": {},
   "outputs": [],
   "source": [
    "challenges = get_challenges(API, NUM_CHALLENGES)"
   ]
  },
  {
   "cell_type": "code",
   "execution_count": 18,
   "metadata": {},
   "outputs": [],
   "source": [
    "df = pd.DataFrame(challenges)"
   ]
  },
  {
   "cell_type": "code",
   "execution_count": 19,
   "metadata": {},
   "outputs": [
    {
     "name": "stdout",
     "output_type": "stream",
     "text": [
      "Total Successful challenges past 100 challenges: 23\n"
     ]
    }
   ],
   "source": [
    "print(f\"Total Successful challenges past {NUM_CHALLENGES} challenges: {sum(df['success'] == 1)}\")"
   ]
  },
  {
   "cell_type": "code",
   "execution_count": 20,
   "metadata": {},
   "outputs": [
    {
     "name": "stdout",
     "output_type": "stream",
     "text": [
      "Entirely dud challenges since past 100 challenges: 14\n"
     ]
    }
   ],
   "source": [
    "print(f\"Entirely dud challenges since past {NUM_CHALLENGES} challenges: {sum(df['dud'] == 1)}\")"
   ]
  },
  {
   "cell_type": "markdown",
   "metadata": {},
   "source": [
    "### Hotspot Reward Stats"
   ]
  },
  {
   "cell_type": "code",
   "execution_count": 21,
   "metadata": {},
   "outputs": [],
   "source": [
    "rewards = get_rewards(API, hdf['address'].values)"
   ]
  },
  {
   "cell_type": "code",
   "execution_count": 22,
   "metadata": {},
   "outputs": [],
   "source": [
    "rdf = pd.DataFrame(rewards)[['gateway', 'amount']]"
   ]
  },
  {
   "cell_type": "code",
   "execution_count": 23,
   "metadata": {},
   "outputs": [],
   "source": [
    "g1 = rdf.groupby('gateway').sum().reset_index()\n",
    "g1['name'] = g1.apply(lambda row: '-'.join(animalhash(row.gateway).lower().split()), axis=1)"
   ]
  },
  {
   "cell_type": "code",
   "execution_count": 24,
   "metadata": {},
   "outputs": [
    {
     "name": "stdout",
     "output_type": "stream",
     "text": [
      "Top 10 hotspot rewards:\n"
     ]
    },
    {
     "data": {
      "text/html": [
       "<div>\n",
       "<style scoped>\n",
       "    .dataframe tbody tr th:only-of-type {\n",
       "        vertical-align: middle;\n",
       "    }\n",
       "\n",
       "    .dataframe tbody tr th {\n",
       "        vertical-align: top;\n",
       "    }\n",
       "\n",
       "    .dataframe thead th {\n",
       "        text-align: right;\n",
       "    }\n",
       "</style>\n",
       "<table border=\"1\" class=\"dataframe\">\n",
       "  <thead>\n",
       "    <tr style=\"text-align: right;\">\n",
       "      <th></th>\n",
       "      <th>name</th>\n",
       "      <th>amount</th>\n",
       "    </tr>\n",
       "  </thead>\n",
       "  <tbody>\n",
       "    <tr>\n",
       "      <th>104</th>\n",
       "      <td>shambolic-rusty-cyborg</td>\n",
       "      <td>1289992390388</td>\n",
       "    </tr>\n",
       "    <tr>\n",
       "      <th>53</th>\n",
       "      <td>mean-alabaster-piranha</td>\n",
       "      <td>835212477515</td>\n",
       "    </tr>\n",
       "    <tr>\n",
       "      <th>8</th>\n",
       "      <td>mythical-tin-hawk</td>\n",
       "      <td>762352554214</td>\n",
       "    </tr>\n",
       "    <tr>\n",
       "      <th>89</th>\n",
       "      <td>clean-nylon-okapi</td>\n",
       "      <td>746384961112</td>\n",
       "    </tr>\n",
       "    <tr>\n",
       "      <th>25</th>\n",
       "      <td>fit-iron-monkey</td>\n",
       "      <td>578934343103</td>\n",
       "    </tr>\n",
       "    <tr>\n",
       "      <th>45</th>\n",
       "      <td>cuddly-sapphire-narwhal</td>\n",
       "      <td>527163119031</td>\n",
       "    </tr>\n",
       "    <tr>\n",
       "      <th>116</th>\n",
       "      <td>bubbly-mandarin-panther</td>\n",
       "      <td>524531786496</td>\n",
       "    </tr>\n",
       "    <tr>\n",
       "      <th>95</th>\n",
       "      <td>delightful-stone-beetle</td>\n",
       "      <td>480325866710</td>\n",
       "    </tr>\n",
       "    <tr>\n",
       "      <th>73</th>\n",
       "      <td>magic-carob-quail</td>\n",
       "      <td>477675743467</td>\n",
       "    </tr>\n",
       "    <tr>\n",
       "      <th>109</th>\n",
       "      <td>teeny-cider-troll</td>\n",
       "      <td>472687560339</td>\n",
       "    </tr>\n",
       "  </tbody>\n",
       "</table>\n",
       "</div>"
      ],
      "text/plain": [
       "                        name         amount\n",
       "104  shambolic-rusty-cyborg   1289992390388\n",
       "53   mean-alabaster-piranha   835212477515 \n",
       "8    mythical-tin-hawk        762352554214 \n",
       "89   clean-nylon-okapi        746384961112 \n",
       "25   fit-iron-monkey          578934343103 \n",
       "45   cuddly-sapphire-narwhal  527163119031 \n",
       "116  bubbly-mandarin-panther  524531786496 \n",
       "95   delightful-stone-beetle  480325866710 \n",
       "73   magic-carob-quail        477675743467 \n",
       "109  teeny-cider-troll        472687560339 "
      ]
     },
     "execution_count": 24,
     "metadata": {},
     "output_type": "execute_result"
    }
   ],
   "source": [
    "print(f'Top {TOP} hotspot rewards:')\n",
    "g1.sort_values('amount', ascending=False)[['name', 'amount']].head(TOP)"
   ]
  },
  {
   "cell_type": "code",
   "execution_count": 25,
   "metadata": {},
   "outputs": [
    {
     "data": {
      "text/html": [
       "\n",
       "\n",
       "\n",
       "\n",
       "\n",
       "\n",
       "  <div class=\"bk-root\" id=\"ae34a146-10f1-4ef5-9527-3960c52b72d0\" data-root-id=\"1212\"></div>\n"
      ]
     },
     "metadata": {},
     "output_type": "display_data"
    },
    {
     "data": {
      "application/javascript": [
       "(function(root) {\n",
       "  function embed_document(root) {\n",
       "    \n",
       "  var docs_json = {\"176d071e-77d7-4b69-b2d4-c5a369f6f58b\":{\"roots\":{\"references\":[{\"attributes\":{\"below\":[{\"id\":\"1223\",\"type\":\"CategoricalAxis\"}],\"center\":[{\"id\":\"1226\",\"type\":\"Grid\"},{\"id\":\"1231\",\"type\":\"Grid\"}],\"left\":[{\"id\":\"1227\",\"type\":\"LinearAxis\"}],\"renderers\":[{\"id\":\"1248\",\"type\":\"GlyphRenderer\"}],\"title\":{\"id\":\"1213\",\"type\":\"Title\"},\"toolbar\":{\"id\":\"1238\",\"type\":\"Toolbar\"},\"width\":900,\"x_range\":{\"id\":\"1215\",\"type\":\"FactorRange\"},\"x_scale\":{\"id\":\"1219\",\"type\":\"CategoricalScale\"},\"y_range\":{\"id\":\"1217\",\"type\":\"DataRange1d\"},\"y_scale\":{\"id\":\"1221\",\"type\":\"LinearScale\"}},\"id\":\"1212\",\"subtype\":\"Figure\",\"type\":\"Plot\"},{\"attributes\":{},\"id\":\"1232\",\"type\":\"PanTool\"},{\"attributes\":{\"dimension\":1,\"ticker\":{\"id\":\"1228\",\"type\":\"BasicTicker\"}},\"id\":\"1231\",\"type\":\"Grid\"},{\"attributes\":{\"fill_color\":{\"value\":\"#1f77b4\"},\"line_color\":{\"value\":\"#1f77b4\"},\"top\":{\"field\":\"amount\"},\"width\":{\"value\":0.8},\"x\":{\"field\":\"name\"}},\"id\":\"1246\",\"type\":\"VBar\"},{\"attributes\":{\"ticker\":{\"id\":\"1224\",\"type\":\"CategoricalTicker\"}},\"id\":\"1226\",\"type\":\"Grid\"},{\"attributes\":{},\"id\":\"1271\",\"type\":\"BasicTickFormatter\"},{\"attributes\":{\"active_drag\":\"auto\",\"active_inspect\":\"auto\",\"active_multi\":null,\"active_scroll\":\"auto\",\"active_tap\":\"auto\",\"tools\":[{\"id\":\"1232\",\"type\":\"PanTool\"},{\"id\":\"1233\",\"type\":\"WheelZoomTool\"},{\"id\":\"1234\",\"type\":\"BoxZoomTool\"},{\"id\":\"1235\",\"type\":\"SaveTool\"},{\"id\":\"1236\",\"type\":\"ResetTool\"},{\"id\":\"1237\",\"type\":\"HelpTool\"},{\"id\":\"1250\",\"type\":\"HoverTool\"}]},\"id\":\"1238\",\"type\":\"Toolbar\"},{\"attributes\":{},\"id\":\"1275\",\"type\":\"Selection\"},{\"attributes\":{\"fill_alpha\":{\"value\":0.1},\"fill_color\":{\"value\":\"#1f77b4\"},\"line_alpha\":{\"value\":0.1},\"line_color\":{\"value\":\"#1f77b4\"},\"top\":{\"field\":\"amount\"},\"width\":{\"value\":0.8},\"x\":{\"field\":\"name\"}},\"id\":\"1247\",\"type\":\"VBar\"},{\"attributes\":{\"bottom_units\":\"screen\",\"fill_alpha\":{\"value\":0.5},\"fill_color\":{\"value\":\"lightgrey\"},\"left_units\":\"screen\",\"level\":\"overlay\",\"line_alpha\":{\"value\":1.0},\"line_color\":{\"value\":\"black\"},\"line_dash\":[4,4],\"line_width\":{\"value\":2},\"render_mode\":\"css\",\"right_units\":\"screen\",\"top_units\":\"screen\"},\"id\":\"1274\",\"type\":\"BoxAnnotation\"},{\"attributes\":{},\"id\":\"1221\",\"type\":\"LinearScale\"},{\"attributes\":{},\"id\":\"1233\",\"type\":\"WheelZoomTool\"},{\"attributes\":{\"callback\":null},\"id\":\"1217\",\"type\":\"DataRange1d\"},{\"attributes\":{\"axis_label\":\"Reward\",\"formatter\":{\"id\":\"1271\",\"type\":\"BasicTickFormatter\"},\"ticker\":{\"id\":\"1228\",\"type\":\"BasicTicker\"}},\"id\":\"1227\",\"type\":\"LinearAxis\"},{\"attributes\":{\"callback\":null,\"data\":{\"amount\":[26821825470,123398691408,39582550826,34450508949,37788826197,45324971764,597192874,48788960293,762352554214,34362234910,159478950717,35435291612,39479616643,322356537519,32411761321,58034887004,45049064629,41792130127,39565896200,32746123875,85070831218,183083417138,81203873079,98360584158,422142788855,578934343103,49128037463,198614858441,20763623282,39461436874,49580815460,36983989391,74184062436,105912483578,37587489340,74148758227,65941297829,126098944473,42357527631,36604552498,23743019957,39237137401,41427660987,42915981719,303838269021,527163119031,51510621252,27062599240,9262614505,26611912067,436607000581,687328157,46033113496,835212477515,35669048733,391418732684,128305675325,8367507398,1695465,53912279964,389119579242,39457653971,30225131434,447322442023,27929655171,38680410739,36718262840,29252284017,42338652362,51222839763,402512538382,30119139150,233438655,477675743467,20131526297,33953781836,43594962751,16230397933,156868153389,2034419502,37543816430,552960080,217599744084,74777463752,164424580919,38459811510,39746510577,51263970147,69667790938,746384961112,44657543939,70618130586,424096621852,413227083172,74586571650,480325866710,44863566539,45187494459,32194437637,41674309906,33735888673,33895298899,40554739741,10242110310,1289992390388,287298025082,39120206457,34023723706,19725616550,472687560339,52910260576,166534071410,388608278324,30151995766,30333434707,10601037749,524531786496,31633969191,41823745723,230570141467,39153940337],\"gateway\":[\"1123zdwvvayz9Nqxx4UtkGZecWhgDUmcdMJmG5qXccB1iW51dJgA\",\"1124eHFSCjQTouUNkC23dhN8BUUYQHnwdobZGHZwJvTq1PN72xsb\",\"1125mBeoEZ2e1TSiKtxUbeUS2jhPcb6X6ELyxUZeEKxgpAXL2QXC\",\"1126WubKPpmEW6uCgcuXMfn4tHEp2rPr9sCrR9YXj2Vvg4gL3QC2\",\"11278GCrhcGcZorQmQgXefjPZWApFD9vHco9EzYytkkgepSx4cnW\",\"1127q7QEWN68TxVZ5wjPKBVGtjN51HGoiSiA6WJvR9ZzX9soHFBe\",\"1127scjX1wymbXwV5eToMTV7cy8xghMddGb6QtiNhqSwLfSYksdQ\",\"112D36ZCcFouGU5X5wVCXsikGEsEkpcLYFyrrKHcRowzENXq6yso\",\"112D3iyBgtLeh5SPhshjZXQDV2XX2FdSMVSoC1fryANqdKPc3gLY\",\"112DFZH7yJwntcPMscyL91zb1LayjGpizEuMViAZvDQftiaPSiB9\",\"112G1KhXpvMnPYw9ze7VsiLizG7SpVU81zFXyt2bcZBQwPS3Uh4L\",\"112HrGmRZ1iUFPNRzbMoAAiHHgHzrmkFLwdzwmUww457JsHN2VDm\",\"112JHZsfc2sPfx1N9fjJ1HzhJou3o5LWgaWZYvnXAkcQktX9YLS7\",\"112LfWf61hKR2mCKbuyqt3w2UCtytbFCmo2QJ4xdACR6c768LtiR\",\"112MCMqvkbdfbQ4BLopnGpMdnSeNUBEchHCbHsU2CMAZjRJKD3aB\",\"112MDVNM62dXFzXmPzNySnsXV58WyWJhDEH4zU1Xipb9F519Dy9q\",\"112Mki5uohp3EYjEwAKzrQStUf9FPZBKuzwnpRAiMboE6K6pTEhc\",\"112MtP4Um2UXo8FtDHeme1U5A91M6Jj3TZ3i2XTJ9vNUMawqoPVW\",\"112NhNhURvqksxppa8bxjMku5e51h8rqub36rFA5Kgo8nPdM5KHS\",\"112NxxWUZzAPDoJmrpnHH7nPn7hAFYVjTibYSS2p7vfXWhz8BuQF\",\"112P4UBvvAwDM11o6eHE6w44hGWq7ukNo4skTLSTsWYZx3wxPMqu\",\"112PW6ZvGNWssGPX6k769dzercrmdRyBUwrsY5xfCgQiSWPWrxHF\",\"112Sgw2sZf1BKAPqVH677a2HeE9TKYkgjGkPj7L5iLPvjrPA39hg\",\"112TN1Cdqbi7LXaKBQKprjY7LVmVyePNACmB1ewk27M8raEVGmCz\",\"112TW3Cp2GWLPs9veKMYFtw7DVaDHU6dsEE8GAggBVjEuf2TWttr\",\"112UuTZGP8Vd4p4x7LX3MrQQkimrQVGsgDCq5EvQLvRYGUNZhH2T\",\"112VYECRxdyUixsN3KyTMdJaNdGGNF6UARwS5Pkyi86xoiBkSyLU\",\"112X5u9nq4v5RDcUSfGJXBG8dgCzvRTW7bfS4oZ9qnQU17vcQ5y2\",\"112XLTxP3R8fXdmFsX6EYBpz4yQkJWZVNBuNjk8n2nw7dU14Fmcy\",\"112YjHE6vZ72o2nypeBbsUTs6V5Z6CBXakKjQJKKCXHsAPPJrmvA\",\"112Z6fYnkQa8VAyMWHoaZJVzrxbWPoJV2NCfdZmaNoG1pYxWdGwD\",\"112aVmnM3bJsA1gM9fjNPSvAeY4LkrMzNJdHRfTdtZ9nTgWZgncs\",\"112aeWRZdyz61Y7EQeMbXwqERNMPnciDvsxyFmhz1UfA9hte4R4W\",\"112c7xWEsNLTnPhWmmETrZ8P6BxqNnTZtBymmjifBgjKariw8YXw\",\"112cN1U82HCb2BN8E7XgmoniPTurcKg97WnJi2oXDupSMHpgiDid\",\"112d7fa4ymaWLu1AVVgMtyRA3DbhvRCeNcTYK8oc64Xxq3PaQmLw\",\"112dFRPoWZmWehmiU1cdU2jbE213RB772urDC1HxUSZfQ7KVJaN5\",\"112dcfpxdtNKPTrKvzKmXHqLAq7R1Npq35Ehjepe9n2p7WA4mSXp\",\"112dqJt9WfNqGPBbbz9Au42DZ1RUkpZAUWgnSmZ9R8nhDxQeNLCW\",\"112eFfqt75oqXa62iE8tsfLhgH3vSNAcnGLzEwGdUYun1zCAYKTR\",\"112euXBKmLzUAfyi7FaYRxRpcH5RmfPKprV3qEyHCTt8nqwyVFYo\",\"112jpXUSkDJuykaNzrnTVGBWTrr5tukBSXUdZRKUsKAEMru6uucu\",\"112jsPCWDbhYb1u1brqYGHkxdnpt8JSE91gRYCH5HKyFcsW16Tkx\",\"112kFNJoxBYn7UWwZqUABrTXjhn7mkP8ePrbi6w9Hj1NXJfodwP3\",\"112kQbfzXkyxTSTxUpztvPLMJLB2koLro9LJesumSGpdNUBhWzBN\",\"112opbmPimyyAT1Y5GxeEJSDXM2ZfTHAZRUMLGcADTyGXAe8Hr4\",\"112p1sK1ip8ZAAXC2txtJthSKUxgHxSCvhZCv9Mt6wmVqTGu6uyK\",\"112rDaPoAGdzXELF7t1iLj7BM8cCtezYoNAkwFECSLqGxR4iVMaj\",\"112rGFR4TPSbrdTAPgP556n9ffst7tE5Xooua9QURbV4XeVoQgiD\",\"112rNX8mnZBZWf6ixnksygsrahNYyHz7S9BExjqPCxhEqSPcxF38\",\"112rS6gCz9FQmcw2hrdnEJRLLAeWpSmtHYeC6nAuDrDutPWm2RYz\",\"112s1E6JsKmjNrZp2s28Tk4VFuB49cZUjZ41qho7Uq9yYJyvyH1R\",\"112sYD4tioU5RXg6t4aw74mP4NDxqrWptCqRFEeK5cauGqGYKaL4\",\"112stmZdJDjyvuGEJLCkUa5kPnmra5Svz72G3GdcyQQ9h3i55D48\",\"112u3Zr3oTs6TSBewf649PSiM1fCGg58gmhoAxvTZwtCeViB8XG1\",\"112uFMbu9bTXe9tJzuaL1MoM7UksPK4F928VmBf9Hxzc6BjRK9Pp\",\"112uVWq45n18AQnCASMpTiAsMcQvE7oqmtYji9FHab2yxfWsbmhX\",\"112vHYHXQNm7aVFAtjCVyqnHYTRPCKEib8uMUX71XFHPjDgwq4MV\",\"112wh3mYwP6N8XbYgeU5JPp2L9rNJD5Qv8SGHxRjboybiAxJtRVt\",\"113kQU96zqePySTahB7PEde9ZpoWK76DYK1f57wyhjhXCBoAu88\",\"114FX56Ua6joFNmHAugjKR1wfopRyYEzbtgn6bodvSHXdKSwZPg\",\"114VvEadECxmrrF4ccY3ai2XQzGdikovfJwBJEAsMuX8Wg9iWAR\",\"1158boTwaXLng68TD1UauDnZeB1oCGRPqG7nQ2bL2yovkA2ntV3\",\"115JucmPFDKUwvE4fkHR6GyQsttSUMi11KYme6pRcRTVXTqE7ww\",\"115j9cnpxSmkYEdzjvFuMycz4VAea4zC9DicMKHZUHwc6aQVTTE\",\"115pxxv1H6xuq5NykL2PjzQqZqKv1bJdig2sxyN79ukBVGWXbPn\",\"118EwwvzarVrtvaCfnRhCP1BBcdLaQRLBDKZ3coW17JHhKaj6p1\",\"118Wc9tJaNA6xNbDjVenT52ueyfvXAcrzH4Lwppd5dG2QLDQ34C\",\"11AUHAqBatgrs2v6j3j75UQ73NyEYZoH41CdJ56P1SzeqqYjZ4o\",\"11BL252rVXxYyNe6P6kJ8udk4VHix7NVV4ASQTP2prr8KJB2YPi\",\"11BaVHGtAa5K1sb2xosiF3LepjrgK5iT7ZUjqkM6KDLS5Xd9VKh\",\"11CAwto42LXquADz1asH4gWU6yUbSi1hATDijYm8ZM4Z7RtzeQK\",\"11Csdm4xr7W3j1vJsZKQ5o5qnGQiwcjBqrW3qRiVDxqad395dKD\",\"11DMUS9sEDngNh5RF1k4pb23Ucbb9fN9RwPDd1ZMAJJiCjvo3Xx\",\"11DeGngCtZsML4EhRgPiJVp7feAN4XYwEiZhCKLy2SeQp8QWP7D\",\"11ECEKeyCjknk2Z7AG7gxVcVnWjmksJE1Wzq6C7BBZE239HjuFD\",\"11EEx27SnCWb8qB87AX5XptnHNhpJx9y8YtQYHME1XNLTzTUxWD\",\"11Hh17C2pg8ig1ftU6H1UpSRQDVxZZtQNuJ56qryHMuD5w958Tr\",\"11J8sVCSMqmPQsS7vz5LEoKEYEARUWSt1iooWd7pp1vwYUqDoJg\",\"11KeUR4Ure4DBFJE1TGg2nr4E7k2T8keAiBqmB9PEgMdWGB7eJh\",\"11Kj6LV5M51PzPjBVbtgESL625SsrzdPoi59PDPQ2xdeozNuRuq\",\"11MFNwMS56vpKvK4iBvMfp3dipCpQA623XaFDvoCu2AACKvwcSX\",\"11T5peiN6VsfEqTXzctRwQzSqkbaxx8HGeyjR6fyoAgAn1Y4sA9\",\"11TUDQEnZa8KXwuCNPVjLWboFGnVskfua1dRkEvmaNgriMWBwAf\",\"11WPxVmJ83FKQkU83zbREvV2MtvkSaKeQenbJHdXWNESDu4c2bk\",\"11XC5VxSHnB2v9B8Kx3guqwTRLmY3hfar3EALunYsJMoT6TKJxV\",\"11YDCwbL1dkC7gToXTcEn5CQHTnjittZ7ZqTUsPjD6ba8hASZNe\",\"11YZSQ1DfKg5YwvoqKJRtKMBQnuRL6ofxyQPrMcsPPGEZdHVf2q\",\"11Z4vYLzvwkuDegD95bDmDURYb5Q2BV69yCpeaf81372SkfktxC\",\"11aS1fM9HHVHzRgjVtcP55559X8pMnkCUdSttfZUohqH84sNQpM\",\"11bgTZaeRTiGuH11dE25H2D1FFM5tvtrHTNJnhAK6TwwrH57t88\",\"11cEr5Um2a7Zbqw7Pozrc3DjEXvQptTtdVo5y132Kwo94ax11DD\",\"11ckxdQsReXpqwCrbbREZj6urEuNEGf2Zk5d4UnsuPMsJDSihwy\",\"11dj5k2dwSUE7fqFnwAHK9stLd3St9MJiJuaRnvvRgJjbRMZgKJ\",\"11hju5Kc94T9xbgA8Ri88LpX7sb79kMq7ET5A4xUF7AKsfvu9HM\",\"11idAPnBHP3AM3SjkpFRGy7XLVv12oecTFLHGBMfmBSvzNY9CW8\",\"11iur9BrnJY2FunsLyH9FwLfqHa8C4Cue3R5WGFJmbYh2FrpbBh\",\"11jihKNVbs5Sd85ekMAiLHvq5oDEWCEs7rbSdJ2WtQbLXETbMe9\",\"11jngF85QQc4JUvkK4uJ79vY7zLY6SrgKw911wpmiBvgMHsUJma\",\"11k4Gn6Qhs6JDet1w1fKxUe647zw4KRiZCYhNBtqYCL16BNmjRo\",\"11kzHgDkiGfCiX96fWz6riNGxjCCXy6bVvyn4SDwzjzwMXNhndU\",\"11oCfnQtekNbhEZLF2YA87jJr9mk9dogSEGoXCBboFR3CR7rR6v\",\"11qTZbaXb3ZxWD3fW4PmVJryWXyY5dCPaSTKmvDhgEBk8bxTSvS\",\"11qXzvWwBX49LPHXZVKtT7aM2tKDUaHamHaPo2ajMvXxGs42s2y\",\"11qd6UNmuQsR5FUNc1LAKJM1r7kfx37WGc1csYbvkmUGUTx992K\",\"11rWkkY2rjp1hfZ2noxtwRALArbf12hMzdytHVQrY1c1PzBX4iR\",\"11sAaGTavNJjGgpcoRL5GQACTbWQq4zvftgrZwjabMqJRNfyZn4\",\"11sJGePtegp3KSmX2VSHSJy2kvkhNUHcLh1Xprs3m7FHwnEonfo\",\"11sguEykEnHMXbw14nqo7mCwn18FsKFegaS3tcRqd2fgSKeaKcA\",\"11t2h6ERRn2kbgjFF2hdQLZwvHcMS5NqykN3FEFRzvdf9K9QE1y\",\"11tWRj2Qhnn177iVYm3KUmbPdMyhRfeqHqk9kCyiR7y57hdG9JA\",\"11uEMMjzw2bpuWW1cQHJLKPUiqzm3B8HHPtqsuiXZEhX4VxB4rB\",\"11ubZi6poph2dLTc9jvJwNtjkJxF8WaneDSdMcDoA1tcyb47rFo\",\"11uoSXSsPuuTv1cprZEqNuw5r8giCsAoqDXgsdFMR2G11tLKjkr\",\"11uvA9ZLXGUY5onTtAvMhSxjs4zMuGMganv1xSbipCxRCurUHuH\",\"11vsUeTb8g4KcELPctghGLSDWhUDGAEAkiAhERU3euC69HSNvca\",\"11xKKZwHYZpWcEamiZmyCA1v6YmfcfagQMGf9BJfMnDDiXkhRgV\",\"11xWTUFRswoQM82EWQqDCRCixmX57UjzXLKdeKaXhGpsp66tho\",\"11xkVWtJgF4xrRxhSy1mxYZvWc6anKA3QtrNJWdqP7J3wNkJ8tC\",\"11yXFNu9Je9gvVfyuA8jS8z6faNcZW7kPwPApWYThTk416LGmU\",\"11z6NPpfsdWZgGb5zSNz2VqHioyoVYmAGjANTPGwBKo26fBxb2U\"],\"index\":[0,1,2,3,4,5,6,7,8,9,10,11,12,13,14,15,16,17,18,19,20,21,22,23,24,25,26,27,28,29,30,31,32,33,34,35,36,37,38,39,40,41,42,43,44,45,46,47,48,49,50,51,52,53,54,55,56,57,58,59,60,61,62,63,64,65,66,67,68,69,70,71,72,73,74,75,76,77,78,79,80,81,82,83,84,85,86,87,88,89,90,91,92,93,94,95,96,97,98,99,100,101,102,103,104,105,106,107,108,109,110,111,112,113,114,115,116,117,118,119,120],\"name\":[\"muscular-lavender-owl\",\"stale-black-opossum\",\"dazzling-bone-zebra\",\"rhythmic-shadow-spider\",\"dandy-cobalt-lemur\",\"clever-pickle-sparrow\",\"sparkly-aqua-wren\",\"elegant-hazel-starling\",\"mythical-tin-hawk\",\"blurry-seafoam-ape\",\"dizzy-opaque-wolf\",\"thankful-chili-millipede\",\"polished-pearl-anteater\",\"dandy-sangria-okapi\",\"ripe-goldenrod-cheetah\",\"proud-bubblegum-opossum\",\"noisy-laurel-starling\",\"fancy-glossy-rat\",\"refined-bubblegum-poodle\",\"damaged-concrete-walrus\",\"obedient-mustard-sheep\",\"genuine-powder-halibut\",\"bumpy-boysenberry-manatee\",\"bent-honey-starfish\",\"flat-magenta-chipmunk\",\"fit-iron-monkey\",\"clever-tan-panther\",\"thankful-seafoam-ant\",\"main-pistachio-pangolin\",\"tame-wooden-anteater\",\"curly-berry-coyote\",\"breezy-coal-deer\",\"magic-rainbow-wasp\",\"agreeable-umber-python\",\"itchy-plastic-parakeet\",\"loud-juniper-boar\",\"funny-jade-bull\",\"cheesy-fuzzy-shrimp\",\"sour-honey-llama\",\"radiant-sable-swallow\",\"flat-lilac-shrimp\",\"boxy-holographic-rook\",\"young-sage-rook\",\"howling-gauze-guppy\",\"special-graphite-cat\",\"cuddly-sapphire-narwhal\",\"zany-chambray-camel\",\"spicy-seafoam-tadpole\",\"rapid-corduroy-halibut\",\"precise-tangerine-rat\",\"joyous-burgundy-chicken\",\"melted-sable-turkey\",\"round-white-sidewinder\",\"mean-alabaster-piranha\",\"creamy-linen-octopus\",\"beautiful-onyx-platypus\",\"dizzy-strawberry-cricket\",\"clever-basil-moose\",\"precise-orange-peacock\",\"rare-burlap-python\",\"harsh-concrete-lizard\",\"noisy-onyx-peacock\",\"recumbent-goldenrod-griffin\",\"mini-currant-lizard\",\"itchy-flint-puma\",\"dandy-champagne-pike\",\"soaring-iris-beetle\",\"delightful-aqua-blackbird\",\"skinny-fuchsia-mink\",\"dry-pebble-moose\",\"merry-lemon-orca\",\"bitter-bronze-okapi\",\"acidic-lime-haddock\",\"magic-carob-quail\",\"tall-watermelon-dog\",\"spare-porcelain-penguin\",\"sparkly-sable-sparrow\",\"spare-turquoise-otter\",\"micro-clear-griffin\",\"fresh-golden-wasp\",\"slow-burgundy-mandrill\",\"high-frost-blackbird\",\"fierce-onyx-spider\",\"immense-mercurial-crocodile\",\"tiny-vermilion-platypus\",\"brave-lemon-ant\",\"main-mahogany-crane\",\"mythical-jade-tarantula\",\"atomic-fuzzy-dove\",\"clean-nylon-okapi\",\"scrawny-obsidian-halibut\",\"melted-iron-seal\",\"orbiting-cream-starfish\",\"micro-tiger-tuna\",\"cheesy-wooden-bird\",\"delightful-stone-beetle\",\"savory-chili-terrier\",\"sneaky-champagne-pig\",\"basic-ginger-oyster\",\"decent-tortilla-bee\",\"tall-blonde-condor\",\"joyous-beige-moose\",\"fierce-turquoise-anteater\",\"future-punch-ant\",\"shambolic-rusty-cyborg\",\"beautiful-burgundy-rat\",\"sweet-pebble-aphid\",\"melodic-amber-hawk\",\"happy-strawberry-lion\",\"teeny-cider-troll\",\"agreeable-walnut-weasel\",\"sneaky-mulberry-parrot\",\"melodic-pearl-chameleon\",\"howling-violet-millipede\",\"custom-walnut-monkey\",\"long-rosewood-boar\",\"bubbly-mandarin-panther\",\"orbiting-mint-carp\",\"stale-menthol-piranha\",\"acidic-red-mouse\",\"teeny-cotton-hawk\"]},\"selected\":{\"id\":\"1275\",\"type\":\"Selection\"},\"selection_policy\":{\"id\":\"1276\",\"type\":\"UnionRenderers\"}},\"id\":\"1211\",\"type\":\"ColumnDataSource\"},{\"attributes\":{\"callback\":null,\"factors\":[\"muscular-lavender-owl\",\"stale-black-opossum\",\"dazzling-bone-zebra\",\"rhythmic-shadow-spider\",\"dandy-cobalt-lemur\",\"clever-pickle-sparrow\",\"sparkly-aqua-wren\",\"elegant-hazel-starling\",\"mythical-tin-hawk\",\"blurry-seafoam-ape\",\"dizzy-opaque-wolf\",\"thankful-chili-millipede\",\"polished-pearl-anteater\",\"dandy-sangria-okapi\",\"ripe-goldenrod-cheetah\",\"proud-bubblegum-opossum\",\"noisy-laurel-starling\",\"fancy-glossy-rat\",\"refined-bubblegum-poodle\",\"damaged-concrete-walrus\",\"obedient-mustard-sheep\",\"genuine-powder-halibut\",\"bumpy-boysenberry-manatee\",\"bent-honey-starfish\",\"flat-magenta-chipmunk\",\"fit-iron-monkey\",\"clever-tan-panther\",\"thankful-seafoam-ant\",\"main-pistachio-pangolin\",\"tame-wooden-anteater\",\"curly-berry-coyote\",\"breezy-coal-deer\",\"magic-rainbow-wasp\",\"agreeable-umber-python\",\"itchy-plastic-parakeet\",\"loud-juniper-boar\",\"funny-jade-bull\",\"cheesy-fuzzy-shrimp\",\"sour-honey-llama\",\"radiant-sable-swallow\",\"flat-lilac-shrimp\",\"boxy-holographic-rook\",\"young-sage-rook\",\"howling-gauze-guppy\",\"special-graphite-cat\",\"cuddly-sapphire-narwhal\",\"zany-chambray-camel\",\"spicy-seafoam-tadpole\",\"rapid-corduroy-halibut\",\"precise-tangerine-rat\",\"joyous-burgundy-chicken\",\"melted-sable-turkey\",\"round-white-sidewinder\",\"mean-alabaster-piranha\",\"creamy-linen-octopus\",\"beautiful-onyx-platypus\",\"dizzy-strawberry-cricket\",\"clever-basil-moose\",\"precise-orange-peacock\",\"rare-burlap-python\",\"harsh-concrete-lizard\",\"noisy-onyx-peacock\",\"recumbent-goldenrod-griffin\",\"mini-currant-lizard\",\"itchy-flint-puma\",\"dandy-champagne-pike\",\"soaring-iris-beetle\",\"delightful-aqua-blackbird\",\"skinny-fuchsia-mink\",\"dry-pebble-moose\",\"merry-lemon-orca\",\"bitter-bronze-okapi\",\"acidic-lime-haddock\",\"magic-carob-quail\",\"tall-watermelon-dog\",\"spare-porcelain-penguin\",\"sparkly-sable-sparrow\",\"spare-turquoise-otter\",\"micro-clear-griffin\",\"fresh-golden-wasp\",\"slow-burgundy-mandrill\",\"high-frost-blackbird\",\"fierce-onyx-spider\",\"immense-mercurial-crocodile\",\"tiny-vermilion-platypus\",\"brave-lemon-ant\",\"main-mahogany-crane\",\"mythical-jade-tarantula\",\"atomic-fuzzy-dove\",\"clean-nylon-okapi\",\"scrawny-obsidian-halibut\",\"melted-iron-seal\",\"orbiting-cream-starfish\",\"micro-tiger-tuna\",\"cheesy-wooden-bird\",\"delightful-stone-beetle\",\"savory-chili-terrier\",\"sneaky-champagne-pig\",\"basic-ginger-oyster\",\"decent-tortilla-bee\",\"tall-blonde-condor\",\"joyous-beige-moose\",\"fierce-turquoise-anteater\",\"future-punch-ant\",\"shambolic-rusty-cyborg\",\"beautiful-burgundy-rat\",\"sweet-pebble-aphid\",\"melodic-amber-hawk\",\"happy-strawberry-lion\",\"teeny-cider-troll\",\"agreeable-walnut-weasel\",\"sneaky-mulberry-parrot\",\"melodic-pearl-chameleon\",\"howling-violet-millipede\",\"custom-walnut-monkey\",\"long-rosewood-boar\",\"bubbly-mandarin-panther\",\"orbiting-mint-carp\",\"stale-menthol-piranha\",\"acidic-red-mouse\",\"teeny-cotton-hawk\"]},\"id\":\"1215\",\"type\":\"FactorRange\"},{\"attributes\":{\"axis_label\":\"Name\",\"formatter\":{\"id\":\"1273\",\"type\":\"CategoricalTickFormatter\"},\"major_label_orientation\":0.7853981633974483,\"major_label_text_font_size\":{\"value\":\"4pt\"},\"ticker\":{\"id\":\"1224\",\"type\":\"CategoricalTicker\"}},\"id\":\"1223\",\"type\":\"CategoricalAxis\"},{\"attributes\":{},\"id\":\"1224\",\"type\":\"CategoricalTicker\"},{\"attributes\":{\"source\":{\"id\":\"1211\",\"type\":\"ColumnDataSource\"}},\"id\":\"1249\",\"type\":\"CDSView\"},{\"attributes\":{},\"id\":\"1236\",\"type\":\"ResetTool\"},{\"attributes\":{},\"id\":\"1273\",\"type\":\"CategoricalTickFormatter\"},{\"attributes\":{},\"id\":\"1237\",\"type\":\"HelpTool\"},{\"attributes\":{},\"id\":\"1235\",\"type\":\"SaveTool\"},{\"attributes\":{\"text\":\"Hotspot Rewards\"},\"id\":\"1213\",\"type\":\"Title\"},{\"attributes\":{\"data_source\":{\"id\":\"1211\",\"type\":\"ColumnDataSource\"},\"glyph\":{\"id\":\"1246\",\"type\":\"VBar\"},\"hover_glyph\":null,\"muted_glyph\":null,\"nonselection_glyph\":{\"id\":\"1247\",\"type\":\"VBar\"},\"selection_glyph\":null,\"view\":{\"id\":\"1249\",\"type\":\"CDSView\"}},\"id\":\"1248\",\"type\":\"GlyphRenderer\"},{\"attributes\":{\"overlay\":{\"id\":\"1274\",\"type\":\"BoxAnnotation\"}},\"id\":\"1234\",\"type\":\"BoxZoomTool\"},{\"attributes\":{},\"id\":\"1276\",\"type\":\"UnionRenderers\"},{\"attributes\":{},\"id\":\"1228\",\"type\":\"BasicTicker\"},{\"attributes\":{\"callback\":null,\"tooltips\":[[\"name\",\"@name\"],[\"amount\",\"@amount\"]]},\"id\":\"1250\",\"type\":\"HoverTool\"},{\"attributes\":{},\"id\":\"1219\",\"type\":\"CategoricalScale\"}],\"root_ids\":[\"1212\"]},\"title\":\"Bokeh Application\",\"version\":\"1.3.4\"}};\n",
       "  var render_items = [{\"docid\":\"176d071e-77d7-4b69-b2d4-c5a369f6f58b\",\"roots\":{\"1212\":\"ae34a146-10f1-4ef5-9527-3960c52b72d0\"}}];\n",
       "  root.Bokeh.embed.embed_items_notebook(docs_json, render_items);\n",
       "\n",
       "  }\n",
       "  if (root.Bokeh !== undefined) {\n",
       "    embed_document(root);\n",
       "  } else {\n",
       "    var attempts = 0;\n",
       "    var timer = setInterval(function(root) {\n",
       "      if (root.Bokeh !== undefined) {\n",
       "        embed_document(root);\n",
       "        clearInterval(timer);\n",
       "      }\n",
       "      attempts++;\n",
       "      if (attempts > 100) {\n",
       "        console.log(\"Bokeh: ERROR: Unable to run BokehJS code because BokehJS library is missing\");\n",
       "        clearInterval(timer);\n",
       "      }\n",
       "    }, 10, root)\n",
       "  }\n",
       "})(window);"
      ],
      "application/vnd.bokehjs_exec.v0+json": ""
     },
     "metadata": {
      "application/vnd.bokehjs_exec.v0+json": {
       "id": "1212"
      }
     },
     "output_type": "display_data"
    }
   ],
   "source": [
    "source = ColumnDataSource(g1)\n",
    "p = figure(x_range=g1['name'], title=\"Hotspot Rewards\")\n",
    "\n",
    "p.vbar(x='name', top='amount', width=0.8, source=source)\n",
    "hover = HoverTool(tooltips=[('name', '@name'), ('amount', '@amount')])\n",
    "p.width = 900\n",
    "p.add_tools(hover)\n",
    "p.xaxis.axis_label = \"Name\"\n",
    "p.yaxis.axis_label = \"Reward\"\n",
    "p.xaxis.major_label_text_font_size = \"4pt\"\n",
    "p.xaxis.major_label_orientation = math.pi/4\n",
    "\n",
    "show(p)"
   ]
  }
 ],
 "metadata": {
  "kernelspec": {
   "display_name": "Python 3",
   "language": "python",
   "name": "python3"
  },
  "language_info": {
   "codemirror_mode": {
    "name": "ipython",
    "version": 3
   },
   "file_extension": ".py",
   "mimetype": "text/x-python",
   "name": "python",
   "nbconvert_exporter": "python",
   "pygments_lexer": "ipython3",
   "version": "3.7.3"
  }
 },
 "nbformat": 4,
 "nbformat_minor": 2
}
