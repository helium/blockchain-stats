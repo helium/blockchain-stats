{
 "cells": [
  {
   "cell_type": "markdown",
   "metadata": {},
   "source": [
    "### Imports"
   ]
  },
  {
   "cell_type": "code",
   "execution_count": 1,
   "metadata": {},
   "outputs": [
    {
     "data": {
      "text/html": [
       "\n",
       "    <div class=\"bk-root\">\n",
       "        <a href=\"https://bokeh.pydata.org\" target=\"_blank\" class=\"bk-logo bk-logo-small bk-logo-notebook\"></a>\n",
       "        <span id=\"1001\">Loading BokehJS ...</span>\n",
       "    </div>"
      ]
     },
     "metadata": {},
     "output_type": "display_data"
    },
    {
     "data": {
      "application/javascript": [
       "\n",
       "(function(root) {\n",
       "  function now() {\n",
       "    return new Date();\n",
       "  }\n",
       "\n",
       "  var force = true;\n",
       "\n",
       "  if (typeof root._bokeh_onload_callbacks === \"undefined\" || force === true) {\n",
       "    root._bokeh_onload_callbacks = [];\n",
       "    root._bokeh_is_loading = undefined;\n",
       "  }\n",
       "\n",
       "  var JS_MIME_TYPE = 'application/javascript';\n",
       "  var HTML_MIME_TYPE = 'text/html';\n",
       "  var EXEC_MIME_TYPE = 'application/vnd.bokehjs_exec.v0+json';\n",
       "  var CLASS_NAME = 'output_bokeh rendered_html';\n",
       "\n",
       "  /**\n",
       "   * Render data to the DOM node\n",
       "   */\n",
       "  function render(props, node) {\n",
       "    var script = document.createElement(\"script\");\n",
       "    node.appendChild(script);\n",
       "  }\n",
       "\n",
       "  /**\n",
       "   * Handle when an output is cleared or removed\n",
       "   */\n",
       "  function handleClearOutput(event, handle) {\n",
       "    var cell = handle.cell;\n",
       "\n",
       "    var id = cell.output_area._bokeh_element_id;\n",
       "    var server_id = cell.output_area._bokeh_server_id;\n",
       "    // Clean up Bokeh references\n",
       "    if (id != null && id in Bokeh.index) {\n",
       "      Bokeh.index[id].model.document.clear();\n",
       "      delete Bokeh.index[id];\n",
       "    }\n",
       "\n",
       "    if (server_id !== undefined) {\n",
       "      // Clean up Bokeh references\n",
       "      var cmd = \"from bokeh.io.state import curstate; print(curstate().uuid_to_server['\" + server_id + \"'].get_sessions()[0].document.roots[0]._id)\";\n",
       "      cell.notebook.kernel.execute(cmd, {\n",
       "        iopub: {\n",
       "          output: function(msg) {\n",
       "            var id = msg.content.text.trim();\n",
       "            if (id in Bokeh.index) {\n",
       "              Bokeh.index[id].model.document.clear();\n",
       "              delete Bokeh.index[id];\n",
       "            }\n",
       "          }\n",
       "        }\n",
       "      });\n",
       "      // Destroy server and session\n",
       "      var cmd = \"import bokeh.io.notebook as ion; ion.destroy_server('\" + server_id + \"')\";\n",
       "      cell.notebook.kernel.execute(cmd);\n",
       "    }\n",
       "  }\n",
       "\n",
       "  /**\n",
       "   * Handle when a new output is added\n",
       "   */\n",
       "  function handleAddOutput(event, handle) {\n",
       "    var output_area = handle.output_area;\n",
       "    var output = handle.output;\n",
       "\n",
       "    // limit handleAddOutput to display_data with EXEC_MIME_TYPE content only\n",
       "    if ((output.output_type != \"display_data\") || (!output.data.hasOwnProperty(EXEC_MIME_TYPE))) {\n",
       "      return\n",
       "    }\n",
       "\n",
       "    var toinsert = output_area.element.find(\".\" + CLASS_NAME.split(' ')[0]);\n",
       "\n",
       "    if (output.metadata[EXEC_MIME_TYPE][\"id\"] !== undefined) {\n",
       "      toinsert[toinsert.length - 1].firstChild.textContent = output.data[JS_MIME_TYPE];\n",
       "      // store reference to embed id on output_area\n",
       "      output_area._bokeh_element_id = output.metadata[EXEC_MIME_TYPE][\"id\"];\n",
       "    }\n",
       "    if (output.metadata[EXEC_MIME_TYPE][\"server_id\"] !== undefined) {\n",
       "      var bk_div = document.createElement(\"div\");\n",
       "      bk_div.innerHTML = output.data[HTML_MIME_TYPE];\n",
       "      var script_attrs = bk_div.children[0].attributes;\n",
       "      for (var i = 0; i < script_attrs.length; i++) {\n",
       "        toinsert[toinsert.length - 1].firstChild.setAttribute(script_attrs[i].name, script_attrs[i].value);\n",
       "      }\n",
       "      // store reference to server id on output_area\n",
       "      output_area._bokeh_server_id = output.metadata[EXEC_MIME_TYPE][\"server_id\"];\n",
       "    }\n",
       "  }\n",
       "\n",
       "  function register_renderer(events, OutputArea) {\n",
       "\n",
       "    function append_mime(data, metadata, element) {\n",
       "      // create a DOM node to render to\n",
       "      var toinsert = this.create_output_subarea(\n",
       "        metadata,\n",
       "        CLASS_NAME,\n",
       "        EXEC_MIME_TYPE\n",
       "      );\n",
       "      this.keyboard_manager.register_events(toinsert);\n",
       "      // Render to node\n",
       "      var props = {data: data, metadata: metadata[EXEC_MIME_TYPE]};\n",
       "      render(props, toinsert[toinsert.length - 1]);\n",
       "      element.append(toinsert);\n",
       "      return toinsert\n",
       "    }\n",
       "\n",
       "    /* Handle when an output is cleared or removed */\n",
       "    events.on('clear_output.CodeCell', handleClearOutput);\n",
       "    events.on('delete.Cell', handleClearOutput);\n",
       "\n",
       "    /* Handle when a new output is added */\n",
       "    events.on('output_added.OutputArea', handleAddOutput);\n",
       "\n",
       "    /**\n",
       "     * Register the mime type and append_mime function with output_area\n",
       "     */\n",
       "    OutputArea.prototype.register_mime_type(EXEC_MIME_TYPE, append_mime, {\n",
       "      /* Is output safe? */\n",
       "      safe: true,\n",
       "      /* Index of renderer in `output_area.display_order` */\n",
       "      index: 0\n",
       "    });\n",
       "  }\n",
       "\n",
       "  // register the mime type if in Jupyter Notebook environment and previously unregistered\n",
       "  if (root.Jupyter !== undefined) {\n",
       "    var events = require('base/js/events');\n",
       "    var OutputArea = require('notebook/js/outputarea').OutputArea;\n",
       "\n",
       "    if (OutputArea.prototype.mime_types().indexOf(EXEC_MIME_TYPE) == -1) {\n",
       "      register_renderer(events, OutputArea);\n",
       "    }\n",
       "  }\n",
       "\n",
       "  \n",
       "  if (typeof (root._bokeh_timeout) === \"undefined\" || force === true) {\n",
       "    root._bokeh_timeout = Date.now() + 5000;\n",
       "    root._bokeh_failed_load = false;\n",
       "  }\n",
       "\n",
       "  var NB_LOAD_WARNING = {'data': {'text/html':\n",
       "     \"<div style='background-color: #fdd'>\\n\"+\n",
       "     \"<p>\\n\"+\n",
       "     \"BokehJS does not appear to have successfully loaded. If loading BokehJS from CDN, this \\n\"+\n",
       "     \"may be due to a slow or bad network connection. Possible fixes:\\n\"+\n",
       "     \"</p>\\n\"+\n",
       "     \"<ul>\\n\"+\n",
       "     \"<li>re-rerun `output_notebook()` to attempt to load from CDN again, or</li>\\n\"+\n",
       "     \"<li>use INLINE resources instead, as so:</li>\\n\"+\n",
       "     \"</ul>\\n\"+\n",
       "     \"<code>\\n\"+\n",
       "     \"from bokeh.resources import INLINE\\n\"+\n",
       "     \"output_notebook(resources=INLINE)\\n\"+\n",
       "     \"</code>\\n\"+\n",
       "     \"</div>\"}};\n",
       "\n",
       "  function display_loaded() {\n",
       "    var el = document.getElementById(\"1001\");\n",
       "    if (el != null) {\n",
       "      el.textContent = \"BokehJS is loading...\";\n",
       "    }\n",
       "    if (root.Bokeh !== undefined) {\n",
       "      if (el != null) {\n",
       "        el.textContent = \"BokehJS \" + root.Bokeh.version + \" successfully loaded.\";\n",
       "      }\n",
       "    } else if (Date.now() < root._bokeh_timeout) {\n",
       "      setTimeout(display_loaded, 100)\n",
       "    }\n",
       "  }\n",
       "\n",
       "\n",
       "  function run_callbacks() {\n",
       "    try {\n",
       "      root._bokeh_onload_callbacks.forEach(function(callback) {\n",
       "        if (callback != null)\n",
       "          callback();\n",
       "      });\n",
       "    } finally {\n",
       "      delete root._bokeh_onload_callbacks\n",
       "    }\n",
       "    console.debug(\"Bokeh: all callbacks have finished\");\n",
       "  }\n",
       "\n",
       "  function load_libs(css_urls, js_urls, callback) {\n",
       "    if (css_urls == null) css_urls = [];\n",
       "    if (js_urls == null) js_urls = [];\n",
       "\n",
       "    root._bokeh_onload_callbacks.push(callback);\n",
       "    if (root._bokeh_is_loading > 0) {\n",
       "      console.debug(\"Bokeh: BokehJS is being loaded, scheduling callback at\", now());\n",
       "      return null;\n",
       "    }\n",
       "    if (js_urls == null || js_urls.length === 0) {\n",
       "      run_callbacks();\n",
       "      return null;\n",
       "    }\n",
       "    console.debug(\"Bokeh: BokehJS not loaded, scheduling load and callback at\", now());\n",
       "    root._bokeh_is_loading = css_urls.length + js_urls.length;\n",
       "\n",
       "    function on_load() {\n",
       "      root._bokeh_is_loading--;\n",
       "      if (root._bokeh_is_loading === 0) {\n",
       "        console.debug(\"Bokeh: all BokehJS libraries/stylesheets loaded\");\n",
       "        run_callbacks()\n",
       "      }\n",
       "    }\n",
       "\n",
       "    function on_error() {\n",
       "      console.error(\"failed to load \" + url);\n",
       "    }\n",
       "\n",
       "    for (var i = 0; i < css_urls.length; i++) {\n",
       "      var url = css_urls[i];\n",
       "      const element = document.createElement(\"link\");\n",
       "      element.onload = on_load;\n",
       "      element.onerror = on_error;\n",
       "      element.rel = \"stylesheet\";\n",
       "      element.type = \"text/css\";\n",
       "      element.href = url;\n",
       "      console.debug(\"Bokeh: injecting link tag for BokehJS stylesheet: \", url);\n",
       "      document.body.appendChild(element);\n",
       "    }\n",
       "\n",
       "    for (var i = 0; i < js_urls.length; i++) {\n",
       "      var url = js_urls[i];\n",
       "      var element = document.createElement('script');\n",
       "      element.onload = on_load;\n",
       "      element.onerror = on_error;\n",
       "      element.async = false;\n",
       "      element.src = url;\n",
       "      console.debug(\"Bokeh: injecting script tag for BokehJS library: \", url);\n",
       "      document.head.appendChild(element);\n",
       "    }\n",
       "  };var element = document.getElementById(\"1001\");\n",
       "  if (element == null) {\n",
       "    console.error(\"Bokeh: ERROR: autoload.js configured with elementid '1001' but no matching script tag was found. \")\n",
       "    return false;\n",
       "  }\n",
       "\n",
       "  function inject_raw_css(css) {\n",
       "    const element = document.createElement(\"style\");\n",
       "    element.appendChild(document.createTextNode(css));\n",
       "    document.body.appendChild(element);\n",
       "  }\n",
       "\n",
       "  var js_urls = [\"https://cdn.pydata.org/bokeh/release/bokeh-1.3.4.min.js\", \"https://cdn.pydata.org/bokeh/release/bokeh-widgets-1.3.4.min.js\", \"https://cdn.pydata.org/bokeh/release/bokeh-tables-1.3.4.min.js\", \"https://cdn.pydata.org/bokeh/release/bokeh-gl-1.3.4.min.js\"];\n",
       "  var css_urls = [];\n",
       "\n",
       "  var inline_js = [\n",
       "    function(Bokeh) {\n",
       "      Bokeh.set_log_level(\"info\");\n",
       "    },\n",
       "    \n",
       "    function(Bokeh) {\n",
       "      \n",
       "    },\n",
       "    function(Bokeh) {} // ensure no trailing comma for IE\n",
       "  ];\n",
       "\n",
       "  function run_inline_js() {\n",
       "    \n",
       "    if ((root.Bokeh !== undefined) || (force === true)) {\n",
       "      for (var i = 0; i < inline_js.length; i++) {\n",
       "        inline_js[i].call(root, root.Bokeh);\n",
       "      }if (force === true) {\n",
       "        display_loaded();\n",
       "      }} else if (Date.now() < root._bokeh_timeout) {\n",
       "      setTimeout(run_inline_js, 100);\n",
       "    } else if (!root._bokeh_failed_load) {\n",
       "      console.log(\"Bokeh: BokehJS failed to load within specified timeout.\");\n",
       "      root._bokeh_failed_load = true;\n",
       "    } else if (force !== true) {\n",
       "      var cell = $(document.getElementById(\"1001\")).parents('.cell').data().cell;\n",
       "      cell.output_area.append_execute_result(NB_LOAD_WARNING)\n",
       "    }\n",
       "\n",
       "  }\n",
       "\n",
       "  if (root._bokeh_is_loading === 0) {\n",
       "    console.debug(\"Bokeh: BokehJS loaded, going straight to plotting\");\n",
       "    run_inline_js();\n",
       "  } else {\n",
       "    load_libs(css_urls, js_urls, function() {\n",
       "      console.debug(\"Bokeh: BokehJS plotting callback run at\", now());\n",
       "      run_inline_js();\n",
       "    });\n",
       "  }\n",
       "}(window));"
      ],
      "application/vnd.bokehjs_load.v0+json": "\n(function(root) {\n  function now() {\n    return new Date();\n  }\n\n  var force = true;\n\n  if (typeof root._bokeh_onload_callbacks === \"undefined\" || force === true) {\n    root._bokeh_onload_callbacks = [];\n    root._bokeh_is_loading = undefined;\n  }\n\n  \n\n  \n  if (typeof (root._bokeh_timeout) === \"undefined\" || force === true) {\n    root._bokeh_timeout = Date.now() + 5000;\n    root._bokeh_failed_load = false;\n  }\n\n  var NB_LOAD_WARNING = {'data': {'text/html':\n     \"<div style='background-color: #fdd'>\\n\"+\n     \"<p>\\n\"+\n     \"BokehJS does not appear to have successfully loaded. If loading BokehJS from CDN, this \\n\"+\n     \"may be due to a slow or bad network connection. Possible fixes:\\n\"+\n     \"</p>\\n\"+\n     \"<ul>\\n\"+\n     \"<li>re-rerun `output_notebook()` to attempt to load from CDN again, or</li>\\n\"+\n     \"<li>use INLINE resources instead, as so:</li>\\n\"+\n     \"</ul>\\n\"+\n     \"<code>\\n\"+\n     \"from bokeh.resources import INLINE\\n\"+\n     \"output_notebook(resources=INLINE)\\n\"+\n     \"</code>\\n\"+\n     \"</div>\"}};\n\n  function display_loaded() {\n    var el = document.getElementById(\"1001\");\n    if (el != null) {\n      el.textContent = \"BokehJS is loading...\";\n    }\n    if (root.Bokeh !== undefined) {\n      if (el != null) {\n        el.textContent = \"BokehJS \" + root.Bokeh.version + \" successfully loaded.\";\n      }\n    } else if (Date.now() < root._bokeh_timeout) {\n      setTimeout(display_loaded, 100)\n    }\n  }\n\n\n  function run_callbacks() {\n    try {\n      root._bokeh_onload_callbacks.forEach(function(callback) {\n        if (callback != null)\n          callback();\n      });\n    } finally {\n      delete root._bokeh_onload_callbacks\n    }\n    console.debug(\"Bokeh: all callbacks have finished\");\n  }\n\n  function load_libs(css_urls, js_urls, callback) {\n    if (css_urls == null) css_urls = [];\n    if (js_urls == null) js_urls = [];\n\n    root._bokeh_onload_callbacks.push(callback);\n    if (root._bokeh_is_loading > 0) {\n      console.debug(\"Bokeh: BokehJS is being loaded, scheduling callback at\", now());\n      return null;\n    }\n    if (js_urls == null || js_urls.length === 0) {\n      run_callbacks();\n      return null;\n    }\n    console.debug(\"Bokeh: BokehJS not loaded, scheduling load and callback at\", now());\n    root._bokeh_is_loading = css_urls.length + js_urls.length;\n\n    function on_load() {\n      root._bokeh_is_loading--;\n      if (root._bokeh_is_loading === 0) {\n        console.debug(\"Bokeh: all BokehJS libraries/stylesheets loaded\");\n        run_callbacks()\n      }\n    }\n\n    function on_error() {\n      console.error(\"failed to load \" + url);\n    }\n\n    for (var i = 0; i < css_urls.length; i++) {\n      var url = css_urls[i];\n      const element = document.createElement(\"link\");\n      element.onload = on_load;\n      element.onerror = on_error;\n      element.rel = \"stylesheet\";\n      element.type = \"text/css\";\n      element.href = url;\n      console.debug(\"Bokeh: injecting link tag for BokehJS stylesheet: \", url);\n      document.body.appendChild(element);\n    }\n\n    for (var i = 0; i < js_urls.length; i++) {\n      var url = js_urls[i];\n      var element = document.createElement('script');\n      element.onload = on_load;\n      element.onerror = on_error;\n      element.async = false;\n      element.src = url;\n      console.debug(\"Bokeh: injecting script tag for BokehJS library: \", url);\n      document.head.appendChild(element);\n    }\n  };var element = document.getElementById(\"1001\");\n  if (element == null) {\n    console.error(\"Bokeh: ERROR: autoload.js configured with elementid '1001' but no matching script tag was found. \")\n    return false;\n  }\n\n  function inject_raw_css(css) {\n    const element = document.createElement(\"style\");\n    element.appendChild(document.createTextNode(css));\n    document.body.appendChild(element);\n  }\n\n  var js_urls = [\"https://cdn.pydata.org/bokeh/release/bokeh-1.3.4.min.js\", \"https://cdn.pydata.org/bokeh/release/bokeh-widgets-1.3.4.min.js\", \"https://cdn.pydata.org/bokeh/release/bokeh-tables-1.3.4.min.js\", \"https://cdn.pydata.org/bokeh/release/bokeh-gl-1.3.4.min.js\"];\n  var css_urls = [];\n\n  var inline_js = [\n    function(Bokeh) {\n      Bokeh.set_log_level(\"info\");\n    },\n    \n    function(Bokeh) {\n      \n    },\n    function(Bokeh) {} // ensure no trailing comma for IE\n  ];\n\n  function run_inline_js() {\n    \n    if ((root.Bokeh !== undefined) || (force === true)) {\n      for (var i = 0; i < inline_js.length; i++) {\n        inline_js[i].call(root, root.Bokeh);\n      }if (force === true) {\n        display_loaded();\n      }} else if (Date.now() < root._bokeh_timeout) {\n      setTimeout(run_inline_js, 100);\n    } else if (!root._bokeh_failed_load) {\n      console.log(\"Bokeh: BokehJS failed to load within specified timeout.\");\n      root._bokeh_failed_load = true;\n    } else if (force !== true) {\n      var cell = $(document.getElementById(\"1001\")).parents('.cell').data().cell;\n      cell.output_area.append_execute_result(NB_LOAD_WARNING)\n    }\n\n  }\n\n  if (root._bokeh_is_loading === 0) {\n    console.debug(\"Bokeh: BokehJS loaded, going straight to plotting\");\n    run_inline_js();\n  } else {\n    load_libs(css_urls, js_urls, function() {\n      console.debug(\"Bokeh: BokehJS plotting callback run at\", now());\n      run_inline_js();\n    });\n  }\n}(window));"
     },
     "metadata": {},
     "output_type": "display_data"
    }
   ],
   "source": [
    "import pandas as pd\n",
    "import numpy as np\n",
    "from bokeh.plotting import figure, output_notebook, show\n",
    "from bokeh.models import ColumnDataSource, HoverTool\n",
    "from datetime import datetime\n",
    "from bokeh.palettes import Spectral3\n",
    "from tabulate import tabulate\n",
    "from bokeh.transform import factor_cmap\n",
    "from funcs import *\n",
    "\n",
    "# convenience\n",
    "output_notebook()\n",
    "pd.set_option('display.max_colwidth', -1)"
   ]
  },
  {
   "cell_type": "markdown",
   "metadata": {},
   "source": [
    "### Globals"
   ]
  },
  {
   "cell_type": "code",
   "execution_count": 2,
   "metadata": {},
   "outputs": [],
   "source": [
    "API = 'https://explorer.helium.foundation/api'\n",
    "NUM_CHALLENGES = 500\n",
    "NUM_BLOCKS = 500\n",
    "LATEST_HEIGHT = latest_height(API)\n",
    "TOP = 10"
   ]
  },
  {
   "cell_type": "markdown",
   "metadata": {},
   "source": [
    "### Block Stats"
   ]
  },
  {
   "cell_type": "code",
   "execution_count": 3,
   "metadata": {},
   "outputs": [],
   "source": [
    "blocks = get_blocks(API, NUM_BLOCKS)"
   ]
  },
  {
   "cell_type": "code",
   "execution_count": 4,
   "metadata": {},
   "outputs": [],
   "source": [
    "df = pd.DataFrame(blocks)"
   ]
  },
  {
   "cell_type": "code",
   "execution_count": 5,
   "metadata": {},
   "outputs": [
    {
     "name": "stdout",
     "output_type": "stream",
     "text": [
      "Average txns past 500 blocks: 4.592\n"
     ]
    }
   ],
   "source": [
    "print(f'Average txns past {NUM_BLOCKS} blocks: {df[\"txns\"].mean()}')"
   ]
  },
  {
   "cell_type": "code",
   "execution_count": 6,
   "metadata": {},
   "outputs": [
    {
     "name": "stdout",
     "output_type": "stream",
     "text": [
      "Average block time past 500 blocks: 1565556640.552\n"
     ]
    }
   ],
   "source": [
    "print(f'Average block time past {NUM_BLOCKS} blocks: {df[\"time\"].mean()}')"
   ]
  },
  {
   "cell_type": "code",
   "execution_count": 7,
   "metadata": {},
   "outputs": [
    {
     "name": "stdout",
     "output_type": "stream",
     "text": [
      "Block with max txns for past 500 blocks: \n",
      "+--------+----------------------------------------------------+\n",
      "| hash   | 1zxBLbzaZYZ172Awkbci9Jhxoir1qiHWtVp85Jua2t4e7xqH3Z |\n",
      "| height | 13695                                              |\n",
      "| round  | 13695                                              |\n",
      "| time   | 1565580700                                         |\n",
      "| txns   | 14                                                 |\n",
      "+--------+----------------------------------------------------+\n"
     ]
    }
   ],
   "source": [
    "max_txns = tabulate(df.max().reset_index(),tablefmt='psql', showindex='never')\n",
    "print(f\"Block with max txns for past {NUM_BLOCKS} blocks: \\n{max_txns}\")"
   ]
  },
  {
   "cell_type": "code",
   "execution_count": 8,
   "metadata": {},
   "outputs": [
    {
     "data": {
      "text/html": [
       "\n",
       "\n",
       "\n",
       "\n",
       "\n",
       "\n",
       "  <div class=\"bk-root\" id=\"2ce3242a-384d-44fc-8416-996540cdc1a5\" data-root-id=\"1003\"></div>\n"
      ]
     },
     "metadata": {},
     "output_type": "display_data"
    },
    {
     "data": {
      "application/javascript": [
       "(function(root) {\n",
       "  function embed_document(root) {\n",
       "    \n",
       "  var docs_json = {\"c21ce439-a0a9-465d-83b5-d58b8fbc736a\":{\"roots\":{\"references\":[{\"attributes\":{\"below\":[{\"id\":\"1012\",\"type\":\"LinearAxis\"}],\"center\":[{\"id\":\"1016\",\"type\":\"Grid\"},{\"id\":\"1021\",\"type\":\"Grid\"}],\"left\":[{\"id\":\"1017\",\"type\":\"LinearAxis\"}],\"renderers\":[{\"id\":\"1038\",\"type\":\"GlyphRenderer\"}],\"title\":{\"id\":\"1043\",\"type\":\"Title\"},\"toolbar\":{\"id\":\"1028\",\"type\":\"Toolbar\"},\"x_range\":{\"id\":\"1004\",\"type\":\"DataRange1d\"},\"x_scale\":{\"id\":\"1008\",\"type\":\"LinearScale\"},\"y_range\":{\"id\":\"1006\",\"type\":\"DataRange1d\"},\"y_scale\":{\"id\":\"1010\",\"type\":\"LinearScale\"}},\"id\":\"1003\",\"subtype\":\"Figure\",\"type\":\"Plot\"},{\"attributes\":{\"text\":\"\"},\"id\":\"1043\",\"type\":\"Title\"},{\"attributes\":{\"callback\":null},\"id\":\"1006\",\"type\":\"DataRange1d\"},{\"attributes\":{},\"id\":\"1046\",\"type\":\"BasicTickFormatter\"},{\"attributes\":{},\"id\":\"1008\",\"type\":\"LinearScale\"},{\"attributes\":{},\"id\":\"1010\",\"type\":\"LinearScale\"},{\"attributes\":{\"axis_label\":\"Txns/Block\",\"formatter\":{\"id\":\"1046\",\"type\":\"BasicTickFormatter\"},\"ticker\":{\"id\":\"1013\",\"type\":\"BasicTicker\"}},\"id\":\"1012\",\"type\":\"LinearAxis\"},{\"attributes\":{\"source\":{\"id\":\"1002\",\"type\":\"ColumnDataSource\"}},\"id\":\"1039\",\"type\":\"CDSView\"},{\"attributes\":{\"bottom_units\":\"screen\",\"fill_alpha\":{\"value\":0.5},\"fill_color\":{\"value\":\"lightgrey\"},\"left_units\":\"screen\",\"level\":\"overlay\",\"line_alpha\":{\"value\":1.0},\"line_color\":{\"value\":\"black\"},\"line_dash\":[4,4],\"line_width\":{\"value\":2},\"render_mode\":\"css\",\"right_units\":\"screen\",\"top_units\":\"screen\"},\"id\":\"1048\",\"type\":\"BoxAnnotation\"},{\"attributes\":{\"data_source\":{\"id\":\"1002\",\"type\":\"ColumnDataSource\"},\"glyph\":{\"id\":\"1036\",\"type\":\"VBar\"},\"hover_glyph\":null,\"muted_glyph\":null,\"nonselection_glyph\":{\"id\":\"1037\",\"type\":\"VBar\"},\"selection_glyph\":null,\"view\":{\"id\":\"1039\",\"type\":\"CDSView\"}},\"id\":\"1038\",\"type\":\"GlyphRenderer\"},{\"attributes\":{},\"id\":\"1013\",\"type\":\"BasicTicker\"},{\"attributes\":{},\"id\":\"1049\",\"type\":\"Selection\"},{\"attributes\":{\"ticker\":{\"id\":\"1013\",\"type\":\"BasicTicker\"}},\"id\":\"1016\",\"type\":\"Grid\"},{\"attributes\":{},\"id\":\"1050\",\"type\":\"UnionRenderers\"},{\"attributes\":{\"axis_label\":\"NumTxns\",\"formatter\":{\"id\":\"1044\",\"type\":\"BasicTickFormatter\"},\"ticker\":{\"id\":\"1018\",\"type\":\"BasicTicker\"}},\"id\":\"1017\",\"type\":\"LinearAxis\"},{\"attributes\":{},\"id\":\"1018\",\"type\":\"BasicTicker\"},{\"attributes\":{\"dimension\":1,\"ticker\":{\"id\":\"1018\",\"type\":\"BasicTicker\"}},\"id\":\"1021\",\"type\":\"Grid\"},{\"attributes\":{},\"id\":\"1044\",\"type\":\"BasicTickFormatter\"},{\"attributes\":{},\"id\":\"1022\",\"type\":\"PanTool\"},{\"attributes\":{\"fill_alpha\":{\"value\":0.1},\"fill_color\":{\"value\":\"#1f77b4\"},\"line_alpha\":{\"value\":0.1},\"line_color\":{\"value\":\"#1f77b4\"},\"top\":{\"field\":\"txns\"},\"width\":{\"value\":0.8},\"x\":{\"field\":\"height\"}},\"id\":\"1037\",\"type\":\"VBar\"},{\"attributes\":{},\"id\":\"1023\",\"type\":\"WheelZoomTool\"},{\"attributes\":{\"overlay\":{\"id\":\"1048\",\"type\":\"BoxAnnotation\"}},\"id\":\"1024\",\"type\":\"BoxZoomTool\"},{\"attributes\":{\"callback\":null,\"data\":{\"hash\":[\"12VgFhFB7fLSWbAcwZdxsKEPqU7s4XYDSsrXs3B22WPUzqVdLEy\",\"12Au5ULmNEzGXvD8xE9Zz8ASUJgMKzxCRgB5nGUsCzNY9LdoRtS\",\"12CWTkMFQ2Qtz4QYx68CaWhRr6wDcGAz6h66ih83sKMwwDtPXdz\",\"1AZcG4eDfQN1QmZoj9KVBjDvMiaBATVxKomKtpNTR4SXmj4E9g\",\"12QffJW3V3qaKhT6vPd2vaaoq7xfBZo3R4RKxnu7LokiB8YbjFe\",\"1rL6coSYJKkAakVhciRg7PzQ8upqsWKJQd8koiSWnTEBjW1zRc\",\"12GX3oN77eCPshQy1ZAfjDuJiJb5oopZgFWUU7LesrsNXvAkwTk\",\"129g1qQKHBtziZXAyvu8i47c8KDYY98ihGgMngqQRJszQ45UFa2\",\"12HPLkyDWbdEmskgMwsrA9r4Dy9644F3NUdgyDbJMxnMKq2mV27\",\"1jc4fK29M6zYMcc2PiKxEb28w1xBD1Nh6bNG19jP29dCGeoRkP\",\"12SZ1jEb5dtMGvyDichHtBH9Ep4U9u54HWseieNYTtCJ6n3idsK\",\"12m5Egv3e7Q3yjQmbny9HT4LnaWz42BsJwh3ca2fxMPNQjvq7Dr\",\"1md6RuhpF12RVkYEuqyK55TQJeeYLUjZqnwjNKtzGzV7W4sQdG\",\"1CQTcXb6krj46tUD4xNrpGjg8T9j2E4rJYaiiHkYoSM82j5Jcm\",\"14s3A6imwkvzDXjmhykaqSt547oyV1AyR8tHSqDWv1keqaxMqJ\",\"12XecSYp5HugjtoZcDHM47RyV9CFxpyb6ZAtpS8ho1tddRhYB5m\",\"12QRfn6EpZPsqDDbxmPK75fU8Bu47raYjbxrpz1mFixkaB72r2Q\",\"1EBC7zvXTGWQgR1kzUocW6pkWZibrSLZGuxNKgWyGxHXdWXbWn\",\"1jvA8Z2bBC3jnYmqb59RiikNX4ozMaXmaX7GFYo1dtTzRazBhu\",\"12WYgtg6jbbqnaKrJHeADrmUQ36YHX9Gd1rehewYSjB5oCLmj4X\",\"1cQ3CLKza43UEqFnDsGnxrLZjcEn2MA43QRCEVyQM6spEgG2db\",\"12onfLPiT87FKBFsNHzLGo59VJw6adQkac5SY9LCBHisDJzz9he\",\"12YwD2g7C3hmnxDetePFdTPspCstMMyhJA213QcP55RSGWoJrm2\",\"124q4v8vE9oAyNJCWdA4P76H5aoeumMwNw6khPcpfy1ZQv4qrJc\",\"1g1TgQuCyqqhQdM1FBr4uF5pJ31Zf39AsU6tzuFWPsG56EaQVn\",\"1FLErjmFwShYFno4h2DdAvqrjGZPW1WjZ8PkRDM813QZFwYezU\",\"1qhtri5snavskUpmYqToBxKnKdCRDmx3e9tj9bVjJAoWVBjiU7\",\"12vtXQuQCfabvgZNrVYw3Q1L3Wcw34M36KLFvvy1cZj3GTczHpm\",\"12d5cD2A6s1G3aiUqPpbxaSfUwAr5oZjzmm6Kx5shjmb2EszrGJ\",\"12GJ7bgNLD3SaPF346q52YosapBRidD197YEY2y5nJimRHDBuJa\",\"1peXHSGnBhgWa4tFnsprX665mHS98FXqPPYsgbMJCnbtfhjEk9\",\"1DSfaqFEXG2iY1Nemj9trXUyemsbhpcM6hsJwhhbu8gHRhE9kH\",\"126SRCz9FyCkZJhgE1x8H94skEf5W2CqRoD5Fg3y4NpdFiz2z3n\",\"12U1QkJ2HHycMUDMQRzqqUHX3ymToPTW4NdUaJbVCA5iTfQ3z9s\",\"1EpnJ75UNjapQRF2mGnVPAK8du1noURVKW7FjKk96gpbK57cFN\",\"12U4rcc7ZbKcmfbp4m7u6EHMX7q2xu2K1itzLVgFXrQFjNiTvHk\",\"12eopn9wAx4qEsxDuKaqZ958aMMzneGVW4kmwYZSvPDsefa8zQK\",\"12Hm4ZTrqWy4mzGqUpTX6o85HGaRU1CdgzyWYNu3GEiXR7U5wKc\",\"1wZYXfYWZeBWwBEGSbvRKfPESVZ3uqw3gJmSEZ4nbyXc4kSWSh\",\"198GBw16Wmz3uSFVRaHsXc72gnDucZNZnaMWNqX3wrxipYFuCv\",\"12f3FkaF6Vw6NmWNczNpfjuz59mgFsBThHCEwVFbHzUdFXSDqSS\",\"123ydHyrpdLzN4ssGEoT2etwqx4HFjg9zqYKmsf2tLhLCM8TDZU\",\"1JuUgBWVvHbmregAe5EZHUBXB12hSmgy6HCdCSJtVLpM3TyYJ1\",\"12E8tJQXFShcM22sJ6uQ2veZ114Rqxvvs1QDT3yHcEog2skTLHK\",\"1bxfFqsN7ebu8njZeRJ8bTNQeLE3WgZk39rG7fJErUVnxqu9L6\",\"12vvnrYcckUe4TC4D5WLvBVA5CrYeFVhvrL1qZL4Be65PkvcYgH\",\"1213tEnetLu2G7aC8n6hpgtHmAXHRkSQJDZGNYFRErksWS82D6u\",\"1twe2C41YbitxxhBpXK3tgDpKcVZg1QJYmqwgpvf8fgTK5m1F9\",\"12P1mB1xkU1xxDjiSxD52W1vYDA8CffrDxPfTUq91KoqT2cYKW2\",\"121P6b7s5rdFr7sfZJC1mTQ9PrvHoceKXdePZqnf6VCd9D2UdzP\",\"1Z19AvzkFF9ss673v6Bqsg8krag9283vtPctqpnSH4xXxhSaYR\",\"19UAboMUMHqpgWxbbEGFyDYRcb8MSyaoqwSBjrqegbWkZDmHj5\",\"127et8HBY9hBs8NHwMAmjVMHDSLVWtjQTHP5F83FRCYkhREw5rJ\",\"1JXvfRnofMeHnE6ntBKPd2YqDtw62cvj4enmLiSLzBHm4uWise\",\"1W8u7ae2dbw6mCZ7vb8MLgsmpYzpWJpJ1XsqoxLzqS9HeJRWxo\",\"1SiSjkuUubcHDryjVyiUPmu1fMdFhE7umwQYmH8hgmJqUpHUaQ\",\"1gCjgUKjKvC6HPDz7sUUaBEYhmLUZAgSwtQ1t3psh4YNBeUUxG\",\"1VX9MeHwsVnVVDrDrpuWswAq3jbyGuVaxg4XcRMvYvDnxBcFyX\",\"1bb7f6SrBacNWKx8ze6nJoybWmtjmmL4BfCXo2p8nye179z2J1\",\"1jLXkQLnqhwrvXRaBc8TDZfyisHYjn3sHzZgPBpuwyMFAMH4e1\",\"1BrwFS9yS2irjPsbWy1FehwYi2M4yFZ5r9H9nfYVyRQ2CawVr3\",\"1xGpdTu89tvej9bhDmYhLzVCJq4MmLfEyi191TrYDUhVr19Zvm\",\"1DBi5oZEVqCAAVrrkAiYPGWwkQPS1DVk2THVSfin3jvZfjeQ6o\",\"12Gz7btZpobipwWuMm4YEoLGatnDqEWEnLftwYuPw2Rz6oxgKGd\",\"12ao2b8jtndRTHaaPk4B1dFkwU5rq8o3nu9X78kALUGq87Ehapf\",\"1dspbeiVHUp9hWFJqTG8quqG5cZZZiYpu13amUjUEMU6TbWChV\",\"12MuPqAWkFnJf7GcFxSjhpG9b9iaY3cWG5hWL344J8Tery8rVr3\",\"122VAMicYdkGTkWARycWqmN7u4pE6tCWbRSYcFPfTV5cSyDQTXc\",\"12va5RDqHiH2iYS9dT4RuQEqSzfBVHiXz49iFAfy9DZocDpXeqM\",\"12fVDFtfQsyq4ZZxffZHBpBXrhyLZwsXyjwnTvC2BrGBbFNjKny\",\"12KRfL84bqjtyhVErcuUHAz5V9jXQSGNp8LLuhk5jnhDTjUa4Mp\",\"1255fNSvBnrQELgda61hpKKKLZAQVPcRQo26v23dLekY8iTCxGN\",\"12fEp28urpjB4DUDvLxsjAwcycGidEjmxL4fJFDFWxjnCxkhHon\",\"1UKwXeffGBzpfd6ZJqnLFPywFriZp3e2SCVhZNmZCmp5G2wttG\",\"1KHyQSHDx6Mg4dyguQZUHgaGnMjQEFhQTCvSZyiWq6aV1KWxGn\",\"14Mhi3Ea4qidZYVP3D6Dpmi1QofUMhaVSGdodyBmxSEJUgUPoo\",\"15FPwwTyLmpk8232qY36V5xTx8YZviCQ8Mp8hoPytPgP8zHaDw\",\"1nF294MxXXeqFyyv3JvV3DeoqQLshCgoEPfyBCB4nvjEFRx9b1\",\"12Lk98QRWGKE8NH8NPWyqzfrPKudWLXz1kFAJrA9JWozefFzKYG\",\"12roECBqTQoFRs7R1hqe2MARiEddTbmsuc9hQttqqCaqYdDczSW\",\"12GtNCsqzNWJ7seBsibfyyYR3H2sDD8qKTH8oaEFWED44sujpiN\",\"12fvzXz6SrX6sPTbPvyP8uwczJW1aRg5Yj8nonkoTowi5V1h1UM\",\"12aLyJHiZJ2Q1ixccjerayP4NVr7USwhHiA2wJsEmcu4VQ2FCdZ\",\"12V4HtKwSSQk6RZeJ97WRACjHPk9CabXLebZqeAm8c34K7kLi7T\",\"1Nx21kSoSUFqy2Vf4P9kjTvMQdCqRiSdGnr9h3HxBaZ8HtQy9V\",\"12BgxjS481WZxYb9uErvGad2XaDiGK8DFcoqzQU32rpbQiwMVvQ\",\"12cvwEN5aAQ1jmg39y9TzL69m3n211wo4U2nuTtGW2NbkhHtj7X\",\"12SyKmN6D7WuoRanvQzJ5ye8qC6bVMKwjkdTjdn2GAvc5oYSTfZ\",\"1vr6weAoYx23FCgoFBbWF7YxD32o8pzDSx9KeZTZhMFeP1EonF\",\"123STUWFZTBmb6Yboqj2LixTc72gRs8UE2ZHM55kCF6o7Swar9b\",\"12ATgif7DZUVXoXk8biywjWk23j6wjyRZWhgottLeWQzFVyYd4w\",\"12TkGgpTqYo3ZKbrJvbjNW5fHj6mLbAUXSRyyTwdEaEGZ2ZeRn6\",\"12pntMV5E1UfcKVAQDG2NabS6vqZJsG7o3AM8zd76nyzw6H2d7J\",\"12VusErS5FoA7oesXhWoCwWkCftqJ9gfrAYBy4qNcJCCDULXzZn\",\"128x4UbfbFMsGizuncEScxRw8JyGydAELrJBS3iLrfv9oUK2RQ8\",\"12FzSzforewttwon66mR3X53mwnhUVh947ASSrcBLUTWmTW9yHD\",\"1GsSNo1aVe1YwnXD1YETW4GkC6X243em1exAeMCe1BJ6aJi9RT\",\"18JUhXQiGg4bt8ptxyu4X51TRtd27Be2PrefRh1SyNMqaQpPhy\",\"1xX99DR4LR3jexkJVCgAMYGM2opxAQVKfiRrD4TiHMENTRVXW2\",\"12iwsy83N9hgJwyq9bhboF6JW3oskqmrLbGCxHgQjrzBrRG1kdz\",\"1NrTj3MXAvzYAwDjvptyFse4Qj2cF6sNAoXpUZYgnwqNC5xrUr\",\"1QzvWFvywH3Feiyec7yG9qWgyWhGvm1Fi8GW71k9tiT59UJvaa\",\"128eiQJkvfrsvpVzLRoRtBhAFn3ttWA39Bvt5uCwYuuWca5juTx\",\"12iXhJwgcPSaKWB76r8tvLQzkt5X71wg5ZJ5vkgQh2TG8S2YtPY\",\"125LhDSxSdAaBuwjzBTrzH1FzoRGUQAK6ysDMbV48pLujVJTYGU\",\"1CksSCcAhpGD4ttyBn9yp4mSNX1CfGF39J7hjY3hjgZTgaFDgm\",\"1iCS9onsfGURYSFXywcj81CiBQoNxB6P1VZxqXiuUyPdNuiy3t\",\"1kuxycFWPqRX25RN9LykPDGW8wSCi8664DReczcSeRi5ViaYSt\",\"1zhnR3VWKQESpUwMTvh37q3dh6LXPm6kcQVSA61cVTBiohYSRx\",\"129Gt9VMqmrQNWbVxAUzQ2Wbr4DmR6bcdN5qU6PHmwoYnCvFtqa\",\"193EsmWiyLPDafTtKxJms6cwFkqbibRty8W1XFmcFzGfLgHzTc\",\"12V2dQAsaEy8atr3zJ6eZe32PzL3NmuPGPCyZCryzTGjqx2gr2E\",\"12mdPbtSU87qyF2KheLjJ6oPeSHDp8BCD28PCqtdJKanHrdMux4\",\"1S6zJe9cfvYAcDUG1zUx3ByX4SZ8ZW5xNwAPwDXRYaXgydYbcc\",\"12RLuNrwHRDfXc1yW4KPqC7qBBHpJe1D9QSetoMdhRLzq4gck31\",\"12VZeZMLg2eA5CdNeAtqbefwv24sgehWVE3ths6cpZeC9UjmgYz\",\"1hNvXCYx1KuCh7KkjVm5aLJj19q5XREzwo7rBePbbi3g6nftxt\",\"1gL4suxEdCYxQavEHiSrrBc46BmP4R7gxffGuBxAjBVEij1j8E\",\"12jqdCvbYsP8mCG6hc8W7HyS5Qt1oN5uGmQbqrXShiKWFQ9VTyR\",\"12hJ6t4EwGM1jHcPQjwVRZaM4F2wpDyw6m6YaCoTzbqECGpDYZq\",\"1h2GXY8XShaowwVixKEtBn6L8C8kap1ojXe1XeEpHjEmoqmaM4\",\"12rYsNH1WwPoRB4eENAcxRf4EkbAkjpoXHkg8jyyFAbFaHLVwVG\",\"18zPunTLskd9HAvc9wuZS5yn9tj3JNmnwYLHnGsZg7ZiFssW63\",\"1bgHMD9bwgcH3UvT2WJQYoeNoXJcGnQ1GZPaBbaDCU3XuWtN4R\",\"12ireqoihQkttHMffvk44d8vcFUetrFiDfzW7Bk1X7Yb4KX65Kj\",\"12th1GS2HPAVHnvUh9crYtri3ocCevqejiHua7JwPijiyLMLYXE\",\"1pU8CgmPfDqQFQipqJeXzyKn1KcCkDK2qVK4k25hPpLWzcsWyL\",\"1haF8yiTD4YEG6PWcyfnGiEcBX64hnpzKwZbTXP7okBawao1E3\",\"12qsbtPCu4Ton3H7MxdpFJyvU7L3YbtxfKugHPNzJBVSKmiTGh\",\"12SuZcD4wXJM3Rt7HrN7pYWALKHJJaueEZfraC2YGXkKYbipK3k\",\"12jXZ3KrESak6Xw7bdHFGeEoSQKYmncB7ckT5HHRTEjGZvBLNqh\",\"1AdLaBocULHcHPQBxXUANnre7cyMevwsKKUAZdsH8N1SocAqA8\",\"1JtcbTwd4B6jngPeqR8EsK1JRnuzn8V5CumSTQtNUAREc6WtzD\",\"1gUkbtdP1Zt9ZrkCMWwcnjjpsjZ1PdF8AxaFe5KJNknjeGx6Bg\",\"1E1Y396Cp3rdvzBofa46UpGSTZhTjEUmunehLia4hAdmZs59EZ\",\"12obXFkatdpPvHSzzAPY6oRQHnk9HCwq95kZ1u6eaMRb4NPehXz\",\"12cBiFTst2JRzUtD9RnqzB4AGyNAZH8wowfbMLCM6ZqyzVBigQ6\",\"1DYmFC39SaZEy43CrD9omAmgMDAoaJy9juihWdtZVVApV3zyxR\",\"12cntGmk2Pbwt2vZQPyYYV1kbzeTHEUdbRHysgqSwqdzcuqmSSQ\",\"12cQDU1p7hb26c9492J9ziSF8Q19kiAdMXsF61ZFDbEXP3mE1oe\",\"12sgD6HeJQb5gCYTZceuh2bNYpPubDjKABRwhj1Vq5WE2hum4me\",\"16JguzdaUNqtPmf5nA3cQbmGLAH27JqLUqtQSfaAswHVZkXgnm\",\"1kKLFZV7XQN9oPzBr4bRCBgeDFKDWxw9XXhXTQBCAiEhV1NRsZ\",\"1TnkHWLKeSGTZ6FZRhnJDMozvf6kWoaTkoDFkQ6uZTnYTcEXna\",\"1ERhDqDvy3H6wHvWdW7eycRR9V2rp5QxXhyJUoq3AVnhyR8fHT\",\"1fUDfuPscYR8DUYx73RRKgCuTjicHcwKiiA6PX3HVzuKUewoTq\",\"1yY1Uqc67ZMKJGpKRAQjMD42sNvSyDcpEi33qZ5iYgU4hMQEeX\",\"1ZQQ8HQWPmzwrSqQatefuSYGmxtYg1hmfmMsJVZxrQQyjTjFvQ\",\"15xav6VCCFf5RiNxFsj4wH4e21NuayX4GYn4KBm7K4FLzzcxCw\",\"12EmNCWE98zMttGTiyFgyDHh2EnLMi64q7qhnikBjehfakX8gYb\",\"1UVmgVv5GDd9vxfoSHF1DLmahmyThvVhc18okRyiJsor9jAYt9\",\"121cLHwaGffHMaLLtWVaNnyzbhvYFVHnQc89ehpakF6TpjvusWm\",\"1JWQMF1S7fHmfCqXhpSiQVXS4NE413Le5zH2oRt6QvVD5cqbyb\",\"1qRJt7ToXRd8uQEF7zu3vEMV9EU2aEhya459s9cLm8F3igWGzo\",\"12H6gmH8W8FXTvupjFABvnvanhvbK8EgMqHjXKevKfeE2ZZb1vf\",\"12wgsNgEZXGE9A2xJTDTBtx5Y1aHetWqtNgMGRGbY56sxF3Eyf9\",\"12pzg75s1b5PzvD3N1Q14jrVD2YQzoJZ13x1cP3NUA869u87EuK\",\"1XK9p1dtTBYtRX7r7Ge8cNHHpcDhtZiRc7jC9SibnFTnAGgpS\",\"12UnrqtaHw4kAS9r6ycDx4aJRW4kNbTCxruEvQvyBFY1wNKM3qc\",\"1MTZaQxLEcQUeRX7vjcJ6Q3AG8fXsBJTyUDoq9J1JA58owXcPc\",\"1QyhizPtxzdmoY6HK3kNXmjquphujxYBjVjf31VUVrdZmsHdhA\",\"1bzBgd4BDPYv6Z1P91UaRES7wYAFQKE8uz3SnEgzKVeov1YM7H\",\"12dZvSWqvSJF56RKDm1rSJRLMag8tHPsWF52LefbbebfTckAntK\",\"1WuhrEEHrk9asSYupnQohMK49brc5mqBEXrKjmso8j33GHa7ht\",\"1U7CCdcQN7MJcZ8mePPLhsFnHiYxtpMWmMjEFuRcPcLAq8roSs\",\"19FFF6c93xXuZTHbTwVmKSrhyRVdYDmygUWcDzj3Hd3wCtczKs\",\"12QHDsUzBVybJ7FPGJMXapKdJuu7hiX2n2ygWurn148tSrBx5KU\",\"12vnypPGfddjK8kByEFaU8pYurzBT86oLBN4merCgkt7NVfPTze\",\"18c7mNQepmmgpWa6JcD67EecmuFsnrHyXB7WkAkvo3jtxQMdmw\",\"12W9QdRUkchZkPScpxpq2kCmSvi1reAbKm1KcQxRXXnC6MKiYFf\",\"12a9mn4g52WMndKq15679GP1mktpw5ahWXhoVKEqruaoy7jSbgd\",\"1dQ5Gw2uKW3vw3P25NQEjU9CDTZp5MjdWFUGihRPUHoa1hB3iZ\",\"1255wnYn5bNyjECMP7E2WYy6ZiA1m3Nm8aGBr4TjLFsrL4syDWD\",\"12CPK3Zyc9HtzhhnrqCzyrXB3uDaXH9DSf9PuQjSJGU5j6jdXBR\",\"129BTXQhZCN6TjhGWHX8YAVtsbKJ7enWhtT568jCXx5fjrA6rEy\",\"1AL81ZmDR6e7o9N3fMG5m8dANh2rG9wmak6f4CgHf9qC6yuQgk\",\"1nHJRssbpT8vgPGpbhSYLdvWgjofMLNSdUwjWTTnHGqWC2cKVs\",\"1KXZ4ANNwhQGqfPP5PUDLmNrcd7RrMHqFfaDw72poZ3L3ernJh\",\"1o3b9AUcz4CutF6S23g3gcGaGebxxdXTiP2BMDkuzPyvYPJ1Ki\",\"124XbYxPxHByQyNa6zKEtQvci6kFjA98qeZHJQnAieWwfS834Fb\",\"12hK5oG1UyYXBAX4diBfPQmxnKpTbQb4XfjA6GAQbfifZaDRfGv\",\"12o6UeLu9EnqFvS2xNN1Fq54f9jKvRKCPoDc5LeZ2YNnBdWS6BC\",\"1Rie4U9uiLv1rzkqPWUYyknEX6ydAjzF77PW9MRrqwgDYsFm8R\",\"1ZCPeeRgfuGsuDEBAxX6W8ArWPq42aX2Ls3gVS3vXEvuKedNht\",\"12S8aWwrWxwuFTkZZiDf8J9zgWdPhwQLr7hoq2XfMs7dWrHu64R\",\"1VQocCdmhdYtck1kpSbftkmY48rsFMbFPg9bug8tctMDuayjqg\",\"1KhEZY9rXAiEnMUsVMyxBMz2gs1nTh2uQY7TYGk9c4tg8F5JgQ\",\"18v1t3VzGDdaarkqUZ8CCU88bkHmGakvA8NWSyWh6HU1nynxeF\",\"18nq34AVYoRX2cmGH4xtthGGTa4az4axqfmFCsaV29jr9AhYUF\",\"12VtdNPH4oidcNzRcxpSnrWA5ZHZCpjPwaRTSqrtLk6GB4ypHK2\",\"12brLkKSSQP2s9scFf6s3kGMrMNACNM11kdXappVUWcShJFv2TH\",\"1BFUYULnP6j3S3Qm91mans7APsye8EvuuFHbZXJA6E3EGdn3ux\",\"1X3WxUi3iGZ9wGWpHuMDPbqpxwuhsZRmR6MWSXAGF8vPC7GFXL\",\"12Y4cHkZDMwKndKq9ZzDJT9NQ27rfSiexYAQoUMUpUFRLsiYXDZ\",\"12b1P4eLYwoBJFGhSk79ZVKF1zTtUP993ejbNkQ5gD17S2EjsbJ\",\"12cePwTz28veEwJnt2rzgTGwFLTxtHcRXdbjZkra6mnjoUcBEgY\",\"1SysnvfnMoYHQj9WZRh7ek7yN2A6nc4t8xw5GzSCACCTRpiBAD\",\"123ufNC1b3GjYK8XkwbjSMAwKkh9xZNzonE65EyoJf8RaUxJEyt\",\"12csJXNh4njNoqobW8tQHmEh2JR5gakugWUS6WgEhLWe8hbDd6r\",\"12ZuyeW9g2BsqtE26KCgW3VvXQww5Js67HuBqjMGy3WzFQvqw6q\",\"12qfM8ijbZR1weSCeAZZq82xDEQAY5XWB1eGcQe3gGSj9sWnFVJ\",\"12YDshRLRx8hAW9XVTwyQBY2BRBVvJizEsJ6xfJkVoC7odNgRZE\",\"122vfxLipx6VcJRciuNKsokQSRQvdcTYKsiyJjm352yrfGfnSY3\",\"12C6FryhTJXfSaTiPQELUCESwGDgYB5zTgxtDS3UJigdbCVQaU2\",\"12h6Eu5cDb6DqnKP3YMrxAnr1qJVTPsKwQWQ4xhBfES2YXAd5Ps\",\"12ueVpQGFrebo3soQwLnAcJmSP2XrCYGW26M5MCPsPgZRjn38T2\",\"1N9GruTqjx4vDCwKeoxqJt3xJUVQ7ojhpjxUNcd3Gz5RBCTigY\",\"1zxBLbzaZYZ172Awkbci9Jhxoir1qiHWtVp85Jua2t4e7xqH3Z\",\"12CNdCt1SWDi8knWhVirUew8AWmv7X3duwd8XL9LLRq1AmFrjnz\",\"12mWLq1eRidm7x4fms6XoJAtsysExYr6gSbyepkheuVheeFQQ4G\",\"12evgUtCEKrMUGTvPLh2PDNEbea9Wy1XdH9jhmSSCWYp3EJQtUq\",\"12wbf6PDmhBr96c5aa3fJrGndncAAQZF7WU7ZkCVAKfRo3kK8yQ\",\"124t4WYjz8anceuzhSaiMCdGZtJiULTFhmJwfn54rnsLcWyR2Er\",\"17sHTHyNCfCwWHMgSV9MWE9SFe75iwNKxzc7c9bY8gngZAKfqL\",\"122PkGAwmRLdpER9CbnAuDAcjHSDCMr4kU595TJHJaFuLW4LSnY\",\"1644tBk8REsVRyXnqiTnYC3mK1NhafsmX4NE2Ub3aaFDZUqRA7\",\"1R43LsUkhARqMtyUEei61954wEd4sNrn73aQNEivum6wTxV8oS\",\"1QgAeD3cMG4q7F7Wwe6LCsn4eDA98Pq5SzGM8WFkZ9pmp4oYLQ\",\"1RDgPk7g5z4pqTFroAaQkTjE5xbdq6TLJ3S9ngF9vNJWS26MUY\",\"1iPH5JayJsi3LrhXTQWcXRmSEePhU2AMECdW2FbaekPETteoBo\",\"1j7NYi7Q9cLSbuifSa5BaxnqLwiTMJuqoiLbwaJ3NQ37FVM9zY\",\"1B6TvFgZj5i5MktyB2cWpsV79RNemMyJgjKS5dSLjVptCExhPk\",\"1iKc2ZBiTy6StJMLTiitSbfNrRcV9ftDutvEp9vPfbFjgdCQKP\",\"1F6Ex6cTsfQsEM81Uqf8DoutnDY2YHMeReXyXj7nxHHTZUNNzP\",\"122aqaiogVwBFbHeTLy9MPTxUZEYD6Kq33ihnPQo89ah9miTdLR\",\"1hntA6rB38EveJBGaMHvnqDAJbPxt9TFrh7SGZDZrqTXhNFfdd\",\"1X56uRgcqxVrRLpB3vCNBjuZJdigatprp1spYGhrDXmQDf2psC\",\"1dMbZ8hEq8Ap2y5TRshoqQ8yUtYTQeAbUPzw8wqoE11dmpmnaF\",\"12s4F8yM6rjuNvge9sN2q5FJm1mdGNXyeWU8gRNLHwL8t8vH2Ub\",\"1KzbjYcUJV8BVCHP5GNo6a5fFdhFb1CDVdrqSuJRq9iPPKHvsb\",\"123vWN54ZPcp3XBgq65fps7Tv3XaQcrmuBftoznfvCWPSg5hQav\",\"125rnan9Q617bHiJqvkfYjqr31queRsnZ2GcttQcSSFEsxRN9Hp\",\"1xehtYpWhExssT4CKyiq6wrNZMjihWGvyjyxtoyopVup8AWrwq\",\"12QbLfAYQXkaSUVt4MP3huQgyeGTY4x4NbMuiXzTLkSAj9bq9fz\",\"1nVRvhC8Ej5TWjtfwofeKJvYuXC2MzKAWtAq98GHqJfWK5y7xW\",\"1YUhiieJgyJHrZDr1jEqhwC1jrARZn7Hj67gtDymZGVKXvBW3q\",\"12ryfKZobibcU6LfdujtQehVSq9TFd7Huj1XjxFnWQyyAVAbSRP\",\"1hcTm668GXLE1Deq9BYEg2NBLdiBDqYZnj6gfCPucAqri37ve8\",\"12PHwEuxKnzhKJBDGJCDNN6Bqj463MxUb7fJCrKgWypKdR3kfLK\",\"1YgLadAqfDq3F9vhZL8VFUSCPV7ox6gTEmHcMAxn93bNtRkejw\",\"12r2zrhYmVgeBpymvs9wzFmDhLWJK5SGHuVW2pQCQxhpEWnegNq\",\"12m6y6u6ii7NDFddvTeJ3T6t3mYUoJxeLzBP4TRuiMNXJXQ46yd\",\"12TY5BQfT3gAcRPzV7sabJFC6ZGmacQ84SuPL8fcwMjT8DZjHZT\",\"12r7rusaqomfCughg7tQSAk85i3RWxwpCub1P2N8zsHbWcSKBoR\",\"1WzwZr1gtok34EzaEsTCTkjHeQigScWeDRNCJyt8y9c1nDRPuB\",\"16A6DX1sQ9rcSFCrm3oEWFwPzQUtENfte5M81Qg1ZbAtvvaHEb\",\"125Ni8WMu4VGY68tsYBLgzMEBL2sqS95hX4oEpzgQRLYhcKp8B5\",\"1E5Lhq5LyiiHdGnDPRM5NMMWgRYytkxJ8gxBsp84NrEdpsJ7dp\",\"125Xw66L4VtgF3DHY4X6bdDRuFwjP2pejrTJ7igm2GbKZvfv1if\",\"1x2YtkvkyLv66D2Qsex3wj6LLsogXKNJo1pvsFV47sw8hYMfGX\",\"1oPjVY6Z2hPAZdBZgEQZosNYeKkvpaLrGZZypgwkUUfF6vKPki\",\"1SkFHZmpMTmKwvBmX31hc9VrfsZcLk87WhLTDeYmRctvY4QCqw\",\"129rkajYoaSnHGF5Hg1zLHgL8yrgtXa4up6dYRYNeaG3UinyhfW\",\"1jieXgdLtqrVfxqN1iRdXuAKBYJQKSmF9ahEmq4NEgQEtP3cTg\",\"12UJCBj75tVSwWsp6qQejGE9XvRSSrWmTsafrWLeA2YXKedbMUw\",\"12i15S6V9itY3tY41fdHHjMkbkuptyb9UeVfBsmFs4omCUtpxbG\",\"127JM3EtBiFj5HiYdRGgZVmCeQSDYXZtn9KfV6LkyruL6imN7kd\",\"12MHZS2ydB9VnCy16nWUWC83RzhV7DSfEPZxQJ5qJBuPAMBPLWC\",\"12m3WadicjJcnz651Lwd1jfTnEUdvZziGg47WFuvm4GJfYkrjs2\",\"1t6UJqKErNwYMYBPic7vSFbTAGmSu66fmbgrZrDTd1jfJQnJKe\",\"12C7Wwkeq2ztZZagerETRB5s3Ttv1tHeAMdouyrDpWpjedCy8ng\",\"12tiSirUesi9TWsJy6qeJzadVEA59oCHoLCUTaBcjbj2Yyo5vU9\",\"1GRUuQTZ2tAjnaXRKABqJNoWfPFtVfDFMDhqZDdqTfS7Tr2X7P\",\"128FXZUrnLd5KNpu9yStVnu7LhJNdoiR6c699hfEBTp1kTnrH9g\",\"12mcM5eYi9ZKWQagadNYGcZoey6GRFsPz4aJrbZcEvXW6KRMdbU\",\"15BVBhL2375Zk1HQZ3dx9YKN1fVG375cmXcQrwYR2yNwixJhNi\",\"1232fUYvjKHNY8NPMfB5ttTn8gx2HNipUsjuXUbqR79538AbYn9\",\"127QJYFUYnCH2nHqvQrV1gMEgcMkVqBBboEbBBezjbFeBeP7X1T\",\"12DKUoZ9mhSdDfw7kvfhXRWv4CUev6wnXXBMCQmk9K6dET42bFv\",\"1qkX2S7bvYUjBr1hyFRh99ctEjJj7B9KAYv9r41TL4gQx8sRHr\",\"14QyNRZEyHoDsb9JUjoqBU8o7kWutKHed9B18wj5dN1xW5kSbV\",\"12F6B71ovs823y8VE4CkKg4V5pMFfEzQbBvftPYwZG2QDcqdd2G\",\"1jv9oYAj4azqWftAd4n2T1tzQgQSYvin79sLtAfB354aKE16Q7\",\"1MDw1xpo3FPuBapiNpfVorytN1FkGDyqtNAZ9DpwSurB8U2kGV\",\"1JhRnpGjmompqE9ZtS6c8UrqjTaL7tt21YUamFU9sezU5auYXV\",\"12KFnGCFp211dEa4VdpwGS17nsuf2XzEPCGG4eJ8wZyhb4JbZoF\",\"12PKeQ6HENXpyBr5DQWDdPionM2bVwYXXEg2JmHkjxAryh4QWoS\",\"15o9KSnNRrxPnw3ojsHCpN1D1N1EkQWFbTd9aDeknwFWPWYiZG\",\"12phS3PrQN7SyeaoUzUSPYorK32CZrB8vniTR4YiFUCR4Cpn5HH\",\"12SgjeFwxwNN49iaQJ3m8xiriqWbaE1Y9nmKCQ4WkYMdvuf5B1p\",\"1q2o7vVLqViYUqT97htkGGdm7FxWw5RcjXkKCYFA3nF3W9diqF\",\"1pNyJYAbKRVTp7AvccuFr1R4gfisVYbYAxeWTmn89M1ukhgQhs\",\"1BHCmszmCdmF6Da3fMLgjdza5HgtvMsxC9YSmEoNc2EHGX2jxW\",\"17HjLFozm461ccZyXAB5wN4w91CxUt1eScKc2dhRWKaAwU4wd8\",\"12ug1ApAsrs5rBj8g4wLJPVf8PycD7t69meMSQZeTZtjCAa5SJ9\",\"1Fa4swN3wGeq51RAJYZHKvQPxhf3pek2JmmBiz9mgSmosff4hy\",\"12bPR53VSwyLojWHJrkQvoLAyBUeMF1DCrVu8Ajm86wjnViuoQK\",\"1MShBrsAUC4EQwgyBgVnPfvnUMs73fk4PTudhELAGVE3Vpce4z\",\"12jkdYw52hJPfyaa1pUCNQXvDs9hQFPJa9Xd9DE3fPXM8Gz7TwM\",\"1VR6HZuoMBRJTqzVrzCFYAndiUuQNHFZ1kVmbwTyyZqnMiQD2j\",\"12tGmiKkVL8dFKFipxMbFdhfksKNWBVJhBqRTpqMsfjUsi4Z6WK\",\"12rZSRJuxU4GJrxRfZmxEwBV9KxB6rMDuGxrrzRcVxcbRNxawAy\",\"12seM1QSLY729viww8L74iNNpWXdqxset4XbrkH3jEbEcAswapp\",\"1aJRUxAcHhwTdVPCXrtceCZrSHtVgJXwu71TFRzbjNDYihjpt4\",\"1ZrJidYaWpbgyUsqFDKtgqpimAuRTwstCWFNNiicQ4dMALd9gB\",\"12K7qzUxowu1LC9Y2u2bv7UNduRDA9knCRGn52hqbAKY8vEwgnL\",\"1dfL1bKkEfcpz1KEKomB6GS5ospsZM8QJb87vaHLRYhTnTTdbM\",\"1HzNTFBNBtKe2rUUEyrvhsvzNBzWV48xDNrJ2CK91Uw9srmp7T\",\"12GujRgcttEpPYkqAcRpMQLK3GBProPNNMK3k7XMuSsLsLTZmJp\",\"12c9Vah4fD99jYMDMZnXg8AReaAJDWK4Uo74vEaxhPgcexDFAw2\",\"1GonTiQvxepoVkfNsdh3xQdxjUUpQRyi9k6Kht6g8FQzyGtemD\",\"12GuLrV887Nz3qRePn7nCydVx4qiorFQfpskZhUVPKdEtSoL81B\",\"1rv4KyMxEY1rzzGZZFGn3tfqyN8DpmXNqDsQthobxtwvid8t4R\",\"1tKxkEPCJbNoKDm7esKNtdyXSCEzQGYHDvyCEhKSTBxaYX3miL\",\"12No8C4E7Nw3hyAUbBLzjXC4BCB4AGjYuVGsPCDC6A3JWvNpUgK\",\"12mHMGiYYCnSv1wHzu6FTu5CmZNKoQLyPMz6NgnUJ3XLUa5ebUL\",\"12Nax1TVDwq6v4Yywk9bsHEP4dp9z4AeyLEEiytnYiTsvhE6BGv\",\"12bShVLzC4Gdb69cMG1vEzUdNU7WAfqFEKkxTq2ThAicw6C7wt5\",\"1ysCg2P6zsQJcXLzr8FYs5J8T21TojkaKSN6WafvZyJXRZLd5K\",\"12syQqmrAHBBPb37v6Rp4ifumQMDu8JMjpGANwtQKUqkCUJGZME\",\"12CbMrSKfKVFKCKYvg1p2yqWSWaDFez4p68dCgyZduRzkoRVg3i\",\"12uPH1KmgebAWJqzn9f8RfkYwBrdHf546A37ZNmyBT8Qp1Yi2KK\",\"129mQcmin5ZvZugWAEvaNKfASGTEqovNbfTBSfqGYzKp2MgFQfe\",\"12RsSLzaZuUMDk6DdmGB9g6iRjhgJSwHUD3RSCZcj1HfuBfzUog\",\"12Dyt46ebFhQjCxBwEJUAhRbjUCMHVhwCmdirKQstvVpjXWmjak\",\"12nAmDXsspSf7RYgqpLm9Q2EVRdKxfLMoWuLrjjZdvhuH8F6pF\",\"1MBeFcr5egCqCXd5ihWWHZq6X8tpwn47X26MFWX12v9rk2ng12\",\"12HGAGYoZfkpxo4vyvSZGoaUBYnGVssrQZnj11mLi3uiZPtJvwM\",\"12qrnn39e6ykiK9D3XmgySZSu4eYGqf9Wa2VbiXmN9PHMG1dvFR\",\"1PTRsHDebyeoKAU9pe2eL7SHyFNCf3xbXymDTK25QYKVyEwHGZ\",\"12aFF5DAQwAzeSrXUZUS7UE7d7hAv34X3jHjWpfK7yAMbMgLaj6\",\"1jkZ9XgF9oSAjyG7X3WxTMtnSrDyos9dgwoXRDah8qcMQxAMQa\",\"1AHJDnfWHYe31Tv2TvtZk1nTiAZ9YXEyZX6bGVhdiVDfwZFHHR\",\"1nUnsJSxEAxf2kHNEvpX6J1xRb9C7NkYKSkvLKrfkDfEiHT1yB\",\"12UbWdUdEpfDzYkrXu3fgB11D8sJc4uXSekCks9XssugEtW666j\",\"1oss3N3on2CFycHNQ86cpZCudWZ2FuqCgLK1z25wPNxq7uRHSL\",\"13CEwP26J6GRhwE8HKhKjXKA9mbbXFkqWtvU6oKcYmN4xT6pZU\",\"1V7aZ3Vfe3XwaP5Zosbu7kDxds9R83yKYkpCVUrJxXhK97yw74\",\"1nWAo99dZ1Nn7Kn6AL5U4jhSrdxYgdgjcVbsNVaP4fHi736bnR\",\"1qz9Xe4BMFt2FHJX7ZWbpQnVF8m9b4JiSV8UVPwXMtdz71w4M9\",\"16bg4oDc6Km5oLPzpDxpdkmybucDkdnJdosnjt9MZBP29yXZq6\",\"12rhEftcPXNSrKMt5zsnNyzg8tN4fZbbK9UazKyRcqWD8tqkYSu\",\"1ii6BPiN7hR6KRnnjbGNnDaHLYJV7tKkPJwUmx1CaAzz8xsZha\",\"1xEHJNkY84r7U69g1rtCkHkDVb69N5W2Va53bAft18vepBob26\",\"1LVa3QCysBwf8pQHb9d8yemtiCgioFhkAs4xmDjFddg67aA9EC\",\"12HUquaPdYQCZifz8gzh5Z9VL2SyJMgVRLT7CmUoHnAthiMMSuf\",\"124sPBSjXUdzF9bnJgzZT64u8R83Ki9GW47Rco6eVWxpMTcgEPb\",\"12CrotEtqv7ppzCriSFHazHPASXQL5gB3YT1S27pQJdtLiiRs1b\",\"1iqWL6X1RK3NyNfSu3aQTU6AuzyiBe98rRsTYw9VYjoAja6Wwf\",\"12tE41qMa1ZJNkBFWxmtma9QtaHTDQXXNWMkexd44qdsXyDmKD3\",\"12Dpbtu8vmRsucpWGhNe6QYAQ6kWj9YiDtsRUPXJjMHbFshHyYq\",\"12kVAvD37KpmLU2mw8VvQzpkA6hM8aHMR4dT839Su4WmucCKqHf\",\"1uZV4RRSqKpDaxkVVoyXEHbW1oMnZmWN8zLwz7hATHyWKwes84\",\"14pta6ux7co6tA41FTp2r8yE2G2mmonV9JhiUqwNjfAWwU2LjM\",\"12qX7uhr6hcZ4RkGSnWKVBAmLe32ZYZ32BiDfGdii4KYEc3aDMt\",\"12DaFn5WpwtxDdZBJKAwzgwAbr1vaZVCjJjXtsVSnbtKhNXM3Z5\",\"1fjeekHGbCiGhVn6EMKZWJNZQFyNVDyoqgwM4oMey2hXWiT6aq\",\"1XyV6VJPdUFLoMJD4AXUJsC3CRtLpk5HFKqF3wmQMDRf6LjfSF\",\"12D8PB6XCP9ozxMRxTSRRADWhDr6WsngB8XWjDhz3ScRQraiR1e\",\"1edxVCpwRP9ZPW1EixqrhXERxP5eyodb86FD4jx73mUcB5jegP\",\"129xKBVu3PsDd2Tj1eJsgB8RYgkVGT5AEs4XTNeonb4FzCMdJvd\",\"12frmj21MtQZB1kHhqo9cqbEQwrTo51cRveRMzGJS63mKfzDth4\",\"16JVEPhhtYD9ZETzCuWavWUJpvk3aCQnSdEemppJ27rEs5E7Ae\",\"1AJvQjR5saeJNupRXcCF4KqEFgDbVMjK2c5UdKLz6ycd2oR8rS\",\"121vmXmWPAbFkpqfYZUrnrRQp7AxopjqgLsWRQAHLUisbNycn3W\",\"12Dzd5eJiemKerBvFViN1aVKfRm637fdV4tXKwcQY1L2x3Thp8g\",\"12kerwG7axtm6Hbr2zgX7QZbLuttBJJfNpDdRX3863AYnjE7ofN\",\"1D78ETEoSz425ZizsGR7AUMc5Ksw71Mnkm7HYHDWeEMcRCKBSn\",\"1oYWY8LXCqdxkEnwWAr49rfXVfVVWv64xJJGtR38SEtaZt8duZ\",\"12fcdhzzZE9uEdxLYdVmWUxfdbUeGoS2ipYypHnBs64rrZvZz5k\",\"12NfovepBphj2uGTFLGdPAwKsQvvHUaq7d3zf3ed6L4KPv1bakv\",\"12SSNDcphA8WfAiP66ogzniKLVZJYqGBSUm4PEuLRcd37fNgVig\",\"1gD6oqeHdBHp8LMmq5BSka8ncXhnSQRscWHbsPCzh56eYtLCmY\",\"12mtoQHgmM43uKjXeMZX3jdHD6HcKfSCGRGjGPGci2AkhEogdPb\",\"194i1BchxxiPeoJD7mK4LY5w9tLxGL7EX6UcW5Fd85aTDk6XKJ\",\"12pcUvX8qhLyQX7upsssLyk3d31iqa7jStST2CrneyvYbV71sjH\",\"12nPFMWoktAoL7hV437bUCDh7G2mUY2N2m4QVwQk93H7pb1pnQ1\",\"12DMw4CvRuTAegXiGaEebSmskJGcgHDbCgVzM9128wuxu6573Hu\",\"12YF3zppJ9LNeNnu9Mqz31HQp2eWnpT8zsVwQ3gDFpRSazmEBZG\",\"12euMnyP6ouDxCve5SsdjUcob4TbbnNgoj4rJCAsND5KnN1AzQb\",\"12HXV3Eh2rt1ee2WJFw57FepEuGLphsKG6rrhgHmiH2qeNDgxjq\",\"12Cn2C5X63mV75XjYyuRnG1S49L5gUFTVtNJbX1ZthvURoeLaeQ\",\"1SaVbh3wxs8DLk84kpnhGprMkzSrjbMWFLxu96ebvFHk4eHAQ9\",\"198X2GaVYQHCkrTYznvaAi7ZuR4YdvoprnPwHxzfUweGXhANUh\",\"12HseqAcv16CExGPT6vaacNwnX2HsaNwRvXotoApkSUfHZvaEDQ\",\"17QuTD6oUgjuJGTAyHpYG4NZ2QALjYxf8oFRaVHy9WTFRQKe7s\",\"12QR2N48DbVBZbdse5AQAD4df1kgUbXPGRYWWBuTgVYrSmvPdGW\",\"12DL1yMxySzcWJrqM4HtU4CPsJDRsLCeAuwkVnfcmCgm9Ts93kX\",\"12nCHtXGQ378YFkXZ9DneJgHEZg1nCQ9gXa2QVBWcGHe5zJ52dA\",\"12BSigsxhcWQEzr4aDRR6v2v7Lopnyb7FLi2ifRwZuRh6BEuA2f\",\"1JBSYLWytqaYqAUHG12yTi455TPdxo7HYSLEdyvMQNDmQuTXjZ\",\"1Ugndwox2XySXrYje4NGVAwgWYiQYjJkd5YJ5n9FVjDA1KcWa2\",\"12FYuN8wKsvYT5RSBDyKp2eVaAZD5DFgcdM72ZgCd6xjZp8P1Js\",\"1VijgNmdAmXhAPZaKB77pBuMKhViFFAkofLqmBSFKkPi5Fp9h1\",\"1JT1ytJLaxL9gaMHm3bh42MyMDxspbvBh5mcwWRih7S257HPpQ\",\"1XFjAXLJsLSxntFAXNyYaQ9Y7PgcjpomVCi6LDAimeUpM6jtfu\",\"12DiGYFecvzhk6RhrcA3MMLvXgr7Eh1GZmVZYoHoBsvKXE84eLr\",\"1Z4mMqADUQgLCaa7UAUytNxPg8SkbidJC5wnjW4nmBJ6bncQTg\",\"1BpzAXwybxBjDGhxwYXeLvh2F5Ro5RKRC6kKXCicgXGTbwHn5A\",\"13LHfnnaVBNw99393Ljq36HWmzpeNKyXFzkrbG9v4fAVsnp7PD\",\"12K2pkbK9b22C8Uv6d2qVPNrvuqnCpfwrnTT4yaaqANf1cwZow3\",\"12oHsj2bZ5ScqnUSMWjqR3fzvvNQhcSRfFFdaMtfvMrYCG3SRci\",\"12Kw5ZA8CHdLizbiQxEqQNAReUyX28rXrXvdc6L6vzCSjU82iR8\",\"17XrbUxANkZsEbyk1AiZN3aYFn3McJjcwRFibUdjQYxjKN6CuY\",\"1WKtAvYV491v4XoCcmpg4PKB7V8hoWGmVFV6kkLybYFcJ1r5ok\",\"12wYfGBthEd3cezx1aY8e2AesD7szavvvhq3zomza1yBqFFrWAn\",\"12Lqi1ETDHNEzsUM9LK5qkUZBzFCAzHhxWDDwTRZkpGJ36GvuL7\",\"12qG3zCKyC253eYdrZut3hgPpWErE8jRVEKvDapss7EgNcAft5G\",\"126pQYHaj4duPYsKKQUYZcV7E4dFqnSNFHRczSSFwKRbdeRzWnn\",\"12jqdSNk8Gzayb62oisUY4JkYWus3dbo93Wrec7vxuxdmeoySaG\",\"12nQdnd8zUZGeLAaS8LzFP1XE3vGDJQ1kBUe86Pjr5LJMbFN6Fi\",\"12GtfpAspjDVKwRPm2JtWkefupLZZt56X6dLC6TWbWQMzLDRBr5\",\"1vXN1VnFUj3vhFkRpTSbB1qFH5PFEBGAWV1oZUNYF3ov8hNgJN\",\"12oYs9Y6W1zJ2vSBi8hdm9bsy54XHPFWD1ovQUoccM61EfrebcV\",\"13GP3DtfFFYbAdftv3abugoYKgAp59yo9yC7YDNFgh76XHD3Zo\",\"1ByRuriSC5tY1PN6Y4ev8QV5anAU2xZN2hyQmoRubQdTsJYzmh\",\"1iNJJSiXtkE4LPhBDXmQ8xdwadX1ZHCPYh1aQZzPrxfVgkMv4Q\",\"12NPneCEiBrktFnn4xXiujPG4nXFbuaqWDrGgFJQboJDmTtJU3c\",\"1KLDCU3UUCnGJat3ukUBZcAev8kLtCAhnCHe1Gd712gRUPCRJ5\",\"1pWXxuoXnQ4tb3QVHWHVHo9YThBSXkJKRgQEc8G9BpyNspxWdN\",\"1JUigt9iyd2QHv3YYYJ8wSjkwWreUHZWmAT1E74V4gPqbnmE3W\",\"12J2NRrn8dGfU88bQaCJstWuns9T4kRipPr4UdDCdX6BFhffvRM\",\"1LZFeyVm3LHnqNXLM3EJuBLeXgsXitJV9CHaDVBfC9HmfhJX9z\",\"1NAvXyK9Nas6voufuKtip11iUSHWrx5vxsqxvEY47Nw2dcQqBU\",\"1oG3y71ix6eRaH5kH2YvbewQTsTgwEwB1XcFrzf6X6Hppkhj1x\",\"12jyPuKpvYR9GBWVTmzhqR1nZyEm2VT7mHsjQADrczpvSBuNQmg\",\"125JbQdohK9WNvgVPao84GKaN4h4DG8yXFmFsbsnBuKBX9vFXuA\",\"13h5L635XTJtVp7JVz9fkLu4TaXiuSVBTtxU5NwPVt6jEfwgmX\",\"1vk7V9EoFiRntKNK14RqAHLDesdt4MH1peFA2vNiPmZN9RZ2iW\",\"1vBC9kbsNFuPunp3Qve3TN21LGsARhvtJy3m7mreUGg9F7xz1G\",\"1RFsSYqhSsQtLPbgXgM2EPdY6c4zuaPpPzP8Gbd4bRch7Nty9y\",\"1jUE4VBm5xVCnNNccQKe5N6ne6hPBS973dQJwCTpNPLuF6ZNTq\",\"12JxF9dBResfymEV45DidhYTwQY8vUiuwiL8ifmNK1pQ7KnzTsK\",\"14aTudM6hHeHjZh8Q2WGkR26yPBR52CX7JUJE74VwQC9ij1fRr\",\"1Ktobcg5sKweUeDixTi6uY7h3KoxFSxaYTzDQnoZiosuJ5vZVZ\",\"1QiYZQzVw4Wfei2dzusX93DtTSCFcdSyxmspCsXin5kHvHVhiN\",\"1RbMffck5F2xMiWa6jRsNRP1ZbXhExECgfyWyBDnSR6ut1XUR7\",\"19JwaXmfD1HMbq3cX8rwka9RkY2TikjVrXWbKYzPumoVvjvHfZ\",\"12kyYVSXNoP24mdy1TkQLxTRfsxGoSHQ7mmWU87HnQz4JQc6vUF\",\"12VUGWYtMHJUwBZ5AF6yye9sqwCYYBGiQtEsube4eqiRvaWTT89\",\"12i7NrB2MrNTjRYPdsscjnpzpMRaauy4cfMJ2Tcp76YrVkaepqZ\",\"1MZeHQKoaB2UrieHSLwGSYwfaW94B8V1mjAZ6R7A6kvRzGrafL\",\"12LNX2B6DdMHKma1TQxw4DazCG5E5c1xePrkgmV2yo54KSPQoZz\",\"1gEWZtuQ7mSzZcwE7WSFp5nZ5vX9nqm9wYryjyRKwW5qExLv3N\",\"12cP2NQGj7XmwpzuxrP31D95iVHzdmbW9SqDczWrwqH5nBJ5kiM\",\"12LKxnuT5WBUJD6a2b82bxeHJtaiYk3rYRGEFGe32znmRYnQwnD\",\"17fswJXEQQSog74GSd7scyW79Q4qSnuXAbRNVog8JY2oD1mzoD\",\"1ZeSeAYVMoLc6qu5HJ8Q7q9tGY36nhfLGE3yotLSY1DNGVjjeB\",\"12fpcYGv1FUW4hQQWnzoQiQN1rfoevA7ZJr3GsJi3LMHVzBHxhf\",\"1264J9ZV4eGnoSRXnVMeTy1dBTt7t2dsieYev8L1sHZfFF59pmE\",\"1d9AXutZtW88UycXPv4cY2pVvmtZFGsfEMhdYubfqoNAFFoLeM\",\"1zWAXDUwrEEjugHzdyPfgtYSzpdbVkSu6qLYJT68zxN9P9P8yi\",\"17cvSymhUasTGFfBaDVSh9PBeAWvTJqEi9xCKGvXj6WUdu68U7\",\"12CPoN2dZcDiJqXnU8M3JXH32SjiqVcbm5AzFjKpEAQbfHCvR5h\",\"1nCHfpQDVU25vvwh2M23yacrLUh6fdMDWcSUf75pPh2fgB6pme\",\"124gBY2qM76WwjXVTsfBNKc9J8XDvwatuJ56F3LwxeoQJDM8BvX\",\"1nqNyuqCwgbmNeXhFabsAw73jFauCL7FDG93nM6NMjbdyxbGpP\",\"1YwV3HyNA4QcWrr8oEozz79sgxRbmW5HqM1rzHi2kh9RfMZDxp\",\"115fMgQzcgWjixDoCNz6BETRNKffYiqZeD6mdCHbTvhS1DrTay\",\"12byjoAMQKhprdJM6VrETJwMKjSqjgpHMJXBEizjuRwpy9UKcNj\",\"13n3SqpHRuQGrhXjN8Yk8AgEymzhc8N8yYNo3B4R8Ps2TGaK6R\",\"1zU92APaS7LETJehhHmdh93DWhLXimCBMNzcwqx2MnnmcroFgQ\",\"1tTmMqrKocAnZXoFBLEGKnMtimKBJ1qxVHAkmMb7LFQPpWSRb\",\"1hEci2mFNbrffCs8Qj7AqPgA3VV3TWmfsb9zwPLJ69uZWaozFA\",\"12tQ3vSidmKz73sttRLjgtcezdQSUzAZRzqazs1hV6DDDzJ2S55\",\"12S8DiDZ1t84R7rF5brsFa4hDBAxyarbDFZaUvjQqqmsYWazffS\",\"12NQ4VzVUVG955FmZgxLJMXtXTvG2zd9N1DRdSLiaYweJ1N6wmf\",\"1tHuwQKRG3zgaDws7Y6cQgp7qt7mSvCnJ7wWCMDCsfq7RkeHHP\",\"12Gqc5cGmdu57piKg87HhaV8DXwGFmxidmEkHQkJMEWPtm1ThBB\",\"12gb4cdKPTX6PjGs8Wzuub5fr6E5XBuLbEYZA6QcVv1Pr6H4WB\",\"12PqEkiLJjt7Go3vSJnnwSmnwLMmvkuAGuqfFRBcF4ox26zHTVr\",\"12DYDb69cRWYAE5rEUHJBxuVV22enRQq1pyzLWSGVFDDkh7uHH7\",\"17Z6a8P7ptUe7yWTfTB44MNLFgLNxoh1KfLYx8HRBGGmGazN4t\",\"12eddnxb3QZuAuEeoB8cYT5CUmM2Wy6a6BuegFh2foE2Gdxf9zT\",\"1iHJXdiXomVfeA3wFMWH4KhUKGTkDXjuYFGF4HcoAHfh4cEtPc\",\"1RKknZj8WhATWFPvhBgVKa5aPjWryLjZQRARcGYkSPxr7s6LC1\",\"16yS1SV49YEQt9LiWV8BHWHWZ6EicEogLah4PZQ8Jb4nZKyLhu\",\"12C1LKBp7KvovHX5YTYSbcdqjuKxQYjVRAK5JRqXjPvjUAKztiC\",\"1aPgKGrvHuRWbNP2z4izEtGKBHdpjwnixRSFMr798rkgmj2n3r\",\"121jWWQaKVAYeu4y8TfTb7NpstfqkBkY11gm4RK8NpVB9BwR4fd\",\"124zmdWEw37yvRPGP6UmfYsS6r3qtrxV8wavCLwYthbJP45ejnT\",\"1kkMoJFFNELdMQ16pzQBJXqwUYv8vBAuexCsPgXitCv1HRPQ2F\",\"1vhnBB459QGoUMW8X25DHCm5zr6rBMKYedUah8DHWGApnmj1SJ\",\"1Uy1uVaDXMQswBHXJz1iUdmdbuczVjvWhAR4crZ4JxEsWCMxY5\",\"1tgLZVENL2XASbx3ZJAizCDMATrEL7PRpcoJLv6emaNa3Zqm4T\",\"16gYrSpnWqoehktbTJenVZbBH8jy8qiJufnNtQs94nXKv213pU\",\"12esBRsj9K4D9S8BEWeeQem82kjeJyf3pdAQv8ZJSFhQ634T1rQ\",\"12bmbV5ApxH1CqZCRAtRatjWN1qHxzsct8GLarMoWBgeAUBgy1T\",\"12TNpQziTNfETtLvWkg2w7DoT5zcJdVAtUgAKXEVqg6zvysLsgp\",\"12XMham19myExRc7fHM6L5gysto6r5M2g9SBe7fjY8sy7j7JHLJ\",\"1YuCP8F4dtdKG4FAy49gau7DKXWGFBuWLidfQvwPBMFJQj4nrf\",\"1HRCvQRtXGJogxQHN2VyyT9zb6KoNfv3MxVSTrsTxZa3RhcRDi\",\"12i7tMANDK5QDkAshUR2KKgEwKGHVkDSBUeD7jgyXzfDe1wro9q\",\"12J3VBVxZvuVWSbAGqt4m3xibRVJnc6J3rubetkxoVGbcaRCnFT\",\"1PZDSKJgAosxT7aAN9NK8aHNiQkF1ANC3Z9ijRwaMwsURp2Xu9\",\"123dCKD6hqZuowSNbzsRCuNde26FmNAaEKthyVmPJr1L3dsTo7f\",\"1fEmNvv1q8f5uEi22bVZf55CS9jYiUZhqiW7fEGdREyAuShv6X\",\"12kaR5LWHsRLFi4fN8996J81YytmKr4dKasEhAtrNoefnpvj9xs\",\"12BF5mh2nWLR2U7koTr4G7SMEPat8UeY1dhovxPFYRqcvr16wmb\",\"12P5Tu1XwheSfd2Y2HSoMXBvfD3PBbH8B5UWiqDb3Kbguin2irs\",\"18ZjAEjZoKcez7V22ZFyEovfHpUGwQEyPi7idfPQDERHjsd1x4\",\"1WYeqxsZizxXxuFX6P92fEBmUiTUJdkiQKEJqmGcWNE8uPZTR\",\"1JuT7w4x9LH6vXyFj4TswV4gx15aT9rQUmn4xPrmYzt1aAEXHa\",\"1267ifBgR8xdPDuWnQJ3THe9Vq2gEWRgAvCxpqjAWbU5P463rQV\",\"12J8Dyhw38KeHBezfg93xXAhN39o5PKJ2Q9tP528WdFW6ZP3cqj\",\"12B3AwWeiWsbHPmzcjZkcGz5CLanAxDhMDkTYa8RNHFfk2C7Aym\",\"1r1VNtZhicHGhyrygNS2H28CpkedSRxoeume2UDvkjrUQVuG9W\",\"12V5bEcnJEe69LP5mxx92rLLFbPB6ZdezmTzdp2Jush4B2oAmHu\",\"18aBcTAUqWz4K3pKbKVmY2CkPGcCByjKeU7EP6LrkQAzpFTkxc\",\"1VekoCkc6wY6dSVvhYSzmPtqfeGZ3VYPMQpHf9DZ5Lo7W4sbi6\"],\"height\":[13695,13694,13693,13692,13691,13690,13689,13688,13687,13686,13685,13684,13683,13682,13681,13680,13679,13678,13677,13676,13675,13674,13673,13672,13671,13670,13669,13668,13667,13666,13665,13664,13663,13662,13661,13660,13659,13658,13657,13656,13655,13654,13653,13652,13651,13650,13649,13648,13647,13646,13645,13644,13643,13642,13641,13640,13639,13638,13637,13636,13635,13634,13633,13632,13631,13630,13629,13628,13627,13626,13625,13624,13623,13622,13621,13620,13619,13618,13617,13616,13615,13614,13613,13612,13611,13610,13609,13608,13607,13606,13605,13604,13603,13602,13601,13600,13599,13598,13597,13596,13595,13594,13593,13592,13591,13590,13589,13588,13587,13586,13585,13584,13583,13582,13581,13580,13579,13578,13577,13576,13575,13574,13573,13572,13571,13570,13569,13568,13567,13566,13565,13564,13563,13562,13561,13560,13559,13558,13557,13556,13555,13554,13553,13552,13551,13550,13549,13548,13547,13546,13545,13544,13543,13542,13541,13540,13539,13538,13537,13536,13535,13534,13533,13532,13531,13530,13529,13528,13527,13526,13525,13524,13523,13522,13521,13520,13519,13518,13517,13516,13515,13514,13513,13512,13511,13510,13509,13508,13507,13506,13505,13504,13503,13502,13501,13500,13499,13498,13497,13496,13495,13494,13493,13492,13491,13490,13489,13488,13487,13486,13485,13484,13483,13482,13481,13480,13479,13478,13477,13476,13475,13474,13473,13472,13471,13470,13469,13468,13467,13466,13465,13464,13463,13462,13461,13460,13459,13458,13457,13456,13455,13454,13453,13452,13451,13450,13449,13448,13447,13446,13445,13444,13443,13442,13441,13440,13439,13438,13437,13436,13435,13434,13433,13432,13431,13430,13429,13428,13427,13426,13425,13424,13423,13422,13421,13420,13419,13418,13417,13416,13415,13414,13413,13412,13411,13410,13409,13408,13407,13406,13405,13404,13403,13402,13401,13400,13399,13398,13397,13396,13395,13394,13393,13392,13391,13390,13389,13388,13387,13386,13385,13384,13383,13382,13381,13380,13379,13378,13377,13376,13375,13374,13373,13372,13371,13370,13369,13368,13367,13366,13365,13364,13363,13362,13361,13360,13359,13358,13357,13356,13355,13354,13353,13352,13351,13350,13349,13348,13347,13346,13345,13344,13343,13342,13341,13340,13339,13338,13337,13336,13335,13334,13333,13332,13331,13330,13329,13328,13327,13326,13325,13324,13323,13322,13321,13320,13319,13318,13317,13316,13315,13314,13313,13312,13311,13310,13309,13308,13307,13306,13305,13304,13303,13302,13301,13300,13299,13298,13297,13296,13295,13294,13293,13292,13291,13290,13289,13288,13287,13286,13285,13284,13283,13282,13281,13280,13279,13278,13277,13276,13275,13274,13273,13272,13271,13270,13269,13268,13267,13266,13265,13264,13263,13262,13261,13260,13259,13258,13257,13256,13255,13254,13253,13252,13251,13250,13249,13248,13247,13246,13245,13244,13243,13242,13241,13240,13239,13238,13237,13236,13235,13234,13233,13232,13231,13230,13229,13228,13227,13226,13225,13224,13223,13222,13221,13220,13219,13218,13217,13216,13215,13214,13213,13212,13211,13210,13209,13208,13207,13206,13205,13204,13203,13202,13201,13200,13199,13198,13197,13196],\"index\":[0,1,2,3,4,5,6,7,8,9,10,11,12,13,14,15,16,17,18,19,20,21,22,23,24,25,26,27,28,29,30,31,32,33,34,35,36,37,38,39,40,41,42,43,44,45,46,47,48,49,50,51,52,53,54,55,56,57,58,59,60,61,62,63,64,65,66,67,68,69,70,71,72,73,74,75,76,77,78,79,80,81,82,83,84,85,86,87,88,89,90,91,92,93,94,95,96,97,98,99,100,101,102,103,104,105,106,107,108,109,110,111,112,113,114,115,116,117,118,119,120,121,122,123,124,125,126,127,128,129,130,131,132,133,134,135,136,137,138,139,140,141,142,143,144,145,146,147,148,149,150,151,152,153,154,155,156,157,158,159,160,161,162,163,164,165,166,167,168,169,170,171,172,173,174,175,176,177,178,179,180,181,182,183,184,185,186,187,188,189,190,191,192,193,194,195,196,197,198,199,200,201,202,203,204,205,206,207,208,209,210,211,212,213,214,215,216,217,218,219,220,221,222,223,224,225,226,227,228,229,230,231,232,233,234,235,236,237,238,239,240,241,242,243,244,245,246,247,248,249,250,251,252,253,254,255,256,257,258,259,260,261,262,263,264,265,266,267,268,269,270,271,272,273,274,275,276,277,278,279,280,281,282,283,284,285,286,287,288,289,290,291,292,293,294,295,296,297,298,299,300,301,302,303,304,305,306,307,308,309,310,311,312,313,314,315,316,317,318,319,320,321,322,323,324,325,326,327,328,329,330,331,332,333,334,335,336,337,338,339,340,341,342,343,344,345,346,347,348,349,350,351,352,353,354,355,356,357,358,359,360,361,362,363,364,365,366,367,368,369,370,371,372,373,374,375,376,377,378,379,380,381,382,383,384,385,386,387,388,389,390,391,392,393,394,395,396,397,398,399,400,401,402,403,404,405,406,407,408,409,410,411,412,413,414,415,416,417,418,419,420,421,422,423,424,425,426,427,428,429,430,431,432,433,434,435,436,437,438,439,440,441,442,443,444,445,446,447,448,449,450,451,452,453,454,455,456,457,458,459,460,461,462,463,464,465,466,467,468,469,470,471,472,473,474,475,476,477,478,479,480,481,482,483,484,485,486,487,488,489,490,491,492,493,494,495,496,497,498,499],\"round\":[13695,13694,13693,13692,13691,13690,13689,13688,13687,13686,13685,13684,13683,13682,13681,13680,13679,13678,13677,13676,13675,13674,13673,13672,13671,13670,13669,13668,13667,13666,13665,13664,13663,13662,13661,13660,13659,13658,13657,13656,13655,13654,13653,13652,13651,13650,13649,13648,13647,13646,13645,13644,13643,13642,13641,13640,13639,13638,13637,13636,13635,13634,13633,13632,13631,13630,13629,13628,13627,13626,13625,13624,13623,13622,13621,13620,13619,13618,13617,13616,13615,13614,13613,13612,13611,13610,13609,13608,13607,13606,13605,13604,13603,13602,13601,13600,13599,13598,13597,13596,13595,13594,13593,13592,13591,13590,13589,13588,13587,13586,13585,13584,13583,13582,13581,13580,13579,13578,13577,13576,13575,13574,13573,13572,13571,13570,13569,13568,13567,13566,13565,13564,13563,13562,13561,13560,13559,13558,13557,13556,13555,13554,13553,13552,13551,13550,13549,13548,13547,13546,13545,13544,13543,13542,13541,13540,13539,13538,13537,13536,13535,13534,13533,13532,13531,13530,13529,13528,13527,13526,13525,13524,13523,13522,13521,13520,13519,13518,13517,13516,13515,13514,13513,13512,13511,13510,13509,13508,13507,13506,13505,13504,13503,13502,13501,13500,13499,13498,13497,13496,13495,13494,13493,13492,13491,13490,13489,13488,13487,13486,13485,13484,13483,13482,13481,13480,13479,13478,13477,13476,13475,13474,13473,13472,13471,13470,13469,13468,13467,13466,13465,13464,13463,13462,13461,13460,13459,13458,13457,13456,13455,13454,13453,13452,13451,13450,13449,13448,13447,13446,13445,13444,13443,13442,13441,13440,13439,13438,13437,13436,13435,13434,13433,13432,13431,13430,13429,13428,13427,13426,13425,13424,13423,13422,13421,13420,13419,13418,13417,13416,13415,13414,13413,13412,13411,13410,13409,13408,13407,13406,13405,13404,13403,13402,13401,13400,13399,13398,13397,13396,13395,13394,13393,13392,13391,13390,13389,13388,13387,13386,13385,13384,13383,13382,13381,13380,13379,13378,13377,13376,13375,13374,13373,13372,13371,13370,13369,13368,13367,13366,13365,13364,13363,13362,13361,13360,13359,13358,13357,13356,13355,13354,13353,13352,13351,13350,13349,13348,13347,13346,13345,13344,13343,13342,13341,13340,13339,13338,13337,13336,13335,13334,13333,13332,13331,13330,13329,13328,13327,13326,13325,13324,13323,13322,13321,13320,13319,13318,13317,13316,13315,13314,13313,13312,13311,13310,13309,13308,13307,13306,13305,13304,13303,13302,13301,13300,13299,13298,13297,13296,13295,13294,13293,13292,13291,13290,13289,13288,13287,13286,13285,13284,13283,13282,13281,13280,13279,13278,13277,13276,13275,13274,13273,13272,13271,13270,13269,13268,13267,13266,13265,13264,13263,13262,13261,13260,13259,13258,13257,13256,13255,13254,13253,13252,13251,13250,13249,13248,13247,13246,13245,13244,13243,13242,13241,13240,13239,13238,13237,13236,13235,13234,13233,13232,13231,13230,13229,13228,13227,13226,13225,13224,13223,13222,13221,13220,13219,13218,13217,13216,13215,13214,13213,13212,13211,13210,13209,13208,13207,13206,13205,13204,13203,13202,13201,13200,13199,13198,13197,13196],\"time\":[1565580700,1565580630,1565580518,1565580458,1565580398,1565580294,1565580180,1565580055,1565579958,1565579858,1565579780,1565579581,1565579521,1565579461,1565579338,1565579210,1565579136,1565579076,1565579016,1565578956,1565578881,1565578798,1565578724,1565578636,1565578565,1565578497,1565578437,1565578371,1565578298,1565578215,1565578109,1565578044,1565577984,1565577924,1565577864,1565577772,1565577680,1565577521,1565577449,1565577361,1565577187,1565577009,1565576915,1565576853,1565576793,1565576576,1565576390,1565576270,1565576210,1565576086,1565575989,1565575877,1565575817,1565575757,1565575689,1565575583,1565575485,1565575407,1565575341,1565575277,1565575176,1565575066,1565575006,1565574925,1565574865,1565574805,1565574745,1565574685,1565574625,1565574496,1565574364,1565574295,1565574210,1565574125,1565573997,1565573893,1565573833,1565573773,1565573705,1565573617,1565573544,1565573438,1565573351,1565573291,1565573231,1565573171,1565573065,1565572991,1565572910,1565572823,1565572727,1565572667,1565572575,1565572399,1565572292,1565572230,1565572138,1565572078,1565572018,1565571948,1565571888,1565571828,1565571768,1565571706,1565571628,1565571549,1565571489,1565571405,1565571341,1565571234,1565571133,1565571049,1565570937,1565570811,1565570731,1565570671,1565570602,1565570542,1565570482,1565570422,1565570345,1565570161,1565570042,1565569903,1565569738,1565569667,1565569562,1565569405,1565569300,1565569240,1565569178,1565569096,1565569036,1565568947,1565568887,1565568827,1565568767,1565568707,1565568647,1565568569,1565568390,1565568311,1565568170,1565567989,1565567717,1565567446,1565567314,1565567196,1565567099,1565567027,1565566967,1565566907,1565566847,1565566787,1565566727,1565566667,1565566597,1565566533,1565566424,1565566290,1565566150,1565566090,1565566030,1565565970,1565565910,1565565850,1565565790,1565565730,1565565670,1565565586,1565565509,1565565437,1565565342,1565565252,1565565182,1565565082,1565564928,1565564851,1565564718,1565564634,1565564571,1565564511,1565564451,1565564391,1565564331,1565564271,1565564192,1565564122,1565564062,1565563929,1565563766,1565563579,1565563296,1565563146,1565563023,1565562877,1565562790,1565562730,1565562670,1565562610,1565562547,1565562462,1565562352,1565562228,1565562150,1565562065,1565561952,1565561796,1565561701,1565561600,1565561476,1565561329,1565561224,1565561151,1565561091,1565561031,1565560971,1565560911,1565560851,1565560791,1565560731,1565560669,1565560604,1565560544,1565560461,1565560311,1565560172,1565560020,1565559938,1565559794,1565559671,1565559602,1565559524,1565559464,1565559393,1565559325,1565559233,1565559155,1565559045,1565558842,1565558535,1565558401,1565558341,1565558259,1565558199,1565558139,1565557985,1565557856,1565557624,1565557365,1565557118,1565557036,1565556971,1565556894,1565556820,1565556760,1565556610,1565556504,1565556282,1565556079,1565555953,1565555893,1565555808,1565555748,1565555688,1565555628,1565555568,1565555508,1565555448,1565555388,1565555328,1565555268,1565555208,1565555148,1565555015,1565554907,1565554443,1565554069,1565553625,1565553411,1565552788,1565552717,1565552657,1565552560,1565552495,1565552435,1565552347,1565552215,1565552155,1565552095,1565552024,1565551964,1565551899,1565551782,1565551672,1565551587,1565551515,1565551455,1565551395,1565551335,1565551275,1565551215,1565551147,1565551067,1565550955,1565550807,1565550539,1565550382,1565550221,1565550161,1565550059,1565549927,1565549834,1565549648,1565549525,1565549435,1565549375,1565549315,1565549250,1565549190,1565549123,1565548994,1565548864,1565548768,1565548708,1565548604,1565548406,1565548346,1565548256,1565548160,1565548072,1565547954,1565547878,1565547804,1565547720,1565547645,1565547558,1565547365,1565547256,1565547196,1565547075,1565546998,1565546857,1565546716,1565546580,1565546390,1565546221,1565546142,1565546055,1565545995,1565545935,1565545830,1565545758,1565545676,1565545578,1565545485,1565545391,1565545314,1565545232,1565545120,1565545040,1565544980,1565544904,1565544844,1565544784,1565544724,1565544664,1565544563,1565544496,1565544436,1565544365,1565544305,1565544245,1565544157,1565544081,1565544021,1565543961,1565543880,1565543684,1565543608,1565543542,1565543449,1565543380,1565543320,1565543260,1565543168,1565543009,1565542941,1565542879,1565542804,1565542736,1565542616,1565542514,1565542454,1565542372,1565542312,1565542252,1565542041,1565541950,1565541890,1565541830,1565541753,1565541693,1565541633,1565541555,1565541468,1565541383,1565541313,1565541238,1565541136,1565541066,1565540950,1565540808,1565540697,1565540614,1565540554,1565540494,1565540434,1565540349,1565540224,1565540130,1565540070,1565539989,1565539851,1565539732,1565539672,1565539592,1565539505,1565539443,1565539383,1565539323,1565539263,1565539203,1565539143,1565539083,1565539023,1565538963,1565538903,1565538843,1565538783,1565538723,1565538663,1565538603,1565538543,1565538463,1565537942,1565537802,1565536682,1565535192,1565535130,1565535070,1565535010,1565534950,1565534890,1565534830,1565534770,1565534710,1565534650,1565534590,1565534530,1565534454,1565534357,1565534239,1565533455,1565533385,1565533325,1565533249,1565533189,1565533126,1565533066,1565533001,1565532927,1565532828,1565532687,1565532260,1565532192,1565532132,1565531999,1565531878,1565531804,1565531637,1565531577,1565531487,1565531352,1565531292,1565531227,1565531148,1565531088,1565531028,1565530968,1565530908,1565530823,1565530734,1565530674,1565530614,1565530526,1565530452,1565530367,1565530234,1565530141],\"txns\":[4,2,11,2,1,3,11,7,9,7,6,2,5,2,2,6,6,4,3,4,8,8,9,3,6,6,4,6,5,2,1,4,2,5,2,2,9,3,1,4,7,12,7,3,1,6,7,0,4,2,5,6,2,7,9,12,2,3,3,4,9,5,1,5,1,1,3,3,5,5,4,4,3,5,9,6,4,2,7,4,4,2,3,5,4,2,5,12,13,2,3,0,9,11,7,3,3,0,2,3,2,2,5,3,4,4,8,8,3,6,4,5,4,6,2,2,5,8,2,1,10,5,4,7,6,4,7,7,5,3,2,1,1,4,1,5,2,3,4,5,9,4,5,3,6,6,4,5,0,7,7,2,3,9,5,5,5,5,4,10,10,6,3,3,1,3,0,1,3,5,4,6,5,13,3,6,3,6,6,5,1,1,4,5,1,8,9,2,6,4,4,9,6,8,8,4,1,4,1,1,1,4,5,7,3,4,11,7,2,7,7,6,4,3,2,4,4,4,3,7,3,6,5,3,6,12,5,7,4,5,2,1,3,1,4,3,1,3,8,9,5,7,6,9,2,3,2,3,1,7,2,5,3,4,8,3,3,4,14,7,7,2,1,2,4,1,1,4,3,1,0,8,7,3,4,5,3,3,11,2,4,1,7,4,7,2,6,11,7,2,3,5,9,8,3,6,3,1,1,4,5,1,0,7,3,6,7,6,3,5,5,4,4,4,2,5,5,5,4,2,8,8,4,4,5,11,10,5,6,4,3,5,3,5,3,1,8,5,5,5,4,6,8,1,6,8,7,2,5,4,5,7,2,8,7,5,4,4,7,10,10,2,4,2,5,2,4,4,3,4,6,4,7,4,7,5,2,7,10,1,0,8,4,2,0,9,11,4,6,2,3,10,7,7,5,0,5,4,3,5,1,6,1,5,2,8,5,3,5,6,3,7,6,4,2,2,3,3,6,6,6,2,6,6,5,8,8,8,1,4,1,3,8,1,2,2,5,2,4,6,3,2,1,5,7,5,2,0,2,3,3,5,4,1,5,6,2,1,8,3,7,7,2,5,4,2,6,2,4,3,3,6,4,5,5,0,8,6,7,2,12,1,3,8,6,3,5,7,2,3,2,9,7,9,1,5,8,3,6,8]},\"selected\":{\"id\":\"1049\",\"type\":\"Selection\"},\"selection_policy\":{\"id\":\"1050\",\"type\":\"UnionRenderers\"}},\"id\":\"1002\",\"type\":\"ColumnDataSource\"},{\"attributes\":{},\"id\":\"1025\",\"type\":\"SaveTool\"},{\"attributes\":{},\"id\":\"1026\",\"type\":\"ResetTool\"},{\"attributes\":{\"callback\":null},\"id\":\"1004\",\"type\":\"DataRange1d\"},{\"attributes\":{},\"id\":\"1027\",\"type\":\"HelpTool\"},{\"attributes\":{\"callback\":null,\"tooltips\":[[\"height\",\"@height\"],[\"txns\",\"@txns\"]]},\"id\":\"1040\",\"type\":\"HoverTool\"},{\"attributes\":{\"fill_color\":{\"value\":\"#1f77b4\"},\"line_color\":{\"value\":\"#1f77b4\"},\"top\":{\"field\":\"txns\"},\"width\":{\"value\":0.8},\"x\":{\"field\":\"height\"}},\"id\":\"1036\",\"type\":\"VBar\"},{\"attributes\":{\"active_drag\":\"auto\",\"active_inspect\":\"auto\",\"active_multi\":null,\"active_scroll\":\"auto\",\"active_tap\":\"auto\",\"tools\":[{\"id\":\"1022\",\"type\":\"PanTool\"},{\"id\":\"1023\",\"type\":\"WheelZoomTool\"},{\"id\":\"1024\",\"type\":\"BoxZoomTool\"},{\"id\":\"1025\",\"type\":\"SaveTool\"},{\"id\":\"1026\",\"type\":\"ResetTool\"},{\"id\":\"1027\",\"type\":\"HelpTool\"},{\"id\":\"1040\",\"type\":\"HoverTool\"}]},\"id\":\"1028\",\"type\":\"Toolbar\"}],\"root_ids\":[\"1003\"]},\"title\":\"Bokeh Application\",\"version\":\"1.3.4\"}};\n",
       "  var render_items = [{\"docid\":\"c21ce439-a0a9-465d-83b5-d58b8fbc736a\",\"roots\":{\"1003\":\"2ce3242a-384d-44fc-8416-996540cdc1a5\"}}];\n",
       "  root.Bokeh.embed.embed_items_notebook(docs_json, render_items);\n",
       "\n",
       "  }\n",
       "  if (root.Bokeh !== undefined) {\n",
       "    embed_document(root);\n",
       "  } else {\n",
       "    var attempts = 0;\n",
       "    var timer = setInterval(function(root) {\n",
       "      if (root.Bokeh !== undefined) {\n",
       "        embed_document(root);\n",
       "        clearInterval(timer);\n",
       "      }\n",
       "      attempts++;\n",
       "      if (attempts > 100) {\n",
       "        console.log(\"Bokeh: ERROR: Unable to run BokehJS code because BokehJS library is missing\");\n",
       "        clearInterval(timer);\n",
       "      }\n",
       "    }, 10, root)\n",
       "  }\n",
       "})(window);"
      ],
      "application/vnd.bokehjs_exec.v0+json": ""
     },
     "metadata": {
      "application/vnd.bokehjs_exec.v0+json": {
       "id": "1003"
      }
     },
     "output_type": "display_data"
    }
   ],
   "source": [
    "source = ColumnDataSource(df)\n",
    "p = figure()\n",
    "\n",
    "p.vbar(x='height', top='txns', width=0.8, source=source)\n",
    "hover = HoverTool(tooltips=[('height', '@height'), ('txns', '@txns')])\n",
    "p.add_tools(hover)\n",
    "p.xaxis.axis_label = \"Txns/Block\"\n",
    "p.yaxis.axis_label = \"NumTxns\"\n",
    "\n",
    "show(p)"
   ]
  },
  {
   "cell_type": "markdown",
   "metadata": {},
   "source": [
    "### Hotspot Stats"
   ]
  },
  {
   "cell_type": "code",
   "execution_count": 9,
   "metadata": {},
   "outputs": [],
   "source": [
    "hotspots = get_hotspots(API)"
   ]
  },
  {
   "cell_type": "code",
   "execution_count": 10,
   "metadata": {},
   "outputs": [],
   "source": [
    "df = pd.DataFrame(hotspots)"
   ]
  },
  {
   "cell_type": "code",
   "execution_count": 11,
   "metadata": {},
   "outputs": [
    {
     "name": "stdout",
     "output_type": "stream",
     "text": [
      "Top 10 scoring hotspots:\n"
     ]
    },
    {
     "data": {
      "text/html": [
       "<div>\n",
       "<style scoped>\n",
       "    .dataframe tbody tr th:only-of-type {\n",
       "        vertical-align: middle;\n",
       "    }\n",
       "\n",
       "    .dataframe tbody tr th {\n",
       "        vertical-align: top;\n",
       "    }\n",
       "\n",
       "    .dataframe thead th {\n",
       "        text-align: right;\n",
       "    }\n",
       "</style>\n",
       "<table border=\"1\" class=\"dataframe\">\n",
       "  <thead>\n",
       "    <tr style=\"text-align: right;\">\n",
       "      <th></th>\n",
       "      <th>address</th>\n",
       "      <th>score</th>\n",
       "    </tr>\n",
       "  </thead>\n",
       "  <tbody>\n",
       "    <tr>\n",
       "      <th>110</th>\n",
       "      <td>11DMUS9sEDngNh5RF1k4pb23Ucbb9fN9RwPDd1ZMAJJiCjvo3Xx</td>\n",
       "      <td>0.9847</td>\n",
       "    </tr>\n",
       "    <tr>\n",
       "      <th>97</th>\n",
       "      <td>11idAPnBHP3AM3SjkpFRGy7XLVv12oecTFLHGBMfmBSvzNY9CW8</td>\n",
       "      <td>0.9375</td>\n",
       "    </tr>\n",
       "    <tr>\n",
       "      <th>127</th>\n",
       "      <td>112stmZdJDjyvuGEJLCkUa5kPnmra5Svz72G3GdcyQQ9h3i55D48</td>\n",
       "      <td>0.9344</td>\n",
       "    </tr>\n",
       "    <tr>\n",
       "      <th>7</th>\n",
       "      <td>112uFMbu9bTXe9tJzuaL1MoM7UksPK4F928VmBf9Hxzc6BjRK9Pp</td>\n",
       "      <td>0.9250</td>\n",
       "    </tr>\n",
       "    <tr>\n",
       "      <th>124</th>\n",
       "      <td>115JucmPFDKUwvE4fkHR6GyQsttSUMi11KYme6pRcRTVXTqE7ww</td>\n",
       "      <td>0.9184</td>\n",
       "    </tr>\n",
       "    <tr>\n",
       "      <th>54</th>\n",
       "      <td>11qd6UNmuQsR5FUNc1LAKJM1r7kfx37WGc1csYbvkmUGUTx992K</td>\n",
       "      <td>0.9029</td>\n",
       "    </tr>\n",
       "    <tr>\n",
       "      <th>126</th>\n",
       "      <td>112D3iyBgtLeh5SPhshjZXQDV2XX2FdSMVSoC1fryANqdKPc3gLY</td>\n",
       "      <td>0.8991</td>\n",
       "    </tr>\n",
       "    <tr>\n",
       "      <th>120</th>\n",
       "      <td>112rS6gCz9FQmcw2hrdnEJRLLAeWpSmtHYeC6nAuDrDutPWm2RYz</td>\n",
       "      <td>0.8921</td>\n",
       "    </tr>\n",
       "    <tr>\n",
       "      <th>38</th>\n",
       "      <td>11xKKZwHYZpWcEamiZmyCA1v6YmfcfagQMGf9BJfMnDDiXkhRgV</td>\n",
       "      <td>0.8717</td>\n",
       "    </tr>\n",
       "    <tr>\n",
       "      <th>66</th>\n",
       "      <td>11t2h6ERRn2kbgjFF2hdQLZwvHcMS5NqykN3FEFRzvdf9K9QE1y</td>\n",
       "      <td>0.8401</td>\n",
       "    </tr>\n",
       "  </tbody>\n",
       "</table>\n",
       "</div>"
      ],
      "text/plain": [
       "                                                  address   score\n",
       "110  11DMUS9sEDngNh5RF1k4pb23Ucbb9fN9RwPDd1ZMAJJiCjvo3Xx   0.9847\n",
       "97   11idAPnBHP3AM3SjkpFRGy7XLVv12oecTFLHGBMfmBSvzNY9CW8   0.9375\n",
       "127  112stmZdJDjyvuGEJLCkUa5kPnmra5Svz72G3GdcyQQ9h3i55D48  0.9344\n",
       "7    112uFMbu9bTXe9tJzuaL1MoM7UksPK4F928VmBf9Hxzc6BjRK9Pp  0.9250\n",
       "124  115JucmPFDKUwvE4fkHR6GyQsttSUMi11KYme6pRcRTVXTqE7ww   0.9184\n",
       "54   11qd6UNmuQsR5FUNc1LAKJM1r7kfx37WGc1csYbvkmUGUTx992K   0.9029\n",
       "126  112D3iyBgtLeh5SPhshjZXQDV2XX2FdSMVSoC1fryANqdKPc3gLY  0.8991\n",
       "120  112rS6gCz9FQmcw2hrdnEJRLLAeWpSmtHYeC6nAuDrDutPWm2RYz  0.8921\n",
       "38   11xKKZwHYZpWcEamiZmyCA1v6YmfcfagQMGf9BJfMnDDiXkhRgV   0.8717\n",
       "66   11t2h6ERRn2kbgjFF2hdQLZwvHcMS5NqykN3FEFRzvdf9K9QE1y   0.8401"
      ]
     },
     "execution_count": 11,
     "metadata": {},
     "output_type": "execute_result"
    }
   ],
   "source": [
    "print(f'Top {TOP} scoring hotspots:')\n",
    "df.sort_values('score', ascending=False)[['address', 'score']].head(TOP)"
   ]
  },
  {
   "cell_type": "code",
   "execution_count": 12,
   "metadata": {},
   "outputs": [
    {
     "data": {
      "text/html": [
       "\n",
       "\n",
       "\n",
       "\n",
       "\n",
       "\n",
       "  <div class=\"bk-root\" id=\"ff6a5ef5-2e27-4443-a7dc-ad82fa900c7f\" data-root-id=\"1106\"></div>\n"
      ]
     },
     "metadata": {},
     "output_type": "display_data"
    },
    {
     "data": {
      "application/javascript": [
       "(function(root) {\n",
       "  function embed_document(root) {\n",
       "    \n",
       "  var docs_json = {\"137e4cc9-39ce-4117-b0aa-0895ca3cd9c1\":{\"roots\":{\"references\":[{\"attributes\":{\"below\":[{\"id\":\"1115\",\"type\":\"LinearAxis\"}],\"center\":[{\"id\":\"1119\",\"type\":\"Grid\"},{\"id\":\"1124\",\"type\":\"Grid\"}],\"left\":[{\"id\":\"1120\",\"type\":\"LinearAxis\"}],\"renderers\":[{\"id\":\"1141\",\"type\":\"GlyphRenderer\"}],\"title\":{\"id\":\"1155\",\"type\":\"Title\"},\"toolbar\":{\"id\":\"1131\",\"type\":\"Toolbar\"},\"x_range\":{\"id\":\"1107\",\"type\":\"DataRange1d\"},\"x_scale\":{\"id\":\"1111\",\"type\":\"LinearScale\"},\"y_range\":{\"id\":\"1109\",\"type\":\"DataRange1d\"},\"y_scale\":{\"id\":\"1113\",\"type\":\"LinearScale\"}},\"id\":\"1106\",\"subtype\":\"Figure\",\"type\":\"Plot\"},{\"attributes\":{\"active_drag\":\"auto\",\"active_inspect\":\"auto\",\"active_multi\":null,\"active_scroll\":\"auto\",\"active_tap\":\"auto\",\"tools\":[{\"id\":\"1125\",\"type\":\"PanTool\"},{\"id\":\"1126\",\"type\":\"WheelZoomTool\"},{\"id\":\"1127\",\"type\":\"BoxZoomTool\"},{\"id\":\"1128\",\"type\":\"SaveTool\"},{\"id\":\"1129\",\"type\":\"ResetTool\"},{\"id\":\"1130\",\"type\":\"HelpTool\"},{\"id\":\"1143\",\"type\":\"HoverTool\"}]},\"id\":\"1131\",\"type\":\"Toolbar\"},{\"attributes\":{\"fill_alpha\":{\"value\":0.1},\"fill_color\":{\"value\":\"#1f77b4\"},\"line_alpha\":{\"value\":0.1},\"line_color\":{\"value\":\"#1f77b4\"},\"top\":{\"field\":\"score\"},\"width\":{\"value\":0.8},\"x\":{\"field\":\"id\"}},\"id\":\"1140\",\"type\":\"VBar\"},{\"attributes\":{},\"id\":\"1121\",\"type\":\"BasicTicker\"},{\"attributes\":{\"data_source\":{\"id\":\"1105\",\"type\":\"ColumnDataSource\"},\"glyph\":{\"id\":\"1139\",\"type\":\"VBar\"},\"hover_glyph\":null,\"muted_glyph\":null,\"nonselection_glyph\":{\"id\":\"1140\",\"type\":\"VBar\"},\"selection_glyph\":null,\"view\":{\"id\":\"1142\",\"type\":\"CDSView\"}},\"id\":\"1141\",\"type\":\"GlyphRenderer\"},{\"attributes\":{\"source\":{\"id\":\"1105\",\"type\":\"ColumnDataSource\"}},\"id\":\"1142\",\"type\":\"CDSView\"},{\"attributes\":{\"callback\":null,\"data\":{\"address\":[\"11wuUYRFfbkjHTsqC6HhhvAV1jJUR2mC2MHxSigWnoyiGZuRgrJ\",\"11qXzvWwBX49LPHXZVKtT7aM2tKDUaHamHaPo2ajMvXxGs42s2y\",\"112vHYHXQNm7aVFAtjCVyqnHYTRPCKEib8uMUX71XFHPjDgwq4MV\",\"11DeGngCtZsML4EhRgPiJVp7feAN4XYwEiZhCKLy2SeQp8QWP7D\",\"112gt6GzN2wkKDXnzqwFJ4yshernCP1KpZEhdgYJ9yv7D6K3kyjT\",\"112P4UBvvAwDM11o6eHE6w44hGWq7ukNo4skTLSTsWYZx3wxPMqu\",\"112euXBKmLzUAfyi7FaYRxRpcH5RmfPKprV3qEyHCTt8nqwyVFYo\",\"112uFMbu9bTXe9tJzuaL1MoM7UksPK4F928VmBf9Hxzc6BjRK9Pp\",\"11nbEwo5k75mdE4nN9f9m6L5Q79dkbTukf48u2233ij6MQYEz3c\",\"11CAwto42LXquADz1asH4gWU6yUbSi1hATDijYm8ZM4Z7RtzeQK\",\"112YjHE6vZ72o2nypeBbsUTs6V5Z6CBXakKjQJKKCXHsAPPJrmvA\",\"112rDaPoAGdzXELF7t1iLj7BM8cCtezYoNAkwFECSLqGxR4iVMaj\",\"112kFNJoxBYn7UWwZqUABrTXjhn7mkP8ePrbi6w9Hj1NXJfodwP3\",\"11XC5VxSHnB2v9B8Kx3guqwTRLmY3hfar3EALunYsJMoT6TKJxV\",\"11yXFNu9Je9gvVfyuA8jS8z6faNcZW7kPwPApWYThTk416LGmU\",\"112dcfpxdtNKPTrKvzKmXHqLAq7R1Npq35Ehjepe9n2p7WA4mSXp\",\"1158boTwaXLng68TD1UauDnZeB1oCGRPqG7nQ2bL2yovkA2ntV3\",\"11uoSXSsPuuTv1cprZEqNuw5r8giCsAoqDXgsdFMR2G11tLKjkr\",\"112eFfqt75oqXa62iE8tsfLhgH3vSNAcnGLzEwGdUYun1zCAYKTR\",\"11jihKNVbs5Sd85ekMAiLHvq5oDEWCEs7rbSdJ2WtQbLXETbMe9\",\"112NxxWUZzAPDoJmrpnHH7nPn7hAFYVjTibYSS2p7vfXWhz8BuQF\",\"11vsUeTb8g4KcELPctghGLSDWhUDGAEAkiAhERU3euC69HSNvca\",\"115j9cnpxSmkYEdzjvFuMycz4VAea4zC9DicMKHZUHwc6aQVTTE\",\"1125mBeoEZ2e1TSiKtxUbeUS2jhPcb6X6ELyxUZeEKxgpAXL2QXC\",\"112PW6ZvGNWssGPX6k769dzercrmdRyBUwrsY5xfCgQiSWPWrxHF\",\"112TN1Cdqbi7LXaKBQKprjY7LVmVyePNACmB1ewk27M8raEVGmCz\",\"112cN1U82HCb2BN8E7XgmoniPTurcKg97WnJi2oXDupSMHpgiDid\",\"118EwwvzarVrtvaCfnRhCP1BBcdLaQRLBDKZ3coW17JHhKaj6p1\",\"112MCMqvkbdfbQ4BLopnGpMdnSeNUBEchHCbHsU2CMAZjRJKD3aB\",\"11sJGePtegp3KSmX2VSHSJy2kvkhNUHcLh1Xprs3m7FHwnEonfo\",\"112uVWq45n18AQnCASMpTiAsMcQvE7oqmtYji9FHab2yxfWsbmhX\",\"11iur9BrnJY2FunsLyH9FwLfqHa8C4Cue3R5WGFJmbYh2FrpbBh\",\"112Mki5uohp3EYjEwAKzrQStUf9FPZBKuzwnpRAiMboE6K6pTEhc\",\"112TW3Cp2GWLPs9veKMYFtw7DVaDHU6dsEE8GAggBVjEuf2TWttr\",\"11278GCrhcGcZorQmQgXefjPZWApFD9vHco9EzYytkkgepSx4cnW\",\"112HrGmRZ1iUFPNRzbMoAAiHHgHzrmkFLwdzwmUww457JsHN2VDm\",\"11jngF85QQc4JUvkK4uJ79vY7zLY6SrgKw911wpmiBvgMHsUJma\",\"11ubZi6poph2dLTc9jvJwNtjkJxF8WaneDSdMcDoA1tcyb47rFo\",\"11xKKZwHYZpWcEamiZmyCA1v6YmfcfagQMGf9BJfMnDDiXkhRgV\",\"11WPxVmJ83FKQkU83zbREvV2MtvkSaKeQenbJHdXWNESDu4c2bk\",\"11z6NPpfsdWZgGb5zSNz2VqHioyoVYmAGjANTPGwBKo26fBxb2U\",\"1124eHFSCjQTouUNkC23dhN8BUUYQHnwdobZGHZwJvTq1PN72xsb\",\"11sguEykEnHMXbw14nqo7mCwn18FsKFegaS3tcRqd2fgSKeaKcA\",\"11xWTUFRswoQM82EWQqDCRCixmX57UjzXLKdeKaXhGpsp66tho\",\"11EEx27SnCWb8qB87AX5XptnHNhpJx9y8YtQYHME1XNLTzTUxWD\",\"11bgTZaeRTiGuH11dE25H2D1FFM5tvtrHTNJnhAK6TwwrH57t88\",\"112NhNhURvqksxppa8bxjMku5e51h8rqub36rFA5Kgo8nPdM5KHS\",\"114VvEadECxmrrF4ccY3ai2XQzGdikovfJwBJEAsMuX8Wg9iWAR\",\"112jsPCWDbhYb1u1brqYGHkxdnpt8JSE91gRYCH5HKyFcsW16Tkx\",\"1123zdwvvayz9Nqxx4UtkGZecWhgDUmcdMJmG5qXccB1iW51dJgA\",\"112p1sK1ip8ZAAXC2txtJthSKUxgHxSCvhZCv9Mt6wmVqTGu6uyK\",\"112G1KhXpvMnPYw9ze7VsiLizG7SpVU81zFXyt2bcZBQwPS3Uh4L\",\"11aS1fM9HHVHzRgjVtcP55559X8pMnkCUdSttfZUohqH84sNQpM\",\"11BL252rVXxYyNe6P6kJ8udk4VHix7NVV4ASQTP2prr8KJB2YPi\",\"11qd6UNmuQsR5FUNc1LAKJM1r7kfx37WGc1csYbvkmUGUTx992K\",\"112MDVNM62dXFzXmPzNySnsXV58WyWJhDEH4zU1Xipb9F519Dy9q\",\"112c7xWEsNLTnPhWmmETrZ8P6BxqNnTZtBymmjifBgjKariw8YXw\",\"112D36ZCcFouGU5X5wVCXsikGEsEkpcLYFyrrKHcRowzENXq6yso\",\"112d7fa4ymaWLu1AVVgMtyRA3DbhvRCeNcTYK8oc64Xxq3PaQmLw\",\"112Sgw2sZf1BKAPqVH677a2HeE9TKYkgjGkPj7L5iLPvjrPA39hg\",\"112DFZH7yJwntcPMscyL91zb1LayjGpizEuMViAZvDQftiaPSiB9\",\"11Z4vYLzvwkuDegD95bDmDURYb5Q2BV69yCpeaf81372SkfktxC\",\"11ckxdQsReXpqwCrbbREZj6urEuNEGf2Zk5d4UnsuPMsJDSihwy\",\"112X5u9nq4v5RDcUSfGJXBG8dgCzvRTW7bfS4oZ9qnQU17vcQ5y2\",\"11uEMMjzw2bpuWW1cQHJLKPUiqzm3B8HHPtqsuiXZEhX4VxB4rB\",\"11BaVHGtAa5K1sb2xosiF3LepjrgK5iT7ZUjqkM6KDLS5Xd9VKh\",\"11t2h6ERRn2kbgjFF2hdQLZwvHcMS5NqykN3FEFRzvdf9K9QE1y\",\"11xkVWtJgF4xrRxhSy1mxYZvWc6anKA3QtrNJWdqP7J3wNkJ8tC\",\"112JHZsfc2sPfx1N9fjJ1HzhJou3o5LWgaWZYvnXAkcQktX9YLS7\",\"112sYD4tioU5RXg6t4aw74mP4NDxqrWptCqRFEeK5cauGqGYKaL4\",\"11J8sVCSMqmPQsS7vz5LEoKEYEARUWSt1iooWd7pp1vwYUqDoJg\",\"112u3Zr3oTs6TSBewf649PSiM1fCGg58gmhoAxvTZwtCeViB8XG1\",\"11Hh17C2pg8ig1ftU6H1UpSRQDVxZZtQNuJ56qryHMuD5w958Tr\",\"118Wc9tJaNA6xNbDjVenT52ueyfvXAcrzH4Lwppd5dG2QLDQ34C\",\"11hju5Kc94T9xbgA8Ri88LpX7sb79kMq7ET5A4xUF7AKsfvu9HM\",\"1127q7QEWN68TxVZ5wjPKBVGtjN51HGoiSiA6WJvR9ZzX9soHFBe\",\"11ECEKeyCjknk2Z7AG7gxVcVnWjmksJE1Wzq6C7BBZE239HjuFD\",\"11T5peiN6VsfEqTXzctRwQzSqkbaxx8HGeyjR6fyoAgAn1Y4sA9\",\"112dqJt9WfNqGPBbbz9Au42DZ1RUkpZAUWgnSmZ9R8nhDxQeNLCW\",\"11tWRj2Qhnn177iVYm3KUmbPdMyhRfeqHqk9kCyiR7y57hdG9JA\",\"112aeWRZdyz61Y7EQeMbXwqERNMPnciDvsxyFmhz1UfA9hte4R4W\",\"112UuTZGP8Vd4p4x7LX3MrQQkimrQVGsgDCq5EvQLvRYGUNZhH2T\",\"11dj5k2dwSUE7fqFnwAHK9stLd3St9MJiJuaRnvvRgJjbRMZgKJ\",\"11kzHgDkiGfCiX96fWz6riNGxjCCXy6bVvyn4SDwzjzwMXNhndU\",\"11o9ve9x4siBxXWSBZnXL6gmSJJ6dJKEGDGNoZTC1QpVDdGKeaN\",\"112s1E6JsKmjNrZp2s28Tk4VFuB49cZUjZ41qho7Uq9yYJyvyH1R\",\"112E3xyWmdj6N9CzN6KNPDPEzz8yxrY8C49SFSiN1zpARzizVY6z\",\"112opbmPimyyAT1Y5GxeEJSDXM2ZfTHAZRUMLGcADTyGXAe8Hr4\",\"112kQbfzXkyxTSTxUpztvPLMJLB2koLro9LJesumSGpdNUBhWzBN\",\"11YDCwbL1dkC7gToXTcEn5CQHTnjittZ7ZqTUsPjD6ba8hASZNe\",\"11rWkkY2rjp1hfZ2noxtwRALArbf12hMzdytHVQrY1c1PzBX4iR\",\"113kQU96zqePySTahB7PEde9ZpoWK76DYK1f57wyhjhXCBoAu88\",\"11oCfnQtekNbhEZLF2YA87jJr9mk9dogSEGoXCBboFR3CR7rR6v\",\"11MFNwMS56vpKvK4iBvMfp3dipCpQA623XaFDvoCu2AACKvwcSX\",\"11Csdm4xr7W3j1vJsZKQ5o5qnGQiwcjBqrW3qRiVDxqad395dKD\",\"112rNX8mnZBZWf6ixnksygsrahNYyHz7S9BExjqPCxhEqSPcxF38\",\"112MtP4Um2UXo8FtDHeme1U5A91M6Jj3TZ3i2XTJ9vNUMawqoPVW\",\"11idAPnBHP3AM3SjkpFRGy7XLVv12oecTFLHGBMfmBSvzNY9CW8\",\"112jpXUSkDJuykaNzrnTVGBWTrr5tukBSXUdZRKUsKAEMru6uucu\",\"11k4Gn6Qhs6JDet1w1fKxUe647zw4KRiZCYhNBtqYCL16BNmjRo\",\"11uvA9ZLXGUY5onTtAvMhSxjs4zMuGMganv1xSbipCxRCurUHuH\",\"11VKaN7fEvDm6NaGhcZtNSU1KAQQmTSwuuJsYYEqzh8mSWkoEUd\",\"112rGFR4TPSbrdTAPgP556n9ffst7tE5Xooua9QURbV4XeVoQgiD\",\"112Z6fYnkQa8VAyMWHoaZJVzrxbWPoJV2NCfdZmaNoG1pYxWdGwD\",\"112wh3mYwP6N8XbYgeU5JPp2L9rNJD5Qv8SGHxRjboybiAxJtRVt\",\"11YZSQ1DfKg5YwvoqKJRtKMBQnuRL6ofxyQPrMcsPPGEZdHVf2q\",\"1126WubKPpmEW6uCgcuXMfn4tHEp2rPr9sCrR9YXj2Vvg4gL3QC2\",\"11qTZbaXb3ZxWD3fW4PmVJryWXyY5dCPaSTKmvDhgEBk8bxTSvS\",\"112XLTxP3R8fXdmFsX6EYBpz4yQkJWZVNBuNjk8n2nw7dU14Fmcy\",\"11Kj6LV5M51PzPjBVbtgESL625SsrzdPoi59PDPQ2xdeozNuRuq\",\"11DMUS9sEDngNh5RF1k4pb23Ucbb9fN9RwPDd1ZMAJJiCjvo3Xx\",\"114FX56Ua6joFNmHAugjKR1wfopRyYEzbtgn6bodvSHXdKSwZPg\",\"115pxxv1H6xuq5NykL2PjzQqZqKv1bJdig2sxyN79ukBVGWXbPn\",\"11AUHAqBatgrs2v6j3j75UQ73NyEYZoH41CdJ56P1SzeqqYjZ4o\",\"11sAaGTavNJjGgpcoRL5GQACTbWQq4zvftgrZwjabMqJRNfyZn4\",\"112dFRPoWZmWehmiU1cdU2jbE213RB772urDC1HxUSZfQ7KVJaN5\",\"112aVmnM3bJsA1gM9fjNPSvAeY4LkrMzNJdHRfTdtZ9nTgWZgncs\",\"112VYECRxdyUixsN3KyTMdJaNdGGNF6UARwS5Pkyi86xoiBkSyLU\",\"112LfWf61hKR2mCKbuyqt3w2UCtytbFCmo2QJ4xdACR6c768LtiR\",\"11KeUR4Ure4DBFJE1TGg2nr4E7k2T8keAiBqmB9PEgMdWGB7eJh\",\"112rS6gCz9FQmcw2hrdnEJRLLAeWpSmtHYeC6nAuDrDutPWm2RYz\",\"11cEr5Um2a7Zbqw7Pozrc3DjEXvQptTtdVo5y132Kwo94ax11DD\",\"11TUDQEnZa8KXwuCNPVjLWboFGnVskfua1dRkEvmaNgriMWBwAf\",\"1127scjX1wymbXwV5eToMTV7cy8xghMddGb6QtiNhqSwLfSYksdQ\",\"115JucmPFDKUwvE4fkHR6GyQsttSUMi11KYme6pRcRTVXTqE7ww\",\"11TBjxKGcjG6wocUxWMccv8FU8LaPf72YiPXooPw4XuFLgHNAAi\",\"112D3iyBgtLeh5SPhshjZXQDV2XX2FdSMVSoC1fryANqdKPc3gLY\",\"112stmZdJDjyvuGEJLCkUa5kPnmra5Svz72G3GdcyQQ9h3i55D48\"],\"id\":[128,127,126,125,124,123,122,121,120,119,118,117,116,115,114,113,112,111,110,109,108,107,106,105,104,103,102,101,100,99,98,97,96,95,94,93,92,91,90,89,88,87,86,85,84,83,82,81,80,79,78,77,76,75,74,73,72,71,70,69,68,67,66,65,64,63,62,61,60,59,58,57,56,55,54,53,52,51,50,49,48,47,46,45,44,43,42,41,40,39,38,37,36,35,34,33,32,31,30,29,28,27,26,25,24,23,22,21,20,19,18,17,16,15,14,13,12,11,10,9,8,7,6,5,4,3,2,1],\"index\":[0,1,2,3,4,5,6,7,8,9,10,11,12,13,14,15,16,17,18,19,20,21,22,23,24,25,26,27,28,29,30,31,32,33,34,35,36,37,38,39,40,41,42,43,44,45,46,47,48,49,50,51,52,53,54,55,56,57,58,59,60,61,62,63,64,65,66,67,68,69,70,71,72,73,74,75,76,77,78,79,80,81,82,83,84,85,86,87,88,89,90,91,92,93,94,95,96,97,98,99,100,101,102,103,104,105,106,107,108,109,110,111,112,113,114,115,116,117,118,119,120,121,122,123,124,125,126,127],\"lat\":{\"__ndarray__\":\"qpHhRB4vPkCQWG8jA3Q+QCMl7YU2ST5AHN7/8yzcQkBGddP9qgRGQIc5CAoWRD5AwIZO8hukQkBXqZtsJD4+QEZihSNp4EJA5R2izxfiQkBLyzjYa0c+QGcQ8l5Y4kJAA0Ss10fsQkBHaZMG0EI+QIrES3JL5EJAH19u2S9KPkCbOoPnQ3A+QBFb8XWVdj5A2ph4FrOzPkB08Se8wUE+QCwsdwIsTj5AuYLQpjxZPkAjoJig0n4+QJhr4MYXRz5AHZoob3VEPkDHwis1fEQ+QAlVgHbGKz5AwVHXPXJPPkCAzA2rq1A+QI2drU7hUj5ACdOwSr5KPkCOwATEtCc+QFs/sWIKQT5Awhi+dKA9PkBwuhqGPVU+QAJ7s26uKkJA+NA2i2J4PkCvoFh30D0+QMfAB4yTPT5AL2DW0tVEPkDylDkEU1s+QBfMcFqyRD5AQ6KRE01BPkDcxk5JwFM+QONnz+mzKkJA0Ku1k7taPkDIjNxkdz0+QMNki9dHOT5A/qHZq6c/PkAvvLOvqU8+QBcg5Ux7Oj5AdYmLAdJEPkBn4LtzbUE+QPDwxQk5RD5AQSWI8hpBPkCt4m6Ek0M+QL/26wKIQz5A7h4XHZ1DPkCb4S/dc0M+QPdkif1mSj5ATsKHqAA1PkCt4m6Ek0M+QOq6GAsALD5AEd9a94hDPkBqOGdXdEM+QJFHOIJkLz5A/YwcBqJEPkBYrgdePkM+QMqiruVyPz5AW/l0XohCPkD6o+vGDUU+QPydjLlLOD5Ae+qRd5aNPUCi7s51kkU+QLeMkFZzPT5Ah5o4lIVEPkADUigg4U4+QC10x4HH5EJAnkpN1J7jQkA9xSoG2g9DQL/uklZk40JAoEJTetvsQkDa7P37De1CQKJ9VZUAAkNAwb1n2r7iQkDHwis1fEQ+QPxaQTZ940JANQkCkJJDPkBhrTbjUOZCQCGSImCFOj5AcDGIRGpDPkBysCCudeJCQLtCT5TlqUJAabdnY+FBPkDzObfqWyNDQJzWyWKnyEJAbBZJhF0jQ0BYEtGKjeZCQKRXJRPL4kJAmfl2N5NIQ0Cr42ECm61CQATXp5OGD0NASgeYvUrkQkAE16eThg9DQGyp7Qas4kJAeP6k7KLhQkAQWYH1d0hDQIVklthoSUNAWD5BksCoQkBizbC8fuRCQDgZO7h25EJAfgW7HXXkQkD7W+wdMB9FQHj3l+gSu0JAjSjzO4OoQkBcyD2KgaZCQF5LGmTEp0JAlLOgY9SmQkBBeil+IOVCQNTT4Hj93EJAOngZONTmQkArTMN3EOFCQDrooCGG4UJABFDOYRvwQkBMq1T7r+RCQGOsGYIn7UJArE11GintQkCKP5dGFu1CQA==\",\"dtype\":\"float64\",\"shape\":[128]},\"lng\":{\"__ndarray__\":\"MCTCIZZ+WMBU3XByamtYwBw9nrOnbVjArBCObNBdXsAQdyTcpTdRwDABwHn4b1jAIB74v9CAXsCE2Yf5CXJYwBhVvmBQoF7AEH6k02WdXsBM7ZIMX3BYwFK6LkCunF7AtqGPxaqPXsCImPf4ZG5YwHRudGQXmV7AfBqCo2BxWMAMwNj8kGxYwEB77TIfc1jAPDTZc/9tWMDAOXBATm9YwEwadiZ2cVjArJqDs9h4WMDQA1jGBnFYwDCoj2eLb1jAIGR0r51vWMCIU+ryAHBYwHjAczZmc1jAvNwmmjBrWMCsGwLNWHZYwMAHOsmLb1jAEOoXEidxWMDEfNreanZYwOiM7kg7dVjAwPWB+kFyWMA0jerZyGxYwCxxN3C8j1fACG7/jDRpWMDgrwbiEnJYwNB14RALcljAiHhTlYVvWMCcfCmpnG5YwOSeaX+lb1jATHQ4nM9uWMCs76VzIHVYwAAZAHrTj1fABBCvFbRxWMAsxglKiHBYwLTLx3Pbc1jADFrsVHlwWMCkPB1I4W5YwPx4nKSgbVjAHH8L4KBvWMCQ5wYcynBYwPjTDvnbb1jAGIqBychwWMCw9DE8k29YwMDePpmbb1jAWF1chJhvWMAE7IXbl29YwMTlclb+cFjA2BAi6yFyWMCw9DE8k29YwDjNRWxjcljAxIGjxpRvWMBo9zhylG9YwBhIKkJfdFjATEX4doZvWMDYy/3zfG5YwOwhy4c3cFjAIN5Evx1yWMBEAbT60m5YwIg0J23MbFjASGjxKUGnWMBAn4clmnBYwOi/KJtccljAuBOnMOBuWMAwNxwhKHBYwPpjexrenF7A9JArFx6dXsCMrkbE8qFewOQs55srmV7AAiq4/fmRXsBuxTi6RpJewNBar+ulo17AvDhnkdSaXsCIU+ryAHBYwEjv8NwNm17AYLvNDppvWMBo+6lGPptewIy4FYOibVjAIH9dk5JvWMCYk8KT05lewIQC3eksgV7ARGwgoUlvWMDSHPuA45JewBxkxzzqkF7AFrjrAeCSXsBs8Xp/f5tewCS51KSqm17AvmVUVfNwXsDwTM2Ob3xewKKJ0LDYoV7AbMF++Q2ZXsCiidCw2KFewAgNzanRml7ArrS0k9WYXsDQuNOt3V9ewGZ3FUKCX17AVgIkhUGAXsCyQu0bwpxewHBOEXzTnF7ANoiw9dacXsAklCNnj7lRwFi3u+ZGiV7AVgvuSTiBXsBQ0VPz2YFewGZEHwgUgl7ATMnPY7SBXsAqOWa3uJlewAgEVjAJnF7AYMa+PX+bXsB0V6WrfJtewAj+JUzmm17Axow6paiSXsCGVSwAGJlewGpgcgIPkl7AeITxhguSXsD8h0mhCJJewA==\",\"dtype\":\"float64\",\"shape\":[128]},\"location\":[\"8c4898da3aa03ff\",\"8c489e2502591ff\",\"8c489e351c2dbff\",\"8c2836af5aee3ff\",\"8c2b1a26c7343ff\",\"8c489e3463167ff\",\"8c28347257965ff\",\"8c489e3635863ff\",\"8c2830958b5d9ff\",\"8c283095acf1dff\",\"8c489e3404f51ff\",\"8c283082d2f69ff\",\"8c28308ac46b9ff\",\"8c489e35591b3ff\",\"8c283082a1165ff\",\"8c489e3439621ff\",\"8c489e255394bff\",\"8c489e26b4e21ff\",\"8c48984a0d525ff\",\"8c489e346cf1bff\",\"8c489e343363dff\",\"8c4898cb3b419ff\",\"8c489e24849bdff\",\"8c489e3428a27ff\",\"8c489e3467757ff\",\"8c489e3463a9bff\",\"8c489eacac5b3ff\",\"8c489e22ca165ff\",\"8c4898cb644edff\",\"8c489e35894adff\",\"8c489e343800bff\",\"8c489eacd5647ff\",\"8c489e36c4c59ff\",\"8c489e363531dff\",\"8c489e35acb0bff\",\"8c26ed42c2355ff\",\"8c489e2ec12d9ff\",\"8c489e3635a61ff\",\"8c489e362258dff\",\"8c489e3467523ff\",\"8c489e35b08c9ff\",\"8c489e3467409ff\",\"8c489e3732297ff\",\"8c489e34d7409ff\",\"8c26ed42c38ddff\",\"8c489e2648963ff\",\"8c489e371af5dff\",\"8c489e360aec1ff\",\"8c489e3712435ff\",\"8c489e35c46b9ff\",\"8c489e372b061ff\",\"8c489e346743dff\",\"8c489e3444551ff\",\"8c489e3463b1bff\",\"8c489e344476bff\",\"8c489e34608dbff\",\"8c489e3460f6bff\",\"8c489e3460f29ff\",\"8c489e3460a97ff\",\"8c489e34398c7ff\",\"8c489e366ab37ff\",\"8c489e34608dbff\",\"8c489ead992e7ff\",\"8c489e3460f65ff\",\"8c489e3460abbff\",\"8c489eacb5263ff\",\"8c489e3467569ff\",\"8c489e3558287ff\",\"8c489e3712f41ff\",\"8c489e345d993ff\",\"8c489e355a2e1ff\",\"8c489e3766d4bff\",\"8c489c02b8211ff\",\"8c489e340cd49ff\",\"8c489e363c8b7ff\",\"8c489e355b0d1ff\",\"8c489e35cb4abff\",\"8c2830829220dff\",\"8c2830829b095ff\",\"8c2830aa255d5ff\",\"8c283082a9b17ff\",\"8c28308adab2bff\",\"8c28308adac45ff\",\"8c2830b81125bff\",\"8c283082810b9ff\",\"8c489e3463a9bff\",\"8c28308283a3bff\",\"8c489e3460f63ff\",\"8c283082b31edff\",\"8c489e372b063ff\",\"8c489e3460ab9ff\",\"8c283082e3589ff\",\"8c283472e78c7ff\",\"8c489e346cc61ff\",\"8c28300500b35ff\",\"8c28346692107ff\",\"8c28300500949ff\",\"8c283082b35abff\",\"8c2830828a449ff\",\"8c283079278d5ff\",\"8c2834702cd57ff\",\"8c2830aa2529dff\",\"8c283082a1a4bff\",\"8c2830aa2529dff\",\"8c283082810c7ff\",\"8c283082e1941ff\",\"8c2832b020259ff\",\"8c2832b02713bff\",\"8c283472328c9ff\",\"8c28308293335ff\",\"8c2830829304dff\",\"8c28308293049ff\",\"8c2a302d6c569ff\",\"8c283475d4eedff\",\"8c283472ecedbff\",\"8c28347213117ff\",\"8c283472c4b27ff\",\"8c28347213991ff\",\"8c283082a31dbff\",\"8c28309506ec1ff\",\"8c283082b2519ff\",\"8c283082c26b9ff\",\"8c283082d5485ff\",\"8c28308f4daadff\",\"8c283082a18b3ff\",\"8c28308ad326dff\",\"8c28308ada9b3ff\",\"8c28308ada981ff\"],\"long_city\":[\"Austin\",\"Austin\",\"Austin\",\"Tracy\",\"Vinalhaven\",\"Austin\",\"Saratoga\",\"Austin\",\"San Francisco\",\"San Francisco\",\"Austin\",\"San Francisco\",\"Oakland\",\"Austin\",\"San Francisco\",\"Austin\",\"Austin\",\"Austin\",\"Georgetown\",\"Austin\",\"Austin\",\"Austin\",\"Austin\",\"Austin\",\"Austin\",\"Austin\",\"Austin\",\"Austin\",\"Austin\",\"Austin\",\"Austin\",\"Austin\",\"Austin\",\"Austin\",\"Austin\",\"Bentonville\",\"Round Rock\",\"Austin\",\"Austin\",\"Austin\",\"Austin\",\"Austin\",\"Austin\",\"Austin\",\"Bentonville\",\"Austin\",\"Austin\",\"Sunset Valley\",\"Austin\",\"Austin\",\"Austin\",\"Austin\",\"Austin\",\"Austin\",\"Austin\",\"Austin\",\"Austin\",\"Austin\",\"Austin\",\"Austin\",\"Austin\",\"Austin\",\"Austin\",\"Austin\",\"Austin\",\"Austin\",\"Austin\",\"Austin\",\"Austin\",\"Austin\",\"Austin\",\"Austin\",\"San Antonio\",\"Austin\",\"Austin\",\"Austin\",\"Austin\",\"San Francisco\",\"San Francisco\",\"Novato\",\"San Francisco\",\"Berkeley\",\"Berkeley\",\"San Rafael\",\"San Francisco\",\"Austin\",\"San Francisco\",\"Austin\",\"San Francisco\",\"Austin\",\"Austin\",\"San Francisco\",\"Cupertino\",\"Austin\",\"Napa\",\"Foster City\",\"Napa\",\"San Francisco\",\"San Francisco\",\"Davis\",\"Santa Clara\",\"Novato\",\"San Francisco\",\"Novato\",\"San Francisco\",\"San Francisco\",\"Sacramento\",\"Sacramento\",\"Cupertino\",\"San Francisco\",\"San Francisco\",\"San Francisco\",\"Hingham\",\"East Palo Alto\",\"Cupertino\",\"San Jose\",\"San Jose\",\"San Jose\",\"San Francisco\",\"San Francisco\",\"San Francisco\",\"San Francisco\",\"San Francisco\",\"Berkeley\",\"San Francisco\",\"Berkeley\",\"Berkeley\",\"Berkeley\"],\"long_country\":[\"United States\",\"United States\",\"United States\",\"United States\",\"United States\",\"United States\",\"United States\",\"United States\",\"United States\",\"United States\",\"United States\",\"United States\",\"United States\",\"United States\",\"United States\",\"United States\",\"United States\",\"United States\",\"United States\",\"United States\",\"United States\",\"United States\",\"United States\",\"United States\",\"United States\",\"United States\",\"United States\",\"United States\",\"United States\",\"United States\",\"United States\",\"United States\",\"United States\",\"United States\",\"United States\",\"United States\",\"United States\",\"United States\",\"United States\",\"United States\",\"United States\",\"United States\",\"United States\",\"United States\",\"United States\",\"United States\",\"United States\",\"United States\",\"United States\",\"United States\",\"United States\",\"United States\",\"United States\",\"United States\",\"United States\",\"United States\",\"United States\",\"United States\",\"United States\",\"United States\",\"United States\",\"United States\",\"United States\",\"United States\",\"United States\",\"United States\",\"United States\",\"United States\",\"United States\",\"United States\",\"United States\",\"United States\",\"United States\",\"United States\",\"United States\",\"United States\",\"United States\",\"United States\",\"United States\",\"United States\",\"United States\",\"United States\",\"United States\",\"United States\",\"United States\",\"United States\",\"United States\",\"United States\",\"United States\",\"United States\",\"United States\",\"United States\",\"United States\",\"United States\",\"United States\",\"United States\",\"United States\",\"United States\",\"United States\",\"United States\",\"United States\",\"United States\",\"United States\",\"United States\",\"United States\",\"United States\",\"United States\",\"United States\",\"United States\",\"United States\",\"United States\",\"United States\",\"United States\",\"United States\",\"United States\",\"United States\",\"United States\",\"United States\",\"United States\",\"United States\",\"United States\",\"United States\",\"United States\",\"United States\",\"United States\",\"United States\",\"United States\",\"United States\"],\"long_state\":[\"Texas\",\"Texas\",\"Texas\",\"California\",\"Maine\",\"Texas\",\"California\",\"Texas\",\"California\",\"California\",\"Texas\",\"California\",\"California\",\"Texas\",\"California\",\"Texas\",\"Texas\",\"Texas\",\"Texas\",\"Texas\",\"Texas\",\"Texas\",\"Texas\",\"Texas\",\"Texas\",\"Texas\",\"Texas\",\"Texas\",\"Texas\",\"Texas\",\"Texas\",\"Texas\",\"Texas\",\"Texas\",\"Texas\",\"Arkansas\",\"Texas\",\"Texas\",\"Texas\",\"Texas\",\"Texas\",\"Texas\",\"Texas\",\"Texas\",\"Arkansas\",\"Texas\",\"Texas\",\"Texas\",\"Texas\",\"Texas\",\"Texas\",\"Texas\",\"Texas\",\"Texas\",\"Texas\",\"Texas\",\"Texas\",\"Texas\",\"Texas\",\"Texas\",\"Texas\",\"Texas\",\"Texas\",\"Texas\",\"Texas\",\"Texas\",\"Texas\",\"Texas\",\"Texas\",\"Texas\",\"Texas\",\"Texas\",\"Texas\",\"Texas\",\"Texas\",\"Texas\",\"Texas\",\"California\",\"California\",\"California\",\"California\",\"California\",\"California\",\"California\",\"California\",\"Texas\",\"California\",\"Texas\",\"California\",\"Texas\",\"Texas\",\"California\",\"California\",\"Texas\",\"California\",\"California\",\"California\",\"California\",\"California\",\"California\",\"California\",\"California\",\"California\",\"California\",\"California\",\"California\",\"California\",\"California\",\"California\",\"California\",\"California\",\"California\",\"Massachusetts\",\"California\",\"California\",\"California\",\"California\",\"California\",\"California\",\"California\",\"California\",\"California\",\"California\",\"California\",\"California\",\"California\",\"California\",\"California\"],\"long_street\":[\"Mesa Verde Drive\",\"Emmett Parkway\",\"Larry Lane\",\"Remington Way\",\"Unknown\",\"West 2nd Street\",\"De Havilland Court\",\"Manchaca Road\",\"Noriega Street\",\"Lincoln Way\",\"Lorrain Street\",\"Clayton Street\",\"Ocean View Drive\",\"East 4th Street\",\"Bryant Street\",\"Norwalk Lane\",\"Wells Branch Parkway\",\"Patricia Court\",\"Winecup Way\",\"Rainey Street\",\"Velasquez Drive\",\"Lakecliff Hills Lane\",\"Belfin Drive\",\"West 15th Street\",\"West 5th Street\",\"Nueces Street\",\"Unnamed Road\",\"Betty Cook Drive\",\"Lowell Lane North\",\"Shoalwood Avenue\",\"Forest Trail\",\"Yandall Drive\",\"Crystal Water Drive\",\"South Lamar Boulevard\",\"Bennett Avenue\",\"Southwest Boulder Street\",\"Manjack Cay Drive\",\"Manchaca Road\",\"Manchaca Road\",\"Congress Avenue\",\"Sales Street\",\"West 6th Street\",\"Holly Street\",\"Manana Street\",\"Southwest Boulder Street\",\"Williams Ridge Way\",\"Durwood Street\",\"Pillow Road\",\"West Milton Street\",\"Guadalupe Street\",\"East Riverside Drive\",\"Unknown\",\"South Lamar Boulevard\",\"West 4th Street\",\"South Lamar Boulevard\",\"Congress Avenue\",\"Congress Avenue\",\"East 2nd Street\",\"Congress Avenue\",\"Woodmont Avenue\",\"South 1st Street\",\"Congress Avenue\",\"South Congress Avenue\",\"Congress Avenue\",\"Congress Avenue\",\"Davis Lane\",\"East 6th Street\",\"East 6th Street\",\"West Milton Street\",\"Graywood Cove\",\"East 11th Street\",\"Maxwell Lane\",\"Gallant Forest\",\"West 5th Street\",\"Texas 343 Loop\",\"East 8th Street\",\"West 35th Street\",\"Sacramento Street\",\"Stanyan Street\",\"Malobar Drive\",\"King Street\",\"Acton Street\",\"Ashby Avenue\",\"Las Colindas Road\",\"Mission Street\",\"Nueces Street\",\"Gough Street\",\"Congress Avenue\",\"Filbert Street\",\"Faro Drive\",\"Congress Avenue\",\"Division Street\",\"Colby Avenue\",\"Rainey Street\",\"Tade Court\",\"Widgeon Street\",\"Agile Street\",\"Octavia Street\",\"Haight Street\",\"Quail Street\",\"Alviso Street\",\"Andale Avenue\",\"Federal Street\",\"Andale Avenue\",\"Mission Street\",\"3rd Street\",\"11th Street\",\"O Street\",\"Bret Avenue\",\"Laurel Street\",\"Collins Street\",\"Manzanita Avenue\",\"Thaxter Street\",\"East Okeefe Street\",\"Pineville Avenue\",\"Rainbow Drive\",\"Unknown\",\"Arlington Lane\",\"Montgomery Street\",\"Capistrano Avenue\",\"Octavia Street\",\"20th Street\",\"Collingwood Street\",\"Cornell Avenue\",\"Harrison Street\",\"Ashby Avenue\",\"Ashby Avenue\",\"Carrison Street\"],\"owner\":[\"14CryK8VwHBvWZvU4hEdbYBeUxrW7ZkWbfWGs2QefJzKxQbbxm8\",\"13jL4pTLq4JQBwDoH1ZBX3VPchmeTZxQSGi4cnyXXuzPPoKxcd5\",\"149ojHmuDHk7hhJbww5xUpv68jgR1GFTFttcBV87eBvHkRMestS\",\"13b75UVnSQAxRiyxc1T2q8hgwcrYg6qTVj48PRyEL69os7x2aXN\",\"13ZoK5nhUY1bLMTPr81LL2pG4gxN4pmtCNCJSmLh7BVhk8EEmLv\",\"13q8L4fQHYFPBENYugVJuwtG1yrvmr4dvhxJtQzxWEbfNhF9Gny\",\"13jFJ9LmooHjv6TnFWNryLDrDU3bEBf3FpCWfcdUN6NEDatm8o1\",\"14p1ECNRHUpxazwib3VijrNsmsAAsuMfMa84uCsXxp6JqZ29eaY\",\"12z4nUiayZnbW46azcegBBB9yGkchFb1Zm7EPuh6eV1r2HT1NgC\",\"14aEqJhfWwvynhHSzP4cLuZuW7yuENkdD3nu3yFZBQmZNpaYMa5\",\"13jL4pTLq4JQBwDoH1ZBX3VPchmeTZxQSGi4cnyXXuzPPoKxcd5\",\"13PqfSmY66odJDdEUYVuUewaNqe43zenTdvjvTfvMwBtBRh4ZMn\",\"1383ziQFpmSiW4Q6Nw73eaR6f5oTP4PsjzaECbf3mGVd2TrqKqq\",\"13jL4pTLq4JQBwDoH1ZBX3VPchmeTZxQSGi4cnyXXuzPPoKxcd5\",\"142MT8yuvepnVCwkVxgBPddotHcXKJXtw1yCXVhobawMv3w8L99\",\"13jL4pTLq4JQBwDoH1ZBX3VPchmeTZxQSGi4cnyXXuzPPoKxcd5\",\"13jL4pTLq4JQBwDoH1ZBX3VPchmeTZxQSGi4cnyXXuzPPoKxcd5\",\"13jL4pTLq4JQBwDoH1ZBX3VPchmeTZxQSGi4cnyXXuzPPoKxcd5\",\"13jL4pTLq4JQBwDoH1ZBX3VPchmeTZxQSGi4cnyXXuzPPoKxcd5\",\"13jL4pTLq4JQBwDoH1ZBX3VPchmeTZxQSGi4cnyXXuzPPoKxcd5\",\"13ZoK5nhUY1bLMTPr81LL2pG4gxN4pmtCNCJSmLh7BVhk8EEmLv\",\"13jL4pTLq4JQBwDoH1ZBX3VPchmeTZxQSGi4cnyXXuzPPoKxcd5\",\"13jL4pTLq4JQBwDoH1ZBX3VPchmeTZxQSGi4cnyXXuzPPoKxcd5\",\"13jL4pTLq4JQBwDoH1ZBX3VPchmeTZxQSGi4cnyXXuzPPoKxcd5\",\"13o9KUMcmEdhtjXRaJ5AANHLZWBoGcTmF4MFw3MjQbubjR57jXW\",\"13jL4pTLq4JQBwDoH1ZBX3VPchmeTZxQSGi4cnyXXuzPPoKxcd5\",\"13jL4pTLq4JQBwDoH1ZBX3VPchmeTZxQSGi4cnyXXuzPPoKxcd5\",\"13jL4pTLq4JQBwDoH1ZBX3VPchmeTZxQSGi4cnyXXuzPPoKxcd5\",\"13jL4pTLq4JQBwDoH1ZBX3VPchmeTZxQSGi4cnyXXuzPPoKxcd5\",\"13jL4pTLq4JQBwDoH1ZBX3VPchmeTZxQSGi4cnyXXuzPPoKxcd5\",\"13o9KUMcmEdhtjXRaJ5AANHLZWBoGcTmF4MFw3MjQbubjR57jXW\",\"13jL4pTLq4JQBwDoH1ZBX3VPchmeTZxQSGi4cnyXXuzPPoKxcd5\",\"13jL4pTLq4JQBwDoH1ZBX3VPchmeTZxQSGi4cnyXXuzPPoKxcd5\",\"13zwMXQwFBNxKGKJvurjGhVjTfkunwsC3GghtE9SyeUYDJei3t3\",\"13zuBf3QXx95aSpR3AgXiR6hjLzbqHqnwHGErXTxb49UrSngKU3\",\"13ickN56yPe38a3Vga161gp4nkSLckWvy7JChvnFr9osfP4AHGE\",\"13N2Q7qaxvtxiG3WRaR4bT1PAHS72t1AAfSvazcfut8FceQ7yXC\",\"13jL4pTLq4JQBwDoH1ZBX3VPchmeTZxQSGi4cnyXXuzPPoKxcd5\",\"13jL4pTLq4JQBwDoH1ZBX3VPchmeTZxQSGi4cnyXXuzPPoKxcd5\",\"13o9KUMcmEdhtjXRaJ5AANHLZWBoGcTmF4MFw3MjQbubjR57jXW\",\"13x6xCFEw1mq8spGP3xPWJnKuepb4wZJPUMbpk1g4HBCV6jpxMV\",\"13o9KUMcmEdhtjXRaJ5AANHLZWBoGcTmF4MFw3MjQbubjR57jXW\",\"14E4ihsukiU3Zdkqi2RNs6EWKuuQEK38rgmPTuSD2wSsSHfx7ry\",\"1328ZwD3SHEjnNwo4f4AoNppMZBg2NkSRjgUb2FSH6dbRsTWPN6\",\"13ickN56yPe38a3Vga161gp4nkSLckWvy7JChvnFr9osfP4AHGE\",\"13sKwLL85zvYvnCm8cvZrYCEmRWkpmNaY9eCShoDota6VCuFRBx\",\"12x4r5XkM65BH6TDMz1a7X4FrYWWZLArJMg6EL3pv3ytKfLA99d\",\"1418RhwsMfqEbFDJxSopAXird8qRHqw1FTYvMCRdDPHERes4Kea\",\"13jL4pTLq4JQBwDoH1ZBX3VPchmeTZxQSGi4cnyXXuzPPoKxcd5\",\"13Yz557GVBUvcTQkXCsx8AKFAh3TmsXbWNWXMNTaM4SEAVoevvB\",\"13jL4pTLq4JQBwDoH1ZBX3VPchmeTZxQSGi4cnyXXuzPPoKxcd5\",\"13o9KUMcmEdhtjXRaJ5AANHLZWBoGcTmF4MFw3MjQbubjR57jXW\",\"13jL4pTLq4JQBwDoH1ZBX3VPchmeTZxQSGi4cnyXXuzPPoKxcd5\",\"13MrkJ2L6LBfCmsnaHJvxjBxEE1HrgToCEjnBoL8dqeyvTdHj92\",\"13jL4pTLq4JQBwDoH1ZBX3VPchmeTZxQSGi4cnyXXuzPPoKxcd5\",\"13jL4pTLq4JQBwDoH1ZBX3VPchmeTZxQSGi4cnyXXuzPPoKxcd5\",\"13jL4pTLq4JQBwDoH1ZBX3VPchmeTZxQSGi4cnyXXuzPPoKxcd5\",\"13jL4pTLq4JQBwDoH1ZBX3VPchmeTZxQSGi4cnyXXuzPPoKxcd5\",\"13jL4pTLq4JQBwDoH1ZBX3VPchmeTZxQSGi4cnyXXuzPPoKxcd5\",\"13o9KUMcmEdhtjXRaJ5AANHLZWBoGcTmF4MFw3MjQbubjR57jXW\",\"14JPT1gUGHPkfpTEMEAYtdhnBGmJm95XNXK3DhBxcZm3z5kPtwn\",\"13jL4pTLq4JQBwDoH1ZBX3VPchmeTZxQSGi4cnyXXuzPPoKxcd5\",\"14ZKktN1fYq74ZfR19ix8rZnA3EiXzFcsrwN4MtExnVAPH6JPPP\",\"13jL4pTLq4JQBwDoH1ZBX3VPchmeTZxQSGi4cnyXXuzPPoKxcd5\",\"13jL4pTLq4JQBwDoH1ZBX3VPchmeTZxQSGi4cnyXXuzPPoKxcd5\",\"139i97spJpNYJoQr5ik2zFq5L77U1SfXTkTh1gbxVgSMrfvTc6s\",\"13o9KUMcmEdhtjXRaJ5AANHLZWBoGcTmF4MFw3MjQbubjR57jXW\",\"14hCqYFCtetS6RMQNfi9abKUqVyZnJqcSkbWxewhiL97dZuPwMi\",\"12yS1GsggJLDaM43fpJn9NZLLHFAFztUYc4EaxuHT8LXK7afKh6\",\"14ZKktN1fYq74ZfR19ix8rZnA3EiXzFcsrwN4MtExnVAPH6JPPP\",\"14PMavd2wcQ6GiqZQFkx8PQhHNGwaW7XZgwX3kcHkDZWauZXs5a\",\"13hDQpbcSe9jZX5giU2sNeynLpHQoLKF8mWkUrpuqVyFgu9ycSq\",\"13vNfrpCAyd19Je8dsqpJh2oDbk57mVhZto5XFcL5zwDk1asuGX\",\"13Ty4sVxzX7hMACPGnYHGiGTUHsZwUPKjQYnXCWSpqe3ZTxeV8m\",\"136Q6at4MoCEqaih29WQTZSabepvpSgcqBUW3etyNiERjs6jKCb\",\"13MeciKTq52Jjyu1K5cCvYAjjcRh3McM45KLrKvuyZpqBeTjUv7\",\"13o9KUMcmEdhtjXRaJ5AANHLZWBoGcTmF4MFw3MjQbubjR57jXW\",\"13s2mVc16F2dubZWPLNDyTvLbQbJJcndJ7o27vdj4nnpEqRkmkW\",\"12z4nUiayZnbW46azcegBBB9yGkchFb1Zm7EPuh6eV1r2HT1NgC\",\"13buBykFQf5VaQtv7mWj2PBY9Lq4i1DeXhg7C4Vbu3ppzqqNkTH\",\"13buBykFQf5VaQtv7mWj2PBY9Lq4i1DeXhg7C4Vbu3ppzqqNkTH\",\"14a5sytsEVKBVhGsVz2rJDkxf1cs1L89zvtFjmPtmPzrQHXPVjF\",\"14a5sytsEVKBVhGsVz2rJDkxf1cs1L89zvtFjmPtmPzrQHXPVjF\",\"14X1W4KJr9QyHuqu6myDBpAdd6ouQbPYL3B4rmJvJjd2GKkUdBj\",\"14cLFi9kcteykbXX4fHNkLPhp3pyS8LpPancCJ6QFoMzS9pQcqG\",\"13mRJKFBgWWe1k83MKmpiRinkb6GDcX1piwWoH7S8RA8MuMDE4b\",\"14gBAk2RW8jARJoNY39CvLJyXjDQLx4Uj7VdJM47ep3SbixsugY\",\"14i6nM1RbWbjQFg5NFbZS3aZJgpUGZUx5toarz6jZLPpNAb95Tq\",\"14i3sMETM5PNazzcCvRUCjH6c9juCtWB2Z6UW8VFTAy1dDLzLdc\",\"14i6nM1RbWbjQFg5NFbZS3aZJgpUGZUx5toarz6jZLPpNAb95Tq\",\"14i6nM1RbWbjQFg5NFbZS3aZJgpUGZUx5toarz6jZLPpNAb95Tq\",\"12xUoMKwf12ABjNx4VCvYcNkX79gW1kzz2JnBLxkFbjswRczRvM\",\"13XZMwqMhZnjCK7JddxYBxpYf9cCLqEZGp4wHHTNSPvwRJ1gjPs\",\"13zzVQKvYM7QBYYpcEdz46Eprjj1ai2BhRdYZhFZfV6KKDgtsjn\",\"12ymxmzj2PHBdPv8pJZreUfa6twLWwcS3Y3ZdnP8UuDgaeGmK7p\",\"14Vh42vnNws4wBStivM6gPevb7sNAbWMHqsWKb617TSxr7mReL4\",\"12ymxmzj2PHBdPv8pJZreUfa6twLWwcS3Y3ZdnP8UuDgaeGmK7p\",\"14eVPPhEPT3WwdRMqNEfbv6Pm6BADS8dCzT1auf5bKX74oTipbD\",\"1373AqVQ2ZoMnzC5eHmzuRfMkmeFumdarza2GcLxbA9SrkoN8LK\",\"13hFYvVmD2US31aVSKCkvkUoDf8uAtS8UUWnGDjvDoCewDafBXj\",\"14Y2o9cMKEhTJ87G19Sp4occBrQxVdE3mJM3xMiJEj1auLF3Qga\",\"13buBykFQf5VaQtv7mWj2PBY9Lq4i1DeXhg7C4Vbu3ppzqqNkTH\",\"13buBykFQf5VaQtv7mWj2PBY9Lq4i1DeXhg7C4Vbu3ppzqqNkTH\",\"13buBykFQf5VaQtv7mWj2PBY9Lq4i1DeXhg7C4Vbu3ppzqqNkTH\",\"13buBykFQf5VaQtv7mWj2PBY9Lq4i1DeXhg7C4Vbu3ppzqqNkTH\",\"14e35CChhsnuHJxjjzYAxsHKBKDgjUop4GuD8esB7gE2VDoyPXT\",\"13EEVvbnpmjgwmEUDnYBLbQxbbAj9kiYWTU853QYX3uNC4xw4Le\",\"13EEVvbnpmjgwmEUDnYBLbQxbbAj9kiYWTU853QYX3uNC4xw4Le\",\"13zCZhFapZHTgsDDba76Ts9yATNAhULH2Dm1df6AxbrMuZqySP5\",\"12z4nUiayZnbW46azcegBBB9yGkchFb1Zm7EPuh6eV1r2HT1NgC\",\"12z4nUiayZnbW46azcegBBB9yGkchFb1Zm7EPuh6eV1r2HT1NgC\",\"12z4nUiayZnbW46azcegBBB9yGkchFb1Zm7EPuh6eV1r2HT1NgC\",\"14cKr7Qs93gdyLguKXf6Pg2SdryopG7dWSgiC6JWKHozuRQjmK8\",\"13q8hu17nMuZTDoXBXCLiiG59qasZXvrbme9WnLhahW1VAkR3rN\",\"14Ak9NAUHN9SHdbTq5te988yStzRaCqSGtcnQ3N2d3vA1YsUzuK\",\"141yoNX5qmd313Rx1a1zvWD3T2PVUm6EdzZcFpssH3HJBF3ucvg\",\"13zjsrN7BAom45N7DXornx7htbMgJwa6azn4G6UcesgASrsTomv\",\"13zjsrN7BAom45N7DXornx7htbMgJwa6azn4G6UcesgASrsTomv\",\"13zjsrN7BAom45N7DXornx7htbMgJwa6azn4G6UcesgASrsTomv\",\"142MT8yuvepnVCwkVxgBPddotHcXKJXtw1yCXVhobawMv3w8L99\",\"14mhFy8dVhy7eCzyNQWgCQRk9miduSW4raZdbjr1iRquXGmLt24\",\"148sAphN7RmmiGEYXz1dghgZTLz8kUphBrToPUgWQqNZXWuHbJE\",\"148sAphN7RmmiGEYXz1dghgZTLz8kUphBrToPUgWQqNZXWuHbJE\",\"146ZSvFEnjARrnGEZSKavQ7YmvXoweKKk6ib4Az2e4rx37PscXY\",\"13E4Z24HzqqvaXFhXgLsK3zPxyMF88C1M246TFNHnAJqg6KCtnT\",\"14a5sytsEVKBVhGsVz2rJDkxf1cs1L89zvtFjmPtmPzrQHXPVjF\",\"14a5sytsEVKBVhGsVz2rJDkxf1cs1L89zvtFjmPtmPzrQHXPVjF\",\"14a5sytsEVKBVhGsVz2rJDkxf1cs1L89zvtFjmPtmPzrQHXPVjF\"],\"score\":{\"__ndarray__\":\"AAAAAAAA0D8AAAAAAADQPwAAAAAAANA/AAAAAAAA0D8AAAAAAADQPy1DHOviNno/AAAAAAAA0D+amZmZmZntPwAAAAAAANA/VFInoImwwT9JLv8h/falPx3J5T+k374/AAAAAAAA0D+5/If029fBPwn5oGez6uM/hlrTvOMUzT8AAAAAAADQPwAAAAAAANA/AAAAAAAA0D8wuycPC7W2P8GopE5AE8E/AAAAAAAA0D8AAAAAAADQP1InoImw4cE/tvP91Hjp5j/6fmq8dJNYPwAAAAAAANA/AAAAAAAA0D8AAAAAAADQP30/NV66Sbw/XdxGA3gLtD8AAAAAAADQPwAAAAAAANA/OdbFbTSA4z8AAAAAAADQPwAAAAAAANA/AAAAAAAA0D/8GHPXEvLpP9uK/WX35Os/3+ALk6mC3T8AAAAAAADQP1fsL7snD+M/zF1LyAc9wz8AAAAAAADQPwAAAAAAANA/AAAAAAAA0D8PnDOitDfAPwAAAAAAANA/4zYawFsgwT8JG55eKcvAP6VOQBNhw+M/0ETY8PRK6T9I4XoUrkfpP86I0t7gC5M/at5xio7k7D99rrZif9m9P588LNSa5n0/vJaQD3o2wz+GWtO84xSNP4v9ZffkYcE/AAAAAAAA0D/7OnDOiNKePwAAAAAAANA/gnNGlPYG1z9TliGOdXHLPwAAAAAAANA/w9MrZRni6j/4wmSqYFTCPzLmriXkg74/ppvEILBywD9GJXUCmgjTP8cpOpLLf7g/AAAAAAAA0D8K16NwPQqXP8bctYR80KM/O99PjZduwj8AAAAAAADQPz81XrpJDNo/okW28/3UwD8AAAAAAADQP0oMAiuHFsE/FvvL7snD5D/3deCcEaXhPwAAAAAAANA/wTkjSnuDvz/KVMGopE7AP2iz6nO1FcM/N4lBYOXQ6D9/2T15WKjhPwAAAAAAANA/eVioNc075D8OT6+UZYjDPwAAAAAAANA/4lgXt9EAvj8AAAAAAADQPwAAAAAAANA/AAAAAAAA0D8AAAAAAADuP9V46SYxCLw/AAAAAAAA0D8AAAAAAADQP5eQD3o2q74/L26jAbwFUj8AAAAAAADQP7Hh6ZWyDME/AAAAAAAA0D8AAAAAAADQPwAAAAAAANA/AAAAAAAA0D/XNO84RUfCP9/gC5Opgu8//tR46SYx4j8AAAAAAADQPwAAAAAAANA/i2zn+6nxwj8AAAAAAADQP3Qkl/+Qfrs/AAAAAAAA0D8bnl4pyxDlPwAAAAAAANA/B1+YTBWM7D8Ab4EExY/BP6jGSzeJQcg/AAAAAAAA0D9Pr5RliGPtP2PuWkI+6ME/2qz6XG3F7D+fPCzUmubtPw==\",\"dtype\":\"float64\",\"shape\":[128]},\"score_update_height\":[13695,13695,13695,13695,13695,13695,13695,13695,13695,13695,13695,13695,13695,13695,13695,13695,13695,13695,13695,13695,13695,13695,13695,13695,13695,13695,13695,13695,13695,13695,13695,13695,13695,13695,13695,13695,13695,13695,13695,13695,13695,13695,13695,13695,13695,13695,13695,13695,13695,13695,13695,13695,13695,13695,13695,13695,13695,13695,13695,13695,13695,13695,13695,13695,13695,13695,13695,13695,13695,13695,13695,13695,13695,13695,13695,13695,13695,13695,13695,13695,13695,13695,13695,13695,13695,13695,13695,13695,13695,13695,13695,13695,13695,13695,13695,13695,13695,13695,13695,13695,13695,13695,13695,13695,13695,13695,13695,13695,13695,13695,13695,13695,13695,13695,13695,13695,13695,13695,13695,13695,13695,13695,13695,13695,13695,13695,13695,13695],\"short_city\":[\"Austin\",\"Austin\",\"Austin\",\"Tracy\",\"Vinalhaven\",\"Austin\",\"Saratoga\",\"Austin\",\"SF\",\"SF\",\"Austin\",\"SF\",\"Oakland\",\"Austin\",\"SF\",\"Austin\",\"Austin\",\"Austin\",\"Georgetown\",\"Austin\",\"Austin\",\"Austin\",\"Austin\",\"Austin\",\"Austin\",\"Austin\",\"Austin\",\"Austin\",\"Austin\",\"Austin\",\"Austin\",\"Austin\",\"Austin\",\"Austin\",\"Austin\",\"Bentonville\",\"Round Rock\",\"Austin\",\"Austin\",\"Austin\",\"Austin\",\"Austin\",\"Austin\",\"Austin\",\"Bentonville\",\"Austin\",\"Austin\",\"Sunset Valley\",\"Austin\",\"Austin\",\"Austin\",\"Austin\",\"Austin\",\"Austin\",\"Austin\",\"Austin\",\"Austin\",\"Austin\",\"Austin\",\"Austin\",\"Austin\",\"Austin\",\"Austin\",\"Austin\",\"Austin\",\"Austin\",\"Austin\",\"Austin\",\"Austin\",\"Austin\",\"Austin\",\"Austin\",\"San Antonio\",\"Austin\",\"Austin\",\"Austin\",\"Austin\",\"SF\",\"SF\",\"Novato\",\"SF\",\"Berkeley\",\"Berkeley\",\"San Rafael\",\"SF\",\"Austin\",\"SF\",\"Austin\",\"SF\",\"Austin\",\"Austin\",\"SF\",\"Cupertino\",\"Austin\",\"Napa\",\"Foster City\",\"Napa\",\"SF\",\"SF\",\"Davis\",\"Santa Clara\",\"Novato\",\"SF\",\"Novato\",\"SF\",\"SF\",\"Sacramento\",\"Sacramento\",\"Cupertino\",\"SF\",\"SF\",\"SF\",\"Hingham\",\"East Palo Alto\",\"Cupertino\",\"San Jose\",\"San Jose\",\"San Jose\",\"SF\",\"SF\",\"SF\",\"SF\",\"SF\",\"Berkeley\",\"SF\",\"Berkeley\",\"Berkeley\",\"Berkeley\"],\"short_country\":[\"US\",\"US\",\"US\",\"US\",\"US\",\"US\",\"US\",\"US\",\"US\",\"US\",\"US\",\"US\",\"US\",\"US\",\"US\",\"US\",\"US\",\"US\",\"US\",\"US\",\"US\",\"US\",\"US\",\"US\",\"US\",\"US\",\"US\",\"US\",\"US\",\"US\",\"US\",\"US\",\"US\",\"US\",\"US\",\"US\",\"US\",\"US\",\"US\",\"US\",\"US\",\"US\",\"US\",\"US\",\"US\",\"US\",\"US\",\"US\",\"US\",\"US\",\"US\",\"US\",\"US\",\"US\",\"US\",\"US\",\"US\",\"US\",\"US\",\"US\",\"US\",\"US\",\"US\",\"US\",\"US\",\"US\",\"US\",\"US\",\"US\",\"US\",\"US\",\"US\",\"US\",\"US\",\"US\",\"US\",\"US\",\"US\",\"US\",\"US\",\"US\",\"US\",\"US\",\"US\",\"US\",\"US\",\"US\",\"US\",\"US\",\"US\",\"US\",\"US\",\"US\",\"US\",\"US\",\"US\",\"US\",\"US\",\"US\",\"US\",\"US\",\"US\",\"US\",\"US\",\"US\",\"US\",\"US\",\"US\",\"US\",\"US\",\"US\",\"US\",\"US\",\"US\",\"US\",\"US\",\"US\",\"US\",\"US\",\"US\",\"US\",\"US\",\"US\",\"US\",\"US\",\"US\",\"US\",\"US\"],\"short_state\":[\"TX\",\"TX\",\"TX\",\"CA\",\"ME\",\"TX\",\"CA\",\"TX\",\"CA\",\"CA\",\"TX\",\"CA\",\"CA\",\"TX\",\"CA\",\"TX\",\"TX\",\"TX\",\"TX\",\"TX\",\"TX\",\"TX\",\"TX\",\"TX\",\"TX\",\"TX\",\"TX\",\"TX\",\"TX\",\"TX\",\"TX\",\"TX\",\"TX\",\"TX\",\"TX\",\"AR\",\"TX\",\"TX\",\"TX\",\"TX\",\"TX\",\"TX\",\"TX\",\"TX\",\"AR\",\"TX\",\"TX\",\"TX\",\"TX\",\"TX\",\"TX\",\"TX\",\"TX\",\"TX\",\"TX\",\"TX\",\"TX\",\"TX\",\"TX\",\"TX\",\"TX\",\"TX\",\"TX\",\"TX\",\"TX\",\"TX\",\"TX\",\"TX\",\"TX\",\"TX\",\"TX\",\"TX\",\"TX\",\"TX\",\"TX\",\"TX\",\"TX\",\"CA\",\"CA\",\"CA\",\"CA\",\"CA\",\"CA\",\"CA\",\"CA\",\"TX\",\"CA\",\"TX\",\"CA\",\"TX\",\"TX\",\"CA\",\"CA\",\"TX\",\"CA\",\"CA\",\"CA\",\"CA\",\"CA\",\"CA\",\"CA\",\"CA\",\"CA\",\"CA\",\"CA\",\"CA\",\"CA\",\"CA\",\"CA\",\"CA\",\"CA\",\"CA\",\"MA\",\"CA\",\"CA\",\"CA\",\"CA\",\"CA\",\"CA\",\"CA\",\"CA\",\"CA\",\"CA\",\"CA\",\"CA\",\"CA\",\"CA\",\"CA\"],\"short_street\":[\"Mesa Verde Dr\",\"Emmett Pkwy\",\"Larry Ln\",\"Remington Way\",\"Unknown\",\"W 2nd St\",\"De Havilland Ct\",\"Manchaca Rd\",\"Noriega St\",\"Lincoln Way\",\"Lorrain St\",\"Clayton St\",\"Ocean View Dr\",\"E 4th St\",\"Bryant St\",\"Norwalk Ln\",\"Wells Branch Pkwy\",\"Patricia Ct\",\"Winecup Way\",\"Rainey St\",\"Velasquez Dr\",\"Lakecliff Hills Ln\",\"Belfin Dr\",\"W 15th St\",\"W 5th St\",\"Nueces St\",\"Unnamed Road\",\"Betty Cook Dr\",\"Lowell Ln N\",\"Shoalwood Ave\",\"Forest Trail\",\"Yandall Dr\",\"Crystal Water Dr\",\"S Lamar Blvd\",\"Bennett Ave\",\"SW Boulder St\",\"Manjack Cay Dr\",\"Manchaca Rd\",\"Manchaca Rd\",\"Congress Ave\",\"Sales St\",\"W 6th St\",\"Holly St\",\"Manana St\",\"SW Boulder St\",\"Williams Ridge Way\",\"Durwood St\",\"Pillow Rd\",\"W Milton St\",\"Guadalupe St\",\"E Riverside Dr\",\"Unknown\",\"S Lamar Blvd\",\"W 4th St\",\"S Lamar Blvd\",\"Congress Ave\",\"Congress Ave\",\"E 2nd St\",\"Congress Ave\",\"Woodmont Ave\",\"S 1st St\",\"Congress Ave\",\"S Congress Ave\",\"Congress Ave\",\"Congress Ave\",\"Davis Ln\",\"E 6th St\",\"E 6th St\",\"W Milton St\",\"Graywood Cove\",\"E 11th St\",\"Maxwell Ln\",\"Gallant Forest\",\"W 5th St\",\"TX-343 Loop\",\"E 8th St\",\"W 35th St\",\"Sacramento St\",\"Stanyan St\",\"Malobar Dr\",\"King St\",\"Acton St\",\"Ashby Ave\",\"Las Colindas Rd\",\"Mission St\",\"Nueces St\",\"Gough St\",\"Congress Ave\",\"Filbert St\",\"Faro Dr\",\"Congress Ave\",\"Division St\",\"Colby Ave\",\"Rainey St\",\"Tade Ct\",\"Widgeon St\",\"Agile Street\",\"Octavia St\",\"Haight St\",\"Quail St\",\"Alviso St\",\"Andale Ave\",\"Federal St\",\"Andale Ave\",\"Mission St\",\"3rd St\",\"11th St\",\"O St\",\"Bret Ave\",\"Laurel St\",\"Collins St\",\"Manzanita Ave\",\"Thaxter St\",\"E Okeefe St\",\"Pineville Ave\",\"Rainbow Dr\",\"Unknown\",\"Arlington Ln\",\"Montgomery St\",\"Capistrano Ave\",\"Octavia St\",\"20th St\",\"Collingwood St\",\"Cornell Ave\",\"Harrison St\",\"Ashby Ave\",\"Ashby Ave\",\"Carrison St\"]},\"selected\":{\"id\":\"1161\",\"type\":\"Selection\"},\"selection_policy\":{\"id\":\"1162\",\"type\":\"UnionRenderers\"}},\"id\":\"1105\",\"type\":\"ColumnDataSource\"},{\"attributes\":{\"axis_label\":\"Address\",\"formatter\":{\"id\":\"1158\",\"type\":\"BasicTickFormatter\"},\"ticker\":{\"id\":\"1116\",\"type\":\"BasicTicker\"}},\"id\":\"1115\",\"type\":\"LinearAxis\"},{\"attributes\":{},\"id\":\"1158\",\"type\":\"BasicTickFormatter\"},{\"attributes\":{\"ticker\":{\"id\":\"1116\",\"type\":\"BasicTicker\"}},\"id\":\"1119\",\"type\":\"Grid\"},{\"attributes\":{\"text\":\"\"},\"id\":\"1155\",\"type\":\"Title\"},{\"attributes\":{},\"id\":\"1161\",\"type\":\"Selection\"},{\"attributes\":{},\"id\":\"1116\",\"type\":\"BasicTicker\"},{\"attributes\":{\"axis_label\":\"Score\",\"formatter\":{\"id\":\"1156\",\"type\":\"BasicTickFormatter\"},\"ticker\":{\"id\":\"1121\",\"type\":\"BasicTicker\"}},\"id\":\"1120\",\"type\":\"LinearAxis\"},{\"attributes\":{\"dimension\":1,\"ticker\":{\"id\":\"1121\",\"type\":\"BasicTicker\"}},\"id\":\"1124\",\"type\":\"Grid\"},{\"attributes\":{\"bottom_units\":\"screen\",\"fill_alpha\":{\"value\":0.5},\"fill_color\":{\"value\":\"lightgrey\"},\"left_units\":\"screen\",\"level\":\"overlay\",\"line_alpha\":{\"value\":1.0},\"line_color\":{\"value\":\"black\"},\"line_dash\":[4,4],\"line_width\":{\"value\":2},\"render_mode\":\"css\",\"right_units\":\"screen\",\"top_units\":\"screen\"},\"id\":\"1160\",\"type\":\"BoxAnnotation\"},{\"attributes\":{\"fill_color\":{\"value\":\"#1f77b4\"},\"line_color\":{\"value\":\"#1f77b4\"},\"top\":{\"field\":\"score\"},\"width\":{\"value\":0.8},\"x\":{\"field\":\"id\"}},\"id\":\"1139\",\"type\":\"VBar\"},{\"attributes\":{},\"id\":\"1113\",\"type\":\"LinearScale\"},{\"attributes\":{},\"id\":\"1156\",\"type\":\"BasicTickFormatter\"},{\"attributes\":{},\"id\":\"1125\",\"type\":\"PanTool\"},{\"attributes\":{},\"id\":\"1111\",\"type\":\"LinearScale\"},{\"attributes\":{},\"id\":\"1126\",\"type\":\"WheelZoomTool\"},{\"attributes\":{\"overlay\":{\"id\":\"1160\",\"type\":\"BoxAnnotation\"}},\"id\":\"1127\",\"type\":\"BoxZoomTool\"},{\"attributes\":{\"callback\":null},\"id\":\"1109\",\"type\":\"DataRange1d\"},{\"attributes\":{},\"id\":\"1128\",\"type\":\"SaveTool\"},{\"attributes\":{},\"id\":\"1162\",\"type\":\"UnionRenderers\"},{\"attributes\":{},\"id\":\"1129\",\"type\":\"ResetTool\"},{\"attributes\":{\"callback\":null},\"id\":\"1107\",\"type\":\"DataRange1d\"},{\"attributes\":{},\"id\":\"1130\",\"type\":\"HelpTool\"},{\"attributes\":{\"callback\":null,\"tooltips\":[[\"addr\",\"@addr\"],[\"@score\",\"@score\"]]},\"id\":\"1143\",\"type\":\"HoverTool\"}],\"root_ids\":[\"1106\"]},\"title\":\"Bokeh Application\",\"version\":\"1.3.4\"}};\n",
       "  var render_items = [{\"docid\":\"137e4cc9-39ce-4117-b0aa-0895ca3cd9c1\",\"roots\":{\"1106\":\"ff6a5ef5-2e27-4443-a7dc-ad82fa900c7f\"}}];\n",
       "  root.Bokeh.embed.embed_items_notebook(docs_json, render_items);\n",
       "\n",
       "  }\n",
       "  if (root.Bokeh !== undefined) {\n",
       "    embed_document(root);\n",
       "  } else {\n",
       "    var attempts = 0;\n",
       "    var timer = setInterval(function(root) {\n",
       "      if (root.Bokeh !== undefined) {\n",
       "        embed_document(root);\n",
       "        clearInterval(timer);\n",
       "      }\n",
       "      attempts++;\n",
       "      if (attempts > 100) {\n",
       "        console.log(\"Bokeh: ERROR: Unable to run BokehJS code because BokehJS library is missing\");\n",
       "        clearInterval(timer);\n",
       "      }\n",
       "    }, 10, root)\n",
       "  }\n",
       "})(window);"
      ],
      "application/vnd.bokehjs_exec.v0+json": ""
     },
     "metadata": {
      "application/vnd.bokehjs_exec.v0+json": {
       "id": "1106"
      }
     },
     "output_type": "display_data"
    }
   ],
   "source": [
    "source = ColumnDataSource(df)\n",
    "p = figure()\n",
    "\n",
    "p.vbar(x='id', top='score', width=0.8, source=source)\n",
    "hover = HoverTool(tooltips=[('addr', '@addr'), ('@score', '@score')])\n",
    "p.add_tools(hover)\n",
    "p.xaxis.axis_label = \"Address\"\n",
    "p.yaxis.axis_label = \"Score\"\n",
    "\n",
    "show(p)"
   ]
  },
  {
   "cell_type": "markdown",
   "metadata": {},
   "source": [
    "### Account stats"
   ]
  },
  {
   "cell_type": "code",
   "execution_count": 13,
   "metadata": {},
   "outputs": [],
   "source": [
    "accounts = get_accounts(API)"
   ]
  },
  {
   "cell_type": "code",
   "execution_count": 14,
   "metadata": {},
   "outputs": [],
   "source": [
    "df = pd.DataFrame(accounts)"
   ]
  },
  {
   "cell_type": "code",
   "execution_count": 15,
   "metadata": {},
   "outputs": [
    {
     "name": "stdout",
     "output_type": "stream",
     "text": [
      "Top 10 account balances:\n"
     ]
    },
    {
     "data": {
      "text/html": [
       "<div>\n",
       "<style scoped>\n",
       "    .dataframe tbody tr th:only-of-type {\n",
       "        vertical-align: middle;\n",
       "    }\n",
       "\n",
       "    .dataframe tbody tr th {\n",
       "        vertical-align: top;\n",
       "    }\n",
       "\n",
       "    .dataframe thead th {\n",
       "        text-align: right;\n",
       "    }\n",
       "</style>\n",
       "<table border=\"1\" class=\"dataframe\">\n",
       "  <thead>\n",
       "    <tr style=\"text-align: right;\">\n",
       "      <th></th>\n",
       "      <th>address</th>\n",
       "      <th>balance</th>\n",
       "    </tr>\n",
       "  </thead>\n",
       "  <tbody>\n",
       "    <tr>\n",
       "      <th>34</th>\n",
       "      <td>13jL4pTLq4JQBwDoH1ZBX3VPchmeTZxQSGi4cnyXXuzPPoKxcd5</td>\n",
       "      <td>3430358564828</td>\n",
       "    </tr>\n",
       "    <tr>\n",
       "      <th>65</th>\n",
       "      <td>1398hLeHESZHE5jVtaLAV5fdg2vrUeZEs2B92t7TzeQTtugr8dL</td>\n",
       "      <td>2422276555041</td>\n",
       "    </tr>\n",
       "    <tr>\n",
       "      <th>93</th>\n",
       "      <td>14a5sytsEVKBVhGsVz2rJDkxf1cs1L89zvtFjmPtmPzrQHXPVjF</td>\n",
       "      <td>2002394550220</td>\n",
       "    </tr>\n",
       "    <tr>\n",
       "      <th>78</th>\n",
       "      <td>14GWyFj9FjLHzoN3aX7Tq7PL6fEg4dfWPY8CrK8b9S5ZrcKDz6S</td>\n",
       "      <td>1146552414212</td>\n",
       "    </tr>\n",
       "    <tr>\n",
       "      <th>81</th>\n",
       "      <td>12yyntxFfPhqXDKuEvmAWABNTRnXtYmcgS33WN4tk5YtyaBLDXo</td>\n",
       "      <td>1145129728384</td>\n",
       "    </tr>\n",
       "    <tr>\n",
       "      <th>45</th>\n",
       "      <td>13o9KUMcmEdhtjXRaJ5AANHLZWBoGcTmF4MFw3MjQbubjR57jXW</td>\n",
       "      <td>1077618381143</td>\n",
       "    </tr>\n",
       "    <tr>\n",
       "      <th>77</th>\n",
       "      <td>12z4nUiayZnbW46azcegBBB9yGkchFb1Zm7EPuh6eV1r2HT1NgC</td>\n",
       "      <td>722855497134</td>\n",
       "    </tr>\n",
       "    <tr>\n",
       "      <th>71</th>\n",
       "      <td>14i6nM1RbWbjQFg5NFbZS3aZJgpUGZUx5toarz6jZLPpNAb95Tq</td>\n",
       "      <td>703180274991</td>\n",
       "    </tr>\n",
       "    <tr>\n",
       "      <th>85</th>\n",
       "      <td>14UgUhAPq53iR8vfde6sU4vLPWRe6kZ3ioV7xaVb8hr3oafaok6</td>\n",
       "      <td>655172741462</td>\n",
       "    </tr>\n",
       "    <tr>\n",
       "      <th>74</th>\n",
       "      <td>135bB6B7gGrsdPNcFwvcn12KPjTktSNZvmVbvSBKubCtEgxkpPJ</td>\n",
       "      <td>636259109915</td>\n",
       "    </tr>\n",
       "  </tbody>\n",
       "</table>\n",
       "</div>"
      ],
      "text/plain": [
       "                                                address        balance\n",
       "34  13jL4pTLq4JQBwDoH1ZBX3VPchmeTZxQSGi4cnyXXuzPPoKxcd5  3430358564828\n",
       "65  1398hLeHESZHE5jVtaLAV5fdg2vrUeZEs2B92t7TzeQTtugr8dL  2422276555041\n",
       "93  14a5sytsEVKBVhGsVz2rJDkxf1cs1L89zvtFjmPtmPzrQHXPVjF  2002394550220\n",
       "78  14GWyFj9FjLHzoN3aX7Tq7PL6fEg4dfWPY8CrK8b9S5ZrcKDz6S  1146552414212\n",
       "81  12yyntxFfPhqXDKuEvmAWABNTRnXtYmcgS33WN4tk5YtyaBLDXo  1145129728384\n",
       "45  13o9KUMcmEdhtjXRaJ5AANHLZWBoGcTmF4MFw3MjQbubjR57jXW  1077618381143\n",
       "77  12z4nUiayZnbW46azcegBBB9yGkchFb1Zm7EPuh6eV1r2HT1NgC  722855497134 \n",
       "71  14i6nM1RbWbjQFg5NFbZS3aZJgpUGZUx5toarz6jZLPpNAb95Tq  703180274991 \n",
       "85  14UgUhAPq53iR8vfde6sU4vLPWRe6kZ3ioV7xaVb8hr3oafaok6  655172741462 \n",
       "74  135bB6B7gGrsdPNcFwvcn12KPjTktSNZvmVbvSBKubCtEgxkpPJ  636259109915 "
      ]
     },
     "execution_count": 15,
     "metadata": {},
     "output_type": "execute_result"
    }
   ],
   "source": [
    "print(f'Top {TOP} account balances:')\n",
    "df.sort_values('balance', ascending=False)[['address', 'balance']].head(TOP)"
   ]
  },
  {
   "cell_type": "markdown",
   "metadata": {},
   "source": [
    "### Challenge Stats"
   ]
  },
  {
   "cell_type": "code",
   "execution_count": 16,
   "metadata": {},
   "outputs": [],
   "source": [
    "challenges = get_challenges(API, NUM_CHALLENGES)"
   ]
  },
  {
   "cell_type": "code",
   "execution_count": 17,
   "metadata": {},
   "outputs": [],
   "source": [
    "df = pd.DataFrame(challenges)"
   ]
  },
  {
   "cell_type": "code",
   "execution_count": 18,
   "metadata": {},
   "outputs": [
    {
     "name": "stdout",
     "output_type": "stream",
     "text": [
      "Total Successful challenges past 500 challenges: 115\n"
     ]
    }
   ],
   "source": [
    "print(f\"Total Successful challenges past {NUM_CHALLENGES} challenges: {sum(df['success'] == 1)}\")"
   ]
  },
  {
   "cell_type": "code",
   "execution_count": 19,
   "metadata": {},
   "outputs": [
    {
     "name": "stdout",
     "output_type": "stream",
     "text": [
      "Entirely dud challenges since past 500 challenges: 93\n"
     ]
    }
   ],
   "source": [
    "print(f\"Entirely dud challenges since past {NUM_CHALLENGES} challenges: {sum(df['dud'] == 1)}\")"
   ]
  },
  {
   "cell_type": "code",
   "execution_count": null,
   "metadata": {},
   "outputs": [],
   "source": []
  }
 ],
 "metadata": {
  "kernelspec": {
   "display_name": "Python 3",
   "language": "python",
   "name": "python3"
  },
  "language_info": {
   "codemirror_mode": {
    "name": "ipython",
    "version": 3
   },
   "file_extension": ".py",
   "mimetype": "text/x-python",
   "name": "python",
   "nbconvert_exporter": "python",
   "pygments_lexer": "ipython3",
   "version": "3.7.3"
  }
 },
 "nbformat": 4,
 "nbformat_minor": 2
}
