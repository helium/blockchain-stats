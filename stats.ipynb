{
 "cells": [
  {
   "cell_type": "markdown",
   "metadata": {},
   "source": [
    "### Imports"
   ]
  },
  {
   "cell_type": "code",
   "execution_count": 1,
   "metadata": {},
   "outputs": [
    {
     "data": {
      "text/html": [
       "\n",
       "    <div class=\"bk-root\">\n",
       "        <a href=\"https://bokeh.pydata.org\" target=\"_blank\" class=\"bk-logo bk-logo-small bk-logo-notebook\"></a>\n",
       "        <span id=\"1001\">Loading BokehJS ...</span>\n",
       "    </div>"
      ]
     },
     "metadata": {},
     "output_type": "display_data"
    },
    {
     "data": {
      "application/javascript": [
       "\n",
       "(function(root) {\n",
       "  function now() {\n",
       "    return new Date();\n",
       "  }\n",
       "\n",
       "  var force = true;\n",
       "\n",
       "  if (typeof root._bokeh_onload_callbacks === \"undefined\" || force === true) {\n",
       "    root._bokeh_onload_callbacks = [];\n",
       "    root._bokeh_is_loading = undefined;\n",
       "  }\n",
       "\n",
       "  var JS_MIME_TYPE = 'application/javascript';\n",
       "  var HTML_MIME_TYPE = 'text/html';\n",
       "  var EXEC_MIME_TYPE = 'application/vnd.bokehjs_exec.v0+json';\n",
       "  var CLASS_NAME = 'output_bokeh rendered_html';\n",
       "\n",
       "  /**\n",
       "   * Render data to the DOM node\n",
       "   */\n",
       "  function render(props, node) {\n",
       "    var script = document.createElement(\"script\");\n",
       "    node.appendChild(script);\n",
       "  }\n",
       "\n",
       "  /**\n",
       "   * Handle when an output is cleared or removed\n",
       "   */\n",
       "  function handleClearOutput(event, handle) {\n",
       "    var cell = handle.cell;\n",
       "\n",
       "    var id = cell.output_area._bokeh_element_id;\n",
       "    var server_id = cell.output_area._bokeh_server_id;\n",
       "    // Clean up Bokeh references\n",
       "    if (id != null && id in Bokeh.index) {\n",
       "      Bokeh.index[id].model.document.clear();\n",
       "      delete Bokeh.index[id];\n",
       "    }\n",
       "\n",
       "    if (server_id !== undefined) {\n",
       "      // Clean up Bokeh references\n",
       "      var cmd = \"from bokeh.io.state import curstate; print(curstate().uuid_to_server['\" + server_id + \"'].get_sessions()[0].document.roots[0]._id)\";\n",
       "      cell.notebook.kernel.execute(cmd, {\n",
       "        iopub: {\n",
       "          output: function(msg) {\n",
       "            var id = msg.content.text.trim();\n",
       "            if (id in Bokeh.index) {\n",
       "              Bokeh.index[id].model.document.clear();\n",
       "              delete Bokeh.index[id];\n",
       "            }\n",
       "          }\n",
       "        }\n",
       "      });\n",
       "      // Destroy server and session\n",
       "      var cmd = \"import bokeh.io.notebook as ion; ion.destroy_server('\" + server_id + \"')\";\n",
       "      cell.notebook.kernel.execute(cmd);\n",
       "    }\n",
       "  }\n",
       "\n",
       "  /**\n",
       "   * Handle when a new output is added\n",
       "   */\n",
       "  function handleAddOutput(event, handle) {\n",
       "    var output_area = handle.output_area;\n",
       "    var output = handle.output;\n",
       "\n",
       "    // limit handleAddOutput to display_data with EXEC_MIME_TYPE content only\n",
       "    if ((output.output_type != \"display_data\") || (!output.data.hasOwnProperty(EXEC_MIME_TYPE))) {\n",
       "      return\n",
       "    }\n",
       "\n",
       "    var toinsert = output_area.element.find(\".\" + CLASS_NAME.split(' ')[0]);\n",
       "\n",
       "    if (output.metadata[EXEC_MIME_TYPE][\"id\"] !== undefined) {\n",
       "      toinsert[toinsert.length - 1].firstChild.textContent = output.data[JS_MIME_TYPE];\n",
       "      // store reference to embed id on output_area\n",
       "      output_area._bokeh_element_id = output.metadata[EXEC_MIME_TYPE][\"id\"];\n",
       "    }\n",
       "    if (output.metadata[EXEC_MIME_TYPE][\"server_id\"] !== undefined) {\n",
       "      var bk_div = document.createElement(\"div\");\n",
       "      bk_div.innerHTML = output.data[HTML_MIME_TYPE];\n",
       "      var script_attrs = bk_div.children[0].attributes;\n",
       "      for (var i = 0; i < script_attrs.length; i++) {\n",
       "        toinsert[toinsert.length - 1].firstChild.setAttribute(script_attrs[i].name, script_attrs[i].value);\n",
       "      }\n",
       "      // store reference to server id on output_area\n",
       "      output_area._bokeh_server_id = output.metadata[EXEC_MIME_TYPE][\"server_id\"];\n",
       "    }\n",
       "  }\n",
       "\n",
       "  function register_renderer(events, OutputArea) {\n",
       "\n",
       "    function append_mime(data, metadata, element) {\n",
       "      // create a DOM node to render to\n",
       "      var toinsert = this.create_output_subarea(\n",
       "        metadata,\n",
       "        CLASS_NAME,\n",
       "        EXEC_MIME_TYPE\n",
       "      );\n",
       "      this.keyboard_manager.register_events(toinsert);\n",
       "      // Render to node\n",
       "      var props = {data: data, metadata: metadata[EXEC_MIME_TYPE]};\n",
       "      render(props, toinsert[toinsert.length - 1]);\n",
       "      element.append(toinsert);\n",
       "      return toinsert\n",
       "    }\n",
       "\n",
       "    /* Handle when an output is cleared or removed */\n",
       "    events.on('clear_output.CodeCell', handleClearOutput);\n",
       "    events.on('delete.Cell', handleClearOutput);\n",
       "\n",
       "    /* Handle when a new output is added */\n",
       "    events.on('output_added.OutputArea', handleAddOutput);\n",
       "\n",
       "    /**\n",
       "     * Register the mime type and append_mime function with output_area\n",
       "     */\n",
       "    OutputArea.prototype.register_mime_type(EXEC_MIME_TYPE, append_mime, {\n",
       "      /* Is output safe? */\n",
       "      safe: true,\n",
       "      /* Index of renderer in `output_area.display_order` */\n",
       "      index: 0\n",
       "    });\n",
       "  }\n",
       "\n",
       "  // register the mime type if in Jupyter Notebook environment and previously unregistered\n",
       "  if (root.Jupyter !== undefined) {\n",
       "    var events = require('base/js/events');\n",
       "    var OutputArea = require('notebook/js/outputarea').OutputArea;\n",
       "\n",
       "    if (OutputArea.prototype.mime_types().indexOf(EXEC_MIME_TYPE) == -1) {\n",
       "      register_renderer(events, OutputArea);\n",
       "    }\n",
       "  }\n",
       "\n",
       "  \n",
       "  if (typeof (root._bokeh_timeout) === \"undefined\" || force === true) {\n",
       "    root._bokeh_timeout = Date.now() + 5000;\n",
       "    root._bokeh_failed_load = false;\n",
       "  }\n",
       "\n",
       "  var NB_LOAD_WARNING = {'data': {'text/html':\n",
       "     \"<div style='background-color: #fdd'>\\n\"+\n",
       "     \"<p>\\n\"+\n",
       "     \"BokehJS does not appear to have successfully loaded. If loading BokehJS from CDN, this \\n\"+\n",
       "     \"may be due to a slow or bad network connection. Possible fixes:\\n\"+\n",
       "     \"</p>\\n\"+\n",
       "     \"<ul>\\n\"+\n",
       "     \"<li>re-rerun `output_notebook()` to attempt to load from CDN again, or</li>\\n\"+\n",
       "     \"<li>use INLINE resources instead, as so:</li>\\n\"+\n",
       "     \"</ul>\\n\"+\n",
       "     \"<code>\\n\"+\n",
       "     \"from bokeh.resources import INLINE\\n\"+\n",
       "     \"output_notebook(resources=INLINE)\\n\"+\n",
       "     \"</code>\\n\"+\n",
       "     \"</div>\"}};\n",
       "\n",
       "  function display_loaded() {\n",
       "    var el = document.getElementById(\"1001\");\n",
       "    if (el != null) {\n",
       "      el.textContent = \"BokehJS is loading...\";\n",
       "    }\n",
       "    if (root.Bokeh !== undefined) {\n",
       "      if (el != null) {\n",
       "        el.textContent = \"BokehJS \" + root.Bokeh.version + \" successfully loaded.\";\n",
       "      }\n",
       "    } else if (Date.now() < root._bokeh_timeout) {\n",
       "      setTimeout(display_loaded, 100)\n",
       "    }\n",
       "  }\n",
       "\n",
       "\n",
       "  function run_callbacks() {\n",
       "    try {\n",
       "      root._bokeh_onload_callbacks.forEach(function(callback) {\n",
       "        if (callback != null)\n",
       "          callback();\n",
       "      });\n",
       "    } finally {\n",
       "      delete root._bokeh_onload_callbacks\n",
       "    }\n",
       "    console.debug(\"Bokeh: all callbacks have finished\");\n",
       "  }\n",
       "\n",
       "  function load_libs(css_urls, js_urls, callback) {\n",
       "    if (css_urls == null) css_urls = [];\n",
       "    if (js_urls == null) js_urls = [];\n",
       "\n",
       "    root._bokeh_onload_callbacks.push(callback);\n",
       "    if (root._bokeh_is_loading > 0) {\n",
       "      console.debug(\"Bokeh: BokehJS is being loaded, scheduling callback at\", now());\n",
       "      return null;\n",
       "    }\n",
       "    if (js_urls == null || js_urls.length === 0) {\n",
       "      run_callbacks();\n",
       "      return null;\n",
       "    }\n",
       "    console.debug(\"Bokeh: BokehJS not loaded, scheduling load and callback at\", now());\n",
       "    root._bokeh_is_loading = css_urls.length + js_urls.length;\n",
       "\n",
       "    function on_load() {\n",
       "      root._bokeh_is_loading--;\n",
       "      if (root._bokeh_is_loading === 0) {\n",
       "        console.debug(\"Bokeh: all BokehJS libraries/stylesheets loaded\");\n",
       "        run_callbacks()\n",
       "      }\n",
       "    }\n",
       "\n",
       "    function on_error() {\n",
       "      console.error(\"failed to load \" + url);\n",
       "    }\n",
       "\n",
       "    for (var i = 0; i < css_urls.length; i++) {\n",
       "      var url = css_urls[i];\n",
       "      const element = document.createElement(\"link\");\n",
       "      element.onload = on_load;\n",
       "      element.onerror = on_error;\n",
       "      element.rel = \"stylesheet\";\n",
       "      element.type = \"text/css\";\n",
       "      element.href = url;\n",
       "      console.debug(\"Bokeh: injecting link tag for BokehJS stylesheet: \", url);\n",
       "      document.body.appendChild(element);\n",
       "    }\n",
       "\n",
       "    for (var i = 0; i < js_urls.length; i++) {\n",
       "      var url = js_urls[i];\n",
       "      var element = document.createElement('script');\n",
       "      element.onload = on_load;\n",
       "      element.onerror = on_error;\n",
       "      element.async = false;\n",
       "      element.src = url;\n",
       "      console.debug(\"Bokeh: injecting script tag for BokehJS library: \", url);\n",
       "      document.head.appendChild(element);\n",
       "    }\n",
       "  };var element = document.getElementById(\"1001\");\n",
       "  if (element == null) {\n",
       "    console.error(\"Bokeh: ERROR: autoload.js configured with elementid '1001' but no matching script tag was found. \")\n",
       "    return false;\n",
       "  }\n",
       "\n",
       "  function inject_raw_css(css) {\n",
       "    const element = document.createElement(\"style\");\n",
       "    element.appendChild(document.createTextNode(css));\n",
       "    document.body.appendChild(element);\n",
       "  }\n",
       "\n",
       "  var js_urls = [\"https://cdn.pydata.org/bokeh/release/bokeh-1.3.4.min.js\", \"https://cdn.pydata.org/bokeh/release/bokeh-widgets-1.3.4.min.js\", \"https://cdn.pydata.org/bokeh/release/bokeh-tables-1.3.4.min.js\", \"https://cdn.pydata.org/bokeh/release/bokeh-gl-1.3.4.min.js\"];\n",
       "  var css_urls = [];\n",
       "\n",
       "  var inline_js = [\n",
       "    function(Bokeh) {\n",
       "      Bokeh.set_log_level(\"info\");\n",
       "    },\n",
       "    \n",
       "    function(Bokeh) {\n",
       "      \n",
       "    },\n",
       "    function(Bokeh) {} // ensure no trailing comma for IE\n",
       "  ];\n",
       "\n",
       "  function run_inline_js() {\n",
       "    \n",
       "    if ((root.Bokeh !== undefined) || (force === true)) {\n",
       "      for (var i = 0; i < inline_js.length; i++) {\n",
       "        inline_js[i].call(root, root.Bokeh);\n",
       "      }if (force === true) {\n",
       "        display_loaded();\n",
       "      }} else if (Date.now() < root._bokeh_timeout) {\n",
       "      setTimeout(run_inline_js, 100);\n",
       "    } else if (!root._bokeh_failed_load) {\n",
       "      console.log(\"Bokeh: BokehJS failed to load within specified timeout.\");\n",
       "      root._bokeh_failed_load = true;\n",
       "    } else if (force !== true) {\n",
       "      var cell = $(document.getElementById(\"1001\")).parents('.cell').data().cell;\n",
       "      cell.output_area.append_execute_result(NB_LOAD_WARNING)\n",
       "    }\n",
       "\n",
       "  }\n",
       "\n",
       "  if (root._bokeh_is_loading === 0) {\n",
       "    console.debug(\"Bokeh: BokehJS loaded, going straight to plotting\");\n",
       "    run_inline_js();\n",
       "  } else {\n",
       "    load_libs(css_urls, js_urls, function() {\n",
       "      console.debug(\"Bokeh: BokehJS plotting callback run at\", now());\n",
       "      run_inline_js();\n",
       "    });\n",
       "  }\n",
       "}(window));"
      ],
      "application/vnd.bokehjs_load.v0+json": "\n(function(root) {\n  function now() {\n    return new Date();\n  }\n\n  var force = true;\n\n  if (typeof root._bokeh_onload_callbacks === \"undefined\" || force === true) {\n    root._bokeh_onload_callbacks = [];\n    root._bokeh_is_loading = undefined;\n  }\n\n  \n\n  \n  if (typeof (root._bokeh_timeout) === \"undefined\" || force === true) {\n    root._bokeh_timeout = Date.now() + 5000;\n    root._bokeh_failed_load = false;\n  }\n\n  var NB_LOAD_WARNING = {'data': {'text/html':\n     \"<div style='background-color: #fdd'>\\n\"+\n     \"<p>\\n\"+\n     \"BokehJS does not appear to have successfully loaded. If loading BokehJS from CDN, this \\n\"+\n     \"may be due to a slow or bad network connection. Possible fixes:\\n\"+\n     \"</p>\\n\"+\n     \"<ul>\\n\"+\n     \"<li>re-rerun `output_notebook()` to attempt to load from CDN again, or</li>\\n\"+\n     \"<li>use INLINE resources instead, as so:</li>\\n\"+\n     \"</ul>\\n\"+\n     \"<code>\\n\"+\n     \"from bokeh.resources import INLINE\\n\"+\n     \"output_notebook(resources=INLINE)\\n\"+\n     \"</code>\\n\"+\n     \"</div>\"}};\n\n  function display_loaded() {\n    var el = document.getElementById(\"1001\");\n    if (el != null) {\n      el.textContent = \"BokehJS is loading...\";\n    }\n    if (root.Bokeh !== undefined) {\n      if (el != null) {\n        el.textContent = \"BokehJS \" + root.Bokeh.version + \" successfully loaded.\";\n      }\n    } else if (Date.now() < root._bokeh_timeout) {\n      setTimeout(display_loaded, 100)\n    }\n  }\n\n\n  function run_callbacks() {\n    try {\n      root._bokeh_onload_callbacks.forEach(function(callback) {\n        if (callback != null)\n          callback();\n      });\n    } finally {\n      delete root._bokeh_onload_callbacks\n    }\n    console.debug(\"Bokeh: all callbacks have finished\");\n  }\n\n  function load_libs(css_urls, js_urls, callback) {\n    if (css_urls == null) css_urls = [];\n    if (js_urls == null) js_urls = [];\n\n    root._bokeh_onload_callbacks.push(callback);\n    if (root._bokeh_is_loading > 0) {\n      console.debug(\"Bokeh: BokehJS is being loaded, scheduling callback at\", now());\n      return null;\n    }\n    if (js_urls == null || js_urls.length === 0) {\n      run_callbacks();\n      return null;\n    }\n    console.debug(\"Bokeh: BokehJS not loaded, scheduling load and callback at\", now());\n    root._bokeh_is_loading = css_urls.length + js_urls.length;\n\n    function on_load() {\n      root._bokeh_is_loading--;\n      if (root._bokeh_is_loading === 0) {\n        console.debug(\"Bokeh: all BokehJS libraries/stylesheets loaded\");\n        run_callbacks()\n      }\n    }\n\n    function on_error() {\n      console.error(\"failed to load \" + url);\n    }\n\n    for (var i = 0; i < css_urls.length; i++) {\n      var url = css_urls[i];\n      const element = document.createElement(\"link\");\n      element.onload = on_load;\n      element.onerror = on_error;\n      element.rel = \"stylesheet\";\n      element.type = \"text/css\";\n      element.href = url;\n      console.debug(\"Bokeh: injecting link tag for BokehJS stylesheet: \", url);\n      document.body.appendChild(element);\n    }\n\n    for (var i = 0; i < js_urls.length; i++) {\n      var url = js_urls[i];\n      var element = document.createElement('script');\n      element.onload = on_load;\n      element.onerror = on_error;\n      element.async = false;\n      element.src = url;\n      console.debug(\"Bokeh: injecting script tag for BokehJS library: \", url);\n      document.head.appendChild(element);\n    }\n  };var element = document.getElementById(\"1001\");\n  if (element == null) {\n    console.error(\"Bokeh: ERROR: autoload.js configured with elementid '1001' but no matching script tag was found. \")\n    return false;\n  }\n\n  function inject_raw_css(css) {\n    const element = document.createElement(\"style\");\n    element.appendChild(document.createTextNode(css));\n    document.body.appendChild(element);\n  }\n\n  var js_urls = [\"https://cdn.pydata.org/bokeh/release/bokeh-1.3.4.min.js\", \"https://cdn.pydata.org/bokeh/release/bokeh-widgets-1.3.4.min.js\", \"https://cdn.pydata.org/bokeh/release/bokeh-tables-1.3.4.min.js\", \"https://cdn.pydata.org/bokeh/release/bokeh-gl-1.3.4.min.js\"];\n  var css_urls = [];\n\n  var inline_js = [\n    function(Bokeh) {\n      Bokeh.set_log_level(\"info\");\n    },\n    \n    function(Bokeh) {\n      \n    },\n    function(Bokeh) {} // ensure no trailing comma for IE\n  ];\n\n  function run_inline_js() {\n    \n    if ((root.Bokeh !== undefined) || (force === true)) {\n      for (var i = 0; i < inline_js.length; i++) {\n        inline_js[i].call(root, root.Bokeh);\n      }if (force === true) {\n        display_loaded();\n      }} else if (Date.now() < root._bokeh_timeout) {\n      setTimeout(run_inline_js, 100);\n    } else if (!root._bokeh_failed_load) {\n      console.log(\"Bokeh: BokehJS failed to load within specified timeout.\");\n      root._bokeh_failed_load = true;\n    } else if (force !== true) {\n      var cell = $(document.getElementById(\"1001\")).parents('.cell').data().cell;\n      cell.output_area.append_execute_result(NB_LOAD_WARNING)\n    }\n\n  }\n\n  if (root._bokeh_is_loading === 0) {\n    console.debug(\"Bokeh: BokehJS loaded, going straight to plotting\");\n    run_inline_js();\n  } else {\n    load_libs(css_urls, js_urls, function() {\n      console.debug(\"Bokeh: BokehJS plotting callback run at\", now());\n      run_inline_js();\n    });\n  }\n}(window));"
     },
     "metadata": {},
     "output_type": "display_data"
    }
   ],
   "source": [
    "import pandas as pd\n",
    "import numpy as np\n",
    "from bokeh.plotting import figure, output_notebook, show\n",
    "from bokeh.models import ColumnDataSource, HoverTool\n",
    "from datetime import datetime\n",
    "from bokeh.palettes import Spectral3\n",
    "from tabulate import tabulate\n",
    "from bokeh.transform import factor_cmap\n",
    "from funcs import *\n",
    "\n",
    "# convenience\n",
    "output_notebook()\n",
    "pd.set_option('display.max_colwidth', -1)"
   ]
  },
  {
   "cell_type": "markdown",
   "metadata": {},
   "source": [
    "### Globals"
   ]
  },
  {
   "cell_type": "code",
   "execution_count": 2,
   "metadata": {},
   "outputs": [],
   "source": [
    "API = 'https://explorer.helium.foundation/api'\n",
    "NUM_CHALLENGES = 100\n",
    "NUM_BLOCKS = 100\n",
    "LATEST_HEIGHT = latest_height(API)\n",
    "TOP = 10"
   ]
  },
  {
   "cell_type": "markdown",
   "metadata": {},
   "source": [
    "### Block Stats"
   ]
  },
  {
   "cell_type": "code",
   "execution_count": 3,
   "metadata": {},
   "outputs": [],
   "source": [
    "blocks = get_blocks(API, NUM_BLOCKS)"
   ]
  },
  {
   "cell_type": "code",
   "execution_count": 4,
   "metadata": {},
   "outputs": [],
   "source": [
    "df = pd.DataFrame(blocks)"
   ]
  },
  {
   "cell_type": "code",
   "execution_count": 5,
   "metadata": {},
   "outputs": [
    {
     "name": "stdout",
     "output_type": "stream",
     "text": [
      "Average txns past 100 blocks: 4.65\n"
     ]
    }
   ],
   "source": [
    "print(f'Average txns past {NUM_BLOCKS} blocks: {df[\"txns\"].mean()}')"
   ]
  },
  {
   "cell_type": "code",
   "execution_count": 6,
   "metadata": {},
   "outputs": [
    {
     "name": "stdout",
     "output_type": "stream",
     "text": [
      "Average block time past 100 blocks: 1565577762.63\n"
     ]
    }
   ],
   "source": [
    "print(f'Average block time past {NUM_BLOCKS} blocks: {df[\"time\"].mean()}')"
   ]
  },
  {
   "cell_type": "code",
   "execution_count": 7,
   "metadata": {},
   "outputs": [
    {
     "name": "stdout",
     "output_type": "stream",
     "text": [
      "Block with max txns for past 100 blocks: \n",
      "+--------+----------------------------------------------------+\n",
      "| hash   | 1xGpdTu89tvej9bhDmYhLzVCJq4MmLfEyi191TrYDUhVr19Zvm |\n",
      "| height | 13712                                              |\n",
      "| round  | 13712                                              |\n",
      "| time   | 1565582226                                         |\n",
      "| txns   | 12                                                 |\n",
      "+--------+----------------------------------------------------+\n"
     ]
    }
   ],
   "source": [
    "max_txns = tabulate(df.max().reset_index(),tablefmt='psql', showindex='never')\n",
    "print(f\"Block with max txns for past {NUM_BLOCKS} blocks: \\n{max_txns}\")"
   ]
  },
  {
   "cell_type": "code",
   "execution_count": 8,
   "metadata": {},
   "outputs": [
    {
     "data": {
      "text/html": [
       "\n",
       "\n",
       "\n",
       "\n",
       "\n",
       "\n",
       "  <div class=\"bk-root\" id=\"8e5f40c5-cb09-4378-aeaa-ef53abc7b81f\" data-root-id=\"1003\"></div>\n"
      ]
     },
     "metadata": {},
     "output_type": "display_data"
    },
    {
     "data": {
      "application/javascript": [
       "(function(root) {\n",
       "  function embed_document(root) {\n",
       "    \n",
       "  var docs_json = {\"1fb572f9-288e-4a4e-9bd3-c6d1e88eccca\":{\"roots\":{\"references\":[{\"attributes\":{\"below\":[{\"id\":\"1012\",\"type\":\"LinearAxis\"}],\"center\":[{\"id\":\"1016\",\"type\":\"Grid\"},{\"id\":\"1021\",\"type\":\"Grid\"}],\"left\":[{\"id\":\"1017\",\"type\":\"LinearAxis\"}],\"renderers\":[{\"id\":\"1038\",\"type\":\"GlyphRenderer\"}],\"title\":{\"id\":\"1043\",\"type\":\"Title\"},\"toolbar\":{\"id\":\"1028\",\"type\":\"Toolbar\"},\"x_range\":{\"id\":\"1004\",\"type\":\"DataRange1d\"},\"x_scale\":{\"id\":\"1008\",\"type\":\"LinearScale\"},\"y_range\":{\"id\":\"1006\",\"type\":\"DataRange1d\"},\"y_scale\":{\"id\":\"1010\",\"type\":\"LinearScale\"}},\"id\":\"1003\",\"subtype\":\"Figure\",\"type\":\"Plot\"},{\"attributes\":{\"fill_alpha\":{\"value\":0.1},\"fill_color\":{\"value\":\"#1f77b4\"},\"line_alpha\":{\"value\":0.1},\"line_color\":{\"value\":\"#1f77b4\"},\"top\":{\"field\":\"txns\"},\"width\":{\"value\":0.8},\"x\":{\"field\":\"height\"}},\"id\":\"1037\",\"type\":\"VBar\"},{\"attributes\":{\"data_source\":{\"id\":\"1002\",\"type\":\"ColumnDataSource\"},\"glyph\":{\"id\":\"1036\",\"type\":\"VBar\"},\"hover_glyph\":null,\"muted_glyph\":null,\"nonselection_glyph\":{\"id\":\"1037\",\"type\":\"VBar\"},\"selection_glyph\":null,\"view\":{\"id\":\"1039\",\"type\":\"CDSView\"}},\"id\":\"1038\",\"type\":\"GlyphRenderer\"},{\"attributes\":{\"text\":\"\"},\"id\":\"1043\",\"type\":\"Title\"},{\"attributes\":{},\"id\":\"1013\",\"type\":\"BasicTicker\"},{\"attributes\":{},\"id\":\"1044\",\"type\":\"BasicTickFormatter\"},{\"attributes\":{},\"id\":\"1048\",\"type\":\"Selection\"},{\"attributes\":{\"callback\":null,\"data\":{\"hash\":[\"1Rw7GevmHVa8VJGumLSced9KMQPLMPGVkb6FJJfoR4Koxf1bPm\",\"1hZkJJQxN5Ffp66Ka5reKWk7b3CYgQhGhvitLYeNp47ya2sAKm\",\"121UCQsAK7nYEKtTZYxu5FSBcNeMERRtSB8WN4YHT1HmMXXYntq\",\"1SUxTqUm3tvF3kGAyJhGBXdBmSktxJ9WirBa8vp5mGP2Am2bZF\",\"121Gs7ebyFWoBMoApM7G19z1AS7twmnkqikjChsUqo5x389QsBn\",\"12nCoeM6Ajr5YW3S4tjiprwjCnKnfeqLeF5HbkUx79ZSxt1sjUK\",\"1in6MU5DSAv4ukcAmG9fNTj3R4gWTgn4WTjiemgJzUUZ7UiCp\",\"14KvK7FJCEekqiZwFhj3yrW23DsH3RTTqLUNLzApgegmrX6qbo\",\"12Y4Jt1NvGyMqVNMDUpb8gBD3uEYrNAWybcXXYv6g3VeAKQoP33\",\"1D3X3UHpnNjt8VsN632aDWbDj5oCCkAP2kQpNzSuBZR4eyQrqk\",\"1wyxPJHWyqeQx9UzfpeyitBMq8aqcqKRWVaRQxPs8Hu8NU5zSA\",\"12mNfJQDCXtKkTfSGJJZgNudwSXLx1pmoB2Nc8b69yvB9jyBhCf\",\"1mpw9d2Zj44pm6TzQYvAjxx4E71VWzh7gYBd9oG4Cx54t2jTPx\",\"1VvdZns1fZwbKSD2CEKnmi9yfQssWmP7Cf5ghnfuE7BCJUoWMV\",\"12a2KjbtRAiTt4Dmw4BCJLu2mfSvjZhYwKnQaahamwU2rCUFcoP\",\"12pi1iXHbrvWnfJuyeRD9W75VYgmzte8wEUJ7MBPEwMHdQ42Rmz\",\"1VS4cK5HKBAz9A3Frt53iGNvE747EEmPJSi5hmcYUiUXDXsCvi\",\"12VgFhFB7fLSWbAcwZdxsKEPqU7s4XYDSsrXs3B22WPUzqVdLEy\",\"12Au5ULmNEzGXvD8xE9Zz8ASUJgMKzxCRgB5nGUsCzNY9LdoRtS\",\"12CWTkMFQ2Qtz4QYx68CaWhRr6wDcGAz6h66ih83sKMwwDtPXdz\",\"1AZcG4eDfQN1QmZoj9KVBjDvMiaBATVxKomKtpNTR4SXmj4E9g\",\"12QffJW3V3qaKhT6vPd2vaaoq7xfBZo3R4RKxnu7LokiB8YbjFe\",\"1rL6coSYJKkAakVhciRg7PzQ8upqsWKJQd8koiSWnTEBjW1zRc\",\"12GX3oN77eCPshQy1ZAfjDuJiJb5oopZgFWUU7LesrsNXvAkwTk\",\"129g1qQKHBtziZXAyvu8i47c8KDYY98ihGgMngqQRJszQ45UFa2\",\"12HPLkyDWbdEmskgMwsrA9r4Dy9644F3NUdgyDbJMxnMKq2mV27\",\"1jc4fK29M6zYMcc2PiKxEb28w1xBD1Nh6bNG19jP29dCGeoRkP\",\"12SZ1jEb5dtMGvyDichHtBH9Ep4U9u54HWseieNYTtCJ6n3idsK\",\"12m5Egv3e7Q3yjQmbny9HT4LnaWz42BsJwh3ca2fxMPNQjvq7Dr\",\"1md6RuhpF12RVkYEuqyK55TQJeeYLUjZqnwjNKtzGzV7W4sQdG\",\"1CQTcXb6krj46tUD4xNrpGjg8T9j2E4rJYaiiHkYoSM82j5Jcm\",\"14s3A6imwkvzDXjmhykaqSt547oyV1AyR8tHSqDWv1keqaxMqJ\",\"12XecSYp5HugjtoZcDHM47RyV9CFxpyb6ZAtpS8ho1tddRhYB5m\",\"12QRfn6EpZPsqDDbxmPK75fU8Bu47raYjbxrpz1mFixkaB72r2Q\",\"1EBC7zvXTGWQgR1kzUocW6pkWZibrSLZGuxNKgWyGxHXdWXbWn\",\"1jvA8Z2bBC3jnYmqb59RiikNX4ozMaXmaX7GFYo1dtTzRazBhu\",\"12WYgtg6jbbqnaKrJHeADrmUQ36YHX9Gd1rehewYSjB5oCLmj4X\",\"1cQ3CLKza43UEqFnDsGnxrLZjcEn2MA43QRCEVyQM6spEgG2db\",\"12onfLPiT87FKBFsNHzLGo59VJw6adQkac5SY9LCBHisDJzz9he\",\"12YwD2g7C3hmnxDetePFdTPspCstMMyhJA213QcP55RSGWoJrm2\",\"124q4v8vE9oAyNJCWdA4P76H5aoeumMwNw6khPcpfy1ZQv4qrJc\",\"1g1TgQuCyqqhQdM1FBr4uF5pJ31Zf39AsU6tzuFWPsG56EaQVn\",\"1FLErjmFwShYFno4h2DdAvqrjGZPW1WjZ8PkRDM813QZFwYezU\",\"1qhtri5snavskUpmYqToBxKnKdCRDmx3e9tj9bVjJAoWVBjiU7\",\"12vtXQuQCfabvgZNrVYw3Q1L3Wcw34M36KLFvvy1cZj3GTczHpm\",\"12d5cD2A6s1G3aiUqPpbxaSfUwAr5oZjzmm6Kx5shjmb2EszrGJ\",\"12GJ7bgNLD3SaPF346q52YosapBRidD197YEY2y5nJimRHDBuJa\",\"1peXHSGnBhgWa4tFnsprX665mHS98FXqPPYsgbMJCnbtfhjEk9\",\"1DSfaqFEXG2iY1Nemj9trXUyemsbhpcM6hsJwhhbu8gHRhE9kH\",\"126SRCz9FyCkZJhgE1x8H94skEf5W2CqRoD5Fg3y4NpdFiz2z3n\",\"12U1QkJ2HHycMUDMQRzqqUHX3ymToPTW4NdUaJbVCA5iTfQ3z9s\",\"1EpnJ75UNjapQRF2mGnVPAK8du1noURVKW7FjKk96gpbK57cFN\",\"12U4rcc7ZbKcmfbp4m7u6EHMX7q2xu2K1itzLVgFXrQFjNiTvHk\",\"12eopn9wAx4qEsxDuKaqZ958aMMzneGVW4kmwYZSvPDsefa8zQK\",\"12Hm4ZTrqWy4mzGqUpTX6o85HGaRU1CdgzyWYNu3GEiXR7U5wKc\",\"1wZYXfYWZeBWwBEGSbvRKfPESVZ3uqw3gJmSEZ4nbyXc4kSWSh\",\"198GBw16Wmz3uSFVRaHsXc72gnDucZNZnaMWNqX3wrxipYFuCv\",\"12f3FkaF6Vw6NmWNczNpfjuz59mgFsBThHCEwVFbHzUdFXSDqSS\",\"123ydHyrpdLzN4ssGEoT2etwqx4HFjg9zqYKmsf2tLhLCM8TDZU\",\"1JuUgBWVvHbmregAe5EZHUBXB12hSmgy6HCdCSJtVLpM3TyYJ1\",\"12E8tJQXFShcM22sJ6uQ2veZ114Rqxvvs1QDT3yHcEog2skTLHK\",\"1bxfFqsN7ebu8njZeRJ8bTNQeLE3WgZk39rG7fJErUVnxqu9L6\",\"12vvnrYcckUe4TC4D5WLvBVA5CrYeFVhvrL1qZL4Be65PkvcYgH\",\"1213tEnetLu2G7aC8n6hpgtHmAXHRkSQJDZGNYFRErksWS82D6u\",\"1twe2C41YbitxxhBpXK3tgDpKcVZg1QJYmqwgpvf8fgTK5m1F9\",\"12P1mB1xkU1xxDjiSxD52W1vYDA8CffrDxPfTUq91KoqT2cYKW2\",\"121P6b7s5rdFr7sfZJC1mTQ9PrvHoceKXdePZqnf6VCd9D2UdzP\",\"1Z19AvzkFF9ss673v6Bqsg8krag9283vtPctqpnSH4xXxhSaYR\",\"19UAboMUMHqpgWxbbEGFyDYRcb8MSyaoqwSBjrqegbWkZDmHj5\",\"127et8HBY9hBs8NHwMAmjVMHDSLVWtjQTHP5F83FRCYkhREw5rJ\",\"1JXvfRnofMeHnE6ntBKPd2YqDtw62cvj4enmLiSLzBHm4uWise\",\"1W8u7ae2dbw6mCZ7vb8MLgsmpYzpWJpJ1XsqoxLzqS9HeJRWxo\",\"1SiSjkuUubcHDryjVyiUPmu1fMdFhE7umwQYmH8hgmJqUpHUaQ\",\"1gCjgUKjKvC6HPDz7sUUaBEYhmLUZAgSwtQ1t3psh4YNBeUUxG\",\"1VX9MeHwsVnVVDrDrpuWswAq3jbyGuVaxg4XcRMvYvDnxBcFyX\",\"1bb7f6SrBacNWKx8ze6nJoybWmtjmmL4BfCXo2p8nye179z2J1\",\"1jLXkQLnqhwrvXRaBc8TDZfyisHYjn3sHzZgPBpuwyMFAMH4e1\",\"1BrwFS9yS2irjPsbWy1FehwYi2M4yFZ5r9H9nfYVyRQ2CawVr3\",\"1xGpdTu89tvej9bhDmYhLzVCJq4MmLfEyi191TrYDUhVr19Zvm\",\"1DBi5oZEVqCAAVrrkAiYPGWwkQPS1DVk2THVSfin3jvZfjeQ6o\",\"12Gz7btZpobipwWuMm4YEoLGatnDqEWEnLftwYuPw2Rz6oxgKGd\",\"12ao2b8jtndRTHaaPk4B1dFkwU5rq8o3nu9X78kALUGq87Ehapf\",\"1dspbeiVHUp9hWFJqTG8quqG5cZZZiYpu13amUjUEMU6TbWChV\",\"12MuPqAWkFnJf7GcFxSjhpG9b9iaY3cWG5hWL344J8Tery8rVr3\",\"122VAMicYdkGTkWARycWqmN7u4pE6tCWbRSYcFPfTV5cSyDQTXc\",\"12va5RDqHiH2iYS9dT4RuQEqSzfBVHiXz49iFAfy9DZocDpXeqM\",\"12fVDFtfQsyq4ZZxffZHBpBXrhyLZwsXyjwnTvC2BrGBbFNjKny\",\"12KRfL84bqjtyhVErcuUHAz5V9jXQSGNp8LLuhk5jnhDTjUa4Mp\",\"1255fNSvBnrQELgda61hpKKKLZAQVPcRQo26v23dLekY8iTCxGN\",\"12fEp28urpjB4DUDvLxsjAwcycGidEjmxL4fJFDFWxjnCxkhHon\",\"1UKwXeffGBzpfd6ZJqnLFPywFriZp3e2SCVhZNmZCmp5G2wttG\",\"1KHyQSHDx6Mg4dyguQZUHgaGnMjQEFhQTCvSZyiWq6aV1KWxGn\",\"14Mhi3Ea4qidZYVP3D6Dpmi1QofUMhaVSGdodyBmxSEJUgUPoo\",\"15FPwwTyLmpk8232qY36V5xTx8YZviCQ8Mp8hoPytPgP8zHaDw\",\"1nF294MxXXeqFyyv3JvV3DeoqQLshCgoEPfyBCB4nvjEFRx9b1\",\"12Lk98QRWGKE8NH8NPWyqzfrPKudWLXz1kFAJrA9JWozefFzKYG\",\"12roECBqTQoFRs7R1hqe2MARiEddTbmsuc9hQttqqCaqYdDczSW\",\"12GtNCsqzNWJ7seBsibfyyYR3H2sDD8qKTH8oaEFWED44sujpiN\",\"12fvzXz6SrX6sPTbPvyP8uwczJW1aRg5Yj8nonkoTowi5V1h1UM\",\"12aLyJHiZJ2Q1ixccjerayP4NVr7USwhHiA2wJsEmcu4VQ2FCdZ\"],\"height\":[13712,13711,13710,13709,13708,13707,13706,13705,13704,13703,13702,13701,13700,13699,13698,13697,13696,13695,13694,13693,13692,13691,13690,13689,13688,13687,13686,13685,13684,13683,13682,13681,13680,13679,13678,13677,13676,13675,13674,13673,13672,13671,13670,13669,13668,13667,13666,13665,13664,13663,13662,13661,13660,13659,13658,13657,13656,13655,13654,13653,13652,13651,13650,13649,13648,13647,13646,13645,13644,13643,13642,13641,13640,13639,13638,13637,13636,13635,13634,13633,13632,13631,13630,13629,13628,13627,13626,13625,13624,13623,13622,13621,13620,13619,13618,13617,13616,13615,13614,13613],\"index\":[0,1,2,3,4,5,6,7,8,9,10,11,12,13,14,15,16,17,18,19,20,21,22,23,24,25,26,27,28,29,30,31,32,33,34,35,36,37,38,39,40,41,42,43,44,45,46,47,48,49,50,51,52,53,54,55,56,57,58,59,60,61,62,63,64,65,66,67,68,69,70,71,72,73,74,75,76,77,78,79,80,81,82,83,84,85,86,87,88,89,90,91,92,93,94,95,96,97,98,99],\"round\":[13712,13711,13710,13709,13708,13707,13706,13705,13704,13703,13702,13701,13700,13699,13698,13697,13696,13695,13694,13693,13692,13691,13690,13689,13688,13687,13686,13685,13684,13683,13682,13681,13680,13679,13678,13677,13676,13675,13674,13673,13672,13671,13670,13669,13668,13667,13666,13665,13664,13663,13662,13661,13660,13659,13658,13657,13656,13655,13654,13653,13652,13651,13650,13649,13648,13647,13646,13645,13644,13643,13642,13641,13640,13639,13638,13637,13636,13635,13634,13633,13632,13631,13630,13629,13628,13627,13626,13625,13624,13623,13622,13621,13620,13619,13618,13617,13616,13615,13614,13613],\"time\":[1565582226,1565582137,1565582063,1565581958,1565581860,1565581800,1565581728,1565581611,1565581551,1565581434,1565581315,1565581236,1565581176,1565581100,1565581040,1565580912,1565580812,1565580700,1565580630,1565580518,1565580458,1565580398,1565580294,1565580180,1565580055,1565579958,1565579858,1565579780,1565579581,1565579521,1565579461,1565579338,1565579210,1565579136,1565579076,1565579016,1565578956,1565578881,1565578798,1565578724,1565578636,1565578565,1565578497,1565578437,1565578371,1565578298,1565578215,1565578109,1565578044,1565577984,1565577924,1565577864,1565577772,1565577680,1565577521,1565577449,1565577361,1565577187,1565577009,1565576915,1565576853,1565576793,1565576576,1565576390,1565576270,1565576210,1565576086,1565575989,1565575877,1565575817,1565575757,1565575689,1565575583,1565575485,1565575407,1565575341,1565575277,1565575176,1565575066,1565575006,1565574925,1565574865,1565574805,1565574745,1565574685,1565574625,1565574496,1565574364,1565574295,1565574210,1565574125,1565573997,1565573893,1565573833,1565573773,1565573705,1565573617,1565573544,1565573438,1565573351],\"txns\":[8,2,5,6,7,4,5,8,5,4,6,3,2,5,0,5,6,4,2,11,2,1,3,11,7,9,7,6,2,5,2,2,6,6,4,3,4,8,8,9,3,6,6,4,6,5,2,1,4,2,5,2,2,9,3,1,4,7,12,7,3,1,6,7,0,4,2,5,6,2,7,9,12,2,3,3,4,9,5,1,5,1,1,3,3,5,5,4,4,3,5,9,6,4,2,7,4,4,2,3]},\"selected\":{\"id\":\"1048\",\"type\":\"Selection\"},\"selection_policy\":{\"id\":\"1049\",\"type\":\"UnionRenderers\"}},\"id\":\"1002\",\"type\":\"ColumnDataSource\"},{\"attributes\":{},\"id\":\"1049\",\"type\":\"UnionRenderers\"},{\"attributes\":{\"dimension\":1,\"ticker\":{\"id\":\"1018\",\"type\":\"BasicTicker\"}},\"id\":\"1021\",\"type\":\"Grid\"},{\"attributes\":{\"bottom_units\":\"screen\",\"fill_alpha\":{\"value\":0.5},\"fill_color\":{\"value\":\"lightgrey\"},\"left_units\":\"screen\",\"level\":\"overlay\",\"line_alpha\":{\"value\":1.0},\"line_color\":{\"value\":\"black\"},\"line_dash\":[4,4],\"line_width\":{\"value\":2},\"render_mode\":\"css\",\"right_units\":\"screen\",\"top_units\":\"screen\"},\"id\":\"1050\",\"type\":\"BoxAnnotation\"},{\"attributes\":{},\"id\":\"1008\",\"type\":\"LinearScale\"},{\"attributes\":{},\"id\":\"1023\",\"type\":\"WheelZoomTool\"},{\"attributes\":{\"source\":{\"id\":\"1002\",\"type\":\"ColumnDataSource\"}},\"id\":\"1039\",\"type\":\"CDSView\"},{\"attributes\":{},\"id\":\"1022\",\"type\":\"PanTool\"},{\"attributes\":{\"axis_label\":\"NumTxns\",\"formatter\":{\"id\":\"1046\",\"type\":\"BasicTickFormatter\"},\"ticker\":{\"id\":\"1018\",\"type\":\"BasicTicker\"}},\"id\":\"1017\",\"type\":\"LinearAxis\"},{\"attributes\":{\"axis_label\":\"Txns/Block\",\"formatter\":{\"id\":\"1044\",\"type\":\"BasicTickFormatter\"},\"ticker\":{\"id\":\"1013\",\"type\":\"BasicTicker\"}},\"id\":\"1012\",\"type\":\"LinearAxis\"},{\"attributes\":{\"callback\":null},\"id\":\"1006\",\"type\":\"DataRange1d\"},{\"attributes\":{\"fill_color\":{\"value\":\"#1f77b4\"},\"line_color\":{\"value\":\"#1f77b4\"},\"top\":{\"field\":\"txns\"},\"width\":{\"value\":0.8},\"x\":{\"field\":\"height\"}},\"id\":\"1036\",\"type\":\"VBar\"},{\"attributes\":{},\"id\":\"1018\",\"type\":\"BasicTicker\"},{\"attributes\":{\"callback\":null,\"tooltips\":[[\"height\",\"@height\"],[\"txns\",\"@txns\"]]},\"id\":\"1040\",\"type\":\"HoverTool\"},{\"attributes\":{\"overlay\":{\"id\":\"1050\",\"type\":\"BoxAnnotation\"}},\"id\":\"1024\",\"type\":\"BoxZoomTool\"},{\"attributes\":{},\"id\":\"1010\",\"type\":\"LinearScale\"},{\"attributes\":{},\"id\":\"1025\",\"type\":\"SaveTool\"},{\"attributes\":{},\"id\":\"1026\",\"type\":\"ResetTool\"},{\"attributes\":{\"callback\":null},\"id\":\"1004\",\"type\":\"DataRange1d\"},{\"attributes\":{\"ticker\":{\"id\":\"1013\",\"type\":\"BasicTicker\"}},\"id\":\"1016\",\"type\":\"Grid\"},{\"attributes\":{},\"id\":\"1027\",\"type\":\"HelpTool\"},{\"attributes\":{},\"id\":\"1046\",\"type\":\"BasicTickFormatter\"},{\"attributes\":{\"active_drag\":\"auto\",\"active_inspect\":\"auto\",\"active_multi\":null,\"active_scroll\":\"auto\",\"active_tap\":\"auto\",\"tools\":[{\"id\":\"1022\",\"type\":\"PanTool\"},{\"id\":\"1023\",\"type\":\"WheelZoomTool\"},{\"id\":\"1024\",\"type\":\"BoxZoomTool\"},{\"id\":\"1025\",\"type\":\"SaveTool\"},{\"id\":\"1026\",\"type\":\"ResetTool\"},{\"id\":\"1027\",\"type\":\"HelpTool\"},{\"id\":\"1040\",\"type\":\"HoverTool\"}]},\"id\":\"1028\",\"type\":\"Toolbar\"}],\"root_ids\":[\"1003\"]},\"title\":\"Bokeh Application\",\"version\":\"1.3.4\"}};\n",
       "  var render_items = [{\"docid\":\"1fb572f9-288e-4a4e-9bd3-c6d1e88eccca\",\"roots\":{\"1003\":\"8e5f40c5-cb09-4378-aeaa-ef53abc7b81f\"}}];\n",
       "  root.Bokeh.embed.embed_items_notebook(docs_json, render_items);\n",
       "\n",
       "  }\n",
       "  if (root.Bokeh !== undefined) {\n",
       "    embed_document(root);\n",
       "  } else {\n",
       "    var attempts = 0;\n",
       "    var timer = setInterval(function(root) {\n",
       "      if (root.Bokeh !== undefined) {\n",
       "        embed_document(root);\n",
       "        clearInterval(timer);\n",
       "      }\n",
       "      attempts++;\n",
       "      if (attempts > 100) {\n",
       "        console.log(\"Bokeh: ERROR: Unable to run BokehJS code because BokehJS library is missing\");\n",
       "        clearInterval(timer);\n",
       "      }\n",
       "    }, 10, root)\n",
       "  }\n",
       "})(window);"
      ],
      "application/vnd.bokehjs_exec.v0+json": ""
     },
     "metadata": {
      "application/vnd.bokehjs_exec.v0+json": {
       "id": "1003"
      }
     },
     "output_type": "display_data"
    }
   ],
   "source": [
    "source = ColumnDataSource(df)\n",
    "p = figure()\n",
    "\n",
    "p.vbar(x='height', top='txns', width=0.8, source=source)\n",
    "hover = HoverTool(tooltips=[('height', '@height'), ('txns', '@txns')])\n",
    "p.add_tools(hover)\n",
    "p.xaxis.axis_label = \"Txns/Block\"\n",
    "p.yaxis.axis_label = \"NumTxns\"\n",
    "\n",
    "show(p)"
   ]
  },
  {
   "cell_type": "markdown",
   "metadata": {},
   "source": [
    "### Hotspot Stats"
   ]
  },
  {
   "cell_type": "code",
   "execution_count": 9,
   "metadata": {},
   "outputs": [],
   "source": [
    "hotspots = get_hotspots(API)"
   ]
  },
  {
   "cell_type": "code",
   "execution_count": 10,
   "metadata": {},
   "outputs": [],
   "source": [
    "df = pd.DataFrame(hotspots)"
   ]
  },
  {
   "cell_type": "code",
   "execution_count": 11,
   "metadata": {},
   "outputs": [
    {
     "name": "stdout",
     "output_type": "stream",
     "text": [
      "Top 10 scoring hotspots:\n"
     ]
    },
    {
     "data": {
      "text/html": [
       "<div>\n",
       "<style scoped>\n",
       "    .dataframe tbody tr th:only-of-type {\n",
       "        vertical-align: middle;\n",
       "    }\n",
       "\n",
       "    .dataframe tbody tr th {\n",
       "        vertical-align: top;\n",
       "    }\n",
       "\n",
       "    .dataframe thead th {\n",
       "        text-align: right;\n",
       "    }\n",
       "</style>\n",
       "<table border=\"1\" class=\"dataframe\">\n",
       "  <thead>\n",
       "    <tr style=\"text-align: right;\">\n",
       "      <th></th>\n",
       "      <th>address</th>\n",
       "      <th>score</th>\n",
       "    </tr>\n",
       "  </thead>\n",
       "  <tbody>\n",
       "    <tr>\n",
       "      <th>110</th>\n",
       "      <td>11DMUS9sEDngNh5RF1k4pb23Ucbb9fN9RwPDd1ZMAJJiCjvo3Xx</td>\n",
       "      <td>0.9848</td>\n",
       "    </tr>\n",
       "    <tr>\n",
       "      <th>97</th>\n",
       "      <td>11idAPnBHP3AM3SjkpFRGy7XLVv12oecTFLHGBMfmBSvzNY9CW8</td>\n",
       "      <td>0.9377</td>\n",
       "    </tr>\n",
       "    <tr>\n",
       "      <th>127</th>\n",
       "      <td>112stmZdJDjyvuGEJLCkUa5kPnmra5Svz72G3GdcyQQ9h3i55D48</td>\n",
       "      <td>0.9346</td>\n",
       "    </tr>\n",
       "    <tr>\n",
       "      <th>7</th>\n",
       "      <td>112uFMbu9bTXe9tJzuaL1MoM7UksPK4F928VmBf9Hxzc6BjRK9Pp</td>\n",
       "      <td>0.9254</td>\n",
       "    </tr>\n",
       "    <tr>\n",
       "      <th>124</th>\n",
       "      <td>115JucmPFDKUwvE4fkHR6GyQsttSUMi11KYme6pRcRTVXTqE7ww</td>\n",
       "      <td>0.9185</td>\n",
       "    </tr>\n",
       "    <tr>\n",
       "      <th>54</th>\n",
       "      <td>11qd6UNmuQsR5FUNc1LAKJM1r7kfx37WGc1csYbvkmUGUTx992K</td>\n",
       "      <td>0.9029</td>\n",
       "    </tr>\n",
       "    <tr>\n",
       "      <th>126</th>\n",
       "      <td>112D3iyBgtLeh5SPhshjZXQDV2XX2FdSMVSoC1fryANqdKPc3gLY</td>\n",
       "      <td>0.8993</td>\n",
       "    </tr>\n",
       "    <tr>\n",
       "      <th>120</th>\n",
       "      <td>112rS6gCz9FQmcw2hrdnEJRLLAeWpSmtHYeC6nAuDrDutPWm2RYz</td>\n",
       "      <td>0.8926</td>\n",
       "    </tr>\n",
       "    <tr>\n",
       "      <th>38</th>\n",
       "      <td>11xKKZwHYZpWcEamiZmyCA1v6YmfcfagQMGf9BJfMnDDiXkhRgV</td>\n",
       "      <td>0.8723</td>\n",
       "    </tr>\n",
       "    <tr>\n",
       "      <th>66</th>\n",
       "      <td>11t2h6ERRn2kbgjFF2hdQLZwvHcMS5NqykN3FEFRzvdf9K9QE1y</td>\n",
       "      <td>0.8403</td>\n",
       "    </tr>\n",
       "  </tbody>\n",
       "</table>\n",
       "</div>"
      ],
      "text/plain": [
       "                                                  address   score\n",
       "110  11DMUS9sEDngNh5RF1k4pb23Ucbb9fN9RwPDd1ZMAJJiCjvo3Xx   0.9848\n",
       "97   11idAPnBHP3AM3SjkpFRGy7XLVv12oecTFLHGBMfmBSvzNY9CW8   0.9377\n",
       "127  112stmZdJDjyvuGEJLCkUa5kPnmra5Svz72G3GdcyQQ9h3i55D48  0.9346\n",
       "7    112uFMbu9bTXe9tJzuaL1MoM7UksPK4F928VmBf9Hxzc6BjRK9Pp  0.9254\n",
       "124  115JucmPFDKUwvE4fkHR6GyQsttSUMi11KYme6pRcRTVXTqE7ww   0.9185\n",
       "54   11qd6UNmuQsR5FUNc1LAKJM1r7kfx37WGc1csYbvkmUGUTx992K   0.9029\n",
       "126  112D3iyBgtLeh5SPhshjZXQDV2XX2FdSMVSoC1fryANqdKPc3gLY  0.8993\n",
       "120  112rS6gCz9FQmcw2hrdnEJRLLAeWpSmtHYeC6nAuDrDutPWm2RYz  0.8926\n",
       "38   11xKKZwHYZpWcEamiZmyCA1v6YmfcfagQMGf9BJfMnDDiXkhRgV   0.8723\n",
       "66   11t2h6ERRn2kbgjFF2hdQLZwvHcMS5NqykN3FEFRzvdf9K9QE1y   0.8403"
      ]
     },
     "execution_count": 11,
     "metadata": {},
     "output_type": "execute_result"
    }
   ],
   "source": [
    "print(f'Top {TOP} scoring hotspots:')\n",
    "df.sort_values('score', ascending=False)[['address', 'score']].head(TOP)"
   ]
  },
  {
   "cell_type": "code",
   "execution_count": 12,
   "metadata": {},
   "outputs": [
    {
     "data": {
      "text/html": [
       "\n",
       "\n",
       "\n",
       "\n",
       "\n",
       "\n",
       "  <div class=\"bk-root\" id=\"a5823e83-c01b-4941-9cce-fab638037d03\" data-root-id=\"1106\"></div>\n"
      ]
     },
     "metadata": {},
     "output_type": "display_data"
    },
    {
     "data": {
      "application/javascript": [
       "(function(root) {\n",
       "  function embed_document(root) {\n",
       "    \n",
       "  var docs_json = {\"a93fb17a-c91d-4bc6-8ae6-5bd7717c50cd\":{\"roots\":{\"references\":[{\"attributes\":{\"below\":[{\"id\":\"1115\",\"type\":\"LinearAxis\"}],\"center\":[{\"id\":\"1119\",\"type\":\"Grid\"},{\"id\":\"1124\",\"type\":\"Grid\"}],\"left\":[{\"id\":\"1120\",\"type\":\"LinearAxis\"}],\"renderers\":[{\"id\":\"1141\",\"type\":\"GlyphRenderer\"}],\"title\":{\"id\":\"1155\",\"type\":\"Title\"},\"toolbar\":{\"id\":\"1131\",\"type\":\"Toolbar\"},\"x_range\":{\"id\":\"1107\",\"type\":\"DataRange1d\"},\"x_scale\":{\"id\":\"1111\",\"type\":\"LinearScale\"},\"y_range\":{\"id\":\"1109\",\"type\":\"DataRange1d\"},\"y_scale\":{\"id\":\"1113\",\"type\":\"LinearScale\"}},\"id\":\"1106\",\"subtype\":\"Figure\",\"type\":\"Plot\"},{\"attributes\":{},\"id\":\"1121\",\"type\":\"BasicTicker\"},{\"attributes\":{},\"id\":\"1158\",\"type\":\"BasicTickFormatter\"},{\"attributes\":{},\"id\":\"1160\",\"type\":\"Selection\"},{\"attributes\":{\"axis_label\":\"Score\",\"formatter\":{\"id\":\"1158\",\"type\":\"BasicTickFormatter\"},\"ticker\":{\"id\":\"1121\",\"type\":\"BasicTicker\"}},\"id\":\"1120\",\"type\":\"LinearAxis\"},{\"attributes\":{\"text\":\"\"},\"id\":\"1155\",\"type\":\"Title\"},{\"attributes\":{},\"id\":\"1161\",\"type\":\"UnionRenderers\"},{\"attributes\":{},\"id\":\"1116\",\"type\":\"BasicTicker\"},{\"attributes\":{\"bottom_units\":\"screen\",\"fill_alpha\":{\"value\":0.5},\"fill_color\":{\"value\":\"lightgrey\"},\"left_units\":\"screen\",\"level\":\"overlay\",\"line_alpha\":{\"value\":1.0},\"line_color\":{\"value\":\"black\"},\"line_dash\":[4,4],\"line_width\":{\"value\":2},\"render_mode\":\"css\",\"right_units\":\"screen\",\"top_units\":\"screen\"},\"id\":\"1162\",\"type\":\"BoxAnnotation\"},{\"attributes\":{\"ticker\":{\"id\":\"1116\",\"type\":\"BasicTicker\"}},\"id\":\"1119\",\"type\":\"Grid\"},{\"attributes\":{\"fill_color\":{\"value\":\"#1f77b4\"},\"line_color\":{\"value\":\"#1f77b4\"},\"top\":{\"field\":\"score\"},\"width\":{\"value\":0.8},\"x\":{\"field\":\"id\"}},\"id\":\"1139\",\"type\":\"VBar\"},{\"attributes\":{\"dimension\":1,\"ticker\":{\"id\":\"1121\",\"type\":\"BasicTicker\"}},\"id\":\"1124\",\"type\":\"Grid\"},{\"attributes\":{\"axis_label\":\"Address\",\"formatter\":{\"id\":\"1156\",\"type\":\"BasicTickFormatter\"},\"ticker\":{\"id\":\"1116\",\"type\":\"BasicTicker\"}},\"id\":\"1115\",\"type\":\"LinearAxis\"},{\"attributes\":{\"source\":{\"id\":\"1105\",\"type\":\"ColumnDataSource\"}},\"id\":\"1142\",\"type\":\"CDSView\"},{\"attributes\":{\"data_source\":{\"id\":\"1105\",\"type\":\"ColumnDataSource\"},\"glyph\":{\"id\":\"1139\",\"type\":\"VBar\"},\"hover_glyph\":null,\"muted_glyph\":null,\"nonselection_glyph\":{\"id\":\"1140\",\"type\":\"VBar\"},\"selection_glyph\":null,\"view\":{\"id\":\"1142\",\"type\":\"CDSView\"}},\"id\":\"1141\",\"type\":\"GlyphRenderer\"},{\"attributes\":{},\"id\":\"1113\",\"type\":\"LinearScale\"},{\"attributes\":{},\"id\":\"1156\",\"type\":\"BasicTickFormatter\"},{\"attributes\":{},\"id\":\"1125\",\"type\":\"PanTool\"},{\"attributes\":{},\"id\":\"1126\",\"type\":\"WheelZoomTool\"},{\"attributes\":{},\"id\":\"1111\",\"type\":\"LinearScale\"},{\"attributes\":{\"overlay\":{\"id\":\"1162\",\"type\":\"BoxAnnotation\"}},\"id\":\"1127\",\"type\":\"BoxZoomTool\"},{\"attributes\":{},\"id\":\"1128\",\"type\":\"SaveTool\"},{\"attributes\":{\"callback\":null},\"id\":\"1109\",\"type\":\"DataRange1d\"},{\"attributes\":{},\"id\":\"1129\",\"type\":\"ResetTool\"},{\"attributes\":{\"fill_alpha\":{\"value\":0.1},\"fill_color\":{\"value\":\"#1f77b4\"},\"line_alpha\":{\"value\":0.1},\"line_color\":{\"value\":\"#1f77b4\"},\"top\":{\"field\":\"score\"},\"width\":{\"value\":0.8},\"x\":{\"field\":\"id\"}},\"id\":\"1140\",\"type\":\"VBar\"},{\"attributes\":{},\"id\":\"1130\",\"type\":\"HelpTool\"},{\"attributes\":{\"callback\":null},\"id\":\"1107\",\"type\":\"DataRange1d\"},{\"attributes\":{\"active_drag\":\"auto\",\"active_inspect\":\"auto\",\"active_multi\":null,\"active_scroll\":\"auto\",\"active_tap\":\"auto\",\"tools\":[{\"id\":\"1125\",\"type\":\"PanTool\"},{\"id\":\"1126\",\"type\":\"WheelZoomTool\"},{\"id\":\"1127\",\"type\":\"BoxZoomTool\"},{\"id\":\"1128\",\"type\":\"SaveTool\"},{\"id\":\"1129\",\"type\":\"ResetTool\"},{\"id\":\"1130\",\"type\":\"HelpTool\"},{\"id\":\"1143\",\"type\":\"HoverTool\"}]},\"id\":\"1131\",\"type\":\"Toolbar\"},{\"attributes\":{\"callback\":null,\"data\":{\"address\":[\"11wuUYRFfbkjHTsqC6HhhvAV1jJUR2mC2MHxSigWnoyiGZuRgrJ\",\"11qXzvWwBX49LPHXZVKtT7aM2tKDUaHamHaPo2ajMvXxGs42s2y\",\"112vHYHXQNm7aVFAtjCVyqnHYTRPCKEib8uMUX71XFHPjDgwq4MV\",\"11DeGngCtZsML4EhRgPiJVp7feAN4XYwEiZhCKLy2SeQp8QWP7D\",\"112gt6GzN2wkKDXnzqwFJ4yshernCP1KpZEhdgYJ9yv7D6K3kyjT\",\"112P4UBvvAwDM11o6eHE6w44hGWq7ukNo4skTLSTsWYZx3wxPMqu\",\"112euXBKmLzUAfyi7FaYRxRpcH5RmfPKprV3qEyHCTt8nqwyVFYo\",\"112uFMbu9bTXe9tJzuaL1MoM7UksPK4F928VmBf9Hxzc6BjRK9Pp\",\"11nbEwo5k75mdE4nN9f9m6L5Q79dkbTukf48u2233ij6MQYEz3c\",\"11CAwto42LXquADz1asH4gWU6yUbSi1hATDijYm8ZM4Z7RtzeQK\",\"112YjHE6vZ72o2nypeBbsUTs6V5Z6CBXakKjQJKKCXHsAPPJrmvA\",\"112rDaPoAGdzXELF7t1iLj7BM8cCtezYoNAkwFECSLqGxR4iVMaj\",\"112kFNJoxBYn7UWwZqUABrTXjhn7mkP8ePrbi6w9Hj1NXJfodwP3\",\"11XC5VxSHnB2v9B8Kx3guqwTRLmY3hfar3EALunYsJMoT6TKJxV\",\"11yXFNu9Je9gvVfyuA8jS8z6faNcZW7kPwPApWYThTk416LGmU\",\"112dcfpxdtNKPTrKvzKmXHqLAq7R1Npq35Ehjepe9n2p7WA4mSXp\",\"1158boTwaXLng68TD1UauDnZeB1oCGRPqG7nQ2bL2yovkA2ntV3\",\"11uoSXSsPuuTv1cprZEqNuw5r8giCsAoqDXgsdFMR2G11tLKjkr\",\"112eFfqt75oqXa62iE8tsfLhgH3vSNAcnGLzEwGdUYun1zCAYKTR\",\"11jihKNVbs5Sd85ekMAiLHvq5oDEWCEs7rbSdJ2WtQbLXETbMe9\",\"112NxxWUZzAPDoJmrpnHH7nPn7hAFYVjTibYSS2p7vfXWhz8BuQF\",\"11vsUeTb8g4KcELPctghGLSDWhUDGAEAkiAhERU3euC69HSNvca\",\"115j9cnpxSmkYEdzjvFuMycz4VAea4zC9DicMKHZUHwc6aQVTTE\",\"1125mBeoEZ2e1TSiKtxUbeUS2jhPcb6X6ELyxUZeEKxgpAXL2QXC\",\"112PW6ZvGNWssGPX6k769dzercrmdRyBUwrsY5xfCgQiSWPWrxHF\",\"112TN1Cdqbi7LXaKBQKprjY7LVmVyePNACmB1ewk27M8raEVGmCz\",\"112cN1U82HCb2BN8E7XgmoniPTurcKg97WnJi2oXDupSMHpgiDid\",\"118EwwvzarVrtvaCfnRhCP1BBcdLaQRLBDKZ3coW17JHhKaj6p1\",\"112MCMqvkbdfbQ4BLopnGpMdnSeNUBEchHCbHsU2CMAZjRJKD3aB\",\"11sJGePtegp3KSmX2VSHSJy2kvkhNUHcLh1Xprs3m7FHwnEonfo\",\"112uVWq45n18AQnCASMpTiAsMcQvE7oqmtYji9FHab2yxfWsbmhX\",\"11iur9BrnJY2FunsLyH9FwLfqHa8C4Cue3R5WGFJmbYh2FrpbBh\",\"112Mki5uohp3EYjEwAKzrQStUf9FPZBKuzwnpRAiMboE6K6pTEhc\",\"112TW3Cp2GWLPs9veKMYFtw7DVaDHU6dsEE8GAggBVjEuf2TWttr\",\"11278GCrhcGcZorQmQgXefjPZWApFD9vHco9EzYytkkgepSx4cnW\",\"112HrGmRZ1iUFPNRzbMoAAiHHgHzrmkFLwdzwmUww457JsHN2VDm\",\"11jngF85QQc4JUvkK4uJ79vY7zLY6SrgKw911wpmiBvgMHsUJma\",\"11ubZi6poph2dLTc9jvJwNtjkJxF8WaneDSdMcDoA1tcyb47rFo\",\"11xKKZwHYZpWcEamiZmyCA1v6YmfcfagQMGf9BJfMnDDiXkhRgV\",\"11WPxVmJ83FKQkU83zbREvV2MtvkSaKeQenbJHdXWNESDu4c2bk\",\"11z6NPpfsdWZgGb5zSNz2VqHioyoVYmAGjANTPGwBKo26fBxb2U\",\"1124eHFSCjQTouUNkC23dhN8BUUYQHnwdobZGHZwJvTq1PN72xsb\",\"11sguEykEnHMXbw14nqo7mCwn18FsKFegaS3tcRqd2fgSKeaKcA\",\"11xWTUFRswoQM82EWQqDCRCixmX57UjzXLKdeKaXhGpsp66tho\",\"11EEx27SnCWb8qB87AX5XptnHNhpJx9y8YtQYHME1XNLTzTUxWD\",\"11bgTZaeRTiGuH11dE25H2D1FFM5tvtrHTNJnhAK6TwwrH57t88\",\"112NhNhURvqksxppa8bxjMku5e51h8rqub36rFA5Kgo8nPdM5KHS\",\"114VvEadECxmrrF4ccY3ai2XQzGdikovfJwBJEAsMuX8Wg9iWAR\",\"112jsPCWDbhYb1u1brqYGHkxdnpt8JSE91gRYCH5HKyFcsW16Tkx\",\"1123zdwvvayz9Nqxx4UtkGZecWhgDUmcdMJmG5qXccB1iW51dJgA\",\"112p1sK1ip8ZAAXC2txtJthSKUxgHxSCvhZCv9Mt6wmVqTGu6uyK\",\"112G1KhXpvMnPYw9ze7VsiLizG7SpVU81zFXyt2bcZBQwPS3Uh4L\",\"11aS1fM9HHVHzRgjVtcP55559X8pMnkCUdSttfZUohqH84sNQpM\",\"11BL252rVXxYyNe6P6kJ8udk4VHix7NVV4ASQTP2prr8KJB2YPi\",\"11qd6UNmuQsR5FUNc1LAKJM1r7kfx37WGc1csYbvkmUGUTx992K\",\"112MDVNM62dXFzXmPzNySnsXV58WyWJhDEH4zU1Xipb9F519Dy9q\",\"112c7xWEsNLTnPhWmmETrZ8P6BxqNnTZtBymmjifBgjKariw8YXw\",\"112D36ZCcFouGU5X5wVCXsikGEsEkpcLYFyrrKHcRowzENXq6yso\",\"112d7fa4ymaWLu1AVVgMtyRA3DbhvRCeNcTYK8oc64Xxq3PaQmLw\",\"112Sgw2sZf1BKAPqVH677a2HeE9TKYkgjGkPj7L5iLPvjrPA39hg\",\"112DFZH7yJwntcPMscyL91zb1LayjGpizEuMViAZvDQftiaPSiB9\",\"11Z4vYLzvwkuDegD95bDmDURYb5Q2BV69yCpeaf81372SkfktxC\",\"11ckxdQsReXpqwCrbbREZj6urEuNEGf2Zk5d4UnsuPMsJDSihwy\",\"112X5u9nq4v5RDcUSfGJXBG8dgCzvRTW7bfS4oZ9qnQU17vcQ5y2\",\"11uEMMjzw2bpuWW1cQHJLKPUiqzm3B8HHPtqsuiXZEhX4VxB4rB\",\"11BaVHGtAa5K1sb2xosiF3LepjrgK5iT7ZUjqkM6KDLS5Xd9VKh\",\"11t2h6ERRn2kbgjFF2hdQLZwvHcMS5NqykN3FEFRzvdf9K9QE1y\",\"11xkVWtJgF4xrRxhSy1mxYZvWc6anKA3QtrNJWdqP7J3wNkJ8tC\",\"112JHZsfc2sPfx1N9fjJ1HzhJou3o5LWgaWZYvnXAkcQktX9YLS7\",\"112sYD4tioU5RXg6t4aw74mP4NDxqrWptCqRFEeK5cauGqGYKaL4\",\"11J8sVCSMqmPQsS7vz5LEoKEYEARUWSt1iooWd7pp1vwYUqDoJg\",\"112u3Zr3oTs6TSBewf649PSiM1fCGg58gmhoAxvTZwtCeViB8XG1\",\"11Hh17C2pg8ig1ftU6H1UpSRQDVxZZtQNuJ56qryHMuD5w958Tr\",\"118Wc9tJaNA6xNbDjVenT52ueyfvXAcrzH4Lwppd5dG2QLDQ34C\",\"11hju5Kc94T9xbgA8Ri88LpX7sb79kMq7ET5A4xUF7AKsfvu9HM\",\"1127q7QEWN68TxVZ5wjPKBVGtjN51HGoiSiA6WJvR9ZzX9soHFBe\",\"11ECEKeyCjknk2Z7AG7gxVcVnWjmksJE1Wzq6C7BBZE239HjuFD\",\"11T5peiN6VsfEqTXzctRwQzSqkbaxx8HGeyjR6fyoAgAn1Y4sA9\",\"112dqJt9WfNqGPBbbz9Au42DZ1RUkpZAUWgnSmZ9R8nhDxQeNLCW\",\"11tWRj2Qhnn177iVYm3KUmbPdMyhRfeqHqk9kCyiR7y57hdG9JA\",\"112aeWRZdyz61Y7EQeMbXwqERNMPnciDvsxyFmhz1UfA9hte4R4W\",\"112UuTZGP8Vd4p4x7LX3MrQQkimrQVGsgDCq5EvQLvRYGUNZhH2T\",\"11dj5k2dwSUE7fqFnwAHK9stLd3St9MJiJuaRnvvRgJjbRMZgKJ\",\"11kzHgDkiGfCiX96fWz6riNGxjCCXy6bVvyn4SDwzjzwMXNhndU\",\"11o9ve9x4siBxXWSBZnXL6gmSJJ6dJKEGDGNoZTC1QpVDdGKeaN\",\"112s1E6JsKmjNrZp2s28Tk4VFuB49cZUjZ41qho7Uq9yYJyvyH1R\",\"112E3xyWmdj6N9CzN6KNPDPEzz8yxrY8C49SFSiN1zpARzizVY6z\",\"112opbmPimyyAT1Y5GxeEJSDXM2ZfTHAZRUMLGcADTyGXAe8Hr4\",\"112kQbfzXkyxTSTxUpztvPLMJLB2koLro9LJesumSGpdNUBhWzBN\",\"11YDCwbL1dkC7gToXTcEn5CQHTnjittZ7ZqTUsPjD6ba8hASZNe\",\"11rWkkY2rjp1hfZ2noxtwRALArbf12hMzdytHVQrY1c1PzBX4iR\",\"113kQU96zqePySTahB7PEde9ZpoWK76DYK1f57wyhjhXCBoAu88\",\"11oCfnQtekNbhEZLF2YA87jJr9mk9dogSEGoXCBboFR3CR7rR6v\",\"11MFNwMS56vpKvK4iBvMfp3dipCpQA623XaFDvoCu2AACKvwcSX\",\"11Csdm4xr7W3j1vJsZKQ5o5qnGQiwcjBqrW3qRiVDxqad395dKD\",\"112rNX8mnZBZWf6ixnksygsrahNYyHz7S9BExjqPCxhEqSPcxF38\",\"112MtP4Um2UXo8FtDHeme1U5A91M6Jj3TZ3i2XTJ9vNUMawqoPVW\",\"11idAPnBHP3AM3SjkpFRGy7XLVv12oecTFLHGBMfmBSvzNY9CW8\",\"112jpXUSkDJuykaNzrnTVGBWTrr5tukBSXUdZRKUsKAEMru6uucu\",\"11k4Gn6Qhs6JDet1w1fKxUe647zw4KRiZCYhNBtqYCL16BNmjRo\",\"11uvA9ZLXGUY5onTtAvMhSxjs4zMuGMganv1xSbipCxRCurUHuH\",\"11VKaN7fEvDm6NaGhcZtNSU1KAQQmTSwuuJsYYEqzh8mSWkoEUd\",\"112rGFR4TPSbrdTAPgP556n9ffst7tE5Xooua9QURbV4XeVoQgiD\",\"112Z6fYnkQa8VAyMWHoaZJVzrxbWPoJV2NCfdZmaNoG1pYxWdGwD\",\"112wh3mYwP6N8XbYgeU5JPp2L9rNJD5Qv8SGHxRjboybiAxJtRVt\",\"11YZSQ1DfKg5YwvoqKJRtKMBQnuRL6ofxyQPrMcsPPGEZdHVf2q\",\"1126WubKPpmEW6uCgcuXMfn4tHEp2rPr9sCrR9YXj2Vvg4gL3QC2\",\"11qTZbaXb3ZxWD3fW4PmVJryWXyY5dCPaSTKmvDhgEBk8bxTSvS\",\"112XLTxP3R8fXdmFsX6EYBpz4yQkJWZVNBuNjk8n2nw7dU14Fmcy\",\"11Kj6LV5M51PzPjBVbtgESL625SsrzdPoi59PDPQ2xdeozNuRuq\",\"11DMUS9sEDngNh5RF1k4pb23Ucbb9fN9RwPDd1ZMAJJiCjvo3Xx\",\"114FX56Ua6joFNmHAugjKR1wfopRyYEzbtgn6bodvSHXdKSwZPg\",\"115pxxv1H6xuq5NykL2PjzQqZqKv1bJdig2sxyN79ukBVGWXbPn\",\"11AUHAqBatgrs2v6j3j75UQ73NyEYZoH41CdJ56P1SzeqqYjZ4o\",\"11sAaGTavNJjGgpcoRL5GQACTbWQq4zvftgrZwjabMqJRNfyZn4\",\"112dFRPoWZmWehmiU1cdU2jbE213RB772urDC1HxUSZfQ7KVJaN5\",\"112aVmnM3bJsA1gM9fjNPSvAeY4LkrMzNJdHRfTdtZ9nTgWZgncs\",\"112VYECRxdyUixsN3KyTMdJaNdGGNF6UARwS5Pkyi86xoiBkSyLU\",\"112LfWf61hKR2mCKbuyqt3w2UCtytbFCmo2QJ4xdACR6c768LtiR\",\"11KeUR4Ure4DBFJE1TGg2nr4E7k2T8keAiBqmB9PEgMdWGB7eJh\",\"112rS6gCz9FQmcw2hrdnEJRLLAeWpSmtHYeC6nAuDrDutPWm2RYz\",\"11cEr5Um2a7Zbqw7Pozrc3DjEXvQptTtdVo5y132Kwo94ax11DD\",\"11TUDQEnZa8KXwuCNPVjLWboFGnVskfua1dRkEvmaNgriMWBwAf\",\"1127scjX1wymbXwV5eToMTV7cy8xghMddGb6QtiNhqSwLfSYksdQ\",\"115JucmPFDKUwvE4fkHR6GyQsttSUMi11KYme6pRcRTVXTqE7ww\",\"11TBjxKGcjG6wocUxWMccv8FU8LaPf72YiPXooPw4XuFLgHNAAi\",\"112D3iyBgtLeh5SPhshjZXQDV2XX2FdSMVSoC1fryANqdKPc3gLY\",\"112stmZdJDjyvuGEJLCkUa5kPnmra5Svz72G3GdcyQQ9h3i55D48\"],\"id\":[128,127,126,125,124,123,122,121,120,119,118,117,116,115,114,113,112,111,110,109,108,107,106,105,104,103,102,101,100,99,98,97,96,95,94,93,92,91,90,89,88,87,86,85,84,83,82,81,80,79,78,77,76,75,74,73,72,71,70,69,68,67,66,65,64,63,62,61,60,59,58,57,56,55,54,53,52,51,50,49,48,47,46,45,44,43,42,41,40,39,38,37,36,35,34,33,32,31,30,29,28,27,26,25,24,23,22,21,20,19,18,17,16,15,14,13,12,11,10,9,8,7,6,5,4,3,2,1],\"index\":[0,1,2,3,4,5,6,7,8,9,10,11,12,13,14,15,16,17,18,19,20,21,22,23,24,25,26,27,28,29,30,31,32,33,34,35,36,37,38,39,40,41,42,43,44,45,46,47,48,49,50,51,52,53,54,55,56,57,58,59,60,61,62,63,64,65,66,67,68,69,70,71,72,73,74,75,76,77,78,79,80,81,82,83,84,85,86,87,88,89,90,91,92,93,94,95,96,97,98,99,100,101,102,103,104,105,106,107,108,109,110,111,112,113,114,115,116,117,118,119,120,121,122,123,124,125,126,127],\"lat\":{\"__ndarray__\":\"qpHhRB4vPkCQWG8jA3Q+QCMl7YU2ST5AHN7/8yzcQkBGddP9qgRGQIc5CAoWRD5AwIZO8hukQkBXqZtsJD4+QEZihSNp4EJA5R2izxfiQkBLyzjYa0c+QGcQ8l5Y4kJAA0Ss10fsQkBHaZMG0EI+QIrES3JL5EJAH19u2S9KPkCbOoPnQ3A+QBFb8XWVdj5A2ph4FrOzPkB08Se8wUE+QCwsdwIsTj5AuYLQpjxZPkAjoJig0n4+QJhr4MYXRz5AHZoob3VEPkDHwis1fEQ+QAlVgHbGKz5AwVHXPXJPPkCAzA2rq1A+QI2drU7hUj5ACdOwSr5KPkCOwATEtCc+QFs/sWIKQT5Awhi+dKA9PkBwuhqGPVU+QAJ7s26uKkJA+NA2i2J4PkCvoFh30D0+QMfAB4yTPT5AL2DW0tVEPkDylDkEU1s+QBfMcFqyRD5AQ6KRE01BPkDcxk5JwFM+QONnz+mzKkJA0Ku1k7taPkDIjNxkdz0+QMNki9dHOT5A/qHZq6c/PkAvvLOvqU8+QBcg5Ux7Oj5AdYmLAdJEPkBn4LtzbUE+QPDwxQk5RD5AQSWI8hpBPkCt4m6Ek0M+QL/26wKIQz5A7h4XHZ1DPkCb4S/dc0M+QPdkif1mSj5ATsKHqAA1PkCt4m6Ek0M+QOq6GAsALD5AEd9a94hDPkBqOGdXdEM+QJFHOIJkLz5A/YwcBqJEPkBYrgdePkM+QMqiruVyPz5AW/l0XohCPkD6o+vGDUU+QPydjLlLOD5Ae+qRd5aNPUCi7s51kkU+QLeMkFZzPT5Ah5o4lIVEPkADUigg4U4+QC10x4HH5EJAnkpN1J7jQkA9xSoG2g9DQL/uklZk40JAoEJTetvsQkDa7P37De1CQKJ9VZUAAkNAwb1n2r7iQkDHwis1fEQ+QPxaQTZ940JANQkCkJJDPkBhrTbjUOZCQCGSImCFOj5AcDGIRGpDPkBysCCudeJCQLtCT5TlqUJAabdnY+FBPkDzObfqWyNDQJzWyWKnyEJAbBZJhF0jQ0BYEtGKjeZCQKRXJRPL4kJAmfl2N5NIQ0Cr42ECm61CQATXp5OGD0NASgeYvUrkQkAE16eThg9DQGyp7Qas4kJAeP6k7KLhQkAQWYH1d0hDQIVklthoSUNAWD5BksCoQkBizbC8fuRCQDgZO7h25EJAfgW7HXXkQkD7W+wdMB9FQHj3l+gSu0JAjSjzO4OoQkBcyD2KgaZCQF5LGmTEp0JAlLOgY9SmQkBBeil+IOVCQNTT4Hj93EJAOngZONTmQkArTMN3EOFCQDrooCGG4UJABFDOYRvwQkBMq1T7r+RCQGOsGYIn7UJArE11GintQkCKP5dGFu1CQA==\",\"dtype\":\"float64\",\"shape\":[128]},\"lng\":{\"__ndarray__\":\"MCTCIZZ+WMBU3XByamtYwBw9nrOnbVjArBCObNBdXsAQdyTcpTdRwDABwHn4b1jAIB74v9CAXsCE2Yf5CXJYwBhVvmBQoF7AEH6k02WdXsBM7ZIMX3BYwFK6LkCunF7AtqGPxaqPXsCImPf4ZG5YwHRudGQXmV7AfBqCo2BxWMAMwNj8kGxYwEB77TIfc1jAPDTZc/9tWMDAOXBATm9YwEwadiZ2cVjArJqDs9h4WMDQA1jGBnFYwDCoj2eLb1jAIGR0r51vWMCIU+ryAHBYwHjAczZmc1jAvNwmmjBrWMCsGwLNWHZYwMAHOsmLb1jAEOoXEidxWMDEfNreanZYwOiM7kg7dVjAwPWB+kFyWMA0jerZyGxYwCxxN3C8j1fACG7/jDRpWMDgrwbiEnJYwNB14RALcljAiHhTlYVvWMCcfCmpnG5YwOSeaX+lb1jATHQ4nM9uWMCs76VzIHVYwAAZAHrTj1fABBCvFbRxWMAsxglKiHBYwLTLx3Pbc1jADFrsVHlwWMCkPB1I4W5YwPx4nKSgbVjAHH8L4KBvWMCQ5wYcynBYwPjTDvnbb1jAGIqBychwWMCw9DE8k29YwMDePpmbb1jAWF1chJhvWMAE7IXbl29YwMTlclb+cFjA2BAi6yFyWMCw9DE8k29YwDjNRWxjcljAxIGjxpRvWMBo9zhylG9YwBhIKkJfdFjATEX4doZvWMDYy/3zfG5YwOwhy4c3cFjAIN5Evx1yWMBEAbT60m5YwIg0J23MbFjASGjxKUGnWMBAn4clmnBYwOi/KJtccljAuBOnMOBuWMAwNxwhKHBYwPpjexrenF7A9JArFx6dXsCMrkbE8qFewOQs55srmV7AAiq4/fmRXsBuxTi6RpJewNBar+ulo17AvDhnkdSaXsCIU+ryAHBYwEjv8NwNm17AYLvNDppvWMBo+6lGPptewIy4FYOibVjAIH9dk5JvWMCYk8KT05lewIQC3eksgV7ARGwgoUlvWMDSHPuA45JewBxkxzzqkF7AFrjrAeCSXsBs8Xp/f5tewCS51KSqm17AvmVUVfNwXsDwTM2Ob3xewKKJ0LDYoV7AbMF++Q2ZXsCiidCw2KFewAgNzanRml7ArrS0k9WYXsDQuNOt3V9ewGZ3FUKCX17AVgIkhUGAXsCyQu0bwpxewHBOEXzTnF7ANoiw9dacXsAklCNnj7lRwFi3u+ZGiV7AVgvuSTiBXsBQ0VPz2YFewGZEHwgUgl7ATMnPY7SBXsAqOWa3uJlewAgEVjAJnF7AYMa+PX+bXsB0V6WrfJtewAj+JUzmm17Axow6paiSXsCGVSwAGJlewGpgcgIPkl7AeITxhguSXsD8h0mhCJJewA==\",\"dtype\":\"float64\",\"shape\":[128]},\"location\":[\"8c4898da3aa03ff\",\"8c489e2502591ff\",\"8c489e351c2dbff\",\"8c2836af5aee3ff\",\"8c2b1a26c7343ff\",\"8c489e3463167ff\",\"8c28347257965ff\",\"8c489e3635863ff\",\"8c2830958b5d9ff\",\"8c283095acf1dff\",\"8c489e3404f51ff\",\"8c283082d2f69ff\",\"8c28308ac46b9ff\",\"8c489e35591b3ff\",\"8c283082a1165ff\",\"8c489e3439621ff\",\"8c489e255394bff\",\"8c489e26b4e21ff\",\"8c48984a0d525ff\",\"8c489e346cf1bff\",\"8c489e343363dff\",\"8c4898cb3b419ff\",\"8c489e24849bdff\",\"8c489e3428a27ff\",\"8c489e3467757ff\",\"8c489e3463a9bff\",\"8c489eacac5b3ff\",\"8c489e22ca165ff\",\"8c4898cb644edff\",\"8c489e35894adff\",\"8c489e343800bff\",\"8c489eacd5647ff\",\"8c489e36c4c59ff\",\"8c489e363531dff\",\"8c489e35acb0bff\",\"8c26ed42c2355ff\",\"8c489e2ec12d9ff\",\"8c489e3635a61ff\",\"8c489e362258dff\",\"8c489e3467523ff\",\"8c489e35b08c9ff\",\"8c489e3467409ff\",\"8c489e3732297ff\",\"8c489e34d7409ff\",\"8c26ed42c38ddff\",\"8c489e2648963ff\",\"8c489e371af5dff\",\"8c489e360aec1ff\",\"8c489e3712435ff\",\"8c489e35c46b9ff\",\"8c489e372b061ff\",\"8c489e346743dff\",\"8c489e3444551ff\",\"8c489e3463b1bff\",\"8c489e344476bff\",\"8c489e34608dbff\",\"8c489e3460f6bff\",\"8c489e3460f29ff\",\"8c489e3460a97ff\",\"8c489e34398c7ff\",\"8c489e366ab37ff\",\"8c489e34608dbff\",\"8c489ead992e7ff\",\"8c489e3460f65ff\",\"8c489e3460abbff\",\"8c489eacb5263ff\",\"8c489e3467569ff\",\"8c489e3558287ff\",\"8c489e3712f41ff\",\"8c489e345d993ff\",\"8c489e355a2e1ff\",\"8c489e3766d4bff\",\"8c489c02b8211ff\",\"8c489e340cd49ff\",\"8c489e363c8b7ff\",\"8c489e355b0d1ff\",\"8c489e35cb4abff\",\"8c2830829220dff\",\"8c2830829b095ff\",\"8c2830aa255d5ff\",\"8c283082a9b17ff\",\"8c28308adab2bff\",\"8c28308adac45ff\",\"8c2830b81125bff\",\"8c283082810b9ff\",\"8c489e3463a9bff\",\"8c28308283a3bff\",\"8c489e3460f63ff\",\"8c283082b31edff\",\"8c489e372b063ff\",\"8c489e3460ab9ff\",\"8c283082e3589ff\",\"8c283472e78c7ff\",\"8c489e346cc61ff\",\"8c28300500b35ff\",\"8c28346692107ff\",\"8c28300500949ff\",\"8c283082b35abff\",\"8c2830828a449ff\",\"8c283079278d5ff\",\"8c2834702cd57ff\",\"8c2830aa2529dff\",\"8c283082a1a4bff\",\"8c2830aa2529dff\",\"8c283082810c7ff\",\"8c283082e1941ff\",\"8c2832b020259ff\",\"8c2832b02713bff\",\"8c283472328c9ff\",\"8c28308293335ff\",\"8c2830829304dff\",\"8c28308293049ff\",\"8c2a302d6c569ff\",\"8c283475d4eedff\",\"8c283472ecedbff\",\"8c28347213117ff\",\"8c283472c4b27ff\",\"8c28347213991ff\",\"8c283082a31dbff\",\"8c28309506ec1ff\",\"8c283082b2519ff\",\"8c283082c26b9ff\",\"8c283082d5485ff\",\"8c28308f4daadff\",\"8c283082a18b3ff\",\"8c28308ad326dff\",\"8c28308ada9b3ff\",\"8c28308ada981ff\"],\"long_city\":[\"Austin\",\"Austin\",\"Austin\",\"Tracy\",\"Vinalhaven\",\"Austin\",\"Saratoga\",\"Austin\",\"San Francisco\",\"San Francisco\",\"Austin\",\"San Francisco\",\"Oakland\",\"Austin\",\"San Francisco\",\"Austin\",\"Austin\",\"Austin\",\"Georgetown\",\"Austin\",\"Austin\",\"Austin\",\"Austin\",\"Austin\",\"Austin\",\"Austin\",\"Austin\",\"Austin\",\"Austin\",\"Austin\",\"Austin\",\"Austin\",\"Austin\",\"Austin\",\"Austin\",\"Bentonville\",\"Round Rock\",\"Austin\",\"Austin\",\"Austin\",\"Austin\",\"Austin\",\"Austin\",\"Austin\",\"Bentonville\",\"Austin\",\"Austin\",\"Sunset Valley\",\"Austin\",\"Austin\",\"Austin\",\"Austin\",\"Austin\",\"Austin\",\"Austin\",\"Austin\",\"Austin\",\"Austin\",\"Austin\",\"Austin\",\"Austin\",\"Austin\",\"Austin\",\"Austin\",\"Austin\",\"Austin\",\"Austin\",\"Austin\",\"Austin\",\"Austin\",\"Austin\",\"Austin\",\"San Antonio\",\"Austin\",\"Austin\",\"Austin\",\"Austin\",\"San Francisco\",\"San Francisco\",\"Novato\",\"San Francisco\",\"Berkeley\",\"Berkeley\",\"San Rafael\",\"San Francisco\",\"Austin\",\"San Francisco\",\"Austin\",\"San Francisco\",\"Austin\",\"Austin\",\"San Francisco\",\"Cupertino\",\"Austin\",\"Napa\",\"Foster City\",\"Napa\",\"San Francisco\",\"San Francisco\",\"Davis\",\"Santa Clara\",\"Novato\",\"San Francisco\",\"Novato\",\"San Francisco\",\"San Francisco\",\"Sacramento\",\"Sacramento\",\"Cupertino\",\"San Francisco\",\"San Francisco\",\"San Francisco\",\"Hingham\",\"East Palo Alto\",\"Cupertino\",\"San Jose\",\"San Jose\",\"San Jose\",\"San Francisco\",\"San Francisco\",\"San Francisco\",\"San Francisco\",\"San Francisco\",\"Berkeley\",\"San Francisco\",\"Berkeley\",\"Berkeley\",\"Berkeley\"],\"long_country\":[\"United States\",\"United States\",\"United States\",\"United States\",\"United States\",\"United States\",\"United States\",\"United States\",\"United States\",\"United States\",\"United States\",\"United States\",\"United States\",\"United States\",\"United States\",\"United States\",\"United States\",\"United States\",\"United States\",\"United States\",\"United States\",\"United States\",\"United States\",\"United States\",\"United States\",\"United States\",\"United States\",\"United States\",\"United States\",\"United States\",\"United States\",\"United States\",\"United States\",\"United States\",\"United States\",\"United States\",\"United States\",\"United States\",\"United States\",\"United States\",\"United States\",\"United States\",\"United States\",\"United States\",\"United States\",\"United States\",\"United States\",\"United States\",\"United States\",\"United States\",\"United States\",\"United States\",\"United States\",\"United States\",\"United States\",\"United States\",\"United States\",\"United States\",\"United States\",\"United States\",\"United States\",\"United States\",\"United States\",\"United States\",\"United States\",\"United States\",\"United States\",\"United States\",\"United States\",\"United States\",\"United States\",\"United States\",\"United States\",\"United States\",\"United States\",\"United States\",\"United States\",\"United States\",\"United States\",\"United States\",\"United States\",\"United States\",\"United States\",\"United States\",\"United States\",\"United States\",\"United States\",\"United States\",\"United States\",\"United States\",\"United States\",\"United States\",\"United States\",\"United States\",\"United States\",\"United States\",\"United States\",\"United States\",\"United States\",\"United States\",\"United States\",\"United States\",\"United States\",\"United States\",\"United States\",\"United States\",\"United States\",\"United States\",\"United States\",\"United States\",\"United States\",\"United States\",\"United States\",\"United States\",\"United States\",\"United States\",\"United States\",\"United States\",\"United States\",\"United States\",\"United States\",\"United States\",\"United States\",\"United States\",\"United States\",\"United States\",\"United States\",\"United States\"],\"long_state\":[\"Texas\",\"Texas\",\"Texas\",\"California\",\"Maine\",\"Texas\",\"California\",\"Texas\",\"California\",\"California\",\"Texas\",\"California\",\"California\",\"Texas\",\"California\",\"Texas\",\"Texas\",\"Texas\",\"Texas\",\"Texas\",\"Texas\",\"Texas\",\"Texas\",\"Texas\",\"Texas\",\"Texas\",\"Texas\",\"Texas\",\"Texas\",\"Texas\",\"Texas\",\"Texas\",\"Texas\",\"Texas\",\"Texas\",\"Arkansas\",\"Texas\",\"Texas\",\"Texas\",\"Texas\",\"Texas\",\"Texas\",\"Texas\",\"Texas\",\"Arkansas\",\"Texas\",\"Texas\",\"Texas\",\"Texas\",\"Texas\",\"Texas\",\"Texas\",\"Texas\",\"Texas\",\"Texas\",\"Texas\",\"Texas\",\"Texas\",\"Texas\",\"Texas\",\"Texas\",\"Texas\",\"Texas\",\"Texas\",\"Texas\",\"Texas\",\"Texas\",\"Texas\",\"Texas\",\"Texas\",\"Texas\",\"Texas\",\"Texas\",\"Texas\",\"Texas\",\"Texas\",\"Texas\",\"California\",\"California\",\"California\",\"California\",\"California\",\"California\",\"California\",\"California\",\"Texas\",\"California\",\"Texas\",\"California\",\"Texas\",\"Texas\",\"California\",\"California\",\"Texas\",\"California\",\"California\",\"California\",\"California\",\"California\",\"California\",\"California\",\"California\",\"California\",\"California\",\"California\",\"California\",\"California\",\"California\",\"California\",\"California\",\"California\",\"California\",\"Massachusetts\",\"California\",\"California\",\"California\",\"California\",\"California\",\"California\",\"California\",\"California\",\"California\",\"California\",\"California\",\"California\",\"California\",\"California\",\"California\"],\"long_street\":[\"Mesa Verde Drive\",\"Emmett Parkway\",\"Larry Lane\",\"Remington Way\",\"Unknown\",\"West 2nd Street\",\"De Havilland Court\",\"Manchaca Road\",\"Noriega Street\",\"Lincoln Way\",\"Lorrain Street\",\"Clayton Street\",\"Ocean View Drive\",\"East 4th Street\",\"Bryant Street\",\"Norwalk Lane\",\"Wells Branch Parkway\",\"Patricia Court\",\"Winecup Way\",\"Rainey Street\",\"Velasquez Drive\",\"Lakecliff Hills Lane\",\"Belfin Drive\",\"West 15th Street\",\"West 5th Street\",\"Nueces Street\",\"Unnamed Road\",\"Betty Cook Drive\",\"Lowell Lane North\",\"Shoalwood Avenue\",\"Forest Trail\",\"Yandall Drive\",\"Crystal Water Drive\",\"South Lamar Boulevard\",\"Bennett Avenue\",\"Southwest Boulder Street\",\"Manjack Cay Drive\",\"Manchaca Road\",\"Manchaca Road\",\"Congress Avenue\",\"Sales Street\",\"West 6th Street\",\"Holly Street\",\"Manana Street\",\"Southwest Boulder Street\",\"Williams Ridge Way\",\"Durwood Street\",\"Pillow Road\",\"West Milton Street\",\"Guadalupe Street\",\"East Riverside Drive\",\"Unknown\",\"South Lamar Boulevard\",\"West 4th Street\",\"South Lamar Boulevard\",\"Congress Avenue\",\"Congress Avenue\",\"East 2nd Street\",\"Congress Avenue\",\"Woodmont Avenue\",\"South 1st Street\",\"Congress Avenue\",\"South Congress Avenue\",\"Congress Avenue\",\"Congress Avenue\",\"Davis Lane\",\"East 6th Street\",\"East 6th Street\",\"West Milton Street\",\"Graywood Cove\",\"East 11th Street\",\"Maxwell Lane\",\"Gallant Forest\",\"West 5th Street\",\"Texas 343 Loop\",\"East 8th Street\",\"West 35th Street\",\"Sacramento Street\",\"Stanyan Street\",\"Malobar Drive\",\"King Street\",\"Acton Street\",\"Ashby Avenue\",\"Las Colindas Road\",\"Mission Street\",\"Nueces Street\",\"Gough Street\",\"Congress Avenue\",\"Filbert Street\",\"Faro Drive\",\"Congress Avenue\",\"Division Street\",\"Colby Avenue\",\"Rainey Street\",\"Tade Court\",\"Widgeon Street\",\"Agile Street\",\"Octavia Street\",\"Haight Street\",\"Quail Street\",\"Alviso Street\",\"Andale Avenue\",\"Federal Street\",\"Andale Avenue\",\"Mission Street\",\"3rd Street\",\"11th Street\",\"O Street\",\"Bret Avenue\",\"Laurel Street\",\"Collins Street\",\"Manzanita Avenue\",\"Thaxter Street\",\"East Okeefe Street\",\"Pineville Avenue\",\"Rainbow Drive\",\"Unknown\",\"Arlington Lane\",\"Montgomery Street\",\"Capistrano Avenue\",\"Octavia Street\",\"20th Street\",\"Collingwood Street\",\"Cornell Avenue\",\"Harrison Street\",\"Ashby Avenue\",\"Ashby Avenue\",\"Carrison Street\"],\"owner\":[\"14CryK8VwHBvWZvU4hEdbYBeUxrW7ZkWbfWGs2QefJzKxQbbxm8\",\"13jL4pTLq4JQBwDoH1ZBX3VPchmeTZxQSGi4cnyXXuzPPoKxcd5\",\"149ojHmuDHk7hhJbww5xUpv68jgR1GFTFttcBV87eBvHkRMestS\",\"13b75UVnSQAxRiyxc1T2q8hgwcrYg6qTVj48PRyEL69os7x2aXN\",\"13ZoK5nhUY1bLMTPr81LL2pG4gxN4pmtCNCJSmLh7BVhk8EEmLv\",\"13q8L4fQHYFPBENYugVJuwtG1yrvmr4dvhxJtQzxWEbfNhF9Gny\",\"13jFJ9LmooHjv6TnFWNryLDrDU3bEBf3FpCWfcdUN6NEDatm8o1\",\"14p1ECNRHUpxazwib3VijrNsmsAAsuMfMa84uCsXxp6JqZ29eaY\",\"12z4nUiayZnbW46azcegBBB9yGkchFb1Zm7EPuh6eV1r2HT1NgC\",\"14aEqJhfWwvynhHSzP4cLuZuW7yuENkdD3nu3yFZBQmZNpaYMa5\",\"13jL4pTLq4JQBwDoH1ZBX3VPchmeTZxQSGi4cnyXXuzPPoKxcd5\",\"13PqfSmY66odJDdEUYVuUewaNqe43zenTdvjvTfvMwBtBRh4ZMn\",\"1383ziQFpmSiW4Q6Nw73eaR6f5oTP4PsjzaECbf3mGVd2TrqKqq\",\"13jL4pTLq4JQBwDoH1ZBX3VPchmeTZxQSGi4cnyXXuzPPoKxcd5\",\"142MT8yuvepnVCwkVxgBPddotHcXKJXtw1yCXVhobawMv3w8L99\",\"13jL4pTLq4JQBwDoH1ZBX3VPchmeTZxQSGi4cnyXXuzPPoKxcd5\",\"13jL4pTLq4JQBwDoH1ZBX3VPchmeTZxQSGi4cnyXXuzPPoKxcd5\",\"13jL4pTLq4JQBwDoH1ZBX3VPchmeTZxQSGi4cnyXXuzPPoKxcd5\",\"13jL4pTLq4JQBwDoH1ZBX3VPchmeTZxQSGi4cnyXXuzPPoKxcd5\",\"13jL4pTLq4JQBwDoH1ZBX3VPchmeTZxQSGi4cnyXXuzPPoKxcd5\",\"13ZoK5nhUY1bLMTPr81LL2pG4gxN4pmtCNCJSmLh7BVhk8EEmLv\",\"13jL4pTLq4JQBwDoH1ZBX3VPchmeTZxQSGi4cnyXXuzPPoKxcd5\",\"13jL4pTLq4JQBwDoH1ZBX3VPchmeTZxQSGi4cnyXXuzPPoKxcd5\",\"13jL4pTLq4JQBwDoH1ZBX3VPchmeTZxQSGi4cnyXXuzPPoKxcd5\",\"13o9KUMcmEdhtjXRaJ5AANHLZWBoGcTmF4MFw3MjQbubjR57jXW\",\"13jL4pTLq4JQBwDoH1ZBX3VPchmeTZxQSGi4cnyXXuzPPoKxcd5\",\"13jL4pTLq4JQBwDoH1ZBX3VPchmeTZxQSGi4cnyXXuzPPoKxcd5\",\"13jL4pTLq4JQBwDoH1ZBX3VPchmeTZxQSGi4cnyXXuzPPoKxcd5\",\"13jL4pTLq4JQBwDoH1ZBX3VPchmeTZxQSGi4cnyXXuzPPoKxcd5\",\"13jL4pTLq4JQBwDoH1ZBX3VPchmeTZxQSGi4cnyXXuzPPoKxcd5\",\"13o9KUMcmEdhtjXRaJ5AANHLZWBoGcTmF4MFw3MjQbubjR57jXW\",\"13jL4pTLq4JQBwDoH1ZBX3VPchmeTZxQSGi4cnyXXuzPPoKxcd5\",\"13jL4pTLq4JQBwDoH1ZBX3VPchmeTZxQSGi4cnyXXuzPPoKxcd5\",\"13zwMXQwFBNxKGKJvurjGhVjTfkunwsC3GghtE9SyeUYDJei3t3\",\"13zuBf3QXx95aSpR3AgXiR6hjLzbqHqnwHGErXTxb49UrSngKU3\",\"13ickN56yPe38a3Vga161gp4nkSLckWvy7JChvnFr9osfP4AHGE\",\"13N2Q7qaxvtxiG3WRaR4bT1PAHS72t1AAfSvazcfut8FceQ7yXC\",\"13jL4pTLq4JQBwDoH1ZBX3VPchmeTZxQSGi4cnyXXuzPPoKxcd5\",\"13jL4pTLq4JQBwDoH1ZBX3VPchmeTZxQSGi4cnyXXuzPPoKxcd5\",\"13o9KUMcmEdhtjXRaJ5AANHLZWBoGcTmF4MFw3MjQbubjR57jXW\",\"13x6xCFEw1mq8spGP3xPWJnKuepb4wZJPUMbpk1g4HBCV6jpxMV\",\"13o9KUMcmEdhtjXRaJ5AANHLZWBoGcTmF4MFw3MjQbubjR57jXW\",\"14E4ihsukiU3Zdkqi2RNs6EWKuuQEK38rgmPTuSD2wSsSHfx7ry\",\"1328ZwD3SHEjnNwo4f4AoNppMZBg2NkSRjgUb2FSH6dbRsTWPN6\",\"13ickN56yPe38a3Vga161gp4nkSLckWvy7JChvnFr9osfP4AHGE\",\"13sKwLL85zvYvnCm8cvZrYCEmRWkpmNaY9eCShoDota6VCuFRBx\",\"12x4r5XkM65BH6TDMz1a7X4FrYWWZLArJMg6EL3pv3ytKfLA99d\",\"1418RhwsMfqEbFDJxSopAXird8qRHqw1FTYvMCRdDPHERes4Kea\",\"13jL4pTLq4JQBwDoH1ZBX3VPchmeTZxQSGi4cnyXXuzPPoKxcd5\",\"13Yz557GVBUvcTQkXCsx8AKFAh3TmsXbWNWXMNTaM4SEAVoevvB\",\"13jL4pTLq4JQBwDoH1ZBX3VPchmeTZxQSGi4cnyXXuzPPoKxcd5\",\"13o9KUMcmEdhtjXRaJ5AANHLZWBoGcTmF4MFw3MjQbubjR57jXW\",\"13jL4pTLq4JQBwDoH1ZBX3VPchmeTZxQSGi4cnyXXuzPPoKxcd5\",\"13MrkJ2L6LBfCmsnaHJvxjBxEE1HrgToCEjnBoL8dqeyvTdHj92\",\"13jL4pTLq4JQBwDoH1ZBX3VPchmeTZxQSGi4cnyXXuzPPoKxcd5\",\"13jL4pTLq4JQBwDoH1ZBX3VPchmeTZxQSGi4cnyXXuzPPoKxcd5\",\"13jL4pTLq4JQBwDoH1ZBX3VPchmeTZxQSGi4cnyXXuzPPoKxcd5\",\"13jL4pTLq4JQBwDoH1ZBX3VPchmeTZxQSGi4cnyXXuzPPoKxcd5\",\"13jL4pTLq4JQBwDoH1ZBX3VPchmeTZxQSGi4cnyXXuzPPoKxcd5\",\"13o9KUMcmEdhtjXRaJ5AANHLZWBoGcTmF4MFw3MjQbubjR57jXW\",\"14JPT1gUGHPkfpTEMEAYtdhnBGmJm95XNXK3DhBxcZm3z5kPtwn\",\"13jL4pTLq4JQBwDoH1ZBX3VPchmeTZxQSGi4cnyXXuzPPoKxcd5\",\"14ZKktN1fYq74ZfR19ix8rZnA3EiXzFcsrwN4MtExnVAPH6JPPP\",\"13jL4pTLq4JQBwDoH1ZBX3VPchmeTZxQSGi4cnyXXuzPPoKxcd5\",\"13jL4pTLq4JQBwDoH1ZBX3VPchmeTZxQSGi4cnyXXuzPPoKxcd5\",\"139i97spJpNYJoQr5ik2zFq5L77U1SfXTkTh1gbxVgSMrfvTc6s\",\"13o9KUMcmEdhtjXRaJ5AANHLZWBoGcTmF4MFw3MjQbubjR57jXW\",\"14hCqYFCtetS6RMQNfi9abKUqVyZnJqcSkbWxewhiL97dZuPwMi\",\"12yS1GsggJLDaM43fpJn9NZLLHFAFztUYc4EaxuHT8LXK7afKh6\",\"14ZKktN1fYq74ZfR19ix8rZnA3EiXzFcsrwN4MtExnVAPH6JPPP\",\"14PMavd2wcQ6GiqZQFkx8PQhHNGwaW7XZgwX3kcHkDZWauZXs5a\",\"13hDQpbcSe9jZX5giU2sNeynLpHQoLKF8mWkUrpuqVyFgu9ycSq\",\"13vNfrpCAyd19Je8dsqpJh2oDbk57mVhZto5XFcL5zwDk1asuGX\",\"13Ty4sVxzX7hMACPGnYHGiGTUHsZwUPKjQYnXCWSpqe3ZTxeV8m\",\"136Q6at4MoCEqaih29WQTZSabepvpSgcqBUW3etyNiERjs6jKCb\",\"13MeciKTq52Jjyu1K5cCvYAjjcRh3McM45KLrKvuyZpqBeTjUv7\",\"13o9KUMcmEdhtjXRaJ5AANHLZWBoGcTmF4MFw3MjQbubjR57jXW\",\"13s2mVc16F2dubZWPLNDyTvLbQbJJcndJ7o27vdj4nnpEqRkmkW\",\"12z4nUiayZnbW46azcegBBB9yGkchFb1Zm7EPuh6eV1r2HT1NgC\",\"13buBykFQf5VaQtv7mWj2PBY9Lq4i1DeXhg7C4Vbu3ppzqqNkTH\",\"13buBykFQf5VaQtv7mWj2PBY9Lq4i1DeXhg7C4Vbu3ppzqqNkTH\",\"14a5sytsEVKBVhGsVz2rJDkxf1cs1L89zvtFjmPtmPzrQHXPVjF\",\"14a5sytsEVKBVhGsVz2rJDkxf1cs1L89zvtFjmPtmPzrQHXPVjF\",\"14X1W4KJr9QyHuqu6myDBpAdd6ouQbPYL3B4rmJvJjd2GKkUdBj\",\"14cLFi9kcteykbXX4fHNkLPhp3pyS8LpPancCJ6QFoMzS9pQcqG\",\"13mRJKFBgWWe1k83MKmpiRinkb6GDcX1piwWoH7S8RA8MuMDE4b\",\"14gBAk2RW8jARJoNY39CvLJyXjDQLx4Uj7VdJM47ep3SbixsugY\",\"14i6nM1RbWbjQFg5NFbZS3aZJgpUGZUx5toarz6jZLPpNAb95Tq\",\"14i3sMETM5PNazzcCvRUCjH6c9juCtWB2Z6UW8VFTAy1dDLzLdc\",\"14i6nM1RbWbjQFg5NFbZS3aZJgpUGZUx5toarz6jZLPpNAb95Tq\",\"14i6nM1RbWbjQFg5NFbZS3aZJgpUGZUx5toarz6jZLPpNAb95Tq\",\"12xUoMKwf12ABjNx4VCvYcNkX79gW1kzz2JnBLxkFbjswRczRvM\",\"13XZMwqMhZnjCK7JddxYBxpYf9cCLqEZGp4wHHTNSPvwRJ1gjPs\",\"13zzVQKvYM7QBYYpcEdz46Eprjj1ai2BhRdYZhFZfV6KKDgtsjn\",\"12ymxmzj2PHBdPv8pJZreUfa6twLWwcS3Y3ZdnP8UuDgaeGmK7p\",\"14Vh42vnNws4wBStivM6gPevb7sNAbWMHqsWKb617TSxr7mReL4\",\"12ymxmzj2PHBdPv8pJZreUfa6twLWwcS3Y3ZdnP8UuDgaeGmK7p\",\"14eVPPhEPT3WwdRMqNEfbv6Pm6BADS8dCzT1auf5bKX74oTipbD\",\"1373AqVQ2ZoMnzC5eHmzuRfMkmeFumdarza2GcLxbA9SrkoN8LK\",\"13hFYvVmD2US31aVSKCkvkUoDf8uAtS8UUWnGDjvDoCewDafBXj\",\"14Y2o9cMKEhTJ87G19Sp4occBrQxVdE3mJM3xMiJEj1auLF3Qga\",\"13buBykFQf5VaQtv7mWj2PBY9Lq4i1DeXhg7C4Vbu3ppzqqNkTH\",\"13buBykFQf5VaQtv7mWj2PBY9Lq4i1DeXhg7C4Vbu3ppzqqNkTH\",\"13buBykFQf5VaQtv7mWj2PBY9Lq4i1DeXhg7C4Vbu3ppzqqNkTH\",\"13buBykFQf5VaQtv7mWj2PBY9Lq4i1DeXhg7C4Vbu3ppzqqNkTH\",\"14e35CChhsnuHJxjjzYAxsHKBKDgjUop4GuD8esB7gE2VDoyPXT\",\"13EEVvbnpmjgwmEUDnYBLbQxbbAj9kiYWTU853QYX3uNC4xw4Le\",\"13EEVvbnpmjgwmEUDnYBLbQxbbAj9kiYWTU853QYX3uNC4xw4Le\",\"13zCZhFapZHTgsDDba76Ts9yATNAhULH2Dm1df6AxbrMuZqySP5\",\"12z4nUiayZnbW46azcegBBB9yGkchFb1Zm7EPuh6eV1r2HT1NgC\",\"12z4nUiayZnbW46azcegBBB9yGkchFb1Zm7EPuh6eV1r2HT1NgC\",\"12z4nUiayZnbW46azcegBBB9yGkchFb1Zm7EPuh6eV1r2HT1NgC\",\"14cKr7Qs93gdyLguKXf6Pg2SdryopG7dWSgiC6JWKHozuRQjmK8\",\"13q8hu17nMuZTDoXBXCLiiG59qasZXvrbme9WnLhahW1VAkR3rN\",\"14Ak9NAUHN9SHdbTq5te988yStzRaCqSGtcnQ3N2d3vA1YsUzuK\",\"141yoNX5qmd313Rx1a1zvWD3T2PVUm6EdzZcFpssH3HJBF3ucvg\",\"13zjsrN7BAom45N7DXornx7htbMgJwa6azn4G6UcesgASrsTomv\",\"13zjsrN7BAom45N7DXornx7htbMgJwa6azn4G6UcesgASrsTomv\",\"13zjsrN7BAom45N7DXornx7htbMgJwa6azn4G6UcesgASrsTomv\",\"142MT8yuvepnVCwkVxgBPddotHcXKJXtw1yCXVhobawMv3w8L99\",\"14mhFy8dVhy7eCzyNQWgCQRk9miduSW4raZdbjr1iRquXGmLt24\",\"148sAphN7RmmiGEYXz1dghgZTLz8kUphBrToPUgWQqNZXWuHbJE\",\"148sAphN7RmmiGEYXz1dghgZTLz8kUphBrToPUgWQqNZXWuHbJE\",\"146ZSvFEnjARrnGEZSKavQ7YmvXoweKKk6ib4Az2e4rx37PscXY\",\"13E4Z24HzqqvaXFhXgLsK3zPxyMF88C1M246TFNHnAJqg6KCtnT\",\"14a5sytsEVKBVhGsVz2rJDkxf1cs1L89zvtFjmPtmPzrQHXPVjF\",\"14a5sytsEVKBVhGsVz2rJDkxf1cs1L89zvtFjmPtmPzrQHXPVjF\",\"14a5sytsEVKBVhGsVz2rJDkxf1cs1L89zvtFjmPtmPzrQHXPVjF\"],\"score\":{\"__ndarray__\":\"AAAAAAAA0D8AAAAAAADQPwAAAAAAANA/AAAAAAAA0D8AAAAAAADQPy1DHOviNno/AAAAAAAA0D8i/fZ14JztPwAAAAAAANA/ZRniWBe3wT9qvHSTGASmP2Dl0CLb+b4/AAAAAAAA0D/sUbgehevBP588LNSa5uM/uK8D54wozT8AAAAAAADQPwAAAAAAANA/AAAAAAAA0D9BguLHmLu2P1vTvOMUHcE/AAAAAAAA0D8AAAAAAADQP+xRuB6F68E/GeJYF7fR5j/6fmq8dJNYPwAAAAAAANA/AAAAAAAA0D8AAAAAAADQP8BbIEHxY7w/bqMBvAUStD8AAAAAAADQPwAAAAAAANA/SZ2AJsKG4z8AAAAAAADQPwAAAAAAANA/AAAAAAAA0D9wzojS3uDpPyegibDh6es/i/1l9+Rh3T8AAAAAAADQP1kXt9EA3uI/7uvAOSNKwz8AAAAAAADQPwAAAAAAANA/AAAAAAAA0D8gY+5aQj7APwAAAAAAANA/9P3UeOkmwT/D0ytlGeLAPx1aZDvfT+M/07zjFB3J6T8qOpLLf0jpPxKlvcEXJpM/at5xio7k7D/RkVz+Q/q9P588LNSa5n0/VcGopE5Awz+GWtO84xSNPyQofoy5a8E/AAAAAAAA0D/7OnDOiNKePwAAAAAAANA/rfpcbcX+1j8B3gIJih/LPwAAAAAAANA/iIVa07zj6j8Jih9j7lrCP1R0JJf/kL4/t2J/2T15wD8/V1uxv+zSP9jw9EpZhrg/AAAAAAAA0D8K16NwPQqXP+hqK/aX3aM/TKYKRiV1wj8AAAAAAADQP+kmMQisHNo/O3DOiNLewD8AAAAAAADQP/T91HjpJsE/kX77OnDO5D/qlbIMcazhPwAAAAAAANA/845TdCSXvz9jf9k9eVjAP3h6pSxDHMM/N4lBYOXQ6D/7XG3F/rLhPwAAAAAAANA/l/+Qfvs65D9ApN++DpzDPwAAAAAAANA/JXUCmggbvj8AAAAAAADQPwAAAAAAANA/AAAAAAAA0D/EsS5uowHuP/cGX5hMFbw/AAAAAAAA0D8AAAAAAADQP9qs+lxtxb4/L26jAbwFUj8AAAAAAADQPzlFR3L5D8E/AAAAAAAA0D8AAAAAAADQPwAAAAAAANA/AAAAAAAA0D9fmEwVjErCP8E5I0p7g+8/3EYDeAsk4j8AAAAAAADQPwAAAAAAANA/NV66SQwCwz8AAAAAAADQP7hAguLHmLs/AAAAAAAA0D/caABvgQTlPwAAAAAAANA/cRsN4C2Q7D+J0t7gC5PBP0HxY8xdS8g/AAAAAAAA0D8xCKwcWmTtP3S1FfvL7sE/nl4pyxDH7D9j7lpCPujtPw==\",\"dtype\":\"float64\",\"shape\":[128]},\"score_update_height\":[13712,13712,13712,13712,13712,13712,13712,13712,13712,13712,13712,13712,13712,13712,13712,13712,13712,13712,13712,13712,13712,13712,13712,13712,13712,13712,13712,13712,13712,13712,13712,13712,13712,13712,13712,13712,13712,13712,13712,13712,13712,13712,13712,13712,13712,13712,13712,13712,13712,13712,13712,13712,13712,13712,13712,13712,13712,13712,13712,13712,13712,13712,13712,13712,13712,13712,13712,13712,13712,13712,13712,13712,13712,13712,13712,13712,13712,13712,13712,13712,13712,13712,13712,13712,13712,13712,13712,13712,13712,13712,13712,13712,13712,13712,13712,13712,13712,13712,13712,13712,13712,13712,13712,13712,13712,13712,13712,13712,13712,13712,13712,13712,13712,13712,13712,13712,13712,13712,13712,13712,13712,13712,13712,13712,13712,13712,13712,13712],\"short_city\":[\"Austin\",\"Austin\",\"Austin\",\"Tracy\",\"Vinalhaven\",\"Austin\",\"Saratoga\",\"Austin\",\"SF\",\"SF\",\"Austin\",\"SF\",\"Oakland\",\"Austin\",\"SF\",\"Austin\",\"Austin\",\"Austin\",\"Georgetown\",\"Austin\",\"Austin\",\"Austin\",\"Austin\",\"Austin\",\"Austin\",\"Austin\",\"Austin\",\"Austin\",\"Austin\",\"Austin\",\"Austin\",\"Austin\",\"Austin\",\"Austin\",\"Austin\",\"Bentonville\",\"Round Rock\",\"Austin\",\"Austin\",\"Austin\",\"Austin\",\"Austin\",\"Austin\",\"Austin\",\"Bentonville\",\"Austin\",\"Austin\",\"Sunset Valley\",\"Austin\",\"Austin\",\"Austin\",\"Austin\",\"Austin\",\"Austin\",\"Austin\",\"Austin\",\"Austin\",\"Austin\",\"Austin\",\"Austin\",\"Austin\",\"Austin\",\"Austin\",\"Austin\",\"Austin\",\"Austin\",\"Austin\",\"Austin\",\"Austin\",\"Austin\",\"Austin\",\"Austin\",\"San Antonio\",\"Austin\",\"Austin\",\"Austin\",\"Austin\",\"SF\",\"SF\",\"Novato\",\"SF\",\"Berkeley\",\"Berkeley\",\"San Rafael\",\"SF\",\"Austin\",\"SF\",\"Austin\",\"SF\",\"Austin\",\"Austin\",\"SF\",\"Cupertino\",\"Austin\",\"Napa\",\"Foster City\",\"Napa\",\"SF\",\"SF\",\"Davis\",\"Santa Clara\",\"Novato\",\"SF\",\"Novato\",\"SF\",\"SF\",\"Sacramento\",\"Sacramento\",\"Cupertino\",\"SF\",\"SF\",\"SF\",\"Hingham\",\"East Palo Alto\",\"Cupertino\",\"San Jose\",\"San Jose\",\"San Jose\",\"SF\",\"SF\",\"SF\",\"SF\",\"SF\",\"Berkeley\",\"SF\",\"Berkeley\",\"Berkeley\",\"Berkeley\"],\"short_country\":[\"US\",\"US\",\"US\",\"US\",\"US\",\"US\",\"US\",\"US\",\"US\",\"US\",\"US\",\"US\",\"US\",\"US\",\"US\",\"US\",\"US\",\"US\",\"US\",\"US\",\"US\",\"US\",\"US\",\"US\",\"US\",\"US\",\"US\",\"US\",\"US\",\"US\",\"US\",\"US\",\"US\",\"US\",\"US\",\"US\",\"US\",\"US\",\"US\",\"US\",\"US\",\"US\",\"US\",\"US\",\"US\",\"US\",\"US\",\"US\",\"US\",\"US\",\"US\",\"US\",\"US\",\"US\",\"US\",\"US\",\"US\",\"US\",\"US\",\"US\",\"US\",\"US\",\"US\",\"US\",\"US\",\"US\",\"US\",\"US\",\"US\",\"US\",\"US\",\"US\",\"US\",\"US\",\"US\",\"US\",\"US\",\"US\",\"US\",\"US\",\"US\",\"US\",\"US\",\"US\",\"US\",\"US\",\"US\",\"US\",\"US\",\"US\",\"US\",\"US\",\"US\",\"US\",\"US\",\"US\",\"US\",\"US\",\"US\",\"US\",\"US\",\"US\",\"US\",\"US\",\"US\",\"US\",\"US\",\"US\",\"US\",\"US\",\"US\",\"US\",\"US\",\"US\",\"US\",\"US\",\"US\",\"US\",\"US\",\"US\",\"US\",\"US\",\"US\",\"US\",\"US\",\"US\",\"US\",\"US\"],\"short_state\":[\"TX\",\"TX\",\"TX\",\"CA\",\"ME\",\"TX\",\"CA\",\"TX\",\"CA\",\"CA\",\"TX\",\"CA\",\"CA\",\"TX\",\"CA\",\"TX\",\"TX\",\"TX\",\"TX\",\"TX\",\"TX\",\"TX\",\"TX\",\"TX\",\"TX\",\"TX\",\"TX\",\"TX\",\"TX\",\"TX\",\"TX\",\"TX\",\"TX\",\"TX\",\"TX\",\"AR\",\"TX\",\"TX\",\"TX\",\"TX\",\"TX\",\"TX\",\"TX\",\"TX\",\"AR\",\"TX\",\"TX\",\"TX\",\"TX\",\"TX\",\"TX\",\"TX\",\"TX\",\"TX\",\"TX\",\"TX\",\"TX\",\"TX\",\"TX\",\"TX\",\"TX\",\"TX\",\"TX\",\"TX\",\"TX\",\"TX\",\"TX\",\"TX\",\"TX\",\"TX\",\"TX\",\"TX\",\"TX\",\"TX\",\"TX\",\"TX\",\"TX\",\"CA\",\"CA\",\"CA\",\"CA\",\"CA\",\"CA\",\"CA\",\"CA\",\"TX\",\"CA\",\"TX\",\"CA\",\"TX\",\"TX\",\"CA\",\"CA\",\"TX\",\"CA\",\"CA\",\"CA\",\"CA\",\"CA\",\"CA\",\"CA\",\"CA\",\"CA\",\"CA\",\"CA\",\"CA\",\"CA\",\"CA\",\"CA\",\"CA\",\"CA\",\"CA\",\"MA\",\"CA\",\"CA\",\"CA\",\"CA\",\"CA\",\"CA\",\"CA\",\"CA\",\"CA\",\"CA\",\"CA\",\"CA\",\"CA\",\"CA\",\"CA\"],\"short_street\":[\"Mesa Verde Dr\",\"Emmett Pkwy\",\"Larry Ln\",\"Remington Way\",\"Unknown\",\"W 2nd St\",\"De Havilland Ct\",\"Manchaca Rd\",\"Noriega St\",\"Lincoln Way\",\"Lorrain St\",\"Clayton St\",\"Ocean View Dr\",\"E 4th St\",\"Bryant St\",\"Norwalk Ln\",\"Wells Branch Pkwy\",\"Patricia Ct\",\"Winecup Way\",\"Rainey St\",\"Velasquez Dr\",\"Lakecliff Hills Ln\",\"Belfin Dr\",\"W 15th St\",\"W 5th St\",\"Nueces St\",\"Unnamed Road\",\"Betty Cook Dr\",\"Lowell Ln N\",\"Shoalwood Ave\",\"Forest Trail\",\"Yandall Dr\",\"Crystal Water Dr\",\"S Lamar Blvd\",\"Bennett Ave\",\"SW Boulder St\",\"Manjack Cay Dr\",\"Manchaca Rd\",\"Manchaca Rd\",\"Congress Ave\",\"Sales St\",\"W 6th St\",\"Holly St\",\"Manana St\",\"SW Boulder St\",\"Williams Ridge Way\",\"Durwood St\",\"Pillow Rd\",\"W Milton St\",\"Guadalupe St\",\"E Riverside Dr\",\"Unknown\",\"S Lamar Blvd\",\"W 4th St\",\"S Lamar Blvd\",\"Congress Ave\",\"Congress Ave\",\"E 2nd St\",\"Congress Ave\",\"Woodmont Ave\",\"S 1st St\",\"Congress Ave\",\"S Congress Ave\",\"Congress Ave\",\"Congress Ave\",\"Davis Ln\",\"E 6th St\",\"E 6th St\",\"W Milton St\",\"Graywood Cove\",\"E 11th St\",\"Maxwell Ln\",\"Gallant Forest\",\"W 5th St\",\"TX-343 Loop\",\"E 8th St\",\"W 35th St\",\"Sacramento St\",\"Stanyan St\",\"Malobar Dr\",\"King St\",\"Acton St\",\"Ashby Ave\",\"Las Colindas Rd\",\"Mission St\",\"Nueces St\",\"Gough St\",\"Congress Ave\",\"Filbert St\",\"Faro Dr\",\"Congress Ave\",\"Division St\",\"Colby Ave\",\"Rainey St\",\"Tade Ct\",\"Widgeon St\",\"Agile Street\",\"Octavia St\",\"Haight St\",\"Quail St\",\"Alviso St\",\"Andale Ave\",\"Federal St\",\"Andale Ave\",\"Mission St\",\"3rd St\",\"11th St\",\"O St\",\"Bret Ave\",\"Laurel St\",\"Collins St\",\"Manzanita Ave\",\"Thaxter St\",\"E Okeefe St\",\"Pineville Ave\",\"Rainbow Dr\",\"Unknown\",\"Arlington Ln\",\"Montgomery St\",\"Capistrano Ave\",\"Octavia St\",\"20th St\",\"Collingwood St\",\"Cornell Ave\",\"Harrison St\",\"Ashby Ave\",\"Ashby Ave\",\"Carrison St\"]},\"selected\":{\"id\":\"1160\",\"type\":\"Selection\"},\"selection_policy\":{\"id\":\"1161\",\"type\":\"UnionRenderers\"}},\"id\":\"1105\",\"type\":\"ColumnDataSource\"},{\"attributes\":{\"callback\":null,\"tooltips\":[[\"addr\",\"@addr\"],[\"@score\",\"@score\"]]},\"id\":\"1143\",\"type\":\"HoverTool\"}],\"root_ids\":[\"1106\"]},\"title\":\"Bokeh Application\",\"version\":\"1.3.4\"}};\n",
       "  var render_items = [{\"docid\":\"a93fb17a-c91d-4bc6-8ae6-5bd7717c50cd\",\"roots\":{\"1106\":\"a5823e83-c01b-4941-9cce-fab638037d03\"}}];\n",
       "  root.Bokeh.embed.embed_items_notebook(docs_json, render_items);\n",
       "\n",
       "  }\n",
       "  if (root.Bokeh !== undefined) {\n",
       "    embed_document(root);\n",
       "  } else {\n",
       "    var attempts = 0;\n",
       "    var timer = setInterval(function(root) {\n",
       "      if (root.Bokeh !== undefined) {\n",
       "        embed_document(root);\n",
       "        clearInterval(timer);\n",
       "      }\n",
       "      attempts++;\n",
       "      if (attempts > 100) {\n",
       "        console.log(\"Bokeh: ERROR: Unable to run BokehJS code because BokehJS library is missing\");\n",
       "        clearInterval(timer);\n",
       "      }\n",
       "    }, 10, root)\n",
       "  }\n",
       "})(window);"
      ],
      "application/vnd.bokehjs_exec.v0+json": ""
     },
     "metadata": {
      "application/vnd.bokehjs_exec.v0+json": {
       "id": "1106"
      }
     },
     "output_type": "display_data"
    }
   ],
   "source": [
    "source = ColumnDataSource(df)\n",
    "p = figure()\n",
    "\n",
    "p.vbar(x='id', top='score', width=0.8, source=source)\n",
    "hover = HoverTool(tooltips=[('addr', '@addr'), ('@score', '@score')])\n",
    "p.add_tools(hover)\n",
    "p.xaxis.axis_label = \"Address\"\n",
    "p.yaxis.axis_label = \"Score\"\n",
    "\n",
    "show(p)"
   ]
  },
  {
   "cell_type": "markdown",
   "metadata": {},
   "source": [
    "### Account stats"
   ]
  },
  {
   "cell_type": "code",
   "execution_count": 13,
   "metadata": {},
   "outputs": [],
   "source": [
    "accounts = get_accounts(API)"
   ]
  },
  {
   "cell_type": "code",
   "execution_count": 14,
   "metadata": {},
   "outputs": [],
   "source": [
    "df = pd.DataFrame(accounts)"
   ]
  },
  {
   "cell_type": "code",
   "execution_count": 15,
   "metadata": {},
   "outputs": [
    {
     "name": "stdout",
     "output_type": "stream",
     "text": [
      "Top 10 account balances:\n"
     ]
    },
    {
     "data": {
      "text/html": [
       "<div>\n",
       "<style scoped>\n",
       "    .dataframe tbody tr th:only-of-type {\n",
       "        vertical-align: middle;\n",
       "    }\n",
       "\n",
       "    .dataframe tbody tr th {\n",
       "        vertical-align: top;\n",
       "    }\n",
       "\n",
       "    .dataframe thead th {\n",
       "        text-align: right;\n",
       "    }\n",
       "</style>\n",
       "<table border=\"1\" class=\"dataframe\">\n",
       "  <thead>\n",
       "    <tr style=\"text-align: right;\">\n",
       "      <th></th>\n",
       "      <th>address</th>\n",
       "      <th>balance</th>\n",
       "    </tr>\n",
       "  </thead>\n",
       "  <tbody>\n",
       "    <tr>\n",
       "      <th>34</th>\n",
       "      <td>13jL4pTLq4JQBwDoH1ZBX3VPchmeTZxQSGi4cnyXXuzPPoKxcd5</td>\n",
       "      <td>3430358564828</td>\n",
       "    </tr>\n",
       "    <tr>\n",
       "      <th>65</th>\n",
       "      <td>1398hLeHESZHE5jVtaLAV5fdg2vrUeZEs2B92t7TzeQTtugr8dL</td>\n",
       "      <td>2422276555041</td>\n",
       "    </tr>\n",
       "    <tr>\n",
       "      <th>93</th>\n",
       "      <td>14a5sytsEVKBVhGsVz2rJDkxf1cs1L89zvtFjmPtmPzrQHXPVjF</td>\n",
       "      <td>2002394550220</td>\n",
       "    </tr>\n",
       "    <tr>\n",
       "      <th>78</th>\n",
       "      <td>14GWyFj9FjLHzoN3aX7Tq7PL6fEg4dfWPY8CrK8b9S5ZrcKDz6S</td>\n",
       "      <td>1146552414212</td>\n",
       "    </tr>\n",
       "    <tr>\n",
       "      <th>81</th>\n",
       "      <td>12yyntxFfPhqXDKuEvmAWABNTRnXtYmcgS33WN4tk5YtyaBLDXo</td>\n",
       "      <td>1145129728384</td>\n",
       "    </tr>\n",
       "    <tr>\n",
       "      <th>45</th>\n",
       "      <td>13o9KUMcmEdhtjXRaJ5AANHLZWBoGcTmF4MFw3MjQbubjR57jXW</td>\n",
       "      <td>1077618381143</td>\n",
       "    </tr>\n",
       "    <tr>\n",
       "      <th>77</th>\n",
       "      <td>12z4nUiayZnbW46azcegBBB9yGkchFb1Zm7EPuh6eV1r2HT1NgC</td>\n",
       "      <td>722855497134</td>\n",
       "    </tr>\n",
       "    <tr>\n",
       "      <th>71</th>\n",
       "      <td>14i6nM1RbWbjQFg5NFbZS3aZJgpUGZUx5toarz6jZLPpNAb95Tq</td>\n",
       "      <td>703180274991</td>\n",
       "    </tr>\n",
       "    <tr>\n",
       "      <th>85</th>\n",
       "      <td>14UgUhAPq53iR8vfde6sU4vLPWRe6kZ3ioV7xaVb8hr3oafaok6</td>\n",
       "      <td>655172741462</td>\n",
       "    </tr>\n",
       "    <tr>\n",
       "      <th>74</th>\n",
       "      <td>135bB6B7gGrsdPNcFwvcn12KPjTktSNZvmVbvSBKubCtEgxkpPJ</td>\n",
       "      <td>636259109915</td>\n",
       "    </tr>\n",
       "  </tbody>\n",
       "</table>\n",
       "</div>"
      ],
      "text/plain": [
       "                                                address        balance\n",
       "34  13jL4pTLq4JQBwDoH1ZBX3VPchmeTZxQSGi4cnyXXuzPPoKxcd5  3430358564828\n",
       "65  1398hLeHESZHE5jVtaLAV5fdg2vrUeZEs2B92t7TzeQTtugr8dL  2422276555041\n",
       "93  14a5sytsEVKBVhGsVz2rJDkxf1cs1L89zvtFjmPtmPzrQHXPVjF  2002394550220\n",
       "78  14GWyFj9FjLHzoN3aX7Tq7PL6fEg4dfWPY8CrK8b9S5ZrcKDz6S  1146552414212\n",
       "81  12yyntxFfPhqXDKuEvmAWABNTRnXtYmcgS33WN4tk5YtyaBLDXo  1145129728384\n",
       "45  13o9KUMcmEdhtjXRaJ5AANHLZWBoGcTmF4MFw3MjQbubjR57jXW  1077618381143\n",
       "77  12z4nUiayZnbW46azcegBBB9yGkchFb1Zm7EPuh6eV1r2HT1NgC  722855497134 \n",
       "71  14i6nM1RbWbjQFg5NFbZS3aZJgpUGZUx5toarz6jZLPpNAb95Tq  703180274991 \n",
       "85  14UgUhAPq53iR8vfde6sU4vLPWRe6kZ3ioV7xaVb8hr3oafaok6  655172741462 \n",
       "74  135bB6B7gGrsdPNcFwvcn12KPjTktSNZvmVbvSBKubCtEgxkpPJ  636259109915 "
      ]
     },
     "execution_count": 15,
     "metadata": {},
     "output_type": "execute_result"
    }
   ],
   "source": [
    "print(f'Top {TOP} account balances:')\n",
    "df.sort_values('balance', ascending=False)[['address', 'balance']].head(TOP)"
   ]
  },
  {
   "cell_type": "markdown",
   "metadata": {},
   "source": [
    "### Challenge Stats"
   ]
  },
  {
   "cell_type": "code",
   "execution_count": 16,
   "metadata": {},
   "outputs": [],
   "source": [
    "challenges = get_challenges(API, NUM_CHALLENGES)"
   ]
  },
  {
   "cell_type": "code",
   "execution_count": 17,
   "metadata": {},
   "outputs": [],
   "source": [
    "df = pd.DataFrame(challenges)"
   ]
  },
  {
   "cell_type": "code",
   "execution_count": 18,
   "metadata": {},
   "outputs": [
    {
     "name": "stdout",
     "output_type": "stream",
     "text": [
      "Total Successful challenges past 100 challenges: 31\n"
     ]
    }
   ],
   "source": [
    "print(f\"Total Successful challenges past {NUM_CHALLENGES} challenges: {sum(df['success'] == 1)}\")"
   ]
  },
  {
   "cell_type": "code",
   "execution_count": 19,
   "metadata": {},
   "outputs": [
    {
     "name": "stdout",
     "output_type": "stream",
     "text": [
      "Entirely dud challenges since past 100 challenges: 20\n"
     ]
    }
   ],
   "source": [
    "print(f\"Entirely dud challenges since past {NUM_CHALLENGES} challenges: {sum(df['dud'] == 1)}\")"
   ]
  }
 ],
 "metadata": {
  "kernelspec": {
   "display_name": "Python 3",
   "language": "python",
   "name": "python3"
  },
  "language_info": {
   "codemirror_mode": {
    "name": "ipython",
    "version": 3
   },
   "file_extension": ".py",
   "mimetype": "text/x-python",
   "name": "python",
   "nbconvert_exporter": "python",
   "pygments_lexer": "ipython3",
   "version": "3.7.3"
  }
 },
 "nbformat": 4,
 "nbformat_minor": 2
}
