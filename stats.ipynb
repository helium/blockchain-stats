{
 "cells": [
  {
   "cell_type": "markdown",
   "metadata": {},
   "source": [
    "### Imports"
   ]
  },
  {
   "cell_type": "code",
   "execution_count": 1,
   "metadata": {},
   "outputs": [
    {
     "data": {
      "text/html": [
       "\n",
       "    <div class=\"bk-root\">\n",
       "        <a href=\"https://bokeh.pydata.org\" target=\"_blank\" class=\"bk-logo bk-logo-small bk-logo-notebook\"></a>\n",
       "        <span id=\"1001\">Loading BokehJS ...</span>\n",
       "    </div>"
      ]
     },
     "metadata": {},
     "output_type": "display_data"
    },
    {
     "data": {
      "application/javascript": [
       "\n",
       "(function(root) {\n",
       "  function now() {\n",
       "    return new Date();\n",
       "  }\n",
       "\n",
       "  var force = true;\n",
       "\n",
       "  if (typeof root._bokeh_onload_callbacks === \"undefined\" || force === true) {\n",
       "    root._bokeh_onload_callbacks = [];\n",
       "    root._bokeh_is_loading = undefined;\n",
       "  }\n",
       "\n",
       "  var JS_MIME_TYPE = 'application/javascript';\n",
       "  var HTML_MIME_TYPE = 'text/html';\n",
       "  var EXEC_MIME_TYPE = 'application/vnd.bokehjs_exec.v0+json';\n",
       "  var CLASS_NAME = 'output_bokeh rendered_html';\n",
       "\n",
       "  /**\n",
       "   * Render data to the DOM node\n",
       "   */\n",
       "  function render(props, node) {\n",
       "    var script = document.createElement(\"script\");\n",
       "    node.appendChild(script);\n",
       "  }\n",
       "\n",
       "  /**\n",
       "   * Handle when an output is cleared or removed\n",
       "   */\n",
       "  function handleClearOutput(event, handle) {\n",
       "    var cell = handle.cell;\n",
       "\n",
       "    var id = cell.output_area._bokeh_element_id;\n",
       "    var server_id = cell.output_area._bokeh_server_id;\n",
       "    // Clean up Bokeh references\n",
       "    if (id != null && id in Bokeh.index) {\n",
       "      Bokeh.index[id].model.document.clear();\n",
       "      delete Bokeh.index[id];\n",
       "    }\n",
       "\n",
       "    if (server_id !== undefined) {\n",
       "      // Clean up Bokeh references\n",
       "      var cmd = \"from bokeh.io.state import curstate; print(curstate().uuid_to_server['\" + server_id + \"'].get_sessions()[0].document.roots[0]._id)\";\n",
       "      cell.notebook.kernel.execute(cmd, {\n",
       "        iopub: {\n",
       "          output: function(msg) {\n",
       "            var id = msg.content.text.trim();\n",
       "            if (id in Bokeh.index) {\n",
       "              Bokeh.index[id].model.document.clear();\n",
       "              delete Bokeh.index[id];\n",
       "            }\n",
       "          }\n",
       "        }\n",
       "      });\n",
       "      // Destroy server and session\n",
       "      var cmd = \"import bokeh.io.notebook as ion; ion.destroy_server('\" + server_id + \"')\";\n",
       "      cell.notebook.kernel.execute(cmd);\n",
       "    }\n",
       "  }\n",
       "\n",
       "  /**\n",
       "   * Handle when a new output is added\n",
       "   */\n",
       "  function handleAddOutput(event, handle) {\n",
       "    var output_area = handle.output_area;\n",
       "    var output = handle.output;\n",
       "\n",
       "    // limit handleAddOutput to display_data with EXEC_MIME_TYPE content only\n",
       "    if ((output.output_type != \"display_data\") || (!output.data.hasOwnProperty(EXEC_MIME_TYPE))) {\n",
       "      return\n",
       "    }\n",
       "\n",
       "    var toinsert = output_area.element.find(\".\" + CLASS_NAME.split(' ')[0]);\n",
       "\n",
       "    if (output.metadata[EXEC_MIME_TYPE][\"id\"] !== undefined) {\n",
       "      toinsert[toinsert.length - 1].firstChild.textContent = output.data[JS_MIME_TYPE];\n",
       "      // store reference to embed id on output_area\n",
       "      output_area._bokeh_element_id = output.metadata[EXEC_MIME_TYPE][\"id\"];\n",
       "    }\n",
       "    if (output.metadata[EXEC_MIME_TYPE][\"server_id\"] !== undefined) {\n",
       "      var bk_div = document.createElement(\"div\");\n",
       "      bk_div.innerHTML = output.data[HTML_MIME_TYPE];\n",
       "      var script_attrs = bk_div.children[0].attributes;\n",
       "      for (var i = 0; i < script_attrs.length; i++) {\n",
       "        toinsert[toinsert.length - 1].firstChild.setAttribute(script_attrs[i].name, script_attrs[i].value);\n",
       "      }\n",
       "      // store reference to server id on output_area\n",
       "      output_area._bokeh_server_id = output.metadata[EXEC_MIME_TYPE][\"server_id\"];\n",
       "    }\n",
       "  }\n",
       "\n",
       "  function register_renderer(events, OutputArea) {\n",
       "\n",
       "    function append_mime(data, metadata, element) {\n",
       "      // create a DOM node to render to\n",
       "      var toinsert = this.create_output_subarea(\n",
       "        metadata,\n",
       "        CLASS_NAME,\n",
       "        EXEC_MIME_TYPE\n",
       "      );\n",
       "      this.keyboard_manager.register_events(toinsert);\n",
       "      // Render to node\n",
       "      var props = {data: data, metadata: metadata[EXEC_MIME_TYPE]};\n",
       "      render(props, toinsert[toinsert.length - 1]);\n",
       "      element.append(toinsert);\n",
       "      return toinsert\n",
       "    }\n",
       "\n",
       "    /* Handle when an output is cleared or removed */\n",
       "    events.on('clear_output.CodeCell', handleClearOutput);\n",
       "    events.on('delete.Cell', handleClearOutput);\n",
       "\n",
       "    /* Handle when a new output is added */\n",
       "    events.on('output_added.OutputArea', handleAddOutput);\n",
       "\n",
       "    /**\n",
       "     * Register the mime type and append_mime function with output_area\n",
       "     */\n",
       "    OutputArea.prototype.register_mime_type(EXEC_MIME_TYPE, append_mime, {\n",
       "      /* Is output safe? */\n",
       "      safe: true,\n",
       "      /* Index of renderer in `output_area.display_order` */\n",
       "      index: 0\n",
       "    });\n",
       "  }\n",
       "\n",
       "  // register the mime type if in Jupyter Notebook environment and previously unregistered\n",
       "  if (root.Jupyter !== undefined) {\n",
       "    var events = require('base/js/events');\n",
       "    var OutputArea = require('notebook/js/outputarea').OutputArea;\n",
       "\n",
       "    if (OutputArea.prototype.mime_types().indexOf(EXEC_MIME_TYPE) == -1) {\n",
       "      register_renderer(events, OutputArea);\n",
       "    }\n",
       "  }\n",
       "\n",
       "  \n",
       "  if (typeof (root._bokeh_timeout) === \"undefined\" || force === true) {\n",
       "    root._bokeh_timeout = Date.now() + 5000;\n",
       "    root._bokeh_failed_load = false;\n",
       "  }\n",
       "\n",
       "  var NB_LOAD_WARNING = {'data': {'text/html':\n",
       "     \"<div style='background-color: #fdd'>\\n\"+\n",
       "     \"<p>\\n\"+\n",
       "     \"BokehJS does not appear to have successfully loaded. If loading BokehJS from CDN, this \\n\"+\n",
       "     \"may be due to a slow or bad network connection. Possible fixes:\\n\"+\n",
       "     \"</p>\\n\"+\n",
       "     \"<ul>\\n\"+\n",
       "     \"<li>re-rerun `output_notebook()` to attempt to load from CDN again, or</li>\\n\"+\n",
       "     \"<li>use INLINE resources instead, as so:</li>\\n\"+\n",
       "     \"</ul>\\n\"+\n",
       "     \"<code>\\n\"+\n",
       "     \"from bokeh.resources import INLINE\\n\"+\n",
       "     \"output_notebook(resources=INLINE)\\n\"+\n",
       "     \"</code>\\n\"+\n",
       "     \"</div>\"}};\n",
       "\n",
       "  function display_loaded() {\n",
       "    var el = document.getElementById(\"1001\");\n",
       "    if (el != null) {\n",
       "      el.textContent = \"BokehJS is loading...\";\n",
       "    }\n",
       "    if (root.Bokeh !== undefined) {\n",
       "      if (el != null) {\n",
       "        el.textContent = \"BokehJS \" + root.Bokeh.version + \" successfully loaded.\";\n",
       "      }\n",
       "    } else if (Date.now() < root._bokeh_timeout) {\n",
       "      setTimeout(display_loaded, 100)\n",
       "    }\n",
       "  }\n",
       "\n",
       "\n",
       "  function run_callbacks() {\n",
       "    try {\n",
       "      root._bokeh_onload_callbacks.forEach(function(callback) {\n",
       "        if (callback != null)\n",
       "          callback();\n",
       "      });\n",
       "    } finally {\n",
       "      delete root._bokeh_onload_callbacks\n",
       "    }\n",
       "    console.debug(\"Bokeh: all callbacks have finished\");\n",
       "  }\n",
       "\n",
       "  function load_libs(css_urls, js_urls, callback) {\n",
       "    if (css_urls == null) css_urls = [];\n",
       "    if (js_urls == null) js_urls = [];\n",
       "\n",
       "    root._bokeh_onload_callbacks.push(callback);\n",
       "    if (root._bokeh_is_loading > 0) {\n",
       "      console.debug(\"Bokeh: BokehJS is being loaded, scheduling callback at\", now());\n",
       "      return null;\n",
       "    }\n",
       "    if (js_urls == null || js_urls.length === 0) {\n",
       "      run_callbacks();\n",
       "      return null;\n",
       "    }\n",
       "    console.debug(\"Bokeh: BokehJS not loaded, scheduling load and callback at\", now());\n",
       "    root._bokeh_is_loading = css_urls.length + js_urls.length;\n",
       "\n",
       "    function on_load() {\n",
       "      root._bokeh_is_loading--;\n",
       "      if (root._bokeh_is_loading === 0) {\n",
       "        console.debug(\"Bokeh: all BokehJS libraries/stylesheets loaded\");\n",
       "        run_callbacks()\n",
       "      }\n",
       "    }\n",
       "\n",
       "    function on_error() {\n",
       "      console.error(\"failed to load \" + url);\n",
       "    }\n",
       "\n",
       "    for (var i = 0; i < css_urls.length; i++) {\n",
       "      var url = css_urls[i];\n",
       "      const element = document.createElement(\"link\");\n",
       "      element.onload = on_load;\n",
       "      element.onerror = on_error;\n",
       "      element.rel = \"stylesheet\";\n",
       "      element.type = \"text/css\";\n",
       "      element.href = url;\n",
       "      console.debug(\"Bokeh: injecting link tag for BokehJS stylesheet: \", url);\n",
       "      document.body.appendChild(element);\n",
       "    }\n",
       "\n",
       "    for (var i = 0; i < js_urls.length; i++) {\n",
       "      var url = js_urls[i];\n",
       "      var element = document.createElement('script');\n",
       "      element.onload = on_load;\n",
       "      element.onerror = on_error;\n",
       "      element.async = false;\n",
       "      element.src = url;\n",
       "      console.debug(\"Bokeh: injecting script tag for BokehJS library: \", url);\n",
       "      document.head.appendChild(element);\n",
       "    }\n",
       "  };var element = document.getElementById(\"1001\");\n",
       "  if (element == null) {\n",
       "    console.error(\"Bokeh: ERROR: autoload.js configured with elementid '1001' but no matching script tag was found. \")\n",
       "    return false;\n",
       "  }\n",
       "\n",
       "  function inject_raw_css(css) {\n",
       "    const element = document.createElement(\"style\");\n",
       "    element.appendChild(document.createTextNode(css));\n",
       "    document.body.appendChild(element);\n",
       "  }\n",
       "\n",
       "  var js_urls = [\"https://cdn.pydata.org/bokeh/release/bokeh-1.3.4.min.js\", \"https://cdn.pydata.org/bokeh/release/bokeh-widgets-1.3.4.min.js\", \"https://cdn.pydata.org/bokeh/release/bokeh-tables-1.3.4.min.js\", \"https://cdn.pydata.org/bokeh/release/bokeh-gl-1.3.4.min.js\"];\n",
       "  var css_urls = [];\n",
       "\n",
       "  var inline_js = [\n",
       "    function(Bokeh) {\n",
       "      Bokeh.set_log_level(\"info\");\n",
       "    },\n",
       "    \n",
       "    function(Bokeh) {\n",
       "      \n",
       "    },\n",
       "    function(Bokeh) {} // ensure no trailing comma for IE\n",
       "  ];\n",
       "\n",
       "  function run_inline_js() {\n",
       "    \n",
       "    if ((root.Bokeh !== undefined) || (force === true)) {\n",
       "      for (var i = 0; i < inline_js.length; i++) {\n",
       "        inline_js[i].call(root, root.Bokeh);\n",
       "      }if (force === true) {\n",
       "        display_loaded();\n",
       "      }} else if (Date.now() < root._bokeh_timeout) {\n",
       "      setTimeout(run_inline_js, 100);\n",
       "    } else if (!root._bokeh_failed_load) {\n",
       "      console.log(\"Bokeh: BokehJS failed to load within specified timeout.\");\n",
       "      root._bokeh_failed_load = true;\n",
       "    } else if (force !== true) {\n",
       "      var cell = $(document.getElementById(\"1001\")).parents('.cell').data().cell;\n",
       "      cell.output_area.append_execute_result(NB_LOAD_WARNING)\n",
       "    }\n",
       "\n",
       "  }\n",
       "\n",
       "  if (root._bokeh_is_loading === 0) {\n",
       "    console.debug(\"Bokeh: BokehJS loaded, going straight to plotting\");\n",
       "    run_inline_js();\n",
       "  } else {\n",
       "    load_libs(css_urls, js_urls, function() {\n",
       "      console.debug(\"Bokeh: BokehJS plotting callback run at\", now());\n",
       "      run_inline_js();\n",
       "    });\n",
       "  }\n",
       "}(window));"
      ],
      "application/vnd.bokehjs_load.v0+json": "\n(function(root) {\n  function now() {\n    return new Date();\n  }\n\n  var force = true;\n\n  if (typeof root._bokeh_onload_callbacks === \"undefined\" || force === true) {\n    root._bokeh_onload_callbacks = [];\n    root._bokeh_is_loading = undefined;\n  }\n\n  \n\n  \n  if (typeof (root._bokeh_timeout) === \"undefined\" || force === true) {\n    root._bokeh_timeout = Date.now() + 5000;\n    root._bokeh_failed_load = false;\n  }\n\n  var NB_LOAD_WARNING = {'data': {'text/html':\n     \"<div style='background-color: #fdd'>\\n\"+\n     \"<p>\\n\"+\n     \"BokehJS does not appear to have successfully loaded. If loading BokehJS from CDN, this \\n\"+\n     \"may be due to a slow or bad network connection. Possible fixes:\\n\"+\n     \"</p>\\n\"+\n     \"<ul>\\n\"+\n     \"<li>re-rerun `output_notebook()` to attempt to load from CDN again, or</li>\\n\"+\n     \"<li>use INLINE resources instead, as so:</li>\\n\"+\n     \"</ul>\\n\"+\n     \"<code>\\n\"+\n     \"from bokeh.resources import INLINE\\n\"+\n     \"output_notebook(resources=INLINE)\\n\"+\n     \"</code>\\n\"+\n     \"</div>\"}};\n\n  function display_loaded() {\n    var el = document.getElementById(\"1001\");\n    if (el != null) {\n      el.textContent = \"BokehJS is loading...\";\n    }\n    if (root.Bokeh !== undefined) {\n      if (el != null) {\n        el.textContent = \"BokehJS \" + root.Bokeh.version + \" successfully loaded.\";\n      }\n    } else if (Date.now() < root._bokeh_timeout) {\n      setTimeout(display_loaded, 100)\n    }\n  }\n\n\n  function run_callbacks() {\n    try {\n      root._bokeh_onload_callbacks.forEach(function(callback) {\n        if (callback != null)\n          callback();\n      });\n    } finally {\n      delete root._bokeh_onload_callbacks\n    }\n    console.debug(\"Bokeh: all callbacks have finished\");\n  }\n\n  function load_libs(css_urls, js_urls, callback) {\n    if (css_urls == null) css_urls = [];\n    if (js_urls == null) js_urls = [];\n\n    root._bokeh_onload_callbacks.push(callback);\n    if (root._bokeh_is_loading > 0) {\n      console.debug(\"Bokeh: BokehJS is being loaded, scheduling callback at\", now());\n      return null;\n    }\n    if (js_urls == null || js_urls.length === 0) {\n      run_callbacks();\n      return null;\n    }\n    console.debug(\"Bokeh: BokehJS not loaded, scheduling load and callback at\", now());\n    root._bokeh_is_loading = css_urls.length + js_urls.length;\n\n    function on_load() {\n      root._bokeh_is_loading--;\n      if (root._bokeh_is_loading === 0) {\n        console.debug(\"Bokeh: all BokehJS libraries/stylesheets loaded\");\n        run_callbacks()\n      }\n    }\n\n    function on_error() {\n      console.error(\"failed to load \" + url);\n    }\n\n    for (var i = 0; i < css_urls.length; i++) {\n      var url = css_urls[i];\n      const element = document.createElement(\"link\");\n      element.onload = on_load;\n      element.onerror = on_error;\n      element.rel = \"stylesheet\";\n      element.type = \"text/css\";\n      element.href = url;\n      console.debug(\"Bokeh: injecting link tag for BokehJS stylesheet: \", url);\n      document.body.appendChild(element);\n    }\n\n    for (var i = 0; i < js_urls.length; i++) {\n      var url = js_urls[i];\n      var element = document.createElement('script');\n      element.onload = on_load;\n      element.onerror = on_error;\n      element.async = false;\n      element.src = url;\n      console.debug(\"Bokeh: injecting script tag for BokehJS library: \", url);\n      document.head.appendChild(element);\n    }\n  };var element = document.getElementById(\"1001\");\n  if (element == null) {\n    console.error(\"Bokeh: ERROR: autoload.js configured with elementid '1001' but no matching script tag was found. \")\n    return false;\n  }\n\n  function inject_raw_css(css) {\n    const element = document.createElement(\"style\");\n    element.appendChild(document.createTextNode(css));\n    document.body.appendChild(element);\n  }\n\n  var js_urls = [\"https://cdn.pydata.org/bokeh/release/bokeh-1.3.4.min.js\", \"https://cdn.pydata.org/bokeh/release/bokeh-widgets-1.3.4.min.js\", \"https://cdn.pydata.org/bokeh/release/bokeh-tables-1.3.4.min.js\", \"https://cdn.pydata.org/bokeh/release/bokeh-gl-1.3.4.min.js\"];\n  var css_urls = [];\n\n  var inline_js = [\n    function(Bokeh) {\n      Bokeh.set_log_level(\"info\");\n    },\n    \n    function(Bokeh) {\n      \n    },\n    function(Bokeh) {} // ensure no trailing comma for IE\n  ];\n\n  function run_inline_js() {\n    \n    if ((root.Bokeh !== undefined) || (force === true)) {\n      for (var i = 0; i < inline_js.length; i++) {\n        inline_js[i].call(root, root.Bokeh);\n      }if (force === true) {\n        display_loaded();\n      }} else if (Date.now() < root._bokeh_timeout) {\n      setTimeout(run_inline_js, 100);\n    } else if (!root._bokeh_failed_load) {\n      console.log(\"Bokeh: BokehJS failed to load within specified timeout.\");\n      root._bokeh_failed_load = true;\n    } else if (force !== true) {\n      var cell = $(document.getElementById(\"1001\")).parents('.cell').data().cell;\n      cell.output_area.append_execute_result(NB_LOAD_WARNING)\n    }\n\n  }\n\n  if (root._bokeh_is_loading === 0) {\n    console.debug(\"Bokeh: BokehJS loaded, going straight to plotting\");\n    run_inline_js();\n  } else {\n    load_libs(css_urls, js_urls, function() {\n      console.debug(\"Bokeh: BokehJS plotting callback run at\", now());\n      run_inline_js();\n    });\n  }\n}(window));"
     },
     "metadata": {},
     "output_type": "display_data"
    }
   ],
   "source": [
    "import pandas as pd\n",
    "import numpy as np\n",
    "from bokeh.plotting import figure, output_notebook, show\n",
    "from bokeh.models import ColumnDataSource, HoverTool\n",
    "from datetime import datetime\n",
    "from bokeh.palettes import Spectral3\n",
    "from tabulate import tabulate\n",
    "from bokeh.transform import factor_cmap\n",
    "import js2py\n",
    "import math\n",
    "from concurrent.futures import ProcessPoolExecutor as PoolExecutor\n",
    "import requests\n",
    "import os\n",
    "\n",
    "# convenience\n",
    "output_notebook()\n",
    "pd.set_option('display.max_colwidth', -1)"
   ]
  },
  {
   "cell_type": "markdown",
   "metadata": {},
   "source": [
    "### Globals"
   ]
  },
  {
   "cell_type": "code",
   "execution_count": 2,
   "metadata": {},
   "outputs": [],
   "source": [
    "API = os.getenv('API')\n",
    "NUM_CHALLENGES = 100\n",
    "NUM_BLOCKS = 100\n",
    "TOP = 10\n",
    "animalhash = js2py.require('angry-purple-tiger')\n",
    "MAX_WORKERS = 8\n",
    "REWARD_LIMIT = 500"
   ]
  },
  {
   "cell_type": "markdown",
   "metadata": {},
   "source": [
    "### Helpers"
   ]
  },
  {
   "cell_type": "code",
   "execution_count": 3,
   "metadata": {
    "code_folding": [
     0,
     10,
     21,
     32,
     42,
     52,
     87,
     97
    ]
   },
   "outputs": [],
   "source": [
    "def latest_height(api):\n",
    "    '''\n",
    "    Get latest block height\n",
    "    '''\n",
    "    r = requests.get(f'{api}/blocks?limit=1')\n",
    "    if r.status_code == 200:\n",
    "        data = r.json().get('data')\n",
    "        return data[0]['height']\n",
    "    raise Exception('Unable to get latest height')\n",
    "\n",
    "def get_blocks(api, num_blocks=100):\n",
    "    '''\n",
    "    Get past `NUM_BLOCKS` number of num_blocks\n",
    "    '''\n",
    "    r = requests.get(f'{api}/blocks?limit={num_blocks}')\n",
    "    if r.status_code == 200:\n",
    "        data = r.json().get('data')\n",
    "        assert len(data) == num_blocks\n",
    "        return data\n",
    "    raise Exception('Unable to get blocks')\n",
    "\n",
    "def get_challenges(api, num_challenges=100):\n",
    "    '''\n",
    "    Get past `LIMIT` number of challenges\n",
    "    '''\n",
    "    r = requests.get(f'{api}/challenges?limit={num_challenges}')\n",
    "    if r.status_code == 200:\n",
    "        data = r.json().get('data')\n",
    "        assert len(data) == num_challenges\n",
    "        return data\n",
    "    raise Exception('Unable to get challenges')\n",
    "\n",
    "def get_hotspots(api):\n",
    "    '''\n",
    "    Get hotspots from the api\n",
    "    '''\n",
    "    r = requests.get(f'{api}/hotspots')\n",
    "    if r.status_code == 200:\n",
    "        data = r.json().get('data')\n",
    "        return data\n",
    "    raise Exception('Unable to get hotspots')\n",
    "\n",
    "def get_accounts(api):\n",
    "    '''\n",
    "    Get accounts from the api\n",
    "    '''\n",
    "    r = requests.get(f'{api}/accounts')\n",
    "    if r.status_code == 200:\n",
    "        data = r.json().get('data')\n",
    "        return data\n",
    "    raise Exception('Unable to get accounts')\n",
    "\n",
    "def accumulate_results(challenges):\n",
    "    '''\n",
    "    Return a dict list of challenge_id, num_successes, num_failures and num_untested\n",
    "    '''\n",
    "    results = []\n",
    "    for challenge in challenges:\n",
    "        path = challenge['pathElements']\n",
    "\n",
    "        result = [element['result'] for element in path]\n",
    "        length = len(result)\n",
    "        num_untested = result.count('untested')\n",
    "\n",
    "        gray = True if num_untested == length else False\n",
    "\n",
    "        if gray:\n",
    "            num_successes = 0\n",
    "            num_failures = 0\n",
    "            num_untested = 0\n",
    "            dud = 1\n",
    "            success = 0\n",
    "        else:\n",
    "            num_successes = result.count('success')\n",
    "            num_failures = result.count('failure')\n",
    "            num_untested = num_untested\n",
    "            dud = 0\n",
    "            success = 1 if num_successes == length else 0\n",
    "        results.append({'id': challenge['id'],\n",
    "                        'num_successes': num_successes,\n",
    "                        'num_failures': num_failures,\n",
    "                        'num_untested': num_untested,\n",
    "                        'dud': dud,\n",
    "                        'path_length': len(path),\n",
    "                        'success': success})\n",
    "    return results\n",
    "\n",
    "def get_reward(reward_url):\n",
    "    '''\n",
    "    Get hotspot reward\n",
    "    '''\n",
    "    r = requests.get(reward_url)\n",
    "    if r.status_code == 200:\n",
    "        data = r.json().get('data')\n",
    "        return data\n",
    "    raise Exception(f'Unable to get rewards for {reward_url}')\n",
    "    \n",
    "def get_rewards(api, hotspots, limit=REWARD_LIMIT):\n",
    "    '''\n",
    "    Get rewards for all hotspots\n",
    "    '''\n",
    "    reward_urls = [f'{api}/hotspots/{hotspot}/rewards?limit={limit}' for hotspot in hotspots]\n",
    "    with PoolExecutor(max_workers=MAX_WORKERS) as executor:\n",
    "        rewards = []\n",
    "        for hotspot, i in zip(hotspots, executor.map(get_reward, reward_urls)):\n",
    "            rewards.extend(i)\n",
    "    return rewards"
   ]
  },
  {
   "cell_type": "markdown",
   "metadata": {},
   "source": [
    "### Block Stats"
   ]
  },
  {
   "cell_type": "code",
   "execution_count": 4,
   "metadata": {
    "code_folding": [
     0
    ]
   },
   "outputs": [
    {
     "name": "stdout",
     "output_type": "stream",
     "text": [
      "Average txns past 100 blocks: 4.93\n",
      "Average block time past 100 blocks: 1565836320.63\n",
      "Block with max txns for past 100 blocks: \n",
      "+--------+----------------------------------------------------+\n",
      "| hash   | 1y6RdJLfETKcWMUeWBHvBbGfLbfiZDjjDhg2wHyctrfNAAL6eB |\n",
      "| height | 16449                                              |\n",
      "| round  | 16449                                              |\n",
      "| time   | 1565839967                                         |\n",
      "| txns   | 25                                                 |\n",
      "+--------+----------------------------------------------------+\n"
     ]
    }
   ],
   "source": [
    "def block_stats():\n",
    "    blocks = get_blocks(API, NUM_BLOCKS)\n",
    "\n",
    "    df = pd.DataFrame(blocks)\n",
    "    max_txns = tabulate(df.max().reset_index(),tablefmt='psql', showindex='never')\n",
    "    print(f'Average txns past {NUM_BLOCKS} blocks: {df[\"txns\"].mean()}')\n",
    "    print(f'Average block time past {NUM_BLOCKS} blocks: {df[\"time\"].mean()}')\n",
    "    print(f\"Block with max txns for past {NUM_BLOCKS} blocks: \\n{max_txns}\")\n",
    "    return df\n",
    "bdf = block_stats()"
   ]
  },
  {
   "cell_type": "code",
   "execution_count": 5,
   "metadata": {
    "code_folding": [
     0
    ]
   },
   "outputs": [
    {
     "data": {
      "text/html": [
       "\n",
       "\n",
       "\n",
       "\n",
       "\n",
       "\n",
       "  <div class=\"bk-root\" id=\"068f7c7c-c178-48e2-8f65-1923b01f98aa\" data-root-id=\"1003\"></div>\n"
      ]
     },
     "metadata": {},
     "output_type": "display_data"
    },
    {
     "data": {
      "application/javascript": [
       "(function(root) {\n",
       "  function embed_document(root) {\n",
       "    \n",
       "  var docs_json = {\"eedb003c-aa13-4ca2-af78-51a2c5b1b2ed\":{\"roots\":{\"references\":[{\"attributes\":{\"below\":[{\"id\":\"1014\",\"type\":\"LinearAxis\"}],\"center\":[{\"id\":\"1018\",\"type\":\"Grid\"},{\"id\":\"1023\",\"type\":\"Grid\"}],\"left\":[{\"id\":\"1019\",\"type\":\"LinearAxis\"}],\"renderers\":[{\"id\":\"1040\",\"type\":\"GlyphRenderer\"}],\"title\":{\"id\":\"1004\",\"type\":\"Title\"},\"toolbar\":{\"id\":\"1030\",\"type\":\"Toolbar\"},\"x_range\":{\"id\":\"1006\",\"type\":\"DataRange1d\"},\"x_scale\":{\"id\":\"1010\",\"type\":\"LinearScale\"},\"y_range\":{\"id\":\"1008\",\"type\":\"DataRange1d\"},\"y_scale\":{\"id\":\"1012\",\"type\":\"LinearScale\"}},\"id\":\"1003\",\"subtype\":\"Figure\",\"type\":\"Plot\"},{\"attributes\":{},\"id\":\"1046\",\"type\":\"BasicTickFormatter\"},{\"attributes\":{},\"id\":\"1012\",\"type\":\"LinearScale\"},{\"attributes\":{},\"id\":\"1050\",\"type\":\"UnionRenderers\"},{\"attributes\":{},\"id\":\"1010\",\"type\":\"LinearScale\"},{\"attributes\":{\"callback\":null},\"id\":\"1006\",\"type\":\"DataRange1d\"},{\"attributes\":{\"callback\":null},\"id\":\"1008\",\"type\":\"DataRange1d\"},{\"attributes\":{\"bottom_units\":\"screen\",\"fill_alpha\":{\"value\":0.5},\"fill_color\":{\"value\":\"lightgrey\"},\"left_units\":\"screen\",\"level\":\"overlay\",\"line_alpha\":{\"value\":1.0},\"line_color\":{\"value\":\"black\"},\"line_dash\":[4,4],\"line_width\":{\"value\":2},\"render_mode\":\"css\",\"right_units\":\"screen\",\"top_units\":\"screen\"},\"id\":\"1049\",\"type\":\"BoxAnnotation\"},{\"attributes\":{\"axis_label\":\"Txns/Block\",\"formatter\":{\"id\":\"1046\",\"type\":\"BasicTickFormatter\"},\"ticker\":{\"id\":\"1015\",\"type\":\"BasicTicker\"}},\"id\":\"1014\",\"type\":\"LinearAxis\"},{\"attributes\":{},\"id\":\"1025\",\"type\":\"WheelZoomTool\"},{\"attributes\":{\"ticker\":{\"id\":\"1015\",\"type\":\"BasicTicker\"}},\"id\":\"1018\",\"type\":\"Grid\"},{\"attributes\":{},\"id\":\"1029\",\"type\":\"HelpTool\"},{\"attributes\":{},\"id\":\"1015\",\"type\":\"BasicTicker\"},{\"attributes\":{\"axis_label\":\"NumTxns\",\"formatter\":{\"id\":\"1048\",\"type\":\"BasicTickFormatter\"},\"ticker\":{\"id\":\"1020\",\"type\":\"BasicTicker\"}},\"id\":\"1019\",\"type\":\"LinearAxis\"},{\"attributes\":{},\"id\":\"1027\",\"type\":\"SaveTool\"},{\"attributes\":{\"text\":\"Txns/Block\"},\"id\":\"1004\",\"type\":\"Title\"},{\"attributes\":{\"active_drag\":\"auto\",\"active_inspect\":\"auto\",\"active_multi\":null,\"active_scroll\":\"auto\",\"active_tap\":\"auto\",\"tools\":[{\"id\":\"1024\",\"type\":\"PanTool\"},{\"id\":\"1025\",\"type\":\"WheelZoomTool\"},{\"id\":\"1026\",\"type\":\"BoxZoomTool\"},{\"id\":\"1027\",\"type\":\"SaveTool\"},{\"id\":\"1028\",\"type\":\"ResetTool\"},{\"id\":\"1029\",\"type\":\"HelpTool\"},{\"id\":\"1042\",\"type\":\"HoverTool\"}]},\"id\":\"1030\",\"type\":\"Toolbar\"},{\"attributes\":{\"callback\":null,\"data\":{\"hash\":[\"12XzkDAvjB4DrNU9dnTkcu2dgUXcuM1baWz9XHRvMZ6uES1B8D3\",\"1QVJm6bLGimmVhLbCgHQZmRmNP6wTajGQxiWVBCKpHLYdrRTXG\",\"1CA36UtRqDw7rkht4JdD4DJ2BfLBUUCF48xsj68C3SDvBXJekf\",\"1HGqUTa1SaXyAyrvGPc6xHps7deKdsLVcuz5a3LpouwcQXhZsL\",\"12ZAtvrFShLXuXcNvjusYxRKRVoUb3icZiNyYzhcCmH9tjUW6oo\",\"12f3cKL3cwfJxPKU7zdvWTxQ8C5bc4wojUVThNuYX7Sn5KFJM7A\",\"12hjie9aWYaqPirsQmVx8ZqmpowHVEvrno1coQcJbVAnsgP2B1y\",\"1EMrNMyyB2A5ixLTeY3ah9oLzBVh6XQVEpTg7KppeasD973fd7\",\"12RezyyJ5XYmMwCRhJtx7fZS5UUBCBmPEk54u3rikm2Zh5y8uft\",\"12iC8iimbafaXkyiArQjstz37qEXWJ2k3xbpeFWE9S5RjiFcCzj\",\"12wYRaY6WgdoCjFrbz9iZkH9npDhn3EG86tFWq3z4X2DeZgd1h2\",\"15n9jQvgQEnnXXoKGanpquytQuaajNr5sqvVaPbhRKPzeT1gEY\",\"1bWaTrPtYDQGjUAseT9ovkbBufRCdUxQfLjPwtw6KMMGCa53uJ\",\"12XHnDdzoiUgcGmrZSbPm1qHYr6SUFexQVK2C6P9LRZmUnW3Epv\",\"12SenRAzJR7EjSnns3jirDfosr6vr4sp1meRqU9f9SAUgnNv1yD\",\"1sSGsefpf3U9dc2TWMqFa6UvmRHNUctGjtgWTN7RjszJVUMoTr\",\"124s9GmskUtqFKyCiGoYgtdFyQZyzhx9aVPM1k15kk1ico1kagy\",\"12CpJe4N54wb7jHjLQtrG6Rp2NTfXJoZ3qMcy7CApad8SDrBGUz\",\"1GF1FBayFn4d3UqNWc9pxfv6nq6Sw7huAAN1HAXw2qNyAaDwYW\",\"12VicNbaUq2tb5o7mw7tnTgsF6G6NLADfZVHm2M2TgCW2KCwhTr\",\"12Q9sDAJn5yRVfp48sFY6fePxocEzKMeHLHC5WafnLKFDEb2Gz7\",\"1gdGZK67gQj25V26DedUK1Pym8rTLR5BA7eeNppTAGu86WQmNf\",\"12J1owdSszdr7pcNGndZyBihCuLp3aAhnYmZq95ANErEziTQC8j\",\"1w78fs5uBJ9kDEqHG9V1vbRLxWbFfnDFX77CgaSM7fb6SRzCVL\",\"12nJ8AhWf4roBjoRyAqj96p2arxAzYC5Ef7D73oiYL3zd59jwXQ\",\"1fR9N96pwekW8hAXi2Ka8p2RNT7ZSa8YCpEK4KUn2kafaVCKzA\",\"12rXErzCify1jHoWoYbFYUEVc3VogA4n1Wj5RGKQ8KSmAPx9KRm\",\"1uPMLAGAxphYXcKqQ89E2EDj5NucHasyiKJLBVw3uoD1779TVL\",\"12GhcwYTQ2aW8NwmxmY7qigbmcjMjPkey2rjNrBdeNQyPEB6j8B\",\"128L8FbxGrUQJ3jPpYDhXPDYG1pKrNSGtoQVFn4R45jbYVuCrWE\",\"12YTitPEmyjwWKK8CbYSRTQfUJpfxpK6VyBT7DPyR958rebe6QC\",\"12TzR91gycfpNH4efSq9bgx7rwTKnzQd81Dtttd6o7hM3HLGeC4\",\"12V1MdftBEFZ8Z49fu3WdY2o477gERWyYcUvv3KagZjWWk1iMUV\",\"1r7jWNvubavjkqyEDAmWiNjwuCWS2nqx62R5MGqhGv9qjQmcJQ\",\"12kW8g4SUwB49jxfE3qgRn28pE7UxqxjwC8iSCcq8PwEq5nJ5t3\",\"1TvsHeCMXMvevjEqyL7beijgCqseUcg7nUPmGux9vfvUKvgFg6\",\"12YrwXX3wSUYPTdAUDFDfpXXEhFSwXiLu8xZmjLyUUKndUfL7yD\",\"1vfgUBZuuUE6Z8oTiN4iAUEF4LTCvR9GLffLsvXHeRBxmSDs9F\",\"12j8JGo7V71DZKh3JvLDuQkKSomUVZN1kzooCadLH3dm4sUFwsA\",\"12XJreEYMzEH944eDiBtzwivCoaZLmyqCx9BYRxzvtRRsoyjGqy\",\"12WkyJaYMcE81fdYZonD1Eokop11UeJeZS7s8P7SoUW9zyWhixw\",\"12J8R3ewMS3FSeEtySWEAChMmezCGxxLtKyH54wXsEPsH1gszgt\",\"19wTpBToyXp7vbfB3wxi9BzNpFfSTdU6R77Xew55E54KmQU7i3\",\"1QC4UxAXAETD5g6St7ZhQQJrz5JZsCY295dAVwMwUwPwEuv9ZT\",\"1W9Q6owYdpbwZyevir6MD7iTn9uLqnYtX6PntxBxDSgYj9AWig\",\"12tobVri3PT5NL1k4a37qGXwRQWf3EesT5BWUSzMgA9MgENj37j\",\"1wn6QTNrz3tUkucDCFe677GWPGM5AWdHF1wjtmai9PUUwGY2eV\",\"1VsrkXLjpHTBNwhKNjteBwcSt974fm9sAvUcfwXsva5MpB6YjR\",\"1RtXHQMau5TVipfDSztfij6XYcuLi1ZpYkvJLYvHZHaFumBfNT\",\"12DJ23w6eR24FswDSumGghJGrrZVmY2dQsxCDt7kAnALCGvy6C9\",\"12j2Ca17xmBtQ4qjbGxWHQ5rGZP2HcHgWVsaNzu571F5TSDXose\",\"1DFrQEDmHc2w6CF92vxbjg2zogeg3AMk7iaLTW7FrVZE12S562\",\"128XoSDXL8dgUUDKbFj43kfB6pUZUmAp9Bg5Sg6h517fkXcK7x7\",\"127NFGXTsCfxzFvFuf52dFqQWQgjDdBy9hmMzb1iXdaR3rZF8py\",\"12k6rMGZCgdiq6BQvPqvgj69kQ7fy2TgndsCVkUabBpJy7Z48rw\",\"12Jq9jnHbzeUBk2anjW5kv1JDkr3DFepDczuazjZhftrN7HDCkL\",\"1y6RdJLfETKcWMUeWBHvBbGfLbfiZDjjDhg2wHyctrfNAAL6eB\",\"1nGCP5h9rHujgFQCLjq9hKHsL7fiTu9vfZfsPwadk77vc9wDVD\",\"1MjYQ1ww4fbeQ8okRfdtxvsUfxugkwmHmGEF85Nv8r4WmR4zUU\",\"1N4rqs39twnzxPxds79TERoqxMHZAbgnHCwZoTHwBBLWVpDa3r\",\"14EZbouUoRQ9Q3aP89GQVzKCj2YGb9SAHgtD5VNSysb5mv92jQ\",\"1293uHuX33v6evFh5Mi7ocdBSNRCJPcBnAcnf3h4tSGFB51Dfmz\",\"1238LA5dTun7jAuHgRrihiFWAmaMUfKcwZYkrLPbEjv1r49vz3B\",\"12fEeQE2isWz2W1v2M7erAUZX4RQLrg5vDTWFh1qXMquJA15g2j\",\"12E3qm3VaFmye4to32K3NDaoBtrcazgtj8i5iPa7EBFaxTGgUnK\",\"12Au7Gk1nNku6YtZMNAU4NEod6FUvnpBxdwNV8CY9Ro1qr6QdHp\",\"1bD3hu3TpQzKv5NMH8jeHmMvpefWXzooamNyMdWiizXHFGyLZ8\",\"1qDDXRR5c1C3SRDtPLDJ9Zjem2FJ9RFB8wKW7urEkhWyZ6nj49\",\"1ZxXxYyUKDn6jpwXhsZmJBaDNxTASJx7LGesmJTzVY3VrQH2TX\",\"16jHo4N8rH9cuNnbfhYr294kc4UVumPamnzeowGM6UuE4TYpQY\",\"1Txg4hedmoHqqVeFCXQhRvhkNjVXQiqqbZJy7Ecuehz2Ku4EEX\",\"12jMDiLh729hwtHMaoC4LydZWQg1xk7Lt2zuGtq337uv9DDz6Rc\",\"12u4PZpSqyKDgHBfHxnkCnsuLUZpa1cQ7bTefVmgFyCtD84qhh8\",\"12dz54CsX2srEPCGeZj7jG3aSWZLPqtuPmPntUFRQ4A5LUnSwEg\",\"12owXDYBL8E5cKFtFTQv9U6oCK47cHQrq84WZnfj1gwrBAVLJJM\",\"1kyYzXjQDgBAri9JeXQ66BwznetaYXEN4tqhMfXvXwEUED4taq\",\"1txyxeUBKFEpc2khsJYS1mtgwQN7QzMUrzJMrqWp9THwGyqydp\",\"12cve4LpRV86vkbAQkUSSyBhSf45VVwALpHL41b5jpZCg6FVZkC\",\"12urPNSP4JciRwxHYU4diTT7AcJaCFvYhQ1mtEDRjqspuwndKHa\",\"12F54j6LdnSFeJPcNWr6RXyRGCUFj7esHkjY13GY5h2wuJANQqD\",\"1u6PozxCBCYZdeEjcixqyfQgnbg7cqEAnREh9jV8WweAmMFF6N\",\"1nUDf84pKTS5xZMqarZcLPM12oBXjpvUFCBUZUFD3wmdqiVhZG\",\"12B4rhCLwVcfq5U8ZCgJPiqKsK2ijMspaKmbxt7dVoa6vgEsjJC\",\"1Erdu1XgcwmAdatL1sgwFsnREJDkk9PSobf4csnqhJaPyHutFk\",\"12PXLaGG9qGjVQrGu3SDSH41rfQszhtgaAGnqXFQJM7sQeazNcs\",\"1D5TcFfDCjm1hBTa2aS35eV2hm7DDoBcjwP6v1cdV7Am2LLK16\",\"1Rm62saupYQ1fMjbJSo56nKqQNrPaFBZwFzf5RZ67DQuXirmYx\",\"1ZbRRkTvcH8MrzwUAuDWuGZwytC7B4NmCJSTAmJkNqPGEsG8QL\",\"12oBVwPPbC2DC5pdsDpf8n9bAF2CqKvcszeuywnox9UncN7yWDT\",\"1fKJdqxMRP8x81LZZ1vwth9wkUTYot1BTxyU9baN3FLs5asTgC\",\"1K9Vwrrjg8yDTR5asCRg9j9zpy2GsRhfkrTR1NWPuShSYiwfeK\",\"12QnD1crREKnBS4cQXLS9xbXNuUMKBjfRP1ReUMBS16EDqAbosW\",\"127UrC7Poq6ft44U2i8uJGPwVt24SZvcjxJ9dtwoWZkXafFwvqd\",\"12aYMyu9dA8TD9GoebYsrstG8kYujxwespGFpsbp7znFEcPZjZo\",\"1JmdknxfTNSudG8dSgyoyqHehp6SUgzmwawiEDPPdMnKWegZY1\",\"12kM7PyGcQ9NmvBC4G9tfTF4g1BVM4yGBLD9MV7mmukzDDoYvTi\",\"12C5j5QP8mgWnEfTrmA4GD27Lt55pNXJXEXHqAKXjeKpLmVKumR\",\"12PNQpUHgU1qk3ZMKYMd4TvGjB4Fi4gKVv3KH57B6511BSF4FXc\",\"1VbVEwEP8jscC3xiquMuer4zhhdEjoG2oQG1PTeurJNCQaSWmk\",\"1BEs45GRQES4dQP88rF9MFpHfPmVwfVggrjocxetjZTAG8Pckv\"],\"height\":[16449,16448,16447,16446,16445,16444,16443,16442,16441,16440,16439,16438,16437,16436,16435,16434,16433,16432,16431,16430,16429,16428,16427,16426,16425,16424,16423,16422,16421,16420,16419,16418,16417,16416,16415,16414,16413,16412,16411,16410,16409,16408,16407,16406,16405,16404,16403,16402,16401,16400,16399,16398,16397,16396,16395,16394,16393,16392,16391,16390,16389,16388,16387,16386,16385,16384,16383,16382,16381,16380,16379,16378,16377,16376,16375,16374,16373,16372,16371,16370,16369,16368,16367,16366,16365,16364,16363,16362,16361,16360,16359,16358,16357,16356,16355,16354,16353,16352,16351,16350],\"index\":[0,1,2,3,4,5,6,7,8,9,10,11,12,13,14,15,16,17,18,19,20,21,22,23,24,25,26,27,28,29,30,31,32,33,34,35,36,37,38,39,40,41,42,43,44,45,46,47,48,49,50,51,52,53,54,55,56,57,58,59,60,61,62,63,64,65,66,67,68,69,70,71,72,73,74,75,76,77,78,79,80,81,82,83,84,85,86,87,88,89,90,91,92,93,94,95,96,97,98,99],\"round\":[16449,16448,16447,16446,16445,16444,16443,16442,16441,16440,16439,16438,16437,16436,16435,16434,16433,16432,16431,16430,16429,16428,16427,16426,16425,16424,16423,16422,16421,16420,16419,16418,16417,16416,16415,16414,16413,16412,16411,16410,16409,16408,16407,16406,16405,16404,16403,16402,16401,16400,16399,16398,16397,16396,16395,16394,16393,16392,16391,16390,16389,16388,16387,16386,16385,16384,16383,16382,16381,16380,16379,16378,16377,16376,16375,16374,16373,16372,16371,16370,16369,16368,16367,16366,16365,16364,16363,16362,16361,16360,16359,16358,16357,16356,16355,16354,16353,16352,16351,16350],\"time\":[1565839967,1565839907,1565839847,1565839787,1565839727,1565839665,1565839605,1565839545,1565839485,1565839425,1565839365,1565839305,1565839245,1565839185,1565839110,1565839001,1565838928,1565838868,1565838808,1565838748,1565838688,1565838628,1565838568,1565838508,1565838395,1565838335,1565838275,1565838215,1565838155,1565838095,1565838035,1565837930,1565837700,1565837640,1565837580,1565837520,1565837460,1565837400,1565837340,1565837222,1565837162,1565837102,1565837035,1565836975,1565836906,1565836846,1565836786,1565836669,1565836609,1565836536,1565836476,1565836416,1565836356,1565836296,1565836236,1565836176,1565836116,1565836056,1565835918,1565835858,1565835798,1565835738,1565835678,1565835523,1565835159,1565834998,1565834850,1565834732,1565834672,1565834612,1565834552,1565834492,1565834413,1565834353,1565834293,1565834225,1565834165,1565834105,1565834037,1565833948,1565833888,1565833740,1565833680,1565833510,1565833450,1565833390,1565833330,1565833270,1565833210,1565833120,1565833010,1565832950,1565832890,1565832830,1565832770,1565832684,1565832441,1565832068,1565831906,1565831841],\"txns\":[14,2,2,11,0,7,0,3,1,0,3,1,25,0,11,5,3,4,2,5,1,3,4,1,6,4,3,6,9,13,1,1,12,2,2,5,8,6,0,7,2,0,4,0,11,15,0,15,0,6,1,6,0,1,2,4,1,1,4,6,7,13,4,7,15,5,2,3,3,1,14,2,2,2,0,3,1,22,6,13,0,10,1,5,6,1,2,4,1,2,5,5,2,3,6,14,11,14,4,0]},\"selected\":{\"id\":\"1051\",\"type\":\"Selection\"},\"selection_policy\":{\"id\":\"1050\",\"type\":\"UnionRenderers\"}},\"id\":\"1002\",\"type\":\"ColumnDataSource\"},{\"attributes\":{},\"id\":\"1028\",\"type\":\"ResetTool\"},{\"attributes\":{},\"id\":\"1048\",\"type\":\"BasicTickFormatter\"},{\"attributes\":{\"fill_alpha\":{\"value\":0.1},\"fill_color\":{\"value\":\"#1f77b4\"},\"line_alpha\":{\"value\":0.1},\"line_color\":{\"value\":\"#1f77b4\"},\"top\":{\"field\":\"txns\"},\"width\":{\"value\":0.8},\"x\":{\"field\":\"height\"}},\"id\":\"1039\",\"type\":\"VBar\"},{\"attributes\":{\"overlay\":{\"id\":\"1049\",\"type\":\"BoxAnnotation\"}},\"id\":\"1026\",\"type\":\"BoxZoomTool\"},{\"attributes\":{},\"id\":\"1020\",\"type\":\"BasicTicker\"},{\"attributes\":{\"data_source\":{\"id\":\"1002\",\"type\":\"ColumnDataSource\"},\"glyph\":{\"id\":\"1038\",\"type\":\"VBar\"},\"hover_glyph\":null,\"muted_glyph\":null,\"nonselection_glyph\":{\"id\":\"1039\",\"type\":\"VBar\"},\"selection_glyph\":null,\"view\":{\"id\":\"1041\",\"type\":\"CDSView\"}},\"id\":\"1040\",\"type\":\"GlyphRenderer\"},{\"attributes\":{},\"id\":\"1024\",\"type\":\"PanTool\"},{\"attributes\":{\"dimension\":1,\"ticker\":{\"id\":\"1020\",\"type\":\"BasicTicker\"}},\"id\":\"1023\",\"type\":\"Grid\"},{\"attributes\":{\"callback\":null,\"tooltips\":[[\"height\",\"@height\"],[\"txns\",\"@txns\"]]},\"id\":\"1042\",\"type\":\"HoverTool\"},{\"attributes\":{\"source\":{\"id\":\"1002\",\"type\":\"ColumnDataSource\"}},\"id\":\"1041\",\"type\":\"CDSView\"},{\"attributes\":{\"fill_color\":{\"value\":\"#1f77b4\"},\"line_color\":{\"value\":\"#1f77b4\"},\"top\":{\"field\":\"txns\"},\"width\":{\"value\":0.8},\"x\":{\"field\":\"height\"}},\"id\":\"1038\",\"type\":\"VBar\"},{\"attributes\":{},\"id\":\"1051\",\"type\":\"Selection\"}],\"root_ids\":[\"1003\"]},\"title\":\"Bokeh Application\",\"version\":\"1.3.4\"}};\n",
       "  var render_items = [{\"docid\":\"eedb003c-aa13-4ca2-af78-51a2c5b1b2ed\",\"roots\":{\"1003\":\"068f7c7c-c178-48e2-8f65-1923b01f98aa\"}}];\n",
       "  root.Bokeh.embed.embed_items_notebook(docs_json, render_items);\n",
       "\n",
       "  }\n",
       "  if (root.Bokeh !== undefined) {\n",
       "    embed_document(root);\n",
       "  } else {\n",
       "    var attempts = 0;\n",
       "    var timer = setInterval(function(root) {\n",
       "      if (root.Bokeh !== undefined) {\n",
       "        embed_document(root);\n",
       "        clearInterval(timer);\n",
       "      }\n",
       "      attempts++;\n",
       "      if (attempts > 100) {\n",
       "        console.log(\"Bokeh: ERROR: Unable to run BokehJS code because BokehJS library is missing\");\n",
       "        clearInterval(timer);\n",
       "      }\n",
       "    }, 10, root)\n",
       "  }\n",
       "})(window);"
      ],
      "application/vnd.bokehjs_exec.v0+json": ""
     },
     "metadata": {
      "application/vnd.bokehjs_exec.v0+json": {
       "id": "1003"
      }
     },
     "output_type": "display_data"
    }
   ],
   "source": [
    "def plot_block_stats(df):\n",
    "    source = ColumnDataSource(df)\n",
    "    p = figure(title='Txns/Block')\n",
    "\n",
    "    p.vbar(x='height', top='txns', width=0.8, source=source)\n",
    "    hover = HoverTool(tooltips=[('height', '@height'), ('txns', '@txns')])\n",
    "    p.add_tools(hover)\n",
    "    p.xaxis.axis_label = \"Txns/Block\"\n",
    "    p.yaxis.axis_label = \"NumTxns\"\n",
    "\n",
    "    show(p)\n",
    "plot_block_stats(bdf)"
   ]
  },
  {
   "cell_type": "markdown",
   "metadata": {},
   "source": [
    "### Hotspot Stats"
   ]
  },
  {
   "cell_type": "code",
   "execution_count": 6,
   "metadata": {
    "code_folding": [
     0
    ]
   },
   "outputs": [
    {
     "name": "stdout",
     "output_type": "stream",
     "text": [
      "Top 10 scoring hotspots:\n",
      "+-----+-------------------------+---------+\n",
      "|     | name                    |   score |\n",
      "|-----+-------------------------+---------|\n",
      "| 116 | magic-carob-quail       |  0.9939 |\n",
      "| 133 | mean-alabaster-piranha  |  0.9466 |\n",
      "| 103 | delightful-stone-beetle |  0.9329 |\n",
      "| 132 | mythical-tin-hawk       |  0.919  |\n",
      "|  13 | beautiful-onyx-platypus |  0.9154 |\n",
      "| 130 | mini-currant-lizard     |  0.8971 |\n",
      "| 126 | joyous-burgundy-chicken |  0.8956 |\n",
      "|  60 | shambolic-rusty-cyborg  |  0.8937 |\n",
      "|  44 | bubbly-mandarin-panther |  0.8811 |\n",
      "|  43 | melodic-pearl-chameleon |  0.8217 |\n",
      "+-----+-------------------------+---------+\n"
     ]
    }
   ],
   "source": [
    "def hotspot_stats():\n",
    "    hotspots = get_hotspots(API)\n",
    "\n",
    "    hdf = pd.DataFrame(hotspots)\n",
    "    hdf['name'] = hdf.apply(lambda row: '-'.join(animalhash(row.address).lower().split()), axis=1)\n",
    "    print(f'Top {TOP} scoring hotspots:')\n",
    "    print(tabulate(hdf.sort_values('score', ascending=False)[['name', 'score']].head(TOP),\n",
    "                   headers='keys', tablefmt='psql'))\n",
    "    return hdf\n",
    "hdf = hotspot_stats()"
   ]
  },
  {
   "cell_type": "code",
   "execution_count": 7,
   "metadata": {
    "code_folding": [
     0
    ]
   },
   "outputs": [
    {
     "data": {
      "text/html": [
       "\n",
       "\n",
       "\n",
       "\n",
       "\n",
       "\n",
       "  <div class=\"bk-root\" id=\"f931998e-1988-4cc5-bdea-804a4b203bea\" data-root-id=\"1101\"></div>\n"
      ]
     },
     "metadata": {},
     "output_type": "display_data"
    },
    {
     "data": {
      "application/javascript": [
       "(function(root) {\n",
       "  function embed_document(root) {\n",
       "    \n",
       "  var docs_json = {\"cd108725-c08a-4c7f-a758-b6aed4708dbc\":{\"roots\":{\"references\":[{\"attributes\":{\"below\":[{\"id\":\"1112\",\"type\":\"CategoricalAxis\"}],\"center\":[{\"id\":\"1115\",\"type\":\"Grid\"},{\"id\":\"1120\",\"type\":\"Grid\"}],\"left\":[{\"id\":\"1116\",\"type\":\"LinearAxis\"}],\"renderers\":[{\"id\":\"1137\",\"type\":\"GlyphRenderer\"}],\"title\":{\"id\":\"1102\",\"type\":\"Title\"},\"toolbar\":{\"id\":\"1127\",\"type\":\"Toolbar\"},\"width\":900,\"x_range\":{\"id\":\"1104\",\"type\":\"FactorRange\"},\"x_scale\":{\"id\":\"1108\",\"type\":\"CategoricalScale\"},\"y_range\":{\"id\":\"1106\",\"type\":\"Range1d\"},\"y_scale\":{\"id\":\"1110\",\"type\":\"LinearScale\"}},\"id\":\"1101\",\"subtype\":\"Figure\",\"type\":\"Plot\"},{\"attributes\":{\"text\":\"Hotspot Scores\"},\"id\":\"1102\",\"type\":\"Title\"},{\"attributes\":{\"axis_label\":\"Score\",\"formatter\":{\"id\":\"1153\",\"type\":\"BasicTickFormatter\"},\"ticker\":{\"id\":\"1117\",\"type\":\"BasicTicker\"}},\"id\":\"1116\",\"type\":\"LinearAxis\"},{\"attributes\":{},\"id\":\"1108\",\"type\":\"CategoricalScale\"},{\"attributes\":{\"data_source\":{\"id\":\"1100\",\"type\":\"ColumnDataSource\"},\"glyph\":{\"id\":\"1135\",\"type\":\"VBar\"},\"hover_glyph\":null,\"muted_glyph\":null,\"nonselection_glyph\":{\"id\":\"1136\",\"type\":\"VBar\"},\"selection_glyph\":null,\"view\":{\"id\":\"1138\",\"type\":\"CDSView\"}},\"id\":\"1137\",\"type\":\"GlyphRenderer\"},{\"attributes\":{},\"id\":\"1126\",\"type\":\"HelpTool\"},{\"attributes\":{\"axis_label\":\"Name\",\"formatter\":{\"id\":\"1151\",\"type\":\"CategoricalTickFormatter\"},\"major_label_orientation\":0.7853981633974483,\"major_label_text_font_size\":{\"value\":\"4pt\"},\"ticker\":{\"id\":\"1113\",\"type\":\"CategoricalTicker\"}},\"id\":\"1112\",\"type\":\"CategoricalAxis\"},{\"attributes\":{\"source\":{\"id\":\"1100\",\"type\":\"ColumnDataSource\"}},\"id\":\"1138\",\"type\":\"CDSView\"},{\"attributes\":{\"callback\":null,\"factors\":[\"crazy-opaque-condor\",\"dry-corduroy-bird\",\"sparkly-white-mouse\",\"teeny-blue-dinosaur\",\"proper-orchid-bee\",\"strong-tortilla-marmot\",\"savory-juniper-whale\",\"future-punch-ant\",\"clever-basil-moose\",\"tall-watermelon-dog\",\"cool-mossy-horse\",\"obedient-mustard-sheep\",\"flat-lilac-shrimp\",\"beautiful-onyx-platypus\",\"daring-amethyst-frog\",\"bitter-bronze-okapi\",\"tame-wooden-anteater\",\"spicy-seafoam-tadpole\",\"howling-gauze-guppy\",\"brave-lemon-ant\",\"acidic-red-mouse\",\"cheesy-fuzzy-shrimp\",\"recumbent-goldenrod-griffin\",\"howling-violet-millipede\",\"radiant-sable-swallow\",\"sneaky-champagne-pig\",\"damaged-concrete-walrus\",\"long-rosewood-boar\",\"itchy-flint-puma\",\"dazzling-bone-zebra\",\"genuine-powder-halibut\",\"bent-honey-starfish\",\"itchy-plastic-parakeet\",\"soaring-iris-beetle\",\"ripe-goldenrod-cheetah\",\"melodic-amber-hawk\",\"dizzy-strawberry-cricket\",\"savory-chili-terrier\",\"noisy-laurel-starling\",\"flat-magenta-chipmunk\",\"dandy-cobalt-lemur\",\"thankful-chili-millipede\",\"basic-ginger-oyster\",\"melodic-pearl-chameleon\",\"bubbly-mandarin-panther\",\"tiny-vermilion-platypus\",\"teeny-cotton-hawk\",\"stale-black-opossum\",\"happy-strawberry-lion\",\"orbiting-mint-carp\",\"sparkly-sable-sparrow\",\"scrawny-obsidian-halibut\",\"refined-bubblegum-poodle\",\"noisy-onyx-peacock\",\"young-sage-rook\",\"muscular-lavender-owl\",\"zany-chambray-camel\",\"dizzy-opaque-wolf\",\"clean-nylon-okapi\",\"dry-pebble-moose\",\"shambolic-rusty-cyborg\",\"proud-bubblegum-opossum\",\"agreeable-umber-python\",\"elegant-hazel-starling\",\"loud-juniper-boar\",\"bumpy-boysenberry-manatee\",\"blurry-seafoam-ape\",\"atomic-fuzzy-dove\",\"orbiting-cream-starfish\",\"thankful-seafoam-ant\",\"sneaky-mulberry-parrot\",\"merry-lemon-orca\",\"teeny-cider-troll\",\"stale-menthol-piranha\",\"polished-pearl-anteater\",\"round-white-sidewinder\",\"micro-clear-griffin\",\"creamy-linen-octopus\",\"spare-turquoise-otter\",\"delightful-aqua-blackbird\",\"cheesy-wooden-bird\",\"clever-pickle-sparrow\",\"spare-porcelain-penguin\",\"fierce-onyx-spider\",\"sour-honey-llama\",\"agreeable-walnut-weasel\",\"magic-rainbow-wasp\",\"fit-iron-monkey\",\"micro-tiger-tuna\",\"tall-blonde-condor\",\"generous-mossy-goat\",\"melted-sable-turkey\",\"joyful-golden-chameleon\",\"cuddly-sapphire-narwhal\",\"special-graphite-cat\",\"main-mahogany-crane\",\"beautiful-burgundy-rat\",\"rare-burlap-python\",\"joyous-beige-moose\",\"high-frost-blackbird\",\"acidic-lime-haddock\",\"precise-tangerine-rat\",\"fancy-glossy-rat\",\"delightful-stone-beetle\",\"boxy-holographic-rook\",\"decent-tortilla-bee\",\"custom-walnut-monkey\",\"immense-eggplant-stallion\",\"rapid-corduroy-halibut\",\"curly-berry-coyote\",\"precise-orange-peacock\",\"mythical-jade-tarantula\",\"rhythmic-shadow-spider\",\"fierce-turquoise-anteater\",\"main-pistachio-pangolin\",\"slow-burgundy-mandrill\",\"magic-carob-quail\",\"harsh-concrete-lizard\",\"dandy-champagne-pike\",\"skinny-fuchsia-mink\",\"sweet-pebble-aphid\",\"funny-jade-bull\",\"breezy-coal-deer\",\"clever-tan-panther\",\"dandy-sangria-okapi\",\"fresh-golden-wasp\",\"joyous-burgundy-chicken\",\"melted-iron-seal\",\"immense-mercurial-crocodile\",\"sparkly-aqua-wren\",\"mini-currant-lizard\",\"prehistoric-mossy-snail\",\"mythical-tin-hawk\",\"mean-alabaster-piranha\"]},\"id\":\"1104\",\"type\":\"FactorRange\"},{\"attributes\":{},\"id\":\"1125\",\"type\":\"ResetTool\"},{\"attributes\":{\"ticker\":{\"id\":\"1113\",\"type\":\"CategoricalTicker\"}},\"id\":\"1115\",\"type\":\"Grid\"},{\"attributes\":{},\"id\":\"1156\",\"type\":\"Selection\"},{\"attributes\":{},\"id\":\"1121\",\"type\":\"PanTool\"},{\"attributes\":{\"bottom_units\":\"screen\",\"fill_alpha\":{\"value\":0.5},\"fill_color\":{\"value\":\"lightgrey\"},\"left_units\":\"screen\",\"level\":\"overlay\",\"line_alpha\":{\"value\":1.0},\"line_color\":{\"value\":\"black\"},\"line_dash\":[4,4],\"line_width\":{\"value\":2},\"render_mode\":\"css\",\"right_units\":\"screen\",\"top_units\":\"screen\"},\"id\":\"1154\",\"type\":\"BoxAnnotation\"},{\"attributes\":{\"dimension\":1,\"ticker\":{\"id\":\"1117\",\"type\":\"BasicTicker\"}},\"id\":\"1120\",\"type\":\"Grid\"},{\"attributes\":{},\"id\":\"1155\",\"type\":\"UnionRenderers\"},{\"attributes\":{\"fill_alpha\":{\"value\":0.1},\"fill_color\":{\"value\":\"#1f77b4\"},\"line_alpha\":{\"value\":0.1},\"line_color\":{\"value\":\"#1f77b4\"},\"top\":{\"field\":\"score\"},\"width\":{\"value\":0.8},\"x\":{\"field\":\"name\"}},\"id\":\"1136\",\"type\":\"VBar\"},{\"attributes\":{\"callback\":null},\"id\":\"1106\",\"type\":\"Range1d\"},{\"attributes\":{},\"id\":\"1151\",\"type\":\"CategoricalTickFormatter\"},{\"attributes\":{\"active_drag\":\"auto\",\"active_inspect\":\"auto\",\"active_multi\":null,\"active_scroll\":\"auto\",\"active_tap\":\"auto\",\"tools\":[{\"id\":\"1121\",\"type\":\"PanTool\"},{\"id\":\"1122\",\"type\":\"WheelZoomTool\"},{\"id\":\"1123\",\"type\":\"BoxZoomTool\"},{\"id\":\"1124\",\"type\":\"SaveTool\"},{\"id\":\"1125\",\"type\":\"ResetTool\"},{\"id\":\"1126\",\"type\":\"HelpTool\"},{\"id\":\"1139\",\"type\":\"HoverTool\"}]},\"id\":\"1127\",\"type\":\"Toolbar\"},{\"attributes\":{\"callback\":null,\"data\":{\"address\":[\"11NWJW4xhkypQvPbioMV9a791RJjNjueh7f38AiAUEU75ifjwAF\",\"112knmafQYGS7u1JekGv2teFEUvDHjS3ScKPBb7LECgMjepRZH3r\",\"112uuSszttRhHHQrcoW5uxZ4Ujk97cpkUAGd6NzN5du9oWbLGMYM\",\"11QZ8NPS5w2pbBVqFT79hMxuYhc9FaCGz6g1UvpFKVjfZ9D1TbE\",\"112NLD4d8nRnNyqPv8smRVi8kRVkKNVBadCFNnz6XYbz8LGWKBb3\",\"11LVy67AcSy9iwtvDFr19yjThPY5EXaBBbPA4sThgNaDugh6xub\",\"11wuUYRFfbkjHTsqC6HhhvAV1jJUR2mC2MHxSigWnoyiGZuRgrJ\",\"11qXzvWwBX49LPHXZVKtT7aM2tKDUaHamHaPo2ajMvXxGs42s2y\",\"112vHYHXQNm7aVFAtjCVyqnHYTRPCKEib8uMUX71XFHPjDgwq4MV\",\"11DeGngCtZsML4EhRgPiJVp7feAN4XYwEiZhCKLy2SeQp8QWP7D\",\"112gt6GzN2wkKDXnzqwFJ4yshernCP1KpZEhdgYJ9yv7D6K3kyjT\",\"112P4UBvvAwDM11o6eHE6w44hGWq7ukNo4skTLSTsWYZx3wxPMqu\",\"112euXBKmLzUAfyi7FaYRxRpcH5RmfPKprV3qEyHCTt8nqwyVFYo\",\"112uFMbu9bTXe9tJzuaL1MoM7UksPK4F928VmBf9Hxzc6BjRK9Pp\",\"11nbEwo5k75mdE4nN9f9m6L5Q79dkbTukf48u2233ij6MQYEz3c\",\"11CAwto42LXquADz1asH4gWU6yUbSi1hATDijYm8ZM4Z7RtzeQK\",\"112YjHE6vZ72o2nypeBbsUTs6V5Z6CBXakKjQJKKCXHsAPPJrmvA\",\"112rDaPoAGdzXELF7t1iLj7BM8cCtezYoNAkwFECSLqGxR4iVMaj\",\"112kFNJoxBYn7UWwZqUABrTXjhn7mkP8ePrbi6w9Hj1NXJfodwP3\",\"11XC5VxSHnB2v9B8Kx3guqwTRLmY3hfar3EALunYsJMoT6TKJxV\",\"11yXFNu9Je9gvVfyuA8jS8z6faNcZW7kPwPApWYThTk416LGmU\",\"112dcfpxdtNKPTrKvzKmXHqLAq7R1Npq35Ehjepe9n2p7WA4mSXp\",\"1158boTwaXLng68TD1UauDnZeB1oCGRPqG7nQ2bL2yovkA2ntV3\",\"11uoSXSsPuuTv1cprZEqNuw5r8giCsAoqDXgsdFMR2G11tLKjkr\",\"112eFfqt75oqXa62iE8tsfLhgH3vSNAcnGLzEwGdUYun1zCAYKTR\",\"11jihKNVbs5Sd85ekMAiLHvq5oDEWCEs7rbSdJ2WtQbLXETbMe9\",\"112NxxWUZzAPDoJmrpnHH7nPn7hAFYVjTibYSS2p7vfXWhz8BuQF\",\"11vsUeTb8g4KcELPctghGLSDWhUDGAEAkiAhERU3euC69HSNvca\",\"115j9cnpxSmkYEdzjvFuMycz4VAea4zC9DicMKHZUHwc6aQVTTE\",\"1125mBeoEZ2e1TSiKtxUbeUS2jhPcb6X6ELyxUZeEKxgpAXL2QXC\",\"112PW6ZvGNWssGPX6k769dzercrmdRyBUwrsY5xfCgQiSWPWrxHF\",\"112TN1Cdqbi7LXaKBQKprjY7LVmVyePNACmB1ewk27M8raEVGmCz\",\"112cN1U82HCb2BN8E7XgmoniPTurcKg97WnJi2oXDupSMHpgiDid\",\"118EwwvzarVrtvaCfnRhCP1BBcdLaQRLBDKZ3coW17JHhKaj6p1\",\"112MCMqvkbdfbQ4BLopnGpMdnSeNUBEchHCbHsU2CMAZjRJKD3aB\",\"11sJGePtegp3KSmX2VSHSJy2kvkhNUHcLh1Xprs3m7FHwnEonfo\",\"112uVWq45n18AQnCASMpTiAsMcQvE7oqmtYji9FHab2yxfWsbmhX\",\"11iur9BrnJY2FunsLyH9FwLfqHa8C4Cue3R5WGFJmbYh2FrpbBh\",\"112Mki5uohp3EYjEwAKzrQStUf9FPZBKuzwnpRAiMboE6K6pTEhc\",\"112TW3Cp2GWLPs9veKMYFtw7DVaDHU6dsEE8GAggBVjEuf2TWttr\",\"11278GCrhcGcZorQmQgXefjPZWApFD9vHco9EzYytkkgepSx4cnW\",\"112HrGmRZ1iUFPNRzbMoAAiHHgHzrmkFLwdzwmUww457JsHN2VDm\",\"11jngF85QQc4JUvkK4uJ79vY7zLY6SrgKw911wpmiBvgMHsUJma\",\"11ubZi6poph2dLTc9jvJwNtjkJxF8WaneDSdMcDoA1tcyb47rFo\",\"11xKKZwHYZpWcEamiZmyCA1v6YmfcfagQMGf9BJfMnDDiXkhRgV\",\"11WPxVmJ83FKQkU83zbREvV2MtvkSaKeQenbJHdXWNESDu4c2bk\",\"11z6NPpfsdWZgGb5zSNz2VqHioyoVYmAGjANTPGwBKo26fBxb2U\",\"1124eHFSCjQTouUNkC23dhN8BUUYQHnwdobZGHZwJvTq1PN72xsb\",\"11sguEykEnHMXbw14nqo7mCwn18FsKFegaS3tcRqd2fgSKeaKcA\",\"11xWTUFRswoQM82EWQqDCRCixmX57UjzXLKdeKaXhGpsp66tho\",\"11EEx27SnCWb8qB87AX5XptnHNhpJx9y8YtQYHME1XNLTzTUxWD\",\"11bgTZaeRTiGuH11dE25H2D1FFM5tvtrHTNJnhAK6TwwrH57t88\",\"112NhNhURvqksxppa8bxjMku5e51h8rqub36rFA5Kgo8nPdM5KHS\",\"114VvEadECxmrrF4ccY3ai2XQzGdikovfJwBJEAsMuX8Wg9iWAR\",\"112jsPCWDbhYb1u1brqYGHkxdnpt8JSE91gRYCH5HKyFcsW16Tkx\",\"1123zdwvvayz9Nqxx4UtkGZecWhgDUmcdMJmG5qXccB1iW51dJgA\",\"112p1sK1ip8ZAAXC2txtJthSKUxgHxSCvhZCv9Mt6wmVqTGu6uyK\",\"112G1KhXpvMnPYw9ze7VsiLizG7SpVU81zFXyt2bcZBQwPS3Uh4L\",\"11aS1fM9HHVHzRgjVtcP55559X8pMnkCUdSttfZUohqH84sNQpM\",\"11BL252rVXxYyNe6P6kJ8udk4VHix7NVV4ASQTP2prr8KJB2YPi\",\"11qd6UNmuQsR5FUNc1LAKJM1r7kfx37WGc1csYbvkmUGUTx992K\",\"112MDVNM62dXFzXmPzNySnsXV58WyWJhDEH4zU1Xipb9F519Dy9q\",\"112c7xWEsNLTnPhWmmETrZ8P6BxqNnTZtBymmjifBgjKariw8YXw\",\"112D36ZCcFouGU5X5wVCXsikGEsEkpcLYFyrrKHcRowzENXq6yso\",\"112d7fa4ymaWLu1AVVgMtyRA3DbhvRCeNcTYK8oc64Xxq3PaQmLw\",\"112Sgw2sZf1BKAPqVH677a2HeE9TKYkgjGkPj7L5iLPvjrPA39hg\",\"112DFZH7yJwntcPMscyL91zb1LayjGpizEuMViAZvDQftiaPSiB9\",\"11Z4vYLzvwkuDegD95bDmDURYb5Q2BV69yCpeaf81372SkfktxC\",\"11ckxdQsReXpqwCrbbREZj6urEuNEGf2Zk5d4UnsuPMsJDSihwy\",\"112X5u9nq4v5RDcUSfGJXBG8dgCzvRTW7bfS4oZ9qnQU17vcQ5y2\",\"11uEMMjzw2bpuWW1cQHJLKPUiqzm3B8HHPtqsuiXZEhX4VxB4rB\",\"11BaVHGtAa5K1sb2xosiF3LepjrgK5iT7ZUjqkM6KDLS5Xd9VKh\",\"11t2h6ERRn2kbgjFF2hdQLZwvHcMS5NqykN3FEFRzvdf9K9QE1y\",\"11xkVWtJgF4xrRxhSy1mxYZvWc6anKA3QtrNJWdqP7J3wNkJ8tC\",\"112JHZsfc2sPfx1N9fjJ1HzhJou3o5LWgaWZYvnXAkcQktX9YLS7\",\"112sYD4tioU5RXg6t4aw74mP4NDxqrWptCqRFEeK5cauGqGYKaL4\",\"11J8sVCSMqmPQsS7vz5LEoKEYEARUWSt1iooWd7pp1vwYUqDoJg\",\"112u3Zr3oTs6TSBewf649PSiM1fCGg58gmhoAxvTZwtCeViB8XG1\",\"11Hh17C2pg8ig1ftU6H1UpSRQDVxZZtQNuJ56qryHMuD5w958Tr\",\"118Wc9tJaNA6xNbDjVenT52ueyfvXAcrzH4Lwppd5dG2QLDQ34C\",\"11hju5Kc94T9xbgA8Ri88LpX7sb79kMq7ET5A4xUF7AKsfvu9HM\",\"1127q7QEWN68TxVZ5wjPKBVGtjN51HGoiSiA6WJvR9ZzX9soHFBe\",\"11ECEKeyCjknk2Z7AG7gxVcVnWjmksJE1Wzq6C7BBZE239HjuFD\",\"11T5peiN6VsfEqTXzctRwQzSqkbaxx8HGeyjR6fyoAgAn1Y4sA9\",\"112dqJt9WfNqGPBbbz9Au42DZ1RUkpZAUWgnSmZ9R8nhDxQeNLCW\",\"11tWRj2Qhnn177iVYm3KUmbPdMyhRfeqHqk9kCyiR7y57hdG9JA\",\"112aeWRZdyz61Y7EQeMbXwqERNMPnciDvsxyFmhz1UfA9hte4R4W\",\"112UuTZGP8Vd4p4x7LX3MrQQkimrQVGsgDCq5EvQLvRYGUNZhH2T\",\"11dj5k2dwSUE7fqFnwAHK9stLd3St9MJiJuaRnvvRgJjbRMZgKJ\",\"11kzHgDkiGfCiX96fWz6riNGxjCCXy6bVvyn4SDwzjzwMXNhndU\",\"11o9ve9x4siBxXWSBZnXL6gmSJJ6dJKEGDGNoZTC1QpVDdGKeaN\",\"112s1E6JsKmjNrZp2s28Tk4VFuB49cZUjZ41qho7Uq9yYJyvyH1R\",\"112E3xyWmdj6N9CzN6KNPDPEzz8yxrY8C49SFSiN1zpARzizVY6z\",\"112opbmPimyyAT1Y5GxeEJSDXM2ZfTHAZRUMLGcADTyGXAe8Hr4\",\"112kQbfzXkyxTSTxUpztvPLMJLB2koLro9LJesumSGpdNUBhWzBN\",\"11YDCwbL1dkC7gToXTcEn5CQHTnjittZ7ZqTUsPjD6ba8hASZNe\",\"11rWkkY2rjp1hfZ2noxtwRALArbf12hMzdytHVQrY1c1PzBX4iR\",\"113kQU96zqePySTahB7PEde9ZpoWK76DYK1f57wyhjhXCBoAu88\",\"11oCfnQtekNbhEZLF2YA87jJr9mk9dogSEGoXCBboFR3CR7rR6v\",\"11MFNwMS56vpKvK4iBvMfp3dipCpQA623XaFDvoCu2AACKvwcSX\",\"11Csdm4xr7W3j1vJsZKQ5o5qnGQiwcjBqrW3qRiVDxqad395dKD\",\"112rNX8mnZBZWf6ixnksygsrahNYyHz7S9BExjqPCxhEqSPcxF38\",\"112MtP4Um2UXo8FtDHeme1U5A91M6Jj3TZ3i2XTJ9vNUMawqoPVW\",\"11idAPnBHP3AM3SjkpFRGy7XLVv12oecTFLHGBMfmBSvzNY9CW8\",\"112jpXUSkDJuykaNzrnTVGBWTrr5tukBSXUdZRKUsKAEMru6uucu\",\"11k4Gn6Qhs6JDet1w1fKxUe647zw4KRiZCYhNBtqYCL16BNmjRo\",\"11uvA9ZLXGUY5onTtAvMhSxjs4zMuGMganv1xSbipCxRCurUHuH\",\"11VKaN7fEvDm6NaGhcZtNSU1KAQQmTSwuuJsYYEqzh8mSWkoEUd\",\"112rGFR4TPSbrdTAPgP556n9ffst7tE5Xooua9QURbV4XeVoQgiD\",\"112Z6fYnkQa8VAyMWHoaZJVzrxbWPoJV2NCfdZmaNoG1pYxWdGwD\",\"112wh3mYwP6N8XbYgeU5JPp2L9rNJD5Qv8SGHxRjboybiAxJtRVt\",\"11YZSQ1DfKg5YwvoqKJRtKMBQnuRL6ofxyQPrMcsPPGEZdHVf2q\",\"1126WubKPpmEW6uCgcuXMfn4tHEp2rPr9sCrR9YXj2Vvg4gL3QC2\",\"11qTZbaXb3ZxWD3fW4PmVJryWXyY5dCPaSTKmvDhgEBk8bxTSvS\",\"112XLTxP3R8fXdmFsX6EYBpz4yQkJWZVNBuNjk8n2nw7dU14Fmcy\",\"11Kj6LV5M51PzPjBVbtgESL625SsrzdPoi59PDPQ2xdeozNuRuq\",\"11DMUS9sEDngNh5RF1k4pb23Ucbb9fN9RwPDd1ZMAJJiCjvo3Xx\",\"114FX56Ua6joFNmHAugjKR1wfopRyYEzbtgn6bodvSHXdKSwZPg\",\"115pxxv1H6xuq5NykL2PjzQqZqKv1bJdig2sxyN79ukBVGWXbPn\",\"11AUHAqBatgrs2v6j3j75UQ73NyEYZoH41CdJ56P1SzeqqYjZ4o\",\"11sAaGTavNJjGgpcoRL5GQACTbWQq4zvftgrZwjabMqJRNfyZn4\",\"112dFRPoWZmWehmiU1cdU2jbE213RB772urDC1HxUSZfQ7KVJaN5\",\"112aVmnM3bJsA1gM9fjNPSvAeY4LkrMzNJdHRfTdtZ9nTgWZgncs\",\"112VYECRxdyUixsN3KyTMdJaNdGGNF6UARwS5Pkyi86xoiBkSyLU\",\"112LfWf61hKR2mCKbuyqt3w2UCtytbFCmo2QJ4xdACR6c768LtiR\",\"11KeUR4Ure4DBFJE1TGg2nr4E7k2T8keAiBqmB9PEgMdWGB7eJh\",\"112rS6gCz9FQmcw2hrdnEJRLLAeWpSmtHYeC6nAuDrDutPWm2RYz\",\"11cEr5Um2a7Zbqw7Pozrc3DjEXvQptTtdVo5y132Kwo94ax11DD\",\"11TUDQEnZa8KXwuCNPVjLWboFGnVskfua1dRkEvmaNgriMWBwAf\",\"1127scjX1wymbXwV5eToMTV7cy8xghMddGb6QtiNhqSwLfSYksdQ\",\"115JucmPFDKUwvE4fkHR6GyQsttSUMi11KYme6pRcRTVXTqE7ww\",\"11TBjxKGcjG6wocUxWMccv8FU8LaPf72YiPXooPw4XuFLgHNAAi\",\"112D3iyBgtLeh5SPhshjZXQDV2XX2FdSMVSoC1fryANqdKPc3gLY\",\"112stmZdJDjyvuGEJLCkUa5kPnmra5Svz72G3GdcyQQ9h3i55D48\"],\"id\":[134,133,132,131,130,129,128,127,126,125,124,123,122,121,120,119,118,117,116,115,114,113,112,111,110,109,108,107,106,105,104,103,102,101,100,99,98,97,96,95,94,93,92,91,90,89,88,87,86,85,84,83,82,81,80,79,78,77,76,75,74,73,72,71,70,69,68,67,66,65,64,63,62,61,60,59,58,57,56,55,54,53,52,51,50,49,48,47,46,45,44,43,42,41,40,39,38,37,36,35,34,33,32,31,30,29,28,27,26,25,24,23,22,21,20,19,18,17,16,15,14,13,12,11,10,9,8,7,6,5,4,3,2,1],\"index\":[0,1,2,3,4,5,6,7,8,9,10,11,12,13,14,15,16,17,18,19,20,21,22,23,24,25,26,27,28,29,30,31,32,33,34,35,36,37,38,39,40,41,42,43,44,45,46,47,48,49,50,51,52,53,54,55,56,57,58,59,60,61,62,63,64,65,66,67,68,69,70,71,72,73,74,75,76,77,78,79,80,81,82,83,84,85,86,87,88,89,90,91,92,93,94,95,96,97,98,99,100,101,102,103,104,105,106,107,108,109,110,111,112,113,114,115,116,117,118,119,120,121,122,123,124,125,126,127,128,129,130,131,132,133],\"lat\":{\"__ndarray__\":\"CPoNveNDPkDB4INdA0U+QHB1qRB0Tz5AJJUD0j85PkC+TguzEUQ+QGH4LjVhQj5AqpHhRB4vPkCQWG8jA3Q+QCMl7YU2ST5AHN7/8yzcQkBGddP9qgRGQIc5CAoWRD5AwIZO8hukQkBXqZtsJD4+QEZihSNp4EJA5R2izxfiQkBLyzjYa0c+QGcQ8l5Y4kJAA0Ss10fsQkBHaZMG0EI+QIrES3JL5EJAH19u2S9KPkCbOoPnQ3A+QBFb8XWVdj5A2ph4FrOzPkB08Se8wUE+QCwsdwIsTj5AuYLQpjxZPkAjoJig0n4+QJhr4MYXRz5AHZoob3VEPkDHwis1fEQ+QAlVgHbGKz5AwVHXPXJPPkCAzA2rq1A+QI2drU7hUj5ACdOwSr5KPkCOwATEtCc+QFs/sWIKQT5Awhi+dKA9PkBwuhqGPVU+QAJ7s26uKkJA+NA2i2J4PkCvoFh30D0+QMfAB4yTPT5AL2DW0tVEPkDylDkEU1s+QBfMcFqyRD5AQ6KRE01BPkDcxk5JwFM+QONnz+mzKkJA0Ku1k7taPkDIjNxkdz0+QMNki9dHOT5A/qHZq6c/PkAvvLOvqU8+QBcg5Ux7Oj5AdYmLAdJEPkBn4LtzbUE+QPDwxQk5RD5AQSWI8hpBPkCt4m6Ek0M+QL/26wKIQz5A7h4XHZ1DPkCb4S/dc0M+QPdkif1mSj5ATsKHqAA1PkCt4m6Ek0M+QOq6GAsALD5AEd9a94hDPkBqOGdXdEM+QJFHOIJkLz5A/YwcBqJEPkBYrgdePkM+QMqiruVyPz5AW/l0XohCPkBpujBAAU8+QPydjLlLOD5Aew2pw4GNPUCi7s51kkU+QCMW6AKrPT5Ah5o4lIVEPkADUigg4U4+QC10x4HH5EJAnkpN1J7jQkA9xSoG2g9DQL/uklZk40JAoEJTetvsQkDa7P37De1CQKJ9VZUAAkNAwb1n2r7iQkDHwis1fEQ+QPxaQTZ940JANQkCkJJDPkBhrTbjUOZCQCGSImCFOj5AcDGIRGpDPkBysCCudeJCQLtCT5TlqUJAabdnY+FBPkDzObfqWyNDQJzWyWKnyEJAbBZJhF0jQ0BYEtGKjeZCQKRXJRPL4kJAmfl2N5NIQ0Bivbg5K+BCQATXp5OGD0NASgeYvUrkQkAE16eThg9DQGyp7Qas4kJAeP6k7KLhQkAQWYH1d0hDQIVklthoSUNAWD5BksCoQkBizbC8fuRCQDgZO7h25EJAfgW7HXXkQkD7W+wdMB9FQHj3l+gSu0JAjSjzO4OoQkBcyD2KgaZCQF5LGmTEp0JAlLOgY9SmQkBBeil+IOVCQNTT4Hj93EJAOngZONTmQkArTMN3EOFCQDrooCGG4UJABFDOYRvwQkBMq1T7r+RCQGOsGYIn7UJArE11GintQkCKP5dGFu1CQA==\",\"dtype\":\"float64\",\"shape\":[134]},\"lng\":{\"__ndarray__\":\"EI0CqstwWMA8/RqKZ29YwIigBMJlcljA6Cr/UxZyWMAYiMiqzW9YwEjQWWdQbljAMCTCIZZ+WMBU3XByamtYwBw9nrOnbVjArBCObNBdXsAQdyTcpTdRwDABwHn4b1jAIB74v9CAXsCE2Yf5CXJYwBhVvmBQoF7AEH6k02WdXsBM7ZIMX3BYwFK6LkCunF7AtqGPxaqPXsCImPf4ZG5YwHRudGQXmV7AfBqCo2BxWMAMwNj8kGxYwEB77TIfc1jAPDTZc/9tWMDAOXBATm9YwEwadiZ2cVjArJqDs9h4WMDQA1jGBnFYwDCoj2eLb1jAIGR0r51vWMCIU+ryAHBYwHjAczZmc1jAvNwmmjBrWMCsGwLNWHZYwMAHOsmLb1jAEOoXEidxWMDEfNreanZYwOiM7kg7dVjAwPWB+kFyWMA0jerZyGxYwCxxN3C8j1fACG7/jDRpWMDgrwbiEnJYwNB14RALcljAiHhTlYVvWMCcfCmpnG5YwOSeaX+lb1jATHQ4nM9uWMCs76VzIHVYwAAZAHrTj1fABBCvFbRxWMAsxglKiHBYwLTLx3Pbc1jADFrsVHlwWMCkPB1I4W5YwPx4nKSgbVjAHH8L4KBvWMCQ5wYcynBYwPjTDvnbb1jAGIqBychwWMCw9DE8k29YwMDePpmbb1jAWF1chJhvWMAE7IXbl29YwMTlclb+cFjA2BAi6yFyWMCw9DE8k29YwDjNRWxjcljAxIGjxpRvWMBo9zhylG9YwBhIKkJfdFjATEX4doZvWMDYy/3zfG5YwOwhy4c3cFjAIN5Evx1yWMCQGsIXIHBYwIg0J23MbFjAVEfsy0CnWMBAn4clmnBYwICITHBAcljAuBOnMOBuWMAwNxwhKHBYwPpjexrenF7A9JArFx6dXsCMrkbE8qFewOQs55srmV7AAiq4/fmRXsBuxTi6RpJewNBar+ulo17AvDhnkdSaXsCIU+ryAHBYwEjv8NwNm17AYLvNDppvWMBo+6lGPptewIy4FYOibVjAIH9dk5JvWMCYk8KT05lewIQC3eksgV7ARGwgoUlvWMDSHPuA45JewBxkxzzqkF7AFrjrAeCSXsBs8Xp/f5tewCS51KSqm17AvmVUVfNwXsBcxa9JcpxewKKJ0LDYoV7AbMF++Q2ZXsCiidCw2KFewAgNzanRml7ArrS0k9WYXsDQuNOt3V9ewGZ3FUKCX17AVgIkhUGAXsCyQu0bwpxewHBOEXzTnF7ANoiw9dacXsAklCNnj7lRwFi3u+ZGiV7AVgvuSTiBXsBQ0VPz2YFewGZEHwgUgl7ATMnPY7SBXsAqOWa3uJlewAgEVjAJnF7AYMa+PX+bXsB0V6WrfJtewAj+JUzmm17Axow6paiSXsCGVSwAGJlewGpgcgIPkl7AeITxhguSXsD8h0mhCJJewA==\",\"dtype\":\"float64\",\"shape\":[134]},\"location\":[\"8c489e340d233ff\",\"8c489e346600dff\",\"8c489e34e8d15ff\",\"8c489e36286edff\",\"8c489e3463b6bff\",\"8c489e3559129ff\",\"8c4898da3aa03ff\",\"8c489e2502591ff\",\"8c489e351c2dbff\",\"8c2836af5aee3ff\",\"8c2b1a26c7343ff\",\"8c489e3463167ff\",\"8c28347257965ff\",\"8c489e3635863ff\",\"8c2830958b5d9ff\",\"8c283095acf1dff\",\"8c489e3404f51ff\",\"8c283082d2f69ff\",\"8c28308ac46b9ff\",\"8c489e35591b3ff\",\"8c283082a1165ff\",\"8c489e3439621ff\",\"8c489e255394bff\",\"8c489e26b4e21ff\",\"8c48984a0d525ff\",\"8c489e346cf1bff\",\"8c489e343363dff\",\"8c4898cb3b419ff\",\"8c489e24849bdff\",\"8c489e3428a27ff\",\"8c489e3467757ff\",\"8c489e3463a9bff\",\"8c489eacac5b3ff\",\"8c489e22ca165ff\",\"8c4898cb644edff\",\"8c489e35894adff\",\"8c489e343800bff\",\"8c489eacd5647ff\",\"8c489e36c4c59ff\",\"8c489e363531dff\",\"8c489e35acb0bff\",\"8c26ed42c2355ff\",\"8c489e2ec12d9ff\",\"8c489e3635a61ff\",\"8c489e362258dff\",\"8c489e3467523ff\",\"8c489e35b08c9ff\",\"8c489e3467409ff\",\"8c489e3732297ff\",\"8c489e34d7409ff\",\"8c26ed42c38ddff\",\"8c489e2648963ff\",\"8c489e371af5dff\",\"8c489e360aec1ff\",\"8c489e3712435ff\",\"8c489e35c46b9ff\",\"8c489e372b061ff\",\"8c489e346743dff\",\"8c489e3444551ff\",\"8c489e3463b1bff\",\"8c489e344476bff\",\"8c489e34608dbff\",\"8c489e3460f6bff\",\"8c489e3460f29ff\",\"8c489e3460a97ff\",\"8c489e34398c7ff\",\"8c489e366ab37ff\",\"8c489e34608dbff\",\"8c489ead992e7ff\",\"8c489e3460f65ff\",\"8c489e3460abbff\",\"8c489eacb5263ff\",\"8c489e3467569ff\",\"8c489e3558287ff\",\"8c489e3712f41ff\",\"8c489e345d993ff\",\"8c489e35ca645ff\",\"8c489e3766d4bff\",\"8c489c02b8257ff\",\"8c489e340cd49ff\",\"8c489e3635315ff\",\"8c489e355b0d1ff\",\"8c489e35cb4abff\",\"8c2830829220dff\",\"8c2830829b095ff\",\"8c2830aa255d5ff\",\"8c283082a9b17ff\",\"8c28308adab2bff\",\"8c28308adac45ff\",\"8c2830b81125bff\",\"8c283082810b9ff\",\"8c489e3463a9bff\",\"8c28308283a3bff\",\"8c489e3460f63ff\",\"8c283082b31edff\",\"8c489e372b063ff\",\"8c489e3460ab9ff\",\"8c283082e3589ff\",\"8c283472e78c7ff\",\"8c489e346cc61ff\",\"8c28300500b35ff\",\"8c28346692107ff\",\"8c28300500949ff\",\"8c283082b35abff\",\"8c2830828a449ff\",\"8c283079278d5ff\",\"8c283082d8357ff\",\"8c2830aa2529dff\",\"8c283082a1a4bff\",\"8c2830aa2529dff\",\"8c283082810c7ff\",\"8c283082e1941ff\",\"8c2832b020259ff\",\"8c2832b02713bff\",\"8c283472328c9ff\",\"8c28308293335ff\",\"8c2830829304dff\",\"8c28308293049ff\",\"8c2a302d6c569ff\",\"8c283475d4eedff\",\"8c283472ecedbff\",\"8c28347213117ff\",\"8c283472c4b27ff\",\"8c28347213991ff\",\"8c283082a31dbff\",\"8c28309506ec1ff\",\"8c283082b2519ff\",\"8c283082c26b9ff\",\"8c283082d5485ff\",\"8c28308f4daadff\",\"8c283082a18b3ff\",\"8c28308ad326dff\",\"8c28308ada9b3ff\",\"8c28308ada981ff\"],\"long_city\":[\"Austin\",\"Austin\",\"Austin\",\"Austin\",\"Austin\",\"Austin\",\"Austin\",\"Austin\",\"Austin\",\"Tracy\",\"Vinalhaven\",\"Austin\",\"Saratoga\",\"Austin\",\"San Francisco\",\"San Francisco\",\"Austin\",\"San Francisco\",\"Oakland\",\"Austin\",\"San Francisco\",\"Austin\",\"Austin\",\"Austin\",\"Georgetown\",\"Austin\",\"Austin\",\"Austin\",\"Austin\",\"Austin\",\"Austin\",\"Austin\",\"Austin\",\"Austin\",\"Austin\",\"Austin\",\"Austin\",\"Austin\",\"Austin\",\"Austin\",\"Austin\",\"Bentonville\",\"Round Rock\",\"Austin\",\"Austin\",\"Austin\",\"Austin\",\"Austin\",\"Austin\",\"Austin\",\"Bentonville\",\"Austin\",\"Austin\",\"Sunset Valley\",\"Austin\",\"Austin\",\"Austin\",\"Austin\",\"Austin\",\"Austin\",\"Austin\",\"Austin\",\"Austin\",\"Austin\",\"Austin\",\"Austin\",\"Austin\",\"Austin\",\"Austin\",\"Austin\",\"Austin\",\"Austin\",\"Austin\",\"Austin\",\"Austin\",\"Austin\",\"Austin\",\"Austin\",\"San Antonio\",\"Austin\",\"Austin\",\"Austin\",\"Austin\",\"San Francisco\",\"San Francisco\",\"Novato\",\"San Francisco\",\"Berkeley\",\"Berkeley\",\"San Rafael\",\"San Francisco\",\"Austin\",\"San Francisco\",\"Austin\",\"San Francisco\",\"Austin\",\"Austin\",\"San Francisco\",\"Cupertino\",\"Austin\",\"Napa\",\"Foster City\",\"Napa\",\"San Francisco\",\"San Francisco\",\"Davis\",\"San Francisco\",\"Novato\",\"San Francisco\",\"Novato\",\"San Francisco\",\"San Francisco\",\"Sacramento\",\"Sacramento\",\"Cupertino\",\"San Francisco\",\"San Francisco\",\"San Francisco\",\"Hingham\",\"East Palo Alto\",\"Cupertino\",\"San Jose\",\"San Jose\",\"San Jose\",\"San Francisco\",\"San Francisco\",\"San Francisco\",\"San Francisco\",\"San Francisco\",\"Berkeley\",\"San Francisco\",\"Berkeley\",\"Berkeley\",\"Berkeley\"],\"long_country\":[\"United States\",\"United States\",\"United States\",\"United States\",\"United States\",\"United States\",\"United States\",\"United States\",\"United States\",\"United States\",\"United States\",\"United States\",\"United States\",\"United States\",\"United States\",\"United States\",\"United States\",\"United States\",\"United States\",\"United States\",\"United States\",\"United States\",\"United States\",\"United States\",\"United States\",\"United States\",\"United States\",\"United States\",\"United States\",\"United States\",\"United States\",\"United States\",\"United States\",\"United States\",\"United States\",\"United States\",\"United States\",\"United States\",\"United States\",\"United States\",\"United States\",\"United States\",\"United States\",\"United States\",\"United States\",\"United States\",\"United States\",\"United States\",\"United States\",\"United States\",\"United States\",\"United States\",\"United States\",\"United States\",\"United States\",\"United States\",\"United States\",\"United States\",\"United States\",\"United States\",\"United States\",\"United States\",\"United States\",\"United States\",\"United States\",\"United States\",\"United States\",\"United States\",\"United States\",\"United States\",\"United States\",\"United States\",\"United States\",\"United States\",\"United States\",\"United States\",\"United States\",\"United States\",\"United States\",\"United States\",\"United States\",\"United States\",\"United States\",\"United States\",\"United States\",\"United States\",\"United States\",\"United States\",\"United States\",\"United States\",\"United States\",\"United States\",\"United States\",\"United States\",\"United States\",\"United States\",\"United States\",\"United States\",\"United States\",\"United States\",\"United States\",\"United States\",\"United States\",\"United States\",\"United States\",\"United States\",\"United States\",\"United States\",\"United States\",\"United States\",\"United States\",\"United States\",\"United States\",\"United States\",\"United States\",\"United States\",\"United States\",\"United States\",\"United States\",\"United States\",\"United States\",\"United States\",\"United States\",\"United States\",\"United States\",\"United States\",\"United States\",\"United States\",\"United States\",\"United States\",\"United States\",\"United States\",\"United States\",\"United States\"],\"long_state\":[\"Texas\",\"Texas\",\"Texas\",\"Texas\",\"Texas\",\"Texas\",\"Texas\",\"Texas\",\"Texas\",\"California\",\"Maine\",\"Texas\",\"California\",\"Texas\",\"California\",\"California\",\"Texas\",\"California\",\"California\",\"Texas\",\"California\",\"Texas\",\"Texas\",\"Texas\",\"Texas\",\"Texas\",\"Texas\",\"Texas\",\"Texas\",\"Texas\",\"Texas\",\"Texas\",\"Texas\",\"Texas\",\"Texas\",\"Texas\",\"Texas\",\"Texas\",\"Texas\",\"Texas\",\"Texas\",\"Arkansas\",\"Texas\",\"Texas\",\"Texas\",\"Texas\",\"Texas\",\"Texas\",\"Texas\",\"Texas\",\"Arkansas\",\"Texas\",\"Texas\",\"Texas\",\"Texas\",\"Texas\",\"Texas\",\"Texas\",\"Texas\",\"Texas\",\"Texas\",\"Texas\",\"Texas\",\"Texas\",\"Texas\",\"Texas\",\"Texas\",\"Texas\",\"Texas\",\"Texas\",\"Texas\",\"Texas\",\"Texas\",\"Texas\",\"Texas\",\"Texas\",\"Texas\",\"Texas\",\"Texas\",\"Texas\",\"Texas\",\"Texas\",\"Texas\",\"California\",\"California\",\"California\",\"California\",\"California\",\"California\",\"California\",\"California\",\"Texas\",\"California\",\"Texas\",\"California\",\"Texas\",\"Texas\",\"California\",\"California\",\"Texas\",\"California\",\"California\",\"California\",\"California\",\"California\",\"California\",\"California\",\"California\",\"California\",\"California\",\"California\",\"California\",\"California\",\"California\",\"California\",\"California\",\"California\",\"California\",\"Massachusetts\",\"California\",\"California\",\"California\",\"California\",\"California\",\"California\",\"California\",\"California\",\"California\",\"California\",\"California\",\"California\",\"California\",\"California\",\"California\"],\"long_street\":[\"Toomey Road\",\"East 8th Street\",\"Bennedict Lane\",\"Richmond Avenue\",\"West 2nd Street\",\"Chicon Street\",\"Mesa Verde Drive\",\"Emmett Parkway\",\"Larry Lane\",\"Remington Way\",\"Unknown\",\"West 2nd Street\",\"De Havilland Court\",\"Manchaca Road\",\"Noriega Street\",\"Lincoln Way\",\"Lorrain Street\",\"Clayton Street\",\"Ocean View Drive\",\"East 4th Street\",\"Bryant Street\",\"Norwalk Lane\",\"Wells Branch Parkway\",\"Patricia Court\",\"Winecup Way\",\"Rainey Street\",\"Velasquez Drive\",\"Lakecliff Hills Lane\",\"Belfin Drive\",\"West 15th Street\",\"West 5th Street\",\"Nueces Street\",\"Unnamed Road\",\"Betty Cook Drive\",\"Lowell Lane North\",\"Shoalwood Avenue\",\"Forest Trail\",\"Yandall Drive\",\"Crystal Water Drive\",\"South Lamar Boulevard\",\"Bennett Avenue\",\"Southwest Boulder Street\",\"Manjack Cay Drive\",\"Manchaca Road\",\"Manchaca Road\",\"Congress Avenue\",\"Sales Street\",\"West 6th Street\",\"Holly Street\",\"Manana Street\",\"Southwest Boulder Street\",\"Williams Ridge Way\",\"Durwood Street\",\"Pillow Road\",\"West Milton Street\",\"Guadalupe Street\",\"East Riverside Drive\",\"Unknown\",\"South Lamar Boulevard\",\"West 4th Street\",\"South Lamar Boulevard\",\"Congress Avenue\",\"Congress Avenue\",\"East 2nd Street\",\"Congress Avenue\",\"Woodmont Avenue\",\"South 1st Street\",\"Congress Avenue\",\"South Congress Avenue\",\"Congress Avenue\",\"Congress Avenue\",\"Davis Lane\",\"East 6th Street\",\"East 6th Street\",\"West Milton Street\",\"Graywood Cove\",\"Lawton Avenue\",\"Maxwell Lane\",\"Spring Time Street\",\"West 5th Street\",\"South Lamar Boulevard\",\"East 8th Street\",\"West 35th Street\",\"Sacramento Street\",\"Stanyan Street\",\"Malobar Drive\",\"King Street\",\"Acton Street\",\"Ashby Avenue\",\"Las Colindas Road\",\"Mission Street\",\"Nueces Street\",\"Gough Street\",\"Congress Avenue\",\"Filbert Street\",\"East Riverside Drive\",\"Congress Avenue\",\"Division Street\",\"Colby Avenue\",\"Rainey Street\",\"Tade Court\",\"Widgeon Street\",\"Agile Street\",\"Octavia Street\",\"Haight Street\",\"Quail Street\",\"Burnett Avenue\",\"Andale Avenue\",\"Federal Street\",\"Andale Avenue\",\"Mission Street\",\"3rd Street\",\"11th Street\",\"O Street\",\"Bret Avenue\",\"Laurel Street\",\"Collins Street\",\"Manzanita Avenue\",\"Thaxter Street\",\"East Okeefe Street\",\"Pineville Avenue\",\"Rainbow Drive\",\"Unknown\",\"Arlington Lane\",\"Montgomery Street\",\"Capistrano Avenue\",\"Octavia Street\",\"20th Street\",\"Collingwood Street\",\"Cornell Avenue\",\"Harrison Street\",\"Ashby Avenue\",\"Ashby Avenue\",\"Carrison Street\"],\"name\":[\"crazy-opaque-condor\",\"dry-corduroy-bird\",\"sparkly-white-mouse\",\"teeny-blue-dinosaur\",\"proper-orchid-bee\",\"strong-tortilla-marmot\",\"savory-juniper-whale\",\"future-punch-ant\",\"clever-basil-moose\",\"tall-watermelon-dog\",\"cool-mossy-horse\",\"obedient-mustard-sheep\",\"flat-lilac-shrimp\",\"beautiful-onyx-platypus\",\"daring-amethyst-frog\",\"bitter-bronze-okapi\",\"tame-wooden-anteater\",\"spicy-seafoam-tadpole\",\"howling-gauze-guppy\",\"brave-lemon-ant\",\"acidic-red-mouse\",\"cheesy-fuzzy-shrimp\",\"recumbent-goldenrod-griffin\",\"howling-violet-millipede\",\"radiant-sable-swallow\",\"sneaky-champagne-pig\",\"damaged-concrete-walrus\",\"long-rosewood-boar\",\"itchy-flint-puma\",\"dazzling-bone-zebra\",\"genuine-powder-halibut\",\"bent-honey-starfish\",\"itchy-plastic-parakeet\",\"soaring-iris-beetle\",\"ripe-goldenrod-cheetah\",\"melodic-amber-hawk\",\"dizzy-strawberry-cricket\",\"savory-chili-terrier\",\"noisy-laurel-starling\",\"flat-magenta-chipmunk\",\"dandy-cobalt-lemur\",\"thankful-chili-millipede\",\"basic-ginger-oyster\",\"melodic-pearl-chameleon\",\"bubbly-mandarin-panther\",\"tiny-vermilion-platypus\",\"teeny-cotton-hawk\",\"stale-black-opossum\",\"happy-strawberry-lion\",\"orbiting-mint-carp\",\"sparkly-sable-sparrow\",\"scrawny-obsidian-halibut\",\"refined-bubblegum-poodle\",\"noisy-onyx-peacock\",\"young-sage-rook\",\"muscular-lavender-owl\",\"zany-chambray-camel\",\"dizzy-opaque-wolf\",\"clean-nylon-okapi\",\"dry-pebble-moose\",\"shambolic-rusty-cyborg\",\"proud-bubblegum-opossum\",\"agreeable-umber-python\",\"elegant-hazel-starling\",\"loud-juniper-boar\",\"bumpy-boysenberry-manatee\",\"blurry-seafoam-ape\",\"atomic-fuzzy-dove\",\"orbiting-cream-starfish\",\"thankful-seafoam-ant\",\"sneaky-mulberry-parrot\",\"merry-lemon-orca\",\"teeny-cider-troll\",\"stale-menthol-piranha\",\"polished-pearl-anteater\",\"round-white-sidewinder\",\"micro-clear-griffin\",\"creamy-linen-octopus\",\"spare-turquoise-otter\",\"delightful-aqua-blackbird\",\"cheesy-wooden-bird\",\"clever-pickle-sparrow\",\"spare-porcelain-penguin\",\"fierce-onyx-spider\",\"sour-honey-llama\",\"agreeable-walnut-weasel\",\"magic-rainbow-wasp\",\"fit-iron-monkey\",\"micro-tiger-tuna\",\"tall-blonde-condor\",\"generous-mossy-goat\",\"melted-sable-turkey\",\"joyful-golden-chameleon\",\"cuddly-sapphire-narwhal\",\"special-graphite-cat\",\"main-mahogany-crane\",\"beautiful-burgundy-rat\",\"rare-burlap-python\",\"joyous-beige-moose\",\"high-frost-blackbird\",\"acidic-lime-haddock\",\"precise-tangerine-rat\",\"fancy-glossy-rat\",\"delightful-stone-beetle\",\"boxy-holographic-rook\",\"decent-tortilla-bee\",\"custom-walnut-monkey\",\"immense-eggplant-stallion\",\"rapid-corduroy-halibut\",\"curly-berry-coyote\",\"precise-orange-peacock\",\"mythical-jade-tarantula\",\"rhythmic-shadow-spider\",\"fierce-turquoise-anteater\",\"main-pistachio-pangolin\",\"slow-burgundy-mandrill\",\"magic-carob-quail\",\"harsh-concrete-lizard\",\"dandy-champagne-pike\",\"skinny-fuchsia-mink\",\"sweet-pebble-aphid\",\"funny-jade-bull\",\"breezy-coal-deer\",\"clever-tan-panther\",\"dandy-sangria-okapi\",\"fresh-golden-wasp\",\"joyous-burgundy-chicken\",\"melted-iron-seal\",\"immense-mercurial-crocodile\",\"sparkly-aqua-wren\",\"mini-currant-lizard\",\"prehistoric-mossy-snail\",\"mythical-tin-hawk\",\"mean-alabaster-piranha\"],\"owner\":[\"13jL4pTLq4JQBwDoH1ZBX3VPchmeTZxQSGi4cnyXXuzPPoKxcd5\",\"13ZoK5nhUY1bLMTPr81LL2pG4gxN4pmtCNCJSmLh7BVhk8EEmLv\",\"131bXvjrCHguJEjVtSyV2hpiJDoxnPiWmjEKVot9PaKPf6CvzNT\",\"13y4jM3b7AgSgoTKqz18NmAwm99K1PRPs56hWuRi9EC5cLv1TXw\",\"14CryK8VwHBvWZvU4hEdbYBeUxrW7ZkWbfWGs2QefJzKxQbbxm8\",\"14CryK8VwHBvWZvU4hEdbYBeUxrW7ZkWbfWGs2QefJzKxQbbxm8\",\"14CryK8VwHBvWZvU4hEdbYBeUxrW7ZkWbfWGs2QefJzKxQbbxm8\",\"13jL4pTLq4JQBwDoH1ZBX3VPchmeTZxQSGi4cnyXXuzPPoKxcd5\",\"149ojHmuDHk7hhJbww5xUpv68jgR1GFTFttcBV87eBvHkRMestS\",\"13b75UVnSQAxRiyxc1T2q8hgwcrYg6qTVj48PRyEL69os7x2aXN\",\"13ZoK5nhUY1bLMTPr81LL2pG4gxN4pmtCNCJSmLh7BVhk8EEmLv\",\"13q8L4fQHYFPBENYugVJuwtG1yrvmr4dvhxJtQzxWEbfNhF9Gny\",\"13jFJ9LmooHjv6TnFWNryLDrDU3bEBf3FpCWfcdUN6NEDatm8o1\",\"14p1ECNRHUpxazwib3VijrNsmsAAsuMfMa84uCsXxp6JqZ29eaY\",\"12z4nUiayZnbW46azcegBBB9yGkchFb1Zm7EPuh6eV1r2HT1NgC\",\"14aEqJhfWwvynhHSzP4cLuZuW7yuENkdD3nu3yFZBQmZNpaYMa5\",\"13jL4pTLq4JQBwDoH1ZBX3VPchmeTZxQSGi4cnyXXuzPPoKxcd5\",\"13PqfSmY66odJDdEUYVuUewaNqe43zenTdvjvTfvMwBtBRh4ZMn\",\"1383ziQFpmSiW4Q6Nw73eaR6f5oTP4PsjzaECbf3mGVd2TrqKqq\",\"13jL4pTLq4JQBwDoH1ZBX3VPchmeTZxQSGi4cnyXXuzPPoKxcd5\",\"142MT8yuvepnVCwkVxgBPddotHcXKJXtw1yCXVhobawMv3w8L99\",\"13jL4pTLq4JQBwDoH1ZBX3VPchmeTZxQSGi4cnyXXuzPPoKxcd5\",\"13jL4pTLq4JQBwDoH1ZBX3VPchmeTZxQSGi4cnyXXuzPPoKxcd5\",\"13jL4pTLq4JQBwDoH1ZBX3VPchmeTZxQSGi4cnyXXuzPPoKxcd5\",\"13jL4pTLq4JQBwDoH1ZBX3VPchmeTZxQSGi4cnyXXuzPPoKxcd5\",\"13jL4pTLq4JQBwDoH1ZBX3VPchmeTZxQSGi4cnyXXuzPPoKxcd5\",\"13ZoK5nhUY1bLMTPr81LL2pG4gxN4pmtCNCJSmLh7BVhk8EEmLv\",\"13jL4pTLq4JQBwDoH1ZBX3VPchmeTZxQSGi4cnyXXuzPPoKxcd5\",\"13jL4pTLq4JQBwDoH1ZBX3VPchmeTZxQSGi4cnyXXuzPPoKxcd5\",\"13jL4pTLq4JQBwDoH1ZBX3VPchmeTZxQSGi4cnyXXuzPPoKxcd5\",\"13o9KUMcmEdhtjXRaJ5AANHLZWBoGcTmF4MFw3MjQbubjR57jXW\",\"13jL4pTLq4JQBwDoH1ZBX3VPchmeTZxQSGi4cnyXXuzPPoKxcd5\",\"13jL4pTLq4JQBwDoH1ZBX3VPchmeTZxQSGi4cnyXXuzPPoKxcd5\",\"13jL4pTLq4JQBwDoH1ZBX3VPchmeTZxQSGi4cnyXXuzPPoKxcd5\",\"13jL4pTLq4JQBwDoH1ZBX3VPchmeTZxQSGi4cnyXXuzPPoKxcd5\",\"13jL4pTLq4JQBwDoH1ZBX3VPchmeTZxQSGi4cnyXXuzPPoKxcd5\",\"13o9KUMcmEdhtjXRaJ5AANHLZWBoGcTmF4MFw3MjQbubjR57jXW\",\"13jL4pTLq4JQBwDoH1ZBX3VPchmeTZxQSGi4cnyXXuzPPoKxcd5\",\"13jL4pTLq4JQBwDoH1ZBX3VPchmeTZxQSGi4cnyXXuzPPoKxcd5\",\"13zwMXQwFBNxKGKJvurjGhVjTfkunwsC3GghtE9SyeUYDJei3t3\",\"13zuBf3QXx95aSpR3AgXiR6hjLzbqHqnwHGErXTxb49UrSngKU3\",\"13ickN56yPe38a3Vga161gp4nkSLckWvy7JChvnFr9osfP4AHGE\",\"13N2Q7qaxvtxiG3WRaR4bT1PAHS72t1AAfSvazcfut8FceQ7yXC\",\"13jL4pTLq4JQBwDoH1ZBX3VPchmeTZxQSGi4cnyXXuzPPoKxcd5\",\"13jL4pTLq4JQBwDoH1ZBX3VPchmeTZxQSGi4cnyXXuzPPoKxcd5\",\"13o9KUMcmEdhtjXRaJ5AANHLZWBoGcTmF4MFw3MjQbubjR57jXW\",\"13x6xCFEw1mq8spGP3xPWJnKuepb4wZJPUMbpk1g4HBCV6jpxMV\",\"13o9KUMcmEdhtjXRaJ5AANHLZWBoGcTmF4MFw3MjQbubjR57jXW\",\"14E4ihsukiU3Zdkqi2RNs6EWKuuQEK38rgmPTuSD2wSsSHfx7ry\",\"1328ZwD3SHEjnNwo4f4AoNppMZBg2NkSRjgUb2FSH6dbRsTWPN6\",\"13ickN56yPe38a3Vga161gp4nkSLckWvy7JChvnFr9osfP4AHGE\",\"13sKwLL85zvYvnCm8cvZrYCEmRWkpmNaY9eCShoDota6VCuFRBx\",\"12x4r5XkM65BH6TDMz1a7X4FrYWWZLArJMg6EL3pv3ytKfLA99d\",\"1418RhwsMfqEbFDJxSopAXird8qRHqw1FTYvMCRdDPHERes4Kea\",\"13jL4pTLq4JQBwDoH1ZBX3VPchmeTZxQSGi4cnyXXuzPPoKxcd5\",\"13Yz557GVBUvcTQkXCsx8AKFAh3TmsXbWNWXMNTaM4SEAVoevvB\",\"13jL4pTLq4JQBwDoH1ZBX3VPchmeTZxQSGi4cnyXXuzPPoKxcd5\",\"13o9KUMcmEdhtjXRaJ5AANHLZWBoGcTmF4MFw3MjQbubjR57jXW\",\"13jL4pTLq4JQBwDoH1ZBX3VPchmeTZxQSGi4cnyXXuzPPoKxcd5\",\"13MrkJ2L6LBfCmsnaHJvxjBxEE1HrgToCEjnBoL8dqeyvTdHj92\",\"13jL4pTLq4JQBwDoH1ZBX3VPchmeTZxQSGi4cnyXXuzPPoKxcd5\",\"13jL4pTLq4JQBwDoH1ZBX3VPchmeTZxQSGi4cnyXXuzPPoKxcd5\",\"13jL4pTLq4JQBwDoH1ZBX3VPchmeTZxQSGi4cnyXXuzPPoKxcd5\",\"13jL4pTLq4JQBwDoH1ZBX3VPchmeTZxQSGi4cnyXXuzPPoKxcd5\",\"13jL4pTLq4JQBwDoH1ZBX3VPchmeTZxQSGi4cnyXXuzPPoKxcd5\",\"13o9KUMcmEdhtjXRaJ5AANHLZWBoGcTmF4MFw3MjQbubjR57jXW\",\"14JPT1gUGHPkfpTEMEAYtdhnBGmJm95XNXK3DhBxcZm3z5kPtwn\",\"13jL4pTLq4JQBwDoH1ZBX3VPchmeTZxQSGi4cnyXXuzPPoKxcd5\",\"14ZKktN1fYq74ZfR19ix8rZnA3EiXzFcsrwN4MtExnVAPH6JPPP\",\"13jL4pTLq4JQBwDoH1ZBX3VPchmeTZxQSGi4cnyXXuzPPoKxcd5\",\"13jL4pTLq4JQBwDoH1ZBX3VPchmeTZxQSGi4cnyXXuzPPoKxcd5\",\"139i97spJpNYJoQr5ik2zFq5L77U1SfXTkTh1gbxVgSMrfvTc6s\",\"13o9KUMcmEdhtjXRaJ5AANHLZWBoGcTmF4MFw3MjQbubjR57jXW\",\"14hCqYFCtetS6RMQNfi9abKUqVyZnJqcSkbWxewhiL97dZuPwMi\",\"12yS1GsggJLDaM43fpJn9NZLLHFAFztUYc4EaxuHT8LXK7afKh6\",\"14ZKktN1fYq74ZfR19ix8rZnA3EiXzFcsrwN4MtExnVAPH6JPPP\",\"14PMavd2wcQ6GiqZQFkx8PQhHNGwaW7XZgwX3kcHkDZWauZXs5a\",\"13hDQpbcSe9jZX5giU2sNeynLpHQoLKF8mWkUrpuqVyFgu9ycSq\",\"13vNfrpCAyd19Je8dsqpJh2oDbk57mVhZto5XFcL5zwDk1asuGX\",\"13Ty4sVxzX7hMACPGnYHGiGTUHsZwUPKjQYnXCWSpqe3ZTxeV8m\",\"136Q6at4MoCEqaih29WQTZSabepvpSgcqBUW3etyNiERjs6jKCb\",\"13MeciKTq52Jjyu1K5cCvYAjjcRh3McM45KLrKvuyZpqBeTjUv7\",\"13o9KUMcmEdhtjXRaJ5AANHLZWBoGcTmF4MFw3MjQbubjR57jXW\",\"13s2mVc16F2dubZWPLNDyTvLbQbJJcndJ7o27vdj4nnpEqRkmkW\",\"12z4nUiayZnbW46azcegBBB9yGkchFb1Zm7EPuh6eV1r2HT1NgC\",\"13buBykFQf5VaQtv7mWj2PBY9Lq4i1DeXhg7C4Vbu3ppzqqNkTH\",\"13buBykFQf5VaQtv7mWj2PBY9Lq4i1DeXhg7C4Vbu3ppzqqNkTH\",\"14a5sytsEVKBVhGsVz2rJDkxf1cs1L89zvtFjmPtmPzrQHXPVjF\",\"14a5sytsEVKBVhGsVz2rJDkxf1cs1L89zvtFjmPtmPzrQHXPVjF\",\"14X1W4KJr9QyHuqu6myDBpAdd6ouQbPYL3B4rmJvJjd2GKkUdBj\",\"14cLFi9kcteykbXX4fHNkLPhp3pyS8LpPancCJ6QFoMzS9pQcqG\",\"13mRJKFBgWWe1k83MKmpiRinkb6GDcX1piwWoH7S8RA8MuMDE4b\",\"14gBAk2RW8jARJoNY39CvLJyXjDQLx4Uj7VdJM47ep3SbixsugY\",\"14i6nM1RbWbjQFg5NFbZS3aZJgpUGZUx5toarz6jZLPpNAb95Tq\",\"14i3sMETM5PNazzcCvRUCjH6c9juCtWB2Z6UW8VFTAy1dDLzLdc\",\"14i6nM1RbWbjQFg5NFbZS3aZJgpUGZUx5toarz6jZLPpNAb95Tq\",\"14i6nM1RbWbjQFg5NFbZS3aZJgpUGZUx5toarz6jZLPpNAb95Tq\",\"12xUoMKwf12ABjNx4VCvYcNkX79gW1kzz2JnBLxkFbjswRczRvM\",\"13XZMwqMhZnjCK7JddxYBxpYf9cCLqEZGp4wHHTNSPvwRJ1gjPs\",\"13zzVQKvYM7QBYYpcEdz46Eprjj1ai2BhRdYZhFZfV6KKDgtsjn\",\"12ymxmzj2PHBdPv8pJZreUfa6twLWwcS3Y3ZdnP8UuDgaeGmK7p\",\"14Vh42vnNws4wBStivM6gPevb7sNAbWMHqsWKb617TSxr7mReL4\",\"12ymxmzj2PHBdPv8pJZreUfa6twLWwcS3Y3ZdnP8UuDgaeGmK7p\",\"14eVPPhEPT3WwdRMqNEfbv6Pm6BADS8dCzT1auf5bKX74oTipbD\",\"1373AqVQ2ZoMnzC5eHmzuRfMkmeFumdarza2GcLxbA9SrkoN8LK\",\"13hFYvVmD2US31aVSKCkvkUoDf8uAtS8UUWnGDjvDoCewDafBXj\",\"14Y2o9cMKEhTJ87G19Sp4occBrQxVdE3mJM3xMiJEj1auLF3Qga\",\"13buBykFQf5VaQtv7mWj2PBY9Lq4i1DeXhg7C4Vbu3ppzqqNkTH\",\"13buBykFQf5VaQtv7mWj2PBY9Lq4i1DeXhg7C4Vbu3ppzqqNkTH\",\"13buBykFQf5VaQtv7mWj2PBY9Lq4i1DeXhg7C4Vbu3ppzqqNkTH\",\"13buBykFQf5VaQtv7mWj2PBY9Lq4i1DeXhg7C4Vbu3ppzqqNkTH\",\"14e35CChhsnuHJxjjzYAxsHKBKDgjUop4GuD8esB7gE2VDoyPXT\",\"13EEVvbnpmjgwmEUDnYBLbQxbbAj9kiYWTU853QYX3uNC4xw4Le\",\"13EEVvbnpmjgwmEUDnYBLbQxbbAj9kiYWTU853QYX3uNC4xw4Le\",\"13zCZhFapZHTgsDDba76Ts9yATNAhULH2Dm1df6AxbrMuZqySP5\",\"12z4nUiayZnbW46azcegBBB9yGkchFb1Zm7EPuh6eV1r2HT1NgC\",\"12z4nUiayZnbW46azcegBBB9yGkchFb1Zm7EPuh6eV1r2HT1NgC\",\"12z4nUiayZnbW46azcegBBB9yGkchFb1Zm7EPuh6eV1r2HT1NgC\",\"14cKr7Qs93gdyLguKXf6Pg2SdryopG7dWSgiC6JWKHozuRQjmK8\",\"13q8hu17nMuZTDoXBXCLiiG59qasZXvrbme9WnLhahW1VAkR3rN\",\"14Ak9NAUHN9SHdbTq5te988yStzRaCqSGtcnQ3N2d3vA1YsUzuK\",\"141yoNX5qmd313Rx1a1zvWD3T2PVUm6EdzZcFpssH3HJBF3ucvg\",\"13zjsrN7BAom45N7DXornx7htbMgJwa6azn4G6UcesgASrsTomv\",\"13zjsrN7BAom45N7DXornx7htbMgJwa6azn4G6UcesgASrsTomv\",\"13zjsrN7BAom45N7DXornx7htbMgJwa6azn4G6UcesgASrsTomv\",\"142MT8yuvepnVCwkVxgBPddotHcXKJXtw1yCXVhobawMv3w8L99\",\"14mhFy8dVhy7eCzyNQWgCQRk9miduSW4raZdbjr1iRquXGmLt24\",\"148sAphN7RmmiGEYXz1dghgZTLz8kUphBrToPUgWQqNZXWuHbJE\",\"148sAphN7RmmiGEYXz1dghgZTLz8kUphBrToPUgWQqNZXWuHbJE\",\"146ZSvFEnjARrnGEZSKavQ7YmvXoweKKk6ib4Az2e4rx37PscXY\",\"13E4Z24HzqqvaXFhXgLsK3zPxyMF88C1M246TFNHnAJqg6KCtnT\",\"14a5sytsEVKBVhGsVz2rJDkxf1cs1L89zvtFjmPtmPzrQHXPVjF\",\"14a5sytsEVKBVhGsVz2rJDkxf1cs1L89zvtFjmPtmPzrQHXPVjF\",\"14a5sytsEVKBVhGsVz2rJDkxf1cs1L89zvtFjmPtmPzrQHXPVjF\"],\"score\":{\"__ndarray__\":\"sAPnjCjtvT+xUGuad5zCPwAAAAAAANA/uECC4seYwz/XNO84RUfWPyL99nXgnME/AAAAAAAA0D8AAAAAAADQPwAAAAAAANA/AAAAAAAA0D8AAAAAAADQP1OWIY51cXs/AAAAAAAA0D/QRNjw9ErtPwAAAAAAANA/PzVeukkMwj86kst/SL+tP2HD0ytlGcI/AAAAAAAA0D9wXwfOGVHCPzC7Jw8LteA/AAAAAAAA0D8AAAAAAADQPwAAAAAAANA/AAAAAAAA0D8Ab4EExY/BP6MjufyH9Ls/AAAAAAAA0D8AAAAAAADQP4V80LNZ9cE/HqfoSC7/wT/6fmq8dJNYPwAAAAAAANA/AAAAAAAA0D8AAAAAAADQP6rx0k1iEMA/cF8HzhlRwj8AAAAAAADQPwAAAAAAANA/RpT2Bl+Y5D8AAAAAAADQPwAAAAAAANA/AAAAAAAA0D9B8WPMXUvqP+AtkKD4Mew/pHA9Ctej4D8AAAAAAADQP4nS3uALk8E/MzMzMzMzwz8AAAAAAADQPwAAAAAAANA/AAAAAAAA0D8gQfFjzF27PwAAAAAAANA/p3nHKTqSwz9HcvkP6be/PwAAAAAAANA/MlUwKqkTyD8Cmggbnl7pP7N78rBQa94/Ke0NvjCZ7D8730+Nl27KP/yp8dJNYoA/xEKtad5xwj9oke18PzWuPwAAAAAAANA/AAAAAAAA0D9IUPwYc9eiPwAAAAAAANA/eVioNc070j97FK5H4XpkPwAAAAAAANA/BFYOLbKd6T/4wmSqYFTCPzEIrBxaZMM/dk8eFmpNsz8AAAAAAADQP9JvXwfOGcE/AAAAAAAA0D9N845TdCSnP5huEoPAysk/2ht8YTJVwD8AAAAAAADQP6hXyjLEsdo/ZRniWBe3wT8AAAAAAADQP1vTvOMUHcE/XCBB8WPM5z+GONbFbTTkPwAAAAAAANA/nKIjufyHxD9g5dAi2/m+P6VOQBNhw8M/z2bV52or6D/XNO84RUfiPwAAAAAAANA/CD2bVZ+r4z9VwaikTkDDPwAAAAAAANA/hjjWxW00wD8AAAAAAADQPwAAAAAAANA/AAAAAAAA0D9fB84ZUdrtPwN4CyQofrw/AAAAAAAA0D8nMQisHFrQP5zEILByaME/L26jAbwFUj8AAAAAAADQP4cW2c73U8s/AAAAAAAA0D8AAAAAAADQPwAAAAAAANA/AAAAAAAA0D8wTKYKRiXFPyDSb18Hzu8/X5hMFYxK4D8AAAAAAADQPwAAAAAAANA/HThnRGlvwD8AAAAAAADQP+ELk6mCUbk/AAAAAAAA0D/kg57Nqs/jPwAAAAAAANA/8IXJVMGo7D+YbhKDwMrBPzPEsS5uo8E/AAAAAAAA0D8wuycPC7XsP0ymCkYldcI/nMQgsHJo7T9fmEwVjEruPw==\",\"dtype\":\"float64\",\"shape\":[134]},\"score_update_height\":[16449,16449,16449,16449,16449,16449,16449,16449,16449,16449,16449,16449,16449,16449,16449,16449,16449,16449,16449,16449,16449,16449,16449,16449,16449,16449,16449,16449,16449,16449,16449,16449,16449,16449,16449,16449,16449,16449,16449,16449,16449,16449,16449,16449,16449,16449,16449,16449,16449,16449,16449,16449,16449,16449,16449,16449,16449,16449,16449,16449,16449,16449,16449,16449,16449,16449,16449,16449,16449,16449,16449,16449,16449,16449,16449,16449,16449,16449,16449,16449,16449,16449,16449,16449,16449,16449,16449,16449,16449,16449,16449,16449,16449,16449,16449,16449,16449,16449,16449,16449,16449,16449,16449,16449,16449,16449,16449,16449,16449,16449,16449,16449,16449,16449,16449,16449,16449,16449,16449,16449,16449,16449,16449,16449,16449,16449,16449,16449,16449,16449,16449,16449,16449,16449],\"short_city\":[\"Austin\",\"Austin\",\"Austin\",\"Austin\",\"Austin\",\"Austin\",\"Austin\",\"Austin\",\"Austin\",\"Tracy\",\"Vinalhaven\",\"Austin\",\"Saratoga\",\"Austin\",\"SF\",\"SF\",\"Austin\",\"SF\",\"Oakland\",\"Austin\",\"SF\",\"Austin\",\"Austin\",\"Austin\",\"Georgetown\",\"Austin\",\"Austin\",\"Austin\",\"Austin\",\"Austin\",\"Austin\",\"Austin\",\"Austin\",\"Austin\",\"Austin\",\"Austin\",\"Austin\",\"Austin\",\"Austin\",\"Austin\",\"Austin\",\"Bentonville\",\"Round Rock\",\"Austin\",\"Austin\",\"Austin\",\"Austin\",\"Austin\",\"Austin\",\"Austin\",\"Bentonville\",\"Austin\",\"Austin\",\"Sunset Valley\",\"Austin\",\"Austin\",\"Austin\",\"Austin\",\"Austin\",\"Austin\",\"Austin\",\"Austin\",\"Austin\",\"Austin\",\"Austin\",\"Austin\",\"Austin\",\"Austin\",\"Austin\",\"Austin\",\"Austin\",\"Austin\",\"Austin\",\"Austin\",\"Austin\",\"Austin\",\"Austin\",\"Austin\",\"San Antonio\",\"Austin\",\"Austin\",\"Austin\",\"Austin\",\"SF\",\"SF\",\"Novato\",\"SF\",\"Berkeley\",\"Berkeley\",\"San Rafael\",\"SF\",\"Austin\",\"SF\",\"Austin\",\"SF\",\"Austin\",\"Austin\",\"SF\",\"Cupertino\",\"Austin\",\"Napa\",\"Foster City\",\"Napa\",\"SF\",\"SF\",\"Davis\",\"SF\",\"Novato\",\"SF\",\"Novato\",\"SF\",\"SF\",\"Sacramento\",\"Sacramento\",\"Cupertino\",\"SF\",\"SF\",\"SF\",\"Hingham\",\"East Palo Alto\",\"Cupertino\",\"San Jose\",\"San Jose\",\"San Jose\",\"SF\",\"SF\",\"SF\",\"SF\",\"SF\",\"Berkeley\",\"SF\",\"Berkeley\",\"Berkeley\",\"Berkeley\"],\"short_country\":[\"US\",\"US\",\"US\",\"US\",\"US\",\"US\",\"US\",\"US\",\"US\",\"US\",\"US\",\"US\",\"US\",\"US\",\"US\",\"US\",\"US\",\"US\",\"US\",\"US\",\"US\",\"US\",\"US\",\"US\",\"US\",\"US\",\"US\",\"US\",\"US\",\"US\",\"US\",\"US\",\"US\",\"US\",\"US\",\"US\",\"US\",\"US\",\"US\",\"US\",\"US\",\"US\",\"US\",\"US\",\"US\",\"US\",\"US\",\"US\",\"US\",\"US\",\"US\",\"US\",\"US\",\"US\",\"US\",\"US\",\"US\",\"US\",\"US\",\"US\",\"US\",\"US\",\"US\",\"US\",\"US\",\"US\",\"US\",\"US\",\"US\",\"US\",\"US\",\"US\",\"US\",\"US\",\"US\",\"US\",\"US\",\"US\",\"US\",\"US\",\"US\",\"US\",\"US\",\"US\",\"US\",\"US\",\"US\",\"US\",\"US\",\"US\",\"US\",\"US\",\"US\",\"US\",\"US\",\"US\",\"US\",\"US\",\"US\",\"US\",\"US\",\"US\",\"US\",\"US\",\"US\",\"US\",\"US\",\"US\",\"US\",\"US\",\"US\",\"US\",\"US\",\"US\",\"US\",\"US\",\"US\",\"US\",\"US\",\"US\",\"US\",\"US\",\"US\",\"US\",\"US\",\"US\",\"US\",\"US\",\"US\",\"US\",\"US\",\"US\",\"US\",\"US\"],\"short_state\":[\"TX\",\"TX\",\"TX\",\"TX\",\"TX\",\"TX\",\"TX\",\"TX\",\"TX\",\"CA\",\"ME\",\"TX\",\"CA\",\"TX\",\"CA\",\"CA\",\"TX\",\"CA\",\"CA\",\"TX\",\"CA\",\"TX\",\"TX\",\"TX\",\"TX\",\"TX\",\"TX\",\"TX\",\"TX\",\"TX\",\"TX\",\"TX\",\"TX\",\"TX\",\"TX\",\"TX\",\"TX\",\"TX\",\"TX\",\"TX\",\"TX\",\"AR\",\"TX\",\"TX\",\"TX\",\"TX\",\"TX\",\"TX\",\"TX\",\"TX\",\"AR\",\"TX\",\"TX\",\"TX\",\"TX\",\"TX\",\"TX\",\"TX\",\"TX\",\"TX\",\"TX\",\"TX\",\"TX\",\"TX\",\"TX\",\"TX\",\"TX\",\"TX\",\"TX\",\"TX\",\"TX\",\"TX\",\"TX\",\"TX\",\"TX\",\"TX\",\"TX\",\"TX\",\"TX\",\"TX\",\"TX\",\"TX\",\"TX\",\"CA\",\"CA\",\"CA\",\"CA\",\"CA\",\"CA\",\"CA\",\"CA\",\"TX\",\"CA\",\"TX\",\"CA\",\"TX\",\"TX\",\"CA\",\"CA\",\"TX\",\"CA\",\"CA\",\"CA\",\"CA\",\"CA\",\"CA\",\"CA\",\"CA\",\"CA\",\"CA\",\"CA\",\"CA\",\"CA\",\"CA\",\"CA\",\"CA\",\"CA\",\"CA\",\"MA\",\"CA\",\"CA\",\"CA\",\"CA\",\"CA\",\"CA\",\"CA\",\"CA\",\"CA\",\"CA\",\"CA\",\"CA\",\"CA\",\"CA\",\"CA\"],\"short_street\":[\"Toomey Rd\",\"E 8th St\",\"Bennedict Ln\",\"Richmond Ave\",\"W 2nd St\",\"Chicon St\",\"Mesa Verde Dr\",\"Emmett Pkwy\",\"Larry Ln\",\"Remington Way\",\"Unknown\",\"W 2nd St\",\"De Havilland Ct\",\"Manchaca Rd\",\"Noriega St\",\"Lincoln Way\",\"Lorrain St\",\"Clayton St\",\"Ocean View Dr\",\"E 4th St\",\"Bryant St\",\"Norwalk Ln\",\"Wells Branch Pkwy\",\"Patricia Ct\",\"Winecup Way\",\"Rainey St\",\"Velasquez Dr\",\"Lakecliff Hills Ln\",\"Belfin Dr\",\"W 15th St\",\"W 5th St\",\"Nueces St\",\"Unnamed Road\",\"Betty Cook Dr\",\"Lowell Ln N\",\"Shoalwood Ave\",\"Forest Trail\",\"Yandall Dr\",\"Crystal Water Dr\",\"S Lamar Blvd\",\"Bennett Ave\",\"SW Boulder St\",\"Manjack Cay Dr\",\"Manchaca Rd\",\"Manchaca Rd\",\"Congress Ave\",\"Sales St\",\"W 6th St\",\"Holly St\",\"Manana St\",\"SW Boulder St\",\"Williams Ridge Way\",\"Durwood St\",\"Pillow Rd\",\"W Milton St\",\"Guadalupe St\",\"E Riverside Dr\",\"Unknown\",\"S Lamar Blvd\",\"W 4th St\",\"S Lamar Blvd\",\"Congress Ave\",\"Congress Ave\",\"E 2nd St\",\"Congress Ave\",\"Woodmont Ave\",\"S 1st St\",\"Congress Ave\",\"S Congress Ave\",\"Congress Ave\",\"Congress Ave\",\"Davis Ln\",\"E 6th St\",\"E 6th St\",\"W Milton St\",\"Graywood Cove\",\"Lawton Ave\",\"Maxwell Ln\",\"Spring Time St\",\"W 5th St\",\"S Lamar Blvd\",\"E 8th St\",\"W 35th St\",\"Sacramento St\",\"Stanyan St\",\"Malobar Dr\",\"King St\",\"Acton St\",\"Ashby Ave\",\"Las Colindas Rd\",\"Mission St\",\"Nueces St\",\"Gough St\",\"Congress Ave\",\"Filbert St\",\"E Riverside Dr\",\"Congress Ave\",\"Division St\",\"Colby Ave\",\"Rainey St\",\"Tade Ct\",\"Widgeon St\",\"Agile Street\",\"Octavia St\",\"Haight St\",\"Quail St\",\"Burnett Ave\",\"Andale Ave\",\"Federal St\",\"Andale Ave\",\"Mission St\",\"3rd St\",\"11th St\",\"O St\",\"Bret Ave\",\"Laurel St\",\"Collins St\",\"Manzanita Ave\",\"Thaxter St\",\"E Okeefe St\",\"Pineville Ave\",\"Rainbow Dr\",\"Unknown\",\"Arlington Ln\",\"Montgomery St\",\"Capistrano Ave\",\"Octavia St\",\"20th St\",\"Collingwood St\",\"Cornell Ave\",\"Harrison St\",\"Ashby Ave\",\"Ashby Ave\",\"Carrison St\"]},\"selected\":{\"id\":\"1156\",\"type\":\"Selection\"},\"selection_policy\":{\"id\":\"1155\",\"type\":\"UnionRenderers\"}},\"id\":\"1100\",\"type\":\"ColumnDataSource\"},{\"attributes\":{},\"id\":\"1113\",\"type\":\"CategoricalTicker\"},{\"attributes\":{\"callback\":null,\"tooltips\":[[\"name\",\"@name\"],[\"score\",\"@score\"]]},\"id\":\"1139\",\"type\":\"HoverTool\"},{\"attributes\":{},\"id\":\"1153\",\"type\":\"BasicTickFormatter\"},{\"attributes\":{},\"id\":\"1124\",\"type\":\"SaveTool\"},{\"attributes\":{},\"id\":\"1110\",\"type\":\"LinearScale\"},{\"attributes\":{\"overlay\":{\"id\":\"1154\",\"type\":\"BoxAnnotation\"}},\"id\":\"1123\",\"type\":\"BoxZoomTool\"},{\"attributes\":{},\"id\":\"1122\",\"type\":\"WheelZoomTool\"},{\"attributes\":{},\"id\":\"1117\",\"type\":\"BasicTicker\"},{\"attributes\":{\"fill_color\":{\"value\":\"#1f77b4\"},\"line_color\":{\"value\":\"#1f77b4\"},\"top\":{\"field\":\"score\"},\"width\":{\"value\":0.8},\"x\":{\"field\":\"name\"}},\"id\":\"1135\",\"type\":\"VBar\"}],\"root_ids\":[\"1101\"]},\"title\":\"Bokeh Application\",\"version\":\"1.3.4\"}};\n",
       "  var render_items = [{\"docid\":\"cd108725-c08a-4c7f-a758-b6aed4708dbc\",\"roots\":{\"1101\":\"f931998e-1988-4cc5-bdea-804a4b203bea\"}}];\n",
       "  root.Bokeh.embed.embed_items_notebook(docs_json, render_items);\n",
       "\n",
       "  }\n",
       "  if (root.Bokeh !== undefined) {\n",
       "    embed_document(root);\n",
       "  } else {\n",
       "    var attempts = 0;\n",
       "    var timer = setInterval(function(root) {\n",
       "      if (root.Bokeh !== undefined) {\n",
       "        embed_document(root);\n",
       "        clearInterval(timer);\n",
       "      }\n",
       "      attempts++;\n",
       "      if (attempts > 100) {\n",
       "        console.log(\"Bokeh: ERROR: Unable to run BokehJS code because BokehJS library is missing\");\n",
       "        clearInterval(timer);\n",
       "      }\n",
       "    }, 10, root)\n",
       "  }\n",
       "})(window);"
      ],
      "application/vnd.bokehjs_exec.v0+json": ""
     },
     "metadata": {
      "application/vnd.bokehjs_exec.v0+json": {
       "id": "1101"
      }
     },
     "output_type": "display_data"
    }
   ],
   "source": [
    "def plot_hotspot_stats(df):\n",
    "    source = ColumnDataSource(df)\n",
    "    p = figure(x_range=df['name'], y_range=[0,1], title=\"Hotspot Scores\")\n",
    "\n",
    "    p.vbar(x='name', top='score', width=0.8, source=source)\n",
    "    hover = HoverTool(tooltips=[('name', '@name'), ('score', '@score')])\n",
    "    p.width = 900\n",
    "    p.add_tools(hover)\n",
    "    p.xaxis.axis_label = \"Name\"\n",
    "    p.yaxis.axis_label = \"Score\"\n",
    "    p.xaxis.major_label_text_font_size = \"4pt\"\n",
    "    p.xaxis.major_label_orientation = math.pi/4\n",
    "\n",
    "    show(p)\n",
    "plot_hotspot_stats(hdf)"
   ]
  },
  {
   "cell_type": "markdown",
   "metadata": {},
   "source": [
    "### Account stats"
   ]
  },
  {
   "cell_type": "code",
   "execution_count": 8,
   "metadata": {
    "code_folding": [
     0
    ]
   },
   "outputs": [
    {
     "name": "stdout",
     "output_type": "stream",
     "text": [
      "Top 10 account balances:\n",
      "+----+-----------------------------------------------------+-----------+\n",
      "|    | address                                             |   balance |\n",
      "|----+-----------------------------------------------------+-----------|\n",
      "| 42 | 13jL4pTLq4JQBwDoH1ZBX3VPchmeTZxQSGi4cnyXXuzPPoKxcd5 |   64311.2 |\n",
      "| 69 | 1398hLeHESZHE5jVtaLAV5fdg2vrUeZEs2B92t7TzeQTtugr8dL |   45156.7 |\n",
      "| 97 | 14a5sytsEVKBVhGsVz2rJDkxf1cs1L89zvtFjmPtmPzrQHXPVjF |   37926   |\n",
      "| 82 | 14GWyFj9FjLHzoN3aX7Tq7PL6fEg4dfWPY8CrK8b9S5ZrcKDz6S |   21374.3 |\n",
      "| 85 | 12yyntxFfPhqXDKuEvmAWABNTRnXtYmcgS33WN4tk5YtyaBLDXo |   21347.8 |\n",
      "| 49 | 13o9KUMcmEdhtjXRaJ5AANHLZWBoGcTmF4MFw3MjQbubjR57jXW |   19091.6 |\n",
      "| 81 | 12z4nUiayZnbW46azcegBBB9yGkchFb1Zm7EPuh6eV1r2HT1NgC |   12842.8 |\n",
      "| 75 | 14i6nM1RbWbjQFg5NFbZS3aZJgpUGZUx5toarz6jZLPpNAb95Tq |   12548.3 |\n",
      "| 89 | 14UgUhAPq53iR8vfde6sU4vLPWRe6kZ3ioV7xaVb8hr3oafaok6 |   12213.9 |\n",
      "| 78 | 135bB6B7gGrsdPNcFwvcn12KPjTktSNZvmVbvSBKubCtEgxkpPJ |   11861.3 |\n",
      "+----+-----------------------------------------------------+-----------+\n"
     ]
    }
   ],
   "source": [
    "def account_stats():\n",
    "    accounts = get_accounts(API)\n",
    "    df = pd.DataFrame(accounts)\n",
    "    df['balance'] = df.apply(lambda row: row.balance/100000000, axis=1)\n",
    "    print(f'Top {TOP} account balances:')\n",
    "    print(tabulate(df.sort_values('balance', ascending=False)[['address', 'balance']].head(TOP),\n",
    "                   headers='keys', tablefmt='psql'))\n",
    "    return df\n",
    "adf = account_stats()"
   ]
  },
  {
   "cell_type": "markdown",
   "metadata": {},
   "source": [
    "### Challenge Stats"
   ]
  },
  {
   "cell_type": "code",
   "execution_count": 9,
   "metadata": {
    "code_folding": [
     0
    ]
   },
   "outputs": [
    {
     "name": "stdout",
     "output_type": "stream",
     "text": [
      "Total Successful challenges past 100 challenges: 10\n",
      "Entirely dud challenges since past 100 challenges: 27\n"
     ]
    }
   ],
   "source": [
    "def challenge_stats():\n",
    "    challenges = get_challenges(API, NUM_CHALLENGES)\n",
    "    res = accumulate_results(challenges)\n",
    "    df = pd.DataFrame(res)\n",
    "\n",
    "    print(f\"Total Successful challenges past {NUM_CHALLENGES} challenges: {sum(df['success'] == 1)}\")\n",
    "    print(f\"Entirely dud challenges since past {NUM_CHALLENGES} challenges: {sum(df['dud'] == 1)}\")\n",
    "    return df\n",
    "cdf = challenge_stats()"
   ]
  },
  {
   "cell_type": "code",
   "execution_count": 10,
   "metadata": {
    "code_folding": [
     0
    ]
   },
   "outputs": [
    {
     "data": {
      "text/html": [
       "\n",
       "\n",
       "\n",
       "\n",
       "\n",
       "\n",
       "  <div class=\"bk-root\" id=\"771fe2d2-05e6-43a0-b235-b1b4222eea9e\" data-root-id=\"1206\"></div>\n"
      ]
     },
     "metadata": {},
     "output_type": "display_data"
    },
    {
     "data": {
      "application/javascript": [
       "(function(root) {\n",
       "  function embed_document(root) {\n",
       "    \n",
       "  var docs_json = {\"00ca375f-0102-4881-a197-e1f3c74da625\":{\"roots\":{\"references\":[{\"attributes\":{\"below\":[{\"id\":\"1217\",\"type\":\"LinearAxis\"}],\"center\":[{\"id\":\"1221\",\"type\":\"Grid\"},{\"id\":\"1226\",\"type\":\"Grid\"}],\"left\":[{\"id\":\"1222\",\"type\":\"LinearAxis\"}],\"renderers\":[{\"id\":\"1243\",\"type\":\"GlyphRenderer\"}],\"title\":{\"id\":\"1207\",\"type\":\"Title\"},\"toolbar\":{\"id\":\"1233\",\"type\":\"Toolbar\"},\"x_range\":{\"id\":\"1209\",\"type\":\"DataRange1d\"},\"x_scale\":{\"id\":\"1213\",\"type\":\"LinearScale\"},\"y_range\":{\"id\":\"1211\",\"type\":\"DataRange1d\"},\"y_scale\":{\"id\":\"1215\",\"type\":\"LinearScale\"}},\"id\":\"1206\",\"subtype\":\"Figure\",\"type\":\"Plot\"},{\"attributes\":{},\"id\":\"1269\",\"type\":\"UnionRenderers\"},{\"attributes\":{},\"id\":\"1218\",\"type\":\"BasicTicker\"},{\"attributes\":{\"overlay\":{\"id\":\"1268\",\"type\":\"BoxAnnotation\"}},\"id\":\"1229\",\"type\":\"BoxZoomTool\"},{\"attributes\":{\"callback\":null,\"tooltips\":[[\"id\",\"@id\"],[\"path_length\",\"@path_length\"]]},\"id\":\"1245\",\"type\":\"HoverTool\"},{\"attributes\":{\"callback\":null,\"data\":{\"dud\":[0,0,0,0,1,0,0,1,0,0,1,0,0,0,0,0,0,1,0,0,0,0,0,0,1,0,0,0,0,0,0,0,0,1,0,0,0,0,0,0,0,1,0,0,0,1,0,1,1,1,0,1,0,0,0,0,0,0,1,0,0,0,0,0,0,1,0,0,0,0,1,0,1,1,0,0,0,1,1,1,0,0,0,0,1,1,0,1,1,1,0,1,0,0,0,0,1,0,0,0],\"id\":[16865,16864,16863,16862,16861,16860,16859,16858,16857,16856,16855,16854,16853,16852,16851,16850,16849,16848,16847,16846,16845,16844,16843,16842,16841,16840,16839,16838,16837,16836,16835,16834,16833,16832,16831,16830,16829,16828,16827,16826,16825,16824,16823,16822,16821,16820,16819,16818,16817,16816,16815,16814,16813,16812,16811,16810,16809,16808,16807,16806,16805,16804,16803,16802,16801,16800,16799,16798,16797,16796,16795,16794,16793,16792,16791,16790,16789,16788,16787,16786,16785,16784,16783,16782,16781,16780,16779,16778,16777,16776,16775,16774,16773,16772,16771,16770,16769,16768,16767,16766],\"index\":[0,1,2,3,4,5,6,7,8,9,10,11,12,13,14,15,16,17,18,19,20,21,22,23,24,25,26,27,28,29,30,31,32,33,34,35,36,37,38,39,40,41,42,43,44,45,46,47,48,49,50,51,52,53,54,55,56,57,58,59,60,61,62,63,64,65,66,67,68,69,70,71,72,73,74,75,76,77,78,79,80,81,82,83,84,85,86,87,88,89,90,91,92,93,94,95,96,97,98,99],\"num_failures\":[1,1,0,0,0,1,0,0,1,1,0,0,0,1,1,1,0,0,1,1,0,1,1,1,0,1,1,0,1,0,1,1,1,0,1,1,1,1,1,1,1,0,1,1,1,0,1,0,0,0,1,0,1,1,1,1,1,1,0,1,1,1,1,1,1,0,1,1,0,1,0,1,0,0,1,1,0,0,0,0,1,1,1,1,0,0,1,0,0,0,0,0,1,1,1,0,0,1,1,1],\"num_successes\":[2,2,3,3,0,1,3,0,1,1,0,3,3,1,2,1,3,0,1,1,3,2,1,1,0,2,3,3,3,2,1,2,2,0,2,2,2,1,2,1,1,0,1,1,1,0,1,0,0,0,1,0,1,3,1,1,1,2,0,3,2,1,1,1,1,0,1,1,3,2,0,1,0,0,2,2,2,0,0,0,1,1,1,1,0,0,1,0,0,0,3,0,2,1,1,3,0,1,3,1],\"num_untested\":[0,4,0,0,0,1,2,0,3,3,0,0,0,3,2,4,0,0,3,3,0,0,3,1,0,3,1,0,1,3,1,2,2,0,4,2,2,4,0,3,10,0,10,3,2,0,1,0,0,0,13,0,8,9,8,13,8,7,0,5,0,9,8,3,8,0,10,9,0,0,0,13,0,0,0,0,1,0,0,0,6,8,6,3,0,0,8,0,0,0,0,0,0,8,1,0,0,9,0,9],\"path_length\":[3,7,3,3,4,3,5,3,5,5,3,3,3,5,5,6,3,3,5,5,3,3,5,3,3,6,5,3,5,5,3,5,5,5,7,5,5,6,3,5,12,4,12,5,4,3,3,4,4,3,15,4,10,13,10,15,10,10,3,9,3,11,10,5,10,5,12,11,3,3,11,15,13,3,3,3,3,13,8,13,8,10,8,5,3,10,10,15,15,11,3,4,3,10,3,3,3,11,4,11],\"success\":[0,0,1,1,0,0,0,0,0,0,0,1,1,0,0,0,1,0,0,0,1,0,0,0,0,0,0,1,0,0,0,0,0,0,0,0,0,0,0,0,0,0,0,0,0,0,0,0,0,0,0,0,0,0,0,0,0,0,0,0,0,0,0,0,0,0,0,0,1,0,0,0,0,0,0,0,0,0,0,0,0,0,0,0,0,0,0,0,0,0,1,0,0,0,0,1,0,0,0,0]},\"selected\":{\"id\":\"1270\",\"type\":\"Selection\"},\"selection_policy\":{\"id\":\"1269\",\"type\":\"UnionRenderers\"}},\"id\":\"1205\",\"type\":\"ColumnDataSource\"},{\"attributes\":{},\"id\":\"1270\",\"type\":\"Selection\"},{\"attributes\":{\"callback\":null},\"id\":\"1211\",\"type\":\"DataRange1d\"},{\"attributes\":{},\"id\":\"1231\",\"type\":\"ResetTool\"},{\"attributes\":{},\"id\":\"1227\",\"type\":\"PanTool\"},{\"attributes\":{},\"id\":\"1223\",\"type\":\"BasicTicker\"},{\"attributes\":{},\"id\":\"1228\",\"type\":\"WheelZoomTool\"},{\"attributes\":{},\"id\":\"1265\",\"type\":\"BasicTickFormatter\"},{\"attributes\":{},\"id\":\"1232\",\"type\":\"HelpTool\"},{\"attributes\":{\"data_source\":{\"id\":\"1205\",\"type\":\"ColumnDataSource\"},\"glyph\":{\"id\":\"1241\",\"type\":\"VBar\"},\"hover_glyph\":null,\"muted_glyph\":null,\"nonselection_glyph\":{\"id\":\"1242\",\"type\":\"VBar\"},\"selection_glyph\":null,\"view\":{\"id\":\"1244\",\"type\":\"CDSView\"}},\"id\":\"1243\",\"type\":\"GlyphRenderer\"},{\"attributes\":{},\"id\":\"1213\",\"type\":\"LinearScale\"},{\"attributes\":{\"fill_color\":{\"value\":\"#1f77b4\"},\"line_color\":{\"value\":\"#1f77b4\"},\"top\":{\"field\":\"path_length\"},\"width\":{\"value\":0.8},\"x\":{\"field\":\"id\"}},\"id\":\"1241\",\"type\":\"VBar\"},{\"attributes\":{\"axis_label\":\"PathLength\",\"formatter\":{\"id\":\"1267\",\"type\":\"BasicTickFormatter\"},\"ticker\":{\"id\":\"1223\",\"type\":\"BasicTicker\"}},\"id\":\"1222\",\"type\":\"LinearAxis\"},{\"attributes\":{\"callback\":null},\"id\":\"1209\",\"type\":\"DataRange1d\"},{\"attributes\":{\"ticker\":{\"id\":\"1218\",\"type\":\"BasicTicker\"}},\"id\":\"1221\",\"type\":\"Grid\"},{\"attributes\":{\"bottom_units\":\"screen\",\"fill_alpha\":{\"value\":0.5},\"fill_color\":{\"value\":\"lightgrey\"},\"left_units\":\"screen\",\"level\":\"overlay\",\"line_alpha\":{\"value\":1.0},\"line_color\":{\"value\":\"black\"},\"line_dash\":[4,4],\"line_width\":{\"value\":2},\"render_mode\":\"css\",\"right_units\":\"screen\",\"top_units\":\"screen\"},\"id\":\"1268\",\"type\":\"BoxAnnotation\"},{\"attributes\":{},\"id\":\"1267\",\"type\":\"BasicTickFormatter\"},{\"attributes\":{\"dimension\":1,\"ticker\":{\"id\":\"1223\",\"type\":\"BasicTicker\"}},\"id\":\"1226\",\"type\":\"Grid\"},{\"attributes\":{\"source\":{\"id\":\"1205\",\"type\":\"ColumnDataSource\"}},\"id\":\"1244\",\"type\":\"CDSView\"},{\"attributes\":{\"text\":\"Challenge Paths\"},\"id\":\"1207\",\"type\":\"Title\"},{\"attributes\":{\"active_drag\":\"auto\",\"active_inspect\":\"auto\",\"active_multi\":null,\"active_scroll\":\"auto\",\"active_tap\":\"auto\",\"tools\":[{\"id\":\"1227\",\"type\":\"PanTool\"},{\"id\":\"1228\",\"type\":\"WheelZoomTool\"},{\"id\":\"1229\",\"type\":\"BoxZoomTool\"},{\"id\":\"1230\",\"type\":\"SaveTool\"},{\"id\":\"1231\",\"type\":\"ResetTool\"},{\"id\":\"1232\",\"type\":\"HelpTool\"},{\"id\":\"1245\",\"type\":\"HoverTool\"}]},\"id\":\"1233\",\"type\":\"Toolbar\"},{\"attributes\":{},\"id\":\"1215\",\"type\":\"LinearScale\"},{\"attributes\":{\"fill_alpha\":{\"value\":0.1},\"fill_color\":{\"value\":\"#1f77b4\"},\"line_alpha\":{\"value\":0.1},\"line_color\":{\"value\":\"#1f77b4\"},\"top\":{\"field\":\"path_length\"},\"width\":{\"value\":0.8},\"x\":{\"field\":\"id\"}},\"id\":\"1242\",\"type\":\"VBar\"},{\"attributes\":{\"axis_label\":\"ChallengeId\",\"formatter\":{\"id\":\"1265\",\"type\":\"BasicTickFormatter\"},\"ticker\":{\"id\":\"1218\",\"type\":\"BasicTicker\"}},\"id\":\"1217\",\"type\":\"LinearAxis\"},{\"attributes\":{},\"id\":\"1230\",\"type\":\"SaveTool\"}],\"root_ids\":[\"1206\"]},\"title\":\"Bokeh Application\",\"version\":\"1.3.4\"}};\n",
       "  var render_items = [{\"docid\":\"00ca375f-0102-4881-a197-e1f3c74da625\",\"roots\":{\"1206\":\"771fe2d2-05e6-43a0-b235-b1b4222eea9e\"}}];\n",
       "  root.Bokeh.embed.embed_items_notebook(docs_json, render_items);\n",
       "\n",
       "  }\n",
       "  if (root.Bokeh !== undefined) {\n",
       "    embed_document(root);\n",
       "  } else {\n",
       "    var attempts = 0;\n",
       "    var timer = setInterval(function(root) {\n",
       "      if (root.Bokeh !== undefined) {\n",
       "        embed_document(root);\n",
       "        clearInterval(timer);\n",
       "      }\n",
       "      attempts++;\n",
       "      if (attempts > 100) {\n",
       "        console.log(\"Bokeh: ERROR: Unable to run BokehJS code because BokehJS library is missing\");\n",
       "        clearInterval(timer);\n",
       "      }\n",
       "    }, 10, root)\n",
       "  }\n",
       "})(window);"
      ],
      "application/vnd.bokehjs_exec.v0+json": ""
     },
     "metadata": {
      "application/vnd.bokehjs_exec.v0+json": {
       "id": "1206"
      }
     },
     "output_type": "display_data"
    }
   ],
   "source": [
    "def plot_challenge_stats(df):\n",
    "    source = ColumnDataSource(df)\n",
    "    p = figure(title='Challenge Paths')\n",
    "\n",
    "    p.vbar(x='id', top='path_length', width=0.8, source=source)\n",
    "    hover = HoverTool(tooltips=[('id', '@id'), ('path_length', '@path_length')])\n",
    "    p.add_tools(hover)\n",
    "    p.yaxis.axis_label = \"PathLength\"\n",
    "    p.xaxis.axis_label = \"ChallengeId\"\n",
    "\n",
    "    show(p)\n",
    "plot_challenge_stats(cdf)"
   ]
  },
  {
   "cell_type": "markdown",
   "metadata": {},
   "source": [
    "### Hotspot Reward Stats"
   ]
  },
  {
   "cell_type": "code",
   "execution_count": 11,
   "metadata": {
    "code_folding": [
     0
    ]
   },
   "outputs": [
    {
     "name": "stdout",
     "output_type": "stream",
     "text": [
      "Top 10 rewarded hotspots:\n",
      "+-----+-------------------------+----------+-----------------------------------------------------+\n",
      "|     | name                    |   amount | account                                             |\n",
      "|-----+-------------------------+----------+-----------------------------------------------------|\n",
      "| 109 | shambolic-rusty-cyborg  | 18622.9  | 13jL4pTLq4JQBwDoH1ZBX3VPchmeTZxQSGi4cnyXXuzPPoKxcd5 |\n",
      "|  55 | mean-alabaster-piranha  | 12014.8  | 14a5sytsEVKBVhGsVz2rJDkxf1cs1L89zvtFjmPtmPzrQHXPVjF |\n",
      "|   8 | mythical-tin-hawk       | 11216    | 14a5sytsEVKBVhGsVz2rJDkxf1cs1L89zvtFjmPtmPzrQHXPVjF |\n",
      "|  94 | clean-nylon-okapi       | 10950.1  | 13jL4pTLq4JQBwDoH1ZBX3VPchmeTZxQSGi4cnyXXuzPPoKxcd5 |\n",
      "|  26 | fit-iron-monkey         |  8258.26 | 14a5sytsEVKBVhGsVz2rJDkxf1cs1L89zvtFjmPtmPzrQHXPVjF |\n",
      "|  47 | cuddly-sapphire-narwhal |  7758.87 | 14i6nM1RbWbjQFg5NFbZS3aZJgpUGZUx5toarz6jZLPpNAb95Tq |\n",
      "| 114 | teeny-cider-troll       |  7491.28 | 13o9KUMcmEdhtjXRaJ5AANHLZWBoGcTmF4MFw3MjQbubjR57jXW |\n",
      "| 122 | bubbly-mandarin-panther |  7011.82 | 13jL4pTLq4JQBwDoH1ZBX3VPchmeTZxQSGi4cnyXXuzPPoKxcd5 |\n",
      "|  75 | magic-carob-quail       |  6739.23 | 12z4nUiayZnbW46azcegBBB9yGkchFb1Zm7EPuh6eV1r2HT1NgC |\n",
      "| 100 | delightful-stone-beetle |  6719.13 | 14eVPPhEPT3WwdRMqNEfbv6Pm6BADS8dCzT1auf5bKX74oTipbD |\n",
      "+-----+-------------------------+----------+-----------------------------------------------------+\n"
     ]
    }
   ],
   "source": [
    "def hotspot_reward_stats():\n",
    "    rewards = get_rewards(API, hdf['address'].values)\n",
    "    rdf = pd.DataFrame(rewards)[['gateway', 'amount', 'account']]\n",
    "    g1 = rdf.groupby(['gateway', 'account']).sum().reset_index()\n",
    "    g1['name'] = g1.apply(lambda row: '-'.join(animalhash(row.gateway).lower().split()), axis=1)\n",
    "    g1['amount'] = g1.apply(lambda row: row.amount/100000000, axis=1)\n",
    "    print(f'Top {TOP} rewarded hotspots:')\n",
    "    print(tabulate(g1.sort_values('amount', ascending=False)[['name', 'amount', 'account']].head(TOP),\n",
    "                   headers='keys', tablefmt='psql'))\n",
    "    return rdf, g1\n",
    "rdf, g = hotspot_reward_stats()"
   ]
  },
  {
   "cell_type": "code",
   "execution_count": 12,
   "metadata": {
    "code_folding": [
     0
    ]
   },
   "outputs": [
    {
     "data": {
      "text/html": [
       "\n",
       "\n",
       "\n",
       "\n",
       "\n",
       "\n",
       "  <div class=\"bk-root\" id=\"53029d64-ebf0-4388-8efc-7ae4941ad7ee\" data-root-id=\"1320\"></div>\n"
      ]
     },
     "metadata": {},
     "output_type": "display_data"
    },
    {
     "data": {
      "application/javascript": [
       "(function(root) {\n",
       "  function embed_document(root) {\n",
       "    \n",
       "  var docs_json = {\"a325a398-ae71-4453-bc35-e313db01a469\":{\"roots\":{\"references\":[{\"attributes\":{\"below\":[{\"id\":\"1331\",\"type\":\"CategoricalAxis\"}],\"center\":[{\"id\":\"1334\",\"type\":\"Grid\"},{\"id\":\"1339\",\"type\":\"Grid\"}],\"left\":[{\"id\":\"1335\",\"type\":\"LinearAxis\"}],\"renderers\":[{\"id\":\"1356\",\"type\":\"GlyphRenderer\"}],\"title\":{\"id\":\"1321\",\"type\":\"Title\"},\"toolbar\":{\"id\":\"1346\",\"type\":\"Toolbar\"},\"width\":900,\"x_range\":{\"id\":\"1323\",\"type\":\"FactorRange\"},\"x_scale\":{\"id\":\"1327\",\"type\":\"CategoricalScale\"},\"y_range\":{\"id\":\"1325\",\"type\":\"DataRange1d\"},\"y_scale\":{\"id\":\"1329\",\"type\":\"LinearScale\"}},\"id\":\"1320\",\"subtype\":\"Figure\",\"type\":\"Plot\"},{\"attributes\":{\"ticker\":{\"id\":\"1332\",\"type\":\"CategoricalTicker\"}},\"id\":\"1334\",\"type\":\"Grid\"},{\"attributes\":{\"active_drag\":\"auto\",\"active_inspect\":\"auto\",\"active_multi\":null,\"active_scroll\":\"auto\",\"active_tap\":\"auto\",\"tools\":[{\"id\":\"1340\",\"type\":\"PanTool\"},{\"id\":\"1341\",\"type\":\"WheelZoomTool\"},{\"id\":\"1342\",\"type\":\"BoxZoomTool\"},{\"id\":\"1343\",\"type\":\"SaveTool\"},{\"id\":\"1344\",\"type\":\"ResetTool\"},{\"id\":\"1345\",\"type\":\"HelpTool\"},{\"id\":\"1358\",\"type\":\"HoverTool\"}]},\"id\":\"1346\",\"type\":\"Toolbar\"},{\"attributes\":{\"fill_color\":{\"value\":\"#1f77b4\"},\"line_color\":{\"value\":\"#1f77b4\"},\"top\":{\"field\":\"amount\"},\"width\":{\"value\":0.8},\"x\":{\"field\":\"name\"}},\"id\":\"1354\",\"type\":\"VBar\"},{\"attributes\":{},\"id\":\"1340\",\"type\":\"PanTool\"},{\"attributes\":{},\"id\":\"1332\",\"type\":\"CategoricalTicker\"},{\"attributes\":{\"data_source\":{\"id\":\"1319\",\"type\":\"ColumnDataSource\"},\"glyph\":{\"id\":\"1354\",\"type\":\"VBar\"},\"hover_glyph\":null,\"muted_glyph\":null,\"nonselection_glyph\":{\"id\":\"1355\",\"type\":\"VBar\"},\"selection_glyph\":null,\"view\":{\"id\":\"1357\",\"type\":\"CDSView\"}},\"id\":\"1356\",\"type\":\"GlyphRenderer\"},{\"attributes\":{},\"id\":\"1344\",\"type\":\"ResetTool\"},{\"attributes\":{\"fill_alpha\":{\"value\":0.1},\"fill_color\":{\"value\":\"#1f77b4\"},\"line_alpha\":{\"value\":0.1},\"line_color\":{\"value\":\"#1f77b4\"},\"top\":{\"field\":\"amount\"},\"width\":{\"value\":0.8},\"x\":{\"field\":\"name\"}},\"id\":\"1355\",\"type\":\"VBar\"},{\"attributes\":{\"callback\":null},\"id\":\"1325\",\"type\":\"DataRange1d\"},{\"attributes\":{},\"id\":\"1345\",\"type\":\"HelpTool\"},{\"attributes\":{\"overlay\":{\"id\":\"1389\",\"type\":\"BoxAnnotation\"}},\"id\":\"1342\",\"type\":\"BoxZoomTool\"},{\"attributes\":{\"dimension\":1,\"ticker\":{\"id\":\"1336\",\"type\":\"BasicTicker\"}},\"id\":\"1339\",\"type\":\"Grid\"},{\"attributes\":{},\"id\":\"1341\",\"type\":\"WheelZoomTool\"},{\"attributes\":{},\"id\":\"1390\",\"type\":\"UnionRenderers\"},{\"attributes\":{\"text\":\"Aggregated last 500 hotspot rewards\"},\"id\":\"1321\",\"type\":\"Title\"},{\"attributes\":{},\"id\":\"1391\",\"type\":\"Selection\"},{\"attributes\":{\"source\":{\"id\":\"1319\",\"type\":\"ColumnDataSource\"}},\"id\":\"1357\",\"type\":\"CDSView\"},{\"attributes\":{\"callback\":null,\"data\":{\"account\":[\"13Yz557GVBUvcTQkXCsx8AKFAh3TmsXbWNWXMNTaM4SEAVoevvB\",\"13o9KUMcmEdhtjXRaJ5AANHLZWBoGcTmF4MFw3MjQbubjR57jXW\",\"13jL4pTLq4JQBwDoH1ZBX3VPchmeTZxQSGi4cnyXXuzPPoKxcd5\",\"13EEVvbnpmjgwmEUDnYBLbQxbbAj9kiYWTU853QYX3uNC4xw4Le\",\"13zuBf3QXx95aSpR3AgXiR6hjLzbqHqnwHGErXTxb49UrSngKU3\",\"13MeciKTq52Jjyu1K5cCvYAjjcRh3McM45KLrKvuyZpqBeTjUv7\",\"146ZSvFEnjARrnGEZSKavQ7YmvXoweKKk6ib4Az2e4rx37PscXY\",\"13jL4pTLq4JQBwDoH1ZBX3VPchmeTZxQSGi4cnyXXuzPPoKxcd5\",\"14a5sytsEVKBVhGsVz2rJDkxf1cs1L89zvtFjmPtmPzrQHXPVjF\",\"14JPT1gUGHPkfpTEMEAYtdhnBGmJm95XNXK3DhBxcZm3z5kPtwn\",\"13o9KUMcmEdhtjXRaJ5AANHLZWBoGcTmF4MFw3MjQbubjR57jXW\",\"13ickN56yPe38a3Vga161gp4nkSLckWvy7JChvnFr9osfP4AHGE\",\"12yS1GsggJLDaM43fpJn9NZLLHFAFztUYc4EaxuHT8LXK7afKh6\",\"13zjsrN7BAom45N7DXornx7htbMgJwa6azn4G6UcesgASrsTomv\",\"13jL4pTLq4JQBwDoH1ZBX3VPchmeTZxQSGi4cnyXXuzPPoKxcd5\",\"13jL4pTLq4JQBwDoH1ZBX3VPchmeTZxQSGi4cnyXXuzPPoKxcd5\",\"13jL4pTLq4JQBwDoH1ZBX3VPchmeTZxQSGi4cnyXXuzPPoKxcd5\",\"12ymxmzj2PHBdPv8pJZreUfa6twLWwcS3Y3ZdnP8UuDgaeGmK7p\",\"14CryK8VwHBvWZvU4hEdbYBeUxrW7ZkWbfWGs2QefJzKxQbbxm8\",\"12x4r5XkM65BH6TDMz1a7X4FrYWWZLArJMg6EL3pv3ytKfLA99d\",\"13ZoK5nhUY1bLMTPr81LL2pG4gxN4pmtCNCJSmLh7BVhk8EEmLv\",\"13q8L4fQHYFPBENYugVJuwtG1yrvmr4dvhxJtQzxWEbfNhF9Gny\",\"13o9KUMcmEdhtjXRaJ5AANHLZWBoGcTmF4MFw3MjQbubjR57jXW\",\"13o9KUMcmEdhtjXRaJ5AANHLZWBoGcTmF4MFw3MjQbubjR57jXW\",\"13jL4pTLq4JQBwDoH1ZBX3VPchmeTZxQSGi4cnyXXuzPPoKxcd5\",\"13zwMXQwFBNxKGKJvurjGhVjTfkunwsC3GghtE9SyeUYDJei3t3\",\"14a5sytsEVKBVhGsVz2rJDkxf1cs1L89zvtFjmPtmPzrQHXPVjF\",\"13zjsrN7BAom45N7DXornx7htbMgJwa6azn4G6UcesgASrsTomv\",\"13jL4pTLq4JQBwDoH1ZBX3VPchmeTZxQSGi4cnyXXuzPPoKxcd5\",\"13zCZhFapZHTgsDDba76Ts9yATNAhULH2Dm1df6AxbrMuZqySP5\",\"13jL4pTLq4JQBwDoH1ZBX3VPchmeTZxQSGi4cnyXXuzPPoKxcd5\",\"13buBykFQf5VaQtv7mWj2PBY9Lq4i1DeXhg7C4Vbu3ppzqqNkTH\",\"13zjsrN7BAom45N7DXornx7htbMgJwa6azn4G6UcesgASrsTomv\",\"13buBykFQf5VaQtv7mWj2PBY9Lq4i1DeXhg7C4Vbu3ppzqqNkTH\",\"13jL4pTLq4JQBwDoH1ZBX3VPchmeTZxQSGi4cnyXXuzPPoKxcd5\",\"13jL4pTLq4JQBwDoH1ZBX3VPchmeTZxQSGi4cnyXXuzPPoKxcd5\",\"13jL4pTLq4JQBwDoH1ZBX3VPchmeTZxQSGi4cnyXXuzPPoKxcd5\",\"141yoNX5qmd313Rx1a1zvWD3T2PVUm6EdzZcFpssH3HJBF3ucvg\",\"13jL4pTLq4JQBwDoH1ZBX3VPchmeTZxQSGi4cnyXXuzPPoKxcd5\",\"12z4nUiayZnbW46azcegBBB9yGkchFb1Zm7EPuh6eV1r2HT1NgC\",\"13jL4pTLq4JQBwDoH1ZBX3VPchmeTZxQSGi4cnyXXuzPPoKxcd5\",\"13jFJ9LmooHjv6TnFWNryLDrDU3bEBf3FpCWfcdUN6NEDatm8o1\",\"1373AqVQ2ZoMnzC5eHmzuRfMkmeFumdarza2GcLxbA9SrkoN8LK\",\"13jL4pTLq4JQBwDoH1ZBX3VPchmeTZxQSGi4cnyXXuzPPoKxcd5\",\"1383ziQFpmSiW4Q6Nw73eaR6f5oTP4PsjzaECbf3mGVd2TrqKqq\",\"14i3sMETM5PNazzcCvRUCjH6c9juCtWB2Z6UW8VFTAy1dDLzLdc\",\"13ZoK5nhUY1bLMTPr81LL2pG4gxN4pmtCNCJSmLh7BVhk8EEmLv\",\"14i6nM1RbWbjQFg5NFbZS3aZJgpUGZUx5toarz6jZLPpNAb95Tq\",\"13jL4pTLq4JQBwDoH1ZBX3VPchmeTZxQSGi4cnyXXuzPPoKxcd5\",\"13PqfSmY66odJDdEUYVuUewaNqe43zenTdvjvTfvMwBtBRh4ZMn\",\"13buBykFQf5VaQtv7mWj2PBY9Lq4i1DeXhg7C4Vbu3ppzqqNkTH\",\"14Vh42vnNws4wBStivM6gPevb7sNAbWMHqsWKb617TSxr7mReL4\",\"14mhFy8dVhy7eCzyNQWgCQRk9miduSW4raZdbjr1iRquXGmLt24\",\"13mRJKFBgWWe1k83MKmpiRinkb6GDcX1piwWoH7S8RA8MuMDE4b\",\"14ZKktN1fYq74ZfR19ix8rZnA3EiXzFcsrwN4MtExnVAPH6JPPP\",\"14a5sytsEVKBVhGsVz2rJDkxf1cs1L89zvtFjmPtmPzrQHXPVjF\",\"13hDQpbcSe9jZX5giU2sNeynLpHQoLKF8mWkUrpuqVyFgu9ycSq\",\"14p1ECNRHUpxazwib3VijrNsmsAAsuMfMa84uCsXxp6JqZ29eaY\",\"13o9KUMcmEdhtjXRaJ5AANHLZWBoGcTmF4MFw3MjQbubjR57jXW\",\"149ojHmuDHk7hhJbww5xUpv68jgR1GFTFttcBV87eBvHkRMestS\",\"13buBykFQf5VaQtv7mWj2PBY9Lq4i1DeXhg7C4Vbu3ppzqqNkTH\",\"12xUoMKwf12ABjNx4VCvYcNkX79gW1kzz2JnBLxkFbjswRczRvM\",\"12z4nUiayZnbW46azcegBBB9yGkchFb1Zm7EPuh6eV1r2HT1NgC\",\"1418RhwsMfqEbFDJxSopAXird8qRHqw1FTYvMCRdDPHERes4Kea\",\"13jL4pTLq4JQBwDoH1ZBX3VPchmeTZxQSGi4cnyXXuzPPoKxcd5\",\"13E4Z24HzqqvaXFhXgLsK3zPxyMF88C1M246TFNHnAJqg6KCtnT\",\"13jL4pTLq4JQBwDoH1ZBX3VPchmeTZxQSGi4cnyXXuzPPoKxcd5\",\"14cKr7Qs93gdyLguKXf6Pg2SdryopG7dWSgiC6JWKHozuRQjmK8\",\"13jL4pTLq4JQBwDoH1ZBX3VPchmeTZxQSGi4cnyXXuzPPoKxcd5\",\"13Ty4sVxzX7hMACPGnYHGiGTUHsZwUPKjQYnXCWSpqe3ZTxeV8m\",\"13q8hu17nMuZTDoXBXCLiiG59qasZXvrbme9WnLhahW1VAkR3rN\",\"13MrkJ2L6LBfCmsnaHJvxjBxEE1HrgToCEjnBoL8dqeyvTdHj92\",\"139i97spJpNYJoQr5ik2zFq5L77U1SfXTkTh1gbxVgSMrfvTc6s\",\"14aEqJhfWwvynhHSzP4cLuZuW7yuENkdD3nu3yFZBQmZNpaYMa5\",\"12ymxmzj2PHBdPv8pJZreUfa6twLWwcS3Y3ZdnP8UuDgaeGmK7p\",\"12z4nUiayZnbW46azcegBBB9yGkchFb1Zm7EPuh6eV1r2HT1NgC\",\"13b75UVnSQAxRiyxc1T2q8hgwcrYg6qTVj48PRyEL69os7x2aXN\",\"13o9KUMcmEdhtjXRaJ5AANHLZWBoGcTmF4MFw3MjQbubjR57jXW\",\"13ickN56yPe38a3Vga161gp4nkSLckWvy7JChvnFr9osfP4AHGE\",\"13vNfrpCAyd19Je8dsqpJh2oDbk57mVhZto5XFcL5zwDk1asuGX\",\"14PMavd2wcQ6GiqZQFkx8PQhHNGwaW7XZgwX3kcHkDZWauZXs5a\",\"142MT8yuvepnVCwkVxgBPddotHcXKJXtw1yCXVhobawMv3w8L99\",\"12z4nUiayZnbW46azcegBBB9yGkchFb1Zm7EPuh6eV1r2HT1NgC\",\"14CryK8VwHBvWZvU4hEdbYBeUxrW7ZkWbfWGs2QefJzKxQbbxm8\",\"13zzVQKvYM7QBYYpcEdz46Eprjj1ai2BhRdYZhFZfV6KKDgtsjn\",\"13jL4pTLq4JQBwDoH1ZBX3VPchmeTZxQSGi4cnyXXuzPPoKxcd5\",\"13y4jM3b7AgSgoTKqz18NmAwm99K1PRPs56hWuRi9EC5cLv1TXw\",\"13s2mVc16F2dubZWPLNDyTvLbQbJJcndJ7o27vdj4nnpEqRkmkW\",\"148sAphN7RmmiGEYXz1dghgZTLz8kUphBrToPUgWQqNZXWuHbJE\",\"13o9KUMcmEdhtjXRaJ5AANHLZWBoGcTmF4MFw3MjQbubjR57jXW\",\"13jL4pTLq4JQBwDoH1ZBX3VPchmeTZxQSGi4cnyXXuzPPoKxcd5\",\"14i6nM1RbWbjQFg5NFbZS3aZJgpUGZUx5toarz6jZLPpNAb95Tq\",\"14e35CChhsnuHJxjjzYAxsHKBKDgjUop4GuD8esB7gE2VDoyPXT\",\"13jL4pTLq4JQBwDoH1ZBX3VPchmeTZxQSGi4cnyXXuzPPoKxcd5\",\"13jL4pTLq4JQBwDoH1ZBX3VPchmeTZxQSGi4cnyXXuzPPoKxcd5\",\"13sKwLL85zvYvnCm8cvZrYCEmRWkpmNaY9eCShoDota6VCuFRBx\",\"148sAphN7RmmiGEYXz1dghgZTLz8kUphBrToPUgWQqNZXWuHbJE\",\"14ZKktN1fYq74ZfR19ix8rZnA3EiXzFcsrwN4MtExnVAPH6JPPP\",\"14a5sytsEVKBVhGsVz2rJDkxf1cs1L89zvtFjmPtmPzrQHXPVjF\",\"136Q6at4MoCEqaih29WQTZSabepvpSgcqBUW3etyNiERjs6jKCb\",\"14eVPPhEPT3WwdRMqNEfbv6Pm6BADS8dCzT1auf5bKX74oTipbD\",\"13jL4pTLq4JQBwDoH1ZBX3VPchmeTZxQSGi4cnyXXuzPPoKxcd5\",\"13jL4pTLq4JQBwDoH1ZBX3VPchmeTZxQSGi4cnyXXuzPPoKxcd5\",\"13N2Q7qaxvtxiG3WRaR4bT1PAHS72t1AAfSvazcfut8FceQ7yXC\",\"13hFYvVmD2US31aVSKCkvkUoDf8uAtS8UUWnGDjvDoCewDafBXj\",\"14X1W4KJr9QyHuqu6myDBpAdd6ouQbPYL3B4rmJvJjd2GKkUdBj\",\"13XZMwqMhZnjCK7JddxYBxpYf9cCLqEZGp4wHHTNSPvwRJ1gjPs\",\"13EEVvbnpmjgwmEUDnYBLbQxbbAj9kiYWTU853QYX3uNC4xw4Le\",\"13jL4pTLq4JQBwDoH1ZBX3VPchmeTZxQSGi4cnyXXuzPPoKxcd5\",\"13jL4pTLq4JQBwDoH1ZBX3VPchmeTZxQSGi4cnyXXuzPPoKxcd5\",\"14i6nM1RbWbjQFg5NFbZS3aZJgpUGZUx5toarz6jZLPpNAb95Tq\",\"14Ak9NAUHN9SHdbTq5te988yStzRaCqSGtcnQ3N2d3vA1YsUzuK\",\"13jL4pTLq4JQBwDoH1ZBX3VPchmeTZxQSGi4cnyXXuzPPoKxcd5\",\"14E4ihsukiU3Zdkqi2RNs6EWKuuQEK38rgmPTuSD2wSsSHfx7ry\",\"13o9KUMcmEdhtjXRaJ5AANHLZWBoGcTmF4MFw3MjQbubjR57jXW\",\"13buBykFQf5VaQtv7mWj2PBY9Lq4i1DeXhg7C4Vbu3ppzqqNkTH\",\"13jL4pTLq4JQBwDoH1ZBX3VPchmeTZxQSGi4cnyXXuzPPoKxcd5\",\"13jL4pTLq4JQBwDoH1ZBX3VPchmeTZxQSGi4cnyXXuzPPoKxcd5\",\"13jL4pTLq4JQBwDoH1ZBX3VPchmeTZxQSGi4cnyXXuzPPoKxcd5\",\"14Y2o9cMKEhTJ87G19Sp4occBrQxVdE3mJM3xMiJEj1auLF3Qga\",\"13jL4pTLq4JQBwDoH1ZBX3VPchmeTZxQSGi4cnyXXuzPPoKxcd5\",\"14CryK8VwHBvWZvU4hEdbYBeUxrW7ZkWbfWGs2QefJzKxQbbxm8\",\"13jL4pTLq4JQBwDoH1ZBX3VPchmeTZxQSGi4cnyXXuzPPoKxcd5\",\"1328ZwD3SHEjnNwo4f4AoNppMZBg2NkSRjgUb2FSH6dbRsTWPN6\",\"14hCqYFCtetS6RMQNfi9abKUqVyZnJqcSkbWxewhiL97dZuPwMi\",\"142MT8yuvepnVCwkVxgBPddotHcXKJXtw1yCXVhobawMv3w8L99\",\"13x6xCFEw1mq8spGP3xPWJnKuepb4wZJPUMbpk1g4HBCV6jpxMV\"],\"amount\":{\"__ndarray__\":\"bjWpcE3HekCIEDbAYXCYQP+iV0VgEYNAWsHrCjjzgEDNWsgriVx+QBD/VezcnoJAtV6hSUHjF0BG2gBLugiHQFZHjnT/58VAvfbUA8myf0B/CLtya7qgQCbnggIIiIBAd5rU6RtfgkA7qjf2GOmxQNVN93S0E4BAHpP/qNkBkUDgcNUrYwuCQMtX2akf5IFAj4djAmO1gUAO5iPnZO2AQG3oJGOOMn5At1VakMd2k0DMo7DFsZGiQI+YsGhouoxA6p5MDrm/kkDnMU5szmW2QJwzojQhIcBAkwOw4GJBhEC1j0+n8D2oQJSFjqGsi3dAumkzTjOvgkB2fMVk02iDQBy6Vefbn4BAcBKcXatOjUBogGZrQPmWQO4SSbK2Rn9A/y23as3hkEDsihnhpcGJQKqJ9JGGZpZAWoyyZWYpg0BATMKF9CmAQP/yJETEZ3ZAQySeRwA7gUCXwFICzziAQDNZ1A6cx4JAP6w3ak63sEC1MdnsBsn8PxEnKCzeTr5A+1aQC+MvhUDjL/M+atV8QFkTsMISKFdA114T6+ehcEC7etttcG22QOxlHYY9fhtACUD1cpxohECnEadRZ3fHQDAp44RepXxArSHl5boHuEDh0cYRL82WQNNebVrjiW5ATH0PTY9ckT9pR7sb5fmGQGPWxUz3irVAGnQZaS9bfECw0Ukhxjd6QAfCX90EZ7hAuwz/6SYfekAUYxVGFbp9QH31hjW0UIBAY+5aQj4gfUCalcw1pbCAQCB1ZHrUq51AQtVDj7n0tEC1o92NSpF/QEgbBZDztE5Ax+7phztTukCVfOwu4HF1QGnY1uzUt31A6OQ9tc8mgUCKRPwe8NFyQFg4KOXObZtAmFgyKh1YNEBlrJG4And3QJcrcj6rRENA470PrE8eFkBVgd5EwikWQGZpp+ZycUdAk4GPA1OJqEBZo4HMZC2MQOOTiM8h0KRAqZ+aP8y3gECtc8I6rOeAQIDwwlIsuIdAY1kXVBezjUDzjJ7XEGPFQOQ34E4tVYRAejWjk9O2jUCFWOR0gju3QDuGS7fq5LhANosffM/WlUAr/UKXID+6QHkQ0LfUTYNArn6urkFXhED8PMJA4pJ6QPFArh6RQ4FAxS56PMdzfkChsd3a5dd7QN1X7bP9b4FABFuAEU+IbUDacnChty/SQOCftU8cebBATr40oDnVf0D9lil7BSJ/QO8Xu5aDTHRAdA3xF0dDvUDVR7eQHRKGQIsAAjHODKBAsqxFVWDWtUDU+zouwqd6QAmiMCB6GYNAiApZBqqAWkBb/YXc1MFkQKGX9nLSY7tA2SzyRpGuf0Ao0RYAaDeDQGa2dYEIUqpA9Psf3JQbgkA=\",\"dtype\":\"float64\",\"shape\":[127]},\"gateway\":[\"1123zdwvvayz9Nqxx4UtkGZecWhgDUmcdMJmG5qXccB1iW51dJgA\",\"1124eHFSCjQTouUNkC23dhN8BUUYQHnwdobZGHZwJvTq1PN72xsb\",\"1125mBeoEZ2e1TSiKtxUbeUS2jhPcb6X6ELyxUZeEKxgpAXL2QXC\",\"1126WubKPpmEW6uCgcuXMfn4tHEp2rPr9sCrR9YXj2Vvg4gL3QC2\",\"11278GCrhcGcZorQmQgXefjPZWApFD9vHco9EzYytkkgepSx4cnW\",\"1127q7QEWN68TxVZ5wjPKBVGtjN51HGoiSiA6WJvR9ZzX9soHFBe\",\"1127scjX1wymbXwV5eToMTV7cy8xghMddGb6QtiNhqSwLfSYksdQ\",\"112D36ZCcFouGU5X5wVCXsikGEsEkpcLYFyrrKHcRowzENXq6yso\",\"112D3iyBgtLeh5SPhshjZXQDV2XX2FdSMVSoC1fryANqdKPc3gLY\",\"112DFZH7yJwntcPMscyL91zb1LayjGpizEuMViAZvDQftiaPSiB9\",\"112G1KhXpvMnPYw9ze7VsiLizG7SpVU81zFXyt2bcZBQwPS3Uh4L\",\"112HrGmRZ1iUFPNRzbMoAAiHHgHzrmkFLwdzwmUww457JsHN2VDm\",\"112JHZsfc2sPfx1N9fjJ1HzhJou3o5LWgaWZYvnXAkcQktX9YLS7\",\"112LfWf61hKR2mCKbuyqt3w2UCtytbFCmo2QJ4xdACR6c768LtiR\",\"112MCMqvkbdfbQ4BLopnGpMdnSeNUBEchHCbHsU2CMAZjRJKD3aB\",\"112MDVNM62dXFzXmPzNySnsXV58WyWJhDEH4zU1Xipb9F519Dy9q\",\"112Mki5uohp3EYjEwAKzrQStUf9FPZBKuzwnpRAiMboE6K6pTEhc\",\"112MtP4Um2UXo8FtDHeme1U5A91M6Jj3TZ3i2XTJ9vNUMawqoPVW\",\"112NLD4d8nRnNyqPv8smRVi8kRVkKNVBadCFNnz6XYbz8LGWKBb3\",\"112NhNhURvqksxppa8bxjMku5e51h8rqub36rFA5Kgo8nPdM5KHS\",\"112NxxWUZzAPDoJmrpnHH7nPn7hAFYVjTibYSS2p7vfXWhz8BuQF\",\"112P4UBvvAwDM11o6eHE6w44hGWq7ukNo4skTLSTsWYZx3wxPMqu\",\"112PW6ZvGNWssGPX6k769dzercrmdRyBUwrsY5xfCgQiSWPWrxHF\",\"112Sgw2sZf1BKAPqVH677a2HeE9TKYkgjGkPj7L5iLPvjrPA39hg\",\"112TN1Cdqbi7LXaKBQKprjY7LVmVyePNACmB1ewk27M8raEVGmCz\",\"112TW3Cp2GWLPs9veKMYFtw7DVaDHU6dsEE8GAggBVjEuf2TWttr\",\"112UuTZGP8Vd4p4x7LX3MrQQkimrQVGsgDCq5EvQLvRYGUNZhH2T\",\"112VYECRxdyUixsN3KyTMdJaNdGGNF6UARwS5Pkyi86xoiBkSyLU\",\"112X5u9nq4v5RDcUSfGJXBG8dgCzvRTW7bfS4oZ9qnQU17vcQ5y2\",\"112XLTxP3R8fXdmFsX6EYBpz4yQkJWZVNBuNjk8n2nw7dU14Fmcy\",\"112YjHE6vZ72o2nypeBbsUTs6V5Z6CBXakKjQJKKCXHsAPPJrmvA\",\"112Z6fYnkQa8VAyMWHoaZJVzrxbWPoJV2NCfdZmaNoG1pYxWdGwD\",\"112aVmnM3bJsA1gM9fjNPSvAeY4LkrMzNJdHRfTdtZ9nTgWZgncs\",\"112aeWRZdyz61Y7EQeMbXwqERNMPnciDvsxyFmhz1UfA9hte4R4W\",\"112c7xWEsNLTnPhWmmETrZ8P6BxqNnTZtBymmjifBgjKariw8YXw\",\"112cN1U82HCb2BN8E7XgmoniPTurcKg97WnJi2oXDupSMHpgiDid\",\"112d7fa4ymaWLu1AVVgMtyRA3DbhvRCeNcTYK8oc64Xxq3PaQmLw\",\"112dFRPoWZmWehmiU1cdU2jbE213RB772urDC1HxUSZfQ7KVJaN5\",\"112dcfpxdtNKPTrKvzKmXHqLAq7R1Npq35Ehjepe9n2p7WA4mSXp\",\"112dqJt9WfNqGPBbbz9Au42DZ1RUkpZAUWgnSmZ9R8nhDxQeNLCW\",\"112eFfqt75oqXa62iE8tsfLhgH3vSNAcnGLzEwGdUYun1zCAYKTR\",\"112euXBKmLzUAfyi7FaYRxRpcH5RmfPKprV3qEyHCTt8nqwyVFYo\",\"112jpXUSkDJuykaNzrnTVGBWTrr5tukBSXUdZRKUsKAEMru6uucu\",\"112jsPCWDbhYb1u1brqYGHkxdnpt8JSE91gRYCH5HKyFcsW16Tkx\",\"112kFNJoxBYn7UWwZqUABrTXjhn7mkP8ePrbi6w9Hj1NXJfodwP3\",\"112kQbfzXkyxTSTxUpztvPLMJLB2koLro9LJesumSGpdNUBhWzBN\",\"112knmafQYGS7u1JekGv2teFEUvDHjS3ScKPBb7LECgMjepRZH3r\",\"112opbmPimyyAT1Y5GxeEJSDXM2ZfTHAZRUMLGcADTyGXAe8Hr4\",\"112p1sK1ip8ZAAXC2txtJthSKUxgHxSCvhZCv9Mt6wmVqTGu6uyK\",\"112rDaPoAGdzXELF7t1iLj7BM8cCtezYoNAkwFECSLqGxR4iVMaj\",\"112rGFR4TPSbrdTAPgP556n9ffst7tE5Xooua9QURbV4XeVoQgiD\",\"112rNX8mnZBZWf6ixnksygsrahNYyHz7S9BExjqPCxhEqSPcxF38\",\"112rS6gCz9FQmcw2hrdnEJRLLAeWpSmtHYeC6nAuDrDutPWm2RYz\",\"112s1E6JsKmjNrZp2s28Tk4VFuB49cZUjZ41qho7Uq9yYJyvyH1R\",\"112sYD4tioU5RXg6t4aw74mP4NDxqrWptCqRFEeK5cauGqGYKaL4\",\"112stmZdJDjyvuGEJLCkUa5kPnmra5Svz72G3GdcyQQ9h3i55D48\",\"112u3Zr3oTs6TSBewf649PSiM1fCGg58gmhoAxvTZwtCeViB8XG1\",\"112uFMbu9bTXe9tJzuaL1MoM7UksPK4F928VmBf9Hxzc6BjRK9Pp\",\"112uVWq45n18AQnCASMpTiAsMcQvE7oqmtYji9FHab2yxfWsbmhX\",\"112vHYHXQNm7aVFAtjCVyqnHYTRPCKEib8uMUX71XFHPjDgwq4MV\",\"112wh3mYwP6N8XbYgeU5JPp2L9rNJD5Qv8SGHxRjboybiAxJtRVt\",\"113kQU96zqePySTahB7PEde9ZpoWK76DYK1f57wyhjhXCBoAu88\",\"114FX56Ua6joFNmHAugjKR1wfopRyYEzbtgn6bodvSHXdKSwZPg\",\"114VvEadECxmrrF4ccY3ai2XQzGdikovfJwBJEAsMuX8Wg9iWAR\",\"1158boTwaXLng68TD1UauDnZeB1oCGRPqG7nQ2bL2yovkA2ntV3\",\"115JucmPFDKUwvE4fkHR6GyQsttSUMi11KYme6pRcRTVXTqE7ww\",\"115j9cnpxSmkYEdzjvFuMycz4VAea4zC9DicMKHZUHwc6aQVTTE\",\"115pxxv1H6xuq5NykL2PjzQqZqKv1bJdig2sxyN79ukBVGWXbPn\",\"118EwwvzarVrtvaCfnRhCP1BBcdLaQRLBDKZ3coW17JHhKaj6p1\",\"118Wc9tJaNA6xNbDjVenT52ueyfvXAcrzH4Lwppd5dG2QLDQ34C\",\"11AUHAqBatgrs2v6j3j75UQ73NyEYZoH41CdJ56P1SzeqqYjZ4o\",\"11BL252rVXxYyNe6P6kJ8udk4VHix7NVV4ASQTP2prr8KJB2YPi\",\"11BaVHGtAa5K1sb2xosiF3LepjrgK5iT7ZUjqkM6KDLS5Xd9VKh\",\"11CAwto42LXquADz1asH4gWU6yUbSi1hATDijYm8ZM4Z7RtzeQK\",\"11Csdm4xr7W3j1vJsZKQ5o5qnGQiwcjBqrW3qRiVDxqad395dKD\",\"11DMUS9sEDngNh5RF1k4pb23Ucbb9fN9RwPDd1ZMAJJiCjvo3Xx\",\"11DeGngCtZsML4EhRgPiJVp7feAN4XYwEiZhCKLy2SeQp8QWP7D\",\"11ECEKeyCjknk2Z7AG7gxVcVnWjmksJE1Wzq6C7BBZE239HjuFD\",\"11EEx27SnCWb8qB87AX5XptnHNhpJx9y8YtQYHME1XNLTzTUxWD\",\"11Hh17C2pg8ig1ftU6H1UpSRQDVxZZtQNuJ56qryHMuD5w958Tr\",\"11J8sVCSMqmPQsS7vz5LEoKEYEARUWSt1iooWd7pp1vwYUqDoJg\",\"11KeUR4Ure4DBFJE1TGg2nr4E7k2T8keAiBqmB9PEgMdWGB7eJh\",\"11Kj6LV5M51PzPjBVbtgESL625SsrzdPoi59PDPQ2xdeozNuRuq\",\"11LVy67AcSy9iwtvDFr19yjThPY5EXaBBbPA4sThgNaDugh6xub\",\"11MFNwMS56vpKvK4iBvMfp3dipCpQA623XaFDvoCu2AACKvwcSX\",\"11NWJW4xhkypQvPbioMV9a791RJjNjueh7f38AiAUEU75ifjwAF\",\"11QZ8NPS5w2pbBVqFT79hMxuYhc9FaCGz6g1UvpFKVjfZ9D1TbE\",\"11T5peiN6VsfEqTXzctRwQzSqkbaxx8HGeyjR6fyoAgAn1Y4sA9\",\"11TUDQEnZa8KXwuCNPVjLWboFGnVskfua1dRkEvmaNgriMWBwAf\",\"11WPxVmJ83FKQkU83zbREvV2MtvkSaKeQenbJHdXWNESDu4c2bk\",\"11XC5VxSHnB2v9B8Kx3guqwTRLmY3hfar3EALunYsJMoT6TKJxV\",\"11YDCwbL1dkC7gToXTcEn5CQHTnjittZ7ZqTUsPjD6ba8hASZNe\",\"11YZSQ1DfKg5YwvoqKJRtKMBQnuRL6ofxyQPrMcsPPGEZdHVf2q\",\"11Z4vYLzvwkuDegD95bDmDURYb5Q2BV69yCpeaf81372SkfktxC\",\"11aS1fM9HHVHzRgjVtcP55559X8pMnkCUdSttfZUohqH84sNQpM\",\"11bgTZaeRTiGuH11dE25H2D1FFM5tvtrHTNJnhAK6TwwrH57t88\",\"11cEr5Um2a7Zbqw7Pozrc3DjEXvQptTtdVo5y132Kwo94ax11DD\",\"11ckxdQsReXpqwCrbbREZj6urEuNEGf2Zk5d4UnsuPMsJDSihwy\",\"11dj5k2dwSUE7fqFnwAHK9stLd3St9MJiJuaRnvvRgJjbRMZgKJ\",\"11hju5Kc94T9xbgA8Ri88LpX7sb79kMq7ET5A4xUF7AKsfvu9HM\",\"11idAPnBHP3AM3SjkpFRGy7XLVv12oecTFLHGBMfmBSvzNY9CW8\",\"11iur9BrnJY2FunsLyH9FwLfqHa8C4Cue3R5WGFJmbYh2FrpbBh\",\"11jihKNVbs5Sd85ekMAiLHvq5oDEWCEs7rbSdJ2WtQbLXETbMe9\",\"11jngF85QQc4JUvkK4uJ79vY7zLY6SrgKw911wpmiBvgMHsUJma\",\"11k4Gn6Qhs6JDet1w1fKxUe647zw4KRiZCYhNBtqYCL16BNmjRo\",\"11kzHgDkiGfCiX96fWz6riNGxjCCXy6bVvyn4SDwzjzwMXNhndU\",\"11oCfnQtekNbhEZLF2YA87jJr9mk9dogSEGoXCBboFR3CR7rR6v\",\"11qTZbaXb3ZxWD3fW4PmVJryWXyY5dCPaSTKmvDhgEBk8bxTSvS\",\"11qXzvWwBX49LPHXZVKtT7aM2tKDUaHamHaPo2ajMvXxGs42s2y\",\"11qd6UNmuQsR5FUNc1LAKJM1r7kfx37WGc1csYbvkmUGUTx992K\",\"11rWkkY2rjp1hfZ2noxtwRALArbf12hMzdytHVQrY1c1PzBX4iR\",\"11sAaGTavNJjGgpcoRL5GQACTbWQq4zvftgrZwjabMqJRNfyZn4\",\"11sJGePtegp3KSmX2VSHSJy2kvkhNUHcLh1Xprs3m7FHwnEonfo\",\"11sguEykEnHMXbw14nqo7mCwn18FsKFegaS3tcRqd2fgSKeaKcA\",\"11t2h6ERRn2kbgjFF2hdQLZwvHcMS5NqykN3FEFRzvdf9K9QE1y\",\"11tWRj2Qhnn177iVYm3KUmbPdMyhRfeqHqk9kCyiR7y57hdG9JA\",\"11uEMMjzw2bpuWW1cQHJLKPUiqzm3B8HHPtqsuiXZEhX4VxB4rB\",\"11ubZi6poph2dLTc9jvJwNtjkJxF8WaneDSdMcDoA1tcyb47rFo\",\"11uoSXSsPuuTv1cprZEqNuw5r8giCsAoqDXgsdFMR2G11tLKjkr\",\"11uvA9ZLXGUY5onTtAvMhSxjs4zMuGMganv1xSbipCxRCurUHuH\",\"11vsUeTb8g4KcELPctghGLSDWhUDGAEAkiAhERU3euC69HSNvca\",\"11wuUYRFfbkjHTsqC6HhhvAV1jJUR2mC2MHxSigWnoyiGZuRgrJ\",\"11xKKZwHYZpWcEamiZmyCA1v6YmfcfagQMGf9BJfMnDDiXkhRgV\",\"11xWTUFRswoQM82EWQqDCRCixmX57UjzXLKdeKaXhGpsp66tho\",\"11xkVWtJgF4xrRxhSy1mxYZvWc6anKA3QtrNJWdqP7J3wNkJ8tC\",\"11yXFNu9Je9gvVfyuA8jS8z6faNcZW7kPwPApWYThTk416LGmU\",\"11z6NPpfsdWZgGb5zSNz2VqHioyoVYmAGjANTPGwBKo26fBxb2U\"],\"index\":[0,1,2,3,4,5,6,7,8,9,10,11,12,13,14,15,16,17,18,19,20,21,22,23,24,25,26,27,28,29,30,31,32,33,34,35,36,37,38,39,40,41,42,43,44,45,46,47,48,49,50,51,52,53,54,55,56,57,58,59,60,61,62,63,64,65,66,67,68,69,70,71,72,73,74,75,76,77,78,79,80,81,82,83,84,85,86,87,88,89,90,91,92,93,94,95,96,97,98,99,100,101,102,103,104,105,106,107,108,109,110,111,112,113,114,115,116,117,118,119,120,121,122,123,124,125,126],\"name\":[\"muscular-lavender-owl\",\"stale-black-opossum\",\"dazzling-bone-zebra\",\"rhythmic-shadow-spider\",\"dandy-cobalt-lemur\",\"clever-pickle-sparrow\",\"sparkly-aqua-wren\",\"elegant-hazel-starling\",\"mythical-tin-hawk\",\"blurry-seafoam-ape\",\"dizzy-opaque-wolf\",\"thankful-chili-millipede\",\"polished-pearl-anteater\",\"dandy-sangria-okapi\",\"ripe-goldenrod-cheetah\",\"proud-bubblegum-opossum\",\"noisy-laurel-starling\",\"fancy-glossy-rat\",\"proper-orchid-bee\",\"refined-bubblegum-poodle\",\"damaged-concrete-walrus\",\"obedient-mustard-sheep\",\"genuine-powder-halibut\",\"bumpy-boysenberry-manatee\",\"bent-honey-starfish\",\"flat-magenta-chipmunk\",\"fit-iron-monkey\",\"clever-tan-panther\",\"thankful-seafoam-ant\",\"main-pistachio-pangolin\",\"tame-wooden-anteater\",\"curly-berry-coyote\",\"breezy-coal-deer\",\"magic-rainbow-wasp\",\"agreeable-umber-python\",\"itchy-plastic-parakeet\",\"loud-juniper-boar\",\"funny-jade-bull\",\"cheesy-fuzzy-shrimp\",\"sour-honey-llama\",\"radiant-sable-swallow\",\"flat-lilac-shrimp\",\"boxy-holographic-rook\",\"young-sage-rook\",\"howling-gauze-guppy\",\"special-graphite-cat\",\"dry-corduroy-bird\",\"cuddly-sapphire-narwhal\",\"zany-chambray-camel\",\"spicy-seafoam-tadpole\",\"rapid-corduroy-halibut\",\"precise-tangerine-rat\",\"joyous-burgundy-chicken\",\"melted-sable-turkey\",\"round-white-sidewinder\",\"mean-alabaster-piranha\",\"creamy-linen-octopus\",\"beautiful-onyx-platypus\",\"dizzy-strawberry-cricket\",\"clever-basil-moose\",\"precise-orange-peacock\",\"rare-burlap-python\",\"harsh-concrete-lizard\",\"noisy-onyx-peacock\",\"recumbent-goldenrod-griffin\",\"mini-currant-lizard\",\"itchy-flint-puma\",\"dandy-champagne-pike\",\"soaring-iris-beetle\",\"delightful-aqua-blackbird\",\"skinny-fuchsia-mink\",\"dry-pebble-moose\",\"merry-lemon-orca\",\"bitter-bronze-okapi\",\"acidic-lime-haddock\",\"magic-carob-quail\",\"tall-watermelon-dog\",\"spare-porcelain-penguin\",\"sparkly-sable-sparrow\",\"spare-turquoise-otter\",\"micro-clear-griffin\",\"fresh-golden-wasp\",\"slow-burgundy-mandrill\",\"strong-tortilla-marmot\",\"high-frost-blackbird\",\"crazy-opaque-condor\",\"teeny-blue-dinosaur\",\"fierce-onyx-spider\",\"immense-mercurial-crocodile\",\"tiny-vermilion-platypus\",\"brave-lemon-ant\",\"main-mahogany-crane\",\"mythical-jade-tarantula\",\"atomic-fuzzy-dove\",\"clean-nylon-okapi\",\"scrawny-obsidian-halibut\",\"melted-iron-seal\",\"orbiting-cream-starfish\",\"micro-tiger-tuna\",\"cheesy-wooden-bird\",\"delightful-stone-beetle\",\"savory-chili-terrier\",\"sneaky-champagne-pig\",\"basic-ginger-oyster\",\"decent-tortilla-bee\",\"tall-blonde-condor\",\"joyous-beige-moose\",\"fierce-turquoise-anteater\",\"future-punch-ant\",\"shambolic-rusty-cyborg\",\"beautiful-burgundy-rat\",\"sweet-pebble-aphid\",\"melodic-amber-hawk\",\"happy-strawberry-lion\",\"teeny-cider-troll\",\"agreeable-walnut-weasel\",\"sneaky-mulberry-parrot\",\"melodic-pearl-chameleon\",\"howling-violet-millipede\",\"custom-walnut-monkey\",\"long-rosewood-boar\",\"savory-juniper-whale\",\"bubbly-mandarin-panther\",\"orbiting-mint-carp\",\"stale-menthol-piranha\",\"acidic-red-mouse\",\"teeny-cotton-hawk\"]},\"selected\":{\"id\":\"1391\",\"type\":\"Selection\"},\"selection_policy\":{\"id\":\"1390\",\"type\":\"UnionRenderers\"}},\"id\":\"1319\",\"type\":\"ColumnDataSource\"},{\"attributes\":{},\"id\":\"1329\",\"type\":\"LinearScale\"},{\"attributes\":{},\"id\":\"1343\",\"type\":\"SaveTool\"},{\"attributes\":{\"callback\":null,\"tooltips\":[[\"name\",\"@name\"],[\"amount\",\"@amount\"]]},\"id\":\"1358\",\"type\":\"HoverTool\"},{\"attributes\":{},\"id\":\"1336\",\"type\":\"BasicTicker\"},{\"attributes\":{},\"id\":\"1388\",\"type\":\"BasicTickFormatter\"},{\"attributes\":{\"bottom_units\":\"screen\",\"fill_alpha\":{\"value\":0.5},\"fill_color\":{\"value\":\"lightgrey\"},\"left_units\":\"screen\",\"level\":\"overlay\",\"line_alpha\":{\"value\":1.0},\"line_color\":{\"value\":\"black\"},\"line_dash\":[4,4],\"line_width\":{\"value\":2},\"render_mode\":\"css\",\"right_units\":\"screen\",\"top_units\":\"screen\"},\"id\":\"1389\",\"type\":\"BoxAnnotation\"},{\"attributes\":{},\"id\":\"1327\",\"type\":\"CategoricalScale\"},{\"attributes\":{\"callback\":null,\"factors\":[\"muscular-lavender-owl\",\"stale-black-opossum\",\"dazzling-bone-zebra\",\"rhythmic-shadow-spider\",\"dandy-cobalt-lemur\",\"clever-pickle-sparrow\",\"sparkly-aqua-wren\",\"elegant-hazel-starling\",\"mythical-tin-hawk\",\"blurry-seafoam-ape\",\"dizzy-opaque-wolf\",\"thankful-chili-millipede\",\"polished-pearl-anteater\",\"dandy-sangria-okapi\",\"ripe-goldenrod-cheetah\",\"proud-bubblegum-opossum\",\"noisy-laurel-starling\",\"fancy-glossy-rat\",\"proper-orchid-bee\",\"refined-bubblegum-poodle\",\"damaged-concrete-walrus\",\"obedient-mustard-sheep\",\"genuine-powder-halibut\",\"bumpy-boysenberry-manatee\",\"bent-honey-starfish\",\"flat-magenta-chipmunk\",\"fit-iron-monkey\",\"clever-tan-panther\",\"thankful-seafoam-ant\",\"main-pistachio-pangolin\",\"tame-wooden-anteater\",\"curly-berry-coyote\",\"breezy-coal-deer\",\"magic-rainbow-wasp\",\"agreeable-umber-python\",\"itchy-plastic-parakeet\",\"loud-juniper-boar\",\"funny-jade-bull\",\"cheesy-fuzzy-shrimp\",\"sour-honey-llama\",\"radiant-sable-swallow\",\"flat-lilac-shrimp\",\"boxy-holographic-rook\",\"young-sage-rook\",\"howling-gauze-guppy\",\"special-graphite-cat\",\"dry-corduroy-bird\",\"cuddly-sapphire-narwhal\",\"zany-chambray-camel\",\"spicy-seafoam-tadpole\",\"rapid-corduroy-halibut\",\"precise-tangerine-rat\",\"joyous-burgundy-chicken\",\"melted-sable-turkey\",\"round-white-sidewinder\",\"mean-alabaster-piranha\",\"creamy-linen-octopus\",\"beautiful-onyx-platypus\",\"dizzy-strawberry-cricket\",\"clever-basil-moose\",\"precise-orange-peacock\",\"rare-burlap-python\",\"harsh-concrete-lizard\",\"noisy-onyx-peacock\",\"recumbent-goldenrod-griffin\",\"mini-currant-lizard\",\"itchy-flint-puma\",\"dandy-champagne-pike\",\"soaring-iris-beetle\",\"delightful-aqua-blackbird\",\"skinny-fuchsia-mink\",\"dry-pebble-moose\",\"merry-lemon-orca\",\"bitter-bronze-okapi\",\"acidic-lime-haddock\",\"magic-carob-quail\",\"tall-watermelon-dog\",\"spare-porcelain-penguin\",\"sparkly-sable-sparrow\",\"spare-turquoise-otter\",\"micro-clear-griffin\",\"fresh-golden-wasp\",\"slow-burgundy-mandrill\",\"strong-tortilla-marmot\",\"high-frost-blackbird\",\"crazy-opaque-condor\",\"teeny-blue-dinosaur\",\"fierce-onyx-spider\",\"immense-mercurial-crocodile\",\"tiny-vermilion-platypus\",\"brave-lemon-ant\",\"main-mahogany-crane\",\"mythical-jade-tarantula\",\"atomic-fuzzy-dove\",\"clean-nylon-okapi\",\"scrawny-obsidian-halibut\",\"melted-iron-seal\",\"orbiting-cream-starfish\",\"micro-tiger-tuna\",\"cheesy-wooden-bird\",\"delightful-stone-beetle\",\"savory-chili-terrier\",\"sneaky-champagne-pig\",\"basic-ginger-oyster\",\"decent-tortilla-bee\",\"tall-blonde-condor\",\"joyous-beige-moose\",\"fierce-turquoise-anteater\",\"future-punch-ant\",\"shambolic-rusty-cyborg\",\"beautiful-burgundy-rat\",\"sweet-pebble-aphid\",\"melodic-amber-hawk\",\"happy-strawberry-lion\",\"teeny-cider-troll\",\"agreeable-walnut-weasel\",\"sneaky-mulberry-parrot\",\"melodic-pearl-chameleon\",\"howling-violet-millipede\",\"custom-walnut-monkey\",\"long-rosewood-boar\",\"savory-juniper-whale\",\"bubbly-mandarin-panther\",\"orbiting-mint-carp\",\"stale-menthol-piranha\",\"acidic-red-mouse\",\"teeny-cotton-hawk\"]},\"id\":\"1323\",\"type\":\"FactorRange\"},{\"attributes\":{\"axis_label\":\"AggregateRewards\",\"formatter\":{\"id\":\"1388\",\"type\":\"BasicTickFormatter\"},\"ticker\":{\"id\":\"1336\",\"type\":\"BasicTicker\"}},\"id\":\"1335\",\"type\":\"LinearAxis\"},{\"attributes\":{\"axis_label\":\"Hotspot\",\"formatter\":{\"id\":\"1386\",\"type\":\"CategoricalTickFormatter\"},\"major_label_orientation\":0.7853981633974483,\"major_label_text_font_size\":{\"value\":\"4pt\"},\"ticker\":{\"id\":\"1332\",\"type\":\"CategoricalTicker\"}},\"id\":\"1331\",\"type\":\"CategoricalAxis\"},{\"attributes\":{},\"id\":\"1386\",\"type\":\"CategoricalTickFormatter\"}],\"root_ids\":[\"1320\"]},\"title\":\"Bokeh Application\",\"version\":\"1.3.4\"}};\n",
       "  var render_items = [{\"docid\":\"a325a398-ae71-4453-bc35-e313db01a469\",\"roots\":{\"1320\":\"53029d64-ebf0-4388-8efc-7ae4941ad7ee\"}}];\n",
       "  root.Bokeh.embed.embed_items_notebook(docs_json, render_items);\n",
       "\n",
       "  }\n",
       "  if (root.Bokeh !== undefined) {\n",
       "    embed_document(root);\n",
       "  } else {\n",
       "    var attempts = 0;\n",
       "    var timer = setInterval(function(root) {\n",
       "      if (root.Bokeh !== undefined) {\n",
       "        embed_document(root);\n",
       "        clearInterval(timer);\n",
       "      }\n",
       "      attempts++;\n",
       "      if (attempts > 100) {\n",
       "        console.log(\"Bokeh: ERROR: Unable to run BokehJS code because BokehJS library is missing\");\n",
       "        clearInterval(timer);\n",
       "      }\n",
       "    }, 10, root)\n",
       "  }\n",
       "})(window);"
      ],
      "application/vnd.bokehjs_exec.v0+json": ""
     },
     "metadata": {
      "application/vnd.bokehjs_exec.v0+json": {
       "id": "1320"
      }
     },
     "output_type": "display_data"
    }
   ],
   "source": [
    "def plot_challenge_stats(g1):\n",
    "    source = ColumnDataSource(g1)\n",
    "    p = figure(x_range=g1['name'], title=f\"Aggregated last {REWARD_LIMIT} hotspot rewards\")\n",
    "\n",
    "    p.vbar(x='name', top='amount', width=0.8, source=source)\n",
    "    hover = HoverTool(tooltips=[('name', '@name'), ('amount', '@amount')])\n",
    "    p.width = 900\n",
    "    p.add_tools(hover)\n",
    "    p.xaxis.axis_label = \"Hotspot\"\n",
    "    p.yaxis.axis_label = \"AggregateRewards\"\n",
    "    p.xaxis.major_label_text_font_size = \"4pt\"\n",
    "    p.xaxis.major_label_orientation = math.pi/4\n",
    "\n",
    "    show(p)\n",
    "plot_challenge_stats(g)"
   ]
  }
 ],
 "metadata": {
  "kernelspec": {
   "display_name": "Python 3",
   "language": "python",
   "name": "python3"
  },
  "language_info": {
   "codemirror_mode": {
    "name": "ipython",
    "version": 3
   },
   "file_extension": ".py",
   "mimetype": "text/x-python",
   "name": "python",
   "nbconvert_exporter": "python",
   "pygments_lexer": "ipython3",
   "version": "3.7.3"
  }
 },
 "nbformat": 4,
 "nbformat_minor": 2
}
