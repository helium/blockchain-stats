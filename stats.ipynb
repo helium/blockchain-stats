{
 "cells": [
  {
   "cell_type": "markdown",
   "metadata": {},
   "source": [
    "### Imports"
   ]
  },
  {
   "cell_type": "code",
   "execution_count": 1,
   "metadata": {},
   "outputs": [
    {
     "data": {
      "text/html": [
       "\n",
       "    <div class=\"bk-root\">\n",
       "        <a href=\"https://bokeh.pydata.org\" target=\"_blank\" class=\"bk-logo bk-logo-small bk-logo-notebook\"></a>\n",
       "        <span id=\"1001\">Loading BokehJS ...</span>\n",
       "    </div>"
      ]
     },
     "metadata": {},
     "output_type": "display_data"
    },
    {
     "data": {
      "application/javascript": [
       "\n",
       "(function(root) {\n",
       "  function now() {\n",
       "    return new Date();\n",
       "  }\n",
       "\n",
       "  var force = true;\n",
       "\n",
       "  if (typeof root._bokeh_onload_callbacks === \"undefined\" || force === true) {\n",
       "    root._bokeh_onload_callbacks = [];\n",
       "    root._bokeh_is_loading = undefined;\n",
       "  }\n",
       "\n",
       "  var JS_MIME_TYPE = 'application/javascript';\n",
       "  var HTML_MIME_TYPE = 'text/html';\n",
       "  var EXEC_MIME_TYPE = 'application/vnd.bokehjs_exec.v0+json';\n",
       "  var CLASS_NAME = 'output_bokeh rendered_html';\n",
       "\n",
       "  /**\n",
       "   * Render data to the DOM node\n",
       "   */\n",
       "  function render(props, node) {\n",
       "    var script = document.createElement(\"script\");\n",
       "    node.appendChild(script);\n",
       "  }\n",
       "\n",
       "  /**\n",
       "   * Handle when an output is cleared or removed\n",
       "   */\n",
       "  function handleClearOutput(event, handle) {\n",
       "    var cell = handle.cell;\n",
       "\n",
       "    var id = cell.output_area._bokeh_element_id;\n",
       "    var server_id = cell.output_area._bokeh_server_id;\n",
       "    // Clean up Bokeh references\n",
       "    if (id != null && id in Bokeh.index) {\n",
       "      Bokeh.index[id].model.document.clear();\n",
       "      delete Bokeh.index[id];\n",
       "    }\n",
       "\n",
       "    if (server_id !== undefined) {\n",
       "      // Clean up Bokeh references\n",
       "      var cmd = \"from bokeh.io.state import curstate; print(curstate().uuid_to_server['\" + server_id + \"'].get_sessions()[0].document.roots[0]._id)\";\n",
       "      cell.notebook.kernel.execute(cmd, {\n",
       "        iopub: {\n",
       "          output: function(msg) {\n",
       "            var id = msg.content.text.trim();\n",
       "            if (id in Bokeh.index) {\n",
       "              Bokeh.index[id].model.document.clear();\n",
       "              delete Bokeh.index[id];\n",
       "            }\n",
       "          }\n",
       "        }\n",
       "      });\n",
       "      // Destroy server and session\n",
       "      var cmd = \"import bokeh.io.notebook as ion; ion.destroy_server('\" + server_id + \"')\";\n",
       "      cell.notebook.kernel.execute(cmd);\n",
       "    }\n",
       "  }\n",
       "\n",
       "  /**\n",
       "   * Handle when a new output is added\n",
       "   */\n",
       "  function handleAddOutput(event, handle) {\n",
       "    var output_area = handle.output_area;\n",
       "    var output = handle.output;\n",
       "\n",
       "    // limit handleAddOutput to display_data with EXEC_MIME_TYPE content only\n",
       "    if ((output.output_type != \"display_data\") || (!output.data.hasOwnProperty(EXEC_MIME_TYPE))) {\n",
       "      return\n",
       "    }\n",
       "\n",
       "    var toinsert = output_area.element.find(\".\" + CLASS_NAME.split(' ')[0]);\n",
       "\n",
       "    if (output.metadata[EXEC_MIME_TYPE][\"id\"] !== undefined) {\n",
       "      toinsert[toinsert.length - 1].firstChild.textContent = output.data[JS_MIME_TYPE];\n",
       "      // store reference to embed id on output_area\n",
       "      output_area._bokeh_element_id = output.metadata[EXEC_MIME_TYPE][\"id\"];\n",
       "    }\n",
       "    if (output.metadata[EXEC_MIME_TYPE][\"server_id\"] !== undefined) {\n",
       "      var bk_div = document.createElement(\"div\");\n",
       "      bk_div.innerHTML = output.data[HTML_MIME_TYPE];\n",
       "      var script_attrs = bk_div.children[0].attributes;\n",
       "      for (var i = 0; i < script_attrs.length; i++) {\n",
       "        toinsert[toinsert.length - 1].firstChild.setAttribute(script_attrs[i].name, script_attrs[i].value);\n",
       "      }\n",
       "      // store reference to server id on output_area\n",
       "      output_area._bokeh_server_id = output.metadata[EXEC_MIME_TYPE][\"server_id\"];\n",
       "    }\n",
       "  }\n",
       "\n",
       "  function register_renderer(events, OutputArea) {\n",
       "\n",
       "    function append_mime(data, metadata, element) {\n",
       "      // create a DOM node to render to\n",
       "      var toinsert = this.create_output_subarea(\n",
       "        metadata,\n",
       "        CLASS_NAME,\n",
       "        EXEC_MIME_TYPE\n",
       "      );\n",
       "      this.keyboard_manager.register_events(toinsert);\n",
       "      // Render to node\n",
       "      var props = {data: data, metadata: metadata[EXEC_MIME_TYPE]};\n",
       "      render(props, toinsert[toinsert.length - 1]);\n",
       "      element.append(toinsert);\n",
       "      return toinsert\n",
       "    }\n",
       "\n",
       "    /* Handle when an output is cleared or removed */\n",
       "    events.on('clear_output.CodeCell', handleClearOutput);\n",
       "    events.on('delete.Cell', handleClearOutput);\n",
       "\n",
       "    /* Handle when a new output is added */\n",
       "    events.on('output_added.OutputArea', handleAddOutput);\n",
       "\n",
       "    /**\n",
       "     * Register the mime type and append_mime function with output_area\n",
       "     */\n",
       "    OutputArea.prototype.register_mime_type(EXEC_MIME_TYPE, append_mime, {\n",
       "      /* Is output safe? */\n",
       "      safe: true,\n",
       "      /* Index of renderer in `output_area.display_order` */\n",
       "      index: 0\n",
       "    });\n",
       "  }\n",
       "\n",
       "  // register the mime type if in Jupyter Notebook environment and previously unregistered\n",
       "  if (root.Jupyter !== undefined) {\n",
       "    var events = require('base/js/events');\n",
       "    var OutputArea = require('notebook/js/outputarea').OutputArea;\n",
       "\n",
       "    if (OutputArea.prototype.mime_types().indexOf(EXEC_MIME_TYPE) == -1) {\n",
       "      register_renderer(events, OutputArea);\n",
       "    }\n",
       "  }\n",
       "\n",
       "  \n",
       "  if (typeof (root._bokeh_timeout) === \"undefined\" || force === true) {\n",
       "    root._bokeh_timeout = Date.now() + 5000;\n",
       "    root._bokeh_failed_load = false;\n",
       "  }\n",
       "\n",
       "  var NB_LOAD_WARNING = {'data': {'text/html':\n",
       "     \"<div style='background-color: #fdd'>\\n\"+\n",
       "     \"<p>\\n\"+\n",
       "     \"BokehJS does not appear to have successfully loaded. If loading BokehJS from CDN, this \\n\"+\n",
       "     \"may be due to a slow or bad network connection. Possible fixes:\\n\"+\n",
       "     \"</p>\\n\"+\n",
       "     \"<ul>\\n\"+\n",
       "     \"<li>re-rerun `output_notebook()` to attempt to load from CDN again, or</li>\\n\"+\n",
       "     \"<li>use INLINE resources instead, as so:</li>\\n\"+\n",
       "     \"</ul>\\n\"+\n",
       "     \"<code>\\n\"+\n",
       "     \"from bokeh.resources import INLINE\\n\"+\n",
       "     \"output_notebook(resources=INLINE)\\n\"+\n",
       "     \"</code>\\n\"+\n",
       "     \"</div>\"}};\n",
       "\n",
       "  function display_loaded() {\n",
       "    var el = document.getElementById(\"1001\");\n",
       "    if (el != null) {\n",
       "      el.textContent = \"BokehJS is loading...\";\n",
       "    }\n",
       "    if (root.Bokeh !== undefined) {\n",
       "      if (el != null) {\n",
       "        el.textContent = \"BokehJS \" + root.Bokeh.version + \" successfully loaded.\";\n",
       "      }\n",
       "    } else if (Date.now() < root._bokeh_timeout) {\n",
       "      setTimeout(display_loaded, 100)\n",
       "    }\n",
       "  }\n",
       "\n",
       "\n",
       "  function run_callbacks() {\n",
       "    try {\n",
       "      root._bokeh_onload_callbacks.forEach(function(callback) {\n",
       "        if (callback != null)\n",
       "          callback();\n",
       "      });\n",
       "    } finally {\n",
       "      delete root._bokeh_onload_callbacks\n",
       "    }\n",
       "    console.debug(\"Bokeh: all callbacks have finished\");\n",
       "  }\n",
       "\n",
       "  function load_libs(css_urls, js_urls, callback) {\n",
       "    if (css_urls == null) css_urls = [];\n",
       "    if (js_urls == null) js_urls = [];\n",
       "\n",
       "    root._bokeh_onload_callbacks.push(callback);\n",
       "    if (root._bokeh_is_loading > 0) {\n",
       "      console.debug(\"Bokeh: BokehJS is being loaded, scheduling callback at\", now());\n",
       "      return null;\n",
       "    }\n",
       "    if (js_urls == null || js_urls.length === 0) {\n",
       "      run_callbacks();\n",
       "      return null;\n",
       "    }\n",
       "    console.debug(\"Bokeh: BokehJS not loaded, scheduling load and callback at\", now());\n",
       "    root._bokeh_is_loading = css_urls.length + js_urls.length;\n",
       "\n",
       "    function on_load() {\n",
       "      root._bokeh_is_loading--;\n",
       "      if (root._bokeh_is_loading === 0) {\n",
       "        console.debug(\"Bokeh: all BokehJS libraries/stylesheets loaded\");\n",
       "        run_callbacks()\n",
       "      }\n",
       "    }\n",
       "\n",
       "    function on_error() {\n",
       "      console.error(\"failed to load \" + url);\n",
       "    }\n",
       "\n",
       "    for (var i = 0; i < css_urls.length; i++) {\n",
       "      var url = css_urls[i];\n",
       "      const element = document.createElement(\"link\");\n",
       "      element.onload = on_load;\n",
       "      element.onerror = on_error;\n",
       "      element.rel = \"stylesheet\";\n",
       "      element.type = \"text/css\";\n",
       "      element.href = url;\n",
       "      console.debug(\"Bokeh: injecting link tag for BokehJS stylesheet: \", url);\n",
       "      document.body.appendChild(element);\n",
       "    }\n",
       "\n",
       "    for (var i = 0; i < js_urls.length; i++) {\n",
       "      var url = js_urls[i];\n",
       "      var element = document.createElement('script');\n",
       "      element.onload = on_load;\n",
       "      element.onerror = on_error;\n",
       "      element.async = false;\n",
       "      element.src = url;\n",
       "      console.debug(\"Bokeh: injecting script tag for BokehJS library: \", url);\n",
       "      document.head.appendChild(element);\n",
       "    }\n",
       "  };var element = document.getElementById(\"1001\");\n",
       "  if (element == null) {\n",
       "    console.error(\"Bokeh: ERROR: autoload.js configured with elementid '1001' but no matching script tag was found. \")\n",
       "    return false;\n",
       "  }\n",
       "\n",
       "  function inject_raw_css(css) {\n",
       "    const element = document.createElement(\"style\");\n",
       "    element.appendChild(document.createTextNode(css));\n",
       "    document.body.appendChild(element);\n",
       "  }\n",
       "\n",
       "  var js_urls = [\"https://cdn.pydata.org/bokeh/release/bokeh-1.3.4.min.js\", \"https://cdn.pydata.org/bokeh/release/bokeh-widgets-1.3.4.min.js\", \"https://cdn.pydata.org/bokeh/release/bokeh-tables-1.3.4.min.js\", \"https://cdn.pydata.org/bokeh/release/bokeh-gl-1.3.4.min.js\"];\n",
       "  var css_urls = [];\n",
       "\n",
       "  var inline_js = [\n",
       "    function(Bokeh) {\n",
       "      Bokeh.set_log_level(\"info\");\n",
       "    },\n",
       "    \n",
       "    function(Bokeh) {\n",
       "      \n",
       "    },\n",
       "    function(Bokeh) {} // ensure no trailing comma for IE\n",
       "  ];\n",
       "\n",
       "  function run_inline_js() {\n",
       "    \n",
       "    if ((root.Bokeh !== undefined) || (force === true)) {\n",
       "      for (var i = 0; i < inline_js.length; i++) {\n",
       "        inline_js[i].call(root, root.Bokeh);\n",
       "      }if (force === true) {\n",
       "        display_loaded();\n",
       "      }} else if (Date.now() < root._bokeh_timeout) {\n",
       "      setTimeout(run_inline_js, 100);\n",
       "    } else if (!root._bokeh_failed_load) {\n",
       "      console.log(\"Bokeh: BokehJS failed to load within specified timeout.\");\n",
       "      root._bokeh_failed_load = true;\n",
       "    } else if (force !== true) {\n",
       "      var cell = $(document.getElementById(\"1001\")).parents('.cell').data().cell;\n",
       "      cell.output_area.append_execute_result(NB_LOAD_WARNING)\n",
       "    }\n",
       "\n",
       "  }\n",
       "\n",
       "  if (root._bokeh_is_loading === 0) {\n",
       "    console.debug(\"Bokeh: BokehJS loaded, going straight to plotting\");\n",
       "    run_inline_js();\n",
       "  } else {\n",
       "    load_libs(css_urls, js_urls, function() {\n",
       "      console.debug(\"Bokeh: BokehJS plotting callback run at\", now());\n",
       "      run_inline_js();\n",
       "    });\n",
       "  }\n",
       "}(window));"
      ],
      "application/vnd.bokehjs_load.v0+json": "\n(function(root) {\n  function now() {\n    return new Date();\n  }\n\n  var force = true;\n\n  if (typeof root._bokeh_onload_callbacks === \"undefined\" || force === true) {\n    root._bokeh_onload_callbacks = [];\n    root._bokeh_is_loading = undefined;\n  }\n\n  \n\n  \n  if (typeof (root._bokeh_timeout) === \"undefined\" || force === true) {\n    root._bokeh_timeout = Date.now() + 5000;\n    root._bokeh_failed_load = false;\n  }\n\n  var NB_LOAD_WARNING = {'data': {'text/html':\n     \"<div style='background-color: #fdd'>\\n\"+\n     \"<p>\\n\"+\n     \"BokehJS does not appear to have successfully loaded. If loading BokehJS from CDN, this \\n\"+\n     \"may be due to a slow or bad network connection. Possible fixes:\\n\"+\n     \"</p>\\n\"+\n     \"<ul>\\n\"+\n     \"<li>re-rerun `output_notebook()` to attempt to load from CDN again, or</li>\\n\"+\n     \"<li>use INLINE resources instead, as so:</li>\\n\"+\n     \"</ul>\\n\"+\n     \"<code>\\n\"+\n     \"from bokeh.resources import INLINE\\n\"+\n     \"output_notebook(resources=INLINE)\\n\"+\n     \"</code>\\n\"+\n     \"</div>\"}};\n\n  function display_loaded() {\n    var el = document.getElementById(\"1001\");\n    if (el != null) {\n      el.textContent = \"BokehJS is loading...\";\n    }\n    if (root.Bokeh !== undefined) {\n      if (el != null) {\n        el.textContent = \"BokehJS \" + root.Bokeh.version + \" successfully loaded.\";\n      }\n    } else if (Date.now() < root._bokeh_timeout) {\n      setTimeout(display_loaded, 100)\n    }\n  }\n\n\n  function run_callbacks() {\n    try {\n      root._bokeh_onload_callbacks.forEach(function(callback) {\n        if (callback != null)\n          callback();\n      });\n    } finally {\n      delete root._bokeh_onload_callbacks\n    }\n    console.debug(\"Bokeh: all callbacks have finished\");\n  }\n\n  function load_libs(css_urls, js_urls, callback) {\n    if (css_urls == null) css_urls = [];\n    if (js_urls == null) js_urls = [];\n\n    root._bokeh_onload_callbacks.push(callback);\n    if (root._bokeh_is_loading > 0) {\n      console.debug(\"Bokeh: BokehJS is being loaded, scheduling callback at\", now());\n      return null;\n    }\n    if (js_urls == null || js_urls.length === 0) {\n      run_callbacks();\n      return null;\n    }\n    console.debug(\"Bokeh: BokehJS not loaded, scheduling load and callback at\", now());\n    root._bokeh_is_loading = css_urls.length + js_urls.length;\n\n    function on_load() {\n      root._bokeh_is_loading--;\n      if (root._bokeh_is_loading === 0) {\n        console.debug(\"Bokeh: all BokehJS libraries/stylesheets loaded\");\n        run_callbacks()\n      }\n    }\n\n    function on_error() {\n      console.error(\"failed to load \" + url);\n    }\n\n    for (var i = 0; i < css_urls.length; i++) {\n      var url = css_urls[i];\n      const element = document.createElement(\"link\");\n      element.onload = on_load;\n      element.onerror = on_error;\n      element.rel = \"stylesheet\";\n      element.type = \"text/css\";\n      element.href = url;\n      console.debug(\"Bokeh: injecting link tag for BokehJS stylesheet: \", url);\n      document.body.appendChild(element);\n    }\n\n    for (var i = 0; i < js_urls.length; i++) {\n      var url = js_urls[i];\n      var element = document.createElement('script');\n      element.onload = on_load;\n      element.onerror = on_error;\n      element.async = false;\n      element.src = url;\n      console.debug(\"Bokeh: injecting script tag for BokehJS library: \", url);\n      document.head.appendChild(element);\n    }\n  };var element = document.getElementById(\"1001\");\n  if (element == null) {\n    console.error(\"Bokeh: ERROR: autoload.js configured with elementid '1001' but no matching script tag was found. \")\n    return false;\n  }\n\n  function inject_raw_css(css) {\n    const element = document.createElement(\"style\");\n    element.appendChild(document.createTextNode(css));\n    document.body.appendChild(element);\n  }\n\n  var js_urls = [\"https://cdn.pydata.org/bokeh/release/bokeh-1.3.4.min.js\", \"https://cdn.pydata.org/bokeh/release/bokeh-widgets-1.3.4.min.js\", \"https://cdn.pydata.org/bokeh/release/bokeh-tables-1.3.4.min.js\", \"https://cdn.pydata.org/bokeh/release/bokeh-gl-1.3.4.min.js\"];\n  var css_urls = [];\n\n  var inline_js = [\n    function(Bokeh) {\n      Bokeh.set_log_level(\"info\");\n    },\n    \n    function(Bokeh) {\n      \n    },\n    function(Bokeh) {} // ensure no trailing comma for IE\n  ];\n\n  function run_inline_js() {\n    \n    if ((root.Bokeh !== undefined) || (force === true)) {\n      for (var i = 0; i < inline_js.length; i++) {\n        inline_js[i].call(root, root.Bokeh);\n      }if (force === true) {\n        display_loaded();\n      }} else if (Date.now() < root._bokeh_timeout) {\n      setTimeout(run_inline_js, 100);\n    } else if (!root._bokeh_failed_load) {\n      console.log(\"Bokeh: BokehJS failed to load within specified timeout.\");\n      root._bokeh_failed_load = true;\n    } else if (force !== true) {\n      var cell = $(document.getElementById(\"1001\")).parents('.cell').data().cell;\n      cell.output_area.append_execute_result(NB_LOAD_WARNING)\n    }\n\n  }\n\n  if (root._bokeh_is_loading === 0) {\n    console.debug(\"Bokeh: BokehJS loaded, going straight to plotting\");\n    run_inline_js();\n  } else {\n    load_libs(css_urls, js_urls, function() {\n      console.debug(\"Bokeh: BokehJS plotting callback run at\", now());\n      run_inline_js();\n    });\n  }\n}(window));"
     },
     "metadata": {},
     "output_type": "display_data"
    }
   ],
   "source": [
    "import pandas as pd\n",
    "import numpy as np\n",
    "from bokeh.plotting import figure, output_notebook, show\n",
    "from bokeh.models import ColumnDataSource, HoverTool\n",
    "from datetime import datetime\n",
    "from bokeh.palettes import Spectral3\n",
    "from tabulate import tabulate\n",
    "from bokeh.transform import factor_cmap\n",
    "import js2py\n",
    "import math\n",
    "from concurrent.futures import ProcessPoolExecutor as PoolExecutor\n",
    "import requests\n",
    "\n",
    "# convenience\n",
    "output_notebook()\n",
    "pd.set_option('display.max_colwidth', -1)"
   ]
  },
  {
   "cell_type": "markdown",
   "metadata": {},
   "source": [
    "### Globals"
   ]
  },
  {
   "cell_type": "code",
   "execution_count": 3,
   "metadata": {},
   "outputs": [],
   "source": [
    "API = 'https://explorer.helium.foundation/api'\n",
    "NUM_CHALLENGES = 100\n",
    "NUM_BLOCKS = 100\n",
    "TOP = 10\n",
    "animalhash = js2py.require('angry-purple-tiger')\n",
    "MAX_WORKERS = 8"
   ]
  },
  {
   "cell_type": "markdown",
   "metadata": {},
   "source": [
    "### Functions"
   ]
  },
  {
   "cell_type": "code",
   "execution_count": 4,
   "metadata": {},
   "outputs": [],
   "source": [
    "def latest_height(api):\n",
    "    '''\n",
    "    Get latest block height\n",
    "    '''\n",
    "    r = requests.get(f'{api}/blocks?limit=1')\n",
    "    if r.status_code == 200:\n",
    "        data = r.json().get('data')\n",
    "        return data[0]['height']\n",
    "    raise Exception('Unable to get latest height')\n",
    "\n",
    "def get_blocks(api, num_blocks=100):\n",
    "    '''\n",
    "    Get past `NUM_BLOCKS` number of num_blocks\n",
    "    '''\n",
    "    r = requests.get(f'{api}/blocks?limit={num_blocks}')\n",
    "    if r.status_code == 200:\n",
    "        data = r.json().get('data')\n",
    "        assert len(data) == num_blocks\n",
    "        return data\n",
    "    raise Exception('Unable to get blocks')\n",
    "\n",
    "def get_txn(api, block_height):\n",
    "    '''\n",
    "    Get transactions for given block_height\n",
    "    Called from `get_transactions`\n",
    "    '''\n",
    "    r = requests.get(f'{api}/blocks/{block_height}/transactions')\n",
    "    if r.status_code == 200:\n",
    "        data = r.json().get('data')\n",
    "        return data\n",
    "    raise Exception('Unable to get txns')\n",
    "\n",
    "def get_challenges(api, num_challenges=100):\n",
    "    '''\n",
    "    Get past `LIMIT` number of challenges\n",
    "    '''\n",
    "    r = requests.get(f'{api}/challenges?limit={num_challenges}')\n",
    "    if r.status_code == 200:\n",
    "        data = r.json().get('data')\n",
    "        assert len(data) == num_challenges\n",
    "        return accumulate_results(data)\n",
    "    raise Exception('Unable to get challenges')\n",
    "\n",
    "def get_transactions(start, num_blocks=100):\n",
    "    '''\n",
    "    Get transactions for each block\n",
    "    Starting from block height `LATEST_HEIGHT` by default and ending at start - num_blocks\n",
    "    '''\n",
    "    heights = range(start, start-num_blocks, -1)\n",
    "    with PoolExecutor(max_workers=MAX_WORKERS) as executor:\n",
    "        txns = {}\n",
    "        for height, i in zip(heights, executor.map(get_txn, heights)):\n",
    "            txns[height] = len(i)\n",
    "    return txns\n",
    "\n",
    "def get_hotspots(api):\n",
    "    '''\n",
    "    Get hotspots from the api\n",
    "    '''\n",
    "    r = requests.get(f'{api}/hotspots')\n",
    "    if r.status_code == 200:\n",
    "        data = r.json().get('data')\n",
    "        return data\n",
    "    raise Exception('Unable to get hotspots')\n",
    "\n",
    "def get_accounts(api):\n",
    "    '''\n",
    "    Get accounts from the api\n",
    "    '''\n",
    "    r = requests.get(f'{api}/accounts')\n",
    "    if r.status_code == 200:\n",
    "        data = r.json().get('data')\n",
    "        return data\n",
    "    raise Exception('Unable to get accounts')\n",
    "\n",
    "def accumulate_results(challenges):\n",
    "    '''\n",
    "    Return a dict list of challenge_id, num_successes, num_failures and num_untested\n",
    "    '''\n",
    "    results = []\n",
    "    for challenge in challenges:\n",
    "        path = challenge['pathElements']\n",
    "\n",
    "        result = [element['result'] for element in path]\n",
    "        length = len(result)\n",
    "        num_untested = result.count('untested')\n",
    "\n",
    "        gray = True if num_untested == length else False\n",
    "\n",
    "        if gray:\n",
    "            num_successes = 0\n",
    "            num_failures = 0\n",
    "            num_untested = 0\n",
    "            dud = 1\n",
    "            success = 0\n",
    "        else:\n",
    "            num_successes = result.count('success')\n",
    "            num_failures = result.count('failure')\n",
    "            num_untested = num_untested\n",
    "            dud = 0\n",
    "            success = 1 if num_successes == length else 0\n",
    "        results.append({'id': challenge['id'],\n",
    "                        'num_successes': num_successes,\n",
    "                        'num_failures': num_failures,\n",
    "                        'num_untested': num_untested,\n",
    "                        'dud': dud,\n",
    "                        'success': success})\n",
    "    return results\n"
   ]
  },
  {
   "cell_type": "markdown",
   "metadata": {},
   "source": [
    "### Block Stats"
   ]
  },
  {
   "cell_type": "code",
   "execution_count": 5,
   "metadata": {},
   "outputs": [],
   "source": [
    "blocks = get_blocks(API, NUM_BLOCKS)"
   ]
  },
  {
   "cell_type": "code",
   "execution_count": 6,
   "metadata": {},
   "outputs": [],
   "source": [
    "df = pd.DataFrame(blocks)"
   ]
  },
  {
   "cell_type": "code",
   "execution_count": 7,
   "metadata": {},
   "outputs": [
    {
     "name": "stdout",
     "output_type": "stream",
     "text": [
      "Average txns past 100 blocks: 4.92\n"
     ]
    }
   ],
   "source": [
    "print(f'Average txns past {NUM_BLOCKS} blocks: {df[\"txns\"].mean()}')"
   ]
  },
  {
   "cell_type": "code",
   "execution_count": 8,
   "metadata": {},
   "outputs": [
    {
     "name": "stdout",
     "output_type": "stream",
     "text": [
      "Average block time past 100 blocks: 1565637176.02\n"
     ]
    }
   ],
   "source": [
    "print(f'Average block time past {NUM_BLOCKS} blocks: {df[\"time\"].mean()}')"
   ]
  },
  {
   "cell_type": "code",
   "execution_count": 9,
   "metadata": {},
   "outputs": [
    {
     "name": "stdout",
     "output_type": "stream",
     "text": [
      "Block with max txns for past 100 blocks: \n",
      "+--------+----------------------------------------------------+\n",
      "| hash   | 1zSEn1GybDMXrF9QYDPgar4jjgsGh2aYX2xP5mQm1mfhvfUgTj |\n",
      "| height | 14383                                              |\n",
      "| round  | 14383                                              |\n",
      "| time   | 1565641854                                         |\n",
      "| txns   | 14                                                 |\n",
      "+--------+----------------------------------------------------+\n"
     ]
    }
   ],
   "source": [
    "max_txns = tabulate(df.max().reset_index(),tablefmt='psql', showindex='never')\n",
    "print(f\"Block with max txns for past {NUM_BLOCKS} blocks: \\n{max_txns}\")"
   ]
  },
  {
   "cell_type": "code",
   "execution_count": 10,
   "metadata": {},
   "outputs": [
    {
     "data": {
      "text/html": [
       "\n",
       "\n",
       "\n",
       "\n",
       "\n",
       "\n",
       "  <div class=\"bk-root\" id=\"7199dcf8-d66d-4e56-986d-ace9dcf7561b\" data-root-id=\"1003\"></div>\n"
      ]
     },
     "metadata": {},
     "output_type": "display_data"
    },
    {
     "data": {
      "application/javascript": [
       "(function(root) {\n",
       "  function embed_document(root) {\n",
       "    \n",
       "  var docs_json = {\"a88234d4-222f-4446-88e0-a35d3d955980\":{\"roots\":{\"references\":[{\"attributes\":{\"below\":[{\"id\":\"1012\",\"type\":\"LinearAxis\"}],\"center\":[{\"id\":\"1016\",\"type\":\"Grid\"},{\"id\":\"1021\",\"type\":\"Grid\"}],\"left\":[{\"id\":\"1017\",\"type\":\"LinearAxis\"}],\"renderers\":[{\"id\":\"1038\",\"type\":\"GlyphRenderer\"}],\"title\":{\"id\":\"1043\",\"type\":\"Title\"},\"toolbar\":{\"id\":\"1028\",\"type\":\"Toolbar\"},\"x_range\":{\"id\":\"1004\",\"type\":\"DataRange1d\"},\"x_scale\":{\"id\":\"1008\",\"type\":\"LinearScale\"},\"y_range\":{\"id\":\"1006\",\"type\":\"DataRange1d\"},\"y_scale\":{\"id\":\"1010\",\"type\":\"LinearScale\"}},\"id\":\"1003\",\"subtype\":\"Figure\",\"type\":\"Plot\"},{\"attributes\":{\"callback\":null},\"id\":\"1006\",\"type\":\"DataRange1d\"},{\"attributes\":{\"ticker\":{\"id\":\"1013\",\"type\":\"BasicTicker\"}},\"id\":\"1016\",\"type\":\"Grid\"},{\"attributes\":{\"callback\":null},\"id\":\"1004\",\"type\":\"DataRange1d\"},{\"attributes\":{},\"id\":\"1023\",\"type\":\"WheelZoomTool\"},{\"attributes\":{},\"id\":\"1008\",\"type\":\"LinearScale\"},{\"attributes\":{\"axis_label\":\"NumTxns\",\"formatter\":{\"id\":\"1044\",\"type\":\"BasicTickFormatter\"},\"ticker\":{\"id\":\"1018\",\"type\":\"BasicTicker\"}},\"id\":\"1017\",\"type\":\"LinearAxis\"},{\"attributes\":{},\"id\":\"1018\",\"type\":\"BasicTicker\"},{\"attributes\":{},\"id\":\"1010\",\"type\":\"LinearScale\"},{\"attributes\":{\"dimension\":1,\"ticker\":{\"id\":\"1018\",\"type\":\"BasicTicker\"}},\"id\":\"1021\",\"type\":\"Grid\"},{\"attributes\":{},\"id\":\"1049\",\"type\":\"Selection\"},{\"attributes\":{\"callback\":null,\"data\":{\"hash\":[\"12RvmvyaNzRDdpc7xZddBuwsDr97v6QDaASr14CmbJnAC1bZVct\",\"12wAVVkBwKqMY91XBdbJaRm2KMtxrUF7JCGcv8EvKDqz7mdwCGq\",\"12bVF8h4GhBzAXWxxarw8UZu67HjLj9YeYnyYjzBH2VwDgHJvfa\",\"12R81XkKjYGQuZz7nD1D6bw8tCiDryQzrxv1RFor77Wv93KgMye\",\"12dWY2vctYceBNihDRUkRTM7aerc4k6EdrmYMrVN6ybPr5UJ4dm\",\"12mMFq2tCy7o3V1ST3DphXe9q9J7qSa6L9dARyiwujmthZcLx5G\",\"12qypYEfkn4WLc8E77CbjbFabUoqDTxei6bXcXjGCyBGZFBNp9e\",\"1jb5rSHBs7vJD8MjDbKQWEhEkgMTxqtnv1ZpHQDupXWrpuWxCD\",\"1z5k9iamiiMTLabWAFqmmDSrgbzii2Ge48QbbPcdt8nUWkwm2Y\",\"12SF7oWnebw6y8QFXQdFwQNk1GAvN42Sy1gQinwXkDop5RdvdNb\",\"1ymnx1Ni9Peo5TFbf4uY1ngBGRvzp3vP4QpJ6LgugWSdCqqBxj\",\"1ayG5RxyrD4py2G3gNgqKXAHnDmWHXc4Js5YN16FHXYz8RZdB8\",\"1FQAHMtQNmVaRSKb9iCV2gEDUHvfYF3S6WQXWEESe2uJBA6Eiw\",\"118F4XrwkuDqfqzbssHypq6iQuq2duApVjsY8wPdf3kPH7JaDa\",\"12Km7z6Kx8u8kh1ysMhNRVn8A4SkJqcEkSCreV3JrS69ikP2vMd\",\"1cCPejKd6JipucysLfkw5TX7Ght2J1X6Y4y2wyt1H6DHoVfoM4\",\"1t1mVBtD3PZmfertd4P3ZQJpzAf1ibittRQNWpduob1qKsM55e\",\"128GTQ9rTEWR2fKknwdr4mQREquXoJzXPgepSUbJckcKWcbpPVD\",\"1xmn4hZPdctpwkaqakUYJwt8U4WpLEiHtxY84rndfeGLvtjjcA\",\"1b6PoompA9d4q9CbkuNxsigoFrRvVAbodAANofX1cGvXUESzhs\",\"12CGkRvTGjrAnRyVXkxYsF8uyBxAi1yPrD8kQQxuydAEQB6mXXz\",\"12ohDh5jvtrHwdwxrWrnWGZwiwhjjwP4JNbCvjHc2uVyRsS1sjF\",\"1vBB6EarcTNJpKNG7sQ1wmuzFZwJgvkovoRJ9PrxZBkDPDifcp\",\"1u5VfVQKMSpQNs1JmCqMCh9thyPmcJqMGAfbgoQXjHMWnW9CJP\",\"1RH92cfBwJneYTgHsQ4CwrQsWFWNoXh5adfGaxV1xV28K41Gq1\",\"1pKwPpsiKviz9tzYq7joGBtSkCNmF2nRA3hVLtSVNKAFquZ1cZ\",\"1uZVy5AvvK8WrCPHb2QQm6XQU1MBd3kApHyQs33jMZfq5776va\",\"12EU8DVtKCQe6TE9UepmheVoJtmxGLDYeySo53pFUbAWfnUhz9r\",\"1wV3RBmunvzrJvu6MCQnF9LFyYLEb75RedNCCankgGNBqVFgVM\",\"1U1b8BGVe4BdbNKhBDV9DkPsMzvoLDJgVtdrrqYQwD3q7srrNz\",\"1yMMsPXatZXKqAc57wfBE2oNhyjjB5UKFM3ikm7Gqoj4JyDqLh\",\"12d5rN3JSYctxyANK7Yp6VHARkUSrKXpisTVQWpBEvwya3t1fFp\",\"12oMPiYnPq2c8JMiZjx1D3jbqRBoQcQTTMLheJ1CYwxng3ubYuj\",\"12oaxj3jt58UW45oekNvkcmsU36qpnwZs352MdETEpWfkyjZqBJ\",\"12Zbbjq7caMo1EdTbL3baxf6aSSo1o6AKw69LauhoWAN3bdETAQ\",\"1LfjZFjuusA46zTysaByudBNKshup5KG1JVkrDv676C7mNHo7D\",\"123Hi8uySRAyx7Fa6S29Ah3ueDoww3MdZBsZRNTKTkoynY1vdcB\",\"1cz1ezbGE8mNozRoASnFtL8Gorq8TKJPXxZUmu1sAgFypATjFq\",\"12AGS1bQMNCgjA1MwZ7bxh13Epeo1nn5uniJgSFcue3quNgRYgS\",\"14z8JgJ7qb9tnozWSafeokrKgzFZpSJff2febSCnJqg5g7J9kD\",\"12dkitvkR6K9Zt7Ms3nRs6qTcEL31Fcdv1qqut52qtRK6t6cwJU\",\"12XkhMcvsznjKrvyjhszQ8cZLqT88rgsWRr5zTbz8skrwgr7vSk\",\"1Kzaap1k5yTcDMrLCM4ZceFAtxzXzsdcownng4EFJZqRzaAy66\",\"12HHABZPdVvm2V2DiSuPyRtqe6kYmi1qSy9VjK6wb6BdzUycvH1\",\"1zSEn1GybDMXrF9QYDPgar4jjgsGh2aYX2xP5mQm1mfhvfUgTj\",\"1FdMzwUuCDsvozFmWYKFBvttf4mVxR8ezNUEN4FkjnXJTAxMSW\",\"1i4bayeRFdsFqF34983GQX1ej9VNY5nHqLArKpURnrkR4qQBnq\",\"12KRQmbhSNfAzcEmPZ1LFeCJ8vVZNsVTwtQqB4kfazanuq7Uzx\",\"129dgUzonFPcT2P6jxbuzA7wQUMuK1KfNVH61TepFrc83njUxR7\",\"1ECNWLbS7FSZTGGmBRcfrzaPTFRjwxfYX3CpitX16fB1C77cVF\",\"1pEfJ3K6VBQTPQNAmRvaFmDgE8AiLKccBxYdJfLgwCtHXi243b\",\"1urL2NMmmys3xVUh5cdRVvQBVavn3fir5tB1DguaX6Yyiruko5\",\"1Fi6Nc3Wn618sA7QA6Hg5YqrwyCvCbSsRRq2xiaSzUzirNeZSW\",\"1w6PMPFu1CwCN9p88cn6YF9XrNm6E4H2PV62yM3nN1xm58eMcs\",\"1Lz7K6mJWgwT5m39otQCKUDAcicm79aXExoFRA77rNPHVSXXTY\",\"1a4SGmbH1G82uRDgdJeBuz9kikgUkmo1E8FD96ysKJBP8oK6Ar\",\"1jNXaoyQnce3CepA58B47o2M7HnVSQjRkiPG9WrnfJazM6FjjW\",\"126nMZUFiV67nAxYMiPF84rM7WDzzC2i6Dn7J8Tgeon8rhiozxG\",\"12mdXTdhLNQoic7v2USfJdSDrHUgAY36esGMKFbPNgyqWUgEYoJ\",\"1Ke1hdq5wAcB7hS63PQTPXWjnafVYzbLtLjqK8Qsr7BjqGAQtZ\",\"12mPCPszpavSihGQzn8rYzjUt3GapoB34SUpbEufZKx71NTR5JK\",\"1kPyc2vwbCDhM1GQatti6kuoF4KPBRfeUS4CU9YZH8yPgM4HGh\",\"1cq1SCsB73suVLhHhyTvGVhp4sSdPMxSfk1KHEUg3a5c8JNiEC\",\"12s4G3cSMga2A4YEY3fWaMX39GfsN81K3zFNukSZXXsZfjtAYSp\",\"1YybrX2sq7gQFCSZcpAqNzWuwiVmG6btbr5NcpAMTApM7G76dr\",\"12CkYqMhnbzK1Lm6j5ZA9dZqQwNGsQDq8oiYY4sfJVbigZKthaG\",\"1qKpoFwQH14Xz3LyWnbgqi4JywzYvUkTcK6DkqqYuRYKCepGh\",\"12r1awHmhKwuuHyPCTY6kF2pnWyzJEXEYkPYtSUXxQyQAz8j6gK\",\"17eoFjqFL59xL7N9eiJePf9zqms3uhVLqz7KBKejD2E8v2Muxu\",\"124C3BSK9t6f9knTcuKtHtvyshU82j8v2Fb8TmdyK2BPxLYQYG1\",\"12c6yADwkQjxuZGqQb4B5ga3kzELRVZiXKSBMALV4fKxtvLfM2k\",\"1BuwqekQdGJ4xEK1paspeF3B9c4bfcDf6bdQfdwLaLscsYozfU\",\"1jbwzawfN7vpKuEagW11QQJy94SzLcyyHCZuhnDx2gcreBDkJE\",\"12h1r7FCH18hszLoyQWQPDjLjaGQMQazAicSHTerRTzDNauNGUa\",\"1WZ4xHxyv1Ups6KjeuRMNGubnvytTy7f1g4Fw6Anr4fG7ejU5M\",\"1UhsCt763RbCd2MREkgSn7UhXR6xGfTDiAKNQD6MW2LaBQKmC5\",\"1B5Ny5iaUhyN5MEp3Uigwk2rWixNqDK3frYbdv3gmvWYjK5m1V\",\"1Kch5rTeSaXfEX7GczmhiHxxEjQVCunttF7e6SXYMCvZ5WDnyG\",\"1TpG4PM8KgMHninrDLBdqgjvXMWLwdwmeQx3kxSipGgPTPEeci\",\"1n4trt7354bCjS9vT6MhhJxKtapkoty5QbXw6wdxb2GnZQo2mR\",\"1i3StTx7GSxzU3Q96oUMizgCuPCMbNPc5Gks5WWGhcCJS3U2oX\",\"16cNTMhrpANBWeHthQhS8jtn61269pCRC4ZvbDhsMpZzcAZx2Z\",\"1Urf7oBYMNc3u7GqiFMx6ysuYSznjqiCRs3LfRNfgJPa7aLemz\",\"1dCAa6UqAJx1bNrAn1wo3T6RFtL5P3HW7babiSFmu1v78RFQzQ\",\"1tHYQVnhAyYn6DUscbWJRkhYa3YTYmYiM6CeqZsyiu5XbuHP18\",\"1sepPwZWh1YjvqVHBNLWU9MqoVSdMX5ffhqZAdZbSRZFrFvfJ7\",\"1bopoz17EZggEHSdNzdwTvzJbbQJh3S7VETxfJT6yCgKTrGYtK\",\"13Q1EtBmxJY9jhEfFvyWMQL6DFw8vUqFgrzHxMDEQx31k7o1Cs\",\"12GrN5jBYSbVzrf91Sf6VuA3KqnH9GHjaVGWAvMdZmgUty945Es\",\"1mmidrVcN1jG394ADAwhiEQ2FbZ1gxwuAQccYPCgcLrmfNFBsX\",\"1LVTQa8c716gCapt9fDp3CBDk3zrQ9T4Nhfq2hMJRXTiGXocJG\",\"12obM8piDXVgY48veTbCFLUzU8JA9Q4cLmRFz7SF8FGS6rE5ykg\",\"1KaRM9uB9XgHUGYbRN9diBVmSnrzDQhdH8qW3KU8oFhtiZQ5rM\",\"1qarJzWCYbKpgHvQyCGyBNnvsLDYJSjYpKgFsf7oxrqvTzezoH\",\"129sHnVw3jNMLDRvDzLdZrJALzroQ84U2vyx1DKi3LHzCr1U4GU\",\"19PRyN4CJiRQN2yKc3oK4bb4ibHC944aA76XqdT9QfzLaxyinr\",\"121k8mcSe7ePz4WYp5btmLSctZp6N6BTkjECmdcXHusA3SfzCc5\",\"1eNnAo5KYkaykL27RrbDaFmC1j9erBdb2UkeBSDaiwgMtMJvxB\",\"13HX1kR6QngMpHXPV5GJ8eynh8Hr67vYA35bJ15xQyk93VivJ2\",\"1298ofqXMjTk5Ztb3V4rrUdWgKQgWJZEPdh9mwko92DSRkfgDEg\"],\"height\":[14383,14382,14381,14380,14379,14378,14377,14376,14375,14374,14373,14372,14371,14370,14369,14368,14367,14366,14365,14364,14363,14362,14361,14360,14359,14358,14357,14356,14355,14354,14353,14352,14351,14350,14349,14348,14347,14346,14345,14344,14343,14342,14341,14340,14339,14338,14337,14336,14335,14334,14333,14332,14331,14330,14329,14328,14327,14326,14325,14324,14323,14322,14321,14320,14319,14318,14317,14316,14315,14314,14313,14312,14311,14310,14309,14308,14307,14306,14305,14304,14303,14302,14301,14300,14299,14298,14297,14296,14295,14294,14293,14292,14291,14290,14289,14288,14287,14286,14285,14284],\"index\":[0,1,2,3,4,5,6,7,8,9,10,11,12,13,14,15,16,17,18,19,20,21,22,23,24,25,26,27,28,29,30,31,32,33,34,35,36,37,38,39,40,41,42,43,44,45,46,47,48,49,50,51,52,53,54,55,56,57,58,59,60,61,62,63,64,65,66,67,68,69,70,71,72,73,74,75,76,77,78,79,80,81,82,83,84,85,86,87,88,89,90,91,92,93,94,95,96,97,98,99],\"round\":[14383,14382,14381,14380,14379,14378,14377,14376,14375,14374,14373,14372,14371,14370,14369,14368,14367,14366,14365,14364,14363,14362,14361,14360,14359,14358,14357,14356,14355,14354,14353,14352,14351,14350,14349,14348,14347,14346,14345,14344,14343,14342,14341,14340,14339,14338,14337,14336,14335,14334,14333,14332,14331,14330,14329,14328,14327,14326,14325,14324,14323,14322,14321,14320,14319,14318,14317,14316,14315,14314,14313,14312,14311,14310,14309,14308,14307,14306,14305,14304,14303,14302,14301,14300,14299,14298,14297,14296,14295,14294,14293,14292,14291,14290,14289,14288,14287,14286,14285,14284],\"time\":[1565641854,1565641794,1565641734,1565641633,1565641559,1565641499,1565641391,1565641214,1565641122,1565640987,1565640908,1565640805,1565640745,1565640682,1565640582,1565640488,1565640376,1565640287,1565640153,1565640059,1565639950,1565639835,1565639702,1565639537,1565639397,1565639328,1565639256,1565639196,1565639107,1565639038,1565638978,1565638908,1565638848,1565638786,1565638684,1565638624,1565638564,1565638449,1565638389,1565638315,1565638211,1565638097,1565637988,1565637898,1565637780,1565637696,1565637485,1565637360,1565637279,1565637187,1565637105,1565637045,1565636946,1565636875,1565636763,1565636623,1565636468,1565636379,1565636279,1565636081,1565635921,1565635861,1565635780,1565635698,1565635638,1565635578,1565635485,1565635425,1565635365,1565635288,1565635228,1565635143,1565635083,1565635006,1565634896,1565634703,1565634591,1565634519,1565634459,1565634384,1565634324,1565634264,1565634181,1565634076,1565634008,1565633921,1565633800,1565633730,1565633561,1565633446,1565633386,1565633324,1565633216,1565633086,1565633007,1565632947,1565632841,1565632781,1565632721,1565632623],\"txns\":[2,5,4,6,9,3,9,3,8,6,2,3,2,5,3,2,5,5,2,4,5,8,8,11,3,3,8,4,2,7,4,1,3,2,10,3,3,12,4,7,1,10,7,2,3,1,8,2,1,4,4,0,6,5,4,10,6,5,4,10,10,2,5,8,1,4,6,3,5,10,3,3,9,5,8,14,2,1,2,8,1,0,7,3,0,6,3,6,9,9,6,3,7,7,4,5,9,0,4,5]},\"selected\":{\"id\":\"1049\",\"type\":\"Selection\"},\"selection_policy\":{\"id\":\"1050\",\"type\":\"UnionRenderers\"}},\"id\":\"1002\",\"type\":\"ColumnDataSource\"},{\"attributes\":{\"active_drag\":\"auto\",\"active_inspect\":\"auto\",\"active_multi\":null,\"active_scroll\":\"auto\",\"active_tap\":\"auto\",\"tools\":[{\"id\":\"1022\",\"type\":\"PanTool\"},{\"id\":\"1023\",\"type\":\"WheelZoomTool\"},{\"id\":\"1024\",\"type\":\"BoxZoomTool\"},{\"id\":\"1025\",\"type\":\"SaveTool\"},{\"id\":\"1026\",\"type\":\"ResetTool\"},{\"id\":\"1027\",\"type\":\"HelpTool\"},{\"id\":\"1040\",\"type\":\"HoverTool\"}]},\"id\":\"1028\",\"type\":\"Toolbar\"},{\"attributes\":{},\"id\":\"1044\",\"type\":\"BasicTickFormatter\"},{\"attributes\":{\"bottom_units\":\"screen\",\"fill_alpha\":{\"value\":0.5},\"fill_color\":{\"value\":\"lightgrey\"},\"left_units\":\"screen\",\"level\":\"overlay\",\"line_alpha\":{\"value\":1.0},\"line_color\":{\"value\":\"black\"},\"line_dash\":[4,4],\"line_width\":{\"value\":2},\"render_mode\":\"css\",\"right_units\":\"screen\",\"top_units\":\"screen\"},\"id\":\"1048\",\"type\":\"BoxAnnotation\"},{\"attributes\":{\"data_source\":{\"id\":\"1002\",\"type\":\"ColumnDataSource\"},\"glyph\":{\"id\":\"1036\",\"type\":\"VBar\"},\"hover_glyph\":null,\"muted_glyph\":null,\"nonselection_glyph\":{\"id\":\"1037\",\"type\":\"VBar\"},\"selection_glyph\":null,\"view\":{\"id\":\"1039\",\"type\":\"CDSView\"}},\"id\":\"1038\",\"type\":\"GlyphRenderer\"},{\"attributes\":{\"source\":{\"id\":\"1002\",\"type\":\"ColumnDataSource\"}},\"id\":\"1039\",\"type\":\"CDSView\"},{\"attributes\":{},\"id\":\"1046\",\"type\":\"BasicTickFormatter\"},{\"attributes\":{\"text\":\"\"},\"id\":\"1043\",\"type\":\"Title\"},{\"attributes\":{\"callback\":null,\"tooltips\":[[\"height\",\"@height\"],[\"txns\",\"@txns\"]]},\"id\":\"1040\",\"type\":\"HoverTool\"},{\"attributes\":{},\"id\":\"1013\",\"type\":\"BasicTicker\"},{\"attributes\":{\"fill_color\":{\"value\":\"#1f77b4\"},\"line_color\":{\"value\":\"#1f77b4\"},\"top\":{\"field\":\"txns\"},\"width\":{\"value\":0.8},\"x\":{\"field\":\"height\"}},\"id\":\"1036\",\"type\":\"VBar\"},{\"attributes\":{\"overlay\":{\"id\":\"1048\",\"type\":\"BoxAnnotation\"}},\"id\":\"1024\",\"type\":\"BoxZoomTool\"},{\"attributes\":{\"axis_label\":\"Txns/Block\",\"formatter\":{\"id\":\"1046\",\"type\":\"BasicTickFormatter\"},\"ticker\":{\"id\":\"1013\",\"type\":\"BasicTicker\"}},\"id\":\"1012\",\"type\":\"LinearAxis\"},{\"attributes\":{},\"id\":\"1026\",\"type\":\"ResetTool\"},{\"attributes\":{},\"id\":\"1022\",\"type\":\"PanTool\"},{\"attributes\":{},\"id\":\"1027\",\"type\":\"HelpTool\"},{\"attributes\":{\"fill_alpha\":{\"value\":0.1},\"fill_color\":{\"value\":\"#1f77b4\"},\"line_alpha\":{\"value\":0.1},\"line_color\":{\"value\":\"#1f77b4\"},\"top\":{\"field\":\"txns\"},\"width\":{\"value\":0.8},\"x\":{\"field\":\"height\"}},\"id\":\"1037\",\"type\":\"VBar\"},{\"attributes\":{},\"id\":\"1025\",\"type\":\"SaveTool\"},{\"attributes\":{},\"id\":\"1050\",\"type\":\"UnionRenderers\"}],\"root_ids\":[\"1003\"]},\"title\":\"Bokeh Application\",\"version\":\"1.3.4\"}};\n",
       "  var render_items = [{\"docid\":\"a88234d4-222f-4446-88e0-a35d3d955980\",\"roots\":{\"1003\":\"7199dcf8-d66d-4e56-986d-ace9dcf7561b\"}}];\n",
       "  root.Bokeh.embed.embed_items_notebook(docs_json, render_items);\n",
       "\n",
       "  }\n",
       "  if (root.Bokeh !== undefined) {\n",
       "    embed_document(root);\n",
       "  } else {\n",
       "    var attempts = 0;\n",
       "    var timer = setInterval(function(root) {\n",
       "      if (root.Bokeh !== undefined) {\n",
       "        embed_document(root);\n",
       "        clearInterval(timer);\n",
       "      }\n",
       "      attempts++;\n",
       "      if (attempts > 100) {\n",
       "        console.log(\"Bokeh: ERROR: Unable to run BokehJS code because BokehJS library is missing\");\n",
       "        clearInterval(timer);\n",
       "      }\n",
       "    }, 10, root)\n",
       "  }\n",
       "})(window);"
      ],
      "application/vnd.bokehjs_exec.v0+json": ""
     },
     "metadata": {
      "application/vnd.bokehjs_exec.v0+json": {
       "id": "1003"
      }
     },
     "output_type": "display_data"
    }
   ],
   "source": [
    "source = ColumnDataSource(df)\n",
    "p = figure()\n",
    "\n",
    "p.vbar(x='height', top='txns', width=0.8, source=source)\n",
    "hover = HoverTool(tooltips=[('height', '@height'), ('txns', '@txns')])\n",
    "p.add_tools(hover)\n",
    "p.xaxis.axis_label = \"Txns/Block\"\n",
    "p.yaxis.axis_label = \"NumTxns\"\n",
    "\n",
    "show(p)"
   ]
  },
  {
   "cell_type": "markdown",
   "metadata": {},
   "source": [
    "### Hotspot Stats"
   ]
  },
  {
   "cell_type": "code",
   "execution_count": 11,
   "metadata": {},
   "outputs": [],
   "source": [
    "hotspots = get_hotspots(API)"
   ]
  },
  {
   "cell_type": "code",
   "execution_count": 12,
   "metadata": {},
   "outputs": [],
   "source": [
    "df = pd.DataFrame(hotspots)\n",
    "df['name'] = df.apply(lambda row: '-'.join(animalhash(row.address).lower().split()), axis=1)"
   ]
  },
  {
   "cell_type": "code",
   "execution_count": 13,
   "metadata": {},
   "outputs": [
    {
     "name": "stdout",
     "output_type": "stream",
     "text": [
      "Top 10 scoring hotspots:\n"
     ]
    },
    {
     "data": {
      "text/html": [
       "<div>\n",
       "<style scoped>\n",
       "    .dataframe tbody tr th:only-of-type {\n",
       "        vertical-align: middle;\n",
       "    }\n",
       "\n",
       "    .dataframe tbody tr th {\n",
       "        vertical-align: top;\n",
       "    }\n",
       "\n",
       "    .dataframe thead th {\n",
       "        text-align: right;\n",
       "    }\n",
       "</style>\n",
       "<table border=\"1\" class=\"dataframe\">\n",
       "  <thead>\n",
       "    <tr style=\"text-align: right;\">\n",
       "      <th></th>\n",
       "      <th>name</th>\n",
       "      <th>score</th>\n",
       "    </tr>\n",
       "  </thead>\n",
       "  <tbody>\n",
       "    <tr>\n",
       "      <th>111</th>\n",
       "      <td>magic-carob-quail</td>\n",
       "      <td>0.9898</td>\n",
       "    </tr>\n",
       "    <tr>\n",
       "      <th>8</th>\n",
       "      <td>beautiful-onyx-platypus</td>\n",
       "      <td>0.9390</td>\n",
       "    </tr>\n",
       "    <tr>\n",
       "      <th>128</th>\n",
       "      <td>mean-alabaster-piranha</td>\n",
       "      <td>0.9384</td>\n",
       "    </tr>\n",
       "    <tr>\n",
       "      <th>98</th>\n",
       "      <td>delightful-stone-beetle</td>\n",
       "      <td>0.9353</td>\n",
       "    </tr>\n",
       "    <tr>\n",
       "      <th>125</th>\n",
       "      <td>mini-currant-lizard</td>\n",
       "      <td>0.9124</td>\n",
       "    </tr>\n",
       "    <tr>\n",
       "      <th>127</th>\n",
       "      <td>mythical-tin-hawk</td>\n",
       "      <td>0.9058</td>\n",
       "    </tr>\n",
       "    <tr>\n",
       "      <th>55</th>\n",
       "      <td>shambolic-rusty-cyborg</td>\n",
       "      <td>0.9010</td>\n",
       "    </tr>\n",
       "    <tr>\n",
       "      <th>121</th>\n",
       "      <td>joyous-burgundy-chicken</td>\n",
       "      <td>0.8936</td>\n",
       "    </tr>\n",
       "    <tr>\n",
       "      <th>39</th>\n",
       "      <td>bubbly-mandarin-panther</td>\n",
       "      <td>0.8765</td>\n",
       "    </tr>\n",
       "    <tr>\n",
       "      <th>67</th>\n",
       "      <td>teeny-cider-troll</td>\n",
       "      <td>0.8307</td>\n",
       "    </tr>\n",
       "  </tbody>\n",
       "</table>\n",
       "</div>"
      ],
      "text/plain": [
       "                        name   score\n",
       "111  magic-carob-quail        0.9898\n",
       "8    beautiful-onyx-platypus  0.9390\n",
       "128  mean-alabaster-piranha   0.9384\n",
       "98   delightful-stone-beetle  0.9353\n",
       "125  mini-currant-lizard      0.9124\n",
       "127  mythical-tin-hawk        0.9058\n",
       "55   shambolic-rusty-cyborg   0.9010\n",
       "121  joyous-burgundy-chicken  0.8936\n",
       "39   bubbly-mandarin-panther  0.8765\n",
       "67   teeny-cider-troll        0.8307"
      ]
     },
     "execution_count": 13,
     "metadata": {},
     "output_type": "execute_result"
    }
   ],
   "source": [
    "print(f'Top {TOP} scoring hotspots:')\n",
    "df.sort_values('score', ascending=False)[['name', 'score']].head(TOP)"
   ]
  },
  {
   "cell_type": "code",
   "execution_count": 14,
   "metadata": {},
   "outputs": [
    {
     "data": {
      "text/html": [
       "\n",
       "\n",
       "\n",
       "\n",
       "\n",
       "\n",
       "  <div class=\"bk-root\" id=\"213fd15b-0744-4807-9d79-da5024b75c9d\" data-root-id=\"1106\"></div>\n"
      ]
     },
     "metadata": {},
     "output_type": "display_data"
    },
    {
     "data": {
      "application/javascript": [
       "(function(root) {\n",
       "  function embed_document(root) {\n",
       "    \n",
       "  var docs_json = {\"33ce494a-2e91-42ab-9a58-90cd24300301\":{\"roots\":{\"references\":[{\"attributes\":{\"below\":[{\"id\":\"1117\",\"type\":\"CategoricalAxis\"}],\"center\":[{\"id\":\"1120\",\"type\":\"Grid\"},{\"id\":\"1125\",\"type\":\"Grid\"}],\"left\":[{\"id\":\"1121\",\"type\":\"LinearAxis\"}],\"renderers\":[{\"id\":\"1142\",\"type\":\"GlyphRenderer\"}],\"title\":{\"id\":\"1107\",\"type\":\"Title\"},\"toolbar\":{\"id\":\"1132\",\"type\":\"Toolbar\"},\"width\":900,\"x_range\":{\"id\":\"1109\",\"type\":\"FactorRange\"},\"x_scale\":{\"id\":\"1113\",\"type\":\"CategoricalScale\"},\"y_range\":{\"id\":\"1111\",\"type\":\"Range1d\"},\"y_scale\":{\"id\":\"1115\",\"type\":\"LinearScale\"}},\"id\":\"1106\",\"subtype\":\"Figure\",\"type\":\"Plot\"},{\"attributes\":{\"data_source\":{\"id\":\"1105\",\"type\":\"ColumnDataSource\"},\"glyph\":{\"id\":\"1140\",\"type\":\"VBar\"},\"hover_glyph\":null,\"muted_glyph\":null,\"nonselection_glyph\":{\"id\":\"1141\",\"type\":\"VBar\"},\"selection_glyph\":null,\"view\":{\"id\":\"1143\",\"type\":\"CDSView\"}},\"id\":\"1142\",\"type\":\"GlyphRenderer\"},{\"attributes\":{\"callback\":null,\"data\":{\"address\":[\"11LVy67AcSy9iwtvDFr19yjThPY5EXaBBbPA4sThgNaDugh6xub\",\"11wuUYRFfbkjHTsqC6HhhvAV1jJUR2mC2MHxSigWnoyiGZuRgrJ\",\"11qXzvWwBX49LPHXZVKtT7aM2tKDUaHamHaPo2ajMvXxGs42s2y\",\"112vHYHXQNm7aVFAtjCVyqnHYTRPCKEib8uMUX71XFHPjDgwq4MV\",\"11DeGngCtZsML4EhRgPiJVp7feAN4XYwEiZhCKLy2SeQp8QWP7D\",\"112gt6GzN2wkKDXnzqwFJ4yshernCP1KpZEhdgYJ9yv7D6K3kyjT\",\"112P4UBvvAwDM11o6eHE6w44hGWq7ukNo4skTLSTsWYZx3wxPMqu\",\"112euXBKmLzUAfyi7FaYRxRpcH5RmfPKprV3qEyHCTt8nqwyVFYo\",\"112uFMbu9bTXe9tJzuaL1MoM7UksPK4F928VmBf9Hxzc6BjRK9Pp\",\"11nbEwo5k75mdE4nN9f9m6L5Q79dkbTukf48u2233ij6MQYEz3c\",\"11CAwto42LXquADz1asH4gWU6yUbSi1hATDijYm8ZM4Z7RtzeQK\",\"112YjHE6vZ72o2nypeBbsUTs6V5Z6CBXakKjQJKKCXHsAPPJrmvA\",\"112rDaPoAGdzXELF7t1iLj7BM8cCtezYoNAkwFECSLqGxR4iVMaj\",\"112kFNJoxBYn7UWwZqUABrTXjhn7mkP8ePrbi6w9Hj1NXJfodwP3\",\"11XC5VxSHnB2v9B8Kx3guqwTRLmY3hfar3EALunYsJMoT6TKJxV\",\"11yXFNu9Je9gvVfyuA8jS8z6faNcZW7kPwPApWYThTk416LGmU\",\"112dcfpxdtNKPTrKvzKmXHqLAq7R1Npq35Ehjepe9n2p7WA4mSXp\",\"1158boTwaXLng68TD1UauDnZeB1oCGRPqG7nQ2bL2yovkA2ntV3\",\"11uoSXSsPuuTv1cprZEqNuw5r8giCsAoqDXgsdFMR2G11tLKjkr\",\"112eFfqt75oqXa62iE8tsfLhgH3vSNAcnGLzEwGdUYun1zCAYKTR\",\"11jihKNVbs5Sd85ekMAiLHvq5oDEWCEs7rbSdJ2WtQbLXETbMe9\",\"112NxxWUZzAPDoJmrpnHH7nPn7hAFYVjTibYSS2p7vfXWhz8BuQF\",\"11vsUeTb8g4KcELPctghGLSDWhUDGAEAkiAhERU3euC69HSNvca\",\"115j9cnpxSmkYEdzjvFuMycz4VAea4zC9DicMKHZUHwc6aQVTTE\",\"1125mBeoEZ2e1TSiKtxUbeUS2jhPcb6X6ELyxUZeEKxgpAXL2QXC\",\"112PW6ZvGNWssGPX6k769dzercrmdRyBUwrsY5xfCgQiSWPWrxHF\",\"112TN1Cdqbi7LXaKBQKprjY7LVmVyePNACmB1ewk27M8raEVGmCz\",\"112cN1U82HCb2BN8E7XgmoniPTurcKg97WnJi2oXDupSMHpgiDid\",\"118EwwvzarVrtvaCfnRhCP1BBcdLaQRLBDKZ3coW17JHhKaj6p1\",\"112MCMqvkbdfbQ4BLopnGpMdnSeNUBEchHCbHsU2CMAZjRJKD3aB\",\"11sJGePtegp3KSmX2VSHSJy2kvkhNUHcLh1Xprs3m7FHwnEonfo\",\"112uVWq45n18AQnCASMpTiAsMcQvE7oqmtYji9FHab2yxfWsbmhX\",\"11iur9BrnJY2FunsLyH9FwLfqHa8C4Cue3R5WGFJmbYh2FrpbBh\",\"112Mki5uohp3EYjEwAKzrQStUf9FPZBKuzwnpRAiMboE6K6pTEhc\",\"112TW3Cp2GWLPs9veKMYFtw7DVaDHU6dsEE8GAggBVjEuf2TWttr\",\"11278GCrhcGcZorQmQgXefjPZWApFD9vHco9EzYytkkgepSx4cnW\",\"112HrGmRZ1iUFPNRzbMoAAiHHgHzrmkFLwdzwmUww457JsHN2VDm\",\"11jngF85QQc4JUvkK4uJ79vY7zLY6SrgKw911wpmiBvgMHsUJma\",\"11ubZi6poph2dLTc9jvJwNtjkJxF8WaneDSdMcDoA1tcyb47rFo\",\"11xKKZwHYZpWcEamiZmyCA1v6YmfcfagQMGf9BJfMnDDiXkhRgV\",\"11WPxVmJ83FKQkU83zbREvV2MtvkSaKeQenbJHdXWNESDu4c2bk\",\"11z6NPpfsdWZgGb5zSNz2VqHioyoVYmAGjANTPGwBKo26fBxb2U\",\"1124eHFSCjQTouUNkC23dhN8BUUYQHnwdobZGHZwJvTq1PN72xsb\",\"11sguEykEnHMXbw14nqo7mCwn18FsKFegaS3tcRqd2fgSKeaKcA\",\"11xWTUFRswoQM82EWQqDCRCixmX57UjzXLKdeKaXhGpsp66tho\",\"11EEx27SnCWb8qB87AX5XptnHNhpJx9y8YtQYHME1XNLTzTUxWD\",\"11bgTZaeRTiGuH11dE25H2D1FFM5tvtrHTNJnhAK6TwwrH57t88\",\"112NhNhURvqksxppa8bxjMku5e51h8rqub36rFA5Kgo8nPdM5KHS\",\"114VvEadECxmrrF4ccY3ai2XQzGdikovfJwBJEAsMuX8Wg9iWAR\",\"112jsPCWDbhYb1u1brqYGHkxdnpt8JSE91gRYCH5HKyFcsW16Tkx\",\"1123zdwvvayz9Nqxx4UtkGZecWhgDUmcdMJmG5qXccB1iW51dJgA\",\"112p1sK1ip8ZAAXC2txtJthSKUxgHxSCvhZCv9Mt6wmVqTGu6uyK\",\"112G1KhXpvMnPYw9ze7VsiLizG7SpVU81zFXyt2bcZBQwPS3Uh4L\",\"11aS1fM9HHVHzRgjVtcP55559X8pMnkCUdSttfZUohqH84sNQpM\",\"11BL252rVXxYyNe6P6kJ8udk4VHix7NVV4ASQTP2prr8KJB2YPi\",\"11qd6UNmuQsR5FUNc1LAKJM1r7kfx37WGc1csYbvkmUGUTx992K\",\"112MDVNM62dXFzXmPzNySnsXV58WyWJhDEH4zU1Xipb9F519Dy9q\",\"112c7xWEsNLTnPhWmmETrZ8P6BxqNnTZtBymmjifBgjKariw8YXw\",\"112D36ZCcFouGU5X5wVCXsikGEsEkpcLYFyrrKHcRowzENXq6yso\",\"112d7fa4ymaWLu1AVVgMtyRA3DbhvRCeNcTYK8oc64Xxq3PaQmLw\",\"112Sgw2sZf1BKAPqVH677a2HeE9TKYkgjGkPj7L5iLPvjrPA39hg\",\"112DFZH7yJwntcPMscyL91zb1LayjGpizEuMViAZvDQftiaPSiB9\",\"11Z4vYLzvwkuDegD95bDmDURYb5Q2BV69yCpeaf81372SkfktxC\",\"11ckxdQsReXpqwCrbbREZj6urEuNEGf2Zk5d4UnsuPMsJDSihwy\",\"112X5u9nq4v5RDcUSfGJXBG8dgCzvRTW7bfS4oZ9qnQU17vcQ5y2\",\"11uEMMjzw2bpuWW1cQHJLKPUiqzm3B8HHPtqsuiXZEhX4VxB4rB\",\"11BaVHGtAa5K1sb2xosiF3LepjrgK5iT7ZUjqkM6KDLS5Xd9VKh\",\"11t2h6ERRn2kbgjFF2hdQLZwvHcMS5NqykN3FEFRzvdf9K9QE1y\",\"11xkVWtJgF4xrRxhSy1mxYZvWc6anKA3QtrNJWdqP7J3wNkJ8tC\",\"112JHZsfc2sPfx1N9fjJ1HzhJou3o5LWgaWZYvnXAkcQktX9YLS7\",\"112sYD4tioU5RXg6t4aw74mP4NDxqrWptCqRFEeK5cauGqGYKaL4\",\"11J8sVCSMqmPQsS7vz5LEoKEYEARUWSt1iooWd7pp1vwYUqDoJg\",\"112u3Zr3oTs6TSBewf649PSiM1fCGg58gmhoAxvTZwtCeViB8XG1\",\"11Hh17C2pg8ig1ftU6H1UpSRQDVxZZtQNuJ56qryHMuD5w958Tr\",\"118Wc9tJaNA6xNbDjVenT52ueyfvXAcrzH4Lwppd5dG2QLDQ34C\",\"11hju5Kc94T9xbgA8Ri88LpX7sb79kMq7ET5A4xUF7AKsfvu9HM\",\"1127q7QEWN68TxVZ5wjPKBVGtjN51HGoiSiA6WJvR9ZzX9soHFBe\",\"11ECEKeyCjknk2Z7AG7gxVcVnWjmksJE1Wzq6C7BBZE239HjuFD\",\"11T5peiN6VsfEqTXzctRwQzSqkbaxx8HGeyjR6fyoAgAn1Y4sA9\",\"112dqJt9WfNqGPBbbz9Au42DZ1RUkpZAUWgnSmZ9R8nhDxQeNLCW\",\"11tWRj2Qhnn177iVYm3KUmbPdMyhRfeqHqk9kCyiR7y57hdG9JA\",\"112aeWRZdyz61Y7EQeMbXwqERNMPnciDvsxyFmhz1UfA9hte4R4W\",\"112UuTZGP8Vd4p4x7LX3MrQQkimrQVGsgDCq5EvQLvRYGUNZhH2T\",\"11dj5k2dwSUE7fqFnwAHK9stLd3St9MJiJuaRnvvRgJjbRMZgKJ\",\"11kzHgDkiGfCiX96fWz6riNGxjCCXy6bVvyn4SDwzjzwMXNhndU\",\"11o9ve9x4siBxXWSBZnXL6gmSJJ6dJKEGDGNoZTC1QpVDdGKeaN\",\"112s1E6JsKmjNrZp2s28Tk4VFuB49cZUjZ41qho7Uq9yYJyvyH1R\",\"112E3xyWmdj6N9CzN6KNPDPEzz8yxrY8C49SFSiN1zpARzizVY6z\",\"112opbmPimyyAT1Y5GxeEJSDXM2ZfTHAZRUMLGcADTyGXAe8Hr4\",\"112kQbfzXkyxTSTxUpztvPLMJLB2koLro9LJesumSGpdNUBhWzBN\",\"11YDCwbL1dkC7gToXTcEn5CQHTnjittZ7ZqTUsPjD6ba8hASZNe\",\"11rWkkY2rjp1hfZ2noxtwRALArbf12hMzdytHVQrY1c1PzBX4iR\",\"113kQU96zqePySTahB7PEde9ZpoWK76DYK1f57wyhjhXCBoAu88\",\"11oCfnQtekNbhEZLF2YA87jJr9mk9dogSEGoXCBboFR3CR7rR6v\",\"11MFNwMS56vpKvK4iBvMfp3dipCpQA623XaFDvoCu2AACKvwcSX\",\"11Csdm4xr7W3j1vJsZKQ5o5qnGQiwcjBqrW3qRiVDxqad395dKD\",\"112rNX8mnZBZWf6ixnksygsrahNYyHz7S9BExjqPCxhEqSPcxF38\",\"112MtP4Um2UXo8FtDHeme1U5A91M6Jj3TZ3i2XTJ9vNUMawqoPVW\",\"11idAPnBHP3AM3SjkpFRGy7XLVv12oecTFLHGBMfmBSvzNY9CW8\",\"112jpXUSkDJuykaNzrnTVGBWTrr5tukBSXUdZRKUsKAEMru6uucu\",\"11k4Gn6Qhs6JDet1w1fKxUe647zw4KRiZCYhNBtqYCL16BNmjRo\",\"11uvA9ZLXGUY5onTtAvMhSxjs4zMuGMganv1xSbipCxRCurUHuH\",\"11VKaN7fEvDm6NaGhcZtNSU1KAQQmTSwuuJsYYEqzh8mSWkoEUd\",\"112rGFR4TPSbrdTAPgP556n9ffst7tE5Xooua9QURbV4XeVoQgiD\",\"112Z6fYnkQa8VAyMWHoaZJVzrxbWPoJV2NCfdZmaNoG1pYxWdGwD\",\"112wh3mYwP6N8XbYgeU5JPp2L9rNJD5Qv8SGHxRjboybiAxJtRVt\",\"11YZSQ1DfKg5YwvoqKJRtKMBQnuRL6ofxyQPrMcsPPGEZdHVf2q\",\"1126WubKPpmEW6uCgcuXMfn4tHEp2rPr9sCrR9YXj2Vvg4gL3QC2\",\"11qTZbaXb3ZxWD3fW4PmVJryWXyY5dCPaSTKmvDhgEBk8bxTSvS\",\"112XLTxP3R8fXdmFsX6EYBpz4yQkJWZVNBuNjk8n2nw7dU14Fmcy\",\"11Kj6LV5M51PzPjBVbtgESL625SsrzdPoi59PDPQ2xdeozNuRuq\",\"11DMUS9sEDngNh5RF1k4pb23Ucbb9fN9RwPDd1ZMAJJiCjvo3Xx\",\"114FX56Ua6joFNmHAugjKR1wfopRyYEzbtgn6bodvSHXdKSwZPg\",\"115pxxv1H6xuq5NykL2PjzQqZqKv1bJdig2sxyN79ukBVGWXbPn\",\"11AUHAqBatgrs2v6j3j75UQ73NyEYZoH41CdJ56P1SzeqqYjZ4o\",\"11sAaGTavNJjGgpcoRL5GQACTbWQq4zvftgrZwjabMqJRNfyZn4\",\"112dFRPoWZmWehmiU1cdU2jbE213RB772urDC1HxUSZfQ7KVJaN5\",\"112aVmnM3bJsA1gM9fjNPSvAeY4LkrMzNJdHRfTdtZ9nTgWZgncs\",\"112VYECRxdyUixsN3KyTMdJaNdGGNF6UARwS5Pkyi86xoiBkSyLU\",\"112LfWf61hKR2mCKbuyqt3w2UCtytbFCmo2QJ4xdACR6c768LtiR\",\"11KeUR4Ure4DBFJE1TGg2nr4E7k2T8keAiBqmB9PEgMdWGB7eJh\",\"112rS6gCz9FQmcw2hrdnEJRLLAeWpSmtHYeC6nAuDrDutPWm2RYz\",\"11cEr5Um2a7Zbqw7Pozrc3DjEXvQptTtdVo5y132Kwo94ax11DD\",\"11TUDQEnZa8KXwuCNPVjLWboFGnVskfua1dRkEvmaNgriMWBwAf\",\"1127scjX1wymbXwV5eToMTV7cy8xghMddGb6QtiNhqSwLfSYksdQ\",\"115JucmPFDKUwvE4fkHR6GyQsttSUMi11KYme6pRcRTVXTqE7ww\",\"11TBjxKGcjG6wocUxWMccv8FU8LaPf72YiPXooPw4XuFLgHNAAi\",\"112D3iyBgtLeh5SPhshjZXQDV2XX2FdSMVSoC1fryANqdKPc3gLY\",\"112stmZdJDjyvuGEJLCkUa5kPnmra5Svz72G3GdcyQQ9h3i55D48\"],\"id\":[129,128,127,126,125,124,123,122,121,120,119,118,117,116,115,114,113,112,111,110,109,108,107,106,105,104,103,102,101,100,99,98,97,96,95,94,93,92,91,90,89,88,87,86,85,84,83,82,81,80,79,78,77,76,75,74,73,72,71,70,69,68,67,66,65,64,63,62,61,60,59,58,57,56,55,54,53,52,51,50,49,48,47,46,45,44,43,42,41,40,39,38,37,36,35,34,33,32,31,30,29,28,27,26,25,24,23,22,21,20,19,18,17,16,15,14,13,12,11,10,9,8,7,6,5,4,3,2,1],\"index\":[0,1,2,3,4,5,6,7,8,9,10,11,12,13,14,15,16,17,18,19,20,21,22,23,24,25,26,27,28,29,30,31,32,33,34,35,36,37,38,39,40,41,42,43,44,45,46,47,48,49,50,51,52,53,54,55,56,57,58,59,60,61,62,63,64,65,66,67,68,69,70,71,72,73,74,75,76,77,78,79,80,81,82,83,84,85,86,87,88,89,90,91,92,93,94,95,96,97,98,99,100,101,102,103,104,105,106,107,108,109,110,111,112,113,114,115,116,117,118,119,120,121,122,123,124,125,126,127,128],\"lat\":{\"__ndarray__\":\"YfguNWFCPkCqkeFEHi8+QJBYbyMDdD5AIyXthTZJPkAc3v/zLNxCQEZ10/2qBEZAhzkIChZEPkDAhk7yG6RCQFepm2wkPj5ARmKFI2ngQkDlHaLPF+JCQEvLONhrRz5AZxDyXljiQkADRKzXR+xCQEdpkwbQQj5AisRLckvkQkAfX27ZL0o+QJs6g+dDcD5AEVvxdZV2PkDamHgWs7M+QHTxJ7zBQT5ALCx3AixOPkC5gtCmPFk+QCOgmKDSfj5AmGvgxhdHPkAdmihvdUQ+QMfCKzV8RD5ACVWAdsYrPkDBUdc9ck8+QIDMDaurUD5AjZ2tTuFSPkAJ07BKvko+QI7ABMS0Jz5AWz+xYgpBPkDCGL50oD0+QHC6GoY9VT5AAnuzbq4qQkD40DaLYng+QK+gWHfQPT5Ax8AHjJM9PkAvYNbS1UQ+QPKUOQRTWz5AF8xwWrJEPkBDopETTUE+QNzGTknAUz5A42fP6bMqQkDQq7WTu1o+QMiM3GR3PT5Aw2SL10c5PkD+odmrpz8+QC+8s6+pTz5AFyDlTHs6PkB1iYsB0kQ+QGfgu3NtQT5A8PDFCTlEPkBBJYjyGkE+QK3iboSTQz5Av/brAohDPkDuHhcdnUM+QJvhL91zQz5A92SJ/WZKPkBOwoeoADU+QK3iboSTQz5A6roYCwAsPkAR31r3iEM+QGo4Z1d0Qz5AkUc4gmQvPkD9jBwGokQ+QFiuB14+Qz5AyqKu5XI/PkBb+XReiEI+QGm6MEABTz5A/J2MuUs4PkB76pF3lo09QKLuznWSRT5At4yQVnM9PkCHmjiUhUQ+QANSKCDhTj5ALXTHgcfkQkCeSk3UnuNCQD3FKgbaD0NAv+6SVmTjQkCgQlN62+xCQNrs/fsN7UJAon1VlQACQ0DBvWfavuJCQMfCKzV8RD5A/FpBNn3jQkA1CQKQkkM+QGGtNuNQ5kJAIZIiYIU6PkBwMYhEakM+QHKwIK514kJAu0JPlOWpQkBpt2dj4UE+QPM5t+pbI0NAnNbJYqfIQkBsFkmEXSNDQFgS0YqN5kJApFclE8viQkCZ+XY3k0hDQKvjYQKbrUJABNenk4YPQ0BKB5i9SuRCQATXp5OGD0NAbKntBqziQkB4/qTsouFCQBBZgfV3SENAhWSW2GhJQ0BYPkGSwKhCQGLNsLx+5EJAOBk7uHbkQkB+BbsddeRCQPtb7B0wH0VAePeX6BK7QkCNKPM7g6hCQFzIPYqBpkJAXksaZMSnQkCUs6Bj1KZCQEF6KX4g5UJA1NPgeP3cQkA6eBk41OZCQCtMw3cQ4UJAOuigIYbhQkAEUM5hG/BCQEyrVPuv5EJAY6wZgiftQkCsTXUaKe1CQIo/l0YW7UJA\",\"dtype\":\"float64\",\"shape\":[129]},\"lng\":{\"__ndarray__\":\"SNBZZ1BuWMAwJMIhln5YwFTdcHJqa1jAHD2es6dtWMCsEI5s0F1ewBB3JNylN1HAMAHAefhvWMAgHvi/0IBewITZh/kJcljAGFW+YFCgXsAQfqTTZZ1ewEztkgxfcFjAUrouQK6cXsC2oY/Fqo9ewIiY9/hkbljAdG50ZBeZXsB8GoKjYHFYwAzA2PyQbFjAQHvtMh9zWMA8NNlz/21YwMA5cEBOb1jATBp2JnZxWMCsmoOz2HhYwNADWMYGcVjAMKiPZ4tvWMAgZHSvnW9YwIhT6vIAcFjAeMBzNmZzWMC83CaaMGtYwKwbAs1YdljAwAc6yYtvWMAQ6hcSJ3FYwMR82t5qdljA6IzuSDt1WMDA9YH6QXJYwDSN6tnIbFjALHE3cLyPV8AIbv+MNGlYwOCvBuIScljA0HXhEAtyWMCIeFOVhW9YwJx8KamcbljA5J5pf6VvWMBMdDicz25YwKzvpXMgdVjAABkAetOPV8AEEK8VtHFYwCzGCUqIcFjAtMvHc9tzWMAMWuxUeXBYwKQ8HUjhbljA/HicpKBtWMAcfwvgoG9YwJDnBhzKcFjA+NMO+dtvWMAYioHJyHBYwLD0MTyTb1jAwN4+mZtvWMBYXVyEmG9YwATshduXb1jAxOVyVv5wWMDYECLrIXJYwLD0MTyTb1jAOM1FbGNyWMDEgaPGlG9YwGj3OHKUb1jAGEgqQl90WMBMRfh2hm9YwNjL/fN8bljA7CHLhzdwWMAg3kS/HXJYwJAawhcgcFjAiDQnbcxsWMBIaPEpQadYwECfhyWacFjA6L8om1xyWMC4E6cw4G5YwDA3HCEocFjA+mN7Gt6cXsD0kCsXHp1ewIyuRsTyoV7A5CznmyuZXsACKrj9+ZFewG7FOLpGkl7A0Fqv66WjXsC8OGeR1JpewIhT6vIAcFjASO/w3A2bXsBgu80Omm9YwGj7qUY+m17AjLgVg6JtWMAgf12Tkm9YwJiTwpPTmV7AhALd6SyBXsBEbCChSW9YwNIc+4Djkl7AHGTHPOqQXsAWuOsB4JJewGzxen9/m17AJLnUpKqbXsC+ZVRV83BewPBMzY5vfF7AoonQsNihXsBswX75DZlewKKJ0LDYoV7ACA3NqdGaXsCutLST1ZhewNC4063dX17AZncVQoJfXsBWAiSFQYBewLJC7RvCnF7AcE4RfNOcXsA2iLD11pxewCSUI2ePuVHAWLe75kaJXsBWC+5JOIFewFDRU/PZgV7AZkQfCBSCXsBMyc9jtIFewCo5Zre4mV7ACARWMAmcXsBgxr49f5tewHRXpat8m17ACP4lTOabXsDGjDqlqJJewIZVLAAYmV7AamByAg+SXsB4hPGGC5JewPyHSaEIkl7A\",\"dtype\":\"float64\",\"shape\":[129]},\"location\":[\"8c489e3559129ff\",\"8c4898da3aa03ff\",\"8c489e2502591ff\",\"8c489e351c2dbff\",\"8c2836af5aee3ff\",\"8c2b1a26c7343ff\",\"8c489e3463167ff\",\"8c28347257965ff\",\"8c489e3635863ff\",\"8c2830958b5d9ff\",\"8c283095acf1dff\",\"8c489e3404f51ff\",\"8c283082d2f69ff\",\"8c28308ac46b9ff\",\"8c489e35591b3ff\",\"8c283082a1165ff\",\"8c489e3439621ff\",\"8c489e255394bff\",\"8c489e26b4e21ff\",\"8c48984a0d525ff\",\"8c489e346cf1bff\",\"8c489e343363dff\",\"8c4898cb3b419ff\",\"8c489e24849bdff\",\"8c489e3428a27ff\",\"8c489e3467757ff\",\"8c489e3463a9bff\",\"8c489eacac5b3ff\",\"8c489e22ca165ff\",\"8c4898cb644edff\",\"8c489e35894adff\",\"8c489e343800bff\",\"8c489eacd5647ff\",\"8c489e36c4c59ff\",\"8c489e363531dff\",\"8c489e35acb0bff\",\"8c26ed42c2355ff\",\"8c489e2ec12d9ff\",\"8c489e3635a61ff\",\"8c489e362258dff\",\"8c489e3467523ff\",\"8c489e35b08c9ff\",\"8c489e3467409ff\",\"8c489e3732297ff\",\"8c489e34d7409ff\",\"8c26ed42c38ddff\",\"8c489e2648963ff\",\"8c489e371af5dff\",\"8c489e360aec1ff\",\"8c489e3712435ff\",\"8c489e35c46b9ff\",\"8c489e372b061ff\",\"8c489e346743dff\",\"8c489e3444551ff\",\"8c489e3463b1bff\",\"8c489e344476bff\",\"8c489e34608dbff\",\"8c489e3460f6bff\",\"8c489e3460f29ff\",\"8c489e3460a97ff\",\"8c489e34398c7ff\",\"8c489e366ab37ff\",\"8c489e34608dbff\",\"8c489ead992e7ff\",\"8c489e3460f65ff\",\"8c489e3460abbff\",\"8c489eacb5263ff\",\"8c489e3467569ff\",\"8c489e3558287ff\",\"8c489e3712f41ff\",\"8c489e345d993ff\",\"8c489e35ca645ff\",\"8c489e3766d4bff\",\"8c489c02b8211ff\",\"8c489e340cd49ff\",\"8c489e363c8b7ff\",\"8c489e355b0d1ff\",\"8c489e35cb4abff\",\"8c2830829220dff\",\"8c2830829b095ff\",\"8c2830aa255d5ff\",\"8c283082a9b17ff\",\"8c28308adab2bff\",\"8c28308adac45ff\",\"8c2830b81125bff\",\"8c283082810b9ff\",\"8c489e3463a9bff\",\"8c28308283a3bff\",\"8c489e3460f63ff\",\"8c283082b31edff\",\"8c489e372b063ff\",\"8c489e3460ab9ff\",\"8c283082e3589ff\",\"8c283472e78c7ff\",\"8c489e346cc61ff\",\"8c28300500b35ff\",\"8c28346692107ff\",\"8c28300500949ff\",\"8c283082b35abff\",\"8c2830828a449ff\",\"8c283079278d5ff\",\"8c2834702cd57ff\",\"8c2830aa2529dff\",\"8c283082a1a4bff\",\"8c2830aa2529dff\",\"8c283082810c7ff\",\"8c283082e1941ff\",\"8c2832b020259ff\",\"8c2832b02713bff\",\"8c283472328c9ff\",\"8c28308293335ff\",\"8c2830829304dff\",\"8c28308293049ff\",\"8c2a302d6c569ff\",\"8c283475d4eedff\",\"8c283472ecedbff\",\"8c28347213117ff\",\"8c283472c4b27ff\",\"8c28347213991ff\",\"8c283082a31dbff\",\"8c28309506ec1ff\",\"8c283082b2519ff\",\"8c283082c26b9ff\",\"8c283082d5485ff\",\"8c28308f4daadff\",\"8c283082a18b3ff\",\"8c28308ad326dff\",\"8c28308ada9b3ff\",\"8c28308ada981ff\"],\"long_city\":[\"Austin\",\"Austin\",\"Austin\",\"Austin\",\"Tracy\",\"Vinalhaven\",\"Austin\",\"Saratoga\",\"Austin\",\"San Francisco\",\"San Francisco\",\"Austin\",\"San Francisco\",\"Oakland\",\"Austin\",\"San Francisco\",\"Austin\",\"Austin\",\"Austin\",\"Georgetown\",\"Austin\",\"Austin\",\"Austin\",\"Austin\",\"Austin\",\"Austin\",\"Austin\",\"Austin\",\"Austin\",\"Austin\",\"Austin\",\"Austin\",\"Austin\",\"Austin\",\"Austin\",\"Austin\",\"Bentonville\",\"Round Rock\",\"Austin\",\"Austin\",\"Austin\",\"Austin\",\"Austin\",\"Austin\",\"Austin\",\"Bentonville\",\"Austin\",\"Austin\",\"Sunset Valley\",\"Austin\",\"Austin\",\"Austin\",\"Austin\",\"Austin\",\"Austin\",\"Austin\",\"Austin\",\"Austin\",\"Austin\",\"Austin\",\"Austin\",\"Austin\",\"Austin\",\"Austin\",\"Austin\",\"Austin\",\"Austin\",\"Austin\",\"Austin\",\"Austin\",\"Austin\",\"Austin\",\"Austin\",\"San Antonio\",\"Austin\",\"Austin\",\"Austin\",\"Austin\",\"San Francisco\",\"San Francisco\",\"Novato\",\"San Francisco\",\"Berkeley\",\"Berkeley\",\"San Rafael\",\"San Francisco\",\"Austin\",\"San Francisco\",\"Austin\",\"San Francisco\",\"Austin\",\"Austin\",\"San Francisco\",\"Cupertino\",\"Austin\",\"Napa\",\"Foster City\",\"Napa\",\"San Francisco\",\"San Francisco\",\"Davis\",\"Santa Clara\",\"Novato\",\"San Francisco\",\"Novato\",\"San Francisco\",\"San Francisco\",\"Sacramento\",\"Sacramento\",\"Cupertino\",\"San Francisco\",\"San Francisco\",\"San Francisco\",\"Hingham\",\"East Palo Alto\",\"Cupertino\",\"San Jose\",\"San Jose\",\"San Jose\",\"San Francisco\",\"San Francisco\",\"San Francisco\",\"San Francisco\",\"San Francisco\",\"Berkeley\",\"San Francisco\",\"Berkeley\",\"Berkeley\",\"Berkeley\"],\"long_country\":[\"United States\",\"United States\",\"United States\",\"United States\",\"United States\",\"United States\",\"United States\",\"United States\",\"United States\",\"United States\",\"United States\",\"United States\",\"United States\",\"United States\",\"United States\",\"United States\",\"United States\",\"United States\",\"United States\",\"United States\",\"United States\",\"United States\",\"United States\",\"United States\",\"United States\",\"United States\",\"United States\",\"United States\",\"United States\",\"United States\",\"United States\",\"United States\",\"United States\",\"United States\",\"United States\",\"United States\",\"United States\",\"United States\",\"United States\",\"United States\",\"United States\",\"United States\",\"United States\",\"United States\",\"United States\",\"United States\",\"United States\",\"United States\",\"United States\",\"United States\",\"United States\",\"United States\",\"United States\",\"United States\",\"United States\",\"United States\",\"United States\",\"United States\",\"United States\",\"United States\",\"United States\",\"United States\",\"United States\",\"United States\",\"United States\",\"United States\",\"United States\",\"United States\",\"United States\",\"United States\",\"United States\",\"United States\",\"United States\",\"United States\",\"United States\",\"United States\",\"United States\",\"United States\",\"United States\",\"United States\",\"United States\",\"United States\",\"United States\",\"United States\",\"United States\",\"United States\",\"United States\",\"United States\",\"United States\",\"United States\",\"United States\",\"United States\",\"United States\",\"United States\",\"United States\",\"United States\",\"United States\",\"United States\",\"United States\",\"United States\",\"United States\",\"United States\",\"United States\",\"United States\",\"United States\",\"United States\",\"United States\",\"United States\",\"United States\",\"United States\",\"United States\",\"United States\",\"United States\",\"United States\",\"United States\",\"United States\",\"United States\",\"United States\",\"United States\",\"United States\",\"United States\",\"United States\",\"United States\",\"United States\",\"United States\",\"United States\",\"United States\",\"United States\",\"United States\"],\"long_state\":[\"Texas\",\"Texas\",\"Texas\",\"Texas\",\"California\",\"Maine\",\"Texas\",\"California\",\"Texas\",\"California\",\"California\",\"Texas\",\"California\",\"California\",\"Texas\",\"California\",\"Texas\",\"Texas\",\"Texas\",\"Texas\",\"Texas\",\"Texas\",\"Texas\",\"Texas\",\"Texas\",\"Texas\",\"Texas\",\"Texas\",\"Texas\",\"Texas\",\"Texas\",\"Texas\",\"Texas\",\"Texas\",\"Texas\",\"Texas\",\"Arkansas\",\"Texas\",\"Texas\",\"Texas\",\"Texas\",\"Texas\",\"Texas\",\"Texas\",\"Texas\",\"Arkansas\",\"Texas\",\"Texas\",\"Texas\",\"Texas\",\"Texas\",\"Texas\",\"Texas\",\"Texas\",\"Texas\",\"Texas\",\"Texas\",\"Texas\",\"Texas\",\"Texas\",\"Texas\",\"Texas\",\"Texas\",\"Texas\",\"Texas\",\"Texas\",\"Texas\",\"Texas\",\"Texas\",\"Texas\",\"Texas\",\"Texas\",\"Texas\",\"Texas\",\"Texas\",\"Texas\",\"Texas\",\"Texas\",\"California\",\"California\",\"California\",\"California\",\"California\",\"California\",\"California\",\"California\",\"Texas\",\"California\",\"Texas\",\"California\",\"Texas\",\"Texas\",\"California\",\"California\",\"Texas\",\"California\",\"California\",\"California\",\"California\",\"California\",\"California\",\"California\",\"California\",\"California\",\"California\",\"California\",\"California\",\"California\",\"California\",\"California\",\"California\",\"California\",\"California\",\"Massachusetts\",\"California\",\"California\",\"California\",\"California\",\"California\",\"California\",\"California\",\"California\",\"California\",\"California\",\"California\",\"California\",\"California\",\"California\",\"California\"],\"long_street\":[\"Chicon Street\",\"Mesa Verde Drive\",\"Emmett Parkway\",\"Larry Lane\",\"Remington Way\",\"Unknown\",\"West 2nd Street\",\"De Havilland Court\",\"Manchaca Road\",\"Noriega Street\",\"Lincoln Way\",\"Lorrain Street\",\"Clayton Street\",\"Ocean View Drive\",\"East 4th Street\",\"Bryant Street\",\"Norwalk Lane\",\"Wells Branch Parkway\",\"Patricia Court\",\"Winecup Way\",\"Rainey Street\",\"Velasquez Drive\",\"Lakecliff Hills Lane\",\"Belfin Drive\",\"West 15th Street\",\"West 5th Street\",\"Nueces Street\",\"Unnamed Road\",\"Betty Cook Drive\",\"Lowell Lane North\",\"Shoalwood Avenue\",\"Forest Trail\",\"Yandall Drive\",\"Crystal Water Drive\",\"South Lamar Boulevard\",\"Bennett Avenue\",\"Southwest Boulder Street\",\"Manjack Cay Drive\",\"Manchaca Road\",\"Manchaca Road\",\"Congress Avenue\",\"Sales Street\",\"West 6th Street\",\"Holly Street\",\"Manana Street\",\"Southwest Boulder Street\",\"Williams Ridge Way\",\"Durwood Street\",\"Pillow Road\",\"West Milton Street\",\"Guadalupe Street\",\"East Riverside Drive\",\"Unknown\",\"South Lamar Boulevard\",\"West 4th Street\",\"South Lamar Boulevard\",\"Congress Avenue\",\"Congress Avenue\",\"East 2nd Street\",\"Congress Avenue\",\"Woodmont Avenue\",\"South 1st Street\",\"Congress Avenue\",\"South Congress Avenue\",\"Congress Avenue\",\"Congress Avenue\",\"Davis Lane\",\"East 6th Street\",\"East 6th Street\",\"West Milton Street\",\"Graywood Cove\",\"Lawton Avenue\",\"Maxwell Lane\",\"Gallant Forest\",\"West 5th Street\",\"Texas 343 Loop\",\"East 8th Street\",\"West 35th Street\",\"Sacramento Street\",\"Stanyan Street\",\"Malobar Drive\",\"King Street\",\"Acton Street\",\"Ashby Avenue\",\"Las Colindas Road\",\"Mission Street\",\"Nueces Street\",\"Gough Street\",\"Congress Avenue\",\"Filbert Street\",\"Faro Drive\",\"Congress Avenue\",\"Division Street\",\"Colby Avenue\",\"Rainey Street\",\"Tade Court\",\"Widgeon Street\",\"Agile Street\",\"Octavia Street\",\"Haight Street\",\"Quail Street\",\"Alviso Street\",\"Andale Avenue\",\"Federal Street\",\"Andale Avenue\",\"Mission Street\",\"3rd Street\",\"11th Street\",\"O Street\",\"Bret Avenue\",\"Laurel Street\",\"Collins Street\",\"Manzanita Avenue\",\"Thaxter Street\",\"East Okeefe Street\",\"Pineville Avenue\",\"Rainbow Drive\",\"Unknown\",\"Arlington Lane\",\"Montgomery Street\",\"Capistrano Avenue\",\"Octavia Street\",\"20th Street\",\"Collingwood Street\",\"Cornell Avenue\",\"Harrison Street\",\"Ashby Avenue\",\"Ashby Avenue\",\"Carrison Street\"],\"name\":[\"strong-tortilla-marmot\",\"savory-juniper-whale\",\"future-punch-ant\",\"clever-basil-moose\",\"tall-watermelon-dog\",\"cool-mossy-horse\",\"obedient-mustard-sheep\",\"flat-lilac-shrimp\",\"beautiful-onyx-platypus\",\"daring-amethyst-frog\",\"bitter-bronze-okapi\",\"tame-wooden-anteater\",\"spicy-seafoam-tadpole\",\"howling-gauze-guppy\",\"brave-lemon-ant\",\"acidic-red-mouse\",\"cheesy-fuzzy-shrimp\",\"recumbent-goldenrod-griffin\",\"howling-violet-millipede\",\"radiant-sable-swallow\",\"sneaky-champagne-pig\",\"damaged-concrete-walrus\",\"long-rosewood-boar\",\"itchy-flint-puma\",\"dazzling-bone-zebra\",\"genuine-powder-halibut\",\"bent-honey-starfish\",\"itchy-plastic-parakeet\",\"soaring-iris-beetle\",\"ripe-goldenrod-cheetah\",\"melodic-amber-hawk\",\"dizzy-strawberry-cricket\",\"savory-chili-terrier\",\"noisy-laurel-starling\",\"flat-magenta-chipmunk\",\"dandy-cobalt-lemur\",\"thankful-chili-millipede\",\"basic-ginger-oyster\",\"melodic-pearl-chameleon\",\"bubbly-mandarin-panther\",\"tiny-vermilion-platypus\",\"teeny-cotton-hawk\",\"stale-black-opossum\",\"happy-strawberry-lion\",\"orbiting-mint-carp\",\"sparkly-sable-sparrow\",\"scrawny-obsidian-halibut\",\"refined-bubblegum-poodle\",\"noisy-onyx-peacock\",\"young-sage-rook\",\"muscular-lavender-owl\",\"zany-chambray-camel\",\"dizzy-opaque-wolf\",\"clean-nylon-okapi\",\"dry-pebble-moose\",\"shambolic-rusty-cyborg\",\"proud-bubblegum-opossum\",\"agreeable-umber-python\",\"elegant-hazel-starling\",\"loud-juniper-boar\",\"bumpy-boysenberry-manatee\",\"blurry-seafoam-ape\",\"atomic-fuzzy-dove\",\"orbiting-cream-starfish\",\"thankful-seafoam-ant\",\"sneaky-mulberry-parrot\",\"merry-lemon-orca\",\"teeny-cider-troll\",\"stale-menthol-piranha\",\"polished-pearl-anteater\",\"round-white-sidewinder\",\"micro-clear-griffin\",\"creamy-linen-octopus\",\"spare-turquoise-otter\",\"delightful-aqua-blackbird\",\"cheesy-wooden-bird\",\"clever-pickle-sparrow\",\"spare-porcelain-penguin\",\"fierce-onyx-spider\",\"sour-honey-llama\",\"agreeable-walnut-weasel\",\"magic-rainbow-wasp\",\"fit-iron-monkey\",\"micro-tiger-tuna\",\"tall-blonde-condor\",\"generous-mossy-goat\",\"melted-sable-turkey\",\"joyful-golden-chameleon\",\"cuddly-sapphire-narwhal\",\"special-graphite-cat\",\"main-mahogany-crane\",\"beautiful-burgundy-rat\",\"rare-burlap-python\",\"joyous-beige-moose\",\"high-frost-blackbird\",\"acidic-lime-haddock\",\"precise-tangerine-rat\",\"fancy-glossy-rat\",\"delightful-stone-beetle\",\"boxy-holographic-rook\",\"decent-tortilla-bee\",\"custom-walnut-monkey\",\"immense-eggplant-stallion\",\"rapid-corduroy-halibut\",\"curly-berry-coyote\",\"precise-orange-peacock\",\"mythical-jade-tarantula\",\"rhythmic-shadow-spider\",\"fierce-turquoise-anteater\",\"main-pistachio-pangolin\",\"slow-burgundy-mandrill\",\"magic-carob-quail\",\"harsh-concrete-lizard\",\"dandy-champagne-pike\",\"skinny-fuchsia-mink\",\"sweet-pebble-aphid\",\"funny-jade-bull\",\"breezy-coal-deer\",\"clever-tan-panther\",\"dandy-sangria-okapi\",\"fresh-golden-wasp\",\"joyous-burgundy-chicken\",\"melted-iron-seal\",\"immense-mercurial-crocodile\",\"sparkly-aqua-wren\",\"mini-currant-lizard\",\"prehistoric-mossy-snail\",\"mythical-tin-hawk\",\"mean-alabaster-piranha\"],\"owner\":[\"14CryK8VwHBvWZvU4hEdbYBeUxrW7ZkWbfWGs2QefJzKxQbbxm8\",\"14CryK8VwHBvWZvU4hEdbYBeUxrW7ZkWbfWGs2QefJzKxQbbxm8\",\"13jL4pTLq4JQBwDoH1ZBX3VPchmeTZxQSGi4cnyXXuzPPoKxcd5\",\"149ojHmuDHk7hhJbww5xUpv68jgR1GFTFttcBV87eBvHkRMestS\",\"13b75UVnSQAxRiyxc1T2q8hgwcrYg6qTVj48PRyEL69os7x2aXN\",\"13ZoK5nhUY1bLMTPr81LL2pG4gxN4pmtCNCJSmLh7BVhk8EEmLv\",\"13q8L4fQHYFPBENYugVJuwtG1yrvmr4dvhxJtQzxWEbfNhF9Gny\",\"13jFJ9LmooHjv6TnFWNryLDrDU3bEBf3FpCWfcdUN6NEDatm8o1\",\"14p1ECNRHUpxazwib3VijrNsmsAAsuMfMa84uCsXxp6JqZ29eaY\",\"12z4nUiayZnbW46azcegBBB9yGkchFb1Zm7EPuh6eV1r2HT1NgC\",\"14aEqJhfWwvynhHSzP4cLuZuW7yuENkdD3nu3yFZBQmZNpaYMa5\",\"13jL4pTLq4JQBwDoH1ZBX3VPchmeTZxQSGi4cnyXXuzPPoKxcd5\",\"13PqfSmY66odJDdEUYVuUewaNqe43zenTdvjvTfvMwBtBRh4ZMn\",\"1383ziQFpmSiW4Q6Nw73eaR6f5oTP4PsjzaECbf3mGVd2TrqKqq\",\"13jL4pTLq4JQBwDoH1ZBX3VPchmeTZxQSGi4cnyXXuzPPoKxcd5\",\"142MT8yuvepnVCwkVxgBPddotHcXKJXtw1yCXVhobawMv3w8L99\",\"13jL4pTLq4JQBwDoH1ZBX3VPchmeTZxQSGi4cnyXXuzPPoKxcd5\",\"13jL4pTLq4JQBwDoH1ZBX3VPchmeTZxQSGi4cnyXXuzPPoKxcd5\",\"13jL4pTLq4JQBwDoH1ZBX3VPchmeTZxQSGi4cnyXXuzPPoKxcd5\",\"13jL4pTLq4JQBwDoH1ZBX3VPchmeTZxQSGi4cnyXXuzPPoKxcd5\",\"13jL4pTLq4JQBwDoH1ZBX3VPchmeTZxQSGi4cnyXXuzPPoKxcd5\",\"13ZoK5nhUY1bLMTPr81LL2pG4gxN4pmtCNCJSmLh7BVhk8EEmLv\",\"13jL4pTLq4JQBwDoH1ZBX3VPchmeTZxQSGi4cnyXXuzPPoKxcd5\",\"13jL4pTLq4JQBwDoH1ZBX3VPchmeTZxQSGi4cnyXXuzPPoKxcd5\",\"13jL4pTLq4JQBwDoH1ZBX3VPchmeTZxQSGi4cnyXXuzPPoKxcd5\",\"13o9KUMcmEdhtjXRaJ5AANHLZWBoGcTmF4MFw3MjQbubjR57jXW\",\"13jL4pTLq4JQBwDoH1ZBX3VPchmeTZxQSGi4cnyXXuzPPoKxcd5\",\"13jL4pTLq4JQBwDoH1ZBX3VPchmeTZxQSGi4cnyXXuzPPoKxcd5\",\"13jL4pTLq4JQBwDoH1ZBX3VPchmeTZxQSGi4cnyXXuzPPoKxcd5\",\"13jL4pTLq4JQBwDoH1ZBX3VPchmeTZxQSGi4cnyXXuzPPoKxcd5\",\"13jL4pTLq4JQBwDoH1ZBX3VPchmeTZxQSGi4cnyXXuzPPoKxcd5\",\"13o9KUMcmEdhtjXRaJ5AANHLZWBoGcTmF4MFw3MjQbubjR57jXW\",\"13jL4pTLq4JQBwDoH1ZBX3VPchmeTZxQSGi4cnyXXuzPPoKxcd5\",\"13jL4pTLq4JQBwDoH1ZBX3VPchmeTZxQSGi4cnyXXuzPPoKxcd5\",\"13zwMXQwFBNxKGKJvurjGhVjTfkunwsC3GghtE9SyeUYDJei3t3\",\"13zuBf3QXx95aSpR3AgXiR6hjLzbqHqnwHGErXTxb49UrSngKU3\",\"13ickN56yPe38a3Vga161gp4nkSLckWvy7JChvnFr9osfP4AHGE\",\"13N2Q7qaxvtxiG3WRaR4bT1PAHS72t1AAfSvazcfut8FceQ7yXC\",\"13jL4pTLq4JQBwDoH1ZBX3VPchmeTZxQSGi4cnyXXuzPPoKxcd5\",\"13jL4pTLq4JQBwDoH1ZBX3VPchmeTZxQSGi4cnyXXuzPPoKxcd5\",\"13o9KUMcmEdhtjXRaJ5AANHLZWBoGcTmF4MFw3MjQbubjR57jXW\",\"13x6xCFEw1mq8spGP3xPWJnKuepb4wZJPUMbpk1g4HBCV6jpxMV\",\"13o9KUMcmEdhtjXRaJ5AANHLZWBoGcTmF4MFw3MjQbubjR57jXW\",\"14E4ihsukiU3Zdkqi2RNs6EWKuuQEK38rgmPTuSD2wSsSHfx7ry\",\"1328ZwD3SHEjnNwo4f4AoNppMZBg2NkSRjgUb2FSH6dbRsTWPN6\",\"13ickN56yPe38a3Vga161gp4nkSLckWvy7JChvnFr9osfP4AHGE\",\"13sKwLL85zvYvnCm8cvZrYCEmRWkpmNaY9eCShoDota6VCuFRBx\",\"12x4r5XkM65BH6TDMz1a7X4FrYWWZLArJMg6EL3pv3ytKfLA99d\",\"1418RhwsMfqEbFDJxSopAXird8qRHqw1FTYvMCRdDPHERes4Kea\",\"13jL4pTLq4JQBwDoH1ZBX3VPchmeTZxQSGi4cnyXXuzPPoKxcd5\",\"13Yz557GVBUvcTQkXCsx8AKFAh3TmsXbWNWXMNTaM4SEAVoevvB\",\"13jL4pTLq4JQBwDoH1ZBX3VPchmeTZxQSGi4cnyXXuzPPoKxcd5\",\"13o9KUMcmEdhtjXRaJ5AANHLZWBoGcTmF4MFw3MjQbubjR57jXW\",\"13jL4pTLq4JQBwDoH1ZBX3VPchmeTZxQSGi4cnyXXuzPPoKxcd5\",\"13MrkJ2L6LBfCmsnaHJvxjBxEE1HrgToCEjnBoL8dqeyvTdHj92\",\"13jL4pTLq4JQBwDoH1ZBX3VPchmeTZxQSGi4cnyXXuzPPoKxcd5\",\"13jL4pTLq4JQBwDoH1ZBX3VPchmeTZxQSGi4cnyXXuzPPoKxcd5\",\"13jL4pTLq4JQBwDoH1ZBX3VPchmeTZxQSGi4cnyXXuzPPoKxcd5\",\"13jL4pTLq4JQBwDoH1ZBX3VPchmeTZxQSGi4cnyXXuzPPoKxcd5\",\"13jL4pTLq4JQBwDoH1ZBX3VPchmeTZxQSGi4cnyXXuzPPoKxcd5\",\"13o9KUMcmEdhtjXRaJ5AANHLZWBoGcTmF4MFw3MjQbubjR57jXW\",\"14JPT1gUGHPkfpTEMEAYtdhnBGmJm95XNXK3DhBxcZm3z5kPtwn\",\"13jL4pTLq4JQBwDoH1ZBX3VPchmeTZxQSGi4cnyXXuzPPoKxcd5\",\"14ZKktN1fYq74ZfR19ix8rZnA3EiXzFcsrwN4MtExnVAPH6JPPP\",\"13jL4pTLq4JQBwDoH1ZBX3VPchmeTZxQSGi4cnyXXuzPPoKxcd5\",\"13jL4pTLq4JQBwDoH1ZBX3VPchmeTZxQSGi4cnyXXuzPPoKxcd5\",\"139i97spJpNYJoQr5ik2zFq5L77U1SfXTkTh1gbxVgSMrfvTc6s\",\"13o9KUMcmEdhtjXRaJ5AANHLZWBoGcTmF4MFw3MjQbubjR57jXW\",\"14hCqYFCtetS6RMQNfi9abKUqVyZnJqcSkbWxewhiL97dZuPwMi\",\"12yS1GsggJLDaM43fpJn9NZLLHFAFztUYc4EaxuHT8LXK7afKh6\",\"14ZKktN1fYq74ZfR19ix8rZnA3EiXzFcsrwN4MtExnVAPH6JPPP\",\"14PMavd2wcQ6GiqZQFkx8PQhHNGwaW7XZgwX3kcHkDZWauZXs5a\",\"13hDQpbcSe9jZX5giU2sNeynLpHQoLKF8mWkUrpuqVyFgu9ycSq\",\"13vNfrpCAyd19Je8dsqpJh2oDbk57mVhZto5XFcL5zwDk1asuGX\",\"13Ty4sVxzX7hMACPGnYHGiGTUHsZwUPKjQYnXCWSpqe3ZTxeV8m\",\"136Q6at4MoCEqaih29WQTZSabepvpSgcqBUW3etyNiERjs6jKCb\",\"13MeciKTq52Jjyu1K5cCvYAjjcRh3McM45KLrKvuyZpqBeTjUv7\",\"13o9KUMcmEdhtjXRaJ5AANHLZWBoGcTmF4MFw3MjQbubjR57jXW\",\"13s2mVc16F2dubZWPLNDyTvLbQbJJcndJ7o27vdj4nnpEqRkmkW\",\"12z4nUiayZnbW46azcegBBB9yGkchFb1Zm7EPuh6eV1r2HT1NgC\",\"13buBykFQf5VaQtv7mWj2PBY9Lq4i1DeXhg7C4Vbu3ppzqqNkTH\",\"13buBykFQf5VaQtv7mWj2PBY9Lq4i1DeXhg7C4Vbu3ppzqqNkTH\",\"14a5sytsEVKBVhGsVz2rJDkxf1cs1L89zvtFjmPtmPzrQHXPVjF\",\"14a5sytsEVKBVhGsVz2rJDkxf1cs1L89zvtFjmPtmPzrQHXPVjF\",\"14X1W4KJr9QyHuqu6myDBpAdd6ouQbPYL3B4rmJvJjd2GKkUdBj\",\"14cLFi9kcteykbXX4fHNkLPhp3pyS8LpPancCJ6QFoMzS9pQcqG\",\"13mRJKFBgWWe1k83MKmpiRinkb6GDcX1piwWoH7S8RA8MuMDE4b\",\"14gBAk2RW8jARJoNY39CvLJyXjDQLx4Uj7VdJM47ep3SbixsugY\",\"14i6nM1RbWbjQFg5NFbZS3aZJgpUGZUx5toarz6jZLPpNAb95Tq\",\"14i3sMETM5PNazzcCvRUCjH6c9juCtWB2Z6UW8VFTAy1dDLzLdc\",\"14i6nM1RbWbjQFg5NFbZS3aZJgpUGZUx5toarz6jZLPpNAb95Tq\",\"14i6nM1RbWbjQFg5NFbZS3aZJgpUGZUx5toarz6jZLPpNAb95Tq\",\"12xUoMKwf12ABjNx4VCvYcNkX79gW1kzz2JnBLxkFbjswRczRvM\",\"13XZMwqMhZnjCK7JddxYBxpYf9cCLqEZGp4wHHTNSPvwRJ1gjPs\",\"13zzVQKvYM7QBYYpcEdz46Eprjj1ai2BhRdYZhFZfV6KKDgtsjn\",\"12ymxmzj2PHBdPv8pJZreUfa6twLWwcS3Y3ZdnP8UuDgaeGmK7p\",\"14Vh42vnNws4wBStivM6gPevb7sNAbWMHqsWKb617TSxr7mReL4\",\"12ymxmzj2PHBdPv8pJZreUfa6twLWwcS3Y3ZdnP8UuDgaeGmK7p\",\"14eVPPhEPT3WwdRMqNEfbv6Pm6BADS8dCzT1auf5bKX74oTipbD\",\"1373AqVQ2ZoMnzC5eHmzuRfMkmeFumdarza2GcLxbA9SrkoN8LK\",\"13hFYvVmD2US31aVSKCkvkUoDf8uAtS8UUWnGDjvDoCewDafBXj\",\"14Y2o9cMKEhTJ87G19Sp4occBrQxVdE3mJM3xMiJEj1auLF3Qga\",\"13buBykFQf5VaQtv7mWj2PBY9Lq4i1DeXhg7C4Vbu3ppzqqNkTH\",\"13buBykFQf5VaQtv7mWj2PBY9Lq4i1DeXhg7C4Vbu3ppzqqNkTH\",\"13buBykFQf5VaQtv7mWj2PBY9Lq4i1DeXhg7C4Vbu3ppzqqNkTH\",\"13buBykFQf5VaQtv7mWj2PBY9Lq4i1DeXhg7C4Vbu3ppzqqNkTH\",\"14e35CChhsnuHJxjjzYAxsHKBKDgjUop4GuD8esB7gE2VDoyPXT\",\"13EEVvbnpmjgwmEUDnYBLbQxbbAj9kiYWTU853QYX3uNC4xw4Le\",\"13EEVvbnpmjgwmEUDnYBLbQxbbAj9kiYWTU853QYX3uNC4xw4Le\",\"13zCZhFapZHTgsDDba76Ts9yATNAhULH2Dm1df6AxbrMuZqySP5\",\"12z4nUiayZnbW46azcegBBB9yGkchFb1Zm7EPuh6eV1r2HT1NgC\",\"12z4nUiayZnbW46azcegBBB9yGkchFb1Zm7EPuh6eV1r2HT1NgC\",\"12z4nUiayZnbW46azcegBBB9yGkchFb1Zm7EPuh6eV1r2HT1NgC\",\"14cKr7Qs93gdyLguKXf6Pg2SdryopG7dWSgiC6JWKHozuRQjmK8\",\"13q8hu17nMuZTDoXBXCLiiG59qasZXvrbme9WnLhahW1VAkR3rN\",\"14Ak9NAUHN9SHdbTq5te988yStzRaCqSGtcnQ3N2d3vA1YsUzuK\",\"141yoNX5qmd313Rx1a1zvWD3T2PVUm6EdzZcFpssH3HJBF3ucvg\",\"13zjsrN7BAom45N7DXornx7htbMgJwa6azn4G6UcesgASrsTomv\",\"13zjsrN7BAom45N7DXornx7htbMgJwa6azn4G6UcesgASrsTomv\",\"13zjsrN7BAom45N7DXornx7htbMgJwa6azn4G6UcesgASrsTomv\",\"142MT8yuvepnVCwkVxgBPddotHcXKJXtw1yCXVhobawMv3w8L99\",\"14mhFy8dVhy7eCzyNQWgCQRk9miduSW4raZdbjr1iRquXGmLt24\",\"148sAphN7RmmiGEYXz1dghgZTLz8kUphBrToPUgWQqNZXWuHbJE\",\"148sAphN7RmmiGEYXz1dghgZTLz8kUphBrToPUgWQqNZXWuHbJE\",\"146ZSvFEnjARrnGEZSKavQ7YmvXoweKKk6ib4Az2e4rx37PscXY\",\"13E4Z24HzqqvaXFhXgLsK3zPxyMF88C1M246TFNHnAJqg6KCtnT\",\"14a5sytsEVKBVhGsVz2rJDkxf1cs1L89zvtFjmPtmPzrQHXPVjF\",\"14a5sytsEVKBVhGsVz2rJDkxf1cs1L89zvtFjmPtmPzrQHXPVjF\",\"14a5sytsEVKBVhGsVz2rJDkxf1cs1L89zvtFjmPtmPzrQHXPVjF\"],\"score\":{\"__ndarray__\":\"R3L5D+m3zz8AAAAAAADQPwAAAAAAANA/AAAAAAAA0D8AAAAAAADQPwAAAAAAANA/ObTIdr6fej8AAAAAAADQPz81XrpJDO4/AAAAAAAA0D/yQc9m1efCP2IQWDm0yKY/pgpGJXUCwj8AAAAAAADQP26jAbwFEsQ/16NwPQrX4T8AAAAAAADQPwAAAAAAANA/AAAAAAAA0D8AAAAAAADQPxsN4C2QoLg/aLPqc7UVwz8AAAAAAADQPwAAAAAAANA/W9O84xQdwT+XkA96NqvSP/p+arx0k1g/AAAAAAAA0D8AAAAAAADQPwAAAAAAANA/idLe4AuTwT/XEvJBz2a1PwAAAAAAANA/AAAAAAAA0D88TtGRXP7jPwAAAAAAANA/AAAAAAAA0D8AAAAAAADQPynLEMe6uOk/PzVeukkM7D9F2PD0SlnePwAAAAAAANA/veMUHcnlvz8PC7WmecfBPwAAAAAAANA/AAAAAAAA0D8AAAAAAADQP6pgVFInoME/AAAAAAAA0D9Q/Bhz1xLCP921hHzQs7k/AAAAAAAA0D/MXUvIBz3nP9DVVuwvu+k/INJvXwfOmT+iRbbz/dTsP0hQ/Bhz18I/rK3YX3ZPfj+z6nO1Ffu7P3ZxGw3gLZA/Qs9m1edqwz8AAAAAAADQPxUdyeU/pJ8/AAAAAAAA0D9DrWnecYrSP/VKWYY41sU/AAAAAAAA0D++MJkqGJXqP9BE2PD0SsE/CRueXinLwD/ImLuWkA/CP0vIBz2bVdM/Z0Rpb/CFuT8AAAAAAADQP4C3QILix5g/f9k9eViopT99PzVeuknEPwAAAAAAANA/KjqSy39I2z990LNZ9bnCPwAAAAAAANA/RGlv8IXJxD88TtGRXP7lP8SxLm6jAeI/AAAAAAAA0D9CYOXQItvBP7n8h/Tb18E/V1uxv+yexD+zDHGsi9voP/kx5q4l5OE/AAAAAAAA0D/VeOkmMQjkP2TMXUvIB70/AAAAAAAA0D/4wmSqYFTCPwAAAAAAANA/AAAAAAAA0D8AAAAAAADQP5Jc/kP67e0/CKwcWmQ7vz8AAAAAAADQPwAAAAAAANA/INJvXwfOwT8vbqMBvAVSPwAAAAAAANA/yJi7lpAPwj8AAAAAAADQPwAAAAAAANA/AAAAAAAA0D8AAAAAAADQP4cW2c73U8M/6pWyDHGs7z+IhVrTvOPgPwAAAAAAANA/AAAAAAAA0D+utmJ/2T25PwAAAAAAANA/xf6ye/KwwD8AAAAAAADQP0p7gy9MpuQ/AAAAAAAA0D9GlPYGX5jsPzm0yHa+n8I/t9EA3gIJyj8AAAAAAADQP1HaG3xhMu0/9ihcj8L1wD8H8BZIUPzsP/Mf0m9fB+4/\",\"dtype\":\"float64\",\"shape\":[129]},\"score_update_height\":[14383,14383,14383,14383,14383,14383,14383,14383,14383,14383,14383,14383,14383,14383,14383,14383,14383,14383,14383,14383,14383,14383,14383,14383,14383,14383,14383,14383,14383,14383,14383,14383,14383,14383,14383,14383,14383,14383,14383,14383,14383,14383,14383,14383,14383,14383,14383,14383,14383,14383,14383,14383,14383,14383,14383,14383,14383,14383,14383,14383,14383,14383,14383,14383,14383,14383,14383,14383,14383,14383,14383,14383,14383,14383,14383,14383,14383,14383,14383,14383,14383,14383,14383,14383,14383,14383,14383,14383,14383,14383,14383,14383,14383,14383,14383,14383,14383,14383,14383,14383,14383,14383,14383,14383,14383,14383,14383,14383,14383,14383,14383,14383,14383,14383,14383,14383,14383,14383,14383,14383,14383,14383,14383,14383,14383,14383,14383,14383,14383],\"short_city\":[\"Austin\",\"Austin\",\"Austin\",\"Austin\",\"Tracy\",\"Vinalhaven\",\"Austin\",\"Saratoga\",\"Austin\",\"SF\",\"SF\",\"Austin\",\"SF\",\"Oakland\",\"Austin\",\"SF\",\"Austin\",\"Austin\",\"Austin\",\"Georgetown\",\"Austin\",\"Austin\",\"Austin\",\"Austin\",\"Austin\",\"Austin\",\"Austin\",\"Austin\",\"Austin\",\"Austin\",\"Austin\",\"Austin\",\"Austin\",\"Austin\",\"Austin\",\"Austin\",\"Bentonville\",\"Round Rock\",\"Austin\",\"Austin\",\"Austin\",\"Austin\",\"Austin\",\"Austin\",\"Austin\",\"Bentonville\",\"Austin\",\"Austin\",\"Sunset Valley\",\"Austin\",\"Austin\",\"Austin\",\"Austin\",\"Austin\",\"Austin\",\"Austin\",\"Austin\",\"Austin\",\"Austin\",\"Austin\",\"Austin\",\"Austin\",\"Austin\",\"Austin\",\"Austin\",\"Austin\",\"Austin\",\"Austin\",\"Austin\",\"Austin\",\"Austin\",\"Austin\",\"Austin\",\"San Antonio\",\"Austin\",\"Austin\",\"Austin\",\"Austin\",\"SF\",\"SF\",\"Novato\",\"SF\",\"Berkeley\",\"Berkeley\",\"San Rafael\",\"SF\",\"Austin\",\"SF\",\"Austin\",\"SF\",\"Austin\",\"Austin\",\"SF\",\"Cupertino\",\"Austin\",\"Napa\",\"Foster City\",\"Napa\",\"SF\",\"SF\",\"Davis\",\"Santa Clara\",\"Novato\",\"SF\",\"Novato\",\"SF\",\"SF\",\"Sacramento\",\"Sacramento\",\"Cupertino\",\"SF\",\"SF\",\"SF\",\"Hingham\",\"East Palo Alto\",\"Cupertino\",\"San Jose\",\"San Jose\",\"San Jose\",\"SF\",\"SF\",\"SF\",\"SF\",\"SF\",\"Berkeley\",\"SF\",\"Berkeley\",\"Berkeley\",\"Berkeley\"],\"short_country\":[\"US\",\"US\",\"US\",\"US\",\"US\",\"US\",\"US\",\"US\",\"US\",\"US\",\"US\",\"US\",\"US\",\"US\",\"US\",\"US\",\"US\",\"US\",\"US\",\"US\",\"US\",\"US\",\"US\",\"US\",\"US\",\"US\",\"US\",\"US\",\"US\",\"US\",\"US\",\"US\",\"US\",\"US\",\"US\",\"US\",\"US\",\"US\",\"US\",\"US\",\"US\",\"US\",\"US\",\"US\",\"US\",\"US\",\"US\",\"US\",\"US\",\"US\",\"US\",\"US\",\"US\",\"US\",\"US\",\"US\",\"US\",\"US\",\"US\",\"US\",\"US\",\"US\",\"US\",\"US\",\"US\",\"US\",\"US\",\"US\",\"US\",\"US\",\"US\",\"US\",\"US\",\"US\",\"US\",\"US\",\"US\",\"US\",\"US\",\"US\",\"US\",\"US\",\"US\",\"US\",\"US\",\"US\",\"US\",\"US\",\"US\",\"US\",\"US\",\"US\",\"US\",\"US\",\"US\",\"US\",\"US\",\"US\",\"US\",\"US\",\"US\",\"US\",\"US\",\"US\",\"US\",\"US\",\"US\",\"US\",\"US\",\"US\",\"US\",\"US\",\"US\",\"US\",\"US\",\"US\",\"US\",\"US\",\"US\",\"US\",\"US\",\"US\",\"US\",\"US\",\"US\",\"US\",\"US\",\"US\",\"US\"],\"short_state\":[\"TX\",\"TX\",\"TX\",\"TX\",\"CA\",\"ME\",\"TX\",\"CA\",\"TX\",\"CA\",\"CA\",\"TX\",\"CA\",\"CA\",\"TX\",\"CA\",\"TX\",\"TX\",\"TX\",\"TX\",\"TX\",\"TX\",\"TX\",\"TX\",\"TX\",\"TX\",\"TX\",\"TX\",\"TX\",\"TX\",\"TX\",\"TX\",\"TX\",\"TX\",\"TX\",\"TX\",\"AR\",\"TX\",\"TX\",\"TX\",\"TX\",\"TX\",\"TX\",\"TX\",\"TX\",\"AR\",\"TX\",\"TX\",\"TX\",\"TX\",\"TX\",\"TX\",\"TX\",\"TX\",\"TX\",\"TX\",\"TX\",\"TX\",\"TX\",\"TX\",\"TX\",\"TX\",\"TX\",\"TX\",\"TX\",\"TX\",\"TX\",\"TX\",\"TX\",\"TX\",\"TX\",\"TX\",\"TX\",\"TX\",\"TX\",\"TX\",\"TX\",\"TX\",\"CA\",\"CA\",\"CA\",\"CA\",\"CA\",\"CA\",\"CA\",\"CA\",\"TX\",\"CA\",\"TX\",\"CA\",\"TX\",\"TX\",\"CA\",\"CA\",\"TX\",\"CA\",\"CA\",\"CA\",\"CA\",\"CA\",\"CA\",\"CA\",\"CA\",\"CA\",\"CA\",\"CA\",\"CA\",\"CA\",\"CA\",\"CA\",\"CA\",\"CA\",\"CA\",\"MA\",\"CA\",\"CA\",\"CA\",\"CA\",\"CA\",\"CA\",\"CA\",\"CA\",\"CA\",\"CA\",\"CA\",\"CA\",\"CA\",\"CA\",\"CA\"],\"short_street\":[\"Chicon St\",\"Mesa Verde Dr\",\"Emmett Pkwy\",\"Larry Ln\",\"Remington Way\",\"Unknown\",\"W 2nd St\",\"De Havilland Ct\",\"Manchaca Rd\",\"Noriega St\",\"Lincoln Way\",\"Lorrain St\",\"Clayton St\",\"Ocean View Dr\",\"E 4th St\",\"Bryant St\",\"Norwalk Ln\",\"Wells Branch Pkwy\",\"Patricia Ct\",\"Winecup Way\",\"Rainey St\",\"Velasquez Dr\",\"Lakecliff Hills Ln\",\"Belfin Dr\",\"W 15th St\",\"W 5th St\",\"Nueces St\",\"Unnamed Road\",\"Betty Cook Dr\",\"Lowell Ln N\",\"Shoalwood Ave\",\"Forest Trail\",\"Yandall Dr\",\"Crystal Water Dr\",\"S Lamar Blvd\",\"Bennett Ave\",\"SW Boulder St\",\"Manjack Cay Dr\",\"Manchaca Rd\",\"Manchaca Rd\",\"Congress Ave\",\"Sales St\",\"W 6th St\",\"Holly St\",\"Manana St\",\"SW Boulder St\",\"Williams Ridge Way\",\"Durwood St\",\"Pillow Rd\",\"W Milton St\",\"Guadalupe St\",\"E Riverside Dr\",\"Unknown\",\"S Lamar Blvd\",\"W 4th St\",\"S Lamar Blvd\",\"Congress Ave\",\"Congress Ave\",\"E 2nd St\",\"Congress Ave\",\"Woodmont Ave\",\"S 1st St\",\"Congress Ave\",\"S Congress Ave\",\"Congress Ave\",\"Congress Ave\",\"Davis Ln\",\"E 6th St\",\"E 6th St\",\"W Milton St\",\"Graywood Cove\",\"Lawton Ave\",\"Maxwell Ln\",\"Gallant Forest\",\"W 5th St\",\"TX-343 Loop\",\"E 8th St\",\"W 35th St\",\"Sacramento St\",\"Stanyan St\",\"Malobar Dr\",\"King St\",\"Acton St\",\"Ashby Ave\",\"Las Colindas Rd\",\"Mission St\",\"Nueces St\",\"Gough St\",\"Congress Ave\",\"Filbert St\",\"Faro Dr\",\"Congress Ave\",\"Division St\",\"Colby Ave\",\"Rainey St\",\"Tade Ct\",\"Widgeon St\",\"Agile Street\",\"Octavia St\",\"Haight St\",\"Quail St\",\"Alviso St\",\"Andale Ave\",\"Federal St\",\"Andale Ave\",\"Mission St\",\"3rd St\",\"11th St\",\"O St\",\"Bret Ave\",\"Laurel St\",\"Collins St\",\"Manzanita Ave\",\"Thaxter St\",\"E Okeefe St\",\"Pineville Ave\",\"Rainbow Dr\",\"Unknown\",\"Arlington Ln\",\"Montgomery St\",\"Capistrano Ave\",\"Octavia St\",\"20th St\",\"Collingwood St\",\"Cornell Ave\",\"Harrison St\",\"Ashby Ave\",\"Ashby Ave\",\"Carrison St\"]},\"selected\":{\"id\":\"1161\",\"type\":\"Selection\"},\"selection_policy\":{\"id\":\"1162\",\"type\":\"UnionRenderers\"}},\"id\":\"1105\",\"type\":\"ColumnDataSource\"},{\"attributes\":{},\"id\":\"1126\",\"type\":\"PanTool\"},{\"attributes\":{},\"id\":\"1127\",\"type\":\"WheelZoomTool\"},{\"attributes\":{},\"id\":\"1129\",\"type\":\"SaveTool\"},{\"attributes\":{},\"id\":\"1162\",\"type\":\"UnionRenderers\"},{\"attributes\":{},\"id\":\"1118\",\"type\":\"CategoricalTicker\"},{\"attributes\":{},\"id\":\"1158\",\"type\":\"CategoricalTickFormatter\"},{\"attributes\":{\"active_drag\":\"auto\",\"active_inspect\":\"auto\",\"active_multi\":null,\"active_scroll\":\"auto\",\"active_tap\":\"auto\",\"tools\":[{\"id\":\"1126\",\"type\":\"PanTool\"},{\"id\":\"1127\",\"type\":\"WheelZoomTool\"},{\"id\":\"1128\",\"type\":\"BoxZoomTool\"},{\"id\":\"1129\",\"type\":\"SaveTool\"},{\"id\":\"1130\",\"type\":\"ResetTool\"},{\"id\":\"1131\",\"type\":\"HelpTool\"},{\"id\":\"1144\",\"type\":\"HoverTool\"}]},\"id\":\"1132\",\"type\":\"Toolbar\"},{\"attributes\":{\"callback\":null},\"id\":\"1111\",\"type\":\"Range1d\"},{\"attributes\":{\"text\":\"Hotspot Scores\"},\"id\":\"1107\",\"type\":\"Title\"},{\"attributes\":{},\"id\":\"1156\",\"type\":\"BasicTickFormatter\"},{\"attributes\":{},\"id\":\"1115\",\"type\":\"LinearScale\"},{\"attributes\":{\"source\":{\"id\":\"1105\",\"type\":\"ColumnDataSource\"}},\"id\":\"1143\",\"type\":\"CDSView\"},{\"attributes\":{\"callback\":null,\"factors\":[\"strong-tortilla-marmot\",\"savory-juniper-whale\",\"future-punch-ant\",\"clever-basil-moose\",\"tall-watermelon-dog\",\"cool-mossy-horse\",\"obedient-mustard-sheep\",\"flat-lilac-shrimp\",\"beautiful-onyx-platypus\",\"daring-amethyst-frog\",\"bitter-bronze-okapi\",\"tame-wooden-anteater\",\"spicy-seafoam-tadpole\",\"howling-gauze-guppy\",\"brave-lemon-ant\",\"acidic-red-mouse\",\"cheesy-fuzzy-shrimp\",\"recumbent-goldenrod-griffin\",\"howling-violet-millipede\",\"radiant-sable-swallow\",\"sneaky-champagne-pig\",\"damaged-concrete-walrus\",\"long-rosewood-boar\",\"itchy-flint-puma\",\"dazzling-bone-zebra\",\"genuine-powder-halibut\",\"bent-honey-starfish\",\"itchy-plastic-parakeet\",\"soaring-iris-beetle\",\"ripe-goldenrod-cheetah\",\"melodic-amber-hawk\",\"dizzy-strawberry-cricket\",\"savory-chili-terrier\",\"noisy-laurel-starling\",\"flat-magenta-chipmunk\",\"dandy-cobalt-lemur\",\"thankful-chili-millipede\",\"basic-ginger-oyster\",\"melodic-pearl-chameleon\",\"bubbly-mandarin-panther\",\"tiny-vermilion-platypus\",\"teeny-cotton-hawk\",\"stale-black-opossum\",\"happy-strawberry-lion\",\"orbiting-mint-carp\",\"sparkly-sable-sparrow\",\"scrawny-obsidian-halibut\",\"refined-bubblegum-poodle\",\"noisy-onyx-peacock\",\"young-sage-rook\",\"muscular-lavender-owl\",\"zany-chambray-camel\",\"dizzy-opaque-wolf\",\"clean-nylon-okapi\",\"dry-pebble-moose\",\"shambolic-rusty-cyborg\",\"proud-bubblegum-opossum\",\"agreeable-umber-python\",\"elegant-hazel-starling\",\"loud-juniper-boar\",\"bumpy-boysenberry-manatee\",\"blurry-seafoam-ape\",\"atomic-fuzzy-dove\",\"orbiting-cream-starfish\",\"thankful-seafoam-ant\",\"sneaky-mulberry-parrot\",\"merry-lemon-orca\",\"teeny-cider-troll\",\"stale-menthol-piranha\",\"polished-pearl-anteater\",\"round-white-sidewinder\",\"micro-clear-griffin\",\"creamy-linen-octopus\",\"spare-turquoise-otter\",\"delightful-aqua-blackbird\",\"cheesy-wooden-bird\",\"clever-pickle-sparrow\",\"spare-porcelain-penguin\",\"fierce-onyx-spider\",\"sour-honey-llama\",\"agreeable-walnut-weasel\",\"magic-rainbow-wasp\",\"fit-iron-monkey\",\"micro-tiger-tuna\",\"tall-blonde-condor\",\"generous-mossy-goat\",\"melted-sable-turkey\",\"joyful-golden-chameleon\",\"cuddly-sapphire-narwhal\",\"special-graphite-cat\",\"main-mahogany-crane\",\"beautiful-burgundy-rat\",\"rare-burlap-python\",\"joyous-beige-moose\",\"high-frost-blackbird\",\"acidic-lime-haddock\",\"precise-tangerine-rat\",\"fancy-glossy-rat\",\"delightful-stone-beetle\",\"boxy-holographic-rook\",\"decent-tortilla-bee\",\"custom-walnut-monkey\",\"immense-eggplant-stallion\",\"rapid-corduroy-halibut\",\"curly-berry-coyote\",\"precise-orange-peacock\",\"mythical-jade-tarantula\",\"rhythmic-shadow-spider\",\"fierce-turquoise-anteater\",\"main-pistachio-pangolin\",\"slow-burgundy-mandrill\",\"magic-carob-quail\",\"harsh-concrete-lizard\",\"dandy-champagne-pike\",\"skinny-fuchsia-mink\",\"sweet-pebble-aphid\",\"funny-jade-bull\",\"breezy-coal-deer\",\"clever-tan-panther\",\"dandy-sangria-okapi\",\"fresh-golden-wasp\",\"joyous-burgundy-chicken\",\"melted-iron-seal\",\"immense-mercurial-crocodile\",\"sparkly-aqua-wren\",\"mini-currant-lizard\",\"prehistoric-mossy-snail\",\"mythical-tin-hawk\",\"mean-alabaster-piranha\"]},\"id\":\"1109\",\"type\":\"FactorRange\"},{\"attributes\":{},\"id\":\"1113\",\"type\":\"CategoricalScale\"},{\"attributes\":{\"fill_color\":{\"value\":\"#1f77b4\"},\"line_color\":{\"value\":\"#1f77b4\"},\"top\":{\"field\":\"score\"},\"width\":{\"value\":0.8},\"x\":{\"field\":\"name\"}},\"id\":\"1140\",\"type\":\"VBar\"},{\"attributes\":{\"fill_alpha\":{\"value\":0.1},\"fill_color\":{\"value\":\"#1f77b4\"},\"line_alpha\":{\"value\":0.1},\"line_color\":{\"value\":\"#1f77b4\"},\"top\":{\"field\":\"score\"},\"width\":{\"value\":0.8},\"x\":{\"field\":\"name\"}},\"id\":\"1141\",\"type\":\"VBar\"},{\"attributes\":{\"bottom_units\":\"screen\",\"fill_alpha\":{\"value\":0.5},\"fill_color\":{\"value\":\"lightgrey\"},\"left_units\":\"screen\",\"level\":\"overlay\",\"line_alpha\":{\"value\":1.0},\"line_color\":{\"value\":\"black\"},\"line_dash\":[4,4],\"line_width\":{\"value\":2},\"render_mode\":\"css\",\"right_units\":\"screen\",\"top_units\":\"screen\"},\"id\":\"1160\",\"type\":\"BoxAnnotation\"},{\"attributes\":{\"axis_label\":\"Name\",\"formatter\":{\"id\":\"1158\",\"type\":\"CategoricalTickFormatter\"},\"major_label_orientation\":0.7853981633974483,\"major_label_text_font_size\":{\"value\":\"4pt\"},\"ticker\":{\"id\":\"1118\",\"type\":\"CategoricalTicker\"}},\"id\":\"1117\",\"type\":\"CategoricalAxis\"},{\"attributes\":{},\"id\":\"1122\",\"type\":\"BasicTicker\"},{\"attributes\":{\"axis_label\":\"Score\",\"formatter\":{\"id\":\"1156\",\"type\":\"BasicTickFormatter\"},\"ticker\":{\"id\":\"1122\",\"type\":\"BasicTicker\"}},\"id\":\"1121\",\"type\":\"LinearAxis\"},{\"attributes\":{},\"id\":\"1161\",\"type\":\"Selection\"},{\"attributes\":{\"ticker\":{\"id\":\"1118\",\"type\":\"CategoricalTicker\"}},\"id\":\"1120\",\"type\":\"Grid\"},{\"attributes\":{},\"id\":\"1131\",\"type\":\"HelpTool\"},{\"attributes\":{},\"id\":\"1130\",\"type\":\"ResetTool\"},{\"attributes\":{\"callback\":null,\"tooltips\":[[\"name\",\"@name\"],[\"score\",\"@score\"]]},\"id\":\"1144\",\"type\":\"HoverTool\"},{\"attributes\":{\"overlay\":{\"id\":\"1160\",\"type\":\"BoxAnnotation\"}},\"id\":\"1128\",\"type\":\"BoxZoomTool\"},{\"attributes\":{\"dimension\":1,\"ticker\":{\"id\":\"1122\",\"type\":\"BasicTicker\"}},\"id\":\"1125\",\"type\":\"Grid\"}],\"root_ids\":[\"1106\"]},\"title\":\"Bokeh Application\",\"version\":\"1.3.4\"}};\n",
       "  var render_items = [{\"docid\":\"33ce494a-2e91-42ab-9a58-90cd24300301\",\"roots\":{\"1106\":\"213fd15b-0744-4807-9d79-da5024b75c9d\"}}];\n",
       "  root.Bokeh.embed.embed_items_notebook(docs_json, render_items);\n",
       "\n",
       "  }\n",
       "  if (root.Bokeh !== undefined) {\n",
       "    embed_document(root);\n",
       "  } else {\n",
       "    var attempts = 0;\n",
       "    var timer = setInterval(function(root) {\n",
       "      if (root.Bokeh !== undefined) {\n",
       "        embed_document(root);\n",
       "        clearInterval(timer);\n",
       "      }\n",
       "      attempts++;\n",
       "      if (attempts > 100) {\n",
       "        console.log(\"Bokeh: ERROR: Unable to run BokehJS code because BokehJS library is missing\");\n",
       "        clearInterval(timer);\n",
       "      }\n",
       "    }, 10, root)\n",
       "  }\n",
       "})(window);"
      ],
      "application/vnd.bokehjs_exec.v0+json": ""
     },
     "metadata": {
      "application/vnd.bokehjs_exec.v0+json": {
       "id": "1106"
      }
     },
     "output_type": "display_data"
    }
   ],
   "source": [
    "source = ColumnDataSource(df)\n",
    "# p = figure()\n",
    "p = figure(x_range=df['name'], y_range=[0,1], title=\"Hotspot Scores\")\n",
    "\n",
    "p.vbar(x='name', top='score', width=0.8, source=source)\n",
    "hover = HoverTool(tooltips=[('name', '@name'), ('score', '@score')])\n",
    "p.width = 900\n",
    "p.add_tools(hover)\n",
    "p.xaxis.axis_label = \"Name\"\n",
    "p.yaxis.axis_label = \"Score\"\n",
    "p.xaxis.major_label_text_font_size = \"4pt\"\n",
    "p.xaxis.major_label_orientation = math.pi/4\n",
    "\n",
    "show(p)"
   ]
  },
  {
   "cell_type": "markdown",
   "metadata": {},
   "source": [
    "### Account stats"
   ]
  },
  {
   "cell_type": "code",
   "execution_count": 15,
   "metadata": {},
   "outputs": [],
   "source": [
    "accounts = get_accounts(API)"
   ]
  },
  {
   "cell_type": "code",
   "execution_count": 16,
   "metadata": {},
   "outputs": [],
   "source": [
    "df = pd.DataFrame(accounts)"
   ]
  },
  {
   "cell_type": "code",
   "execution_count": 17,
   "metadata": {},
   "outputs": [
    {
     "name": "stdout",
     "output_type": "stream",
     "text": [
      "Top 10 account balances:\n"
     ]
    },
    {
     "data": {
      "text/html": [
       "<div>\n",
       "<style scoped>\n",
       "    .dataframe tbody tr th:only-of-type {\n",
       "        vertical-align: middle;\n",
       "    }\n",
       "\n",
       "    .dataframe tbody tr th {\n",
       "        vertical-align: top;\n",
       "    }\n",
       "\n",
       "    .dataframe thead th {\n",
       "        text-align: right;\n",
       "    }\n",
       "</style>\n",
       "<table border=\"1\" class=\"dataframe\">\n",
       "  <thead>\n",
       "    <tr style=\"text-align: right;\">\n",
       "      <th></th>\n",
       "      <th>address</th>\n",
       "      <th>balance</th>\n",
       "    </tr>\n",
       "  </thead>\n",
       "  <tbody>\n",
       "    <tr>\n",
       "      <th>36</th>\n",
       "      <td>13jL4pTLq4JQBwDoH1ZBX3VPchmeTZxQSGi4cnyXXuzPPoKxcd5</td>\n",
       "      <td>4405066432608</td>\n",
       "    </tr>\n",
       "    <tr>\n",
       "      <th>67</th>\n",
       "      <td>1398hLeHESZHE5jVtaLAV5fdg2vrUeZEs2B92t7TzeQTtugr8dL</td>\n",
       "      <td>3063111932691</td>\n",
       "    </tr>\n",
       "    <tr>\n",
       "      <th>95</th>\n",
       "      <td>14a5sytsEVKBVhGsVz2rJDkxf1cs1L89zvtFjmPtmPzrQHXPVjF</td>\n",
       "      <td>2517340037647</td>\n",
       "    </tr>\n",
       "    <tr>\n",
       "      <th>80</th>\n",
       "      <td>14GWyFj9FjLHzoN3aX7Tq7PL6fEg4dfWPY8CrK8b9S5ZrcKDz6S</td>\n",
       "      <td>1449883323242</td>\n",
       "    </tr>\n",
       "    <tr>\n",
       "      <th>83</th>\n",
       "      <td>12yyntxFfPhqXDKuEvmAWABNTRnXtYmcgS33WN4tk5YtyaBLDXo</td>\n",
       "      <td>1448084252884</td>\n",
       "    </tr>\n",
       "    <tr>\n",
       "      <th>47</th>\n",
       "      <td>13o9KUMcmEdhtjXRaJ5AANHLZWBoGcTmF4MFw3MjQbubjR57jXW</td>\n",
       "      <td>1320953771510</td>\n",
       "    </tr>\n",
       "    <tr>\n",
       "      <th>79</th>\n",
       "      <td>12z4nUiayZnbW46azcegBBB9yGkchFb1Zm7EPuh6eV1r2HT1NgC</td>\n",
       "      <td>883905831669</td>\n",
       "    </tr>\n",
       "    <tr>\n",
       "      <th>73</th>\n",
       "      <td>14i6nM1RbWbjQFg5NFbZS3aZJgpUGZUx5toarz6jZLPpNAb95Tq</td>\n",
       "      <td>831384743562</td>\n",
       "    </tr>\n",
       "    <tr>\n",
       "      <th>87</th>\n",
       "      <td>14UgUhAPq53iR8vfde6sU4vLPWRe6kZ3ioV7xaVb8hr3oafaok6</td>\n",
       "      <td>828504671852</td>\n",
       "    </tr>\n",
       "    <tr>\n",
       "      <th>76</th>\n",
       "      <td>135bB6B7gGrsdPNcFwvcn12KPjTktSNZvmVbvSBKubCtEgxkpPJ</td>\n",
       "      <td>804587266385</td>\n",
       "    </tr>\n",
       "  </tbody>\n",
       "</table>\n",
       "</div>"
      ],
      "text/plain": [
       "                                                address        balance\n",
       "36  13jL4pTLq4JQBwDoH1ZBX3VPchmeTZxQSGi4cnyXXuzPPoKxcd5  4405066432608\n",
       "67  1398hLeHESZHE5jVtaLAV5fdg2vrUeZEs2B92t7TzeQTtugr8dL  3063111932691\n",
       "95  14a5sytsEVKBVhGsVz2rJDkxf1cs1L89zvtFjmPtmPzrQHXPVjF  2517340037647\n",
       "80  14GWyFj9FjLHzoN3aX7Tq7PL6fEg4dfWPY8CrK8b9S5ZrcKDz6S  1449883323242\n",
       "83  12yyntxFfPhqXDKuEvmAWABNTRnXtYmcgS33WN4tk5YtyaBLDXo  1448084252884\n",
       "47  13o9KUMcmEdhtjXRaJ5AANHLZWBoGcTmF4MFw3MjQbubjR57jXW  1320953771510\n",
       "79  12z4nUiayZnbW46azcegBBB9yGkchFb1Zm7EPuh6eV1r2HT1NgC  883905831669 \n",
       "73  14i6nM1RbWbjQFg5NFbZS3aZJgpUGZUx5toarz6jZLPpNAb95Tq  831384743562 \n",
       "87  14UgUhAPq53iR8vfde6sU4vLPWRe6kZ3ioV7xaVb8hr3oafaok6  828504671852 \n",
       "76  135bB6B7gGrsdPNcFwvcn12KPjTktSNZvmVbvSBKubCtEgxkpPJ  804587266385 "
      ]
     },
     "execution_count": 17,
     "metadata": {},
     "output_type": "execute_result"
    }
   ],
   "source": [
    "print(f'Top {TOP} account balances:')\n",
    "df.sort_values('balance', ascending=False)[['address', 'balance']].head(TOP)"
   ]
  },
  {
   "cell_type": "markdown",
   "metadata": {},
   "source": [
    "### Challenge Stats"
   ]
  },
  {
   "cell_type": "code",
   "execution_count": 18,
   "metadata": {},
   "outputs": [],
   "source": [
    "challenges = get_challenges(API, NUM_CHALLENGES)"
   ]
  },
  {
   "cell_type": "code",
   "execution_count": 19,
   "metadata": {},
   "outputs": [],
   "source": [
    "df = pd.DataFrame(challenges)"
   ]
  },
  {
   "cell_type": "code",
   "execution_count": 20,
   "metadata": {},
   "outputs": [
    {
     "name": "stdout",
     "output_type": "stream",
     "text": [
      "Total Successful challenges past 100 challenges: 19\n"
     ]
    }
   ],
   "source": [
    "print(f\"Total Successful challenges past {NUM_CHALLENGES} challenges: {sum(df['success'] == 1)}\")"
   ]
  },
  {
   "cell_type": "code",
   "execution_count": 21,
   "metadata": {},
   "outputs": [
    {
     "name": "stdout",
     "output_type": "stream",
     "text": [
      "Entirely dud challenges since past 100 challenges: 23\n"
     ]
    }
   ],
   "source": [
    "print(f\"Entirely dud challenges since past {NUM_CHALLENGES} challenges: {sum(df['dud'] == 1)}\")"
   ]
  }
 ],
 "metadata": {
  "kernelspec": {
   "display_name": "Python 3",
   "language": "python",
   "name": "python3"
  },
  "language_info": {
   "codemirror_mode": {
    "name": "ipython",
    "version": 3
   },
   "file_extension": ".py",
   "mimetype": "text/x-python",
   "name": "python",
   "nbconvert_exporter": "python",
   "pygments_lexer": "ipython3",
   "version": "3.7.3"
  }
 },
 "nbformat": 4,
 "nbformat_minor": 2
}
